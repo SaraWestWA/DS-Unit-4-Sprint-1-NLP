{
 "cells": [
  {
   "cell_type": "markdown",
   "metadata": {},
   "source": [
    "<img align=\"left\" src=\"https://lever-client-logos.s3.amazonaws.com/864372b1-534c-480e-acd5-9711f850815c-1524247202159.png\" width=200>\n",
    "<br></br>\n",
    "<br></br>\n",
    "\n",
    "# Natural Language Processing (NLP)\n",
    "## *Data Science Unit 4 Sprint 1 Assignment 1*\n",
    "\n",
    "Your goal in this assignment: find the attributes of the best & worst coffee shops in the dataset. The text is fairly raw: dates in the review, extra words in the `star_rating` column, etc. You'll probably want to clean that stuff up for a better analysis. \n",
    "\n",
    "Analyze the corpus of text using text visualizations of token frequency. Try cleaning the data as much as possible. Try the following techniques: \n",
    "- Lemmatization\n",
    "- Custom stopword removal\n",
    "\n",
    "Keep in mind the attributes of good tokens. Once you have a solid baseline, layer in the star rating in your visualization(s). Key part of this assignment - produce a write-up of the attributes of the best and worst coffee shops. Based on your analysis, what makes the best the best and the worst the worst. Use graphs and numbesr from your analysis to support your conclusions. There should be plenty of markdown cells! :coffee:"
   ]
  },
  {
   "cell_type": "code",
   "execution_count": 2,
   "metadata": {},
   "outputs": [],
   "source": [
    "# from IPython.display import YouTubeVideo\n",
    "\n",
    "# YouTubeVideo('Jml7NVYm8cs')"
   ]
  },
  {
   "cell_type": "code",
   "execution_count": 3,
   "metadata": {},
   "outputs": [
    {
     "output_type": "execute_result",
     "data": {
      "text/plain": [
       "'c:\\\\Users\\\\whats\\\\DS_Unit_4\\\\DS-Unit-4-Sprint-1-NLP\\\\module1-text-data'"
      ]
     },
     "metadata": {},
     "execution_count": 3
    }
   ],
   "source": [
    "%pwd"
   ]
  },
  {
   "cell_type": "code",
   "execution_count": 4,
   "metadata": {},
   "outputs": [],
   "source": [
    "# Import Required Libariries\n",
    "import pandas as pd\n",
    "from collections import Counter\n",
    "\n",
    "# Plotting\n",
    "import squarify\n",
    "import matplotlib.pyplot as plt\n",
    "import seaborn as sns\n",
    "\n",
    "# NLP Libraries\n",
    "import re\n",
    "from nltk.stem import PorterStemmer\n",
    "import spacy\n",
    "from spacy.tokenizer import Tokenizer"
   ]
  },
  {
   "cell_type": "code",
   "execution_count": 5,
   "metadata": {},
   "outputs": [
    {
     "output_type": "execute_result",
     "data": {
      "text/plain": [
       "             coffee_shop_name  \\\n",
       "528     Apanas Coffee & Beer    \n",
       "2876              Dolce Neve    \n",
       "4831  Venezia Italian Gelato    \n",
       "7011          Tuscany At 360    \n",
       "6142            Epoch Coffee    \n",
       "606     Apanas Coffee & Beer    \n",
       "2216       Flat Track Coffee    \n",
       "1247      Houndstooth Coffee    \n",
       "2180       Flat Track Coffee    \n",
       "2312             Mary’s Cafe    \n",
       "1830            Epoch Coffee    \n",
       "3313             Jo’s Coffee    \n",
       "4614       Sorrento’s Coffee    \n",
       "5683          Trianon Coffee    \n",
       "3317             Jo’s Coffee    \n",
       "\n",
       "                                       full_review_text        star_rating  \n",
       "528    10/12/2016 Apanas serves some of the best lat...   5.0 star rating   \n",
       "2876   11/28/2014 11 check-ins Listed in Treat yo se...   5.0 star rating   \n",
       "4831   7/3/2016 1 check-in Great service and prices....   5.0 star rating   \n",
       "7011   1/26/2015 Updated review Bad experience #141,...   1.0 star rating   \n",
       "6142   7/20/2015 Updated review My opinion of this c...   2.0 star rating   \n",
       "606    1/17/2016 Hands down the best coffee I've eve...   5.0 star rating   \n",
       "2216   10/20/2014 1 check-in Great place for coffee ...   4.0 star rating   \n",
       "1247   9/9/2014 Some of the reviews written for Houn...   5.0 star rating   \n",
       "2180   11/24/2015 2 check-ins So... this is pretty m...   5.0 star rating   \n",
       "2312   4/16/2016 2 check-ins Delicious waffles,  bre...   4.0 star rating   \n",
       "1830   8/1/2015 1 check-in I was visiting a friend i...   4.0 star rating   \n",
       "3313   11/8/2015 1 check-in Listed in Keep Austin De...   4.0 star rating   \n",
       "4614   5/15/2009 Updated review Ok, i just went agai...   5.0 star rating   \n",
       "5683   10/18/2014 1 check-in I work nearby and this ...   3.0 star rating   \n",
       "3317   7/26/2016 My go-to coffee place in South Aust...   5.0 star rating   "
      ],
      "text/html": "<div>\n<style scoped>\n    .dataframe tbody tr th:only-of-type {\n        vertical-align: middle;\n    }\n\n    .dataframe tbody tr th {\n        vertical-align: top;\n    }\n\n    .dataframe thead th {\n        text-align: right;\n    }\n</style>\n<table border=\"1\" class=\"dataframe\">\n  <thead>\n    <tr style=\"text-align: right;\">\n      <th></th>\n      <th>coffee_shop_name</th>\n      <th>full_review_text</th>\n      <th>star_rating</th>\n    </tr>\n  </thead>\n  <tbody>\n    <tr>\n      <th>528</th>\n      <td>Apanas Coffee &amp; Beer</td>\n      <td>10/12/2016 Apanas serves some of the best lat...</td>\n      <td>5.0 star rating</td>\n    </tr>\n    <tr>\n      <th>2876</th>\n      <td>Dolce Neve</td>\n      <td>11/28/2014 11 check-ins Listed in Treat yo se...</td>\n      <td>5.0 star rating</td>\n    </tr>\n    <tr>\n      <th>4831</th>\n      <td>Venezia Italian Gelato</td>\n      <td>7/3/2016 1 check-in Great service and prices....</td>\n      <td>5.0 star rating</td>\n    </tr>\n    <tr>\n      <th>7011</th>\n      <td>Tuscany At 360</td>\n      <td>1/26/2015 Updated review Bad experience #141,...</td>\n      <td>1.0 star rating</td>\n    </tr>\n    <tr>\n      <th>6142</th>\n      <td>Epoch Coffee</td>\n      <td>7/20/2015 Updated review My opinion of this c...</td>\n      <td>2.0 star rating</td>\n    </tr>\n    <tr>\n      <th>606</th>\n      <td>Apanas Coffee &amp; Beer</td>\n      <td>1/17/2016 Hands down the best coffee I've eve...</td>\n      <td>5.0 star rating</td>\n    </tr>\n    <tr>\n      <th>2216</th>\n      <td>Flat Track Coffee</td>\n      <td>10/20/2014 1 check-in Great place for coffee ...</td>\n      <td>4.0 star rating</td>\n    </tr>\n    <tr>\n      <th>1247</th>\n      <td>Houndstooth Coffee</td>\n      <td>9/9/2014 Some of the reviews written for Houn...</td>\n      <td>5.0 star rating</td>\n    </tr>\n    <tr>\n      <th>2180</th>\n      <td>Flat Track Coffee</td>\n      <td>11/24/2015 2 check-ins So... this is pretty m...</td>\n      <td>5.0 star rating</td>\n    </tr>\n    <tr>\n      <th>2312</th>\n      <td>Mary’s Cafe</td>\n      <td>4/16/2016 2 check-ins Delicious waffles,  bre...</td>\n      <td>4.0 star rating</td>\n    </tr>\n    <tr>\n      <th>1830</th>\n      <td>Epoch Coffee</td>\n      <td>8/1/2015 1 check-in I was visiting a friend i...</td>\n      <td>4.0 star rating</td>\n    </tr>\n    <tr>\n      <th>3313</th>\n      <td>Jo’s Coffee</td>\n      <td>11/8/2015 1 check-in Listed in Keep Austin De...</td>\n      <td>4.0 star rating</td>\n    </tr>\n    <tr>\n      <th>4614</th>\n      <td>Sorrento’s Coffee</td>\n      <td>5/15/2009 Updated review Ok, i just went agai...</td>\n      <td>5.0 star rating</td>\n    </tr>\n    <tr>\n      <th>5683</th>\n      <td>Trianon Coffee</td>\n      <td>10/18/2014 1 check-in I work nearby and this ...</td>\n      <td>3.0 star rating</td>\n    </tr>\n    <tr>\n      <th>3317</th>\n      <td>Jo’s Coffee</td>\n      <td>7/26/2016 My go-to coffee place in South Aust...</td>\n      <td>5.0 star rating</td>\n    </tr>\n  </tbody>\n</table>\n</div>"
     },
     "metadata": {},
     "execution_count": 5
    }
   ],
   "source": [
    "import pandas as pd\n",
    "\n",
    "url = \"https://raw.githubusercontent.com/LambdaSchool/DS-Unit-4-Sprint-1-NLP/main/module1-text-data/data/yelp_coffeeshop_review_data.csv\"\n",
    "\n",
    "\n",
    "shops = pd.read_csv(url)\n",
    "shops.sample(15)"
   ]
  },
  {
   "cell_type": "code",
   "execution_count": 6,
   "metadata": {},
   "outputs": [
    {
     "output_type": "execute_result",
     "data": {
      "text/plain": [
       "(7616, 3)"
      ]
     },
     "metadata": {},
     "execution_count": 6
    }
   ],
   "source": [
    "# Start here\n",
    "shops.shape\n"
   ]
  },
  {
   "cell_type": "code",
   "execution_count": 7,
   "metadata": {},
   "outputs": [
    {
     "output_type": "execute_result",
     "data": {
      "text/plain": [
       "['coffee_shop_name', 'full_review_text', 'star_rating']"
      ]
     },
     "metadata": {},
     "execution_count": 7
    }
   ],
   "source": [
    "list(shops.columns)"
   ]
  },
  {
   "cell_type": "code",
   "execution_count": 8,
   "metadata": {},
   "outputs": [
    {
     "output_type": "execute_result",
     "data": {
      "text/plain": [
       " 5.0 star rating     3780\n",
       " 4.0 star rating     2360\n",
       " 3.0 star rating      738\n",
       " 2.0 star rating      460\n",
       " 1.0 star rating      278\n",
       "Name: star_rating, dtype: int64"
      ]
     },
     "metadata": {},
     "execution_count": 8
    }
   ],
   "source": [
    "shops['star_rating'].value_counts()"
   ]
  },
  {
   "cell_type": "code",
   "execution_count": 9,
   "metadata": {},
   "outputs": [
    {
     "output_type": "execute_result",
     "data": {
      "text/plain": [
       "Epoch Coffee                            400\n",
       "Halcyon                                 300\n",
       "The Factory - Cafe With a Soul          244\n",
       "Houndstooth Coffee                      200\n",
       "Venezia Italian Gelato                  200\n",
       "                                       ... \n",
       "Lucky Lab Coffee                         25\n",
       "Sister Coffee                            17\n",
       "Kowabunga Coffee                         16\n",
       "The Marvelous Vintage Tea Party Co.      10\n",
       "Lola Savannah Coffee Downtown             4\n",
       "Name: coffee_shop_name, Length: 79, dtype: int64"
      ]
     },
     "metadata": {},
     "execution_count": 9
    }
   ],
   "source": [
    "shops['coffee_shop_name'].value_counts()"
   ]
  },
  {
   "cell_type": "code",
   "execution_count": 10,
   "metadata": {},
   "outputs": [
    {
     "output_type": "execute_result",
     "data": {
      "text/plain": [
       "coffee_shop_name    0\n",
       "full_review_text    0\n",
       "star_rating         0\n",
       "dtype: int64"
      ]
     },
     "metadata": {},
     "execution_count": 10
    }
   ],
   "source": [
    "shops.isnull().sum()"
   ]
  },
  {
   "cell_type": "code",
   "execution_count": 11,
   "metadata": {},
   "outputs": [
    {
     "output_type": "execute_result",
     "data": {
      "text/plain": [
       "                  coffee_shop_name  \\\n",
       "0  The Factory - Cafe With a Soul    \n",
       "1  The Factory - Cafe With a Soul    \n",
       "2  The Factory - Cafe With a Soul    \n",
       "3  The Factory - Cafe With a Soul    \n",
       "4  The Factory - Cafe With a Soul    \n",
       "\n",
       "                                    full_review_text        star_rating  \\\n",
       "0   11/25/2016 1 check-in Love love loved the atm...   5.0 star rating    \n",
       "1   12/2/2016 Listed in Date Night: Austin, Ambia...   4.0 star rating    \n",
       "2   11/30/2016 1 check-in Listed in Brunch Spots ...   4.0 star rating    \n",
       "3   11/25/2016 Very cool decor! Good drinks Nice ...   2.0 star rating    \n",
       "4   12/3/2016 1 check-in They are located within ...   4.0 star rating    \n",
       "\n",
       "         date                                             review rating  \n",
       "0  11/25/2016  1 check-in Love love loved the atmosphere! Eve...    5.0  \n",
       "1   12/2/2016  Listed in Date Night: Austin, Ambiance in Aust...    4.0  \n",
       "2  11/30/2016  1 check-in Listed in Brunch Spots I loved the ...    4.0  \n",
       "3  11/25/2016  Very cool decor! Good drinks Nice seating  How...    2.0  \n",
       "4   12/3/2016  1 check-in They are located within the Northcr...    4.0  "
      ],
      "text/html": "<div>\n<style scoped>\n    .dataframe tbody tr th:only-of-type {\n        vertical-align: middle;\n    }\n\n    .dataframe tbody tr th {\n        vertical-align: top;\n    }\n\n    .dataframe thead th {\n        text-align: right;\n    }\n</style>\n<table border=\"1\" class=\"dataframe\">\n  <thead>\n    <tr style=\"text-align: right;\">\n      <th></th>\n      <th>coffee_shop_name</th>\n      <th>full_review_text</th>\n      <th>star_rating</th>\n      <th>date</th>\n      <th>review</th>\n      <th>rating</th>\n    </tr>\n  </thead>\n  <tbody>\n    <tr>\n      <th>0</th>\n      <td>The Factory - Cafe With a Soul</td>\n      <td>11/25/2016 1 check-in Love love loved the atm...</td>\n      <td>5.0 star rating</td>\n      <td>11/25/2016</td>\n      <td>1 check-in Love love loved the atmosphere! Eve...</td>\n      <td>5.0</td>\n    </tr>\n    <tr>\n      <th>1</th>\n      <td>The Factory - Cafe With a Soul</td>\n      <td>12/2/2016 Listed in Date Night: Austin, Ambia...</td>\n      <td>4.0 star rating</td>\n      <td>12/2/2016</td>\n      <td>Listed in Date Night: Austin, Ambiance in Aust...</td>\n      <td>4.0</td>\n    </tr>\n    <tr>\n      <th>2</th>\n      <td>The Factory - Cafe With a Soul</td>\n      <td>11/30/2016 1 check-in Listed in Brunch Spots ...</td>\n      <td>4.0 star rating</td>\n      <td>11/30/2016</td>\n      <td>1 check-in Listed in Brunch Spots I loved the ...</td>\n      <td>4.0</td>\n    </tr>\n    <tr>\n      <th>3</th>\n      <td>The Factory - Cafe With a Soul</td>\n      <td>11/25/2016 Very cool decor! Good drinks Nice ...</td>\n      <td>2.0 star rating</td>\n      <td>11/25/2016</td>\n      <td>Very cool decor! Good drinks Nice seating  How...</td>\n      <td>2.0</td>\n    </tr>\n    <tr>\n      <th>4</th>\n      <td>The Factory - Cafe With a Soul</td>\n      <td>12/3/2016 1 check-in They are located within ...</td>\n      <td>4.0 star rating</td>\n      <td>12/3/2016</td>\n      <td>1 check-in They are located within the Northcr...</td>\n      <td>4.0</td>\n    </tr>\n  </tbody>\n</table>\n</div>"
     },
     "metadata": {},
     "execution_count": 11
    }
   ],
   "source": [
    "# split items in the review column on the first space to parse\n",
    "# date and star rating\n",
    "split = shops['full_review_text'].str.split(n = 1, expand=True)\n",
    "star = shops['star_rating'].str.split(n = 1, expand=True)\n",
    "shops['date'] = split[0]\n",
    "shops['review'] = split[1]\n",
    "shops['rating'] = star[0]\n",
    "shops.head()"
   ]
  },
  {
   "cell_type": "code",
   "execution_count": 12,
   "metadata": {},
   "outputs": [
    {
     "output_type": "execute_result",
     "data": {
      "text/plain": [
       "                  coffee_shop_name        date  \\\n",
       "0  The Factory - Cafe With a Soul   11/25/2016   \n",
       "1  The Factory - Cafe With a Soul    12/2/2016   \n",
       "2  The Factory - Cafe With a Soul   11/30/2016   \n",
       "3  The Factory - Cafe With a Soul   11/25/2016   \n",
       "4  The Factory - Cafe With a Soul    12/3/2016   \n",
       "\n",
       "                                              review rating  \n",
       "0  1 check-in love love loved the atmosphere! eve...    5.0  \n",
       "1  listed in date night: austin, ambiance in aust...    4.0  \n",
       "2  1 check-in listed in brunch spots i loved the ...    4.0  \n",
       "3  very cool decor! good drinks nice seating  how...    2.0  \n",
       "4  1 check-in they are located within the northcr...    4.0  "
      ],
      "text/html": "<div>\n<style scoped>\n    .dataframe tbody tr th:only-of-type {\n        vertical-align: middle;\n    }\n\n    .dataframe tbody tr th {\n        vertical-align: top;\n    }\n\n    .dataframe thead th {\n        text-align: right;\n    }\n</style>\n<table border=\"1\" class=\"dataframe\">\n  <thead>\n    <tr style=\"text-align: right;\">\n      <th></th>\n      <th>coffee_shop_name</th>\n      <th>date</th>\n      <th>review</th>\n      <th>rating</th>\n    </tr>\n  </thead>\n  <tbody>\n    <tr>\n      <th>0</th>\n      <td>The Factory - Cafe With a Soul</td>\n      <td>11/25/2016</td>\n      <td>1 check-in love love loved the atmosphere! eve...</td>\n      <td>5.0</td>\n    </tr>\n    <tr>\n      <th>1</th>\n      <td>The Factory - Cafe With a Soul</td>\n      <td>12/2/2016</td>\n      <td>listed in date night: austin, ambiance in aust...</td>\n      <td>4.0</td>\n    </tr>\n    <tr>\n      <th>2</th>\n      <td>The Factory - Cafe With a Soul</td>\n      <td>11/30/2016</td>\n      <td>1 check-in listed in brunch spots i loved the ...</td>\n      <td>4.0</td>\n    </tr>\n    <tr>\n      <th>3</th>\n      <td>The Factory - Cafe With a Soul</td>\n      <td>11/25/2016</td>\n      <td>very cool decor! good drinks nice seating  how...</td>\n      <td>2.0</td>\n    </tr>\n    <tr>\n      <th>4</th>\n      <td>The Factory - Cafe With a Soul</td>\n      <td>12/3/2016</td>\n      <td>1 check-in they are located within the northcr...</td>\n      <td>4.0</td>\n    </tr>\n  </tbody>\n</table>\n</div>"
     },
     "metadata": {},
     "execution_count": 12
    }
   ],
   "source": [
    "shops = shops.drop(columns=['full_review_text', 'star_rating'],)\n",
    "shops['review'] = shops['review'].str.lower()\n",
    "shops.head()"
   ]
  },
  {
   "cell_type": "code",
   "execution_count": 13,
   "metadata": {},
   "outputs": [
    {
     "output_type": "execute_result",
     "data": {
      "text/plain": [
       "dtype('O')"
      ]
     },
     "metadata": {},
     "execution_count": 13
    }
   ],
   "source": [
    "shops['rating'].dtype"
   ]
  },
  {
   "cell_type": "code",
   "execution_count": 14,
   "metadata": {},
   "outputs": [
    {
     "output_type": "execute_result",
     "data": {
      "text/plain": [
       "1    6140\n",
       "0    1476\n",
       "Name: rating, dtype: int64"
      ]
     },
     "metadata": {},
     "execution_count": 14
    }
   ],
   "source": [
    "shops['rating'] = shops['rating'].replace({'1.0':0, '2.0':0, '3.0':0, '4.0':1, '5.0':1})\n",
    "shops['rating'].value_counts()"
   ]
  },
  {
   "cell_type": "markdown",
   "metadata": {},
   "source": [
    "## How do we want to analyze these coffee shop tokens? \n",
    "\n",
    "- Overall Word / Token Count\n",
    "- View Counts by Rating \n",
    "- *Hint:* a 'bad' coffee shops has a rating betweeen 1 & 3 based on the distribution of ratings. A 'good' coffee shop is a 4 or 5. "
   ]
  },
  {
   "source": [
    "### Python tokenizer"
   ],
   "cell_type": "markdown",
   "metadata": {}
  },
  {
   "cell_type": "code",
   "execution_count": 15,
   "metadata": {},
   "outputs": [],
   "source": [
    "# Create tokenizer to collect words, python\n",
    "\n",
    "def tokenize(text):\n",
    "    \"\"\"Parses a string into a list of semantic units (words)\n",
    "\n",
    "    Args:\n",
    "        text (str): The string that the function will tokenize.\n",
    "\n",
    "    Returns:\n",
    "        list: tokens parsed out by the mechanics of your choice\n",
    "    \"\"\"\n",
    "    \n",
    "    tokens = re.sub('[^a-zA-Z ]', '', text)\n",
    "    tokens = tokens.lower().split()\n",
    "    \n",
    "    return tokens"
   ]
  },
  {
   "cell_type": "code",
   "execution_count": 16,
   "metadata": {},
   "outputs": [
    {
     "output_type": "execute_result",
     "data": {
      "text/plain": [
       "0    [checkin, love, love, loved, the, atmosphere, ...\n",
       "1    [listed, in, date, night, austin, ambiance, in...\n",
       "2    [checkin, listed, in, brunch, spots, i, loved,...\n",
       "3    [very, cool, decor, good, drinks, nice, seatin...\n",
       "4    [checkin, they, are, located, within, the, nor...\n",
       "Name: python_tokens, dtype: object"
      ]
     },
     "metadata": {},
     "execution_count": 16
    }
   ],
   "source": [
    "shops['python_tokens'] = shops['review'].apply(tokenize)\n",
    "shops['python_tokens'].head()"
   ]
  },
  {
   "cell_type": "code",
   "execution_count": 17,
   "metadata": {},
   "outputs": [],
   "source": [
    "# function taken directly from lecture notebook\n",
    "\n",
    "def count(docs):\n",
    "    '''This function takes a list of tokenized documents as input and returns\n",
    "    a dataframe with frequency counts and rank for each token.\n",
    "    \n",
    "    # Arguments\n",
    "        docs: list, tokenized list of documents\n",
    "        \n",
    "    # Returns\n",
    "        wc: dataframe, \n",
    "    '''\n",
    "    word_counts = Counter()\n",
    "    appears_in = Counter()\n",
    "\n",
    "    total_docs = len(docs)\n",
    "\n",
    "    for doc in docs:\n",
    "        word_counts.update(doc)\n",
    "        appears_in.update(set(doc))\n",
    "\n",
    "    temp = zip(word_counts.keys(), word_counts.values())\n",
    "\n",
    "    wc = pd.DataFrame(temp, columns = ['word', 'count'])\n",
    "\n",
    "    wc['rank'] = wc['count'].rank(method='first', ascending=False)\n",
    "    total = wc['count'].sum()\n",
    "\n",
    "    wc['pct_total'] = wc['count'].apply(lambda x: x / total)\n",
    "\n",
    "    wc = wc.sort_values(by='rank')\n",
    "    wc['cul_pct_total'] = wc['pct_total'].cumsum()\n",
    "\n",
    "    t2 = zip(appears_in.keys(), appears_in.values())\n",
    "    ac = pd.DataFrame(t2, columns=['word', 'appears_in'])\n",
    "    wc = ac.merge(wc, on='word')\n",
    "\n",
    "    wc['appears_in_pct'] = wc['appears_in'].apply(lambda x: x / total_docs)\n",
    "\n",
    "    return wc.sort_values(by='rank')"
   ]
  },
  {
   "cell_type": "code",
   "execution_count": 18,
   "metadata": {},
   "outputs": [
    {
     "output_type": "stream",
     "name": "stdout",
     "text": [
      "(19843, 7)\n"
     ]
    },
    {
     "output_type": "execute_result",
     "data": {
      "text/plain": [
       "   word  appears_in  count  rank  pct_total  cul_pct_total  appears_in_pct\n",
       "24  the        6847  34809   1.0   0.045412       0.045412        0.899028\n",
       "21  and        6864  26651   2.0   0.034769       0.080180        0.901261\n",
       "31    a        6246  22756   3.0   0.029687       0.109868        0.820116\n",
       "7     i        5532  20249   4.0   0.026417       0.136284        0.726366\n",
       "50   to        5653  17164   5.0   0.022392       0.158676        0.742253"
      ],
      "text/html": "<div>\n<style scoped>\n    .dataframe tbody tr th:only-of-type {\n        vertical-align: middle;\n    }\n\n    .dataframe tbody tr th {\n        vertical-align: top;\n    }\n\n    .dataframe thead th {\n        text-align: right;\n    }\n</style>\n<table border=\"1\" class=\"dataframe\">\n  <thead>\n    <tr style=\"text-align: right;\">\n      <th></th>\n      <th>word</th>\n      <th>appears_in</th>\n      <th>count</th>\n      <th>rank</th>\n      <th>pct_total</th>\n      <th>cul_pct_total</th>\n      <th>appears_in_pct</th>\n    </tr>\n  </thead>\n  <tbody>\n    <tr>\n      <th>24</th>\n      <td>the</td>\n      <td>6847</td>\n      <td>34809</td>\n      <td>1.0</td>\n      <td>0.045412</td>\n      <td>0.045412</td>\n      <td>0.899028</td>\n    </tr>\n    <tr>\n      <th>21</th>\n      <td>and</td>\n      <td>6864</td>\n      <td>26651</td>\n      <td>2.0</td>\n      <td>0.034769</td>\n      <td>0.080180</td>\n      <td>0.901261</td>\n    </tr>\n    <tr>\n      <th>31</th>\n      <td>a</td>\n      <td>6246</td>\n      <td>22756</td>\n      <td>3.0</td>\n      <td>0.029687</td>\n      <td>0.109868</td>\n      <td>0.820116</td>\n    </tr>\n    <tr>\n      <th>7</th>\n      <td>i</td>\n      <td>5532</td>\n      <td>20249</td>\n      <td>4.0</td>\n      <td>0.026417</td>\n      <td>0.136284</td>\n      <td>0.726366</td>\n    </tr>\n    <tr>\n      <th>50</th>\n      <td>to</td>\n      <td>5653</td>\n      <td>17164</td>\n      <td>5.0</td>\n      <td>0.022392</td>\n      <td>0.158676</td>\n      <td>0.742253</td>\n    </tr>\n  </tbody>\n</table>\n</div>"
     },
     "metadata": {},
     "execution_count": 18
    }
   ],
   "source": [
    "# Use the count function\n",
    "wc_python = count(shops['python_tokens'])\n",
    "print(wc_python.shape)\n",
    "wc_python.head()"
   ]
  },
  {
   "source": [
    "# SpaCy"
   ],
   "cell_type": "markdown",
   "metadata": {}
  },
  {
   "cell_type": "code",
   "execution_count": 19,
   "metadata": {},
   "outputs": [],
   "source": [
    "# Inialize spaCy model and tokenizer\n",
    "nlp = spacy.load(\"en_core_web_lg\")\n",
    "tokenizer = Tokenizer(nlp.vocab)"
   ]
  },
  {
   "cell_type": "code",
   "execution_count": 20,
   "metadata": {},
   "outputs": [
    {
     "output_type": "execute_result",
     "data": {
      "text/plain": [
       "0    [love, love, loved, the, every, corner, of, th...\n",
       "1    [listed, in, date, ambiance, in, austin, love,...\n",
       "2    [listed, in, brunch, spots, i, loved, the, ecl...\n",
       "3    [very, cool, good, drinks, nice, seating, just...\n",
       "4    [they, are, located, within, the, northcross, ...\n",
       "Name: spaCy_tokens, dtype: object"
      ]
     },
     "metadata": {},
     "execution_count": 20
    }
   ],
   "source": [
    "# Use SpaCy Tokenizer Pipe to look at words\n",
    "tokens = []\n",
    "\n",
    "# Return lower case tokens and ignore punctuation & numbers\n",
    "for doc in tokenizer.pipe(shops['review'], batch_size=500):\n",
    "    \n",
    "    doc_tokens = []\n",
    "    \n",
    "    for token in doc:\n",
    "        if (token.is_alpha == True):\n",
    "            doc_tokens.append(token.text)\n",
    "\n",
    "    tokens.append(doc_tokens)\n",
    "\n",
    "shops['spaCy_tokens'] = tokens\n",
    "shops['spaCy_tokens'].head()"
   ]
  },
  {
   "cell_type": "code",
   "execution_count": 21,
   "metadata": {},
   "outputs": [
    {
     "output_type": "stream",
     "name": "stdout",
     "text": [
      "(14396, 7)\n"
     ]
    },
    {
     "output_type": "execute_result",
     "data": {
      "text/plain": [
       "   word  appears_in  count  rank  pct_total  cul_pct_total  appears_in_pct\n",
       "20  the        6847  34649   1.0   0.053618       0.053618        0.899028\n",
       "17  and        6853  26442   2.0   0.040918       0.094537        0.899816\n",
       "26    a        6240  22657   3.0   0.035061       0.129598        0.819328\n",
       "7     i        5511  19990   4.0   0.030934       0.160531        0.723608\n",
       "41   to        5638  17008   5.0   0.026319       0.186851        0.740284"
      ],
      "text/html": "<div>\n<style scoped>\n    .dataframe tbody tr th:only-of-type {\n        vertical-align: middle;\n    }\n\n    .dataframe tbody tr th {\n        vertical-align: top;\n    }\n\n    .dataframe thead th {\n        text-align: right;\n    }\n</style>\n<table border=\"1\" class=\"dataframe\">\n  <thead>\n    <tr style=\"text-align: right;\">\n      <th></th>\n      <th>word</th>\n      <th>appears_in</th>\n      <th>count</th>\n      <th>rank</th>\n      <th>pct_total</th>\n      <th>cul_pct_total</th>\n      <th>appears_in_pct</th>\n    </tr>\n  </thead>\n  <tbody>\n    <tr>\n      <th>20</th>\n      <td>the</td>\n      <td>6847</td>\n      <td>34649</td>\n      <td>1.0</td>\n      <td>0.053618</td>\n      <td>0.053618</td>\n      <td>0.899028</td>\n    </tr>\n    <tr>\n      <th>17</th>\n      <td>and</td>\n      <td>6853</td>\n      <td>26442</td>\n      <td>2.0</td>\n      <td>0.040918</td>\n      <td>0.094537</td>\n      <td>0.899816</td>\n    </tr>\n    <tr>\n      <th>26</th>\n      <td>a</td>\n      <td>6240</td>\n      <td>22657</td>\n      <td>3.0</td>\n      <td>0.035061</td>\n      <td>0.129598</td>\n      <td>0.819328</td>\n    </tr>\n    <tr>\n      <th>7</th>\n      <td>i</td>\n      <td>5511</td>\n      <td>19990</td>\n      <td>4.0</td>\n      <td>0.030934</td>\n      <td>0.160531</td>\n      <td>0.723608</td>\n    </tr>\n    <tr>\n      <th>41</th>\n      <td>to</td>\n      <td>5638</td>\n      <td>17008</td>\n      <td>5.0</td>\n      <td>0.026319</td>\n      <td>0.186851</td>\n      <td>0.740284</td>\n    </tr>\n  </tbody>\n</table>\n</div>"
     },
     "metadata": {},
     "execution_count": 21
    }
   ],
   "source": [
    "# Use the count function\n",
    "# Results are imilar counts to python, but not identical\n",
    "wc_spaCy = count(shops['spaCy_tokens'])\n",
    "print(wc_spaCy.shape)\n",
    "wc_spaCy.head()"
   ]
  },
  {
   "cell_type": "markdown",
   "metadata": {},
   "source": [
    "## Lemmatization"
   ]
  },
  {
   "cell_type": "code",
   "execution_count": 22,
   "metadata": {},
   "outputs": [],
   "source": [
    "# Lemma function, nlp is the large spacy model from above\n",
    "def get_lemmas(text):\n",
    "\n",
    "    doc = nlp(text)\n",
    "    \n",
    "    lemmas = []\n",
    "    for token in doc: \n",
    "        if ((token.is_alpha == True) and (token.is_stop == False) and (token.is_punct == False)) and (token.pos_ != 'PRON'):\n",
    "            lemmas.append(token.lemma_)\n",
    "    \n",
    "    return lemmas"
   ]
  },
  {
   "cell_type": "code",
   "execution_count": 23,
   "metadata": {},
   "outputs": [
    {
     "output_type": "stream",
     "name": "stderr",
     "text": [
      "100%|██████████| 7616/7616 [04:36<00:00, 27.58it/s]\n"
     ]
    },
    {
     "output_type": "execute_result",
     "data": {
      "text/plain": [
       "                  coffee_shop_name        date  \\\n",
       "0  The Factory - Cafe With a Soul   11/25/2016   \n",
       "1  The Factory - Cafe With a Soul    12/2/2016   \n",
       "2  The Factory - Cafe With a Soul   11/30/2016   \n",
       "3  The Factory - Cafe With a Soul   11/25/2016   \n",
       "4  The Factory - Cafe With a Soul    12/3/2016   \n",
       "\n",
       "                                              review  rating  \\\n",
       "0  1 check-in love love loved the atmosphere! eve...       1   \n",
       "1  listed in date night: austin, ambiance in aust...       1   \n",
       "2  1 check-in listed in brunch spots i loved the ...       1   \n",
       "3  very cool decor! good drinks nice seating  how...       0   \n",
       "4  1 check-in they are located within the northcr...       1   \n",
       "\n",
       "                                       python_tokens  \\\n",
       "0  [checkin, love, love, loved, the, atmosphere, ...   \n",
       "1  [listed, in, date, night, austin, ambiance, in...   \n",
       "2  [checkin, listed, in, brunch, spots, i, loved,...   \n",
       "3  [very, cool, decor, good, drinks, nice, seatin...   \n",
       "4  [checkin, they, are, located, within, the, nor...   \n",
       "\n",
       "                                        spaCy_tokens  \\\n",
       "0  [love, love, loved, the, every, corner, of, th...   \n",
       "1  [listed, in, date, ambiance, in, austin, love,...   \n",
       "2  [listed, in, brunch, spots, i, loved, the, ecl...   \n",
       "3  [very, cool, good, drinks, nice, seating, just...   \n",
       "4  [they, are, located, within, the, northcross, ...   \n",
       "\n",
       "                                              lemmas  \n",
       "0  [check, love, love, love, atmosphere, corner, ...  \n",
       "1  [list, date, night, austin, ambiance, austin, ...  \n",
       "2  [check, list, brunch, spot, love, eclectic, ho...  \n",
       "3  [cool, decor, good, drink, nice, seating, over...  \n",
       "4  [check, locate, northcross, mall, shopping, ce...  "
      ],
      "text/html": "<div>\n<style scoped>\n    .dataframe tbody tr th:only-of-type {\n        vertical-align: middle;\n    }\n\n    .dataframe tbody tr th {\n        vertical-align: top;\n    }\n\n    .dataframe thead th {\n        text-align: right;\n    }\n</style>\n<table border=\"1\" class=\"dataframe\">\n  <thead>\n    <tr style=\"text-align: right;\">\n      <th></th>\n      <th>coffee_shop_name</th>\n      <th>date</th>\n      <th>review</th>\n      <th>rating</th>\n      <th>python_tokens</th>\n      <th>spaCy_tokens</th>\n      <th>lemmas</th>\n    </tr>\n  </thead>\n  <tbody>\n    <tr>\n      <th>0</th>\n      <td>The Factory - Cafe With a Soul</td>\n      <td>11/25/2016</td>\n      <td>1 check-in love love loved the atmosphere! eve...</td>\n      <td>1</td>\n      <td>[checkin, love, love, loved, the, atmosphere, ...</td>\n      <td>[love, love, loved, the, every, corner, of, th...</td>\n      <td>[check, love, love, love, atmosphere, corner, ...</td>\n    </tr>\n    <tr>\n      <th>1</th>\n      <td>The Factory - Cafe With a Soul</td>\n      <td>12/2/2016</td>\n      <td>listed in date night: austin, ambiance in aust...</td>\n      <td>1</td>\n      <td>[listed, in, date, night, austin, ambiance, in...</td>\n      <td>[listed, in, date, ambiance, in, austin, love,...</td>\n      <td>[list, date, night, austin, ambiance, austin, ...</td>\n    </tr>\n    <tr>\n      <th>2</th>\n      <td>The Factory - Cafe With a Soul</td>\n      <td>11/30/2016</td>\n      <td>1 check-in listed in brunch spots i loved the ...</td>\n      <td>1</td>\n      <td>[checkin, listed, in, brunch, spots, i, loved,...</td>\n      <td>[listed, in, brunch, spots, i, loved, the, ecl...</td>\n      <td>[check, list, brunch, spot, love, eclectic, ho...</td>\n    </tr>\n    <tr>\n      <th>3</th>\n      <td>The Factory - Cafe With a Soul</td>\n      <td>11/25/2016</td>\n      <td>very cool decor! good drinks nice seating  how...</td>\n      <td>0</td>\n      <td>[very, cool, decor, good, drinks, nice, seatin...</td>\n      <td>[very, cool, good, drinks, nice, seating, just...</td>\n      <td>[cool, decor, good, drink, nice, seating, over...</td>\n    </tr>\n    <tr>\n      <th>4</th>\n      <td>The Factory - Cafe With a Soul</td>\n      <td>12/3/2016</td>\n      <td>1 check-in they are located within the northcr...</td>\n      <td>1</td>\n      <td>[checkin, they, are, located, within, the, nor...</td>\n      <td>[they, are, located, within, the, northcross, ...</td>\n      <td>[check, locate, northcross, mall, shopping, ce...</td>\n    </tr>\n  </tbody>\n</table>\n</div>"
     },
     "metadata": {},
     "execution_count": 23
    }
   ],
   "source": [
    "from tqdm import tqdm\n",
    "tqdm.pandas()\n",
    "\n",
    "shops['lemmas'] = shops['review'].progress_apply(get_lemmas)\n",
    "shops.head()"
   ]
  },
  {
   "cell_type": "code",
   "execution_count": 24,
   "metadata": {},
   "outputs": [
    {
     "output_type": "stream",
     "name": "stdout",
     "text": [
      "(13076, 7)\n"
     ]
    },
    {
     "output_type": "execute_result",
     "data": {
      "text/plain": [
       "          word  appears_in  count  rank  pct_total  cul_pct_total  \\\n",
       "4       coffee        4953  10763   1.0   0.030750       0.030750   \n",
       "87       place        3892   6059   2.0   0.017310       0.048060   \n",
       "146       good        3607   5422   3.0   0.015491       0.063551   \n",
       "64       great        2860   3959   4.0   0.011311       0.074862   \n",
       "5        check        3174   3468   5.0   0.009908       0.084770   \n",
       "147       like        2274   3380   6.0   0.009657       0.094426   \n",
       "420       come        1935   2642   7.0   0.007548       0.101974   \n",
       "446       time        1767   2393   8.0   0.006837       0.108811   \n",
       "28        love        1822   2388   9.0   0.006822       0.115634   \n",
       "6        drink        1641   2350  10.0   0.006714       0.122348   \n",
       "44      austin        1838   2341  11.0   0.006688       0.129036   \n",
       "12        shop        1668   2240  12.0   0.006400       0.135436   \n",
       "122        try        1674   2145  13.0   0.006128       0.141564   \n",
       "21       order        1446   2121  14.0   0.006060       0.147623   \n",
       "345       food        1425   1930  15.0   0.005514       0.153137   \n",
       "1          get        1484   1925  16.0   0.005500       0.158637   \n",
       "552       work        1485   1910  17.0   0.005457       0.164094   \n",
       "11       latte        1266   1883  18.0   0.005380       0.169474   \n",
       "41        nice        1508   1804  19.0   0.005154       0.174628   \n",
       "175   friendly        1635   1733  20.0   0.004951       0.179579   \n",
       "541     little        1243   1506  21.0   0.004303       0.183881   \n",
       "224        tea         806   1498  22.0   0.004280       0.188161   \n",
       "57          go        1200   1482  23.0   0.004234       0.192395   \n",
       "410     people        1180   1453  24.0   0.004151       0.196546   \n",
       "673  delicious        1264   1405  25.0   0.004014       0.200561   \n",
       "\n",
       "     appears_in_pct  \n",
       "4          0.650341  \n",
       "87         0.511029  \n",
       "146        0.473608  \n",
       "64         0.375525  \n",
       "5          0.416754  \n",
       "147        0.298582  \n",
       "420        0.254070  \n",
       "446        0.232012  \n",
       "28         0.239233  \n",
       "6          0.215467  \n",
       "44         0.241334  \n",
       "12         0.219013  \n",
       "122        0.219800  \n",
       "21         0.189863  \n",
       "345        0.187106  \n",
       "1          0.194853  \n",
       "552        0.194984  \n",
       "11         0.166229  \n",
       "41         0.198004  \n",
       "175        0.214680  \n",
       "541        0.163209  \n",
       "224        0.105830  \n",
       "57         0.157563  \n",
       "410        0.154937  \n",
       "673        0.165966  "
      ],
      "text/html": "<div>\n<style scoped>\n    .dataframe tbody tr th:only-of-type {\n        vertical-align: middle;\n    }\n\n    .dataframe tbody tr th {\n        vertical-align: top;\n    }\n\n    .dataframe thead th {\n        text-align: right;\n    }\n</style>\n<table border=\"1\" class=\"dataframe\">\n  <thead>\n    <tr style=\"text-align: right;\">\n      <th></th>\n      <th>word</th>\n      <th>appears_in</th>\n      <th>count</th>\n      <th>rank</th>\n      <th>pct_total</th>\n      <th>cul_pct_total</th>\n      <th>appears_in_pct</th>\n    </tr>\n  </thead>\n  <tbody>\n    <tr>\n      <th>4</th>\n      <td>coffee</td>\n      <td>4953</td>\n      <td>10763</td>\n      <td>1.0</td>\n      <td>0.030750</td>\n      <td>0.030750</td>\n      <td>0.650341</td>\n    </tr>\n    <tr>\n      <th>87</th>\n      <td>place</td>\n      <td>3892</td>\n      <td>6059</td>\n      <td>2.0</td>\n      <td>0.017310</td>\n      <td>0.048060</td>\n      <td>0.511029</td>\n    </tr>\n    <tr>\n      <th>146</th>\n      <td>good</td>\n      <td>3607</td>\n      <td>5422</td>\n      <td>3.0</td>\n      <td>0.015491</td>\n      <td>0.063551</td>\n      <td>0.473608</td>\n    </tr>\n    <tr>\n      <th>64</th>\n      <td>great</td>\n      <td>2860</td>\n      <td>3959</td>\n      <td>4.0</td>\n      <td>0.011311</td>\n      <td>0.074862</td>\n      <td>0.375525</td>\n    </tr>\n    <tr>\n      <th>5</th>\n      <td>check</td>\n      <td>3174</td>\n      <td>3468</td>\n      <td>5.0</td>\n      <td>0.009908</td>\n      <td>0.084770</td>\n      <td>0.416754</td>\n    </tr>\n    <tr>\n      <th>147</th>\n      <td>like</td>\n      <td>2274</td>\n      <td>3380</td>\n      <td>6.0</td>\n      <td>0.009657</td>\n      <td>0.094426</td>\n      <td>0.298582</td>\n    </tr>\n    <tr>\n      <th>420</th>\n      <td>come</td>\n      <td>1935</td>\n      <td>2642</td>\n      <td>7.0</td>\n      <td>0.007548</td>\n      <td>0.101974</td>\n      <td>0.254070</td>\n    </tr>\n    <tr>\n      <th>446</th>\n      <td>time</td>\n      <td>1767</td>\n      <td>2393</td>\n      <td>8.0</td>\n      <td>0.006837</td>\n      <td>0.108811</td>\n      <td>0.232012</td>\n    </tr>\n    <tr>\n      <th>28</th>\n      <td>love</td>\n      <td>1822</td>\n      <td>2388</td>\n      <td>9.0</td>\n      <td>0.006822</td>\n      <td>0.115634</td>\n      <td>0.239233</td>\n    </tr>\n    <tr>\n      <th>6</th>\n      <td>drink</td>\n      <td>1641</td>\n      <td>2350</td>\n      <td>10.0</td>\n      <td>0.006714</td>\n      <td>0.122348</td>\n      <td>0.215467</td>\n    </tr>\n    <tr>\n      <th>44</th>\n      <td>austin</td>\n      <td>1838</td>\n      <td>2341</td>\n      <td>11.0</td>\n      <td>0.006688</td>\n      <td>0.129036</td>\n      <td>0.241334</td>\n    </tr>\n    <tr>\n      <th>12</th>\n      <td>shop</td>\n      <td>1668</td>\n      <td>2240</td>\n      <td>12.0</td>\n      <td>0.006400</td>\n      <td>0.135436</td>\n      <td>0.219013</td>\n    </tr>\n    <tr>\n      <th>122</th>\n      <td>try</td>\n      <td>1674</td>\n      <td>2145</td>\n      <td>13.0</td>\n      <td>0.006128</td>\n      <td>0.141564</td>\n      <td>0.219800</td>\n    </tr>\n    <tr>\n      <th>21</th>\n      <td>order</td>\n      <td>1446</td>\n      <td>2121</td>\n      <td>14.0</td>\n      <td>0.006060</td>\n      <td>0.147623</td>\n      <td>0.189863</td>\n    </tr>\n    <tr>\n      <th>345</th>\n      <td>food</td>\n      <td>1425</td>\n      <td>1930</td>\n      <td>15.0</td>\n      <td>0.005514</td>\n      <td>0.153137</td>\n      <td>0.187106</td>\n    </tr>\n    <tr>\n      <th>1</th>\n      <td>get</td>\n      <td>1484</td>\n      <td>1925</td>\n      <td>16.0</td>\n      <td>0.005500</td>\n      <td>0.158637</td>\n      <td>0.194853</td>\n    </tr>\n    <tr>\n      <th>552</th>\n      <td>work</td>\n      <td>1485</td>\n      <td>1910</td>\n      <td>17.0</td>\n      <td>0.005457</td>\n      <td>0.164094</td>\n      <td>0.194984</td>\n    </tr>\n    <tr>\n      <th>11</th>\n      <td>latte</td>\n      <td>1266</td>\n      <td>1883</td>\n      <td>18.0</td>\n      <td>0.005380</td>\n      <td>0.169474</td>\n      <td>0.166229</td>\n    </tr>\n    <tr>\n      <th>41</th>\n      <td>nice</td>\n      <td>1508</td>\n      <td>1804</td>\n      <td>19.0</td>\n      <td>0.005154</td>\n      <td>0.174628</td>\n      <td>0.198004</td>\n    </tr>\n    <tr>\n      <th>175</th>\n      <td>friendly</td>\n      <td>1635</td>\n      <td>1733</td>\n      <td>20.0</td>\n      <td>0.004951</td>\n      <td>0.179579</td>\n      <td>0.214680</td>\n    </tr>\n    <tr>\n      <th>541</th>\n      <td>little</td>\n      <td>1243</td>\n      <td>1506</td>\n      <td>21.0</td>\n      <td>0.004303</td>\n      <td>0.183881</td>\n      <td>0.163209</td>\n    </tr>\n    <tr>\n      <th>224</th>\n      <td>tea</td>\n      <td>806</td>\n      <td>1498</td>\n      <td>22.0</td>\n      <td>0.004280</td>\n      <td>0.188161</td>\n      <td>0.105830</td>\n    </tr>\n    <tr>\n      <th>57</th>\n      <td>go</td>\n      <td>1200</td>\n      <td>1482</td>\n      <td>23.0</td>\n      <td>0.004234</td>\n      <td>0.192395</td>\n      <td>0.157563</td>\n    </tr>\n    <tr>\n      <th>410</th>\n      <td>people</td>\n      <td>1180</td>\n      <td>1453</td>\n      <td>24.0</td>\n      <td>0.004151</td>\n      <td>0.196546</td>\n      <td>0.154937</td>\n    </tr>\n    <tr>\n      <th>673</th>\n      <td>delicious</td>\n      <td>1264</td>\n      <td>1405</td>\n      <td>25.0</td>\n      <td>0.004014</td>\n      <td>0.200561</td>\n      <td>0.165966</td>\n    </tr>\n  </tbody>\n</table>\n</div>"
     },
     "metadata": {},
     "execution_count": 24
    }
   ],
   "source": [
    "# Use the count function\n",
    "wc_lemmas = count(shops['lemmas'])\n",
    "print(wc_lemmas.shape)\n",
    "wc_lemmas.head(25)"
   ]
  },
  {
   "source": [
    "## Stop Words"
   ],
   "cell_type": "markdown",
   "metadata": {}
  },
  {
   "cell_type": "code",
   "execution_count": 25,
   "metadata": {},
   "outputs": [
    {
     "output_type": "stream",
     "name": "stderr",
     "text": [
      "[nltk_data] Downloading package stopwords to\n[nltk_data]     C:\\Users\\whats\\AppData\\Roaming\\nltk_data...\n[nltk_data]   Package stopwords is already up-to-date!\n"
     ]
    },
    {
     "output_type": "execute_result",
     "data": {
      "text/plain": [
       "True"
      ]
     },
     "metadata": {},
     "execution_count": 25
    }
   ],
   "source": [
    "# import basic stopwords list (179 words)\n",
    "import nltk\n",
    "from nltk.corpus import stopwords\n",
    "nltk.download('stopwords')"
   ]
  },
  {
   "cell_type": "code",
   "execution_count": 67,
   "metadata": {
    "scrolled": true
   },
   "outputs": [
    {
     "output_type": "stream",
     "name": "stdout",
     "text": [
      "['i', 'me', 'my', 'myself', 'we', 'our', 'ours', 'ourselves', 'you', \"you're\", \"you've\", \"you'll\", \"you'd\", 'your', 'yours', 'yourself', 'yourselves', 'he', 'him', 'his', 'himself', 'she', \"she's\", 'her', 'hers', 'herself', 'it', \"it's\", 'its', 'itself', 'they', 'them', 'their', 'theirs', 'themselves', 'what', 'which', 'who', 'whom', 'this', 'that', \"that'll\", 'these', 'those', 'am', 'is', 'are', 'was', 'were', 'be', 'been', 'being', 'have', 'has', 'had', 'having', 'do', 'does', 'did', 'doing', 'a', 'an', 'the', 'and', 'but', 'if', 'or', 'because', 'as', 'until', 'while', 'of', 'at', 'by', 'for', 'with', 'about', 'against', 'between', 'into', 'through', 'during', 'before', 'after', 'above', 'below', 'to', 'from', 'up', 'down', 'in', 'out', 'on', 'off', 'over', 'under', 'again', 'further', 'then', 'once', 'here', 'there', 'when', 'where', 'why', 'how', 'all', 'any', 'both', 'each', 'few', 'more', 'most', 'other', 'some', 'such', 'no', 'nor', 'not', 'only', 'own', 'same', 'so', 'than', 'too', 'very', 's', 't', 'can', 'will', 'just', 'don', \"don't\", 'should', \"should've\", 'now', 'd', 'll', 'm', 'o', 're', 've', 'y', 'ain', 'aren', \"aren't\", 'couldn', \"couldn't\", 'didn', \"didn't\", 'doesn', \"doesn't\", 'hadn', \"hadn't\", 'hasn', \"hasn't\", 'haven', \"haven't\", 'isn', \"isn't\", 'ma', 'mightn', \"mightn't\", 'mustn', \"mustn't\", 'needn', \"needn't\", 'shan', \"shan't\", 'shouldn', \"shouldn't\", 'wasn', \"wasn't\", 'weren', \"weren't\", 'won', \"won't\", 'wouldn', \"wouldn't\"]\n"
     ]
    },
    {
     "output_type": "execute_result",
     "data": {
      "text/plain": [
       "179"
      ]
     },
     "metadata": {},
     "execution_count": 67
    }
   ],
   "source": [
    "# Rename & view stopwords\n",
    "# Extraneous when using stop words in lemmatization\n",
    "STOP_WORDS = stopwords.words('english')\n",
    "print(STOP_WORDS)\n",
    "len(STOP_WORDS)"
   ]
  },
  {
   "cell_type": "code",
   "execution_count": 36,
   "metadata": {},
   "outputs": [
    {
     "output_type": "execute_result",
     "data": {
      "text/plain": [
       "0       check love love love atmosphere corner coffee ...\n",
       "1       list date night austin ambiance austin beautif...\n",
       "2       check list brunch spot love eclectic homey plu...\n",
       "3       cool decor good drink nice seating overpriced ...\n",
       "4       check locate northcross mall shopping center f...\n",
       "                              ...                        \n",
       "7611    actually step restaurant chance favorite austi...\n",
       "7612    ok steeping room awesome great menu item cours...\n",
       "7613    love come tea atmosphere pretty fresh order st...\n",
       "7614    food average booth feel clean waitstaff friend...\n",
       "7615    finally stop lunch colleague glad delicious co...\n",
       "Name: lem_string, Length: 7616, dtype: object"
      ]
     },
     "metadata": {},
     "execution_count": 36
    }
   ],
   "source": [
    "# Tokenizer requires a string, lemmas is a list\n",
    "# I wanted to add custom stop words after lemmatization, but was unable to do so\n",
    "# lem_string did not function as expected\n",
    "shops['lem_string'] = shops['lemmas'].apply(lambda x: ' '.join(map(str, x)))\n",
    "shops['lem_string']"
   ]
  },
  {
   "cell_type": "code",
   "execution_count": 37,
   "metadata": {},
   "outputs": [],
   "source": [
    "tokens = []\n",
    "for doc in tokenizer.pipe(shops['lem_string'], batch_size=500):\n",
    "    \n",
    "    doc_tokens = []\n",
    "    for token in doc:\n",
    "        if (token.is_alpha == True)& (token.text.lower() not in STOP_WORDS):\n",
    "            doc_tokens.append(token.text.lower())\n",
    "   \n",
    "    tokens.append(doc_tokens)\n",
    "    \n",
    "shops['nostop_tokens'] = tokens"
   ]
  },
  {
   "cell_type": "code",
   "execution_count": 33,
   "metadata": {},
   "outputs": [
    {
     "output_type": "execute_result",
     "data": {
      "text/plain": [
       "                  coffee_shop_name        date  \\\n",
       "0  The Factory - Cafe With a Soul   11/25/2016   \n",
       "1  The Factory - Cafe With a Soul    12/2/2016   \n",
       "2  The Factory - Cafe With a Soul   11/30/2016   \n",
       "3  The Factory - Cafe With a Soul   11/25/2016   \n",
       "4  The Factory - Cafe With a Soul    12/3/2016   \n",
       "\n",
       "                                              review  rating  \\\n",
       "0  1 check-in love love loved the atmosphere! eve...       1   \n",
       "1  listed in date night: austin, ambiance in aust...       1   \n",
       "2  1 check-in listed in brunch spots i loved the ...       1   \n",
       "3  very cool decor! good drinks nice seating  how...       0   \n",
       "4  1 check-in they are located within the northcr...       1   \n",
       "\n",
       "                                       python_tokens  \\\n",
       "0  [checkin, love, love, loved, the, atmosphere, ...   \n",
       "1  [listed, in, date, night, austin, ambiance, in...   \n",
       "2  [checkin, listed, in, brunch, spots, i, loved,...   \n",
       "3  [very, cool, decor, good, drinks, nice, seatin...   \n",
       "4  [checkin, they, are, located, within, the, nor...   \n",
       "\n",
       "                                        spaCy_tokens  \\\n",
       "0  [love, love, loved, the, every, corner, of, th...   \n",
       "1  [listed, in, date, ambiance, in, austin, love,...   \n",
       "2  [listed, in, brunch, spots, i, loved, the, ecl...   \n",
       "3  [very, cool, good, drinks, nice, seating, just...   \n",
       "4  [they, are, located, within, the, northcross, ...   \n",
       "\n",
       "                                              lemmas  \\\n",
       "0  [check, love, love, love, atmosphere, corner, ...   \n",
       "1  [list, date, night, austin, ambiance, austin, ...   \n",
       "2  [check, list, brunch, spot, love, eclectic, ho...   \n",
       "3  [cool, decor, good, drink, nice, seating, over...   \n",
       "4  [check, locate, northcross, mall, shopping, ce...   \n",
       "\n",
       "                                          lem_string nostop_tokens  \n",
       "0  check, love, love, love, atmosphere, corner, c...        [idea]  \n",
       "1  list, date, night, austin, ambiance, austin, b...        [nice]  \n",
       "2  check, list, brunch, spot, love, eclectic, hom...        [soul]  \n",
       "3  cool, decor, good, drink, nice, seating, overp...       [place]  \n",
       "4  check, locate, northcross, mall, shopping, cen...        [soul]  "
      ],
      "text/html": "<div>\n<style scoped>\n    .dataframe tbody tr th:only-of-type {\n        vertical-align: middle;\n    }\n\n    .dataframe tbody tr th {\n        vertical-align: top;\n    }\n\n    .dataframe thead th {\n        text-align: right;\n    }\n</style>\n<table border=\"1\" class=\"dataframe\">\n  <thead>\n    <tr style=\"text-align: right;\">\n      <th></th>\n      <th>coffee_shop_name</th>\n      <th>date</th>\n      <th>review</th>\n      <th>rating</th>\n      <th>python_tokens</th>\n      <th>spaCy_tokens</th>\n      <th>lemmas</th>\n      <th>lem_string</th>\n      <th>nostop_tokens</th>\n    </tr>\n  </thead>\n  <tbody>\n    <tr>\n      <th>0</th>\n      <td>The Factory - Cafe With a Soul</td>\n      <td>11/25/2016</td>\n      <td>1 check-in love love loved the atmosphere! eve...</td>\n      <td>1</td>\n      <td>[checkin, love, love, loved, the, atmosphere, ...</td>\n      <td>[love, love, loved, the, every, corner, of, th...</td>\n      <td>[check, love, love, love, atmosphere, corner, ...</td>\n      <td>check, love, love, love, atmosphere, corner, c...</td>\n      <td>[idea]</td>\n    </tr>\n    <tr>\n      <th>1</th>\n      <td>The Factory - Cafe With a Soul</td>\n      <td>12/2/2016</td>\n      <td>listed in date night: austin, ambiance in aust...</td>\n      <td>1</td>\n      <td>[listed, in, date, night, austin, ambiance, in...</td>\n      <td>[listed, in, date, ambiance, in, austin, love,...</td>\n      <td>[list, date, night, austin, ambiance, austin, ...</td>\n      <td>list, date, night, austin, ambiance, austin, b...</td>\n      <td>[nice]</td>\n    </tr>\n    <tr>\n      <th>2</th>\n      <td>The Factory - Cafe With a Soul</td>\n      <td>11/30/2016</td>\n      <td>1 check-in listed in brunch spots i loved the ...</td>\n      <td>1</td>\n      <td>[checkin, listed, in, brunch, spots, i, loved,...</td>\n      <td>[listed, in, brunch, spots, i, loved, the, ecl...</td>\n      <td>[check, list, brunch, spot, love, eclectic, ho...</td>\n      <td>check, list, brunch, spot, love, eclectic, hom...</td>\n      <td>[soul]</td>\n    </tr>\n    <tr>\n      <th>3</th>\n      <td>The Factory - Cafe With a Soul</td>\n      <td>11/25/2016</td>\n      <td>very cool decor! good drinks nice seating  how...</td>\n      <td>0</td>\n      <td>[very, cool, decor, good, drinks, nice, seatin...</td>\n      <td>[very, cool, good, drinks, nice, seating, just...</td>\n      <td>[cool, decor, good, drink, nice, seating, over...</td>\n      <td>cool, decor, good, drink, nice, seating, overp...</td>\n      <td>[place]</td>\n    </tr>\n    <tr>\n      <th>4</th>\n      <td>The Factory - Cafe With a Soul</td>\n      <td>12/3/2016</td>\n      <td>1 check-in they are located within the northcr...</td>\n      <td>1</td>\n      <td>[checkin, they, are, located, within, the, nor...</td>\n      <td>[they, are, located, within, the, northcross, ...</td>\n      <td>[check, locate, northcross, mall, shopping, ce...</td>\n      <td>check, locate, northcross, mall, shopping, cen...</td>\n      <td>[soul]</td>\n    </tr>\n  </tbody>\n</table>\n</div>"
     },
     "metadata": {},
     "execution_count": 33
    }
   ],
   "source": [
    "shops.head()"
   ]
  },
  {
   "cell_type": "code",
   "execution_count": 34,
   "metadata": {},
   "outputs": [
    {
     "output_type": "execute_result",
     "data": {
      "text/plain": [
       "1727"
      ]
     },
     "metadata": {},
     "execution_count": 34
    }
   ],
   "source": [
    "# The object `Counter` takes an iterable, but you can instaniate an empty one and update it. \n",
    "word_counts = Counter()\n",
    "\n",
    "# Update it based on a split of each of our documents\n",
    "shops['nostop_tokens'].apply(lambda x: word_counts.update(x))\n",
    "\n",
    "len(word_counts)"
   ]
  },
  {
   "cell_type": "code",
   "execution_count": 35,
   "metadata": {},
   "outputs": [
    {
     "output_type": "execute_result",
     "data": {
      "text/plain": [
       "[('restriction', 1),\n",
       " ('chatty', 1),\n",
       " ('scrambler', 1),\n",
       " ('pot', 1),\n",
       " ('bet', 1),\n",
       " ('cesar', 1),\n",
       " ('hmmmm', 1),\n",
       " ('cuppa', 1),\n",
       " ('yogurt', 1),\n",
       " ('body', 1),\n",
       " ('jasmine', 1),\n",
       " ('girlfriend', 1),\n",
       " ('eatery', 1),\n",
       " ('treasure', 1),\n",
       " ('grin', 1),\n",
       " ('second', 1),\n",
       " ('catering', 1),\n",
       " ('noon', 1),\n",
       " ('ftw', 1),\n",
       " ('envy', 1),\n",
       " ('mamma', 1),\n",
       " ('alma', 1),\n",
       " ('suggest', 1),\n",
       " ('bagelwich', 1),\n",
       " ('sooner', 1),\n",
       " ('admirable', 1),\n",
       " ('overwhelm', 1),\n",
       " ('rule', 1),\n",
       " ('gummie', 1),\n",
       " ('non', 1),\n",
       " ('vice', 1),\n",
       " ('swiss', 1),\n",
       " ('goody', 1),\n",
       " ('sammich', 1),\n",
       " ('sandwhich', 1),\n",
       " ('operate', 1),\n",
       " ('pepsi', 1),\n",
       " ('fee', 1),\n",
       " ('sammie', 1),\n",
       " ('dot', 1),\n",
       " ('password', 1),\n",
       " ('succeed', 1),\n",
       " ('draw', 1),\n",
       " ('exciting', 1),\n",
       " ('tavern', 1),\n",
       " ('agree', 1),\n",
       " ('tonight', 1),\n",
       " ('select', 1),\n",
       " ('gaming', 1)]"
      ]
     },
     "metadata": {},
     "execution_count": 35
    }
   ],
   "source": [
    "# Print out the least common words\n",
    "word_counts.most_common()[:-50:-1] "
   ]
  },
  {
   "cell_type": "code",
   "execution_count": 40,
   "metadata": {},
   "outputs": [
    {
     "output_type": "execute_result",
     "data": {
      "text/plain": [
       "[('coffee', 222),\n",
       " ('place', 174),\n",
       " ('come', 120),\n",
       " ('good', 116),\n",
       " ('austin', 107),\n",
       " ('latte', 99),\n",
       " ('time', 94),\n",
       " ('recommend', 85),\n",
       " ('work', 71),\n",
       " ('day', 65),\n",
       " ('try', 64),\n",
       " ('spot', 59),\n",
       " ('shop', 59),\n",
       " ('delicious', 57),\n",
       " ('love', 56),\n",
       " ('area', 55),\n",
       " ('service', 53),\n",
       " ('tea', 46),\n",
       " ('great', 46),\n",
       " ('return', 46)]"
      ]
     },
     "metadata": {},
     "execution_count": 40
    }
   ],
   "source": [
    "# Print out the 20 most common words\n",
    "word_counts.most_common(20)"
   ]
  },
  {
   "cell_type": "code",
   "execution_count": 41,
   "metadata": {},
   "outputs": [
    {
     "output_type": "execute_result",
     "data": {
      "text/plain": [
       "((7616, 9), (1476, 9), (6140, 9))"
      ]
     },
     "metadata": {},
     "execution_count": 41
    }
   ],
   "source": [
    "df_bad = shops[shops['rating'] == 0]\n",
    "df_good = shops[shops['rating'] == 1]\n",
    "shops.shape, df_bad.shape, df_good.shape"
   ]
  },
  {
   "cell_type": "code",
   "execution_count": 51,
   "metadata": {},
   "outputs": [
    {
     "output_type": "stream",
     "name": "stdout",
     "text": [
      "(6427, 7)\n"
     ]
    },
    {
     "output_type": "execute_result",
     "data": {
      "text/plain": [
       "       word  appears_in  count  rank  pct_total  cul_pct_total  appears_in_pct\n",
       "5    coffee         951   2212   1.0   0.029237       0.029237        0.644309\n",
       "21    place         756   1232   2.0   0.016284       0.045521        0.512195\n",
       "19     good         650   1006   3.0   0.013297       0.058818        0.440379\n",
       "20     like         596    945   4.0   0.012491       0.071309        0.403794\n",
       "78    order         430    755   5.0   0.009979       0.081288        0.291328\n",
       "121    come         452    651   6.0   0.008605       0.089893        0.306233\n",
       "184    time         425    617   7.0   0.008155       0.098048        0.287940\n",
       "8     drink         365    612   8.0   0.008089       0.106137        0.247290\n",
       "66    check         488    526   9.0   0.006952       0.113089        0.330623\n",
       "135    food         324    507  10.0   0.006701       0.119791        0.219512"
      ],
      "text/html": "<div>\n<style scoped>\n    .dataframe tbody tr th:only-of-type {\n        vertical-align: middle;\n    }\n\n    .dataframe tbody tr th {\n        vertical-align: top;\n    }\n\n    .dataframe thead th {\n        text-align: right;\n    }\n</style>\n<table border=\"1\" class=\"dataframe\">\n  <thead>\n    <tr style=\"text-align: right;\">\n      <th></th>\n      <th>word</th>\n      <th>appears_in</th>\n      <th>count</th>\n      <th>rank</th>\n      <th>pct_total</th>\n      <th>cul_pct_total</th>\n      <th>appears_in_pct</th>\n    </tr>\n  </thead>\n  <tbody>\n    <tr>\n      <th>5</th>\n      <td>coffee</td>\n      <td>951</td>\n      <td>2212</td>\n      <td>1.0</td>\n      <td>0.029237</td>\n      <td>0.029237</td>\n      <td>0.644309</td>\n    </tr>\n    <tr>\n      <th>21</th>\n      <td>place</td>\n      <td>756</td>\n      <td>1232</td>\n      <td>2.0</td>\n      <td>0.016284</td>\n      <td>0.045521</td>\n      <td>0.512195</td>\n    </tr>\n    <tr>\n      <th>19</th>\n      <td>good</td>\n      <td>650</td>\n      <td>1006</td>\n      <td>3.0</td>\n      <td>0.013297</td>\n      <td>0.058818</td>\n      <td>0.440379</td>\n    </tr>\n    <tr>\n      <th>20</th>\n      <td>like</td>\n      <td>596</td>\n      <td>945</td>\n      <td>4.0</td>\n      <td>0.012491</td>\n      <td>0.071309</td>\n      <td>0.403794</td>\n    </tr>\n    <tr>\n      <th>78</th>\n      <td>order</td>\n      <td>430</td>\n      <td>755</td>\n      <td>5.0</td>\n      <td>0.009979</td>\n      <td>0.081288</td>\n      <td>0.291328</td>\n    </tr>\n    <tr>\n      <th>121</th>\n      <td>come</td>\n      <td>452</td>\n      <td>651</td>\n      <td>6.0</td>\n      <td>0.008605</td>\n      <td>0.089893</td>\n      <td>0.306233</td>\n    </tr>\n    <tr>\n      <th>184</th>\n      <td>time</td>\n      <td>425</td>\n      <td>617</td>\n      <td>7.0</td>\n      <td>0.008155</td>\n      <td>0.098048</td>\n      <td>0.287940</td>\n    </tr>\n    <tr>\n      <th>8</th>\n      <td>drink</td>\n      <td>365</td>\n      <td>612</td>\n      <td>8.0</td>\n      <td>0.008089</td>\n      <td>0.106137</td>\n      <td>0.247290</td>\n    </tr>\n    <tr>\n      <th>66</th>\n      <td>check</td>\n      <td>488</td>\n      <td>526</td>\n      <td>9.0</td>\n      <td>0.006952</td>\n      <td>0.113089</td>\n      <td>0.330623</td>\n    </tr>\n    <tr>\n      <th>135</th>\n      <td>food</td>\n      <td>324</td>\n      <td>507</td>\n      <td>10.0</td>\n      <td>0.006701</td>\n      <td>0.119791</td>\n      <td>0.219512</td>\n    </tr>\n  </tbody>\n</table>\n</div>"
     },
     "metadata": {},
     "execution_count": 51
    }
   ],
   "source": [
    "wc_bad = count(df_bad['nostop_tokens'])\n",
    "print(wc_bad.shape)\n",
    "wc_bad.head(10)"
   ]
  },
  {
   "cell_type": "code",
   "execution_count": 52,
   "metadata": {},
   "outputs": [
    {
     "output_type": "stream",
     "name": "stdout",
     "text": [
      "(11516, 7)\n"
     ]
    },
    {
     "output_type": "execute_result",
     "data": {
      "text/plain": [
       "       word  appears_in  count  rank  pct_total  cul_pct_total  appears_in_pct\n",
       "4    coffee        4002   8551   1.0   0.031416       0.031416        0.651792\n",
       "86    place        3136   4827   2.0   0.017734       0.049151        0.510749\n",
       "178    good        2957   4416   3.0   0.016224       0.065375        0.481596\n",
       "63    great        2512   3487   4.0   0.012811       0.078186        0.409121\n",
       "5     check        2686   2942   5.0   0.010809       0.088995        0.437459\n",
       "181    like        1678   2435   6.0   0.008946       0.097941        0.273290\n",
       "28     love        1613   2135   7.0   0.007844       0.105785        0.262704\n",
       "44   austin        1586   2043   8.0   0.007506       0.113291        0.258306\n",
       "343    come        1483   1991   9.0   0.007315       0.120606        0.241531\n",
       "12     shop        1349   1805  10.0   0.006632       0.127238        0.219707"
      ],
      "text/html": "<div>\n<style scoped>\n    .dataframe tbody tr th:only-of-type {\n        vertical-align: middle;\n    }\n\n    .dataframe tbody tr th {\n        vertical-align: top;\n    }\n\n    .dataframe thead th {\n        text-align: right;\n    }\n</style>\n<table border=\"1\" class=\"dataframe\">\n  <thead>\n    <tr style=\"text-align: right;\">\n      <th></th>\n      <th>word</th>\n      <th>appears_in</th>\n      <th>count</th>\n      <th>rank</th>\n      <th>pct_total</th>\n      <th>cul_pct_total</th>\n      <th>appears_in_pct</th>\n    </tr>\n  </thead>\n  <tbody>\n    <tr>\n      <th>4</th>\n      <td>coffee</td>\n      <td>4002</td>\n      <td>8551</td>\n      <td>1.0</td>\n      <td>0.031416</td>\n      <td>0.031416</td>\n      <td>0.651792</td>\n    </tr>\n    <tr>\n      <th>86</th>\n      <td>place</td>\n      <td>3136</td>\n      <td>4827</td>\n      <td>2.0</td>\n      <td>0.017734</td>\n      <td>0.049151</td>\n      <td>0.510749</td>\n    </tr>\n    <tr>\n      <th>178</th>\n      <td>good</td>\n      <td>2957</td>\n      <td>4416</td>\n      <td>3.0</td>\n      <td>0.016224</td>\n      <td>0.065375</td>\n      <td>0.481596</td>\n    </tr>\n    <tr>\n      <th>63</th>\n      <td>great</td>\n      <td>2512</td>\n      <td>3487</td>\n      <td>4.0</td>\n      <td>0.012811</td>\n      <td>0.078186</td>\n      <td>0.409121</td>\n    </tr>\n    <tr>\n      <th>5</th>\n      <td>check</td>\n      <td>2686</td>\n      <td>2942</td>\n      <td>5.0</td>\n      <td>0.010809</td>\n      <td>0.088995</td>\n      <td>0.437459</td>\n    </tr>\n    <tr>\n      <th>181</th>\n      <td>like</td>\n      <td>1678</td>\n      <td>2435</td>\n      <td>6.0</td>\n      <td>0.008946</td>\n      <td>0.097941</td>\n      <td>0.273290</td>\n    </tr>\n    <tr>\n      <th>28</th>\n      <td>love</td>\n      <td>1613</td>\n      <td>2135</td>\n      <td>7.0</td>\n      <td>0.007844</td>\n      <td>0.105785</td>\n      <td>0.262704</td>\n    </tr>\n    <tr>\n      <th>44</th>\n      <td>austin</td>\n      <td>1586</td>\n      <td>2043</td>\n      <td>8.0</td>\n      <td>0.007506</td>\n      <td>0.113291</td>\n      <td>0.258306</td>\n    </tr>\n    <tr>\n      <th>343</th>\n      <td>come</td>\n      <td>1483</td>\n      <td>1991</td>\n      <td>9.0</td>\n      <td>0.007315</td>\n      <td>0.120606</td>\n      <td>0.241531</td>\n    </tr>\n    <tr>\n      <th>12</th>\n      <td>shop</td>\n      <td>1349</td>\n      <td>1805</td>\n      <td>10.0</td>\n      <td>0.006632</td>\n      <td>0.127238</td>\n      <td>0.219707</td>\n    </tr>\n  </tbody>\n</table>\n</div>"
     },
     "metadata": {},
     "execution_count": 52
    }
   ],
   "source": [
    "wc_good = count(df_good['nostop_tokens'])\n",
    "print(wc_good.shape)\n",
    "wc_good.head(10)"
   ]
  },
  {
   "cell_type": "code",
   "execution_count": 61,
   "metadata": {},
   "outputs": [
    {
     "output_type": "execute_result",
     "data": {
      "text/plain": [
       "28"
      ]
     },
     "metadata": {},
     "execution_count": 61
    }
   ],
   "source": [
    "# find the intersection of the top 40 words from the good and bad reviews\n",
    "# use as additional stop words\n",
    "wc_good_top40= wc_good[wc_good['rank']<41]\n",
    "wc_bad_top40= wc_bad[wc_bad['rank']<41]\n",
    "\n",
    "bad_good_shared_top_words = set(wc_bad_top40['word']).intersection(set(wc_good_top40['word']))\n",
    "\n",
    "len(bad_good_shared_top_words)"
   ]
  },
  {
   "cell_type": "code",
   "execution_count": 68,
   "metadata": {},
   "outputs": [
    {
     "output_type": "execute_result",
     "data": {
      "text/plain": [
       "207"
      ]
     },
     "metadata": {},
     "execution_count": 68
    }
   ],
   "source": [
    "# add the list of shared words in the top 40 good & bad reviews to add to STOP_WORDS\n",
    "\n",
    "stoppers = list(bad_good_shared_top_words)\n",
    "\n",
    "STOP_WORDS = STOP_WORDS + stoppers\n",
    "len(STOP_WORDS)"
   ]
  },
  {
   "cell_type": "code",
   "execution_count": 69,
   "metadata": {},
   "outputs": [],
   "source": [
    "# remove additional stop words\n",
    "tokens = []\n",
    "for doc in tokenizer.pipe(shops['lem_string'], batch_size=500):\n",
    "    \n",
    "    doc_tokens = []\n",
    "    for token in doc:\n",
    "        if (token.is_alpha == True)& (token.text.lower() not in STOP_WORDS):\n",
    "            doc_tokens.append(token.text.lower())\n",
    "   \n",
    "    tokens.append(doc_tokens)\n",
    "    \n",
    "shops['nostop_tokens_2'] = tokens"
   ]
  },
  {
   "cell_type": "code",
   "execution_count": 70,
   "metadata": {},
   "outputs": [
    {
     "output_type": "stream",
     "name": "stdout",
     "text": [
      "(13021, 7)\n"
     ]
    },
    {
     "output_type": "execute_result",
     "data": {
      "text/plain": [
       "          word  appears_in  count  rank  pct_total  cul_pct_total  \\\n",
       "154   friendly        1635   1733   1.0   0.006312       0.006312   \n",
       "639  delicious        1264   1405   2.0   0.005118       0.011430   \n",
       "67         lot        1112   1325   3.0   0.004826       0.016256   \n",
       "374      staff        1214   1315   4.0   0.004790       0.021046   \n",
       "76        want        1010   1223   5.0   0.004455       0.025501   \n",
       "\n",
       "     appears_in_pct  \n",
       "154        0.214680  \n",
       "639        0.165966  \n",
       "67         0.146008  \n",
       "374        0.159401  \n",
       "76         0.132616  "
      ],
      "text/html": "<div>\n<style scoped>\n    .dataframe tbody tr th:only-of-type {\n        vertical-align: middle;\n    }\n\n    .dataframe tbody tr th {\n        vertical-align: top;\n    }\n\n    .dataframe thead th {\n        text-align: right;\n    }\n</style>\n<table border=\"1\" class=\"dataframe\">\n  <thead>\n    <tr style=\"text-align: right;\">\n      <th></th>\n      <th>word</th>\n      <th>appears_in</th>\n      <th>count</th>\n      <th>rank</th>\n      <th>pct_total</th>\n      <th>cul_pct_total</th>\n      <th>appears_in_pct</th>\n    </tr>\n  </thead>\n  <tbody>\n    <tr>\n      <th>154</th>\n      <td>friendly</td>\n      <td>1635</td>\n      <td>1733</td>\n      <td>1.0</td>\n      <td>0.006312</td>\n      <td>0.006312</td>\n      <td>0.214680</td>\n    </tr>\n    <tr>\n      <th>639</th>\n      <td>delicious</td>\n      <td>1264</td>\n      <td>1405</td>\n      <td>2.0</td>\n      <td>0.005118</td>\n      <td>0.011430</td>\n      <td>0.165966</td>\n    </tr>\n    <tr>\n      <th>67</th>\n      <td>lot</td>\n      <td>1112</td>\n      <td>1325</td>\n      <td>3.0</td>\n      <td>0.004826</td>\n      <td>0.016256</td>\n      <td>0.146008</td>\n    </tr>\n    <tr>\n      <th>374</th>\n      <td>staff</td>\n      <td>1214</td>\n      <td>1315</td>\n      <td>4.0</td>\n      <td>0.004790</td>\n      <td>0.021046</td>\n      <td>0.159401</td>\n    </tr>\n    <tr>\n      <th>76</th>\n      <td>want</td>\n      <td>1010</td>\n      <td>1223</td>\n      <td>5.0</td>\n      <td>0.004455</td>\n      <td>0.025501</td>\n      <td>0.132616</td>\n    </tr>\n  </tbody>\n</table>\n</div>"
     },
     "metadata": {},
     "execution_count": 70
    }
   ],
   "source": [
    "wc_nostop = count(shops['nostop_tokens_2'])\n",
    "print(wc_nostop.shape)\n",
    "wc_nostop.head()"
   ]
  },
  {
   "cell_type": "code",
   "execution_count": 71,
   "metadata": {},
   "outputs": [
    {
     "output_type": "execute_result",
     "data": {
      "text/plain": [
       "count    13021.000000\n",
       "mean         0.002425\n",
       "std          0.009324\n",
       "min          0.000131\n",
       "25%          0.000131\n",
       "50%          0.000263\n",
       "75%          0.000919\n",
       "max          0.214680\n",
       "Name: appears_in_pct, dtype: float64"
      ]
     },
     "metadata": {},
     "execution_count": 71
    }
   ],
   "source": [
    "# 25% or more words appear in only one document\n",
    "wc_nostop['appears_in_pct'].describe()"
   ]
  },
  {
   "cell_type": "code",
   "execution_count": 72,
   "metadata": {},
   "outputs": [
    {
     "output_type": "display_data",
     "data": {
      "text/plain": "<Figure size 432x288 with 1 Axes>",
      "image/svg+xml": "<?xml version=\"1.0\" encoding=\"utf-8\" standalone=\"no\"?>\r\n<!DOCTYPE svg PUBLIC \"-//W3C//DTD SVG 1.1//EN\"\r\n  \"http://www.w3.org/Graphics/SVG/1.1/DTD/svg11.dtd\">\r\n<!-- Created with matplotlib (https://matplotlib.org/) -->\r\n<svg height=\"262.19625pt\" version=\"1.1\" viewBox=\"0 0 386.059375 262.19625\" width=\"386.059375pt\" xmlns=\"http://www.w3.org/2000/svg\" xmlns:xlink=\"http://www.w3.org/1999/xlink\">\r\n <metadata>\r\n  <rdf:RDF xmlns:cc=\"http://creativecommons.org/ns#\" xmlns:dc=\"http://purl.org/dc/elements/1.1/\" xmlns:rdf=\"http://www.w3.org/1999/02/22-rdf-syntax-ns#\">\r\n   <cc:Work>\r\n    <dc:type rdf:resource=\"http://purl.org/dc/dcmitype/StillImage\"/>\r\n    <dc:date>2021-01-14T16:41:34.942359</dc:date>\r\n    <dc:format>image/svg+xml</dc:format>\r\n    <dc:creator>\r\n     <cc:Agent>\r\n      <dc:title>Matplotlib v3.3.2, https://matplotlib.org/</dc:title>\r\n     </cc:Agent>\r\n    </dc:creator>\r\n   </cc:Work>\r\n  </rdf:RDF>\r\n </metadata>\r\n <defs>\r\n  <style type=\"text/css\">*{stroke-linecap:butt;stroke-linejoin:round;}</style>\r\n </defs>\r\n <g id=\"figure_1\">\r\n  <g id=\"patch_1\">\r\n   <path d=\"M 0 262.19625 \r\nL 386.059375 262.19625 \r\nL 386.059375 0 \r\nL 0 0 \r\nz\r\n\" style=\"fill:none;\"/>\r\n  </g>\r\n  <g id=\"axes_1\">\r\n   <g id=\"patch_2\">\r\n    <path d=\"M 44.059375 224.64 \r\nL 378.859375 224.64 \r\nL 378.859375 7.2 \r\nL 44.059375 7.2 \r\nz\r\n\" style=\"fill:#ffffff;\"/>\r\n   </g>\r\n   <g id=\"matplotlib.axis_1\">\r\n    <g id=\"xtick_1\">\r\n     <g id=\"line2d_1\">\r\n      <defs>\r\n       <path d=\"M 0 0 \r\nL 0 3.5 \r\n\" id=\"mc16c849f15\" style=\"stroke:#000000;stroke-width:0.8;\"/>\r\n      </defs>\r\n      <g>\r\n       <use style=\"stroke:#000000;stroke-width:0.8;\" x=\"59.25418\" xlink:href=\"#mc16c849f15\" y=\"224.64\"/>\r\n      </g>\r\n     </g>\r\n     <g id=\"text_1\">\r\n      <!-- 0 -->\r\n      <g transform=\"translate(56.07293 239.238438)scale(0.1 -0.1)\">\r\n       <defs>\r\n        <path d=\"M 31.78125 66.40625 \r\nQ 24.171875 66.40625 20.328125 58.90625 \r\nQ 16.5 51.421875 16.5 36.375 \r\nQ 16.5 21.390625 20.328125 13.890625 \r\nQ 24.171875 6.390625 31.78125 6.390625 \r\nQ 39.453125 6.390625 43.28125 13.890625 \r\nQ 47.125 21.390625 47.125 36.375 \r\nQ 47.125 51.421875 43.28125 58.90625 \r\nQ 39.453125 66.40625 31.78125 66.40625 \r\nz\r\nM 31.78125 74.21875 \r\nQ 44.046875 74.21875 50.515625 64.515625 \r\nQ 56.984375 54.828125 56.984375 36.375 \r\nQ 56.984375 17.96875 50.515625 8.265625 \r\nQ 44.046875 -1.421875 31.78125 -1.421875 \r\nQ 19.53125 -1.421875 13.0625 8.265625 \r\nQ 6.59375 17.96875 6.59375 36.375 \r\nQ 6.59375 54.828125 13.0625 64.515625 \r\nQ 19.53125 74.21875 31.78125 74.21875 \r\nz\r\n\" id=\"DejaVuSans-48\"/>\r\n       </defs>\r\n       <use xlink:href=\"#DejaVuSans-48\"/>\r\n      </g>\r\n     </g>\r\n    </g>\r\n    <g id=\"xtick_2\">\r\n     <g id=\"line2d_2\">\r\n      <g>\r\n       <use style=\"stroke:#000000;stroke-width:0.8;\" x=\"106.007427\" xlink:href=\"#mc16c849f15\" y=\"224.64\"/>\r\n      </g>\r\n     </g>\r\n     <g id=\"text_2\">\r\n      <!-- 2000 -->\r\n      <g transform=\"translate(93.282427 239.238438)scale(0.1 -0.1)\">\r\n       <defs>\r\n        <path d=\"M 19.1875 8.296875 \r\nL 53.609375 8.296875 \r\nL 53.609375 0 \r\nL 7.328125 0 \r\nL 7.328125 8.296875 \r\nQ 12.9375 14.109375 22.625 23.890625 \r\nQ 32.328125 33.6875 34.8125 36.53125 \r\nQ 39.546875 41.84375 41.421875 45.53125 \r\nQ 43.3125 49.21875 43.3125 52.78125 \r\nQ 43.3125 58.59375 39.234375 62.25 \r\nQ 35.15625 65.921875 28.609375 65.921875 \r\nQ 23.96875 65.921875 18.8125 64.3125 \r\nQ 13.671875 62.703125 7.8125 59.421875 \r\nL 7.8125 69.390625 \r\nQ 13.765625 71.78125 18.9375 73 \r\nQ 24.125 74.21875 28.421875 74.21875 \r\nQ 39.75 74.21875 46.484375 68.546875 \r\nQ 53.21875 62.890625 53.21875 53.421875 \r\nQ 53.21875 48.921875 51.53125 44.890625 \r\nQ 49.859375 40.875 45.40625 35.40625 \r\nQ 44.1875 33.984375 37.640625 27.21875 \r\nQ 31.109375 20.453125 19.1875 8.296875 \r\nz\r\n\" id=\"DejaVuSans-50\"/>\r\n       </defs>\r\n       <use xlink:href=\"#DejaVuSans-50\"/>\r\n       <use x=\"63.623047\" xlink:href=\"#DejaVuSans-48\"/>\r\n       <use x=\"127.246094\" xlink:href=\"#DejaVuSans-48\"/>\r\n       <use x=\"190.869141\" xlink:href=\"#DejaVuSans-48\"/>\r\n      </g>\r\n     </g>\r\n    </g>\r\n    <g id=\"xtick_3\">\r\n     <g id=\"line2d_3\">\r\n      <g>\r\n       <use style=\"stroke:#000000;stroke-width:0.8;\" x=\"152.760674\" xlink:href=\"#mc16c849f15\" y=\"224.64\"/>\r\n      </g>\r\n     </g>\r\n     <g id=\"text_3\">\r\n      <!-- 4000 -->\r\n      <g transform=\"translate(140.035674 239.238438)scale(0.1 -0.1)\">\r\n       <defs>\r\n        <path d=\"M 37.796875 64.3125 \r\nL 12.890625 25.390625 \r\nL 37.796875 25.390625 \r\nz\r\nM 35.203125 72.90625 \r\nL 47.609375 72.90625 \r\nL 47.609375 25.390625 \r\nL 58.015625 25.390625 \r\nL 58.015625 17.1875 \r\nL 47.609375 17.1875 \r\nL 47.609375 0 \r\nL 37.796875 0 \r\nL 37.796875 17.1875 \r\nL 4.890625 17.1875 \r\nL 4.890625 26.703125 \r\nz\r\n\" id=\"DejaVuSans-52\"/>\r\n       </defs>\r\n       <use xlink:href=\"#DejaVuSans-52\"/>\r\n       <use x=\"63.623047\" xlink:href=\"#DejaVuSans-48\"/>\r\n       <use x=\"127.246094\" xlink:href=\"#DejaVuSans-48\"/>\r\n       <use x=\"190.869141\" xlink:href=\"#DejaVuSans-48\"/>\r\n      </g>\r\n     </g>\r\n    </g>\r\n    <g id=\"xtick_4\">\r\n     <g id=\"line2d_4\">\r\n      <g>\r\n       <use style=\"stroke:#000000;stroke-width:0.8;\" x=\"199.51392\" xlink:href=\"#mc16c849f15\" y=\"224.64\"/>\r\n      </g>\r\n     </g>\r\n     <g id=\"text_4\">\r\n      <!-- 6000 -->\r\n      <g transform=\"translate(186.78892 239.238438)scale(0.1 -0.1)\">\r\n       <defs>\r\n        <path d=\"M 33.015625 40.375 \r\nQ 26.375 40.375 22.484375 35.828125 \r\nQ 18.609375 31.296875 18.609375 23.390625 \r\nQ 18.609375 15.53125 22.484375 10.953125 \r\nQ 26.375 6.390625 33.015625 6.390625 \r\nQ 39.65625 6.390625 43.53125 10.953125 \r\nQ 47.40625 15.53125 47.40625 23.390625 \r\nQ 47.40625 31.296875 43.53125 35.828125 \r\nQ 39.65625 40.375 33.015625 40.375 \r\nz\r\nM 52.59375 71.296875 \r\nL 52.59375 62.3125 \r\nQ 48.875 64.0625 45.09375 64.984375 \r\nQ 41.3125 65.921875 37.59375 65.921875 \r\nQ 27.828125 65.921875 22.671875 59.328125 \r\nQ 17.53125 52.734375 16.796875 39.40625 \r\nQ 19.671875 43.65625 24.015625 45.921875 \r\nQ 28.375 48.1875 33.59375 48.1875 \r\nQ 44.578125 48.1875 50.953125 41.515625 \r\nQ 57.328125 34.859375 57.328125 23.390625 \r\nQ 57.328125 12.15625 50.6875 5.359375 \r\nQ 44.046875 -1.421875 33.015625 -1.421875 \r\nQ 20.359375 -1.421875 13.671875 8.265625 \r\nQ 6.984375 17.96875 6.984375 36.375 \r\nQ 6.984375 53.65625 15.1875 63.9375 \r\nQ 23.390625 74.21875 37.203125 74.21875 \r\nQ 40.921875 74.21875 44.703125 73.484375 \r\nQ 48.484375 72.75 52.59375 71.296875 \r\nz\r\n\" id=\"DejaVuSans-54\"/>\r\n       </defs>\r\n       <use xlink:href=\"#DejaVuSans-54\"/>\r\n       <use x=\"63.623047\" xlink:href=\"#DejaVuSans-48\"/>\r\n       <use x=\"127.246094\" xlink:href=\"#DejaVuSans-48\"/>\r\n       <use x=\"190.869141\" xlink:href=\"#DejaVuSans-48\"/>\r\n      </g>\r\n     </g>\r\n    </g>\r\n    <g id=\"xtick_5\">\r\n     <g id=\"line2d_5\">\r\n      <g>\r\n       <use style=\"stroke:#000000;stroke-width:0.8;\" x=\"246.267167\" xlink:href=\"#mc16c849f15\" y=\"224.64\"/>\r\n      </g>\r\n     </g>\r\n     <g id=\"text_5\">\r\n      <!-- 8000 -->\r\n      <g transform=\"translate(233.542167 239.238438)scale(0.1 -0.1)\">\r\n       <defs>\r\n        <path d=\"M 31.78125 34.625 \r\nQ 24.75 34.625 20.71875 30.859375 \r\nQ 16.703125 27.09375 16.703125 20.515625 \r\nQ 16.703125 13.921875 20.71875 10.15625 \r\nQ 24.75 6.390625 31.78125 6.390625 \r\nQ 38.8125 6.390625 42.859375 10.171875 \r\nQ 46.921875 13.96875 46.921875 20.515625 \r\nQ 46.921875 27.09375 42.890625 30.859375 \r\nQ 38.875 34.625 31.78125 34.625 \r\nz\r\nM 21.921875 38.8125 \r\nQ 15.578125 40.375 12.03125 44.71875 \r\nQ 8.5 49.078125 8.5 55.328125 \r\nQ 8.5 64.0625 14.71875 69.140625 \r\nQ 20.953125 74.21875 31.78125 74.21875 \r\nQ 42.671875 74.21875 48.875 69.140625 \r\nQ 55.078125 64.0625 55.078125 55.328125 \r\nQ 55.078125 49.078125 51.53125 44.71875 \r\nQ 48 40.375 41.703125 38.8125 \r\nQ 48.828125 37.15625 52.796875 32.3125 \r\nQ 56.78125 27.484375 56.78125 20.515625 \r\nQ 56.78125 9.90625 50.3125 4.234375 \r\nQ 43.84375 -1.421875 31.78125 -1.421875 \r\nQ 19.734375 -1.421875 13.25 4.234375 \r\nQ 6.78125 9.90625 6.78125 20.515625 \r\nQ 6.78125 27.484375 10.78125 32.3125 \r\nQ 14.796875 37.15625 21.921875 38.8125 \r\nz\r\nM 18.3125 54.390625 \r\nQ 18.3125 48.734375 21.84375 45.5625 \r\nQ 25.390625 42.390625 31.78125 42.390625 \r\nQ 38.140625 42.390625 41.71875 45.5625 \r\nQ 45.3125 48.734375 45.3125 54.390625 \r\nQ 45.3125 60.0625 41.71875 63.234375 \r\nQ 38.140625 66.40625 31.78125 66.40625 \r\nQ 25.390625 66.40625 21.84375 63.234375 \r\nQ 18.3125 60.0625 18.3125 54.390625 \r\nz\r\n\" id=\"DejaVuSans-56\"/>\r\n       </defs>\r\n       <use xlink:href=\"#DejaVuSans-56\"/>\r\n       <use x=\"63.623047\" xlink:href=\"#DejaVuSans-48\"/>\r\n       <use x=\"127.246094\" xlink:href=\"#DejaVuSans-48\"/>\r\n       <use x=\"190.869141\" xlink:href=\"#DejaVuSans-48\"/>\r\n      </g>\r\n     </g>\r\n    </g>\r\n    <g id=\"xtick_6\">\r\n     <g id=\"line2d_6\">\r\n      <g>\r\n       <use style=\"stroke:#000000;stroke-width:0.8;\" x=\"293.020414\" xlink:href=\"#mc16c849f15\" y=\"224.64\"/>\r\n      </g>\r\n     </g>\r\n     <g id=\"text_6\">\r\n      <!-- 10000 -->\r\n      <g transform=\"translate(277.114164 239.238438)scale(0.1 -0.1)\">\r\n       <defs>\r\n        <path d=\"M 12.40625 8.296875 \r\nL 28.515625 8.296875 \r\nL 28.515625 63.921875 \r\nL 10.984375 60.40625 \r\nL 10.984375 69.390625 \r\nL 28.421875 72.90625 \r\nL 38.28125 72.90625 \r\nL 38.28125 8.296875 \r\nL 54.390625 8.296875 \r\nL 54.390625 0 \r\nL 12.40625 0 \r\nz\r\n\" id=\"DejaVuSans-49\"/>\r\n       </defs>\r\n       <use xlink:href=\"#DejaVuSans-49\"/>\r\n       <use x=\"63.623047\" xlink:href=\"#DejaVuSans-48\"/>\r\n       <use x=\"127.246094\" xlink:href=\"#DejaVuSans-48\"/>\r\n       <use x=\"190.869141\" xlink:href=\"#DejaVuSans-48\"/>\r\n       <use x=\"254.492188\" xlink:href=\"#DejaVuSans-48\"/>\r\n      </g>\r\n     </g>\r\n    </g>\r\n    <g id=\"xtick_7\">\r\n     <g id=\"line2d_7\">\r\n      <g>\r\n       <use style=\"stroke:#000000;stroke-width:0.8;\" x=\"339.773661\" xlink:href=\"#mc16c849f15\" y=\"224.64\"/>\r\n      </g>\r\n     </g>\r\n     <g id=\"text_7\">\r\n      <!-- 12000 -->\r\n      <g transform=\"translate(323.867411 239.238438)scale(0.1 -0.1)\">\r\n       <use xlink:href=\"#DejaVuSans-49\"/>\r\n       <use x=\"63.623047\" xlink:href=\"#DejaVuSans-50\"/>\r\n       <use x=\"127.246094\" xlink:href=\"#DejaVuSans-48\"/>\r\n       <use x=\"190.869141\" xlink:href=\"#DejaVuSans-48\"/>\r\n       <use x=\"254.492188\" xlink:href=\"#DejaVuSans-48\"/>\r\n      </g>\r\n     </g>\r\n    </g>\r\n    <g id=\"text_8\">\r\n     <!-- rank -->\r\n     <g transform=\"translate(200.275781 252.916563)scale(0.1 -0.1)\">\r\n      <defs>\r\n       <path d=\"M 41.109375 46.296875 \r\nQ 39.59375 47.171875 37.8125 47.578125 \r\nQ 36.03125 48 33.890625 48 \r\nQ 26.265625 48 22.1875 43.046875 \r\nQ 18.109375 38.09375 18.109375 28.8125 \r\nL 18.109375 0 \r\nL 9.078125 0 \r\nL 9.078125 54.6875 \r\nL 18.109375 54.6875 \r\nL 18.109375 46.1875 \r\nQ 20.953125 51.171875 25.484375 53.578125 \r\nQ 30.03125 56 36.53125 56 \r\nQ 37.453125 56 38.578125 55.875 \r\nQ 39.703125 55.765625 41.0625 55.515625 \r\nz\r\n\" id=\"DejaVuSans-114\"/>\r\n       <path d=\"M 34.28125 27.484375 \r\nQ 23.390625 27.484375 19.1875 25 \r\nQ 14.984375 22.515625 14.984375 16.5 \r\nQ 14.984375 11.71875 18.140625 8.90625 \r\nQ 21.296875 6.109375 26.703125 6.109375 \r\nQ 34.1875 6.109375 38.703125 11.40625 \r\nQ 43.21875 16.703125 43.21875 25.484375 \r\nL 43.21875 27.484375 \r\nz\r\nM 52.203125 31.203125 \r\nL 52.203125 0 \r\nL 43.21875 0 \r\nL 43.21875 8.296875 \r\nQ 40.140625 3.328125 35.546875 0.953125 \r\nQ 30.953125 -1.421875 24.3125 -1.421875 \r\nQ 15.921875 -1.421875 10.953125 3.296875 \r\nQ 6 8.015625 6 15.921875 \r\nQ 6 25.140625 12.171875 29.828125 \r\nQ 18.359375 34.515625 30.609375 34.515625 \r\nL 43.21875 34.515625 \r\nL 43.21875 35.40625 \r\nQ 43.21875 41.609375 39.140625 45 \r\nQ 35.0625 48.390625 27.6875 48.390625 \r\nQ 23 48.390625 18.546875 47.265625 \r\nQ 14.109375 46.140625 10.015625 43.890625 \r\nL 10.015625 52.203125 \r\nQ 14.9375 54.109375 19.578125 55.046875 \r\nQ 24.21875 56 28.609375 56 \r\nQ 40.484375 56 46.34375 49.84375 \r\nQ 52.203125 43.703125 52.203125 31.203125 \r\nz\r\n\" id=\"DejaVuSans-97\"/>\r\n       <path d=\"M 54.890625 33.015625 \r\nL 54.890625 0 \r\nL 45.90625 0 \r\nL 45.90625 32.71875 \r\nQ 45.90625 40.484375 42.875 44.328125 \r\nQ 39.84375 48.1875 33.796875 48.1875 \r\nQ 26.515625 48.1875 22.3125 43.546875 \r\nQ 18.109375 38.921875 18.109375 30.90625 \r\nL 18.109375 0 \r\nL 9.078125 0 \r\nL 9.078125 54.6875 \r\nL 18.109375 54.6875 \r\nL 18.109375 46.1875 \r\nQ 21.34375 51.125 25.703125 53.5625 \r\nQ 30.078125 56 35.796875 56 \r\nQ 45.21875 56 50.046875 50.171875 \r\nQ 54.890625 44.34375 54.890625 33.015625 \r\nz\r\n\" id=\"DejaVuSans-110\"/>\r\n       <path d=\"M 9.078125 75.984375 \r\nL 18.109375 75.984375 \r\nL 18.109375 31.109375 \r\nL 44.921875 54.6875 \r\nL 56.390625 54.6875 \r\nL 27.390625 29.109375 \r\nL 57.625 0 \r\nL 45.90625 0 \r\nL 18.109375 26.703125 \r\nL 18.109375 0 \r\nL 9.078125 0 \r\nz\r\n\" id=\"DejaVuSans-107\"/>\r\n      </defs>\r\n      <use xlink:href=\"#DejaVuSans-114\"/>\r\n      <use x=\"41.113281\" xlink:href=\"#DejaVuSans-97\"/>\r\n      <use x=\"102.392578\" xlink:href=\"#DejaVuSans-110\"/>\r\n      <use x=\"165.771484\" xlink:href=\"#DejaVuSans-107\"/>\r\n     </g>\r\n    </g>\r\n   </g>\r\n   <g id=\"matplotlib.axis_2\">\r\n    <g id=\"ytick_1\">\r\n     <g id=\"line2d_8\">\r\n      <defs>\r\n       <path d=\"M 0 0 \r\nL -3.5 0 \r\n\" id=\"m5fbfce3ea7\" style=\"stroke:#000000;stroke-width:0.8;\"/>\r\n      </defs>\r\n      <g>\r\n       <use style=\"stroke:#000000;stroke-width:0.8;\" x=\"44.059375\" xlink:href=\"#m5fbfce3ea7\" y=\"216.012089\"/>\r\n      </g>\r\n     </g>\r\n     <g id=\"text_9\">\r\n      <!-- 0.0 -->\r\n      <g transform=\"translate(21.15625 219.811308)scale(0.1 -0.1)\">\r\n       <defs>\r\n        <path d=\"M 10.6875 12.40625 \r\nL 21 12.40625 \r\nL 21 0 \r\nL 10.6875 0 \r\nz\r\n\" id=\"DejaVuSans-46\"/>\r\n       </defs>\r\n       <use xlink:href=\"#DejaVuSans-48\"/>\r\n       <use x=\"63.623047\" xlink:href=\"#DejaVuSans-46\"/>\r\n       <use x=\"95.410156\" xlink:href=\"#DejaVuSans-48\"/>\r\n      </g>\r\n     </g>\r\n    </g>\r\n    <g id=\"ytick_2\">\r\n     <g id=\"line2d_9\">\r\n      <g>\r\n       <use style=\"stroke:#000000;stroke-width:0.8;\" x=\"44.059375\" xlink:href=\"#m5fbfce3ea7\" y=\"176.226398\"/>\r\n      </g>\r\n     </g>\r\n     <g id=\"text_10\">\r\n      <!-- 0.2 -->\r\n      <g transform=\"translate(21.15625 180.025617)scale(0.1 -0.1)\">\r\n       <use xlink:href=\"#DejaVuSans-48\"/>\r\n       <use x=\"63.623047\" xlink:href=\"#DejaVuSans-46\"/>\r\n       <use x=\"95.410156\" xlink:href=\"#DejaVuSans-50\"/>\r\n      </g>\r\n     </g>\r\n    </g>\r\n    <g id=\"ytick_3\">\r\n     <g id=\"line2d_10\">\r\n      <g>\r\n       <use style=\"stroke:#000000;stroke-width:0.8;\" x=\"44.059375\" xlink:href=\"#m5fbfce3ea7\" y=\"136.440708\"/>\r\n      </g>\r\n     </g>\r\n     <g id=\"text_11\">\r\n      <!-- 0.4 -->\r\n      <g transform=\"translate(21.15625 140.239927)scale(0.1 -0.1)\">\r\n       <use xlink:href=\"#DejaVuSans-48\"/>\r\n       <use x=\"63.623047\" xlink:href=\"#DejaVuSans-46\"/>\r\n       <use x=\"95.410156\" xlink:href=\"#DejaVuSans-52\"/>\r\n      </g>\r\n     </g>\r\n    </g>\r\n    <g id=\"ytick_4\">\r\n     <g id=\"line2d_11\">\r\n      <g>\r\n       <use style=\"stroke:#000000;stroke-width:0.8;\" x=\"44.059375\" xlink:href=\"#m5fbfce3ea7\" y=\"96.655017\"/>\r\n      </g>\r\n     </g>\r\n     <g id=\"text_12\">\r\n      <!-- 0.6 -->\r\n      <g transform=\"translate(21.15625 100.454236)scale(0.1 -0.1)\">\r\n       <use xlink:href=\"#DejaVuSans-48\"/>\r\n       <use x=\"63.623047\" xlink:href=\"#DejaVuSans-46\"/>\r\n       <use x=\"95.410156\" xlink:href=\"#DejaVuSans-54\"/>\r\n      </g>\r\n     </g>\r\n    </g>\r\n    <g id=\"ytick_5\">\r\n     <g id=\"line2d_12\">\r\n      <g>\r\n       <use style=\"stroke:#000000;stroke-width:0.8;\" x=\"44.059375\" xlink:href=\"#m5fbfce3ea7\" y=\"56.869327\"/>\r\n      </g>\r\n     </g>\r\n     <g id=\"text_13\">\r\n      <!-- 0.8 -->\r\n      <g transform=\"translate(21.15625 60.668546)scale(0.1 -0.1)\">\r\n       <use xlink:href=\"#DejaVuSans-48\"/>\r\n       <use x=\"63.623047\" xlink:href=\"#DejaVuSans-46\"/>\r\n       <use x=\"95.410156\" xlink:href=\"#DejaVuSans-56\"/>\r\n      </g>\r\n     </g>\r\n    </g>\r\n    <g id=\"ytick_6\">\r\n     <g id=\"line2d_13\">\r\n      <g>\r\n       <use style=\"stroke:#000000;stroke-width:0.8;\" x=\"44.059375\" xlink:href=\"#m5fbfce3ea7\" y=\"17.083636\"/>\r\n      </g>\r\n     </g>\r\n     <g id=\"text_14\">\r\n      <!-- 1.0 -->\r\n      <g transform=\"translate(21.15625 20.882855)scale(0.1 -0.1)\">\r\n       <use xlink:href=\"#DejaVuSans-49\"/>\r\n       <use x=\"63.623047\" xlink:href=\"#DejaVuSans-46\"/>\r\n       <use x=\"95.410156\" xlink:href=\"#DejaVuSans-48\"/>\r\n      </g>\r\n     </g>\r\n    </g>\r\n    <g id=\"text_15\">\r\n     <!-- cul_pct_total -->\r\n     <g transform=\"translate(14.798438 147.543438)rotate(-90)scale(0.1 -0.1)\">\r\n      <defs>\r\n       <path d=\"M 48.78125 52.59375 \r\nL 48.78125 44.1875 \r\nQ 44.96875 46.296875 41.140625 47.34375 \r\nQ 37.3125 48.390625 33.40625 48.390625 \r\nQ 24.65625 48.390625 19.8125 42.84375 \r\nQ 14.984375 37.3125 14.984375 27.296875 \r\nQ 14.984375 17.28125 19.8125 11.734375 \r\nQ 24.65625 6.203125 33.40625 6.203125 \r\nQ 37.3125 6.203125 41.140625 7.25 \r\nQ 44.96875 8.296875 48.78125 10.40625 \r\nL 48.78125 2.09375 \r\nQ 45.015625 0.34375 40.984375 -0.53125 \r\nQ 36.96875 -1.421875 32.421875 -1.421875 \r\nQ 20.0625 -1.421875 12.78125 6.34375 \r\nQ 5.515625 14.109375 5.515625 27.296875 \r\nQ 5.515625 40.671875 12.859375 48.328125 \r\nQ 20.21875 56 33.015625 56 \r\nQ 37.15625 56 41.109375 55.140625 \r\nQ 45.0625 54.296875 48.78125 52.59375 \r\nz\r\n\" id=\"DejaVuSans-99\"/>\r\n       <path d=\"M 8.5 21.578125 \r\nL 8.5 54.6875 \r\nL 17.484375 54.6875 \r\nL 17.484375 21.921875 \r\nQ 17.484375 14.15625 20.5 10.265625 \r\nQ 23.53125 6.390625 29.59375 6.390625 \r\nQ 36.859375 6.390625 41.078125 11.03125 \r\nQ 45.3125 15.671875 45.3125 23.6875 \r\nL 45.3125 54.6875 \r\nL 54.296875 54.6875 \r\nL 54.296875 0 \r\nL 45.3125 0 \r\nL 45.3125 8.40625 \r\nQ 42.046875 3.421875 37.71875 1 \r\nQ 33.40625 -1.421875 27.6875 -1.421875 \r\nQ 18.265625 -1.421875 13.375 4.4375 \r\nQ 8.5 10.296875 8.5 21.578125 \r\nz\r\nM 31.109375 56 \r\nz\r\n\" id=\"DejaVuSans-117\"/>\r\n       <path d=\"M 9.421875 75.984375 \r\nL 18.40625 75.984375 \r\nL 18.40625 0 \r\nL 9.421875 0 \r\nz\r\n\" id=\"DejaVuSans-108\"/>\r\n       <path d=\"M 50.984375 -16.609375 \r\nL 50.984375 -23.578125 \r\nL -0.984375 -23.578125 \r\nL -0.984375 -16.609375 \r\nz\r\n\" id=\"DejaVuSans-95\"/>\r\n       <path d=\"M 18.109375 8.203125 \r\nL 18.109375 -20.796875 \r\nL 9.078125 -20.796875 \r\nL 9.078125 54.6875 \r\nL 18.109375 54.6875 \r\nL 18.109375 46.390625 \r\nQ 20.953125 51.265625 25.265625 53.625 \r\nQ 29.59375 56 35.59375 56 \r\nQ 45.5625 56 51.78125 48.09375 \r\nQ 58.015625 40.1875 58.015625 27.296875 \r\nQ 58.015625 14.40625 51.78125 6.484375 \r\nQ 45.5625 -1.421875 35.59375 -1.421875 \r\nQ 29.59375 -1.421875 25.265625 0.953125 \r\nQ 20.953125 3.328125 18.109375 8.203125 \r\nz\r\nM 48.6875 27.296875 \r\nQ 48.6875 37.203125 44.609375 42.84375 \r\nQ 40.53125 48.484375 33.40625 48.484375 \r\nQ 26.265625 48.484375 22.1875 42.84375 \r\nQ 18.109375 37.203125 18.109375 27.296875 \r\nQ 18.109375 17.390625 22.1875 11.75 \r\nQ 26.265625 6.109375 33.40625 6.109375 \r\nQ 40.53125 6.109375 44.609375 11.75 \r\nQ 48.6875 17.390625 48.6875 27.296875 \r\nz\r\n\" id=\"DejaVuSans-112\"/>\r\n       <path d=\"M 18.3125 70.21875 \r\nL 18.3125 54.6875 \r\nL 36.8125 54.6875 \r\nL 36.8125 47.703125 \r\nL 18.3125 47.703125 \r\nL 18.3125 18.015625 \r\nQ 18.3125 11.328125 20.140625 9.421875 \r\nQ 21.96875 7.515625 27.59375 7.515625 \r\nL 36.8125 7.515625 \r\nL 36.8125 0 \r\nL 27.59375 0 \r\nQ 17.1875 0 13.234375 3.875 \r\nQ 9.28125 7.765625 9.28125 18.015625 \r\nL 9.28125 47.703125 \r\nL 2.6875 47.703125 \r\nL 2.6875 54.6875 \r\nL 9.28125 54.6875 \r\nL 9.28125 70.21875 \r\nz\r\n\" id=\"DejaVuSans-116\"/>\r\n       <path d=\"M 30.609375 48.390625 \r\nQ 23.390625 48.390625 19.1875 42.75 \r\nQ 14.984375 37.109375 14.984375 27.296875 \r\nQ 14.984375 17.484375 19.15625 11.84375 \r\nQ 23.34375 6.203125 30.609375 6.203125 \r\nQ 37.796875 6.203125 41.984375 11.859375 \r\nQ 46.1875 17.53125 46.1875 27.296875 \r\nQ 46.1875 37.015625 41.984375 42.703125 \r\nQ 37.796875 48.390625 30.609375 48.390625 \r\nz\r\nM 30.609375 56 \r\nQ 42.328125 56 49.015625 48.375 \r\nQ 55.71875 40.765625 55.71875 27.296875 \r\nQ 55.71875 13.875 49.015625 6.21875 \r\nQ 42.328125 -1.421875 30.609375 -1.421875 \r\nQ 18.84375 -1.421875 12.171875 6.21875 \r\nQ 5.515625 13.875 5.515625 27.296875 \r\nQ 5.515625 40.765625 12.171875 48.375 \r\nQ 18.84375 56 30.609375 56 \r\nz\r\n\" id=\"DejaVuSans-111\"/>\r\n      </defs>\r\n      <use xlink:href=\"#DejaVuSans-99\"/>\r\n      <use x=\"54.980469\" xlink:href=\"#DejaVuSans-117\"/>\r\n      <use x=\"118.359375\" xlink:href=\"#DejaVuSans-108\"/>\r\n      <use x=\"146.142578\" xlink:href=\"#DejaVuSans-95\"/>\r\n      <use x=\"196.142578\" xlink:href=\"#DejaVuSans-112\"/>\r\n      <use x=\"259.619141\" xlink:href=\"#DejaVuSans-99\"/>\r\n      <use x=\"314.599609\" xlink:href=\"#DejaVuSans-116\"/>\r\n      <use x=\"353.808594\" xlink:href=\"#DejaVuSans-95\"/>\r\n      <use x=\"403.808594\" xlink:href=\"#DejaVuSans-116\"/>\r\n      <use x=\"443.017578\" xlink:href=\"#DejaVuSans-111\"/>\r\n      <use x=\"504.199219\" xlink:href=\"#DejaVuSans-116\"/>\r\n      <use x=\"543.408203\" xlink:href=\"#DejaVuSans-97\"/>\r\n      <use x=\"604.6875\" xlink:href=\"#DejaVuSans-108\"/>\r\n     </g>\r\n    </g>\r\n   </g>\r\n   <g id=\"line2d_14\">\r\n    <path clip-path=\"url(#pc7a91e29c4)\" d=\"M 59.277557 214.756364 \r\nL 59.815219 196.121925 \r\nL 60.680154 175.04777 \r\nL 61.615219 157.745863 \r\nL 62.456778 146.752291 \r\nL 63.438596 136.268109 \r\nL 64.817817 124.441251 \r\nL 65.939894 116.498228 \r\nL 67.248985 108.873302 \r\nL 68.698336 101.733132 \r\nL 70.077557 95.92332 \r\nL 71.807427 89.662085 \r\nL 73.490544 84.35949 \r\nL 75.243791 79.588749 \r\nL 77.020414 75.373773 \r\nL 79.26457 70.633465 \r\nL 81.181453 67.074974 \r\nL 83.215219 63.765743 \r\nL 85.763271 60.173195 \r\nL 87.91392 57.490016 \r\nL 90.158076 55.014795 \r\nL 92.986648 52.27872 \r\nL 96.376258 49.380336 \r\nL 99.391843 47.091337 \r\nL 102.103531 45.293614 \r\nL 105.960674 43.032874 \r\nL 110.589245 40.718513 \r\nL 114.773661 38.89543 \r\nL 120.010024 36.904964 \r\nL 126.602232 34.774651 \r\nL 130.529505 33.673265 \r\nL 134.550284 32.666801 \r\nL 140.487946 31.308183 \r\nL 146.939894 30.021301 \r\nL 154.72431 28.68587 \r\nL 166.085349 27.037414 \r\nL 181.443791 25.244763 \r\nL 206.386648 23.036918 \r\nL 244.771063 20.768208 \r\nL 363.641193 17.083636 \r\nL 363.641193 17.083636 \r\n\" style=\"fill:none;stroke:#1f77b4;stroke-linecap:square;stroke-width:1.5;\"/>\r\n   </g>\r\n   <g id=\"patch_3\">\r\n    <path d=\"M 44.059375 224.64 \r\nL 44.059375 7.2 \r\n\" style=\"fill:none;stroke:#000000;stroke-linecap:square;stroke-linejoin:miter;stroke-width:0.8;\"/>\r\n   </g>\r\n   <g id=\"patch_4\">\r\n    <path d=\"M 378.859375 224.64 \r\nL 378.859375 7.2 \r\n\" style=\"fill:none;stroke:#000000;stroke-linecap:square;stroke-linejoin:miter;stroke-width:0.8;\"/>\r\n   </g>\r\n   <g id=\"patch_5\">\r\n    <path d=\"M 44.059375 224.64 \r\nL 378.859375 224.64 \r\n\" style=\"fill:none;stroke:#000000;stroke-linecap:square;stroke-linejoin:miter;stroke-width:0.8;\"/>\r\n   </g>\r\n   <g id=\"patch_6\">\r\n    <path d=\"M 44.059375 7.2 \r\nL 378.859375 7.2 \r\n\" style=\"fill:none;stroke:#000000;stroke-linecap:square;stroke-linejoin:miter;stroke-width:0.8;\"/>\r\n   </g>\r\n  </g>\r\n </g>\r\n <defs>\r\n  <clipPath id=\"pc7a91e29c4\">\r\n   <rect height=\"217.44\" width=\"334.8\" x=\"44.059375\" y=\"7.2\"/>\r\n  </clipPath>\r\n </defs>\r\n</svg>\r\n",
      "image/png": "[encoded data removed]"
     },
     "metadata": {
      "needs_background": "light"
     }
    }
   ],
   "source": [
    "#Cumulative Distribution Plot\n",
    "sns.lineplot(x='rank', y='cul_pct_total', data=wc_nostop);"
   ]
  },
  {
   "cell_type": "code",
   "execution_count": 73,
   "metadata": {},
   "outputs": [
    {
     "output_type": "display_data",
     "data": {
      "text/plain": "<Figure size 432x288 with 1 Axes>",
      "image/svg+xml": "<?xml version=\"1.0\" encoding=\"utf-8\" standalone=\"no\"?>\r\n<!DOCTYPE svg PUBLIC \"-//W3C//DTD SVG 1.1//EN\"\r\n  \"http://www.w3.org/Graphics/SVG/1.1/DTD/svg11.dtd\">\r\n<!-- Created with matplotlib (https://matplotlib.org/) -->\r\n<svg height=\"262.474375pt\" version=\"1.1\" viewBox=\"0 0 375.2875 262.474375\" width=\"375.2875pt\" xmlns=\"http://www.w3.org/2000/svg\" xmlns:xlink=\"http://www.w3.org/1999/xlink\">\r\n <metadata>\r\n  <rdf:RDF xmlns:cc=\"http://creativecommons.org/ns#\" xmlns:dc=\"http://purl.org/dc/elements/1.1/\" xmlns:rdf=\"http://www.w3.org/1999/02/22-rdf-syntax-ns#\">\r\n   <cc:Work>\r\n    <dc:type rdf:resource=\"http://purl.org/dc/dcmitype/StillImage\"/>\r\n    <dc:date>2021-01-14T16:41:39.307049</dc:date>\r\n    <dc:format>image/svg+xml</dc:format>\r\n    <dc:creator>\r\n     <cc:Agent>\r\n      <dc:title>Matplotlib v3.3.2, https://matplotlib.org/</dc:title>\r\n     </cc:Agent>\r\n    </dc:creator>\r\n   </cc:Work>\r\n  </rdf:RDF>\r\n </metadata>\r\n <defs>\r\n  <style type=\"text/css\">*{stroke-linecap:butt;stroke-linejoin:round;}</style>\r\n </defs>\r\n <g id=\"figure_1\">\r\n  <g id=\"patch_1\">\r\n   <path d=\"M 0 262.474375 \r\nL 375.2875 262.474375 \r\nL 375.2875 0 \r\nL 0 0 \r\nz\r\n\" style=\"fill:none;\"/>\r\n  </g>\r\n  <g id=\"axes_1\">\r\n   <g id=\"patch_2\">\r\n    <path d=\"M 33.2875 224.64 \r\nL 368.0875 224.64 \r\nL 368.0875 7.2 \r\nL 33.2875 7.2 \r\nz\r\n\" style=\"fill:#ffffff;\"/>\r\n   </g>\r\n   <g id=\"patch_3\">\r\n    <path clip-path=\"url(#pa66aae53b7)\" d=\"M 54.245957 224.64 \r\nL 60.103619 224.64 \r\nL 60.103619 38.657745 \r\nL 54.245957 38.657745 \r\nz\r\n\" style=\"fill:#1f77b4;opacity:0.4;\"/>\r\n   </g>\r\n   <g id=\"patch_4\">\r\n    <path clip-path=\"url(#pa66aae53b7)\" d=\"M 60.103619 224.64 \r\nL 65.961281 224.64 \r\nL 65.961281 216.55038 \r\nL 60.103619 216.55038 \r\nz\r\n\" style=\"fill:#1f77b4;opacity:0.4;\"/>\r\n   </g>\r\n   <g id=\"patch_5\">\r\n    <path clip-path=\"url(#pa66aae53b7)\" d=\"M 65.961281 224.64 \r\nL 71.818943 224.64 \r\nL 71.818943 221.179792 \r\nL 65.961281 221.179792 \r\nz\r\n\" style=\"fill:#1f77b4;opacity:0.4;\"/>\r\n   </g>\r\n   <g id=\"patch_6\">\r\n    <path clip-path=\"url(#pa66aae53b7)\" d=\"M 71.818943 224.64 \r\nL 77.676604 224.64 \r\nL 77.676604 222.728195 \r\nL 71.818943 222.728195 \r\nz\r\n\" style=\"fill:#1f77b4;opacity:0.4;\"/>\r\n   </g>\r\n   <g id=\"patch_7\">\r\n    <path clip-path=\"url(#pa66aae53b7)\" d=\"M 77.676604 224.64 \r\nL 83.534266 224.64 \r\nL 83.534266 223.375997 \r\nL 77.676604 223.375997 \r\nz\r\n\" style=\"fill:#1f77b4;opacity:0.4;\"/>\r\n   </g>\r\n   <g id=\"patch_8\">\r\n    <path clip-path=\"url(#pa66aae53b7)\" d=\"M 83.534266 224.64 \r\nL 89.391928 224.64 \r\nL 89.391928 223.723598 \r\nL 83.534266 223.723598 \r\nz\r\n\" style=\"fill:#1f77b4;opacity:0.4;\"/>\r\n   </g>\r\n   <g id=\"patch_9\">\r\n    <path clip-path=\"url(#pa66aae53b7)\" d=\"M 89.391928 224.64 \r\nL 95.249589 224.64 \r\nL 95.249589 224.134399 \r\nL 89.391928 224.134399 \r\nz\r\n\" style=\"fill:#1f77b4;opacity:0.4;\"/>\r\n   </g>\r\n   <g id=\"patch_10\">\r\n    <path clip-path=\"url(#pa66aae53b7)\" d=\"M 95.249589 224.64 \r\nL 101.107251 224.64 \r\nL 101.107251 223.960598 \r\nL 95.249589 223.960598 \r\nz\r\n\" style=\"fill:#1f77b4;opacity:0.4;\"/>\r\n   </g>\r\n   <g id=\"patch_11\">\r\n    <path clip-path=\"url(#pa66aae53b7)\" d=\"M 101.107251 224.64 \r\nL 106.964913 224.64 \r\nL 106.964913 224.134399 \r\nL 101.107251 224.134399 \r\nz\r\n\" style=\"fill:#1f77b4;opacity:0.4;\"/>\r\n   </g>\r\n   <g id=\"patch_12\">\r\n    <path clip-path=\"url(#pa66aae53b7)\" d=\"M 106.964913 224.64 \r\nL 112.822574 224.64 \r\nL 112.822574 224.418799 \r\nL 106.964913 224.418799 \r\nz\r\n\" style=\"fill:#1f77b4;opacity:0.4;\"/>\r\n   </g>\r\n   <g id=\"patch_13\">\r\n    <path clip-path=\"url(#pa66aae53b7)\" d=\"M 112.822574 224.64 \r\nL 118.680236 224.64 \r\nL 118.680236 224.323999 \r\nL 112.822574 224.323999 \r\nz\r\n\" style=\"fill:#1f77b4;opacity:0.4;\"/>\r\n   </g>\r\n   <g id=\"patch_14\">\r\n    <path clip-path=\"url(#pa66aae53b7)\" d=\"M 118.680236 224.64 \r\nL 124.537898 224.64 \r\nL 124.537898 224.418799 \r\nL 118.680236 224.418799 \r\nz\r\n\" style=\"fill:#1f77b4;opacity:0.4;\"/>\r\n   </g>\r\n   <g id=\"patch_15\">\r\n    <path clip-path=\"url(#pa66aae53b7)\" d=\"M 124.537898 224.64 \r\nL 130.39556 224.64 \r\nL 130.39556 224.482 \r\nL 124.537898 224.482 \r\nz\r\n\" style=\"fill:#1f77b4;opacity:0.4;\"/>\r\n   </g>\r\n   <g id=\"patch_16\">\r\n    <path clip-path=\"url(#pa66aae53b7)\" d=\"M 130.39556 224.64 \r\nL 136.253221 224.64 \r\nL 136.253221 224.5926 \r\nL 130.39556 224.5926 \r\nz\r\n\" style=\"fill:#1f77b4;opacity:0.4;\"/>\r\n   </g>\r\n   <g id=\"patch_17\">\r\n    <path clip-path=\"url(#pa66aae53b7)\" d=\"M 136.253221 224.64 \r\nL 142.110883 224.64 \r\nL 142.110883 224.5136 \r\nL 136.253221 224.5136 \r\nz\r\n\" style=\"fill:#1f77b4;opacity:0.4;\"/>\r\n   </g>\r\n   <g id=\"patch_18\">\r\n    <path clip-path=\"url(#pa66aae53b7)\" d=\"M 142.110883 224.64 \r\nL 147.968545 224.64 \r\nL 147.968545 224.482 \r\nL 142.110883 224.482 \r\nz\r\n\" style=\"fill:#1f77b4;opacity:0.4;\"/>\r\n   </g>\r\n   <g id=\"patch_19\">\r\n    <path clip-path=\"url(#pa66aae53b7)\" d=\"M 147.968545 224.64 \r\nL 153.826206 224.64 \r\nL 153.826206 224.4978 \r\nL 147.968545 224.4978 \r\nz\r\n\" style=\"fill:#1f77b4;opacity:0.4;\"/>\r\n   </g>\r\n   <g id=\"patch_20\">\r\n    <path clip-path=\"url(#pa66aae53b7)\" d=\"M 153.826206 224.64 \r\nL 159.683868 224.64 \r\nL 159.683868 224.4978 \r\nL 153.826206 224.4978 \r\nz\r\n\" style=\"fill:#1f77b4;opacity:0.4;\"/>\r\n   </g>\r\n   <g id=\"patch_21\">\r\n    <path clip-path=\"url(#pa66aae53b7)\" d=\"M 159.683868 224.64 \r\nL 165.54153 224.64 \r\nL 165.54153 224.5294 \r\nL 159.683868 224.5294 \r\nz\r\n\" style=\"fill:#1f77b4;opacity:0.4;\"/>\r\n   </g>\r\n   <g id=\"patch_22\">\r\n    <path clip-path=\"url(#pa66aae53b7)\" d=\"M 165.54153 224.64 \r\nL 171.399191 224.64 \r\nL 171.399191 224.5294 \r\nL 165.54153 224.5294 \r\nz\r\n\" style=\"fill:#1f77b4;opacity:0.4;\"/>\r\n   </g>\r\n   <g id=\"patch_23\">\r\n    <path clip-path=\"url(#pa66aae53b7)\" d=\"M 171.399191 224.64 \r\nL 177.256853 224.64 \r\nL 177.256853 224.4978 \r\nL 171.399191 224.4978 \r\nz\r\n\" style=\"fill:#1f77b4;opacity:0.4;\"/>\r\n   </g>\r\n   <g id=\"patch_24\">\r\n    <path clip-path=\"url(#pa66aae53b7)\" d=\"M 177.256853 224.64 \r\nL 183.114515 224.64 \r\nL 183.114515 224.5768 \r\nL 177.256853 224.5768 \r\nz\r\n\" style=\"fill:#1f77b4;opacity:0.4;\"/>\r\n   </g>\r\n   <g id=\"patch_25\">\r\n    <path clip-path=\"url(#pa66aae53b7)\" d=\"M 183.114515 224.64 \r\nL 188.972177 224.64 \r\nL 188.972177 224.561 \r\nL 183.114515 224.561 \r\nz\r\n\" style=\"fill:#1f77b4;opacity:0.4;\"/>\r\n   </g>\r\n   <g id=\"patch_26\">\r\n    <path clip-path=\"url(#pa66aae53b7)\" d=\"M 188.972177 224.64 \r\nL 194.829838 224.64 \r\nL 194.829838 224.5926 \r\nL 188.972177 224.5926 \r\nz\r\n\" style=\"fill:#1f77b4;opacity:0.4;\"/>\r\n   </g>\r\n   <g id=\"patch_27\">\r\n    <path clip-path=\"url(#pa66aae53b7)\" d=\"M 194.829838 224.64 \r\nL 200.6875 224.64 \r\nL 200.6875 224.6084 \r\nL 194.829838 224.6084 \r\nz\r\n\" style=\"fill:#1f77b4;opacity:0.4;\"/>\r\n   </g>\r\n   <g id=\"patch_28\">\r\n    <path clip-path=\"url(#pa66aae53b7)\" d=\"M 200.6875 224.64 \r\nL 206.545162 224.64 \r\nL 206.545162 224.5926 \r\nL 200.6875 224.5926 \r\nz\r\n\" style=\"fill:#1f77b4;opacity:0.4;\"/>\r\n   </g>\r\n   <g id=\"patch_29\">\r\n    <path clip-path=\"url(#pa66aae53b7)\" d=\"M 206.545162 224.64 \r\nL 212.402823 224.64 \r\nL 212.402823 224.6242 \r\nL 206.545162 224.6242 \r\nz\r\n\" style=\"fill:#1f77b4;opacity:0.4;\"/>\r\n   </g>\r\n   <g id=\"patch_30\">\r\n    <path clip-path=\"url(#pa66aae53b7)\" d=\"M 212.402823 224.64 \r\nL 218.260485 224.64 \r\nL 218.260485 224.6084 \r\nL 212.402823 224.6084 \r\nz\r\n\" style=\"fill:#1f77b4;opacity:0.4;\"/>\r\n   </g>\r\n   <g id=\"patch_31\">\r\n    <path clip-path=\"url(#pa66aae53b7)\" d=\"M 218.260485 224.64 \r\nL 224.118147 224.64 \r\nL 224.118147 224.6084 \r\nL 218.260485 224.6084 \r\nz\r\n\" style=\"fill:#1f77b4;opacity:0.4;\"/>\r\n   </g>\r\n   <g id=\"patch_32\">\r\n    <path clip-path=\"url(#pa66aae53b7)\" d=\"M 224.118147 224.64 \r\nL 229.975809 224.64 \r\nL 229.975809 224.5768 \r\nL 224.118147 224.5768 \r\nz\r\n\" style=\"fill:#1f77b4;opacity:0.4;\"/>\r\n   </g>\r\n   <g id=\"patch_33\">\r\n    <path clip-path=\"url(#pa66aae53b7)\" d=\"M 229.975809 224.64 \r\nL 235.83347 224.64 \r\nL 235.83347 224.6084 \r\nL 229.975809 224.6084 \r\nz\r\n\" style=\"fill:#1f77b4;opacity:0.4;\"/>\r\n   </g>\r\n   <g id=\"patch_34\">\r\n    <path clip-path=\"url(#pa66aae53b7)\" d=\"M 235.83347 224.64 \r\nL 241.691132 224.64 \r\nL 241.691132 224.6242 \r\nL 235.83347 224.6242 \r\nz\r\n\" style=\"fill:#1f77b4;opacity:0.4;\"/>\r\n   </g>\r\n   <g id=\"patch_35\">\r\n    <path clip-path=\"url(#pa66aae53b7)\" d=\"M 241.691132 224.64 \r\nL 247.548794 224.64 \r\nL 247.548794 224.64 \r\nL 241.691132 224.64 \r\nz\r\n\" style=\"fill:#1f77b4;opacity:0.4;\"/>\r\n   </g>\r\n   <g id=\"patch_36\">\r\n    <path clip-path=\"url(#pa66aae53b7)\" d=\"M 247.548794 224.64 \r\nL 253.406455 224.64 \r\nL 253.406455 224.6242 \r\nL 247.548794 224.6242 \r\nz\r\n\" style=\"fill:#1f77b4;opacity:0.4;\"/>\r\n   </g>\r\n   <g id=\"patch_37\">\r\n    <path clip-path=\"url(#pa66aae53b7)\" d=\"M 253.406455 224.64 \r\nL 259.264117 224.64 \r\nL 259.264117 224.64 \r\nL 253.406455 224.64 \r\nz\r\n\" style=\"fill:#1f77b4;opacity:0.4;\"/>\r\n   </g>\r\n   <g id=\"patch_38\">\r\n    <path clip-path=\"url(#pa66aae53b7)\" d=\"M 259.264117 224.64 \r\nL 265.121779 224.64 \r\nL 265.121779 224.64 \r\nL 259.264117 224.64 \r\nz\r\n\" style=\"fill:#1f77b4;opacity:0.4;\"/>\r\n   </g>\r\n   <g id=\"patch_39\">\r\n    <path clip-path=\"url(#pa66aae53b7)\" d=\"M 265.121779 224.64 \r\nL 270.97944 224.64 \r\nL 270.97944 224.64 \r\nL 265.121779 224.64 \r\nz\r\n\" style=\"fill:#1f77b4;opacity:0.4;\"/>\r\n   </g>\r\n   <g id=\"patch_40\">\r\n    <path clip-path=\"url(#pa66aae53b7)\" d=\"M 270.97944 224.64 \r\nL 276.837102 224.64 \r\nL 276.837102 224.6242 \r\nL 270.97944 224.6242 \r\nz\r\n\" style=\"fill:#1f77b4;opacity:0.4;\"/>\r\n   </g>\r\n   <g id=\"patch_41\">\r\n    <path clip-path=\"url(#pa66aae53b7)\" d=\"M 276.837102 224.64 \r\nL 282.694764 224.64 \r\nL 282.694764 224.6242 \r\nL 276.837102 224.6242 \r\nz\r\n\" style=\"fill:#1f77b4;opacity:0.4;\"/>\r\n   </g>\r\n   <g id=\"patch_42\">\r\n    <path clip-path=\"url(#pa66aae53b7)\" d=\"M 282.694764 224.64 \r\nL 288.552426 224.64 \r\nL 288.552426 224.64 \r\nL 282.694764 224.64 \r\nz\r\n\" style=\"fill:#1f77b4;opacity:0.4;\"/>\r\n   </g>\r\n   <g id=\"patch_43\">\r\n    <path clip-path=\"url(#pa66aae53b7)\" d=\"M 288.552426 224.64 \r\nL 294.410087 224.64 \r\nL 294.410087 224.64 \r\nL 288.552426 224.64 \r\nz\r\n\" style=\"fill:#1f77b4;opacity:0.4;\"/>\r\n   </g>\r\n   <g id=\"patch_44\">\r\n    <path clip-path=\"url(#pa66aae53b7)\" d=\"M 294.410087 224.64 \r\nL 300.267749 224.64 \r\nL 300.267749 224.64 \r\nL 294.410087 224.64 \r\nz\r\n\" style=\"fill:#1f77b4;opacity:0.4;\"/>\r\n   </g>\r\n   <g id=\"patch_45\">\r\n    <path clip-path=\"url(#pa66aae53b7)\" d=\"M 300.267749 224.64 \r\nL 306.125411 224.64 \r\nL 306.125411 224.64 \r\nL 300.267749 224.64 \r\nz\r\n\" style=\"fill:#1f77b4;opacity:0.4;\"/>\r\n   </g>\r\n   <g id=\"patch_46\">\r\n    <path clip-path=\"url(#pa66aae53b7)\" d=\"M 306.125411 224.64 \r\nL 311.983072 224.64 \r\nL 311.983072 224.64 \r\nL 306.125411 224.64 \r\nz\r\n\" style=\"fill:#1f77b4;opacity:0.4;\"/>\r\n   </g>\r\n   <g id=\"patch_47\">\r\n    <path clip-path=\"url(#pa66aae53b7)\" d=\"M 311.983072 224.64 \r\nL 317.840734 224.64 \r\nL 317.840734 224.64 \r\nL 311.983072 224.64 \r\nz\r\n\" style=\"fill:#1f77b4;opacity:0.4;\"/>\r\n   </g>\r\n   <g id=\"patch_48\">\r\n    <path clip-path=\"url(#pa66aae53b7)\" d=\"M 317.840734 224.64 \r\nL 323.698396 224.64 \r\nL 323.698396 224.64 \r\nL 317.840734 224.64 \r\nz\r\n\" style=\"fill:#1f77b4;opacity:0.4;\"/>\r\n   </g>\r\n   <g id=\"patch_49\">\r\n    <path clip-path=\"url(#pa66aae53b7)\" d=\"M 323.698396 224.64 \r\nL 329.556057 224.64 \r\nL 329.556057 224.64 \r\nL 323.698396 224.64 \r\nz\r\n\" style=\"fill:#1f77b4;opacity:0.4;\"/>\r\n   </g>\r\n   <g id=\"patch_50\">\r\n    <path clip-path=\"url(#pa66aae53b7)\" d=\"M 329.556057 224.64 \r\nL 335.413719 224.64 \r\nL 335.413719 224.64 \r\nL 329.556057 224.64 \r\nz\r\n\" style=\"fill:#1f77b4;opacity:0.4;\"/>\r\n   </g>\r\n   <g id=\"patch_51\">\r\n    <path clip-path=\"url(#pa66aae53b7)\" d=\"M 335.413719 224.64 \r\nL 341.271381 224.64 \r\nL 341.271381 224.64 \r\nL 335.413719 224.64 \r\nz\r\n\" style=\"fill:#1f77b4;opacity:0.4;\"/>\r\n   </g>\r\n   <g id=\"patch_52\">\r\n    <path clip-path=\"url(#pa66aae53b7)\" d=\"M 341.271381 224.64 \r\nL 347.129043 224.64 \r\nL 347.129043 224.6242 \r\nL 341.271381 224.6242 \r\nz\r\n\" style=\"fill:#1f77b4;opacity:0.4;\"/>\r\n   </g>\r\n   <g id=\"matplotlib.axis_1\">\r\n    <g id=\"xtick_1\">\r\n     <g id=\"line2d_1\">\r\n      <defs>\r\n       <path d=\"M 0 0 \r\nL 0 3.5 \r\n\" id=\"m6992152199\" style=\"stroke:#000000;stroke-width:0.8;\"/>\r\n      </defs>\r\n      <g>\r\n       <use style=\"stroke:#000000;stroke-width:0.8;\" x=\"54.066714\" xlink:href=\"#m6992152199\" y=\"224.64\"/>\r\n      </g>\r\n     </g>\r\n     <g id=\"text_1\">\r\n      <!-- 0.00 -->\r\n      <g transform=\"translate(42.933902 239.238438)scale(0.1 -0.1)\">\r\n       <defs>\r\n        <path d=\"M 31.78125 66.40625 \r\nQ 24.171875 66.40625 20.328125 58.90625 \r\nQ 16.5 51.421875 16.5 36.375 \r\nQ 16.5 21.390625 20.328125 13.890625 \r\nQ 24.171875 6.390625 31.78125 6.390625 \r\nQ 39.453125 6.390625 43.28125 13.890625 \r\nQ 47.125 21.390625 47.125 36.375 \r\nQ 47.125 51.421875 43.28125 58.90625 \r\nQ 39.453125 66.40625 31.78125 66.40625 \r\nz\r\nM 31.78125 74.21875 \r\nQ 44.046875 74.21875 50.515625 64.515625 \r\nQ 56.984375 54.828125 56.984375 36.375 \r\nQ 56.984375 17.96875 50.515625 8.265625 \r\nQ 44.046875 -1.421875 31.78125 -1.421875 \r\nQ 19.53125 -1.421875 13.0625 8.265625 \r\nQ 6.59375 17.96875 6.59375 36.375 \r\nQ 6.59375 54.828125 13.0625 64.515625 \r\nQ 19.53125 74.21875 31.78125 74.21875 \r\nz\r\n\" id=\"DejaVuSans-48\"/>\r\n        <path d=\"M 10.6875 12.40625 \r\nL 21 12.40625 \r\nL 21 0 \r\nL 10.6875 0 \r\nz\r\n\" id=\"DejaVuSans-46\"/>\r\n       </defs>\r\n       <use xlink:href=\"#DejaVuSans-48\"/>\r\n       <use x=\"63.623047\" xlink:href=\"#DejaVuSans-46\"/>\r\n       <use x=\"95.410156\" xlink:href=\"#DejaVuSans-48\"/>\r\n       <use x=\"159.033203\" xlink:href=\"#DejaVuSans-48\"/>\r\n      </g>\r\n     </g>\r\n    </g>\r\n    <g id=\"xtick_2\">\r\n     <g id=\"line2d_2\">\r\n      <g>\r\n       <use style=\"stroke:#000000;stroke-width:0.8;\" x=\"122.322454\" xlink:href=\"#m6992152199\" y=\"224.64\"/>\r\n      </g>\r\n     </g>\r\n     <g id=\"text_2\">\r\n      <!-- 0.05 -->\r\n      <g transform=\"translate(111.189642 239.238438)scale(0.1 -0.1)\">\r\n       <defs>\r\n        <path d=\"M 10.796875 72.90625 \r\nL 49.515625 72.90625 \r\nL 49.515625 64.59375 \r\nL 19.828125 64.59375 \r\nL 19.828125 46.734375 \r\nQ 21.96875 47.46875 24.109375 47.828125 \r\nQ 26.265625 48.1875 28.421875 48.1875 \r\nQ 40.625 48.1875 47.75 41.5 \r\nQ 54.890625 34.8125 54.890625 23.390625 \r\nQ 54.890625 11.625 47.5625 5.09375 \r\nQ 40.234375 -1.421875 26.90625 -1.421875 \r\nQ 22.3125 -1.421875 17.546875 -0.640625 \r\nQ 12.796875 0.140625 7.71875 1.703125 \r\nL 7.71875 11.625 \r\nQ 12.109375 9.234375 16.796875 8.0625 \r\nQ 21.484375 6.890625 26.703125 6.890625 \r\nQ 35.15625 6.890625 40.078125 11.328125 \r\nQ 45.015625 15.765625 45.015625 23.390625 \r\nQ 45.015625 31 40.078125 35.4375 \r\nQ 35.15625 39.890625 26.703125 39.890625 \r\nQ 22.75 39.890625 18.8125 39.015625 \r\nQ 14.890625 38.140625 10.796875 36.28125 \r\nz\r\n\" id=\"DejaVuSans-53\"/>\r\n       </defs>\r\n       <use xlink:href=\"#DejaVuSans-48\"/>\r\n       <use x=\"63.623047\" xlink:href=\"#DejaVuSans-46\"/>\r\n       <use x=\"95.410156\" xlink:href=\"#DejaVuSans-48\"/>\r\n       <use x=\"159.033203\" xlink:href=\"#DejaVuSans-53\"/>\r\n      </g>\r\n     </g>\r\n    </g>\r\n    <g id=\"xtick_3\">\r\n     <g id=\"line2d_3\">\r\n      <g>\r\n       <use style=\"stroke:#000000;stroke-width:0.8;\" x=\"190.578194\" xlink:href=\"#m6992152199\" y=\"224.64\"/>\r\n      </g>\r\n     </g>\r\n     <g id=\"text_3\">\r\n      <!-- 0.10 -->\r\n      <g transform=\"translate(179.445382 239.238438)scale(0.1 -0.1)\">\r\n       <defs>\r\n        <path d=\"M 12.40625 8.296875 \r\nL 28.515625 8.296875 \r\nL 28.515625 63.921875 \r\nL 10.984375 60.40625 \r\nL 10.984375 69.390625 \r\nL 28.421875 72.90625 \r\nL 38.28125 72.90625 \r\nL 38.28125 8.296875 \r\nL 54.390625 8.296875 \r\nL 54.390625 0 \r\nL 12.40625 0 \r\nz\r\n\" id=\"DejaVuSans-49\"/>\r\n       </defs>\r\n       <use xlink:href=\"#DejaVuSans-48\"/>\r\n       <use x=\"63.623047\" xlink:href=\"#DejaVuSans-46\"/>\r\n       <use x=\"95.410156\" xlink:href=\"#DejaVuSans-49\"/>\r\n       <use x=\"159.033203\" xlink:href=\"#DejaVuSans-48\"/>\r\n      </g>\r\n     </g>\r\n    </g>\r\n    <g id=\"xtick_4\">\r\n     <g id=\"line2d_4\">\r\n      <g>\r\n       <use style=\"stroke:#000000;stroke-width:0.8;\" x=\"258.833934\" xlink:href=\"#m6992152199\" y=\"224.64\"/>\r\n      </g>\r\n     </g>\r\n     <g id=\"text_4\">\r\n      <!-- 0.15 -->\r\n      <g transform=\"translate(247.701121 239.238438)scale(0.1 -0.1)\">\r\n       <use xlink:href=\"#DejaVuSans-48\"/>\r\n       <use x=\"63.623047\" xlink:href=\"#DejaVuSans-46\"/>\r\n       <use x=\"95.410156\" xlink:href=\"#DejaVuSans-49\"/>\r\n       <use x=\"159.033203\" xlink:href=\"#DejaVuSans-53\"/>\r\n      </g>\r\n     </g>\r\n    </g>\r\n    <g id=\"xtick_5\">\r\n     <g id=\"line2d_5\">\r\n      <g>\r\n       <use style=\"stroke:#000000;stroke-width:0.8;\" x=\"327.089674\" xlink:href=\"#m6992152199\" y=\"224.64\"/>\r\n      </g>\r\n     </g>\r\n     <g id=\"text_5\">\r\n      <!-- 0.20 -->\r\n      <g transform=\"translate(315.956861 239.238438)scale(0.1 -0.1)\">\r\n       <defs>\r\n        <path d=\"M 19.1875 8.296875 \r\nL 53.609375 8.296875 \r\nL 53.609375 0 \r\nL 7.328125 0 \r\nL 7.328125 8.296875 \r\nQ 12.9375 14.109375 22.625 23.890625 \r\nQ 32.328125 33.6875 34.8125 36.53125 \r\nQ 39.546875 41.84375 41.421875 45.53125 \r\nQ 43.3125 49.21875 43.3125 52.78125 \r\nQ 43.3125 58.59375 39.234375 62.25 \r\nQ 35.15625 65.921875 28.609375 65.921875 \r\nQ 23.96875 65.921875 18.8125 64.3125 \r\nQ 13.671875 62.703125 7.8125 59.421875 \r\nL 7.8125 69.390625 \r\nQ 13.765625 71.78125 18.9375 73 \r\nQ 24.125 74.21875 28.421875 74.21875 \r\nQ 39.75 74.21875 46.484375 68.546875 \r\nQ 53.21875 62.890625 53.21875 53.421875 \r\nQ 53.21875 48.921875 51.53125 44.890625 \r\nQ 49.859375 40.875 45.40625 35.40625 \r\nQ 44.1875 33.984375 37.640625 27.21875 \r\nQ 31.109375 20.453125 19.1875 8.296875 \r\nz\r\n\" id=\"DejaVuSans-50\"/>\r\n       </defs>\r\n       <use xlink:href=\"#DejaVuSans-48\"/>\r\n       <use x=\"63.623047\" xlink:href=\"#DejaVuSans-46\"/>\r\n       <use x=\"95.410156\" xlink:href=\"#DejaVuSans-50\"/>\r\n       <use x=\"159.033203\" xlink:href=\"#DejaVuSans-48\"/>\r\n      </g>\r\n     </g>\r\n    </g>\r\n    <g id=\"text_6\">\r\n     <!-- appears_in_pct -->\r\n     <g transform=\"translate(163.032813 252.916562)scale(0.1 -0.1)\">\r\n      <defs>\r\n       <path d=\"M 34.28125 27.484375 \r\nQ 23.390625 27.484375 19.1875 25 \r\nQ 14.984375 22.515625 14.984375 16.5 \r\nQ 14.984375 11.71875 18.140625 8.90625 \r\nQ 21.296875 6.109375 26.703125 6.109375 \r\nQ 34.1875 6.109375 38.703125 11.40625 \r\nQ 43.21875 16.703125 43.21875 25.484375 \r\nL 43.21875 27.484375 \r\nz\r\nM 52.203125 31.203125 \r\nL 52.203125 0 \r\nL 43.21875 0 \r\nL 43.21875 8.296875 \r\nQ 40.140625 3.328125 35.546875 0.953125 \r\nQ 30.953125 -1.421875 24.3125 -1.421875 \r\nQ 15.921875 -1.421875 10.953125 3.296875 \r\nQ 6 8.015625 6 15.921875 \r\nQ 6 25.140625 12.171875 29.828125 \r\nQ 18.359375 34.515625 30.609375 34.515625 \r\nL 43.21875 34.515625 \r\nL 43.21875 35.40625 \r\nQ 43.21875 41.609375 39.140625 45 \r\nQ 35.0625 48.390625 27.6875 48.390625 \r\nQ 23 48.390625 18.546875 47.265625 \r\nQ 14.109375 46.140625 10.015625 43.890625 \r\nL 10.015625 52.203125 \r\nQ 14.9375 54.109375 19.578125 55.046875 \r\nQ 24.21875 56 28.609375 56 \r\nQ 40.484375 56 46.34375 49.84375 \r\nQ 52.203125 43.703125 52.203125 31.203125 \r\nz\r\n\" id=\"DejaVuSans-97\"/>\r\n       <path d=\"M 18.109375 8.203125 \r\nL 18.109375 -20.796875 \r\nL 9.078125 -20.796875 \r\nL 9.078125 54.6875 \r\nL 18.109375 54.6875 \r\nL 18.109375 46.390625 \r\nQ 20.953125 51.265625 25.265625 53.625 \r\nQ 29.59375 56 35.59375 56 \r\nQ 45.5625 56 51.78125 48.09375 \r\nQ 58.015625 40.1875 58.015625 27.296875 \r\nQ 58.015625 14.40625 51.78125 6.484375 \r\nQ 45.5625 -1.421875 35.59375 -1.421875 \r\nQ 29.59375 -1.421875 25.265625 0.953125 \r\nQ 20.953125 3.328125 18.109375 8.203125 \r\nz\r\nM 48.6875 27.296875 \r\nQ 48.6875 37.203125 44.609375 42.84375 \r\nQ 40.53125 48.484375 33.40625 48.484375 \r\nQ 26.265625 48.484375 22.1875 42.84375 \r\nQ 18.109375 37.203125 18.109375 27.296875 \r\nQ 18.109375 17.390625 22.1875 11.75 \r\nQ 26.265625 6.109375 33.40625 6.109375 \r\nQ 40.53125 6.109375 44.609375 11.75 \r\nQ 48.6875 17.390625 48.6875 27.296875 \r\nz\r\n\" id=\"DejaVuSans-112\"/>\r\n       <path d=\"M 56.203125 29.59375 \r\nL 56.203125 25.203125 \r\nL 14.890625 25.203125 \r\nQ 15.484375 15.921875 20.484375 11.0625 \r\nQ 25.484375 6.203125 34.421875 6.203125 \r\nQ 39.59375 6.203125 44.453125 7.46875 \r\nQ 49.3125 8.734375 54.109375 11.28125 \r\nL 54.109375 2.78125 \r\nQ 49.265625 0.734375 44.1875 -0.34375 \r\nQ 39.109375 -1.421875 33.890625 -1.421875 \r\nQ 20.796875 -1.421875 13.15625 6.1875 \r\nQ 5.515625 13.8125 5.515625 26.8125 \r\nQ 5.515625 40.234375 12.765625 48.109375 \r\nQ 20.015625 56 32.328125 56 \r\nQ 43.359375 56 49.78125 48.890625 \r\nQ 56.203125 41.796875 56.203125 29.59375 \r\nz\r\nM 47.21875 32.234375 \r\nQ 47.125 39.59375 43.09375 43.984375 \r\nQ 39.0625 48.390625 32.421875 48.390625 \r\nQ 24.90625 48.390625 20.390625 44.140625 \r\nQ 15.875 39.890625 15.1875 32.171875 \r\nz\r\n\" id=\"DejaVuSans-101\"/>\r\n       <path d=\"M 41.109375 46.296875 \r\nQ 39.59375 47.171875 37.8125 47.578125 \r\nQ 36.03125 48 33.890625 48 \r\nQ 26.265625 48 22.1875 43.046875 \r\nQ 18.109375 38.09375 18.109375 28.8125 \r\nL 18.109375 0 \r\nL 9.078125 0 \r\nL 9.078125 54.6875 \r\nL 18.109375 54.6875 \r\nL 18.109375 46.1875 \r\nQ 20.953125 51.171875 25.484375 53.578125 \r\nQ 30.03125 56 36.53125 56 \r\nQ 37.453125 56 38.578125 55.875 \r\nQ 39.703125 55.765625 41.0625 55.515625 \r\nz\r\n\" id=\"DejaVuSans-114\"/>\r\n       <path d=\"M 44.28125 53.078125 \r\nL 44.28125 44.578125 \r\nQ 40.484375 46.53125 36.375 47.5 \r\nQ 32.28125 48.484375 27.875 48.484375 \r\nQ 21.1875 48.484375 17.84375 46.4375 \r\nQ 14.5 44.390625 14.5 40.28125 \r\nQ 14.5 37.15625 16.890625 35.375 \r\nQ 19.28125 33.59375 26.515625 31.984375 \r\nL 29.59375 31.296875 \r\nQ 39.15625 29.25 43.1875 25.515625 \r\nQ 47.21875 21.78125 47.21875 15.09375 \r\nQ 47.21875 7.46875 41.1875 3.015625 \r\nQ 35.15625 -1.421875 24.609375 -1.421875 \r\nQ 20.21875 -1.421875 15.453125 -0.5625 \r\nQ 10.6875 0.296875 5.421875 2 \r\nL 5.421875 11.28125 \r\nQ 10.40625 8.6875 15.234375 7.390625 \r\nQ 20.0625 6.109375 24.8125 6.109375 \r\nQ 31.15625 6.109375 34.5625 8.28125 \r\nQ 37.984375 10.453125 37.984375 14.40625 \r\nQ 37.984375 18.0625 35.515625 20.015625 \r\nQ 33.0625 21.96875 24.703125 23.78125 \r\nL 21.578125 24.515625 \r\nQ 13.234375 26.265625 9.515625 29.90625 \r\nQ 5.8125 33.546875 5.8125 39.890625 \r\nQ 5.8125 47.609375 11.28125 51.796875 \r\nQ 16.75 56 26.8125 56 \r\nQ 31.78125 56 36.171875 55.265625 \r\nQ 40.578125 54.546875 44.28125 53.078125 \r\nz\r\n\" id=\"DejaVuSans-115\"/>\r\n       <path d=\"M 50.984375 -16.609375 \r\nL 50.984375 -23.578125 \r\nL -0.984375 -23.578125 \r\nL -0.984375 -16.609375 \r\nz\r\n\" id=\"DejaVuSans-95\"/>\r\n       <path d=\"M 9.421875 54.6875 \r\nL 18.40625 54.6875 \r\nL 18.40625 0 \r\nL 9.421875 0 \r\nz\r\nM 9.421875 75.984375 \r\nL 18.40625 75.984375 \r\nL 18.40625 64.59375 \r\nL 9.421875 64.59375 \r\nz\r\n\" id=\"DejaVuSans-105\"/>\r\n       <path d=\"M 54.890625 33.015625 \r\nL 54.890625 0 \r\nL 45.90625 0 \r\nL 45.90625 32.71875 \r\nQ 45.90625 40.484375 42.875 44.328125 \r\nQ 39.84375 48.1875 33.796875 48.1875 \r\nQ 26.515625 48.1875 22.3125 43.546875 \r\nQ 18.109375 38.921875 18.109375 30.90625 \r\nL 18.109375 0 \r\nL 9.078125 0 \r\nL 9.078125 54.6875 \r\nL 18.109375 54.6875 \r\nL 18.109375 46.1875 \r\nQ 21.34375 51.125 25.703125 53.5625 \r\nQ 30.078125 56 35.796875 56 \r\nQ 45.21875 56 50.046875 50.171875 \r\nQ 54.890625 44.34375 54.890625 33.015625 \r\nz\r\n\" id=\"DejaVuSans-110\"/>\r\n       <path d=\"M 48.78125 52.59375 \r\nL 48.78125 44.1875 \r\nQ 44.96875 46.296875 41.140625 47.34375 \r\nQ 37.3125 48.390625 33.40625 48.390625 \r\nQ 24.65625 48.390625 19.8125 42.84375 \r\nQ 14.984375 37.3125 14.984375 27.296875 \r\nQ 14.984375 17.28125 19.8125 11.734375 \r\nQ 24.65625 6.203125 33.40625 6.203125 \r\nQ 37.3125 6.203125 41.140625 7.25 \r\nQ 44.96875 8.296875 48.78125 10.40625 \r\nL 48.78125 2.09375 \r\nQ 45.015625 0.34375 40.984375 -0.53125 \r\nQ 36.96875 -1.421875 32.421875 -1.421875 \r\nQ 20.0625 -1.421875 12.78125 6.34375 \r\nQ 5.515625 14.109375 5.515625 27.296875 \r\nQ 5.515625 40.671875 12.859375 48.328125 \r\nQ 20.21875 56 33.015625 56 \r\nQ 37.15625 56 41.109375 55.140625 \r\nQ 45.0625 54.296875 48.78125 52.59375 \r\nz\r\n\" id=\"DejaVuSans-99\"/>\r\n       <path d=\"M 18.3125 70.21875 \r\nL 18.3125 54.6875 \r\nL 36.8125 54.6875 \r\nL 36.8125 47.703125 \r\nL 18.3125 47.703125 \r\nL 18.3125 18.015625 \r\nQ 18.3125 11.328125 20.140625 9.421875 \r\nQ 21.96875 7.515625 27.59375 7.515625 \r\nL 36.8125 7.515625 \r\nL 36.8125 0 \r\nL 27.59375 0 \r\nQ 17.1875 0 13.234375 3.875 \r\nQ 9.28125 7.765625 9.28125 18.015625 \r\nL 9.28125 47.703125 \r\nL 2.6875 47.703125 \r\nL 2.6875 54.6875 \r\nL 9.28125 54.6875 \r\nL 9.28125 70.21875 \r\nz\r\n\" id=\"DejaVuSans-116\"/>\r\n      </defs>\r\n      <use xlink:href=\"#DejaVuSans-97\"/>\r\n      <use x=\"61.279297\" xlink:href=\"#DejaVuSans-112\"/>\r\n      <use x=\"124.755859\" xlink:href=\"#DejaVuSans-112\"/>\r\n      <use x=\"188.232422\" xlink:href=\"#DejaVuSans-101\"/>\r\n      <use x=\"249.755859\" xlink:href=\"#DejaVuSans-97\"/>\r\n      <use x=\"311.035156\" xlink:href=\"#DejaVuSans-114\"/>\r\n      <use x=\"352.148438\" xlink:href=\"#DejaVuSans-115\"/>\r\n      <use x=\"404.248047\" xlink:href=\"#DejaVuSans-95\"/>\r\n      <use x=\"454.248047\" xlink:href=\"#DejaVuSans-105\"/>\r\n      <use x=\"482.03125\" xlink:href=\"#DejaVuSans-110\"/>\r\n      <use x=\"545.410156\" xlink:href=\"#DejaVuSans-95\"/>\r\n      <use x=\"595.410156\" xlink:href=\"#DejaVuSans-112\"/>\r\n      <use x=\"658.886719\" xlink:href=\"#DejaVuSans-99\"/>\r\n      <use x=\"713.867188\" xlink:href=\"#DejaVuSans-116\"/>\r\n     </g>\r\n    </g>\r\n   </g>\r\n   <g id=\"matplotlib.axis_2\">\r\n    <g id=\"ytick_1\">\r\n     <g id=\"line2d_6\">\r\n      <defs>\r\n       <path d=\"M 0 0 \r\nL -3.5 0 \r\n\" id=\"mfc998f1bb6\" style=\"stroke:#000000;stroke-width:0.8;\"/>\r\n      </defs>\r\n      <g>\r\n       <use style=\"stroke:#000000;stroke-width:0.8;\" x=\"33.2875\" xlink:href=\"#mfc998f1bb6\" y=\"224.64\"/>\r\n      </g>\r\n     </g>\r\n     <g id=\"text_7\">\r\n      <!-- 0 -->\r\n      <g transform=\"translate(19.925 228.439219)scale(0.1 -0.1)\">\r\n       <use xlink:href=\"#DejaVuSans-48\"/>\r\n      </g>\r\n     </g>\r\n    </g>\r\n    <g id=\"ytick_2\">\r\n     <g id=\"line2d_7\">\r\n      <g>\r\n       <use style=\"stroke:#000000;stroke-width:0.8;\" x=\"33.2875\" xlink:href=\"#mfc998f1bb6\" y=\"180.50048\"/>\r\n      </g>\r\n     </g>\r\n     <g id=\"text_8\">\r\n      <!-- 50 -->\r\n      <g transform=\"translate(13.5625 184.299699)scale(0.1 -0.1)\">\r\n       <use xlink:href=\"#DejaVuSans-53\"/>\r\n       <use x=\"63.623047\" xlink:href=\"#DejaVuSans-48\"/>\r\n      </g>\r\n     </g>\r\n    </g>\r\n    <g id=\"ytick_3\">\r\n     <g id=\"line2d_8\">\r\n      <g>\r\n       <use style=\"stroke:#000000;stroke-width:0.8;\" x=\"33.2875\" xlink:href=\"#mfc998f1bb6\" y=\"136.36096\"/>\r\n      </g>\r\n     </g>\r\n     <g id=\"text_9\">\r\n      <!-- 100 -->\r\n      <g transform=\"translate(7.2 140.160179)scale(0.1 -0.1)\">\r\n       <use xlink:href=\"#DejaVuSans-49\"/>\r\n       <use x=\"63.623047\" xlink:href=\"#DejaVuSans-48\"/>\r\n       <use x=\"127.246094\" xlink:href=\"#DejaVuSans-48\"/>\r\n      </g>\r\n     </g>\r\n    </g>\r\n    <g id=\"ytick_4\">\r\n     <g id=\"line2d_9\">\r\n      <g>\r\n       <use style=\"stroke:#000000;stroke-width:0.8;\" x=\"33.2875\" xlink:href=\"#mfc998f1bb6\" y=\"92.22144\"/>\r\n      </g>\r\n     </g>\r\n     <g id=\"text_10\">\r\n      <!-- 150 -->\r\n      <g transform=\"translate(7.2 96.020659)scale(0.1 -0.1)\">\r\n       <use xlink:href=\"#DejaVuSans-49\"/>\r\n       <use x=\"63.623047\" xlink:href=\"#DejaVuSans-53\"/>\r\n       <use x=\"127.246094\" xlink:href=\"#DejaVuSans-48\"/>\r\n      </g>\r\n     </g>\r\n    </g>\r\n    <g id=\"ytick_5\">\r\n     <g id=\"line2d_10\">\r\n      <g>\r\n       <use style=\"stroke:#000000;stroke-width:0.8;\" x=\"33.2875\" xlink:href=\"#mfc998f1bb6\" y=\"48.081921\"/>\r\n      </g>\r\n     </g>\r\n     <g id=\"text_11\">\r\n      <!-- 200 -->\r\n      <g transform=\"translate(7.2 51.881139)scale(0.1 -0.1)\">\r\n       <use xlink:href=\"#DejaVuSans-50\"/>\r\n       <use x=\"63.623047\" xlink:href=\"#DejaVuSans-48\"/>\r\n       <use x=\"127.246094\" xlink:href=\"#DejaVuSans-48\"/>\r\n      </g>\r\n     </g>\r\n    </g>\r\n   </g>\r\n   <g id=\"line2d_11\">\r\n    <path clip-path=\"url(#pa66aae53b7)\" d=\"M 48.505682 222.9607 \r\nL 51.580062 160.080075 \r\nL 54.654442 17.554286 \r\nL 57.728822 150.764891 \r\nL 60.803202 210.127928 \r\nL 63.877583 217.661367 \r\nL 66.951963 220.24967 \r\nL 70.026343 221.537692 \r\nL 73.100723 222.340629 \r\nL 76.175103 222.994354 \r\nL 79.249483 223.268476 \r\nL 82.323864 223.443118 \r\nL 85.398244 223.655131 \r\nL 88.472624 223.985011 \r\nL 91.547004 224.122502 \r\nL 94.621384 224.008344 \r\nL 97.695764 223.89114 \r\nL 100.770145 224.044404 \r\nL 103.844525 224.145205 \r\nL 106.918905 224.301786 \r\nL 109.993285 224.403211 \r\nL 113.067665 224.358599 \r\nL 116.142045 224.315091 \r\nL 119.216426 224.370517 \r\nL 122.290806 224.458948 \r\nL 125.365186 224.498209 \r\nL 128.439566 224.462711 \r\nL 131.513946 224.54214 \r\nL 134.588326 224.577033 \r\nL 137.662707 224.505618 \r\nL 140.737087 224.529617 \r\nL 143.811467 224.494311 \r\nL 146.885847 224.504869 \r\nL 149.960227 224.497 \r\nL 153.034607 224.496174 \r\nL 156.108988 224.485186 \r\nL 159.183368 224.498177 \r\nL 162.257748 224.531753 \r\nL 165.332128 224.534605 \r\nL 168.406508 224.534698 \r\nL 171.480888 224.505844 \r\nL 174.555269 224.509652 \r\nL 177.629649 224.552214 \r\nL 180.704029 224.551686 \r\nL 183.778409 224.551874 \r\nL 186.852789 224.5745 \r\nL 189.927169 224.59482 \r\nL 193.00155 224.612539 \r\nL 196.07593 224.604367 \r\nL 199.15031 224.601789 \r\nL 202.22469 224.572496 \r\nL 205.29907 224.615951 \r\nL 208.37345 224.623769 \r\nL 211.447831 224.624677 \r\nL 214.522211 224.608059 \r\nL 217.596591 224.600644 \r\nL 220.670971 224.608179 \r\nL 223.745351 224.624193 \r\nL 226.819731 224.59753 \r\nL 229.894112 224.54934 \r\nL 232.968492 224.607179 \r\nL 236.042872 224.603329 \r\nL 239.117252 224.632753 \r\nL 242.191632 224.639877 \r\nL 245.266012 224.639997 \r\nL 248.340393 224.639403 \r\nL 251.414773 224.628643 \r\nL 254.489153 224.623664 \r\nL 257.563533 224.638222 \r\nL 260.637913 224.639985 \r\nL 263.712293 224.639997 \r\nL 266.786674 224.639254 \r\nL 269.861054 224.627644 \r\nL 272.935434 224.6245 \r\nL 276.009814 224.637484 \r\nL 279.084194 224.626065 \r\nL 282.158574 224.625976 \r\nL 285.232955 224.638931 \r\nL 288.307335 224.639994 \r\nL 291.381715 224.64 \r\nL 294.456095 224.64 \r\nL 297.530475 224.64 \r\nL 300.604855 224.64 \r\nL 303.679236 224.64 \r\nL 306.753616 224.64 \r\nL 309.827996 224.64 \r\nL 312.902376 224.64 \r\nL 315.976756 224.64 \r\nL 319.051136 224.64 \r\nL 322.125517 224.64 \r\nL 325.199897 224.64 \r\nL 328.274277 224.64 \r\nL 331.348657 224.64 \r\nL 334.423037 224.64 \r\nL 337.497417 224.64 \r\nL 340.571798 224.639946 \r\nL 343.646178 224.636318 \r\nL 346.720558 224.621139 \r\nL 349.794938 224.632689 \r\nL 352.869318 224.639786 \r\n\" style=\"fill:none;stroke:#1f77b4;stroke-linecap:square;stroke-width:1.5;\"/>\r\n   </g>\r\n   <g id=\"patch_53\">\r\n    <path d=\"M 33.2875 224.64 \r\nL 33.2875 7.2 \r\n\" style=\"fill:none;stroke:#000000;stroke-linecap:square;stroke-linejoin:miter;stroke-width:0.8;\"/>\r\n   </g>\r\n   <g id=\"patch_54\">\r\n    <path d=\"M 368.0875 224.64 \r\nL 368.0875 7.2 \r\n\" style=\"fill:none;stroke:#000000;stroke-linecap:square;stroke-linejoin:miter;stroke-width:0.8;\"/>\r\n   </g>\r\n   <g id=\"patch_55\">\r\n    <path d=\"M 33.2875 224.64 \r\nL 368.0875 224.64 \r\n\" style=\"fill:none;stroke:#000000;stroke-linecap:square;stroke-linejoin:miter;stroke-width:0.8;\"/>\r\n   </g>\r\n   <g id=\"patch_56\">\r\n    <path d=\"M 33.2875 7.2 \r\nL 368.0875 7.2 \r\n\" style=\"fill:none;stroke:#000000;stroke-linecap:square;stroke-linejoin:miter;stroke-width:0.8;\"/>\r\n   </g>\r\n  </g>\r\n </g>\r\n <defs>\r\n  <clipPath id=\"pa66aae53b7\">\r\n   <rect height=\"217.44\" width=\"334.8\" x=\"33.2875\" y=\"7.2\"/>\r\n  </clipPath>\r\n </defs>\r\n</svg>\r\n",
      "image/png": "[encoded data removed]"
     },
     "metadata": {
      "needs_background": "light"
     }
    }
   ],
   "source": [
    "# Frequency of appearance in documents\n",
    "sns.distplot(wc_nostop['appears_in_pct']);"
   ]
  },
  {
   "cell_type": "code",
   "execution_count": 74,
   "metadata": {
    "scrolled": true
   },
   "outputs": [
    {
     "output_type": "display_data",
     "data": {
      "text/plain": "<Figure size 432x288 with 1 Axes>",
      "image/svg+xml": "<?xml version=\"1.0\" encoding=\"utf-8\" standalone=\"no\"?>\r\n<!DOCTYPE svg PUBLIC \"-//W3C//DTD SVG 1.1//EN\"\r\n  \"http://www.w3.org/Graphics/SVG/1.1/DTD/svg11.dtd\">\r\n<!-- Created with matplotlib (https://matplotlib.org/) -->\r\n<svg height=\"264.26394pt\" version=\"1.1\" viewBox=\"0 0 375.2875 264.26394\" width=\"375.2875pt\" xmlns=\"http://www.w3.org/2000/svg\" xmlns:xlink=\"http://www.w3.org/1999/xlink\">\r\n <metadata>\r\n  <rdf:RDF xmlns:cc=\"http://creativecommons.org/ns#\" xmlns:dc=\"http://purl.org/dc/elements/1.1/\" xmlns:rdf=\"http://www.w3.org/1999/02/22-rdf-syntax-ns#\">\r\n   <cc:Work>\r\n    <dc:type rdf:resource=\"http://purl.org/dc/dcmitype/StillImage\"/>\r\n    <dc:date>2021-01-14T16:41:48.197083</dc:date>\r\n    <dc:format>image/svg+xml</dc:format>\r\n    <dc:creator>\r\n     <cc:Agent>\r\n      <dc:title>Matplotlib v3.3.2, https://matplotlib.org/</dc:title>\r\n     </cc:Agent>\r\n    </dc:creator>\r\n   </cc:Work>\r\n  </rdf:RDF>\r\n </metadata>\r\n <defs>\r\n  <style type=\"text/css\">*{stroke-linecap:butt;stroke-linejoin:round;}</style>\r\n </defs>\r\n <g id=\"figure_1\">\r\n  <g id=\"patch_1\">\r\n   <path d=\"M 0 264.26394 \r\nL 375.2875 264.26394 \r\nL 375.2875 0 \r\nL 0 0 \r\nz\r\n\" style=\"fill:none;\"/>\r\n  </g>\r\n  <g id=\"axes_1\">\r\n   <g id=\"patch_2\">\r\n    <path d=\"M 33.2875 226.429565 \r\nL 368.0875 226.429565 \r\nL 368.0875 8.989565 \r\nL 33.2875 8.989565 \r\nz\r\n\" style=\"fill:#ffffff;\"/>\r\n   </g>\r\n   <g id=\"patch_3\">\r\n    <path clip-path=\"url(#p393d72d8c6)\" d=\"M 61.896709 226.429565 \r\nL 67.448341 226.429565 \r\nL 67.448341 19.34385 \r\nL 61.896709 19.34385 \r\nz\r\n\" style=\"fill:#1f77b4;opacity:0.4;\"/>\r\n   </g>\r\n   <g id=\"patch_4\">\r\n    <path clip-path=\"url(#p393d72d8c6)\" d=\"M 67.448341 226.429565 \r\nL 72.999972 226.429565 \r\nL 72.999972 185.329339 \r\nL 67.448341 185.329339 \r\nz\r\n\" style=\"fill:#1f77b4;opacity:0.4;\"/>\r\n   </g>\r\n   <g id=\"patch_5\">\r\n    <path clip-path=\"url(#p393d72d8c6)\" d=\"M 72.999972 226.429565 \r\nL 78.551604 226.429565 \r\nL 78.551604 207.909704 \r\nL 72.999972 207.909704 \r\nz\r\n\" style=\"fill:#1f77b4;opacity:0.4;\"/>\r\n   </g>\r\n   <g id=\"patch_6\">\r\n    <path clip-path=\"url(#p393d72d8c6)\" d=\"M 78.551604 226.429565 \r\nL 84.103236 226.429565 \r\nL 84.103236 215.733602 \r\nL 78.551604 215.733602 \r\nz\r\n\" style=\"fill:#1f77b4;opacity:0.4;\"/>\r\n   </g>\r\n   <g id=\"patch_7\">\r\n    <path clip-path=\"url(#p393d72d8c6)\" d=\"M 84.103236 226.429565 \r\nL 89.654867 226.429565 \r\nL 89.654867 219.001813 \r\nL 84.103236 219.001813 \r\nz\r\n\" style=\"fill:#1f77b4;opacity:0.4;\"/>\r\n   </g>\r\n   <g id=\"patch_8\">\r\n    <path clip-path=\"url(#p393d72d8c6)\" d=\"M 89.654867 226.429565 \r\nL 95.206499 226.429565 \r\nL 95.206499 221.675804 \r\nL 89.654867 221.675804 \r\nz\r\n\" style=\"fill:#1f77b4;opacity:0.4;\"/>\r\n   </g>\r\n   <g id=\"patch_9\">\r\n    <path clip-path=\"url(#p393d72d8c6)\" d=\"M 95.206499 226.429565 \r\nL 100.758131 226.429565 \r\nL 100.758131 222.963281 \r\nL 95.206499 222.963281 \r\nz\r\n\" style=\"fill:#1f77b4;opacity:0.4;\"/>\r\n   </g>\r\n   <g id=\"patch_10\">\r\n    <path clip-path=\"url(#p393d72d8c6)\" d=\"M 100.758131 226.429565 \r\nL 106.309762 226.429565 \r\nL 106.309762 221.873877 \r\nL 100.758131 221.873877 \r\nz\r\n\" style=\"fill:#1f77b4;opacity:0.4;\"/>\r\n   </g>\r\n   <g id=\"patch_11\">\r\n    <path clip-path=\"url(#p393d72d8c6)\" d=\"M 106.309762 226.429565 \r\nL 111.861394 226.429565 \r\nL 111.861394 223.854611 \r\nL 106.309762 223.854611 \r\nz\r\n\" style=\"fill:#1f77b4;opacity:0.4;\"/>\r\n   </g>\r\n   <g id=\"patch_12\">\r\n    <path clip-path=\"url(#p393d72d8c6)\" d=\"M 111.861394 226.429565 \r\nL 117.413025 226.429565 \r\nL 117.413025 224.844978 \r\nL 111.861394 224.844978 \r\nz\r\n\" style=\"fill:#1f77b4;opacity:0.4;\"/>\r\n   </g>\r\n   <g id=\"patch_13\">\r\n    <path clip-path=\"url(#p393d72d8c6)\" d=\"M 117.413025 226.429565 \r\nL 122.964657 226.429565 \r\nL 122.964657 224.448831 \r\nL 117.413025 224.448831 \r\nz\r\n\" style=\"fill:#1f77b4;opacity:0.4;\"/>\r\n   </g>\r\n   <g id=\"patch_14\">\r\n    <path clip-path=\"url(#p393d72d8c6)\" d=\"M 122.964657 226.429565 \r\nL 128.516289 226.429565 \r\nL 128.516289 225.340161 \r\nL 122.964657 225.340161 \r\nz\r\n\" style=\"fill:#1f77b4;opacity:0.4;\"/>\r\n   </g>\r\n   <g id=\"patch_15\">\r\n    <path clip-path=\"url(#p393d72d8c6)\" d=\"M 128.516289 226.429565 \r\nL 134.06792 226.429565 \r\nL 134.06792 225.340161 \r\nL 128.516289 225.340161 \r\nz\r\n\" style=\"fill:#1f77b4;opacity:0.4;\"/>\r\n   </g>\r\n   <g id=\"patch_16\">\r\n    <path clip-path=\"url(#p393d72d8c6)\" d=\"M 134.06792 226.429565 \r\nL 139.619552 226.429565 \r\nL 139.619552 226.132455 \r\nL 134.06792 226.132455 \r\nz\r\n\" style=\"fill:#1f77b4;opacity:0.4;\"/>\r\n   </g>\r\n   <g id=\"patch_17\">\r\n    <path clip-path=\"url(#p393d72d8c6)\" d=\"M 139.619552 226.429565 \r\nL 145.171184 226.429565 \r\nL 145.171184 225.736308 \r\nL 139.619552 225.736308 \r\nz\r\n\" style=\"fill:#1f77b4;opacity:0.4;\"/>\r\n   </g>\r\n   <g id=\"patch_18\">\r\n    <path clip-path=\"url(#p393d72d8c6)\" d=\"M 145.171184 226.429565 \r\nL 150.722815 226.429565 \r\nL 150.722815 225.538234 \r\nL 145.171184 225.538234 \r\nz\r\n\" style=\"fill:#1f77b4;opacity:0.4;\"/>\r\n   </g>\r\n   <g id=\"patch_19\">\r\n    <path clip-path=\"url(#p393d72d8c6)\" d=\"M 150.722815 226.429565 \r\nL 156.274447 226.429565 \r\nL 156.274447 225.439198 \r\nL 150.722815 225.439198 \r\nz\r\n\" style=\"fill:#1f77b4;opacity:0.4;\"/>\r\n   </g>\r\n   <g id=\"patch_20\">\r\n    <path clip-path=\"url(#p393d72d8c6)\" d=\"M 156.274447 226.429565 \r\nL 161.826079 226.429565 \r\nL 161.826079 225.340161 \r\nL 156.274447 225.340161 \r\nz\r\n\" style=\"fill:#1f77b4;opacity:0.4;\"/>\r\n   </g>\r\n   <g id=\"patch_21\">\r\n    <path clip-path=\"url(#p393d72d8c6)\" d=\"M 161.826079 226.429565 \r\nL 167.37771 226.429565 \r\nL 167.37771 225.934381 \r\nL 161.826079 225.934381 \r\nz\r\n\" style=\"fill:#1f77b4;opacity:0.4;\"/>\r\n   </g>\r\n   <g id=\"patch_22\">\r\n    <path clip-path=\"url(#p393d72d8c6)\" d=\"M 167.37771 226.429565 \r\nL 172.929342 226.429565 \r\nL 172.929342 225.736308 \r\nL 167.37771 225.736308 \r\nz\r\n\" style=\"fill:#1f77b4;opacity:0.4;\"/>\r\n   </g>\r\n   <g id=\"patch_23\">\r\n    <path clip-path=\"url(#p393d72d8c6)\" d=\"M 172.929342 226.429565 \r\nL 178.480973 226.429565 \r\nL 178.480973 225.637271 \r\nL 172.929342 225.637271 \r\nz\r\n\" style=\"fill:#1f77b4;opacity:0.4;\"/>\r\n   </g>\r\n   <g id=\"patch_24\">\r\n    <path clip-path=\"url(#p393d72d8c6)\" d=\"M 178.480973 226.429565 \r\nL 184.032605 226.429565 \r\nL 184.032605 225.835344 \r\nL 178.480973 225.835344 \r\nz\r\n\" style=\"fill:#1f77b4;opacity:0.4;\"/>\r\n   </g>\r\n   <g id=\"patch_25\">\r\n    <path clip-path=\"url(#p393d72d8c6)\" d=\"M 184.032605 226.429565 \r\nL 189.584237 226.429565 \r\nL 189.584237 226.033418 \r\nL 184.032605 226.033418 \r\nz\r\n\" style=\"fill:#1f77b4;opacity:0.4;\"/>\r\n   </g>\r\n   <g id=\"patch_26\">\r\n    <path clip-path=\"url(#p393d72d8c6)\" d=\"M 189.584237 226.429565 \r\nL 195.135868 226.429565 \r\nL 195.135868 226.231491 \r\nL 189.584237 226.231491 \r\nz\r\n\" style=\"fill:#1f77b4;opacity:0.4;\"/>\r\n   </g>\r\n   <g id=\"patch_27\">\r\n    <path clip-path=\"url(#p393d72d8c6)\" d=\"M 195.135868 226.429565 \r\nL 200.6875 226.429565 \r\nL 200.6875 226.231491 \r\nL 195.135868 226.231491 \r\nz\r\n\" style=\"fill:#1f77b4;opacity:0.4;\"/>\r\n   </g>\r\n   <g id=\"patch_28\">\r\n    <path clip-path=\"url(#p393d72d8c6)\" d=\"M 200.6875 226.429565 \r\nL 206.239132 226.429565 \r\nL 206.239132 226.132455 \r\nL 200.6875 226.132455 \r\nz\r\n\" style=\"fill:#1f77b4;opacity:0.4;\"/>\r\n   </g>\r\n   <g id=\"patch_29\">\r\n    <path clip-path=\"url(#p393d72d8c6)\" d=\"M 206.239132 226.429565 \r\nL 211.790763 226.429565 \r\nL 211.790763 226.330528 \r\nL 206.239132 226.330528 \r\nz\r\n\" style=\"fill:#1f77b4;opacity:0.4;\"/>\r\n   </g>\r\n   <g id=\"patch_30\">\r\n    <path clip-path=\"url(#p393d72d8c6)\" d=\"M 211.790763 226.429565 \r\nL 217.342395 226.429565 \r\nL 217.342395 226.231491 \r\nL 211.790763 226.231491 \r\nz\r\n\" style=\"fill:#1f77b4;opacity:0.4;\"/>\r\n   </g>\r\n   <g id=\"patch_31\">\r\n    <path clip-path=\"url(#p393d72d8c6)\" d=\"M 217.342395 226.429565 \r\nL 222.894027 226.429565 \r\nL 222.894027 226.231491 \r\nL 217.342395 226.231491 \r\nz\r\n\" style=\"fill:#1f77b4;opacity:0.4;\"/>\r\n   </g>\r\n   <g id=\"patch_32\">\r\n    <path clip-path=\"url(#p393d72d8c6)\" d=\"M 222.894027 226.429565 \r\nL 228.445658 226.429565 \r\nL 228.445658 225.934381 \r\nL 222.894027 225.934381 \r\nz\r\n\" style=\"fill:#1f77b4;opacity:0.4;\"/>\r\n   </g>\r\n   <g id=\"patch_33\">\r\n    <path clip-path=\"url(#p393d72d8c6)\" d=\"M 228.445658 226.429565 \r\nL 233.99729 226.429565 \r\nL 233.99729 226.231491 \r\nL 228.445658 226.231491 \r\nz\r\n\" style=\"fill:#1f77b4;opacity:0.4;\"/>\r\n   </g>\r\n   <g id=\"patch_34\">\r\n    <path clip-path=\"url(#p393d72d8c6)\" d=\"M 233.99729 226.429565 \r\nL 239.548921 226.429565 \r\nL 239.548921 226.429565 \r\nL 233.99729 226.429565 \r\nz\r\n\" style=\"fill:#1f77b4;opacity:0.4;\"/>\r\n   </g>\r\n   <g id=\"patch_35\">\r\n    <path clip-path=\"url(#p393d72d8c6)\" d=\"M 239.548921 226.429565 \r\nL 245.100553 226.429565 \r\nL 245.100553 226.429565 \r\nL 239.548921 226.429565 \r\nz\r\n\" style=\"fill:#1f77b4;opacity:0.4;\"/>\r\n   </g>\r\n   <g id=\"patch_36\">\r\n    <path clip-path=\"url(#p393d72d8c6)\" d=\"M 245.100553 226.429565 \r\nL 250.652185 226.429565 \r\nL 250.652185 226.330528 \r\nL 245.100553 226.330528 \r\nz\r\n\" style=\"fill:#1f77b4;opacity:0.4;\"/>\r\n   </g>\r\n   <g id=\"patch_37\">\r\n    <path clip-path=\"url(#p393d72d8c6)\" d=\"M 250.652185 226.429565 \r\nL 256.203816 226.429565 \r\nL 256.203816 226.429565 \r\nL 250.652185 226.429565 \r\nz\r\n\" style=\"fill:#1f77b4;opacity:0.4;\"/>\r\n   </g>\r\n   <g id=\"patch_38\">\r\n    <path clip-path=\"url(#p393d72d8c6)\" d=\"M 256.203816 226.429565 \r\nL 261.755448 226.429565 \r\nL 261.755448 226.429565 \r\nL 256.203816 226.429565 \r\nz\r\n\" style=\"fill:#1f77b4;opacity:0.4;\"/>\r\n   </g>\r\n   <g id=\"patch_39\">\r\n    <path clip-path=\"url(#p393d72d8c6)\" d=\"M 261.755448 226.429565 \r\nL 267.30708 226.429565 \r\nL 267.30708 226.429565 \r\nL 261.755448 226.429565 \r\nz\r\n\" style=\"fill:#1f77b4;opacity:0.4;\"/>\r\n   </g>\r\n   <g id=\"patch_40\">\r\n    <path clip-path=\"url(#p393d72d8c6)\" d=\"M 267.30708 226.429565 \r\nL 272.858711 226.429565 \r\nL 272.858711 226.330528 \r\nL 267.30708 226.330528 \r\nz\r\n\" style=\"fill:#1f77b4;opacity:0.4;\"/>\r\n   </g>\r\n   <g id=\"patch_41\">\r\n    <path clip-path=\"url(#p393d72d8c6)\" d=\"M 272.858711 226.429565 \r\nL 278.410343 226.429565 \r\nL 278.410343 226.330528 \r\nL 272.858711 226.330528 \r\nz\r\n\" style=\"fill:#1f77b4;opacity:0.4;\"/>\r\n   </g>\r\n   <g id=\"patch_42\">\r\n    <path clip-path=\"url(#p393d72d8c6)\" d=\"M 278.410343 226.429565 \r\nL 283.961975 226.429565 \r\nL 283.961975 226.429565 \r\nL 278.410343 226.429565 \r\nz\r\n\" style=\"fill:#1f77b4;opacity:0.4;\"/>\r\n   </g>\r\n   <g id=\"patch_43\">\r\n    <path clip-path=\"url(#p393d72d8c6)\" d=\"M 283.961975 226.429565 \r\nL 289.513606 226.429565 \r\nL 289.513606 226.429565 \r\nL 283.961975 226.429565 \r\nz\r\n\" style=\"fill:#1f77b4;opacity:0.4;\"/>\r\n   </g>\r\n   <g id=\"patch_44\">\r\n    <path clip-path=\"url(#p393d72d8c6)\" d=\"M 289.513606 226.429565 \r\nL 295.065238 226.429565 \r\nL 295.065238 226.429565 \r\nL 289.513606 226.429565 \r\nz\r\n\" style=\"fill:#1f77b4;opacity:0.4;\"/>\r\n   </g>\r\n   <g id=\"patch_45\">\r\n    <path clip-path=\"url(#p393d72d8c6)\" d=\"M 295.065238 226.429565 \r\nL 300.616869 226.429565 \r\nL 300.616869 226.429565 \r\nL 295.065238 226.429565 \r\nz\r\n\" style=\"fill:#1f77b4;opacity:0.4;\"/>\r\n   </g>\r\n   <g id=\"patch_46\">\r\n    <path clip-path=\"url(#p393d72d8c6)\" d=\"M 300.616869 226.429565 \r\nL 306.168501 226.429565 \r\nL 306.168501 226.429565 \r\nL 300.616869 226.429565 \r\nz\r\n\" style=\"fill:#1f77b4;opacity:0.4;\"/>\r\n   </g>\r\n   <g id=\"patch_47\">\r\n    <path clip-path=\"url(#p393d72d8c6)\" d=\"M 306.168501 226.429565 \r\nL 311.720133 226.429565 \r\nL 311.720133 226.429565 \r\nL 306.168501 226.429565 \r\nz\r\n\" style=\"fill:#1f77b4;opacity:0.4;\"/>\r\n   </g>\r\n   <g id=\"patch_48\">\r\n    <path clip-path=\"url(#p393d72d8c6)\" d=\"M 311.720133 226.429565 \r\nL 317.271764 226.429565 \r\nL 317.271764 226.429565 \r\nL 311.720133 226.429565 \r\nz\r\n\" style=\"fill:#1f77b4;opacity:0.4;\"/>\r\n   </g>\r\n   <g id=\"patch_49\">\r\n    <path clip-path=\"url(#p393d72d8c6)\" d=\"M 317.271764 226.429565 \r\nL 322.823396 226.429565 \r\nL 322.823396 226.429565 \r\nL 317.271764 226.429565 \r\nz\r\n\" style=\"fill:#1f77b4;opacity:0.4;\"/>\r\n   </g>\r\n   <g id=\"patch_50\">\r\n    <path clip-path=\"url(#p393d72d8c6)\" d=\"M 322.823396 226.429565 \r\nL 328.375028 226.429565 \r\nL 328.375028 226.429565 \r\nL 322.823396 226.429565 \r\nz\r\n\" style=\"fill:#1f77b4;opacity:0.4;\"/>\r\n   </g>\r\n   <g id=\"patch_51\">\r\n    <path clip-path=\"url(#p393d72d8c6)\" d=\"M 328.375028 226.429565 \r\nL 333.926659 226.429565 \r\nL 333.926659 226.429565 \r\nL 328.375028 226.429565 \r\nz\r\n\" style=\"fill:#1f77b4;opacity:0.4;\"/>\r\n   </g>\r\n   <g id=\"patch_52\">\r\n    <path clip-path=\"url(#p393d72d8c6)\" d=\"M 333.926659 226.429565 \r\nL 339.478291 226.429565 \r\nL 339.478291 226.330528 \r\nL 333.926659 226.330528 \r\nz\r\n\" style=\"fill:#1f77b4;opacity:0.4;\"/>\r\n   </g>\r\n   <g id=\"matplotlib.axis_1\">\r\n    <g id=\"xtick_1\">\r\n     <g id=\"line2d_1\">\r\n      <defs>\r\n       <path d=\"M 0 0 \r\nL 0 3.5 \r\n\" id=\"mc04639b7bf\" style=\"stroke:#000000;stroke-width:0.8;\"/>\r\n      </defs>\r\n      <g>\r\n       <use style=\"stroke:#000000;stroke-width:0.8;\" x=\"60.531833\" xlink:href=\"#mc04639b7bf\" y=\"226.429565\"/>\r\n      </g>\r\n     </g>\r\n     <g id=\"text_1\">\r\n      <!-- 0.00 -->\r\n      <g transform=\"translate(49.399021 241.028002)scale(0.1 -0.1)\">\r\n       <defs>\r\n        <path d=\"M 31.78125 66.40625 \r\nQ 24.171875 66.40625 20.328125 58.90625 \r\nQ 16.5 51.421875 16.5 36.375 \r\nQ 16.5 21.390625 20.328125 13.890625 \r\nQ 24.171875 6.390625 31.78125 6.390625 \r\nQ 39.453125 6.390625 43.28125 13.890625 \r\nQ 47.125 21.390625 47.125 36.375 \r\nQ 47.125 51.421875 43.28125 58.90625 \r\nQ 39.453125 66.40625 31.78125 66.40625 \r\nz\r\nM 31.78125 74.21875 \r\nQ 44.046875 74.21875 50.515625 64.515625 \r\nQ 56.984375 54.828125 56.984375 36.375 \r\nQ 56.984375 17.96875 50.515625 8.265625 \r\nQ 44.046875 -1.421875 31.78125 -1.421875 \r\nQ 19.53125 -1.421875 13.0625 8.265625 \r\nQ 6.59375 17.96875 6.59375 36.375 \r\nQ 6.59375 54.828125 13.0625 64.515625 \r\nQ 19.53125 74.21875 31.78125 74.21875 \r\nz\r\n\" id=\"DejaVuSans-48\"/>\r\n        <path d=\"M 10.6875 12.40625 \r\nL 21 12.40625 \r\nL 21 0 \r\nL 10.6875 0 \r\nz\r\n\" id=\"DejaVuSans-46\"/>\r\n       </defs>\r\n       <use xlink:href=\"#DejaVuSans-48\"/>\r\n       <use x=\"63.623047\" xlink:href=\"#DejaVuSans-46\"/>\r\n       <use x=\"95.410156\" xlink:href=\"#DejaVuSans-48\"/>\r\n       <use x=\"159.033203\" xlink:href=\"#DejaVuSans-48\"/>\r\n      </g>\r\n     </g>\r\n    </g>\r\n    <g id=\"xtick_2\">\r\n     <g id=\"line2d_2\">\r\n      <g>\r\n       <use style=\"stroke:#000000;stroke-width:0.8;\" x=\"125.499914\" xlink:href=\"#mc04639b7bf\" y=\"226.429565\"/>\r\n      </g>\r\n     </g>\r\n     <g id=\"text_2\">\r\n      <!-- 0.05 -->\r\n      <g transform=\"translate(114.367101 241.028002)scale(0.1 -0.1)\">\r\n       <defs>\r\n        <path d=\"M 10.796875 72.90625 \r\nL 49.515625 72.90625 \r\nL 49.515625 64.59375 \r\nL 19.828125 64.59375 \r\nL 19.828125 46.734375 \r\nQ 21.96875 47.46875 24.109375 47.828125 \r\nQ 26.265625 48.1875 28.421875 48.1875 \r\nQ 40.625 48.1875 47.75 41.5 \r\nQ 54.890625 34.8125 54.890625 23.390625 \r\nQ 54.890625 11.625 47.5625 5.09375 \r\nQ 40.234375 -1.421875 26.90625 -1.421875 \r\nQ 22.3125 -1.421875 17.546875 -0.640625 \r\nQ 12.796875 0.140625 7.71875 1.703125 \r\nL 7.71875 11.625 \r\nQ 12.109375 9.234375 16.796875 8.0625 \r\nQ 21.484375 6.890625 26.703125 6.890625 \r\nQ 35.15625 6.890625 40.078125 11.328125 \r\nQ 45.015625 15.765625 45.015625 23.390625 \r\nQ 45.015625 31 40.078125 35.4375 \r\nQ 35.15625 39.890625 26.703125 39.890625 \r\nQ 22.75 39.890625 18.8125 39.015625 \r\nQ 14.890625 38.140625 10.796875 36.28125 \r\nz\r\n\" id=\"DejaVuSans-53\"/>\r\n       </defs>\r\n       <use xlink:href=\"#DejaVuSans-48\"/>\r\n       <use x=\"63.623047\" xlink:href=\"#DejaVuSans-46\"/>\r\n       <use x=\"95.410156\" xlink:href=\"#DejaVuSans-48\"/>\r\n       <use x=\"159.033203\" xlink:href=\"#DejaVuSans-53\"/>\r\n      </g>\r\n     </g>\r\n    </g>\r\n    <g id=\"xtick_3\">\r\n     <g id=\"line2d_3\">\r\n      <g>\r\n       <use style=\"stroke:#000000;stroke-width:0.8;\" x=\"190.467994\" xlink:href=\"#mc04639b7bf\" y=\"226.429565\"/>\r\n      </g>\r\n     </g>\r\n     <g id=\"text_3\">\r\n      <!-- 0.10 -->\r\n      <g transform=\"translate(179.335181 241.028002)scale(0.1 -0.1)\">\r\n       <defs>\r\n        <path d=\"M 12.40625 8.296875 \r\nL 28.515625 8.296875 \r\nL 28.515625 63.921875 \r\nL 10.984375 60.40625 \r\nL 10.984375 69.390625 \r\nL 28.421875 72.90625 \r\nL 38.28125 72.90625 \r\nL 38.28125 8.296875 \r\nL 54.390625 8.296875 \r\nL 54.390625 0 \r\nL 12.40625 0 \r\nz\r\n\" id=\"DejaVuSans-49\"/>\r\n       </defs>\r\n       <use xlink:href=\"#DejaVuSans-48\"/>\r\n       <use x=\"63.623047\" xlink:href=\"#DejaVuSans-46\"/>\r\n       <use x=\"95.410156\" xlink:href=\"#DejaVuSans-49\"/>\r\n       <use x=\"159.033203\" xlink:href=\"#DejaVuSans-48\"/>\r\n      </g>\r\n     </g>\r\n    </g>\r\n    <g id=\"xtick_4\">\r\n     <g id=\"line2d_4\">\r\n      <g>\r\n       <use style=\"stroke:#000000;stroke-width:0.8;\" x=\"255.436074\" xlink:href=\"#mc04639b7bf\" y=\"226.429565\"/>\r\n      </g>\r\n     </g>\r\n     <g id=\"text_4\">\r\n      <!-- 0.15 -->\r\n      <g transform=\"translate(244.303261 241.028002)scale(0.1 -0.1)\">\r\n       <use xlink:href=\"#DejaVuSans-48\"/>\r\n       <use x=\"63.623047\" xlink:href=\"#DejaVuSans-46\"/>\r\n       <use x=\"95.410156\" xlink:href=\"#DejaVuSans-49\"/>\r\n       <use x=\"159.033203\" xlink:href=\"#DejaVuSans-53\"/>\r\n      </g>\r\n     </g>\r\n    </g>\r\n    <g id=\"xtick_5\">\r\n     <g id=\"line2d_5\">\r\n      <g>\r\n       <use style=\"stroke:#000000;stroke-width:0.8;\" x=\"320.404154\" xlink:href=\"#mc04639b7bf\" y=\"226.429565\"/>\r\n      </g>\r\n     </g>\r\n     <g id=\"text_5\">\r\n      <!-- 0.20 -->\r\n      <g transform=\"translate(309.271341 241.028002)scale(0.1 -0.1)\">\r\n       <defs>\r\n        <path d=\"M 19.1875 8.296875 \r\nL 53.609375 8.296875 \r\nL 53.609375 0 \r\nL 7.328125 0 \r\nL 7.328125 8.296875 \r\nQ 12.9375 14.109375 22.625 23.890625 \r\nQ 32.328125 33.6875 34.8125 36.53125 \r\nQ 39.546875 41.84375 41.421875 45.53125 \r\nQ 43.3125 49.21875 43.3125 52.78125 \r\nQ 43.3125 58.59375 39.234375 62.25 \r\nQ 35.15625 65.921875 28.609375 65.921875 \r\nQ 23.96875 65.921875 18.8125 64.3125 \r\nQ 13.671875 62.703125 7.8125 59.421875 \r\nL 7.8125 69.390625 \r\nQ 13.765625 71.78125 18.9375 73 \r\nQ 24.125 74.21875 28.421875 74.21875 \r\nQ 39.75 74.21875 46.484375 68.546875 \r\nQ 53.21875 62.890625 53.21875 53.421875 \r\nQ 53.21875 48.921875 51.53125 44.890625 \r\nQ 49.859375 40.875 45.40625 35.40625 \r\nQ 44.1875 33.984375 37.640625 27.21875 \r\nQ 31.109375 20.453125 19.1875 8.296875 \r\nz\r\n\" id=\"DejaVuSans-50\"/>\r\n       </defs>\r\n       <use xlink:href=\"#DejaVuSans-48\"/>\r\n       <use x=\"63.623047\" xlink:href=\"#DejaVuSans-46\"/>\r\n       <use x=\"95.410156\" xlink:href=\"#DejaVuSans-50\"/>\r\n       <use x=\"159.033203\" xlink:href=\"#DejaVuSans-48\"/>\r\n      </g>\r\n     </g>\r\n    </g>\r\n    <g id=\"text_6\">\r\n     <!-- appears_in_pct -->\r\n     <g transform=\"translate(163.032813 254.706127)scale(0.1 -0.1)\">\r\n      <defs>\r\n       <path d=\"M 34.28125 27.484375 \r\nQ 23.390625 27.484375 19.1875 25 \r\nQ 14.984375 22.515625 14.984375 16.5 \r\nQ 14.984375 11.71875 18.140625 8.90625 \r\nQ 21.296875 6.109375 26.703125 6.109375 \r\nQ 34.1875 6.109375 38.703125 11.40625 \r\nQ 43.21875 16.703125 43.21875 25.484375 \r\nL 43.21875 27.484375 \r\nz\r\nM 52.203125 31.203125 \r\nL 52.203125 0 \r\nL 43.21875 0 \r\nL 43.21875 8.296875 \r\nQ 40.140625 3.328125 35.546875 0.953125 \r\nQ 30.953125 -1.421875 24.3125 -1.421875 \r\nQ 15.921875 -1.421875 10.953125 3.296875 \r\nQ 6 8.015625 6 15.921875 \r\nQ 6 25.140625 12.171875 29.828125 \r\nQ 18.359375 34.515625 30.609375 34.515625 \r\nL 43.21875 34.515625 \r\nL 43.21875 35.40625 \r\nQ 43.21875 41.609375 39.140625 45 \r\nQ 35.0625 48.390625 27.6875 48.390625 \r\nQ 23 48.390625 18.546875 47.265625 \r\nQ 14.109375 46.140625 10.015625 43.890625 \r\nL 10.015625 52.203125 \r\nQ 14.9375 54.109375 19.578125 55.046875 \r\nQ 24.21875 56 28.609375 56 \r\nQ 40.484375 56 46.34375 49.84375 \r\nQ 52.203125 43.703125 52.203125 31.203125 \r\nz\r\n\" id=\"DejaVuSans-97\"/>\r\n       <path d=\"M 18.109375 8.203125 \r\nL 18.109375 -20.796875 \r\nL 9.078125 -20.796875 \r\nL 9.078125 54.6875 \r\nL 18.109375 54.6875 \r\nL 18.109375 46.390625 \r\nQ 20.953125 51.265625 25.265625 53.625 \r\nQ 29.59375 56 35.59375 56 \r\nQ 45.5625 56 51.78125 48.09375 \r\nQ 58.015625 40.1875 58.015625 27.296875 \r\nQ 58.015625 14.40625 51.78125 6.484375 \r\nQ 45.5625 -1.421875 35.59375 -1.421875 \r\nQ 29.59375 -1.421875 25.265625 0.953125 \r\nQ 20.953125 3.328125 18.109375 8.203125 \r\nz\r\nM 48.6875 27.296875 \r\nQ 48.6875 37.203125 44.609375 42.84375 \r\nQ 40.53125 48.484375 33.40625 48.484375 \r\nQ 26.265625 48.484375 22.1875 42.84375 \r\nQ 18.109375 37.203125 18.109375 27.296875 \r\nQ 18.109375 17.390625 22.1875 11.75 \r\nQ 26.265625 6.109375 33.40625 6.109375 \r\nQ 40.53125 6.109375 44.609375 11.75 \r\nQ 48.6875 17.390625 48.6875 27.296875 \r\nz\r\n\" id=\"DejaVuSans-112\"/>\r\n       <path d=\"M 56.203125 29.59375 \r\nL 56.203125 25.203125 \r\nL 14.890625 25.203125 \r\nQ 15.484375 15.921875 20.484375 11.0625 \r\nQ 25.484375 6.203125 34.421875 6.203125 \r\nQ 39.59375 6.203125 44.453125 7.46875 \r\nQ 49.3125 8.734375 54.109375 11.28125 \r\nL 54.109375 2.78125 \r\nQ 49.265625 0.734375 44.1875 -0.34375 \r\nQ 39.109375 -1.421875 33.890625 -1.421875 \r\nQ 20.796875 -1.421875 13.15625 6.1875 \r\nQ 5.515625 13.8125 5.515625 26.8125 \r\nQ 5.515625 40.234375 12.765625 48.109375 \r\nQ 20.015625 56 32.328125 56 \r\nQ 43.359375 56 49.78125 48.890625 \r\nQ 56.203125 41.796875 56.203125 29.59375 \r\nz\r\nM 47.21875 32.234375 \r\nQ 47.125 39.59375 43.09375 43.984375 \r\nQ 39.0625 48.390625 32.421875 48.390625 \r\nQ 24.90625 48.390625 20.390625 44.140625 \r\nQ 15.875 39.890625 15.1875 32.171875 \r\nz\r\n\" id=\"DejaVuSans-101\"/>\r\n       <path d=\"M 41.109375 46.296875 \r\nQ 39.59375 47.171875 37.8125 47.578125 \r\nQ 36.03125 48 33.890625 48 \r\nQ 26.265625 48 22.1875 43.046875 \r\nQ 18.109375 38.09375 18.109375 28.8125 \r\nL 18.109375 0 \r\nL 9.078125 0 \r\nL 9.078125 54.6875 \r\nL 18.109375 54.6875 \r\nL 18.109375 46.1875 \r\nQ 20.953125 51.171875 25.484375 53.578125 \r\nQ 30.03125 56 36.53125 56 \r\nQ 37.453125 56 38.578125 55.875 \r\nQ 39.703125 55.765625 41.0625 55.515625 \r\nz\r\n\" id=\"DejaVuSans-114\"/>\r\n       <path d=\"M 44.28125 53.078125 \r\nL 44.28125 44.578125 \r\nQ 40.484375 46.53125 36.375 47.5 \r\nQ 32.28125 48.484375 27.875 48.484375 \r\nQ 21.1875 48.484375 17.84375 46.4375 \r\nQ 14.5 44.390625 14.5 40.28125 \r\nQ 14.5 37.15625 16.890625 35.375 \r\nQ 19.28125 33.59375 26.515625 31.984375 \r\nL 29.59375 31.296875 \r\nQ 39.15625 29.25 43.1875 25.515625 \r\nQ 47.21875 21.78125 47.21875 15.09375 \r\nQ 47.21875 7.46875 41.1875 3.015625 \r\nQ 35.15625 -1.421875 24.609375 -1.421875 \r\nQ 20.21875 -1.421875 15.453125 -0.5625 \r\nQ 10.6875 0.296875 5.421875 2 \r\nL 5.421875 11.28125 \r\nQ 10.40625 8.6875 15.234375 7.390625 \r\nQ 20.0625 6.109375 24.8125 6.109375 \r\nQ 31.15625 6.109375 34.5625 8.28125 \r\nQ 37.984375 10.453125 37.984375 14.40625 \r\nQ 37.984375 18.0625 35.515625 20.015625 \r\nQ 33.0625 21.96875 24.703125 23.78125 \r\nL 21.578125 24.515625 \r\nQ 13.234375 26.265625 9.515625 29.90625 \r\nQ 5.8125 33.546875 5.8125 39.890625 \r\nQ 5.8125 47.609375 11.28125 51.796875 \r\nQ 16.75 56 26.8125 56 \r\nQ 31.78125 56 36.171875 55.265625 \r\nQ 40.578125 54.546875 44.28125 53.078125 \r\nz\r\n\" id=\"DejaVuSans-115\"/>\r\n       <path d=\"M 50.984375 -16.609375 \r\nL 50.984375 -23.578125 \r\nL -0.984375 -23.578125 \r\nL -0.984375 -16.609375 \r\nz\r\n\" id=\"DejaVuSans-95\"/>\r\n       <path d=\"M 9.421875 54.6875 \r\nL 18.40625 54.6875 \r\nL 18.40625 0 \r\nL 9.421875 0 \r\nz\r\nM 9.421875 75.984375 \r\nL 18.40625 75.984375 \r\nL 18.40625 64.59375 \r\nL 9.421875 64.59375 \r\nz\r\n\" id=\"DejaVuSans-105\"/>\r\n       <path d=\"M 54.890625 33.015625 \r\nL 54.890625 0 \r\nL 45.90625 0 \r\nL 45.90625 32.71875 \r\nQ 45.90625 40.484375 42.875 44.328125 \r\nQ 39.84375 48.1875 33.796875 48.1875 \r\nQ 26.515625 48.1875 22.3125 43.546875 \r\nQ 18.109375 38.921875 18.109375 30.90625 \r\nL 18.109375 0 \r\nL 9.078125 0 \r\nL 9.078125 54.6875 \r\nL 18.109375 54.6875 \r\nL 18.109375 46.1875 \r\nQ 21.34375 51.125 25.703125 53.5625 \r\nQ 30.078125 56 35.796875 56 \r\nQ 45.21875 56 50.046875 50.171875 \r\nQ 54.890625 44.34375 54.890625 33.015625 \r\nz\r\n\" id=\"DejaVuSans-110\"/>\r\n       <path d=\"M 48.78125 52.59375 \r\nL 48.78125 44.1875 \r\nQ 44.96875 46.296875 41.140625 47.34375 \r\nQ 37.3125 48.390625 33.40625 48.390625 \r\nQ 24.65625 48.390625 19.8125 42.84375 \r\nQ 14.984375 37.3125 14.984375 27.296875 \r\nQ 14.984375 17.28125 19.8125 11.734375 \r\nQ 24.65625 6.203125 33.40625 6.203125 \r\nQ 37.3125 6.203125 41.140625 7.25 \r\nQ 44.96875 8.296875 48.78125 10.40625 \r\nL 48.78125 2.09375 \r\nQ 45.015625 0.34375 40.984375 -0.53125 \r\nQ 36.96875 -1.421875 32.421875 -1.421875 \r\nQ 20.0625 -1.421875 12.78125 6.34375 \r\nQ 5.515625 14.109375 5.515625 27.296875 \r\nQ 5.515625 40.671875 12.859375 48.328125 \r\nQ 20.21875 56 33.015625 56 \r\nQ 37.15625 56 41.109375 55.140625 \r\nQ 45.0625 54.296875 48.78125 52.59375 \r\nz\r\n\" id=\"DejaVuSans-99\"/>\r\n       <path d=\"M 18.3125 70.21875 \r\nL 18.3125 54.6875 \r\nL 36.8125 54.6875 \r\nL 36.8125 47.703125 \r\nL 18.3125 47.703125 \r\nL 18.3125 18.015625 \r\nQ 18.3125 11.328125 20.140625 9.421875 \r\nQ 21.96875 7.515625 27.59375 7.515625 \r\nL 36.8125 7.515625 \r\nL 36.8125 0 \r\nL 27.59375 0 \r\nQ 17.1875 0 13.234375 3.875 \r\nQ 9.28125 7.765625 9.28125 18.015625 \r\nL 9.28125 47.703125 \r\nL 2.6875 47.703125 \r\nL 2.6875 54.6875 \r\nL 9.28125 54.6875 \r\nL 9.28125 70.21875 \r\nz\r\n\" id=\"DejaVuSans-116\"/>\r\n      </defs>\r\n      <use xlink:href=\"#DejaVuSans-97\"/>\r\n      <use x=\"61.279297\" xlink:href=\"#DejaVuSans-112\"/>\r\n      <use x=\"124.755859\" xlink:href=\"#DejaVuSans-112\"/>\r\n      <use x=\"188.232422\" xlink:href=\"#DejaVuSans-101\"/>\r\n      <use x=\"249.755859\" xlink:href=\"#DejaVuSans-97\"/>\r\n      <use x=\"311.035156\" xlink:href=\"#DejaVuSans-114\"/>\r\n      <use x=\"352.148438\" xlink:href=\"#DejaVuSans-115\"/>\r\n      <use x=\"404.248047\" xlink:href=\"#DejaVuSans-95\"/>\r\n      <use x=\"454.248047\" xlink:href=\"#DejaVuSans-105\"/>\r\n      <use x=\"482.03125\" xlink:href=\"#DejaVuSans-110\"/>\r\n      <use x=\"545.410156\" xlink:href=\"#DejaVuSans-95\"/>\r\n      <use x=\"595.410156\" xlink:href=\"#DejaVuSans-112\"/>\r\n      <use x=\"658.886719\" xlink:href=\"#DejaVuSans-99\"/>\r\n      <use x=\"713.867188\" xlink:href=\"#DejaVuSans-116\"/>\r\n     </g>\r\n    </g>\r\n   </g>\r\n   <g id=\"matplotlib.axis_2\">\r\n    <g id=\"ytick_1\">\r\n     <g id=\"line2d_6\">\r\n      <defs>\r\n       <path d=\"M 0 0 \r\nL -3.5 0 \r\n\" id=\"ma450d95f71\" style=\"stroke:#000000;stroke-width:0.8;\"/>\r\n      </defs>\r\n      <g>\r\n       <use style=\"stroke:#000000;stroke-width:0.8;\" x=\"33.2875\" xlink:href=\"#ma450d95f71\" y=\"226.429565\"/>\r\n      </g>\r\n     </g>\r\n     <g id=\"text_7\">\r\n      <!-- 0 -->\r\n      <g transform=\"translate(19.925 230.228783)scale(0.1 -0.1)\">\r\n       <use xlink:href=\"#DejaVuSans-48\"/>\r\n      </g>\r\n     </g>\r\n    </g>\r\n    <g id=\"ytick_2\">\r\n     <g id=\"line2d_7\">\r\n      <g>\r\n       <use style=\"stroke:#000000;stroke-width:0.8;\" x=\"33.2875\" xlink:href=\"#ma450d95f71\" y=\"199.500771\"/>\r\n      </g>\r\n     </g>\r\n     <g id=\"text_8\">\r\n      <!-- 20 -->\r\n      <g transform=\"translate(13.5625 203.29999)scale(0.1 -0.1)\">\r\n       <use xlink:href=\"#DejaVuSans-50\"/>\r\n       <use x=\"63.623047\" xlink:href=\"#DejaVuSans-48\"/>\r\n      </g>\r\n     </g>\r\n    </g>\r\n    <g id=\"ytick_3\">\r\n     <g id=\"line2d_8\">\r\n      <g>\r\n       <use style=\"stroke:#000000;stroke-width:0.8;\" x=\"33.2875\" xlink:href=\"#ma450d95f71\" y=\"172.571978\"/>\r\n      </g>\r\n     </g>\r\n     <g id=\"text_9\">\r\n      <!-- 40 -->\r\n      <g transform=\"translate(13.5625 176.371197)scale(0.1 -0.1)\">\r\n       <defs>\r\n        <path d=\"M 37.796875 64.3125 \r\nL 12.890625 25.390625 \r\nL 37.796875 25.390625 \r\nz\r\nM 35.203125 72.90625 \r\nL 47.609375 72.90625 \r\nL 47.609375 25.390625 \r\nL 58.015625 25.390625 \r\nL 58.015625 17.1875 \r\nL 47.609375 17.1875 \r\nL 47.609375 0 \r\nL 37.796875 0 \r\nL 37.796875 17.1875 \r\nL 4.890625 17.1875 \r\nL 4.890625 26.703125 \r\nz\r\n\" id=\"DejaVuSans-52\"/>\r\n       </defs>\r\n       <use xlink:href=\"#DejaVuSans-52\"/>\r\n       <use x=\"63.623047\" xlink:href=\"#DejaVuSans-48\"/>\r\n      </g>\r\n     </g>\r\n    </g>\r\n    <g id=\"ytick_4\">\r\n     <g id=\"line2d_9\">\r\n      <g>\r\n       <use style=\"stroke:#000000;stroke-width:0.8;\" x=\"33.2875\" xlink:href=\"#ma450d95f71\" y=\"145.643185\"/>\r\n      </g>\r\n     </g>\r\n     <g id=\"text_10\">\r\n      <!-- 60 -->\r\n      <g transform=\"translate(13.5625 149.442404)scale(0.1 -0.1)\">\r\n       <defs>\r\n        <path d=\"M 33.015625 40.375 \r\nQ 26.375 40.375 22.484375 35.828125 \r\nQ 18.609375 31.296875 18.609375 23.390625 \r\nQ 18.609375 15.53125 22.484375 10.953125 \r\nQ 26.375 6.390625 33.015625 6.390625 \r\nQ 39.65625 6.390625 43.53125 10.953125 \r\nQ 47.40625 15.53125 47.40625 23.390625 \r\nQ 47.40625 31.296875 43.53125 35.828125 \r\nQ 39.65625 40.375 33.015625 40.375 \r\nz\r\nM 52.59375 71.296875 \r\nL 52.59375 62.3125 \r\nQ 48.875 64.0625 45.09375 64.984375 \r\nQ 41.3125 65.921875 37.59375 65.921875 \r\nQ 27.828125 65.921875 22.671875 59.328125 \r\nQ 17.53125 52.734375 16.796875 39.40625 \r\nQ 19.671875 43.65625 24.015625 45.921875 \r\nQ 28.375 48.1875 33.59375 48.1875 \r\nQ 44.578125 48.1875 50.953125 41.515625 \r\nQ 57.328125 34.859375 57.328125 23.390625 \r\nQ 57.328125 12.15625 50.6875 5.359375 \r\nQ 44.046875 -1.421875 33.015625 -1.421875 \r\nQ 20.359375 -1.421875 13.671875 8.265625 \r\nQ 6.984375 17.96875 6.984375 36.375 \r\nQ 6.984375 53.65625 15.1875 63.9375 \r\nQ 23.390625 74.21875 37.203125 74.21875 \r\nQ 40.921875 74.21875 44.703125 73.484375 \r\nQ 48.484375 72.75 52.59375 71.296875 \r\nz\r\n\" id=\"DejaVuSans-54\"/>\r\n       </defs>\r\n       <use xlink:href=\"#DejaVuSans-54\"/>\r\n       <use x=\"63.623047\" xlink:href=\"#DejaVuSans-48\"/>\r\n      </g>\r\n     </g>\r\n    </g>\r\n    <g id=\"ytick_5\">\r\n     <g id=\"line2d_10\">\r\n      <g>\r\n       <use style=\"stroke:#000000;stroke-width:0.8;\" x=\"33.2875\" xlink:href=\"#ma450d95f71\" y=\"118.714392\"/>\r\n      </g>\r\n     </g>\r\n     <g id=\"text_11\">\r\n      <!-- 80 -->\r\n      <g transform=\"translate(13.5625 122.51361)scale(0.1 -0.1)\">\r\n       <defs>\r\n        <path d=\"M 31.78125 34.625 \r\nQ 24.75 34.625 20.71875 30.859375 \r\nQ 16.703125 27.09375 16.703125 20.515625 \r\nQ 16.703125 13.921875 20.71875 10.15625 \r\nQ 24.75 6.390625 31.78125 6.390625 \r\nQ 38.8125 6.390625 42.859375 10.171875 \r\nQ 46.921875 13.96875 46.921875 20.515625 \r\nQ 46.921875 27.09375 42.890625 30.859375 \r\nQ 38.875 34.625 31.78125 34.625 \r\nz\r\nM 21.921875 38.8125 \r\nQ 15.578125 40.375 12.03125 44.71875 \r\nQ 8.5 49.078125 8.5 55.328125 \r\nQ 8.5 64.0625 14.71875 69.140625 \r\nQ 20.953125 74.21875 31.78125 74.21875 \r\nQ 42.671875 74.21875 48.875 69.140625 \r\nQ 55.078125 64.0625 55.078125 55.328125 \r\nQ 55.078125 49.078125 51.53125 44.71875 \r\nQ 48 40.375 41.703125 38.8125 \r\nQ 48.828125 37.15625 52.796875 32.3125 \r\nQ 56.78125 27.484375 56.78125 20.515625 \r\nQ 56.78125 9.90625 50.3125 4.234375 \r\nQ 43.84375 -1.421875 31.78125 -1.421875 \r\nQ 19.734375 -1.421875 13.25 4.234375 \r\nQ 6.78125 9.90625 6.78125 20.515625 \r\nQ 6.78125 27.484375 10.78125 32.3125 \r\nQ 14.796875 37.15625 21.921875 38.8125 \r\nz\r\nM 18.3125 54.390625 \r\nQ 18.3125 48.734375 21.84375 45.5625 \r\nQ 25.390625 42.390625 31.78125 42.390625 \r\nQ 38.140625 42.390625 41.71875 45.5625 \r\nQ 45.3125 48.734375 45.3125 54.390625 \r\nQ 45.3125 60.0625 41.71875 63.234375 \r\nQ 38.140625 66.40625 31.78125 66.40625 \r\nQ 25.390625 66.40625 21.84375 63.234375 \r\nQ 18.3125 60.0625 18.3125 54.390625 \r\nz\r\n\" id=\"DejaVuSans-56\"/>\r\n       </defs>\r\n       <use xlink:href=\"#DejaVuSans-56\"/>\r\n       <use x=\"63.623047\" xlink:href=\"#DejaVuSans-48\"/>\r\n      </g>\r\n     </g>\r\n    </g>\r\n    <g id=\"ytick_6\">\r\n     <g id=\"line2d_11\">\r\n      <g>\r\n       <use style=\"stroke:#000000;stroke-width:0.8;\" x=\"33.2875\" xlink:href=\"#ma450d95f71\" y=\"91.785598\"/>\r\n      </g>\r\n     </g>\r\n     <g id=\"text_12\">\r\n      <!-- 100 -->\r\n      <g transform=\"translate(7.2 95.584817)scale(0.1 -0.1)\">\r\n       <use xlink:href=\"#DejaVuSans-49\"/>\r\n       <use x=\"63.623047\" xlink:href=\"#DejaVuSans-48\"/>\r\n       <use x=\"127.246094\" xlink:href=\"#DejaVuSans-48\"/>\r\n      </g>\r\n     </g>\r\n    </g>\r\n    <g id=\"ytick_7\">\r\n     <g id=\"line2d_12\">\r\n      <g>\r\n       <use style=\"stroke:#000000;stroke-width:0.8;\" x=\"33.2875\" xlink:href=\"#ma450d95f71\" y=\"64.856805\"/>\r\n      </g>\r\n     </g>\r\n     <g id=\"text_13\">\r\n      <!-- 120 -->\r\n      <g transform=\"translate(7.2 68.656024)scale(0.1 -0.1)\">\r\n       <use xlink:href=\"#DejaVuSans-49\"/>\r\n       <use x=\"63.623047\" xlink:href=\"#DejaVuSans-50\"/>\r\n       <use x=\"127.246094\" xlink:href=\"#DejaVuSans-48\"/>\r\n      </g>\r\n     </g>\r\n    </g>\r\n    <g id=\"ytick_8\">\r\n     <g id=\"line2d_13\">\r\n      <g>\r\n       <use style=\"stroke:#000000;stroke-width:0.8;\" x=\"33.2875\" xlink:href=\"#ma450d95f71\" y=\"37.928012\"/>\r\n      </g>\r\n     </g>\r\n     <g id=\"text_14\">\r\n      <!-- 140 -->\r\n      <g transform=\"translate(7.2 41.727231)scale(0.1 -0.1)\">\r\n       <use xlink:href=\"#DejaVuSans-49\"/>\r\n       <use x=\"63.623047\" xlink:href=\"#DejaVuSans-52\"/>\r\n       <use x=\"127.246094\" xlink:href=\"#DejaVuSans-48\"/>\r\n      </g>\r\n     </g>\r\n    </g>\r\n    <g id=\"ytick_9\">\r\n     <g id=\"line2d_14\">\r\n      <g>\r\n       <use style=\"stroke:#000000;stroke-width:0.8;\" x=\"33.2875\" xlink:href=\"#ma450d95f71\" y=\"10.999219\"/>\r\n      </g>\r\n     </g>\r\n     <g id=\"text_15\">\r\n      <!-- 160 -->\r\n      <g transform=\"translate(7.2 14.798437)scale(0.1 -0.1)\">\r\n       <use xlink:href=\"#DejaVuSans-49\"/>\r\n       <use x=\"63.623047\" xlink:href=\"#DejaVuSans-54\"/>\r\n       <use x=\"127.246094\" xlink:href=\"#DejaVuSans-48\"/>\r\n      </g>\r\n     </g>\r\n    </g>\r\n   </g>\r\n   <g id=\"line2d_15\">\r\n    <path clip-path=\"url(#p393d72d8c6)\" d=\"M 48.505682 225.882855 \r\nL 51.580062 222.635798 \r\nL 54.654442 209.706725 \r\nL 57.728822 179.204644 \r\nL 60.803202 139.740071 \r\nL 63.877583 120.213473 \r\nL 66.951963 135.062255 \r\nL 70.026343 165.757915 \r\nL 73.100723 190.304303 \r\nL 76.175103 204.052807 \r\nL 79.249483 211.218686 \r\nL 82.323864 215.26441 \r\nL 85.398244 217.744011 \r\nL 88.472624 219.495199 \r\nL 91.547004 220.928471 \r\nL 94.621384 221.952165 \r\nL 97.695764 222.389712 \r\nL 100.770145 222.48179 \r\nL 103.844525 222.700623 \r\nL 106.918905 223.227132 \r\nL 109.993285 223.876136 \r\nL 113.067665 224.372142 \r\nL 116.142045 224.60005 \r\nL 119.216426 224.700167 \r\nL 122.290806 224.872517 \r\nL 125.365186 225.130977 \r\nL 128.439566 225.368226 \r\nL 131.513946 225.551928 \r\nL 134.588326 225.69493 \r\nL 137.662707 225.75396 \r\nL 140.737087 225.717995 \r\nL 143.811467 225.649302 \r\nL 146.885847 225.594341 \r\nL 149.960227 225.559601 \r\nL 153.034607 225.538238 \r\nL 156.108988 225.535506 \r\nL 159.183368 225.571332 \r\nL 162.257748 225.641974 \r\nL 165.332128 225.701887 \r\nL 168.406508 225.714141 \r\nL 171.480888 225.699835 \r\nL 174.555269 225.716 \r\nL 177.629649 225.780474 \r\nL 180.704029 225.858934 \r\nL 183.778409 225.936076 \r\nL 186.852789 226.025476 \r\nL 189.927169 226.116641 \r\nL 193.00155 226.174351 \r\nL 196.07593 226.183173 \r\nL 199.15031 226.171318 \r\nL 202.22469 226.187142 \r\nL 205.29907 226.237035 \r\nL 208.37345 226.274425 \r\nL 211.447831 226.269933 \r\nL 214.522211 226.24582 \r\nL 217.596591 226.23286 \r\nL 220.670971 226.21867 \r\nL 223.745351 226.173094 \r\nL 226.819731 226.125856 \r\nL 229.894112 226.141001 \r\nL 232.968492 226.219175 \r\nL 236.042872 226.310865 \r\nL 239.117252 226.37766 \r\nL 242.191632 226.405353 \r\nL 245.266012 226.40039 \r\nL 248.340393 226.384371 \r\nL 251.414773 226.381984 \r\nL 254.489153 226.397627 \r\nL 257.563533 226.412893 \r\nL 260.637913 226.41187 \r\nL 263.712293 226.394763 \r\nL 266.786674 226.375929 \r\nL 269.861054 226.36806 \r\nL 272.935434 226.36746 \r\nL 276.009814 226.371953 \r\nL 279.084194 226.387939 \r\nL 282.158574 226.409259 \r\nL 285.232955 226.42325 \r\nL 288.307335 226.428334 \r\nL 291.381715 226.429415 \r\nL 294.456095 226.429553 \r\nL 297.530475 226.429564 \r\nL 300.604855 226.429565 \r\nL 303.679236 226.429565 \r\nL 306.753616 226.429565 \r\nL 309.827996 226.429565 \r\nL 312.902376 226.429565 \r\nL 315.976756 226.429565 \r\nL 319.051136 226.429563 \r\nL 322.125517 226.429539 \r\nL 325.199897 226.429269 \r\nL 328.274277 226.427457 \r\nL 331.348657 226.420204 \r\nL 334.423037 226.403686 \r\nL 337.497417 226.385038 \r\nL 340.571798 226.381884 \r\nL 343.646178 226.397788 \r\nL 346.720558 226.416385 \r\nL 349.794938 226.426162 \r\nL 352.869318 226.429018 \r\n\" style=\"fill:none;stroke:#1f77b4;stroke-linecap:square;stroke-width:1.5;\"/>\r\n   </g>\r\n   <g id=\"patch_53\">\r\n    <path d=\"M 33.2875 226.429565 \r\nL 33.2875 8.989565 \r\n\" style=\"fill:none;stroke:#000000;stroke-linecap:square;stroke-linejoin:miter;stroke-width:0.8;\"/>\r\n   </g>\r\n   <g id=\"patch_54\">\r\n    <path d=\"M 368.0875 226.429565 \r\nL 368.0875 8.989565 \r\n\" style=\"fill:none;stroke:#000000;stroke-linecap:square;stroke-linejoin:miter;stroke-width:0.8;\"/>\r\n   </g>\r\n   <g id=\"patch_55\">\r\n    <path d=\"M 33.2875 226.429565 \r\nL 368.0875 226.429565 \r\n\" style=\"fill:none;stroke:#000000;stroke-linecap:square;stroke-linejoin:miter;stroke-width:0.8;\"/>\r\n   </g>\r\n   <g id=\"patch_56\">\r\n    <path d=\"M 33.2875 8.989565 \r\nL 368.0875 8.989565 \r\n\" style=\"fill:none;stroke:#000000;stroke-linecap:square;stroke-linejoin:miter;stroke-width:0.8;\"/>\r\n   </g>\r\n  </g>\r\n </g>\r\n <defs>\r\n  <clipPath id=\"p393d72d8c6\">\r\n   <rect height=\"217.44\" width=\"334.8\" x=\"33.2875\" y=\"8.989565\"/>\r\n  </clipPath>\r\n </defs>\r\n</svg>\r\n",
      "image/png": "[encoded data removed]"
     },
     "metadata": {
      "needs_background": "light"
     }
    }
   ],
   "source": [
    "# Tree-Map w/ Words that appear in a least 0.1% (approximately 7) documents. \n",
    "wc_short = wc_nostop[wc_nostop['appears_in_pct'] > 0.001]\n",
    "sns.distplot(wc_short['appears_in_pct']);"
   ]
  },
  {
   "cell_type": "code",
   "execution_count": 75,
   "metadata": {},
   "outputs": [
    {
     "output_type": "execute_result",
     "data": {
      "text/plain": [
       "count    3182.000000\n",
       "mean        0.009068\n",
       "std         0.017241\n",
       "min         0.001050\n",
       "25%         0.001576\n",
       "50%         0.003151\n",
       "75%         0.008009\n",
       "max         0.214680\n",
       "Name: appears_in_pct, dtype: float64"
      ]
     },
     "metadata": {},
     "execution_count": 75
    }
   ],
   "source": [
    "wc_short['appears_in_pct'].describe()"
   ]
  },
  {
   "cell_type": "code",
   "execution_count": 76,
   "metadata": {},
   "outputs": [
    {
     "output_type": "stream",
     "name": "stdout",
     "text": [
      "By removing words appearing in less than 0.1% of documents the database is reduced by 77.68896367970832 percent.\n"
     ]
    }
   ],
   "source": [
    "x = 100*(1-3182/14262)\n",
    "# print(f'By removing words appearing in less than 0.1% of documents the database is reduce by', {x:.2f}, 'percent.')\n",
    "print(f'By removing words appearing in less than 0.1% of documents the database is reduced by', x, 'percent.')"
   ]
  },
  {
   "cell_type": "code",
   "execution_count": 77,
   "metadata": {},
   "outputs": [
    {
     "output_type": "display_data",
     "data": {
      "text/plain": "<Figure size 432x288 with 1 Axes>",
      "image/svg+xml": "<?xml version=\"1.0\" encoding=\"utf-8\" standalone=\"no\"?>\r\n<!DOCTYPE svg PUBLIC \"-//W3C//DTD SVG 1.1//EN\"\r\n  \"http://www.w3.org/Graphics/SVG/1.1/DTD/svg11.dtd\">\r\n<!-- Created with matplotlib (https://matplotlib.org/) -->\r\n<svg height=\"231.84pt\" version=\"1.1\" viewBox=\"0 0 349.2 231.84\" width=\"349.2pt\" xmlns=\"http://www.w3.org/2000/svg\" xmlns:xlink=\"http://www.w3.org/1999/xlink\">\r\n <metadata>\r\n  <rdf:RDF xmlns:cc=\"http://creativecommons.org/ns#\" xmlns:dc=\"http://purl.org/dc/elements/1.1/\" xmlns:rdf=\"http://www.w3.org/1999/02/22-rdf-syntax-ns#\">\r\n   <cc:Work>\r\n    <dc:type rdf:resource=\"http://purl.org/dc/dcmitype/StillImage\"/>\r\n    <dc:date>2021-01-14T16:42:49.840135</dc:date>\r\n    <dc:format>image/svg+xml</dc:format>\r\n    <dc:creator>\r\n     <cc:Agent>\r\n      <dc:title>Matplotlib v3.3.2, https://matplotlib.org/</dc:title>\r\n     </cc:Agent>\r\n    </dc:creator>\r\n   </cc:Work>\r\n  </rdf:RDF>\r\n </metadata>\r\n <defs>\r\n  <style type=\"text/css\">*{stroke-linecap:butt;stroke-linejoin:round;}</style>\r\n </defs>\r\n <g id=\"figure_1\">\r\n  <g id=\"patch_1\">\r\n   <path d=\"M 0 231.84 \r\nL 349.2 231.84 \r\nL 349.2 0 \r\nL 0 0 \r\nz\r\n\" style=\"fill:none;\"/>\r\n  </g>\r\n  <g id=\"axes_1\">\r\n   <g id=\"patch_2\">\r\n    <path clip-path=\"url(#pef326839d6)\" d=\"M 7.2 224.64 \r\nL 88.885432 224.64 \r\nL 88.885432 159.423053 \r\nL 7.2 159.423053 \r\nz\r\n\" style=\"fill:#fbe723;opacity:0.8;\"/>\r\n   </g>\r\n   <g id=\"patch_3\">\r\n    <path clip-path=\"url(#pef326839d6)\" d=\"M 7.2 159.423053 \r\nL 88.885432 159.423053 \r\nL 88.885432 106.549533 \r\nL 7.2 106.549533 \r\nz\r\n\" style=\"fill:#472a7a;opacity:0.8;\"/>\r\n   </g>\r\n   <g id=\"patch_4\">\r\n    <path clip-path=\"url(#pef326839d6)\" d=\"M 7.2 106.549533 \r\nL 88.885432 106.549533 \r\nL 88.885432 56.686604 \r\nL 7.2 56.686604 \r\nz\r\n\" style=\"fill:#56c667;opacity:0.8;\"/>\r\n   </g>\r\n   <g id=\"patch_5\">\r\n    <path clip-path=\"url(#pef326839d6)\" d=\"M 7.2 56.686604 \r\nL 88.885432 56.686604 \r\nL 88.885432 7.2 \r\nL 7.2 7.2 \r\nz\r\n\" style=\"fill:#26ad81;opacity:0.8;\"/>\r\n   </g>\r\n   <g id=\"patch_6\">\r\n    <path clip-path=\"url(#pef326839d6)\" d=\"M 88.885432 224.64 \r\nL 174.210437 224.64 \r\nL 174.210437 180.578767 \r\nL 88.885432 180.578767 \r\nz\r\n\" style=\"fill:#25ab82;opacity:0.8;\"/>\r\n   </g>\r\n   <g id=\"patch_7\">\r\n    <path clip-path=\"url(#pef326839d6)\" d=\"M 174.210437 224.64 \r\nL 259.116839 224.64 \r\nL 259.116839 180.578767 \r\nL 174.210437 180.578767 \r\nz\r\n\" style=\"fill:#26828e;opacity:0.8;\"/>\r\n   </g>\r\n   <g id=\"patch_8\">\r\n    <path clip-path=\"url(#pef326839d6)\" d=\"M 259.116839 224.64 \r\nL 342 224.64 \r\nL 342 180.578767 \r\nL 259.116839 180.578767 \r\nz\r\n\" style=\"fill:#424086;opacity:0.8;\"/>\r\n   </g>\r\n   <g id=\"patch_9\">\r\n    <path clip-path=\"url(#pef326839d6)\" d=\"M 88.885432 180.578767 \r\nL 173.618754 180.578767 \r\nL 173.618754 138.096354 \r\nL 88.885432 138.096354 \r\nz\r\n\" style=\"fill:#2c718e;opacity:0.8;\"/>\r\n   </g>\r\n   <g id=\"patch_10\">\r\n    <path clip-path=\"url(#pef326839d6)\" d=\"M 173.618754 180.578767 \r\nL 257.990276 180.578767 \r\nL 257.990276 138.096354 \r\nL 173.618754 138.096354 \r\nz\r\n\" style=\"fill:#84d44b;opacity:0.8;\"/>\r\n   </g>\r\n   <g id=\"patch_11\">\r\n    <path clip-path=\"url(#pef326839d6)\" d=\"M 257.990276 180.578767 \r\nL 342 180.578767 \r\nL 342 138.096354 \r\nL 257.990276 138.096354 \r\nz\r\n\" style=\"fill:#42be71;opacity:0.8;\"/>\r\n   </g>\r\n   <g id=\"patch_12\">\r\n    <path clip-path=\"url(#pef326839d6)\" d=\"M 88.885432 138.096354 \r\nL 170.164846 138.096354 \r\nL 170.164846 94.224707 \r\nL 88.885432 94.224707 \r\nz\r\n\" style=\"fill:#3dbc74;opacity:0.8;\"/>\r\n   </g>\r\n   <g id=\"patch_13\">\r\n    <path clip-path=\"url(#pef326839d6)\" d=\"M 88.885432 94.224707 \r\nL 170.164846 94.224707 \r\nL 170.164846 50.39088 \r\nL 88.885432 50.39088 \r\nz\r\n\" style=\"fill:#2c738e;opacity:0.8;\"/>\r\n   </g>\r\n   <g id=\"patch_14\">\r\n    <path clip-path=\"url(#pef326839d6)\" d=\"M 88.885432 50.39088 \r\nL 170.164846 50.39088 \r\nL 170.164846 7.2 \r\nL 88.885432 7.2 \r\nz\r\n\" style=\"fill:#c0df25;opacity:0.8;\"/>\r\n   </g>\r\n   <g id=\"patch_15\">\r\n    <path clip-path=\"url(#pef326839d6)\" d=\"M 170.164846 138.096354 \r\nL 256.889702 138.096354 \r\nL 256.889702 98.113663 \r\nL 170.164846 98.113663 \r\nz\r\n\" style=\"fill:#482071;opacity:0.8;\"/>\r\n   </g>\r\n   <g id=\"patch_16\">\r\n    <path clip-path=\"url(#pef326839d6)\" d=\"M 256.889702 138.096354 \r\nL 342 138.096354 \r\nL 342 98.113663 \r\nL 256.889702 98.113663 \r\nz\r\n\" style=\"fill:#3b528b;opacity:0.8;\"/>\r\n   </g>\r\n   <g id=\"patch_17\">\r\n    <path clip-path=\"url(#pef326839d6)\" d=\"M 170.164846 98.113663 \r\nL 241.644483 98.113663 \r\nL 241.644483 51.796721 \r\nL 170.164846 51.796721 \r\nz\r\n\" style=\"fill:#58c765;opacity:0.8;\"/>\r\n   </g>\r\n   <g id=\"patch_18\">\r\n    <path clip-path=\"url(#pef326839d6)\" d=\"M 170.164846 51.796721 \r\nL 241.644483 51.796721 \r\nL 241.644483 7.2 \r\nL 170.164846 7.2 \r\nz\r\n\" style=\"fill:#440154;opacity:0.8;\"/>\r\n   </g>\r\n   <g id=\"patch_19\">\r\n    <path clip-path=\"url(#pef326839d6)\" d=\"M 241.644483 98.113663 \r\nL 292.301085 98.113663 \r\nL 292.301085 37.126768 \r\nL 241.644483 37.126768 \r\nz\r\n\" style=\"fill:#471063;opacity:0.8;\"/>\r\n   </g>\r\n   <g id=\"patch_20\">\r\n    <path clip-path=\"url(#pef326839d6)\" d=\"M 292.301085 98.113663 \r\nL 342 98.113663 \r\nL 342 37.126768 \r\nL 292.301085 37.126768 \r\nz\r\n\" style=\"fill:#58c765;opacity:0.8;\"/>\r\n   </g>\r\n   <g id=\"patch_21\">\r\n    <path clip-path=\"url(#pef326839d6)\" d=\"M 241.644483 37.126768 \r\nL 342 37.126768 \r\nL 342 7.2 \r\nL 241.644483 7.2 \r\nz\r\n\" style=\"fill:#4cc26c;opacity:0.8;\"/>\r\n   </g>\r\n   <g id=\"text_1\">\r\n    <!-- friendly -->\r\n    <g transform=\"translate(29.07006 194.790901)scale(0.1 -0.1)\">\r\n     <defs>\r\n      <path d=\"M 37.109375 75.984375 \r\nL 37.109375 68.5 \r\nL 28.515625 68.5 \r\nQ 23.6875 68.5 21.796875 66.546875 \r\nQ 19.921875 64.59375 19.921875 59.515625 \r\nL 19.921875 54.6875 \r\nL 34.71875 54.6875 \r\nL 34.71875 47.703125 \r\nL 19.921875 47.703125 \r\nL 19.921875 0 \r\nL 10.890625 0 \r\nL 10.890625 47.703125 \r\nL 2.296875 47.703125 \r\nL 2.296875 54.6875 \r\nL 10.890625 54.6875 \r\nL 10.890625 58.5 \r\nQ 10.890625 67.625 15.140625 71.796875 \r\nQ 19.390625 75.984375 28.609375 75.984375 \r\nz\r\n\" id=\"DejaVuSans-102\"/>\r\n      <path d=\"M 41.109375 46.296875 \r\nQ 39.59375 47.171875 37.8125 47.578125 \r\nQ 36.03125 48 33.890625 48 \r\nQ 26.265625 48 22.1875 43.046875 \r\nQ 18.109375 38.09375 18.109375 28.8125 \r\nL 18.109375 0 \r\nL 9.078125 0 \r\nL 9.078125 54.6875 \r\nL 18.109375 54.6875 \r\nL 18.109375 46.1875 \r\nQ 20.953125 51.171875 25.484375 53.578125 \r\nQ 30.03125 56 36.53125 56 \r\nQ 37.453125 56 38.578125 55.875 \r\nQ 39.703125 55.765625 41.0625 55.515625 \r\nz\r\n\" id=\"DejaVuSans-114\"/>\r\n      <path d=\"M 9.421875 54.6875 \r\nL 18.40625 54.6875 \r\nL 18.40625 0 \r\nL 9.421875 0 \r\nz\r\nM 9.421875 75.984375 \r\nL 18.40625 75.984375 \r\nL 18.40625 64.59375 \r\nL 9.421875 64.59375 \r\nz\r\n\" id=\"DejaVuSans-105\"/>\r\n      <path d=\"M 56.203125 29.59375 \r\nL 56.203125 25.203125 \r\nL 14.890625 25.203125 \r\nQ 15.484375 15.921875 20.484375 11.0625 \r\nQ 25.484375 6.203125 34.421875 6.203125 \r\nQ 39.59375 6.203125 44.453125 7.46875 \r\nQ 49.3125 8.734375 54.109375 11.28125 \r\nL 54.109375 2.78125 \r\nQ 49.265625 0.734375 44.1875 -0.34375 \r\nQ 39.109375 -1.421875 33.890625 -1.421875 \r\nQ 20.796875 -1.421875 13.15625 6.1875 \r\nQ 5.515625 13.8125 5.515625 26.8125 \r\nQ 5.515625 40.234375 12.765625 48.109375 \r\nQ 20.015625 56 32.328125 56 \r\nQ 43.359375 56 49.78125 48.890625 \r\nQ 56.203125 41.796875 56.203125 29.59375 \r\nz\r\nM 47.21875 32.234375 \r\nQ 47.125 39.59375 43.09375 43.984375 \r\nQ 39.0625 48.390625 32.421875 48.390625 \r\nQ 24.90625 48.390625 20.390625 44.140625 \r\nQ 15.875 39.890625 15.1875 32.171875 \r\nz\r\n\" id=\"DejaVuSans-101\"/>\r\n      <path d=\"M 54.890625 33.015625 \r\nL 54.890625 0 \r\nL 45.90625 0 \r\nL 45.90625 32.71875 \r\nQ 45.90625 40.484375 42.875 44.328125 \r\nQ 39.84375 48.1875 33.796875 48.1875 \r\nQ 26.515625 48.1875 22.3125 43.546875 \r\nQ 18.109375 38.921875 18.109375 30.90625 \r\nL 18.109375 0 \r\nL 9.078125 0 \r\nL 9.078125 54.6875 \r\nL 18.109375 54.6875 \r\nL 18.109375 46.1875 \r\nQ 21.34375 51.125 25.703125 53.5625 \r\nQ 30.078125 56 35.796875 56 \r\nQ 45.21875 56 50.046875 50.171875 \r\nQ 54.890625 44.34375 54.890625 33.015625 \r\nz\r\n\" id=\"DejaVuSans-110\"/>\r\n      <path d=\"M 45.40625 46.390625 \r\nL 45.40625 75.984375 \r\nL 54.390625 75.984375 \r\nL 54.390625 0 \r\nL 45.40625 0 \r\nL 45.40625 8.203125 \r\nQ 42.578125 3.328125 38.25 0.953125 \r\nQ 33.9375 -1.421875 27.875 -1.421875 \r\nQ 17.96875 -1.421875 11.734375 6.484375 \r\nQ 5.515625 14.40625 5.515625 27.296875 \r\nQ 5.515625 40.1875 11.734375 48.09375 \r\nQ 17.96875 56 27.875 56 \r\nQ 33.9375 56 38.25 53.625 \r\nQ 42.578125 51.265625 45.40625 46.390625 \r\nz\r\nM 14.796875 27.296875 \r\nQ 14.796875 17.390625 18.875 11.75 \r\nQ 22.953125 6.109375 30.078125 6.109375 \r\nQ 37.203125 6.109375 41.296875 11.75 \r\nQ 45.40625 17.390625 45.40625 27.296875 \r\nQ 45.40625 37.203125 41.296875 42.84375 \r\nQ 37.203125 48.484375 30.078125 48.484375 \r\nQ 22.953125 48.484375 18.875 42.84375 \r\nQ 14.796875 37.203125 14.796875 27.296875 \r\nz\r\n\" id=\"DejaVuSans-100\"/>\r\n      <path d=\"M 9.421875 75.984375 \r\nL 18.40625 75.984375 \r\nL 18.40625 0 \r\nL 9.421875 0 \r\nz\r\n\" id=\"DejaVuSans-108\"/>\r\n      <path d=\"M 32.171875 -5.078125 \r\nQ 28.375 -14.84375 24.75 -17.8125 \r\nQ 21.140625 -20.796875 15.09375 -20.796875 \r\nL 7.90625 -20.796875 \r\nL 7.90625 -13.28125 \r\nL 13.1875 -13.28125 \r\nQ 16.890625 -13.28125 18.9375 -11.515625 \r\nQ 21 -9.765625 23.484375 -3.21875 \r\nL 25.09375 0.875 \r\nL 2.984375 54.6875 \r\nL 12.5 54.6875 \r\nL 29.59375 11.921875 \r\nL 46.6875 54.6875 \r\nL 56.203125 54.6875 \r\nz\r\n\" id=\"DejaVuSans-121\"/>\r\n     </defs>\r\n     <use xlink:href=\"#DejaVuSans-102\"/>\r\n     <use x=\"35.205078\" xlink:href=\"#DejaVuSans-114\"/>\r\n     <use x=\"76.318359\" xlink:href=\"#DejaVuSans-105\"/>\r\n     <use x=\"104.101562\" xlink:href=\"#DejaVuSans-101\"/>\r\n     <use x=\"165.625\" xlink:href=\"#DejaVuSans-110\"/>\r\n     <use x=\"229.003906\" xlink:href=\"#DejaVuSans-100\"/>\r\n     <use x=\"292.480469\" xlink:href=\"#DejaVuSans-108\"/>\r\n     <use x=\"320.263672\" xlink:href=\"#DejaVuSans-121\"/>\r\n    </g>\r\n   </g>\r\n   <g id=\"text_2\">\r\n    <!-- delicious -->\r\n    <g transform=\"translate(26.042716 135.745668)scale(0.1 -0.1)\">\r\n     <defs>\r\n      <path d=\"M 48.78125 52.59375 \r\nL 48.78125 44.1875 \r\nQ 44.96875 46.296875 41.140625 47.34375 \r\nQ 37.3125 48.390625 33.40625 48.390625 \r\nQ 24.65625 48.390625 19.8125 42.84375 \r\nQ 14.984375 37.3125 14.984375 27.296875 \r\nQ 14.984375 17.28125 19.8125 11.734375 \r\nQ 24.65625 6.203125 33.40625 6.203125 \r\nQ 37.3125 6.203125 41.140625 7.25 \r\nQ 44.96875 8.296875 48.78125 10.40625 \r\nL 48.78125 2.09375 \r\nQ 45.015625 0.34375 40.984375 -0.53125 \r\nQ 36.96875 -1.421875 32.421875 -1.421875 \r\nQ 20.0625 -1.421875 12.78125 6.34375 \r\nQ 5.515625 14.109375 5.515625 27.296875 \r\nQ 5.515625 40.671875 12.859375 48.328125 \r\nQ 20.21875 56 33.015625 56 \r\nQ 37.15625 56 41.109375 55.140625 \r\nQ 45.0625 54.296875 48.78125 52.59375 \r\nz\r\n\" id=\"DejaVuSans-99\"/>\r\n      <path d=\"M 30.609375 48.390625 \r\nQ 23.390625 48.390625 19.1875 42.75 \r\nQ 14.984375 37.109375 14.984375 27.296875 \r\nQ 14.984375 17.484375 19.15625 11.84375 \r\nQ 23.34375 6.203125 30.609375 6.203125 \r\nQ 37.796875 6.203125 41.984375 11.859375 \r\nQ 46.1875 17.53125 46.1875 27.296875 \r\nQ 46.1875 37.015625 41.984375 42.703125 \r\nQ 37.796875 48.390625 30.609375 48.390625 \r\nz\r\nM 30.609375 56 \r\nQ 42.328125 56 49.015625 48.375 \r\nQ 55.71875 40.765625 55.71875 27.296875 \r\nQ 55.71875 13.875 49.015625 6.21875 \r\nQ 42.328125 -1.421875 30.609375 -1.421875 \r\nQ 18.84375 -1.421875 12.171875 6.21875 \r\nQ 5.515625 13.875 5.515625 27.296875 \r\nQ 5.515625 40.765625 12.171875 48.375 \r\nQ 18.84375 56 30.609375 56 \r\nz\r\n\" id=\"DejaVuSans-111\"/>\r\n      <path d=\"M 8.5 21.578125 \r\nL 8.5 54.6875 \r\nL 17.484375 54.6875 \r\nL 17.484375 21.921875 \r\nQ 17.484375 14.15625 20.5 10.265625 \r\nQ 23.53125 6.390625 29.59375 6.390625 \r\nQ 36.859375 6.390625 41.078125 11.03125 \r\nQ 45.3125 15.671875 45.3125 23.6875 \r\nL 45.3125 54.6875 \r\nL 54.296875 54.6875 \r\nL 54.296875 0 \r\nL 45.3125 0 \r\nL 45.3125 8.40625 \r\nQ 42.046875 3.421875 37.71875 1 \r\nQ 33.40625 -1.421875 27.6875 -1.421875 \r\nQ 18.265625 -1.421875 13.375 4.4375 \r\nQ 8.5 10.296875 8.5 21.578125 \r\nz\r\nM 31.109375 56 \r\nz\r\n\" id=\"DejaVuSans-117\"/>\r\n      <path d=\"M 44.28125 53.078125 \r\nL 44.28125 44.578125 \r\nQ 40.484375 46.53125 36.375 47.5 \r\nQ 32.28125 48.484375 27.875 48.484375 \r\nQ 21.1875 48.484375 17.84375 46.4375 \r\nQ 14.5 44.390625 14.5 40.28125 \r\nQ 14.5 37.15625 16.890625 35.375 \r\nQ 19.28125 33.59375 26.515625 31.984375 \r\nL 29.59375 31.296875 \r\nQ 39.15625 29.25 43.1875 25.515625 \r\nQ 47.21875 21.78125 47.21875 15.09375 \r\nQ 47.21875 7.46875 41.1875 3.015625 \r\nQ 35.15625 -1.421875 24.609375 -1.421875 \r\nQ 20.21875 -1.421875 15.453125 -0.5625 \r\nQ 10.6875 0.296875 5.421875 2 \r\nL 5.421875 11.28125 \r\nQ 10.40625 8.6875 15.234375 7.390625 \r\nQ 20.0625 6.109375 24.8125 6.109375 \r\nQ 31.15625 6.109375 34.5625 8.28125 \r\nQ 37.984375 10.453125 37.984375 14.40625 \r\nQ 37.984375 18.0625 35.515625 20.015625 \r\nQ 33.0625 21.96875 24.703125 23.78125 \r\nL 21.578125 24.515625 \r\nQ 13.234375 26.265625 9.515625 29.90625 \r\nQ 5.8125 33.546875 5.8125 39.890625 \r\nQ 5.8125 47.609375 11.28125 51.796875 \r\nQ 16.75 56 26.8125 56 \r\nQ 31.78125 56 36.171875 55.265625 \r\nQ 40.578125 54.546875 44.28125 53.078125 \r\nz\r\n\" id=\"DejaVuSans-115\"/>\r\n     </defs>\r\n     <use xlink:href=\"#DejaVuSans-100\"/>\r\n     <use x=\"63.476562\" xlink:href=\"#DejaVuSans-101\"/>\r\n     <use x=\"125\" xlink:href=\"#DejaVuSans-108\"/>\r\n     <use x=\"152.783203\" xlink:href=\"#DejaVuSans-105\"/>\r\n     <use x=\"180.566406\" xlink:href=\"#DejaVuSans-99\"/>\r\n     <use x=\"235.546875\" xlink:href=\"#DejaVuSans-105\"/>\r\n     <use x=\"263.330078\" xlink:href=\"#DejaVuSans-111\"/>\r\n     <use x=\"324.511719\" xlink:href=\"#DejaVuSans-117\"/>\r\n     <use x=\"387.890625\" xlink:href=\"#DejaVuSans-115\"/>\r\n    </g>\r\n   </g>\r\n   <g id=\"text_3\">\r\n    <!-- lot -->\r\n    <g transform=\"translate(41.634122 84.377444)scale(0.1 -0.1)\">\r\n     <defs>\r\n      <path d=\"M 18.3125 70.21875 \r\nL 18.3125 54.6875 \r\nL 36.8125 54.6875 \r\nL 36.8125 47.703125 \r\nL 18.3125 47.703125 \r\nL 18.3125 18.015625 \r\nQ 18.3125 11.328125 20.140625 9.421875 \r\nQ 21.96875 7.515625 27.59375 7.515625 \r\nL 36.8125 7.515625 \r\nL 36.8125 0 \r\nL 27.59375 0 \r\nQ 17.1875 0 13.234375 3.875 \r\nQ 9.28125 7.765625 9.28125 18.015625 \r\nL 9.28125 47.703125 \r\nL 2.6875 47.703125 \r\nL 2.6875 54.6875 \r\nL 9.28125 54.6875 \r\nL 9.28125 70.21875 \r\nz\r\n\" id=\"DejaVuSans-116\"/>\r\n     </defs>\r\n     <use xlink:href=\"#DejaVuSans-108\"/>\r\n     <use x=\"27.783203\" xlink:href=\"#DejaVuSans-111\"/>\r\n     <use x=\"88.964844\" xlink:href=\"#DejaVuSans-116\"/>\r\n    </g>\r\n   </g>\r\n   <g id=\"text_4\">\r\n    <!-- staff -->\r\n    <g transform=\"translate(36.893497 34.702677)scale(0.1 -0.1)\">\r\n     <defs>\r\n      <path d=\"M 34.28125 27.484375 \r\nQ 23.390625 27.484375 19.1875 25 \r\nQ 14.984375 22.515625 14.984375 16.5 \r\nQ 14.984375 11.71875 18.140625 8.90625 \r\nQ 21.296875 6.109375 26.703125 6.109375 \r\nQ 34.1875 6.109375 38.703125 11.40625 \r\nQ 43.21875 16.703125 43.21875 25.484375 \r\nL 43.21875 27.484375 \r\nz\r\nM 52.203125 31.203125 \r\nL 52.203125 0 \r\nL 43.21875 0 \r\nL 43.21875 8.296875 \r\nQ 40.140625 3.328125 35.546875 0.953125 \r\nQ 30.953125 -1.421875 24.3125 -1.421875 \r\nQ 15.921875 -1.421875 10.953125 3.296875 \r\nQ 6 8.015625 6 15.921875 \r\nQ 6 25.140625 12.171875 29.828125 \r\nQ 18.359375 34.515625 30.609375 34.515625 \r\nL 43.21875 34.515625 \r\nL 43.21875 35.40625 \r\nQ 43.21875 41.609375 39.140625 45 \r\nQ 35.0625 48.390625 27.6875 48.390625 \r\nQ 23 48.390625 18.546875 47.265625 \r\nQ 14.109375 46.140625 10.015625 43.890625 \r\nL 10.015625 52.203125 \r\nQ 14.9375 54.109375 19.578125 55.046875 \r\nQ 24.21875 56 28.609375 56 \r\nQ 40.484375 56 46.34375 49.84375 \r\nQ 52.203125 43.703125 52.203125 31.203125 \r\nz\r\n\" id=\"DejaVuSans-97\"/>\r\n     </defs>\r\n     <use xlink:href=\"#DejaVuSans-115\"/>\r\n     <use x=\"52.099609\" xlink:href=\"#DejaVuSans-116\"/>\r\n     <use x=\"91.308594\" xlink:href=\"#DejaVuSans-97\"/>\r\n     <use x=\"152.587891\" xlink:href=\"#DejaVuSans-102\"/>\r\n     <use x=\"187.792969\" xlink:href=\"#DejaVuSans-102\"/>\r\n    </g>\r\n   </g>\r\n   <g id=\"text_5\">\r\n    <!-- want -->\r\n    <g transform=\"translate(119.265903 205.368758)scale(0.1 -0.1)\">\r\n     <defs>\r\n      <path d=\"M 4.203125 54.6875 \r\nL 13.1875 54.6875 \r\nL 24.421875 12.015625 \r\nL 35.59375 54.6875 \r\nL 46.1875 54.6875 \r\nL 57.421875 12.015625 \r\nL 68.609375 54.6875 \r\nL 77.59375 54.6875 \r\nL 63.28125 0 \r\nL 52.6875 0 \r\nL 40.921875 44.828125 \r\nL 29.109375 0 \r\nL 18.5 0 \r\nz\r\n\" id=\"DejaVuSans-119\"/>\r\n     </defs>\r\n     <use xlink:href=\"#DejaVuSans-119\"/>\r\n     <use x=\"81.787109\" xlink:href=\"#DejaVuSans-97\"/>\r\n     <use x=\"143.066406\" xlink:href=\"#DejaVuSans-110\"/>\r\n     <use x=\"206.445312\" xlink:href=\"#DejaVuSans-116\"/>\r\n    </g>\r\n   </g>\r\n   <g id=\"text_6\">\r\n    <!-- flavor -->\r\n    <g transform=\"translate(202.376138 205.368758)scale(0.1 -0.1)\">\r\n     <defs>\r\n      <path d=\"M 2.984375 54.6875 \r\nL 12.5 54.6875 \r\nL 29.59375 8.796875 \r\nL 46.6875 54.6875 \r\nL 56.203125 54.6875 \r\nL 35.6875 0 \r\nL 23.484375 0 \r\nz\r\n\" id=\"DejaVuSans-118\"/>\r\n     </defs>\r\n     <use xlink:href=\"#DejaVuSans-102\"/>\r\n     <use x=\"35.205078\" xlink:href=\"#DejaVuSans-108\"/>\r\n     <use x=\"62.988281\" xlink:href=\"#DejaVuSans-97\"/>\r\n     <use x=\"124.267578\" xlink:href=\"#DejaVuSans-118\"/>\r\n     <use x=\"183.447266\" xlink:href=\"#DejaVuSans-111\"/>\r\n     <use x=\"244.628906\" xlink:href=\"#DejaVuSans-114\"/>\r\n    </g>\r\n   </g>\r\n   <g id=\"text_7\">\r\n    <!-- spot -->\r\n    <g transform=\"translate(289.759982 205.368758)scale(0.1 -0.1)\">\r\n     <defs>\r\n      <path d=\"M 18.109375 8.203125 \r\nL 18.109375 -20.796875 \r\nL 9.078125 -20.796875 \r\nL 9.078125 54.6875 \r\nL 18.109375 54.6875 \r\nL 18.109375 46.390625 \r\nQ 20.953125 51.265625 25.265625 53.625 \r\nQ 29.59375 56 35.59375 56 \r\nQ 45.5625 56 51.78125 48.09375 \r\nQ 58.015625 40.1875 58.015625 27.296875 \r\nQ 58.015625 14.40625 51.78125 6.484375 \r\nQ 45.5625 -1.421875 35.59375 -1.421875 \r\nQ 29.59375 -1.421875 25.265625 0.953125 \r\nQ 20.953125 3.328125 18.109375 8.203125 \r\nz\r\nM 48.6875 27.296875 \r\nQ 48.6875 37.203125 44.609375 42.84375 \r\nQ 40.53125 48.484375 33.40625 48.484375 \r\nQ 26.265625 48.484375 22.1875 42.84375 \r\nQ 18.109375 37.203125 18.109375 27.296875 \r\nQ 18.109375 17.390625 22.1875 11.75 \r\nQ 26.265625 6.109375 33.40625 6.109375 \r\nQ 40.53125 6.109375 44.609375 11.75 \r\nQ 48.6875 17.390625 48.6875 27.296875 \r\nz\r\n\" id=\"DejaVuSans-112\"/>\r\n     </defs>\r\n     <use xlink:href=\"#DejaVuSans-115\"/>\r\n     <use x=\"52.099609\" xlink:href=\"#DejaVuSans-112\"/>\r\n     <use x=\"115.576172\" xlink:href=\"#DejaVuSans-111\"/>\r\n     <use x=\"176.757812\" xlink:href=\"#DejaVuSans-116\"/>\r\n    </g>\r\n   </g>\r\n   <g id=\"text_8\">\r\n    <!-- taste -->\r\n    <g transform=\"translate(118.586468 162.096935)scale(0.1 -0.1)\">\r\n     <use xlink:href=\"#DejaVuSans-116\"/>\r\n     <use x=\"39.208984\" xlink:href=\"#DejaVuSans-97\"/>\r\n     <use x=\"100.488281\" xlink:href=\"#DejaVuSans-115\"/>\r\n     <use x=\"152.587891\" xlink:href=\"#DejaVuSans-116\"/>\r\n     <use x=\"191.796875\" xlink:href=\"#DejaVuSans-101\"/>\r\n    </g>\r\n   </g>\r\n   <g id=\"text_9\">\r\n    <!-- look -->\r\n    <g transform=\"translate(205.40139 162.096935)scale(0.1 -0.1)\">\r\n     <defs>\r\n      <path d=\"M 9.078125 75.984375 \r\nL 18.109375 75.984375 \r\nL 18.109375 31.109375 \r\nL 44.921875 54.6875 \r\nL 56.390625 54.6875 \r\nL 27.390625 29.109375 \r\nL 57.625 0 \r\nL 45.90625 0 \r\nL 18.109375 26.703125 \r\nL 18.109375 0 \r\nL 9.078125 0 \r\nz\r\n\" id=\"DejaVuSans-107\"/>\r\n     </defs>\r\n     <use xlink:href=\"#DejaVuSans-108\"/>\r\n     <use x=\"27.783203\" xlink:href=\"#DejaVuSans-111\"/>\r\n     <use x=\"88.964844\" xlink:href=\"#DejaVuSans-111\"/>\r\n     <use x=\"150.146484\" xlink:href=\"#DejaVuSans-107\"/>\r\n    </g>\r\n   </g>\r\n   <g id=\"text_10\">\r\n    <!-- day -->\r\n    <g transform=\"translate(290.797482 162.096935)scale(0.1 -0.1)\">\r\n     <use xlink:href=\"#DejaVuSans-100\"/>\r\n     <use x=\"63.476562\" xlink:href=\"#DejaVuSans-97\"/>\r\n     <use x=\"124.755859\" xlink:href=\"#DejaVuSans-121\"/>\r\n    </g>\r\n   </g>\r\n   <g id=\"text_11\">\r\n    <!-- find -->\r\n    <g transform=\"translate(120.032951 118.919905)scale(0.1 -0.1)\">\r\n     <use xlink:href=\"#DejaVuSans-102\"/>\r\n     <use x=\"35.205078\" xlink:href=\"#DejaVuSans-105\"/>\r\n     <use x=\"62.988281\" xlink:href=\"#DejaVuSans-110\"/>\r\n     <use x=\"126.367188\" xlink:href=\"#DejaVuSans-100\"/>\r\n    </g>\r\n   </g>\r\n   <g id=\"text_12\">\r\n    <!-- definitely -->\r\n    <g transform=\"translate(106.18217 75.067168)scale(0.1 -0.1)\">\r\n     <use xlink:href=\"#DejaVuSans-100\"/>\r\n     <use x=\"63.476562\" xlink:href=\"#DejaVuSans-101\"/>\r\n     <use x=\"125\" xlink:href=\"#DejaVuSans-102\"/>\r\n     <use x=\"160.205078\" xlink:href=\"#DejaVuSans-105\"/>\r\n     <use x=\"187.988281\" xlink:href=\"#DejaVuSans-110\"/>\r\n     <use x=\"251.367188\" xlink:href=\"#DejaVuSans-105\"/>\r\n     <use x=\"279.150391\" xlink:href=\"#DejaVuSans-116\"/>\r\n     <use x=\"318.359375\" xlink:href=\"#DejaVuSans-101\"/>\r\n     <use x=\"379.882812\" xlink:href=\"#DejaVuSans-108\"/>\r\n     <use x=\"407.666016\" xlink:href=\"#DejaVuSans-121\"/>\r\n    </g>\r\n   </g>\r\n   <g id=\"text_13\">\r\n    <!-- seating -->\r\n    <g transform=\"translate(111.087639 31.554815)scale(0.1 -0.1)\">\r\n     <defs>\r\n      <path d=\"M 45.40625 27.984375 \r\nQ 45.40625 37.75 41.375 43.109375 \r\nQ 37.359375 48.484375 30.078125 48.484375 \r\nQ 22.859375 48.484375 18.828125 43.109375 \r\nQ 14.796875 37.75 14.796875 27.984375 \r\nQ 14.796875 18.265625 18.828125 12.890625 \r\nQ 22.859375 7.515625 30.078125 7.515625 \r\nQ 37.359375 7.515625 41.375 12.890625 \r\nQ 45.40625 18.265625 45.40625 27.984375 \r\nz\r\nM 54.390625 6.78125 \r\nQ 54.390625 -7.171875 48.1875 -13.984375 \r\nQ 42 -20.796875 29.203125 -20.796875 \r\nQ 24.46875 -20.796875 20.265625 -20.09375 \r\nQ 16.0625 -19.390625 12.109375 -17.921875 \r\nL 12.109375 -9.1875 \r\nQ 16.0625 -11.328125 19.921875 -12.34375 \r\nQ 23.78125 -13.375 27.78125 -13.375 \r\nQ 36.625 -13.375 41.015625 -8.765625 \r\nQ 45.40625 -4.15625 45.40625 5.171875 \r\nL 45.40625 9.625 \r\nQ 42.625 4.78125 38.28125 2.390625 \r\nQ 33.9375 0 27.875 0 \r\nQ 17.828125 0 11.671875 7.65625 \r\nQ 5.515625 15.328125 5.515625 27.984375 \r\nQ 5.515625 40.671875 11.671875 48.328125 \r\nQ 17.828125 56 27.875 56 \r\nQ 33.9375 56 38.28125 53.609375 \r\nQ 42.625 51.21875 45.40625 46.390625 \r\nL 45.40625 54.6875 \r\nL 54.390625 54.6875 \r\nz\r\n\" id=\"DejaVuSans-103\"/>\r\n     </defs>\r\n     <use xlink:href=\"#DejaVuSans-115\"/>\r\n     <use x=\"52.099609\" xlink:href=\"#DejaVuSans-101\"/>\r\n     <use x=\"113.623047\" xlink:href=\"#DejaVuSans-97\"/>\r\n     <use x=\"174.902344\" xlink:href=\"#DejaVuSans-116\"/>\r\n     <use x=\"214.111328\" xlink:href=\"#DejaVuSans-105\"/>\r\n     <use x=\"241.894531\" xlink:href=\"#DejaVuSans-110\"/>\r\n     <use x=\"305.273438\" xlink:href=\"#DejaVuSans-103\"/>\r\n    </g>\r\n   </g>\r\n   <g id=\"text_14\">\r\n    <!-- think -->\r\n    <g transform=\"translate(200.945243 120.864383)scale(0.1 -0.1)\">\r\n     <defs>\r\n      <path d=\"M 54.890625 33.015625 \r\nL 54.890625 0 \r\nL 45.90625 0 \r\nL 45.90625 32.71875 \r\nQ 45.90625 40.484375 42.875 44.328125 \r\nQ 39.84375 48.1875 33.796875 48.1875 \r\nQ 26.515625 48.1875 22.3125 43.546875 \r\nQ 18.109375 38.921875 18.109375 30.90625 \r\nL 18.109375 0 \r\nL 9.078125 0 \r\nL 9.078125 75.984375 \r\nL 18.109375 75.984375 \r\nL 18.109375 46.1875 \r\nQ 21.34375 51.125 25.703125 53.5625 \r\nQ 30.078125 56 35.796875 56 \r\nQ 45.21875 56 50.046875 50.171875 \r\nQ 54.890625 44.34375 54.890625 33.015625 \r\nz\r\n\" id=\"DejaVuSans-104\"/>\r\n     </defs>\r\n     <use xlink:href=\"#DejaVuSans-116\"/>\r\n     <use x=\"39.208984\" xlink:href=\"#DejaVuSans-104\"/>\r\n     <use x=\"102.587891\" xlink:href=\"#DejaVuSans-105\"/>\r\n     <use x=\"130.371094\" xlink:href=\"#DejaVuSans-110\"/>\r\n     <use x=\"193.75\" xlink:href=\"#DejaVuSans-107\"/>\r\n    </g>\r\n   </g>\r\n   <g id=\"text_15\">\r\n    <!-- parking -->\r\n    <g transform=\"translate(280.523757 120.864383)scale(0.1 -0.1)\">\r\n     <use xlink:href=\"#DejaVuSans-112\"/>\r\n     <use x=\"63.476562\" xlink:href=\"#DejaVuSans-97\"/>\r\n     <use x=\"124.755859\" xlink:href=\"#DejaVuSans-114\"/>\r\n     <use x=\"165.869141\" xlink:href=\"#DejaVuSans-107\"/>\r\n     <use x=\"223.779297\" xlink:href=\"#DejaVuSans-105\"/>\r\n     <use x=\"251.5625\" xlink:href=\"#DejaVuSans-110\"/>\r\n     <use x=\"314.941406\" xlink:href=\"#DejaVuSans-103\"/>\r\n    </g>\r\n   </g>\r\n   <g id=\"text_16\">\r\n    <!-- barista -->\r\n    <g transform=\"translate(188.592945 77.714567)scale(0.1 -0.1)\">\r\n     <defs>\r\n      <path d=\"M 48.6875 27.296875 \r\nQ 48.6875 37.203125 44.609375 42.84375 \r\nQ 40.53125 48.484375 33.40625 48.484375 \r\nQ 26.265625 48.484375 22.1875 42.84375 \r\nQ 18.109375 37.203125 18.109375 27.296875 \r\nQ 18.109375 17.390625 22.1875 11.75 \r\nQ 26.265625 6.109375 33.40625 6.109375 \r\nQ 40.53125 6.109375 44.609375 11.75 \r\nQ 48.6875 17.390625 48.6875 27.296875 \r\nz\r\nM 18.109375 46.390625 \r\nQ 20.953125 51.265625 25.265625 53.625 \r\nQ 29.59375 56 35.59375 56 \r\nQ 45.5625 56 51.78125 48.09375 \r\nQ 58.015625 40.1875 58.015625 27.296875 \r\nQ 58.015625 14.40625 51.78125 6.484375 \r\nQ 45.5625 -1.421875 35.59375 -1.421875 \r\nQ 29.59375 -1.421875 25.265625 0.953125 \r\nQ 20.953125 3.328125 18.109375 8.203125 \r\nL 18.109375 0 \r\nL 9.078125 0 \r\nL 9.078125 75.984375 \r\nL 18.109375 75.984375 \r\nz\r\n\" id=\"DejaVuSans-98\"/>\r\n     </defs>\r\n     <use xlink:href=\"#DejaVuSans-98\"/>\r\n     <use x=\"63.476562\" xlink:href=\"#DejaVuSans-97\"/>\r\n     <use x=\"124.755859\" xlink:href=\"#DejaVuSans-114\"/>\r\n     <use x=\"165.869141\" xlink:href=\"#DejaVuSans-105\"/>\r\n     <use x=\"193.652344\" xlink:href=\"#DejaVuSans-115\"/>\r\n     <use x=\"245.751953\" xlink:href=\"#DejaVuSans-116\"/>\r\n     <use x=\"284.960938\" xlink:href=\"#DejaVuSans-97\"/>\r\n    </g>\r\n   </g>\r\n   <g id=\"text_17\">\r\n    <!-- sweet -->\r\n    <g transform=\"translate(191.097633 32.257736)scale(0.1 -0.1)\">\r\n     <use xlink:href=\"#DejaVuSans-115\"/>\r\n     <use x=\"52.099609\" xlink:href=\"#DejaVuSans-119\"/>\r\n     <use x=\"133.886719\" xlink:href=\"#DejaVuSans-101\"/>\r\n     <use x=\"195.410156\" xlink:href=\"#DejaVuSans-101\"/>\r\n     <use x=\"256.933594\" xlink:href=\"#DejaVuSans-116\"/>\r\n    </g>\r\n   </g>\r\n   <g id=\"text_18\">\r\n    <!-- breakfast -->\r\n    <g transform=\"translate(243.430596 70.379591)scale(0.1 -0.1)\">\r\n     <use xlink:href=\"#DejaVuSans-98\"/>\r\n     <use x=\"63.476562\" xlink:href=\"#DejaVuSans-114\"/>\r\n     <use x=\"102.339844\" xlink:href=\"#DejaVuSans-101\"/>\r\n     <use x=\"163.863281\" xlink:href=\"#DejaVuSans-97\"/>\r\n     <use x=\"225.142578\" xlink:href=\"#DejaVuSans-107\"/>\r\n     <use x=\"283.052734\" xlink:href=\"#DejaVuSans-102\"/>\r\n     <use x=\"318.257812\" xlink:href=\"#DejaVuSans-97\"/>\r\n     <use x=\"379.537109\" xlink:href=\"#DejaVuSans-115\"/>\r\n     <use x=\"431.636719\" xlink:href=\"#DejaVuSans-116\"/>\r\n    </g>\r\n   </g>\r\n   <g id=\"text_19\">\r\n    <!-- small -->\r\n    <g transform=\"translate(303.833355 70.379591)scale(0.1 -0.1)\">\r\n     <defs>\r\n      <path d=\"M 52 44.1875 \r\nQ 55.375 50.25 60.0625 53.125 \r\nQ 64.75 56 71.09375 56 \r\nQ 79.640625 56 84.28125 50.015625 \r\nQ 88.921875 44.046875 88.921875 33.015625 \r\nL 88.921875 0 \r\nL 79.890625 0 \r\nL 79.890625 32.71875 \r\nQ 79.890625 40.578125 77.09375 44.375 \r\nQ 74.3125 48.1875 68.609375 48.1875 \r\nQ 61.625 48.1875 57.5625 43.546875 \r\nQ 53.515625 38.921875 53.515625 30.90625 \r\nL 53.515625 0 \r\nL 44.484375 0 \r\nL 44.484375 32.71875 \r\nQ 44.484375 40.625 41.703125 44.40625 \r\nQ 38.921875 48.1875 33.109375 48.1875 \r\nQ 26.21875 48.1875 22.15625 43.53125 \r\nQ 18.109375 38.875 18.109375 30.90625 \r\nL 18.109375 0 \r\nL 9.078125 0 \r\nL 9.078125 54.6875 \r\nL 18.109375 54.6875 \r\nL 18.109375 46.1875 \r\nQ 21.1875 51.21875 25.484375 53.609375 \r\nQ 29.78125 56 35.6875 56 \r\nQ 41.65625 56 45.828125 52.96875 \r\nQ 50 49.953125 52 44.1875 \r\nz\r\n\" id=\"DejaVuSans-109\"/>\r\n     </defs>\r\n     <use xlink:href=\"#DejaVuSans-115\"/>\r\n     <use x=\"52.099609\" xlink:href=\"#DejaVuSans-109\"/>\r\n     <use x=\"149.511719\" xlink:href=\"#DejaVuSans-97\"/>\r\n     <use x=\"210.791016\" xlink:href=\"#DejaVuSans-108\"/>\r\n     <use x=\"238.574219\" xlink:href=\"#DejaVuSans-108\"/>\r\n    </g>\r\n   </g>\r\n   <g id=\"text_20\">\r\n    <!-- thing -->\r\n    <g transform=\"translate(278.961304 24.922759)scale(0.1 -0.1)\">\r\n     <use xlink:href=\"#DejaVuSans-116\"/>\r\n     <use x=\"39.208984\" xlink:href=\"#DejaVuSans-104\"/>\r\n     <use x=\"102.587891\" xlink:href=\"#DejaVuSans-105\"/>\r\n     <use x=\"130.371094\" xlink:href=\"#DejaVuSans-110\"/>\r\n     <use x=\"193.75\" xlink:href=\"#DejaVuSans-103\"/>\r\n    </g>\r\n   </g>\r\n  </g>\r\n </g>\r\n <defs>\r\n  <clipPath id=\"pef326839d6\">\r\n   <rect height=\"217.44\" width=\"334.8\" x=\"7.2\" y=\"7.2\"/>\r\n  </clipPath>\r\n </defs>\r\n</svg>\r\n",
      "image/png": "[encoded data removed]"
     },
     "metadata": {
      "needs_background": "light"
     }
    }
   ],
   "source": [
    "wc_short_top20 = wc_short[wc_short['rank'] <= 20]\n",
    "\n",
    "squarify.plot(sizes=wc_short_top20['pct_total'], label=wc_short_top20['word'], alpha=.8 )\n",
    "plt.axis('off')\n",
    "plt.show()"
   ]
  },
  {
   "cell_type": "markdown",
   "metadata": {},
   "source": [
    "## Can visualize the words with the greatest difference in counts between 'good' & 'bad'?\n",
    "\n",
    "Couple Notes: \n",
    "- Rel. freq. instead of absolute counts b/c of different numbers of reviews\n",
    "- Only look at the top 5-10 words with the greatest differences\n"
   ]
  },
  {
   "cell_type": "code",
   "execution_count": 82,
   "metadata": {},
   "outputs": [
    {
     "output_type": "execute_result",
     "data": {
      "text/plain": [
       "((7616, 10), (1476, 10), (6140, 10))"
      ]
     },
     "metadata": {},
     "execution_count": 82
    }
   ],
   "source": [
    "# redefine good and bad data frames to include token columns\n",
    "df_bad = shops[shops['rating'] == 0]\n",
    "df_good = shops[shops['rating'] == 1]\n",
    "shops.shape, df_bad.shape, df_good.shape"
   ]
  },
  {
   "cell_type": "code",
   "execution_count": 84,
   "metadata": {},
   "outputs": [
    {
     "output_type": "stream",
     "name": "stdout",
     "text": [
      "(6399, 7)\n"
     ]
    },
    {
     "output_type": "execute_result",
     "data": {
      "text/plain": [
       "         word  appears_in  count  rank  pct_total  cul_pct_total  \\\n",
       "33      taste         282    387   1.0   0.006428       0.006428   \n",
       "285      want         273    348   2.0   0.005780       0.012208   \n",
       "159      look         249    328   3.0   0.005448       0.017655   \n",
       "699       ask         220    325   4.0   0.005398       0.023053   \n",
       "236     think         263    320   5.0   0.005315       0.028368   \n",
       "179   barista         230    307   6.0   0.005099       0.033467   \n",
       "258  customer         186    294   7.0   0.004883       0.038350   \n",
       "68     review         223    276   8.0   0.004584       0.042934   \n",
       "171      wait         184    270   9.0   0.004484       0.047419   \n",
       "517       say         186    267  10.0   0.004435       0.051854   \n",
       "\n",
       "     appears_in_pct  \n",
       "33         0.191057  \n",
       "285        0.184959  \n",
       "159        0.168699  \n",
       "699        0.149051  \n",
       "236        0.178184  \n",
       "179        0.155827  \n",
       "258        0.126016  \n",
       "68         0.151084  \n",
       "171        0.124661  \n",
       "517        0.126016  "
      ],
      "text/html": "<div>\n<style scoped>\n    .dataframe tbody tr th:only-of-type {\n        vertical-align: middle;\n    }\n\n    .dataframe tbody tr th {\n        vertical-align: top;\n    }\n\n    .dataframe thead th {\n        text-align: right;\n    }\n</style>\n<table border=\"1\" class=\"dataframe\">\n  <thead>\n    <tr style=\"text-align: right;\">\n      <th></th>\n      <th>word</th>\n      <th>appears_in</th>\n      <th>count</th>\n      <th>rank</th>\n      <th>pct_total</th>\n      <th>cul_pct_total</th>\n      <th>appears_in_pct</th>\n    </tr>\n  </thead>\n  <tbody>\n    <tr>\n      <th>33</th>\n      <td>taste</td>\n      <td>282</td>\n      <td>387</td>\n      <td>1.0</td>\n      <td>0.006428</td>\n      <td>0.006428</td>\n      <td>0.191057</td>\n    </tr>\n    <tr>\n      <th>285</th>\n      <td>want</td>\n      <td>273</td>\n      <td>348</td>\n      <td>2.0</td>\n      <td>0.005780</td>\n      <td>0.012208</td>\n      <td>0.184959</td>\n    </tr>\n    <tr>\n      <th>159</th>\n      <td>look</td>\n      <td>249</td>\n      <td>328</td>\n      <td>3.0</td>\n      <td>0.005448</td>\n      <td>0.017655</td>\n      <td>0.168699</td>\n    </tr>\n    <tr>\n      <th>699</th>\n      <td>ask</td>\n      <td>220</td>\n      <td>325</td>\n      <td>4.0</td>\n      <td>0.005398</td>\n      <td>0.023053</td>\n      <td>0.149051</td>\n    </tr>\n    <tr>\n      <th>236</th>\n      <td>think</td>\n      <td>263</td>\n      <td>320</td>\n      <td>5.0</td>\n      <td>0.005315</td>\n      <td>0.028368</td>\n      <td>0.178184</td>\n    </tr>\n    <tr>\n      <th>179</th>\n      <td>barista</td>\n      <td>230</td>\n      <td>307</td>\n      <td>6.0</td>\n      <td>0.005099</td>\n      <td>0.033467</td>\n      <td>0.155827</td>\n    </tr>\n    <tr>\n      <th>258</th>\n      <td>customer</td>\n      <td>186</td>\n      <td>294</td>\n      <td>7.0</td>\n      <td>0.004883</td>\n      <td>0.038350</td>\n      <td>0.126016</td>\n    </tr>\n    <tr>\n      <th>68</th>\n      <td>review</td>\n      <td>223</td>\n      <td>276</td>\n      <td>8.0</td>\n      <td>0.004584</td>\n      <td>0.042934</td>\n      <td>0.151084</td>\n    </tr>\n    <tr>\n      <th>171</th>\n      <td>wait</td>\n      <td>184</td>\n      <td>270</td>\n      <td>9.0</td>\n      <td>0.004484</td>\n      <td>0.047419</td>\n      <td>0.124661</td>\n    </tr>\n    <tr>\n      <th>517</th>\n      <td>say</td>\n      <td>186</td>\n      <td>267</td>\n      <td>10.0</td>\n      <td>0.004435</td>\n      <td>0.051854</td>\n      <td>0.126016</td>\n    </tr>\n  </tbody>\n</table>\n</div>"
     },
     "metadata": {},
     "execution_count": 84
    }
   ],
   "source": [
    "wc_bad = count(df_bad['nostop_tokens_2'])\n",
    "print(wc_bad.shape)\n",
    "wc_bad.head(10)"
   ]
  },
  {
   "cell_type": "code",
   "execution_count": 86,
   "metadata": {},
   "outputs": [
    {
     "output_type": "stream",
     "name": "stdout",
     "text": [
      "(11488, 7)\n"
     ]
    },
    {
     "output_type": "execute_result",
     "data": {
      "text/plain": [
       "           word  appears_in  count  rank  pct_total  cul_pct_total  \\\n",
       "131    friendly        1447   1524   1.0   0.007111       0.007111   \n",
       "548   delicious        1179   1315   2.0   0.006135       0.013246   \n",
       "460       staff        1031   1088   3.0   0.005076       0.018322   \n",
       "67          lot         907   1081   4.0   0.005044       0.023366   \n",
       "81         spot         860   1031   5.0   0.004810       0.028176   \n",
       "40   definitely         893   1007   6.0   0.004698       0.032875   \n",
       "112      flavor         679   1005   7.0   0.004689       0.037564   \n",
       "138     seating         821    963   8.0   0.004493       0.042057   \n",
       "317         day         807    945   9.0   0.004409       0.046466   \n",
       "21         find         796    935  10.0   0.004362       0.050828   \n",
       "\n",
       "     appears_in_pct  \n",
       "131        0.235668  \n",
       "548        0.192020  \n",
       "460        0.167915  \n",
       "67         0.147720  \n",
       "81         0.140065  \n",
       "40         0.145440  \n",
       "112        0.110586  \n",
       "138        0.133713  \n",
       "317        0.131433  \n",
       "21         0.129642  "
      ],
      "text/html": "<div>\n<style scoped>\n    .dataframe tbody tr th:only-of-type {\n        vertical-align: middle;\n    }\n\n    .dataframe tbody tr th {\n        vertical-align: top;\n    }\n\n    .dataframe thead th {\n        text-align: right;\n    }\n</style>\n<table border=\"1\" class=\"dataframe\">\n  <thead>\n    <tr style=\"text-align: right;\">\n      <th></th>\n      <th>word</th>\n      <th>appears_in</th>\n      <th>count</th>\n      <th>rank</th>\n      <th>pct_total</th>\n      <th>cul_pct_total</th>\n      <th>appears_in_pct</th>\n    </tr>\n  </thead>\n  <tbody>\n    <tr>\n      <th>131</th>\n      <td>friendly</td>\n      <td>1447</td>\n      <td>1524</td>\n      <td>1.0</td>\n      <td>0.007111</td>\n      <td>0.007111</td>\n      <td>0.235668</td>\n    </tr>\n    <tr>\n      <th>548</th>\n      <td>delicious</td>\n      <td>1179</td>\n      <td>1315</td>\n      <td>2.0</td>\n      <td>0.006135</td>\n      <td>0.013246</td>\n      <td>0.192020</td>\n    </tr>\n    <tr>\n      <th>460</th>\n      <td>staff</td>\n      <td>1031</td>\n      <td>1088</td>\n      <td>3.0</td>\n      <td>0.005076</td>\n      <td>0.018322</td>\n      <td>0.167915</td>\n    </tr>\n    <tr>\n      <th>67</th>\n      <td>lot</td>\n      <td>907</td>\n      <td>1081</td>\n      <td>4.0</td>\n      <td>0.005044</td>\n      <td>0.023366</td>\n      <td>0.147720</td>\n    </tr>\n    <tr>\n      <th>81</th>\n      <td>spot</td>\n      <td>860</td>\n      <td>1031</td>\n      <td>5.0</td>\n      <td>0.004810</td>\n      <td>0.028176</td>\n      <td>0.140065</td>\n    </tr>\n    <tr>\n      <th>40</th>\n      <td>definitely</td>\n      <td>893</td>\n      <td>1007</td>\n      <td>6.0</td>\n      <td>0.004698</td>\n      <td>0.032875</td>\n      <td>0.145440</td>\n    </tr>\n    <tr>\n      <th>112</th>\n      <td>flavor</td>\n      <td>679</td>\n      <td>1005</td>\n      <td>7.0</td>\n      <td>0.004689</td>\n      <td>0.037564</td>\n      <td>0.110586</td>\n    </tr>\n    <tr>\n      <th>138</th>\n      <td>seating</td>\n      <td>821</td>\n      <td>963</td>\n      <td>8.0</td>\n      <td>0.004493</td>\n      <td>0.042057</td>\n      <td>0.133713</td>\n    </tr>\n    <tr>\n      <th>317</th>\n      <td>day</td>\n      <td>807</td>\n      <td>945</td>\n      <td>9.0</td>\n      <td>0.004409</td>\n      <td>0.046466</td>\n      <td>0.131433</td>\n    </tr>\n    <tr>\n      <th>21</th>\n      <td>find</td>\n      <td>796</td>\n      <td>935</td>\n      <td>10.0</td>\n      <td>0.004362</td>\n      <td>0.050828</td>\n      <td>0.129642</td>\n    </tr>\n  </tbody>\n</table>\n</div>"
     },
     "metadata": {},
     "execution_count": 86
    }
   ],
   "source": [
    "wc_good = count(df_good['nostop_tokens_2'])\n",
    "print(wc_good.shape)\n",
    "wc_good.head(10)"
   ]
  },
  {
   "cell_type": "code",
   "execution_count": 93,
   "metadata": {},
   "outputs": [
    {
     "output_type": "stream",
     "name": "stdout",
     "text": [
      "(6399, 7) (11488, 7)\n"
     ]
    },
    {
     "output_type": "display_data",
     "data": {
      "text/plain": "<Figure size 1440x576 with 2 Axes>",
      "image/svg+xml": "<?xml version=\"1.0\" encoding=\"utf-8\" standalone=\"no\"?>\r\n<!DOCTYPE svg PUBLIC \"-//W3C//DTD SVG 1.1//EN\"\r\n  \"http://www.w3.org/Graphics/SVG/1.1/DTD/svg11.dtd\">\r\n<!-- Created with matplotlib (https://matplotlib.org/) -->\r\n<svg height=\"464.398125pt\" version=\"1.1\" viewBox=\"0 0 1130.4 464.398125\" width=\"1130.4pt\" xmlns=\"http://www.w3.org/2000/svg\" xmlns:xlink=\"http://www.w3.org/1999/xlink\">\r\n <metadata>\r\n  <rdf:RDF xmlns:cc=\"http://creativecommons.org/ns#\" xmlns:dc=\"http://purl.org/dc/elements/1.1/\" xmlns:rdf=\"http://www.w3.org/1999/02/22-rdf-syntax-ns#\">\r\n   <cc:Work>\r\n    <dc:type rdf:resource=\"http://purl.org/dc/dcmitype/StillImage\"/>\r\n    <dc:date>2021-01-14T16:52:39.857450</dc:date>\r\n    <dc:format>image/svg+xml</dc:format>\r\n    <dc:creator>\r\n     <cc:Agent>\r\n      <dc:title>Matplotlib v3.3.2, https://matplotlib.org/</dc:title>\r\n     </cc:Agent>\r\n    </dc:creator>\r\n   </cc:Work>\r\n  </rdf:RDF>\r\n </metadata>\r\n <defs>\r\n  <style type=\"text/css\">*{stroke-linecap:butt;stroke-linejoin:round;}</style>\r\n </defs>\r\n <g id=\"figure_1\">\r\n  <g id=\"patch_1\">\r\n   <path d=\"M 0 464.398125 \r\nL 1130.4 464.398125 \r\nL 1130.4 0 \r\nL 0 0 \r\nz\r\n\" style=\"fill:none;\"/>\r\n  </g>\r\n  <g id=\"axes_1\">\r\n   <g id=\"patch_2\">\r\n    <path clip-path=\"url(#pac0470a8e9)\" d=\"M 7.2 457.198125 \r\nL 179.919702 457.198125 \r\nL 179.919702 298.873986 \r\nL 7.2 298.873986 \r\nz\r\n\" style=\"fill:#89d548;opacity:0.8;\"/>\r\n   </g>\r\n   <g id=\"patch_3\">\r\n    <path clip-path=\"url(#pac0470a8e9)\" d=\"M 7.2 298.873986 \r\nL 179.919702 298.873986 \r\nL 179.919702 156.504992 \r\nL 7.2 156.504992 \r\nz\r\n\" style=\"fill:#2ab07f;opacity:0.8;\"/>\r\n   </g>\r\n   <g id=\"patch_4\">\r\n    <path clip-path=\"url(#pac0470a8e9)\" d=\"M 7.2 156.504992 \r\nL 179.919702 156.504992 \r\nL 179.919702 22.318125 \r\nL 7.2 22.318125 \r\nz\r\n\" style=\"fill:#90d743;opacity:0.8;\"/>\r\n   </g>\r\n   <g id=\"patch_5\">\r\n    <path clip-path=\"url(#pac0470a8e9)\" d=\"M 179.919702 457.198125 \r\nL 348.492932 457.198125 \r\nL 348.492932 320.96811 \r\nL 179.919702 320.96811 \r\nz\r\n\" style=\"fill:#89d548;opacity:0.8;\"/>\r\n   </g>\r\n   <g id=\"patch_6\">\r\n    <path clip-path=\"url(#pac0470a8e9)\" d=\"M 348.492932 457.198125 \r\nL 514.472727 457.198125 \r\nL 514.472727 320.96811 \r\nL 348.492932 320.96811 \r\nz\r\n\" style=\"fill:#1fa088;opacity:0.8;\"/>\r\n   </g>\r\n   <g id=\"patch_7\">\r\n    <path clip-path=\"url(#pac0470a8e9)\" d=\"M 179.919702 320.96811 \r\nL 350.814509 320.96811 \r\nL 350.814509 194.031306 \r\nL 179.919702 194.031306 \r\nz\r\n\" style=\"fill:#20938c;opacity:0.8;\"/>\r\n   </g>\r\n   <g id=\"patch_8\">\r\n    <path clip-path=\"url(#pac0470a8e9)\" d=\"M 350.814509 320.96811 \r\nL 514.472727 320.96811 \r\nL 514.472727 194.031306 \r\nL 350.814509 194.031306 \r\nz\r\n\" style=\"fill:#5ac864;opacity:0.8;\"/>\r\n   </g>\r\n   <g id=\"patch_9\">\r\n    <path clip-path=\"url(#pac0470a8e9)\" d=\"M 179.919702 194.031306 \r\nL 293.494899 194.031306 \r\nL 293.494899 22.318125 \r\nL 179.919702 22.318125 \r\nz\r\n\" style=\"fill:#238a8d;opacity:0.8;\"/>\r\n   </g>\r\n   <g id=\"patch_10\">\r\n    <path clip-path=\"url(#pac0470a8e9)\" d=\"M 293.494899 194.031306 \r\nL 404.601069 194.031306 \r\nL 404.601069 22.318125 \r\nL 293.494899 22.318125 \r\nz\r\n\" style=\"fill:#26818e;opacity:0.8;\"/>\r\n   </g>\r\n   <g id=\"patch_11\">\r\n    <path clip-path=\"url(#pac0470a8e9)\" d=\"M 404.601069 194.031306 \r\nL 514.472727 194.031306 \r\nL 514.472727 22.318125 \r\nL 404.601069 22.318125 \r\nz\r\n\" style=\"fill:#25858e;opacity:0.8;\"/>\r\n   </g>\r\n   <g id=\"text_1\">\r\n    <!-- taste -->\r\n    <g transform=\"translate(80.894226 380.79543)scale(0.1 -0.1)\">\r\n     <defs>\r\n      <path d=\"M 18.3125 70.21875 \r\nL 18.3125 54.6875 \r\nL 36.8125 54.6875 \r\nL 36.8125 47.703125 \r\nL 18.3125 47.703125 \r\nL 18.3125 18.015625 \r\nQ 18.3125 11.328125 20.140625 9.421875 \r\nQ 21.96875 7.515625 27.59375 7.515625 \r\nL 36.8125 7.515625 \r\nL 36.8125 0 \r\nL 27.59375 0 \r\nQ 17.1875 0 13.234375 3.875 \r\nQ 9.28125 7.765625 9.28125 18.015625 \r\nL 9.28125 47.703125 \r\nL 2.6875 47.703125 \r\nL 2.6875 54.6875 \r\nL 9.28125 54.6875 \r\nL 9.28125 70.21875 \r\nz\r\n\" id=\"DejaVuSans-116\"/>\r\n      <path d=\"M 34.28125 27.484375 \r\nQ 23.390625 27.484375 19.1875 25 \r\nQ 14.984375 22.515625 14.984375 16.5 \r\nQ 14.984375 11.71875 18.140625 8.90625 \r\nQ 21.296875 6.109375 26.703125 6.109375 \r\nQ 34.1875 6.109375 38.703125 11.40625 \r\nQ 43.21875 16.703125 43.21875 25.484375 \r\nL 43.21875 27.484375 \r\nz\r\nM 52.203125 31.203125 \r\nL 52.203125 0 \r\nL 43.21875 0 \r\nL 43.21875 8.296875 \r\nQ 40.140625 3.328125 35.546875 0.953125 \r\nQ 30.953125 -1.421875 24.3125 -1.421875 \r\nQ 15.921875 -1.421875 10.953125 3.296875 \r\nQ 6 8.015625 6 15.921875 \r\nQ 6 25.140625 12.171875 29.828125 \r\nQ 18.359375 34.515625 30.609375 34.515625 \r\nL 43.21875 34.515625 \r\nL 43.21875 35.40625 \r\nQ 43.21875 41.609375 39.140625 45 \r\nQ 35.0625 48.390625 27.6875 48.390625 \r\nQ 23 48.390625 18.546875 47.265625 \r\nQ 14.109375 46.140625 10.015625 43.890625 \r\nL 10.015625 52.203125 \r\nQ 14.9375 54.109375 19.578125 55.046875 \r\nQ 24.21875 56 28.609375 56 \r\nQ 40.484375 56 46.34375 49.84375 \r\nQ 52.203125 43.703125 52.203125 31.203125 \r\nz\r\n\" id=\"DejaVuSans-97\"/>\r\n      <path d=\"M 44.28125 53.078125 \r\nL 44.28125 44.578125 \r\nQ 40.484375 46.53125 36.375 47.5 \r\nQ 32.28125 48.484375 27.875 48.484375 \r\nQ 21.1875 48.484375 17.84375 46.4375 \r\nQ 14.5 44.390625 14.5 40.28125 \r\nQ 14.5 37.15625 16.890625 35.375 \r\nQ 19.28125 33.59375 26.515625 31.984375 \r\nL 29.59375 31.296875 \r\nQ 39.15625 29.25 43.1875 25.515625 \r\nQ 47.21875 21.78125 47.21875 15.09375 \r\nQ 47.21875 7.46875 41.1875 3.015625 \r\nQ 35.15625 -1.421875 24.609375 -1.421875 \r\nQ 20.21875 -1.421875 15.453125 -0.5625 \r\nQ 10.6875 0.296875 5.421875 2 \r\nL 5.421875 11.28125 \r\nQ 10.40625 8.6875 15.234375 7.390625 \r\nQ 20.0625 6.109375 24.8125 6.109375 \r\nQ 31.15625 6.109375 34.5625 8.28125 \r\nQ 37.984375 10.453125 37.984375 14.40625 \r\nQ 37.984375 18.0625 35.515625 20.015625 \r\nQ 33.0625 21.96875 24.703125 23.78125 \r\nL 21.578125 24.515625 \r\nQ 13.234375 26.265625 9.515625 29.90625 \r\nQ 5.8125 33.546875 5.8125 39.890625 \r\nQ 5.8125 47.609375 11.28125 51.796875 \r\nQ 16.75 56 26.8125 56 \r\nQ 31.78125 56 36.171875 55.265625 \r\nQ 40.578125 54.546875 44.28125 53.078125 \r\nz\r\n\" id=\"DejaVuSans-115\"/>\r\n      <path d=\"M 56.203125 29.59375 \r\nL 56.203125 25.203125 \r\nL 14.890625 25.203125 \r\nQ 15.484375 15.921875 20.484375 11.0625 \r\nQ 25.484375 6.203125 34.421875 6.203125 \r\nQ 39.59375 6.203125 44.453125 7.46875 \r\nQ 49.3125 8.734375 54.109375 11.28125 \r\nL 54.109375 2.78125 \r\nQ 49.265625 0.734375 44.1875 -0.34375 \r\nQ 39.109375 -1.421875 33.890625 -1.421875 \r\nQ 20.796875 -1.421875 13.15625 6.1875 \r\nQ 5.515625 13.8125 5.515625 26.8125 \r\nQ 5.515625 40.234375 12.765625 48.109375 \r\nQ 20.015625 56 32.328125 56 \r\nQ 43.359375 56 49.78125 48.890625 \r\nQ 56.203125 41.796875 56.203125 29.59375 \r\nz\r\nM 47.21875 32.234375 \r\nQ 47.125 39.59375 43.09375 43.984375 \r\nQ 39.0625 48.390625 32.421875 48.390625 \r\nQ 24.90625 48.390625 20.390625 44.140625 \r\nQ 15.875 39.890625 15.1875 32.171875 \r\nz\r\n\" id=\"DejaVuSans-101\"/>\r\n     </defs>\r\n     <use xlink:href=\"#DejaVuSans-116\"/>\r\n     <use x=\"39.208984\" xlink:href=\"#DejaVuSans-97\"/>\r\n     <use x=\"100.488281\" xlink:href=\"#DejaVuSans-115\"/>\r\n     <use x=\"152.587891\" xlink:href=\"#DejaVuSans-116\"/>\r\n     <use x=\"191.796875\" xlink:href=\"#DejaVuSans-101\"/>\r\n    </g>\r\n   </g>\r\n   <g id=\"text_2\">\r\n    <!-- want -->\r\n    <g transform=\"translate(81.27782 230.448864)scale(0.1 -0.1)\">\r\n     <defs>\r\n      <path d=\"M 4.203125 54.6875 \r\nL 13.1875 54.6875 \r\nL 24.421875 12.015625 \r\nL 35.59375 54.6875 \r\nL 46.1875 54.6875 \r\nL 57.421875 12.015625 \r\nL 68.609375 54.6875 \r\nL 77.59375 54.6875 \r\nL 63.28125 0 \r\nL 52.6875 0 \r\nL 40.921875 44.828125 \r\nL 29.109375 0 \r\nL 18.5 0 \r\nz\r\n\" id=\"DejaVuSans-119\"/>\r\n      <path d=\"M 54.890625 33.015625 \r\nL 54.890625 0 \r\nL 45.90625 0 \r\nL 45.90625 32.71875 \r\nQ 45.90625 40.484375 42.875 44.328125 \r\nQ 39.84375 48.1875 33.796875 48.1875 \r\nQ 26.515625 48.1875 22.3125 43.546875 \r\nQ 18.109375 38.921875 18.109375 30.90625 \r\nL 18.109375 0 \r\nL 9.078125 0 \r\nL 9.078125 54.6875 \r\nL 18.109375 54.6875 \r\nL 18.109375 46.1875 \r\nQ 21.34375 51.125 25.703125 53.5625 \r\nQ 30.078125 56 35.796875 56 \r\nQ 45.21875 56 50.046875 50.171875 \r\nQ 54.890625 44.34375 54.890625 33.015625 \r\nz\r\n\" id=\"DejaVuSans-110\"/>\r\n     </defs>\r\n     <use xlink:href=\"#DejaVuSans-119\"/>\r\n     <use x=\"81.787109\" xlink:href=\"#DejaVuSans-97\"/>\r\n     <use x=\"143.066406\" xlink:href=\"#DejaVuSans-110\"/>\r\n     <use x=\"206.445312\" xlink:href=\"#DejaVuSans-116\"/>\r\n    </g>\r\n   </g>\r\n   <g id=\"text_3\">\r\n    <!-- look -->\r\n    <g transform=\"translate(83.156726 92.170934)scale(0.1 -0.1)\">\r\n     <defs>\r\n      <path d=\"M 9.421875 75.984375 \r\nL 18.40625 75.984375 \r\nL 18.40625 0 \r\nL 9.421875 0 \r\nz\r\n\" id=\"DejaVuSans-108\"/>\r\n      <path d=\"M 30.609375 48.390625 \r\nQ 23.390625 48.390625 19.1875 42.75 \r\nQ 14.984375 37.109375 14.984375 27.296875 \r\nQ 14.984375 17.484375 19.15625 11.84375 \r\nQ 23.34375 6.203125 30.609375 6.203125 \r\nQ 37.796875 6.203125 41.984375 11.859375 \r\nQ 46.1875 17.53125 46.1875 27.296875 \r\nQ 46.1875 37.015625 41.984375 42.703125 \r\nQ 37.796875 48.390625 30.609375 48.390625 \r\nz\r\nM 30.609375 56 \r\nQ 42.328125 56 49.015625 48.375 \r\nQ 55.71875 40.765625 55.71875 27.296875 \r\nQ 55.71875 13.875 49.015625 6.21875 \r\nQ 42.328125 -1.421875 30.609375 -1.421875 \r\nQ 18.84375 -1.421875 12.171875 6.21875 \r\nQ 5.515625 13.875 5.515625 27.296875 \r\nQ 5.515625 40.765625 12.171875 48.375 \r\nQ 18.84375 56 30.609375 56 \r\nz\r\n\" id=\"DejaVuSans-111\"/>\r\n      <path d=\"M 9.078125 75.984375 \r\nL 18.109375 75.984375 \r\nL 18.109375 31.109375 \r\nL 44.921875 54.6875 \r\nL 56.390625 54.6875 \r\nL 27.390625 29.109375 \r\nL 57.625 0 \r\nL 45.90625 0 \r\nL 18.109375 26.703125 \r\nL 18.109375 0 \r\nL 9.078125 0 \r\nz\r\n\" id=\"DejaVuSans-107\"/>\r\n     </defs>\r\n     <use xlink:href=\"#DejaVuSans-108\"/>\r\n     <use x=\"27.783203\" xlink:href=\"#DejaVuSans-111\"/>\r\n     <use x=\"88.964844\" xlink:href=\"#DejaVuSans-111\"/>\r\n     <use x=\"150.146484\" xlink:href=\"#DejaVuSans-107\"/>\r\n    </g>\r\n   </g>\r\n   <g id=\"text_4\">\r\n    <!-- ask -->\r\n    <g transform=\"translate(255.642254 391.842493)scale(0.1 -0.1)\">\r\n     <use xlink:href=\"#DejaVuSans-97\"/>\r\n     <use x=\"61.279297\" xlink:href=\"#DejaVuSans-115\"/>\r\n     <use x=\"113.378906\" xlink:href=\"#DejaVuSans-107\"/>\r\n    </g>\r\n   </g>\r\n   <g id=\"text_5\">\r\n    <!-- think -->\r\n    <g transform=\"translate(418.900798 391.842493)scale(0.1 -0.1)\">\r\n     <defs>\r\n      <path d=\"M 54.890625 33.015625 \r\nL 54.890625 0 \r\nL 45.90625 0 \r\nL 45.90625 32.71875 \r\nQ 45.90625 40.484375 42.875 44.328125 \r\nQ 39.84375 48.1875 33.796875 48.1875 \r\nQ 26.515625 48.1875 22.3125 43.546875 \r\nQ 18.109375 38.921875 18.109375 30.90625 \r\nL 18.109375 0 \r\nL 9.078125 0 \r\nL 9.078125 75.984375 \r\nL 18.109375 75.984375 \r\nL 18.109375 46.1875 \r\nQ 21.34375 51.125 25.703125 53.5625 \r\nQ 30.078125 56 35.796875 56 \r\nQ 45.21875 56 50.046875 50.171875 \r\nQ 54.890625 44.34375 54.890625 33.015625 \r\nz\r\n\" id=\"DejaVuSans-104\"/>\r\n      <path d=\"M 9.421875 54.6875 \r\nL 18.40625 54.6875 \r\nL 18.40625 0 \r\nL 9.421875 0 \r\nz\r\nM 9.421875 75.984375 \r\nL 18.40625 75.984375 \r\nL 18.40625 64.59375 \r\nL 9.421875 64.59375 \r\nz\r\n\" id=\"DejaVuSans-105\"/>\r\n     </defs>\r\n     <use xlink:href=\"#DejaVuSans-116\"/>\r\n     <use x=\"39.208984\" xlink:href=\"#DejaVuSans-104\"/>\r\n     <use x=\"102.587891\" xlink:href=\"#DejaVuSans-105\"/>\r\n     <use x=\"130.371094\" xlink:href=\"#DejaVuSans-110\"/>\r\n     <use x=\"193.75\" xlink:href=\"#DejaVuSans-107\"/>\r\n    </g>\r\n   </g>\r\n   <g id=\"text_6\">\r\n    <!-- barista -->\r\n    <g transform=\"translate(248.055386 260.259083)scale(0.1 -0.1)\">\r\n     <defs>\r\n      <path d=\"M 48.6875 27.296875 \r\nQ 48.6875 37.203125 44.609375 42.84375 \r\nQ 40.53125 48.484375 33.40625 48.484375 \r\nQ 26.265625 48.484375 22.1875 42.84375 \r\nQ 18.109375 37.203125 18.109375 27.296875 \r\nQ 18.109375 17.390625 22.1875 11.75 \r\nQ 26.265625 6.109375 33.40625 6.109375 \r\nQ 40.53125 6.109375 44.609375 11.75 \r\nQ 48.6875 17.390625 48.6875 27.296875 \r\nz\r\nM 18.109375 46.390625 \r\nQ 20.953125 51.265625 25.265625 53.625 \r\nQ 29.59375 56 35.59375 56 \r\nQ 45.5625 56 51.78125 48.09375 \r\nQ 58.015625 40.1875 58.015625 27.296875 \r\nQ 58.015625 14.40625 51.78125 6.484375 \r\nQ 45.5625 -1.421875 35.59375 -1.421875 \r\nQ 29.59375 -1.421875 25.265625 0.953125 \r\nQ 20.953125 3.328125 18.109375 8.203125 \r\nL 18.109375 0 \r\nL 9.078125 0 \r\nL 9.078125 75.984375 \r\nL 18.109375 75.984375 \r\nz\r\n\" id=\"DejaVuSans-98\"/>\r\n      <path d=\"M 41.109375 46.296875 \r\nQ 39.59375 47.171875 37.8125 47.578125 \r\nQ 36.03125 48 33.890625 48 \r\nQ 26.265625 48 22.1875 43.046875 \r\nQ 18.109375 38.09375 18.109375 28.8125 \r\nL 18.109375 0 \r\nL 9.078125 0 \r\nL 9.078125 54.6875 \r\nL 18.109375 54.6875 \r\nL 18.109375 46.1875 \r\nQ 20.953125 51.171875 25.484375 53.578125 \r\nQ 30.03125 56 36.53125 56 \r\nQ 37.453125 56 38.578125 55.875 \r\nQ 39.703125 55.765625 41.0625 55.515625 \r\nz\r\n\" id=\"DejaVuSans-114\"/>\r\n     </defs>\r\n     <use xlink:href=\"#DejaVuSans-98\"/>\r\n     <use x=\"63.476562\" xlink:href=\"#DejaVuSans-97\"/>\r\n     <use x=\"124.755859\" xlink:href=\"#DejaVuSans-114\"/>\r\n     <use x=\"165.869141\" xlink:href=\"#DejaVuSans-105\"/>\r\n     <use x=\"193.652344\" xlink:href=\"#DejaVuSans-115\"/>\r\n     <use x=\"245.751953\" xlink:href=\"#DejaVuSans-116\"/>\r\n     <use x=\"284.960938\" xlink:href=\"#DejaVuSans-97\"/>\r\n    </g>\r\n   </g>\r\n   <g id=\"text_7\">\r\n    <!-- customer -->\r\n    <g transform=\"translate(409.099087 260.259083)scale(0.1 -0.1)\">\r\n     <defs>\r\n      <path d=\"M 48.78125 52.59375 \r\nL 48.78125 44.1875 \r\nQ 44.96875 46.296875 41.140625 47.34375 \r\nQ 37.3125 48.390625 33.40625 48.390625 \r\nQ 24.65625 48.390625 19.8125 42.84375 \r\nQ 14.984375 37.3125 14.984375 27.296875 \r\nQ 14.984375 17.28125 19.8125 11.734375 \r\nQ 24.65625 6.203125 33.40625 6.203125 \r\nQ 37.3125 6.203125 41.140625 7.25 \r\nQ 44.96875 8.296875 48.78125 10.40625 \r\nL 48.78125 2.09375 \r\nQ 45.015625 0.34375 40.984375 -0.53125 \r\nQ 36.96875 -1.421875 32.421875 -1.421875 \r\nQ 20.0625 -1.421875 12.78125 6.34375 \r\nQ 5.515625 14.109375 5.515625 27.296875 \r\nQ 5.515625 40.671875 12.859375 48.328125 \r\nQ 20.21875 56 33.015625 56 \r\nQ 37.15625 56 41.109375 55.140625 \r\nQ 45.0625 54.296875 48.78125 52.59375 \r\nz\r\n\" id=\"DejaVuSans-99\"/>\r\n      <path d=\"M 8.5 21.578125 \r\nL 8.5 54.6875 \r\nL 17.484375 54.6875 \r\nL 17.484375 21.921875 \r\nQ 17.484375 14.15625 20.5 10.265625 \r\nQ 23.53125 6.390625 29.59375 6.390625 \r\nQ 36.859375 6.390625 41.078125 11.03125 \r\nQ 45.3125 15.671875 45.3125 23.6875 \r\nL 45.3125 54.6875 \r\nL 54.296875 54.6875 \r\nL 54.296875 0 \r\nL 45.3125 0 \r\nL 45.3125 8.40625 \r\nQ 42.046875 3.421875 37.71875 1 \r\nQ 33.40625 -1.421875 27.6875 -1.421875 \r\nQ 18.265625 -1.421875 13.375 4.4375 \r\nQ 8.5 10.296875 8.5 21.578125 \r\nz\r\nM 31.109375 56 \r\nz\r\n\" id=\"DejaVuSans-117\"/>\r\n      <path d=\"M 52 44.1875 \r\nQ 55.375 50.25 60.0625 53.125 \r\nQ 64.75 56 71.09375 56 \r\nQ 79.640625 56 84.28125 50.015625 \r\nQ 88.921875 44.046875 88.921875 33.015625 \r\nL 88.921875 0 \r\nL 79.890625 0 \r\nL 79.890625 32.71875 \r\nQ 79.890625 40.578125 77.09375 44.375 \r\nQ 74.3125 48.1875 68.609375 48.1875 \r\nQ 61.625 48.1875 57.5625 43.546875 \r\nQ 53.515625 38.921875 53.515625 30.90625 \r\nL 53.515625 0 \r\nL 44.484375 0 \r\nL 44.484375 32.71875 \r\nQ 44.484375 40.625 41.703125 44.40625 \r\nQ 38.921875 48.1875 33.109375 48.1875 \r\nQ 26.21875 48.1875 22.15625 43.53125 \r\nQ 18.109375 38.875 18.109375 30.90625 \r\nL 18.109375 0 \r\nL 9.078125 0 \r\nL 9.078125 54.6875 \r\nL 18.109375 54.6875 \r\nL 18.109375 46.1875 \r\nQ 21.1875 51.21875 25.484375 53.609375 \r\nQ 29.78125 56 35.6875 56 \r\nQ 41.65625 56 45.828125 52.96875 \r\nQ 50 49.953125 52 44.1875 \r\nz\r\n\" id=\"DejaVuSans-109\"/>\r\n     </defs>\r\n     <use xlink:href=\"#DejaVuSans-99\"/>\r\n     <use x=\"54.980469\" xlink:href=\"#DejaVuSans-117\"/>\r\n     <use x=\"118.359375\" xlink:href=\"#DejaVuSans-115\"/>\r\n     <use x=\"170.458984\" xlink:href=\"#DejaVuSans-116\"/>\r\n     <use x=\"209.667969\" xlink:href=\"#DejaVuSans-111\"/>\r\n     <use x=\"270.849609\" xlink:href=\"#DejaVuSans-109\"/>\r\n     <use x=\"368.261719\" xlink:href=\"#DejaVuSans-101\"/>\r\n     <use x=\"429.785156\" xlink:href=\"#DejaVuSans-114\"/>\r\n    </g>\r\n   </g>\r\n   <g id=\"text_8\">\r\n    <!-- review -->\r\n    <g transform=\"translate(220.173706 110.934091)scale(0.1 -0.1)\">\r\n     <defs>\r\n      <path d=\"M 2.984375 54.6875 \r\nL 12.5 54.6875 \r\nL 29.59375 8.796875 \r\nL 46.6875 54.6875 \r\nL 56.203125 54.6875 \r\nL 35.6875 0 \r\nL 23.484375 0 \r\nz\r\n\" id=\"DejaVuSans-118\"/>\r\n     </defs>\r\n     <use xlink:href=\"#DejaVuSans-114\"/>\r\n     <use x=\"38.863281\" xlink:href=\"#DejaVuSans-101\"/>\r\n     <use x=\"100.386719\" xlink:href=\"#DejaVuSans-118\"/>\r\n     <use x=\"159.566406\" xlink:href=\"#DejaVuSans-105\"/>\r\n     <use x=\"187.349609\" xlink:href=\"#DejaVuSans-101\"/>\r\n     <use x=\"248.873047\" xlink:href=\"#DejaVuSans-119\"/>\r\n    </g>\r\n   </g>\r\n   <g id=\"text_9\">\r\n    <!-- wait -->\r\n    <g transform=\"translate(338.54564 110.934091)scale(0.1 -0.1)\">\r\n     <use xlink:href=\"#DejaVuSans-119\"/>\r\n     <use x=\"81.787109\" xlink:href=\"#DejaVuSans-97\"/>\r\n     <use x=\"143.066406\" xlink:href=\"#DejaVuSans-105\"/>\r\n     <use x=\"170.849609\" xlink:href=\"#DejaVuSans-116\"/>\r\n    </g>\r\n   </g>\r\n   <g id=\"text_10\">\r\n    <!-- say -->\r\n    <g transform=\"translate(450.908773 110.934091)scale(0.1 -0.1)\">\r\n     <defs>\r\n      <path d=\"M 32.171875 -5.078125 \r\nQ 28.375 -14.84375 24.75 -17.8125 \r\nQ 21.140625 -20.796875 15.09375 -20.796875 \r\nL 7.90625 -20.796875 \r\nL 7.90625 -13.28125 \r\nL 13.1875 -13.28125 \r\nQ 16.890625 -13.28125 18.9375 -11.515625 \r\nQ 21 -9.765625 23.484375 -3.21875 \r\nL 25.09375 0.875 \r\nL 2.984375 54.6875 \r\nL 12.5 54.6875 \r\nL 29.59375 11.921875 \r\nL 46.6875 54.6875 \r\nL 56.203125 54.6875 \r\nz\r\n\" id=\"DejaVuSans-121\"/>\r\n     </defs>\r\n     <use xlink:href=\"#DejaVuSans-115\"/>\r\n     <use x=\"52.099609\" xlink:href=\"#DejaVuSans-97\"/>\r\n     <use x=\"113.378906\" xlink:href=\"#DejaVuSans-121\"/>\r\n    </g>\r\n   </g>\r\n   <g id=\"text_11\">\r\n    <!-- Bad Reviews -->\r\n    <g transform=\"translate(222.793551 16.318125)scale(0.12 -0.12)\">\r\n     <defs>\r\n      <path d=\"M 19.671875 34.8125 \r\nL 19.671875 8.109375 \r\nL 35.5 8.109375 \r\nQ 43.453125 8.109375 47.28125 11.40625 \r\nQ 51.125 14.703125 51.125 21.484375 \r\nQ 51.125 28.328125 47.28125 31.5625 \r\nQ 43.453125 34.8125 35.5 34.8125 \r\nz\r\nM 19.671875 64.796875 \r\nL 19.671875 42.828125 \r\nL 34.28125 42.828125 \r\nQ 41.5 42.828125 45.03125 45.53125 \r\nQ 48.578125 48.25 48.578125 53.8125 \r\nQ 48.578125 59.328125 45.03125 62.0625 \r\nQ 41.5 64.796875 34.28125 64.796875 \r\nz\r\nM 9.8125 72.90625 \r\nL 35.015625 72.90625 \r\nQ 46.296875 72.90625 52.390625 68.21875 \r\nQ 58.5 63.53125 58.5 54.890625 \r\nQ 58.5 48.1875 55.375 44.234375 \r\nQ 52.25 40.28125 46.1875 39.3125 \r\nQ 53.46875 37.75 57.5 32.78125 \r\nQ 61.53125 27.828125 61.53125 20.40625 \r\nQ 61.53125 10.640625 54.890625 5.3125 \r\nQ 48.25 0 35.984375 0 \r\nL 9.8125 0 \r\nz\r\n\" id=\"DejaVuSans-66\"/>\r\n      <path d=\"M 45.40625 46.390625 \r\nL 45.40625 75.984375 \r\nL 54.390625 75.984375 \r\nL 54.390625 0 \r\nL 45.40625 0 \r\nL 45.40625 8.203125 \r\nQ 42.578125 3.328125 38.25 0.953125 \r\nQ 33.9375 -1.421875 27.875 -1.421875 \r\nQ 17.96875 -1.421875 11.734375 6.484375 \r\nQ 5.515625 14.40625 5.515625 27.296875 \r\nQ 5.515625 40.1875 11.734375 48.09375 \r\nQ 17.96875 56 27.875 56 \r\nQ 33.9375 56 38.25 53.625 \r\nQ 42.578125 51.265625 45.40625 46.390625 \r\nz\r\nM 14.796875 27.296875 \r\nQ 14.796875 17.390625 18.875 11.75 \r\nQ 22.953125 6.109375 30.078125 6.109375 \r\nQ 37.203125 6.109375 41.296875 11.75 \r\nQ 45.40625 17.390625 45.40625 27.296875 \r\nQ 45.40625 37.203125 41.296875 42.84375 \r\nQ 37.203125 48.484375 30.078125 48.484375 \r\nQ 22.953125 48.484375 18.875 42.84375 \r\nQ 14.796875 37.203125 14.796875 27.296875 \r\nz\r\n\" id=\"DejaVuSans-100\"/>\r\n      <path id=\"DejaVuSans-32\"/>\r\n      <path d=\"M 44.390625 34.1875 \r\nQ 47.5625 33.109375 50.5625 29.59375 \r\nQ 53.5625 26.078125 56.59375 19.921875 \r\nL 66.609375 0 \r\nL 56 0 \r\nL 46.6875 18.703125 \r\nQ 43.0625 26.03125 39.671875 28.421875 \r\nQ 36.28125 30.8125 30.421875 30.8125 \r\nL 19.671875 30.8125 \r\nL 19.671875 0 \r\nL 9.8125 0 \r\nL 9.8125 72.90625 \r\nL 32.078125 72.90625 \r\nQ 44.578125 72.90625 50.734375 67.671875 \r\nQ 56.890625 62.453125 56.890625 51.90625 \r\nQ 56.890625 45.015625 53.6875 40.46875 \r\nQ 50.484375 35.9375 44.390625 34.1875 \r\nz\r\nM 19.671875 64.796875 \r\nL 19.671875 38.921875 \r\nL 32.078125 38.921875 \r\nQ 39.203125 38.921875 42.84375 42.21875 \r\nQ 46.484375 45.515625 46.484375 51.90625 \r\nQ 46.484375 58.296875 42.84375 61.546875 \r\nQ 39.203125 64.796875 32.078125 64.796875 \r\nz\r\n\" id=\"DejaVuSans-82\"/>\r\n     </defs>\r\n     <use xlink:href=\"#DejaVuSans-66\"/>\r\n     <use x=\"68.603516\" xlink:href=\"#DejaVuSans-97\"/>\r\n     <use x=\"129.882812\" xlink:href=\"#DejaVuSans-100\"/>\r\n     <use x=\"193.359375\" xlink:href=\"#DejaVuSans-32\"/>\r\n     <use x=\"225.146484\" xlink:href=\"#DejaVuSans-82\"/>\r\n     <use x=\"290.128906\" xlink:href=\"#DejaVuSans-101\"/>\r\n     <use x=\"351.652344\" xlink:href=\"#DejaVuSans-118\"/>\r\n     <use x=\"410.832031\" xlink:href=\"#DejaVuSans-105\"/>\r\n     <use x=\"438.615234\" xlink:href=\"#DejaVuSans-101\"/>\r\n     <use x=\"500.138672\" xlink:href=\"#DejaVuSans-119\"/>\r\n     <use x=\"581.925781\" xlink:href=\"#DejaVuSans-115\"/>\r\n    </g>\r\n   </g>\r\n  </g>\r\n  <g id=\"axes_2\">\r\n   <g id=\"patch_12\">\r\n    <path clip-path=\"url(#p6cd27e893b)\" d=\"M 615.927273 457.198125 \r\nL 798.785727 457.198125 \r\nL 798.785727 288.428805 \r\nL 615.927273 288.428805 \r\nz\r\n\" style=\"fill:#453581;opacity:0.8;\"/>\r\n   </g>\r\n   <g id=\"patch_13\">\r\n    <path clip-path=\"url(#p6cd27e893b)\" d=\"M 615.927273 288.428805 \r\nL 798.785727 288.428805 \r\nL 798.785727 142.804359 \r\nL 615.927273 142.804359 \r\nz\r\n\" style=\"fill:#46075a;opacity:0.8;\"/>\r\n   </g>\r\n   <g id=\"patch_14\">\r\n    <path clip-path=\"url(#p6cd27e893b)\" d=\"M 615.927273 142.804359 \r\nL 798.785727 142.804359 \r\nL 798.785727 22.318125 \r\nL 615.927273 22.318125 \r\nz\r\n\" style=\"fill:#1f968b;opacity:0.8;\"/>\r\n   </g>\r\n   <g id=\"patch_15\">\r\n    <path clip-path=\"url(#p6cd27e893b)\" d=\"M 798.785727 457.198125 \r\nL 964.832995 457.198125 \r\nL 964.832995 325.367127 \r\nL 798.785727 325.367127 \r\nz\r\n\" style=\"fill:#3d4d8a;opacity:0.8;\"/>\r\n   </g>\r\n   <g id=\"patch_16\">\r\n    <path clip-path=\"url(#p6cd27e893b)\" d=\"M 964.832995 457.198125 \r\nL 1123.2 457.198125 \r\nL 1123.2 325.367127 \r\nL 964.832995 325.367127 \r\nz\r\n\" style=\"fill:#31668e;opacity:0.8;\"/>\r\n   </g>\r\n   <g id=\"patch_17\">\r\n    <path clip-path=\"url(#p6cd27e893b)\" d=\"M 798.785727 325.367127 \r\nL 961.154103 325.367127 \r\nL 961.154103 199.778128 \r\nL 798.785727 199.778128 \r\nz\r\n\" style=\"fill:#297b8e;opacity:0.8;\"/>\r\n   </g>\r\n   <g id=\"patch_18\">\r\n    <path clip-path=\"url(#p6cd27e893b)\" d=\"M 961.154103 325.367127 \r\nL 1123.2 325.367127 \r\nL 1123.2 199.778128 \r\nL 961.154103 199.778128 \r\nz\r\n\" style=\"fill:#fde725;opacity:0.8;\"/>\r\n   </g>\r\n   <g id=\"patch_19\">\r\n    <path clip-path=\"url(#p6cd27e893b)\" d=\"M 798.785727 199.778128 \r\nL 908.673502 199.778128 \r\nL 908.673502 22.318125 \r\nL 798.785727 22.318125 \r\nz\r\n\" style=\"fill:#38588c;opacity:0.8;\"/>\r\n   </g>\r\n   <g id=\"patch_20\">\r\n    <path clip-path=\"url(#p6cd27e893b)\" d=\"M 908.673502 199.778128 \r\nL 1016.5073 199.778128 \r\nL 1016.5073 22.318125 \r\nL 908.673502 22.318125 \r\nz\r\n\" style=\"fill:#3c508b;opacity:0.8;\"/>\r\n   </g>\r\n   <g id=\"patch_21\">\r\n    <path clip-path=\"url(#p6cd27e893b)\" d=\"M 1016.5073 199.778128 \r\nL 1123.2 199.778128 \r\nL 1123.2 22.318125 \r\nL 1016.5073 22.318125 \r\nz\r\n\" style=\"fill:#365d8d;opacity:0.8;\"/>\r\n   </g>\r\n   <g id=\"text_12\">\r\n    <!-- friendly -->\r\n    <g transform=\"translate(688.383844 375.57284)scale(0.1 -0.1)\">\r\n     <defs>\r\n      <path d=\"M 37.109375 75.984375 \r\nL 37.109375 68.5 \r\nL 28.515625 68.5 \r\nQ 23.6875 68.5 21.796875 66.546875 \r\nQ 19.921875 64.59375 19.921875 59.515625 \r\nL 19.921875 54.6875 \r\nL 34.71875 54.6875 \r\nL 34.71875 47.703125 \r\nL 19.921875 47.703125 \r\nL 19.921875 0 \r\nL 10.890625 0 \r\nL 10.890625 47.703125 \r\nL 2.296875 47.703125 \r\nL 2.296875 54.6875 \r\nL 10.890625 54.6875 \r\nL 10.890625 58.5 \r\nQ 10.890625 67.625 15.140625 71.796875 \r\nQ 19.390625 75.984375 28.609375 75.984375 \r\nz\r\n\" id=\"DejaVuSans-102\"/>\r\n     </defs>\r\n     <use xlink:href=\"#DejaVuSans-102\"/>\r\n     <use x=\"35.205078\" xlink:href=\"#DejaVuSans-114\"/>\r\n     <use x=\"76.318359\" xlink:href=\"#DejaVuSans-105\"/>\r\n     <use x=\"104.101562\" xlink:href=\"#DejaVuSans-101\"/>\r\n     <use x=\"165.625\" xlink:href=\"#DejaVuSans-110\"/>\r\n     <use x=\"229.003906\" xlink:href=\"#DejaVuSans-100\"/>\r\n     <use x=\"292.480469\" xlink:href=\"#DejaVuSans-108\"/>\r\n     <use x=\"320.263672\" xlink:href=\"#DejaVuSans-121\"/>\r\n    </g>\r\n   </g>\r\n   <g id=\"text_13\">\r\n    <!-- delicious -->\r\n    <g transform=\"translate(685.3565 218.375957)scale(0.1 -0.1)\">\r\n     <use xlink:href=\"#DejaVuSans-100\"/>\r\n     <use x=\"63.476562\" xlink:href=\"#DejaVuSans-101\"/>\r\n     <use x=\"125\" xlink:href=\"#DejaVuSans-108\"/>\r\n     <use x=\"152.783203\" xlink:href=\"#DejaVuSans-105\"/>\r\n     <use x=\"180.566406\" xlink:href=\"#DejaVuSans-99\"/>\r\n     <use x=\"235.546875\" xlink:href=\"#DejaVuSans-105\"/>\r\n     <use x=\"263.330078\" xlink:href=\"#DejaVuSans-111\"/>\r\n     <use x=\"324.511719\" xlink:href=\"#DejaVuSans-117\"/>\r\n     <use x=\"387.890625\" xlink:href=\"#DejaVuSans-115\"/>\r\n    </g>\r\n   </g>\r\n   <g id=\"text_14\">\r\n    <!-- staff -->\r\n    <g transform=\"translate(696.207281 85.320617)scale(0.1 -0.1)\">\r\n     <use xlink:href=\"#DejaVuSans-115\"/>\r\n     <use x=\"52.099609\" xlink:href=\"#DejaVuSans-116\"/>\r\n     <use x=\"91.308594\" xlink:href=\"#DejaVuSans-97\"/>\r\n     <use x=\"152.587891\" xlink:href=\"#DejaVuSans-102\"/>\r\n     <use x=\"187.792969\" xlink:href=\"#DejaVuSans-102\"/>\r\n    </g>\r\n   </g>\r\n   <g id=\"text_15\">\r\n    <!-- lot -->\r\n    <g transform=\"translate(875.400767 394.042001)scale(0.1 -0.1)\">\r\n     <use xlink:href=\"#DejaVuSans-108\"/>\r\n     <use x=\"27.783203\" xlink:href=\"#DejaVuSans-111\"/>\r\n     <use x=\"88.964844\" xlink:href=\"#DejaVuSans-116\"/>\r\n    </g>\r\n   </g>\r\n   <g id=\"text_16\">\r\n    <!-- spot -->\r\n    <g transform=\"translate(1033.21806 394.042001)scale(0.1 -0.1)\">\r\n     <defs>\r\n      <path d=\"M 18.109375 8.203125 \r\nL 18.109375 -20.796875 \r\nL 9.078125 -20.796875 \r\nL 9.078125 54.6875 \r\nL 18.109375 54.6875 \r\nL 18.109375 46.390625 \r\nQ 20.953125 51.265625 25.265625 53.625 \r\nQ 29.59375 56 35.59375 56 \r\nQ 45.5625 56 51.78125 48.09375 \r\nQ 58.015625 40.1875 58.015625 27.296875 \r\nQ 58.015625 14.40625 51.78125 6.484375 \r\nQ 45.5625 -1.421875 35.59375 -1.421875 \r\nQ 29.59375 -1.421875 25.265625 0.953125 \r\nQ 20.953125 3.328125 18.109375 8.203125 \r\nz\r\nM 48.6875 27.296875 \r\nQ 48.6875 37.203125 44.609375 42.84375 \r\nQ 40.53125 48.484375 33.40625 48.484375 \r\nQ 26.265625 48.484375 22.1875 42.84375 \r\nQ 18.109375 37.203125 18.109375 27.296875 \r\nQ 18.109375 17.390625 22.1875 11.75 \r\nQ 26.265625 6.109375 33.40625 6.109375 \r\nQ 40.53125 6.109375 44.609375 11.75 \r\nQ 48.6875 17.390625 48.6875 27.296875 \r\nz\r\n\" id=\"DejaVuSans-112\"/>\r\n     </defs>\r\n     <use xlink:href=\"#DejaVuSans-115\"/>\r\n     <use x=\"52.099609\" xlink:href=\"#DejaVuSans-112\"/>\r\n     <use x=\"115.576172\" xlink:href=\"#DejaVuSans-111\"/>\r\n     <use x=\"176.757812\" xlink:href=\"#DejaVuSans-116\"/>\r\n    </g>\r\n   </g>\r\n   <g id=\"text_17\">\r\n    <!-- definitely -->\r\n    <g transform=\"translate(856.626946 265.332003)scale(0.1 -0.1)\">\r\n     <use xlink:href=\"#DejaVuSans-100\"/>\r\n     <use x=\"63.476562\" xlink:href=\"#DejaVuSans-101\"/>\r\n     <use x=\"125\" xlink:href=\"#DejaVuSans-102\"/>\r\n     <use x=\"160.205078\" xlink:href=\"#DejaVuSans-105\"/>\r\n     <use x=\"187.988281\" xlink:href=\"#DejaVuSans-110\"/>\r\n     <use x=\"251.367188\" xlink:href=\"#DejaVuSans-105\"/>\r\n     <use x=\"279.150391\" xlink:href=\"#DejaVuSans-116\"/>\r\n     <use x=\"318.359375\" xlink:href=\"#DejaVuSans-101\"/>\r\n     <use x=\"379.882812\" xlink:href=\"#DejaVuSans-108\"/>\r\n     <use x=\"407.666016\" xlink:href=\"#DejaVuSans-121\"/>\r\n    </g>\r\n   </g>\r\n   <g id=\"text_18\">\r\n    <!-- flavor -->\r\n    <g transform=\"translate(1027.889552 265.332003)scale(0.1 -0.1)\">\r\n     <use xlink:href=\"#DejaVuSans-102\"/>\r\n     <use x=\"35.205078\" xlink:href=\"#DejaVuSans-108\"/>\r\n     <use x=\"62.988281\" xlink:href=\"#DejaVuSans-97\"/>\r\n     <use x=\"124.267578\" xlink:href=\"#DejaVuSans-118\"/>\r\n     <use x=\"183.447266\" xlink:href=\"#DejaVuSans-111\"/>\r\n     <use x=\"244.628906\" xlink:href=\"#DejaVuSans-114\"/>\r\n    </g>\r\n   </g>\r\n   <g id=\"text_19\">\r\n    <!-- seating -->\r\n    <g transform=\"translate(835.292115 113.807501)scale(0.1 -0.1)\">\r\n     <defs>\r\n      <path d=\"M 45.40625 27.984375 \r\nQ 45.40625 37.75 41.375 43.109375 \r\nQ 37.359375 48.484375 30.078125 48.484375 \r\nQ 22.859375 48.484375 18.828125 43.109375 \r\nQ 14.796875 37.75 14.796875 27.984375 \r\nQ 14.796875 18.265625 18.828125 12.890625 \r\nQ 22.859375 7.515625 30.078125 7.515625 \r\nQ 37.359375 7.515625 41.375 12.890625 \r\nQ 45.40625 18.265625 45.40625 27.984375 \r\nz\r\nM 54.390625 6.78125 \r\nQ 54.390625 -7.171875 48.1875 -13.984375 \r\nQ 42 -20.796875 29.203125 -20.796875 \r\nQ 24.46875 -20.796875 20.265625 -20.09375 \r\nQ 16.0625 -19.390625 12.109375 -17.921875 \r\nL 12.109375 -9.1875 \r\nQ 16.0625 -11.328125 19.921875 -12.34375 \r\nQ 23.78125 -13.375 27.78125 -13.375 \r\nQ 36.625 -13.375 41.015625 -8.765625 \r\nQ 45.40625 -4.15625 45.40625 5.171875 \r\nL 45.40625 9.625 \r\nQ 42.625 4.78125 38.28125 2.390625 \r\nQ 33.9375 0 27.875 0 \r\nQ 17.828125 0 11.671875 7.65625 \r\nQ 5.515625 15.328125 5.515625 27.984375 \r\nQ 5.515625 40.671875 11.671875 48.328125 \r\nQ 17.828125 56 27.875 56 \r\nQ 33.9375 56 38.28125 53.609375 \r\nQ 42.625 51.21875 45.40625 46.390625 \r\nL 45.40625 54.6875 \r\nL 54.390625 54.6875 \r\nz\r\n\" id=\"DejaVuSans-103\"/>\r\n     </defs>\r\n     <use xlink:href=\"#DejaVuSans-115\"/>\r\n     <use x=\"52.099609\" xlink:href=\"#DejaVuSans-101\"/>\r\n     <use x=\"113.623047\" xlink:href=\"#DejaVuSans-97\"/>\r\n     <use x=\"174.902344\" xlink:href=\"#DejaVuSans-116\"/>\r\n     <use x=\"214.111328\" xlink:href=\"#DejaVuSans-105\"/>\r\n     <use x=\"241.894531\" xlink:href=\"#DejaVuSans-110\"/>\r\n     <use x=\"305.273438\" xlink:href=\"#DejaVuSans-103\"/>\r\n    </g>\r\n   </g>\r\n   <g id=\"text_20\">\r\n    <!-- day -->\r\n    <g transform=\"translate(953.392745 113.807501)scale(0.1 -0.1)\">\r\n     <use xlink:href=\"#DejaVuSans-100\"/>\r\n     <use x=\"63.476562\" xlink:href=\"#DejaVuSans-97\"/>\r\n     <use x=\"124.755859\" xlink:href=\"#DejaVuSans-121\"/>\r\n    </g>\r\n   </g>\r\n   <g id=\"text_21\">\r\n    <!-- find -->\r\n    <g transform=\"translate(1060.361463 113.807501)scale(0.1 -0.1)\">\r\n     <use xlink:href=\"#DejaVuSans-102\"/>\r\n     <use x=\"35.205078\" xlink:href=\"#DejaVuSans-105\"/>\r\n     <use x=\"62.988281\" xlink:href=\"#DejaVuSans-110\"/>\r\n     <use x=\"126.367188\" xlink:href=\"#DejaVuSans-100\"/>\r\n    </g>\r\n   </g>\r\n   <g id=\"text_22\">\r\n    <!-- Good Reviews -->\r\n    <g transform=\"translate(827.322699 16.318125)scale(0.12 -0.12)\">\r\n     <defs>\r\n      <path d=\"M 59.515625 10.40625 \r\nL 59.515625 29.984375 \r\nL 43.40625 29.984375 \r\nL 43.40625 38.09375 \r\nL 69.28125 38.09375 \r\nL 69.28125 6.78125 \r\nQ 63.578125 2.734375 56.6875 0.65625 \r\nQ 49.8125 -1.421875 42 -1.421875 \r\nQ 24.90625 -1.421875 15.25 8.5625 \r\nQ 5.609375 18.5625 5.609375 36.375 \r\nQ 5.609375 54.25 15.25 64.234375 \r\nQ 24.90625 74.21875 42 74.21875 \r\nQ 49.125 74.21875 55.546875 72.453125 \r\nQ 61.96875 70.703125 67.390625 67.28125 \r\nL 67.390625 56.78125 \r\nQ 61.921875 61.421875 55.765625 63.765625 \r\nQ 49.609375 66.109375 42.828125 66.109375 \r\nQ 29.4375 66.109375 22.71875 58.640625 \r\nQ 16.015625 51.171875 16.015625 36.375 \r\nQ 16.015625 21.625 22.71875 14.15625 \r\nQ 29.4375 6.6875 42.828125 6.6875 \r\nQ 48.046875 6.6875 52.140625 7.59375 \r\nQ 56.25 8.5 59.515625 10.40625 \r\nz\r\n\" id=\"DejaVuSans-71\"/>\r\n     </defs>\r\n     <use xlink:href=\"#DejaVuSans-71\"/>\r\n     <use x=\"77.490234\" xlink:href=\"#DejaVuSans-111\"/>\r\n     <use x=\"138.671875\" xlink:href=\"#DejaVuSans-111\"/>\r\n     <use x=\"199.853516\" xlink:href=\"#DejaVuSans-100\"/>\r\n     <use x=\"263.330078\" xlink:href=\"#DejaVuSans-32\"/>\r\n     <use x=\"295.117188\" xlink:href=\"#DejaVuSans-82\"/>\r\n     <use x=\"360.099609\" xlink:href=\"#DejaVuSans-101\"/>\r\n     <use x=\"421.623047\" xlink:href=\"#DejaVuSans-118\"/>\r\n     <use x=\"480.802734\" xlink:href=\"#DejaVuSans-105\"/>\r\n     <use x=\"508.585938\" xlink:href=\"#DejaVuSans-101\"/>\r\n     <use x=\"570.109375\" xlink:href=\"#DejaVuSans-119\"/>\r\n     <use x=\"651.896484\" xlink:href=\"#DejaVuSans-115\"/>\r\n    </g>\r\n   </g>\r\n  </g>\r\n </g>\r\n <defs>\r\n  <clipPath id=\"pac0470a8e9\">\r\n   <rect height=\"434.88\" width=\"507.272727\" x=\"7.2\" y=\"22.318125\"/>\r\n  </clipPath>\r\n  <clipPath id=\"p6cd27e893b\">\r\n   <rect height=\"434.88\" width=\"507.272727\" x=\"615.927273\" y=\"22.318125\"/>\r\n  </clipPath>\r\n </defs>\r\n</svg>\r\n",
      "image/png": "[encoded data removed]"
     },
     "metadata": {
      "needs_background": "light"
     }
    }
   ],
   "source": [
    "# Visualize top words for all reviews, bad reviews, good reviews\n",
    "print( wc_bad.shape, wc_good.shape)\n",
    "\n",
    "# Get top 20 word occurences for each set of data\n",
    "wc_bad_10 = wc_bad[wc_bad['rank'] <= 10]\n",
    "wc_good_10 = wc_good[wc_good['rank'] <= 10]\n",
    "\n",
    "fig, axes = plt.subplots(1, 2, figsize=(20, 8))\n",
    "\n",
    "axes[0].set_title('Bad Reviews')\n",
    "squarify.plot(sizes=wc_bad_10['pct_total'], label=wc_bad_10['word'], alpha=.8, ax=axes[0])\n",
    "axes[0].axis('off')\n",
    "\n",
    "axes[1].set_title('Good Reviews')\n",
    "squarify.plot(sizes=wc_good_10['pct_total'], label=wc_good_10['word'], alpha=.8, ax=axes[1])\n",
    "axes[1].axis('off')\n",
    "plt.show()"
   ]
  },
  {
   "cell_type": "markdown",
   "metadata": {
    "colab_type": "text",
    "id": "1dCb1q8XphcP",
    "toc-hr-collapsed": true
   },
   "source": [
    "## Stretch Goals\n",
    "\n",
    "* Analyze another corpus of documents - such as Indeed.com job listings ;).\n",
    "* Play with the Spacy API to\n",
    " - Extract Named Entities\n",
    " - Extracting 'noun chunks'\n",
    " - Attempt Document Classification with just Spacy\n",
    " - *Note:* This [course](https://course.spacy.io/) will be of interesting in helping you with these stretch goals. \n",
    "* Try to build a plotly dash app with your text data \n",
    "\n"
   ]
  },
  {
   "cell_type": "code",
   "execution_count": 1,
   "metadata": {},
   "outputs": [],
   "source": [
    "# # This did not work, I'm not sure of the steps to install scattertext\n",
    "\n",
    "# import scattertext as st\n",
    "\n",
    "# corpus = st.CorpusFromPandas(shops, \n",
    "#                              category_col='rating', \n",
    "#                              text_col='nostop_tokens_2',\n",
    "#                              nlp=nlp).build()\n",
    "\n",
    "# html = st.produce_scattertext_explorer(\n",
    "#     corpus,\n",
    "#     category='Rating',\n",
    "#     category_name='Good Review',\n",
    "#     not_category_name='Bad Review',\n",
    "#     width_in_pixels=1000,\n",
    "#     metadata=subset_df['rating'])\n",
    "# open('./good_vs_bad.html', 'w').write(html)"
   ]
  },
  {
   "cell_type": "code",
   "execution_count": null,
   "metadata": {},
   "outputs": [],
   "source": []
  }
 ],
 "metadata": {
  "colab": {
   "collapsed_sections": [],
   "name": "LS_DS_421_Text_Data_Assignment.ipynb",
   "provenance": [],
   "version": "0.3.2"
  },
  "kernelspec": {
   "name": "python3",
   "display_name": "Python 3.8.0 64-bit ('U4-S1-NLP': conda)",
   "metadata": {
    "interpreter": {
     "hash": "3ef9a8e6646616c094bdb2ac59c89d7c8f2f1468bffea0479b2bd7c491d5f46c"
    }
   }
  },
  "language_info": {
   "codemirror_mode": {
    "name": "ipython",
    "version": 3
   },
   "file_extension": ".py",
   "mimetype": "text/x-python",
   "name": "python",
   "nbconvert_exporter": "python",
   "pygments_lexer": "ipython3",
   "version": "3.8.0-final"
  },
  "toc-autonumbering": false
 },
 "nbformat": 4,
 "nbformat_minor": 4
}