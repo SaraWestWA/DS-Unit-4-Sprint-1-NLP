{
 "cells": [
  {
   "cell_type": "markdown",
   "metadata": {},
   "source": [
    "<img align=\"left\" src=\"https://lever-client-logos.s3.amazonaws.com/864372b1-534c-480e-acd5-9711f850815c-1524247202159.png\" width=200>\n",
    "<br></br>\n",
    "<br></br>\n",
    "\n",
    "# Topic Modeling\n",
    "## *Data Science Unit 4 Sprint 1 Assignment 4*\n",
    "\n",
    "Analyze a corpus of Amazon reviews from Unit 4 Sprint 1 Module 1's lecture using topic modeling: \n",
    "\n",
    "- Fit a Gensim LDA topic model on Amazon Reviews\n",
    "- Select appropriate number of topics\n",
    "- Create some dope visualization of the topics\n",
    "- Write a few bullets on your findings in markdown at the end\n",
    "- **Note**: You don't *have* to use generators for this assignment"
   ]
  },
  {
   "cell_type": "markdown",
   "metadata": {},
   "source": [
    "## Stretch Goals\n",
    "\n",
    "* Incorporate Named Entity Recognition in your analysis\n",
    "* Incorporate some custom pre-processing from our previous lessons (like spacy lemmatization)\n",
    "* Analyze a dataset of interest to you with topic modeling"
   ]
  },
  {
   "cell_type": "code",
   "execution_count": 69,
   "metadata": {
    "scrolled": true
   },
   "outputs": [
    {
     "name": "stderr",
     "output_type": "stream",
     "text": [
      "C:\\Users\\whats\\anaconda3\\envs\\U4-S1-NLP\\lib\\site-packages\\ipykernel\\ipkernel.py:287: DeprecationWarning: `should_run_async` will not call `transform_cell` automatically in the future. Please pass the result to `transformed_cell` argument and any exception that happen during thetransform in `preprocessing_exc_tuple` in IPython 7.17 and above.\n",
      "  and should_run_async(code)\n"
     ]
    }
   ],
   "source": [
    "import warnings\n",
    "warnings.filterwarnings(\"ignore\")"
   ]
  },
  {
   "cell_type": "code",
   "execution_count": 2,
   "metadata": {
    "scrolled": true
   },
   "outputs": [],
   "source": [
    "# import pandas as pd\n",
    "# from sklearn.ensemble import RandomForestClassifier\n",
    "# from sklearn.model_selection import GridSearchCV\n",
    "# from sklearn.feature_extraction.text import TfidfVectorizer\n",
    "\n",
    "import re\n",
    "import numpy as np\n",
    "import pandas as pd\n",
    "from pprint import pprint\n",
    "\n",
    "import gensim\n",
    "import gensim.corpora as corpora\n",
    "from gensim import models\n",
    "from gensim.utils import simple_preprocess\n",
    "from gensim.models import CoherenceModel\n",
    "\n",
    "import spacy\n",
    "from spacy.tokenizer import Tokenizer\n",
    "\n",
    "import pyLDAvis\n",
    "import pyLDAvis.gensim \n",
    "import matplotlib.pyplot as plt\n",
    "%matplotlib inline"
   ]
  },
  {
   "cell_type": "code",
   "execution_count": 3,
   "metadata": {
    "scrolled": true
   },
   "outputs": [
    {
     "name": "stderr",
     "output_type": "stream",
     "text": [
      "C:\\Users\\whats\\anaconda3\\envs\\U4-S1-NLP\\lib\\site-packages\\ipykernel\\ipkernel.py:287: DeprecationWarning: `should_run_async` will not call `transform_cell` automatically in the future. Please pass the result to `transformed_cell` argument and any exception that happen during thetransform in `preprocessing_exc_tuple` in IPython 7.17 and above.\n",
      "  and should_run_async(code)\n"
     ]
    }
   ],
   "source": [
    "nlp = spacy.load(\"en_core_web_lg\", disable=['parser', 'tagger', 'ner'])"
   ]
  },
  {
   "cell_type": "code",
   "execution_count": 48,
   "metadata": {},
   "outputs": [
    {
     "name": "stderr",
     "output_type": "stream",
     "text": [
      "C:\\Users\\whats\\anaconda3\\envs\\U4-S1-NLP\\lib\\site-packages\\ipykernel\\ipkernel.py:287: DeprecationWarning: `should_run_async` will not call `transform_cell` automatically in the future. Please pass the result to `transformed_cell` argument and any exception that happen during thetransform in `preprocessing_exc_tuple` in IPython 7.17 and above.\n",
      "  and should_run_async(code)\n"
     ]
    }
   ],
   "source": [
    "tokenizer = Tokenizer(nlp.vocab)"
   ]
  },
  {
   "cell_type": "code",
   "execution_count": 4,
   "metadata": {
    "scrolled": true
   },
   "outputs": [
    {
     "name": "stderr",
     "output_type": "stream",
     "text": [
      "C:\\Users\\whats\\anaconda3\\envs\\U4-S1-NLP\\lib\\site-packages\\ipykernel\\ipkernel.py:287: DeprecationWarning: `should_run_async` will not call `transform_cell` automatically in the future. Please pass the result to `transformed_cell` argument and any exception that happen during thetransform in `preprocessing_exc_tuple` in IPython 7.17 and above.\n",
      "  and should_run_async(code)\n"
     ]
    }
   ],
   "source": [
    "df1 = pd.read_csv('./data/Datafiniti_Amazon_Consumer_Reviews_of_Amazon_Products_May19.csv')"
   ]
  },
  {
   "cell_type": "code",
   "execution_count": 5,
   "metadata": {
    "scrolled": false
   },
   "outputs": [
    {
     "name": "stdout",
     "output_type": "stream",
     "text": [
      "(28332, 24)\n"
     ]
    },
    {
     "name": "stderr",
     "output_type": "stream",
     "text": [
      "C:\\Users\\whats\\anaconda3\\envs\\U4-S1-NLP\\lib\\site-packages\\ipykernel\\ipkernel.py:287: DeprecationWarning: `should_run_async` will not call `transform_cell` automatically in the future. Please pass the result to `transformed_cell` argument and any exception that happen during thetransform in `preprocessing_exc_tuple` in IPython 7.17 and above.\n",
      "  and should_run_async(code)\n"
     ]
    },
    {
     "data": {
      "text/html": [
       "<div>\n",
       "<style scoped>\n",
       "    .dataframe tbody tr th:only-of-type {\n",
       "        vertical-align: middle;\n",
       "    }\n",
       "\n",
       "    .dataframe tbody tr th {\n",
       "        vertical-align: top;\n",
       "    }\n",
       "\n",
       "    .dataframe thead th {\n",
       "        text-align: right;\n",
       "    }\n",
       "</style>\n",
       "<table border=\"1\" class=\"dataframe\">\n",
       "  <thead>\n",
       "    <tr style=\"text-align: right;\">\n",
       "      <th></th>\n",
       "      <th>id</th>\n",
       "      <th>dateAdded</th>\n",
       "      <th>dateUpdated</th>\n",
       "      <th>name</th>\n",
       "      <th>asins</th>\n",
       "      <th>brand</th>\n",
       "      <th>categories</th>\n",
       "      <th>primaryCategories</th>\n",
       "      <th>imageURLs</th>\n",
       "      <th>keys</th>\n",
       "      <th>...</th>\n",
       "      <th>reviews.didPurchase</th>\n",
       "      <th>reviews.doRecommend</th>\n",
       "      <th>reviews.id</th>\n",
       "      <th>reviews.numHelpful</th>\n",
       "      <th>reviews.rating</th>\n",
       "      <th>reviews.sourceURLs</th>\n",
       "      <th>reviews.text</th>\n",
       "      <th>reviews.title</th>\n",
       "      <th>reviews.username</th>\n",
       "      <th>sourceURLs</th>\n",
       "    </tr>\n",
       "  </thead>\n",
       "  <tbody>\n",
       "    <tr>\n",
       "      <th>0</th>\n",
       "      <td>AVpgNzjwLJeJML43Kpxn</td>\n",
       "      <td>2015-10-30T08:59:32Z</td>\n",
       "      <td>2019-04-25T09:08:16Z</td>\n",
       "      <td>AmazonBasics AAA Performance Alkaline Batterie...</td>\n",
       "      <td>B00QWO9P0O,B00LH3DMUO</td>\n",
       "      <td>Amazonbasics</td>\n",
       "      <td>AA,AAA,Health,Electronics,Health &amp; Household,C...</td>\n",
       "      <td>Health &amp; Beauty</td>\n",
       "      <td>https://images-na.ssl-images-amazon.com/images...</td>\n",
       "      <td>amazonbasics/hl002619,amazonbasicsaaaperforman...</td>\n",
       "      <td>...</td>\n",
       "      <td>NaN</td>\n",
       "      <td>NaN</td>\n",
       "      <td>NaN</td>\n",
       "      <td>NaN</td>\n",
       "      <td>3</td>\n",
       "      <td>https://www.amazon.com/product-reviews/B00QWO9...</td>\n",
       "      <td>I order 3 of them and one of the item is bad q...</td>\n",
       "      <td>... 3 of them and one of the item is bad quali...</td>\n",
       "      <td>Byger yang</td>\n",
       "      <td>https://www.barcodable.com/upc/841710106442,ht...</td>\n",
       "    </tr>\n",
       "    <tr>\n",
       "      <th>1</th>\n",
       "      <td>AVpgNzjwLJeJML43Kpxn</td>\n",
       "      <td>2015-10-30T08:59:32Z</td>\n",
       "      <td>2019-04-25T09:08:16Z</td>\n",
       "      <td>AmazonBasics AAA Performance Alkaline Batterie...</td>\n",
       "      <td>B00QWO9P0O,B00LH3DMUO</td>\n",
       "      <td>Amazonbasics</td>\n",
       "      <td>AA,AAA,Health,Electronics,Health &amp; Household,C...</td>\n",
       "      <td>Health &amp; Beauty</td>\n",
       "      <td>https://images-na.ssl-images-amazon.com/images...</td>\n",
       "      <td>amazonbasics/hl002619,amazonbasicsaaaperforman...</td>\n",
       "      <td>...</td>\n",
       "      <td>NaN</td>\n",
       "      <td>NaN</td>\n",
       "      <td>NaN</td>\n",
       "      <td>NaN</td>\n",
       "      <td>4</td>\n",
       "      <td>https://www.amazon.com/product-reviews/B00QWO9...</td>\n",
       "      <td>Bulk is always the less expensive way to go fo...</td>\n",
       "      <td>... always the less expensive way to go for pr...</td>\n",
       "      <td>ByMG</td>\n",
       "      <td>https://www.barcodable.com/upc/841710106442,ht...</td>\n",
       "    </tr>\n",
       "    <tr>\n",
       "      <th>2</th>\n",
       "      <td>AVpgNzjwLJeJML43Kpxn</td>\n",
       "      <td>2015-10-30T08:59:32Z</td>\n",
       "      <td>2019-04-25T09:08:16Z</td>\n",
       "      <td>AmazonBasics AAA Performance Alkaline Batterie...</td>\n",
       "      <td>B00QWO9P0O,B00LH3DMUO</td>\n",
       "      <td>Amazonbasics</td>\n",
       "      <td>AA,AAA,Health,Electronics,Health &amp; Household,C...</td>\n",
       "      <td>Health &amp; Beauty</td>\n",
       "      <td>https://images-na.ssl-images-amazon.com/images...</td>\n",
       "      <td>amazonbasics/hl002619,amazonbasicsaaaperforman...</td>\n",
       "      <td>...</td>\n",
       "      <td>NaN</td>\n",
       "      <td>NaN</td>\n",
       "      <td>NaN</td>\n",
       "      <td>NaN</td>\n",
       "      <td>5</td>\n",
       "      <td>https://www.amazon.com/product-reviews/B00QWO9...</td>\n",
       "      <td>Well they are not Duracell but for the price i...</td>\n",
       "      <td>... are not Duracell but for the price i am ha...</td>\n",
       "      <td>BySharon Lambert</td>\n",
       "      <td>https://www.barcodable.com/upc/841710106442,ht...</td>\n",
       "    </tr>\n",
       "    <tr>\n",
       "      <th>3</th>\n",
       "      <td>AVpgNzjwLJeJML43Kpxn</td>\n",
       "      <td>2015-10-30T08:59:32Z</td>\n",
       "      <td>2019-04-25T09:08:16Z</td>\n",
       "      <td>AmazonBasics AAA Performance Alkaline Batterie...</td>\n",
       "      <td>B00QWO9P0O,B00LH3DMUO</td>\n",
       "      <td>Amazonbasics</td>\n",
       "      <td>AA,AAA,Health,Electronics,Health &amp; Household,C...</td>\n",
       "      <td>Health &amp; Beauty</td>\n",
       "      <td>https://images-na.ssl-images-amazon.com/images...</td>\n",
       "      <td>amazonbasics/hl002619,amazonbasicsaaaperforman...</td>\n",
       "      <td>...</td>\n",
       "      <td>NaN</td>\n",
       "      <td>NaN</td>\n",
       "      <td>NaN</td>\n",
       "      <td>NaN</td>\n",
       "      <td>5</td>\n",
       "      <td>https://www.amazon.com/product-reviews/B00QWO9...</td>\n",
       "      <td>Seem to work as well as name brand batteries a...</td>\n",
       "      <td>... as well as name brand batteries at a much ...</td>\n",
       "      <td>Bymark sexson</td>\n",
       "      <td>https://www.barcodable.com/upc/841710106442,ht...</td>\n",
       "    </tr>\n",
       "    <tr>\n",
       "      <th>4</th>\n",
       "      <td>AVpgNzjwLJeJML43Kpxn</td>\n",
       "      <td>2015-10-30T08:59:32Z</td>\n",
       "      <td>2019-04-25T09:08:16Z</td>\n",
       "      <td>AmazonBasics AAA Performance Alkaline Batterie...</td>\n",
       "      <td>B00QWO9P0O,B00LH3DMUO</td>\n",
       "      <td>Amazonbasics</td>\n",
       "      <td>AA,AAA,Health,Electronics,Health &amp; Household,C...</td>\n",
       "      <td>Health &amp; Beauty</td>\n",
       "      <td>https://images-na.ssl-images-amazon.com/images...</td>\n",
       "      <td>amazonbasics/hl002619,amazonbasicsaaaperforman...</td>\n",
       "      <td>...</td>\n",
       "      <td>NaN</td>\n",
       "      <td>NaN</td>\n",
       "      <td>NaN</td>\n",
       "      <td>NaN</td>\n",
       "      <td>5</td>\n",
       "      <td>https://www.amazon.com/product-reviews/B00QWO9...</td>\n",
       "      <td>These batteries are very long lasting the pric...</td>\n",
       "      <td>... batteries are very long lasting the price ...</td>\n",
       "      <td>Bylinda</td>\n",
       "      <td>https://www.barcodable.com/upc/841710106442,ht...</td>\n",
       "    </tr>\n",
       "  </tbody>\n",
       "</table>\n",
       "<p>5 rows × 24 columns</p>\n",
       "</div>"
      ],
      "text/plain": [
       "                     id             dateAdded           dateUpdated  \\\n",
       "0  AVpgNzjwLJeJML43Kpxn  2015-10-30T08:59:32Z  2019-04-25T09:08:16Z   \n",
       "1  AVpgNzjwLJeJML43Kpxn  2015-10-30T08:59:32Z  2019-04-25T09:08:16Z   \n",
       "2  AVpgNzjwLJeJML43Kpxn  2015-10-30T08:59:32Z  2019-04-25T09:08:16Z   \n",
       "3  AVpgNzjwLJeJML43Kpxn  2015-10-30T08:59:32Z  2019-04-25T09:08:16Z   \n",
       "4  AVpgNzjwLJeJML43Kpxn  2015-10-30T08:59:32Z  2019-04-25T09:08:16Z   \n",
       "\n",
       "                                                name                  asins  \\\n",
       "0  AmazonBasics AAA Performance Alkaline Batterie...  B00QWO9P0O,B00LH3DMUO   \n",
       "1  AmazonBasics AAA Performance Alkaline Batterie...  B00QWO9P0O,B00LH3DMUO   \n",
       "2  AmazonBasics AAA Performance Alkaline Batterie...  B00QWO9P0O,B00LH3DMUO   \n",
       "3  AmazonBasics AAA Performance Alkaline Batterie...  B00QWO9P0O,B00LH3DMUO   \n",
       "4  AmazonBasics AAA Performance Alkaline Batterie...  B00QWO9P0O,B00LH3DMUO   \n",
       "\n",
       "          brand                                         categories  \\\n",
       "0  Amazonbasics  AA,AAA,Health,Electronics,Health & Household,C...   \n",
       "1  Amazonbasics  AA,AAA,Health,Electronics,Health & Household,C...   \n",
       "2  Amazonbasics  AA,AAA,Health,Electronics,Health & Household,C...   \n",
       "3  Amazonbasics  AA,AAA,Health,Electronics,Health & Household,C...   \n",
       "4  Amazonbasics  AA,AAA,Health,Electronics,Health & Household,C...   \n",
       "\n",
       "  primaryCategories                                          imageURLs  \\\n",
       "0   Health & Beauty  https://images-na.ssl-images-amazon.com/images...   \n",
       "1   Health & Beauty  https://images-na.ssl-images-amazon.com/images...   \n",
       "2   Health & Beauty  https://images-na.ssl-images-amazon.com/images...   \n",
       "3   Health & Beauty  https://images-na.ssl-images-amazon.com/images...   \n",
       "4   Health & Beauty  https://images-na.ssl-images-amazon.com/images...   \n",
       "\n",
       "                                                keys  ... reviews.didPurchase  \\\n",
       "0  amazonbasics/hl002619,amazonbasicsaaaperforman...  ...                 NaN   \n",
       "1  amazonbasics/hl002619,amazonbasicsaaaperforman...  ...                 NaN   \n",
       "2  amazonbasics/hl002619,amazonbasicsaaaperforman...  ...                 NaN   \n",
       "3  amazonbasics/hl002619,amazonbasicsaaaperforman...  ...                 NaN   \n",
       "4  amazonbasics/hl002619,amazonbasicsaaaperforman...  ...                 NaN   \n",
       "\n",
       "  reviews.doRecommend reviews.id reviews.numHelpful reviews.rating  \\\n",
       "0                 NaN        NaN                NaN              3   \n",
       "1                 NaN        NaN                NaN              4   \n",
       "2                 NaN        NaN                NaN              5   \n",
       "3                 NaN        NaN                NaN              5   \n",
       "4                 NaN        NaN                NaN              5   \n",
       "\n",
       "                                  reviews.sourceURLs  \\\n",
       "0  https://www.amazon.com/product-reviews/B00QWO9...   \n",
       "1  https://www.amazon.com/product-reviews/B00QWO9...   \n",
       "2  https://www.amazon.com/product-reviews/B00QWO9...   \n",
       "3  https://www.amazon.com/product-reviews/B00QWO9...   \n",
       "4  https://www.amazon.com/product-reviews/B00QWO9...   \n",
       "\n",
       "                                        reviews.text  \\\n",
       "0  I order 3 of them and one of the item is bad q...   \n",
       "1  Bulk is always the less expensive way to go fo...   \n",
       "2  Well they are not Duracell but for the price i...   \n",
       "3  Seem to work as well as name brand batteries a...   \n",
       "4  These batteries are very long lasting the pric...   \n",
       "\n",
       "                                       reviews.title  reviews.username  \\\n",
       "0  ... 3 of them and one of the item is bad quali...        Byger yang   \n",
       "1  ... always the less expensive way to go for pr...              ByMG   \n",
       "2  ... are not Duracell but for the price i am ha...  BySharon Lambert   \n",
       "3  ... as well as name brand batteries at a much ...     Bymark sexson   \n",
       "4  ... batteries are very long lasting the price ...           Bylinda   \n",
       "\n",
       "                                          sourceURLs  \n",
       "0  https://www.barcodable.com/upc/841710106442,ht...  \n",
       "1  https://www.barcodable.com/upc/841710106442,ht...  \n",
       "2  https://www.barcodable.com/upc/841710106442,ht...  \n",
       "3  https://www.barcodable.com/upc/841710106442,ht...  \n",
       "4  https://www.barcodable.com/upc/841710106442,ht...  \n",
       "\n",
       "[5 rows x 24 columns]"
      ]
     },
     "execution_count": 5,
     "metadata": {},
     "output_type": "execute_result"
    }
   ],
   "source": [
    "print(df1.shape)\n",
    "df1.head()"
   ]
  },
  {
   "cell_type": "code",
   "execution_count": 6,
   "metadata": {
    "scrolled": true
   },
   "outputs": [
    {
     "name": "stderr",
     "output_type": "stream",
     "text": [
      "C:\\Users\\whats\\anaconda3\\envs\\U4-S1-NLP\\lib\\site-packages\\ipykernel\\ipkernel.py:287: DeprecationWarning: `should_run_async` will not call `transform_cell` automatically in the future. Please pass the result to `transformed_cell` argument and any exception that happen during thetransform in `preprocessing_exc_tuple` in IPython 7.17 and above.\n",
      "  and should_run_async(code)\n"
     ]
    },
    {
     "data": {
      "text/plain": [
       "Electronics                    13995\n",
       "Health & Beauty                12071\n",
       "Toys & Games,Electronics        1676\n",
       "Office Supplies,Electronics      386\n",
       "Electronics,Media                185\n",
       "Office Supplies                    9\n",
       "Animals & Pet Supplies             6\n",
       "Home & Garden                      2\n",
       "Electronics,Furniture              2\n",
       "Name: primaryCategories, dtype: int64"
      ]
     },
     "execution_count": 6,
     "metadata": {},
     "output_type": "execute_result"
    }
   ],
   "source": [
    "df1['primaryCategories'].value_counts()"
   ]
  },
  {
   "cell_type": "code",
   "execution_count": 7,
   "metadata": {
    "scrolled": true
   },
   "outputs": [
    {
     "name": "stderr",
     "output_type": "stream",
     "text": [
      "C:\\Users\\whats\\anaconda3\\envs\\U4-S1-NLP\\lib\\site-packages\\ipykernel\\ipkernel.py:287: DeprecationWarning: `should_run_async` will not call `transform_cell` automatically in the future. Please pass the result to `transformed_cell` argument and any exception that happen during thetransform in `preprocessing_exc_tuple` in IPython 7.17 and above.\n",
      "  and should_run_async(code)\n"
     ]
    }
   ],
   "source": [
    "# df2 = df1[df1['primaryCategories'] == 'Office Supplies,Electronics'].copy()\n",
    "df2 = df1.copy()"
   ]
  },
  {
   "cell_type": "code",
   "execution_count": 8,
   "metadata": {
    "scrolled": true
   },
   "outputs": [
    {
     "name": "stderr",
     "output_type": "stream",
     "text": [
      "C:\\Users\\whats\\anaconda3\\envs\\U4-S1-NLP\\lib\\site-packages\\ipykernel\\ipkernel.py:287: DeprecationWarning: `should_run_async` will not call `transform_cell` automatically in the future. Please pass the result to `transformed_cell` argument and any exception that happen during thetransform in `preprocessing_exc_tuple` in IPython 7.17 and above.\n",
      "  and should_run_async(code)\n"
     ]
    },
    {
     "data": {
      "text/plain": [
       "(28332, 24)"
      ]
     },
     "execution_count": 8,
     "metadata": {},
     "output_type": "execute_result"
    }
   ],
   "source": [
    "df2.shape"
   ]
  },
  {
   "cell_type": "code",
   "execution_count": 9,
   "metadata": {
    "scrolled": true
   },
   "outputs": [
    {
     "name": "stderr",
     "output_type": "stream",
     "text": [
      "C:\\Users\\whats\\anaconda3\\envs\\U4-S1-NLP\\lib\\site-packages\\ipykernel\\ipkernel.py:287: DeprecationWarning: `should_run_async` will not call `transform_cell` automatically in the future. Please pass the result to `transformed_cell` argument and any exception that happen during thetransform in `preprocessing_exc_tuple` in IPython 7.17 and above.\n",
      "  and should_run_async(code)\n"
     ]
    }
   ],
   "source": [
    "df=df2[['reviews.text', 'reviews.rating']]"
   ]
  },
  {
   "cell_type": "code",
   "execution_count": 10,
   "metadata": {
    "scrolled": true
   },
   "outputs": [
    {
     "name": "stdout",
     "output_type": "stream",
     "text": [
      "(28332, 2)\n"
     ]
    },
    {
     "name": "stderr",
     "output_type": "stream",
     "text": [
      "C:\\Users\\whats\\anaconda3\\envs\\U4-S1-NLP\\lib\\site-packages\\ipykernel\\ipkernel.py:287: DeprecationWarning: `should_run_async` will not call `transform_cell` automatically in the future. Please pass the result to `transformed_cell` argument and any exception that happen during thetransform in `preprocessing_exc_tuple` in IPython 7.17 and above.\n",
      "  and should_run_async(code)\n"
     ]
    },
    {
     "data": {
      "text/html": [
       "<div>\n",
       "<style scoped>\n",
       "    .dataframe tbody tr th:only-of-type {\n",
       "        vertical-align: middle;\n",
       "    }\n",
       "\n",
       "    .dataframe tbody tr th {\n",
       "        vertical-align: top;\n",
       "    }\n",
       "\n",
       "    .dataframe thead th {\n",
       "        text-align: right;\n",
       "    }\n",
       "</style>\n",
       "<table border=\"1\" class=\"dataframe\">\n",
       "  <thead>\n",
       "    <tr style=\"text-align: right;\">\n",
       "      <th></th>\n",
       "      <th>reviews.text</th>\n",
       "      <th>reviews.rating</th>\n",
       "    </tr>\n",
       "  </thead>\n",
       "  <tbody>\n",
       "    <tr>\n",
       "      <th>0</th>\n",
       "      <td>I order 3 of them and one of the item is bad quality. Is missing backup spring so I have to put a pcs of aluminum to make the battery work.</td>\n",
       "      <td>3</td>\n",
       "    </tr>\n",
       "    <tr>\n",
       "      <th>1</th>\n",
       "      <td>Bulk is always the less expensive way to go for products like these</td>\n",
       "      <td>4</td>\n",
       "    </tr>\n",
       "    <tr>\n",
       "      <th>2</th>\n",
       "      <td>Well they are not Duracell but for the price i am happy.</td>\n",
       "      <td>5</td>\n",
       "    </tr>\n",
       "    <tr>\n",
       "      <th>3</th>\n",
       "      <td>Seem to work as well as name brand batteries at a much better price</td>\n",
       "      <td>5</td>\n",
       "    </tr>\n",
       "    <tr>\n",
       "      <th>4</th>\n",
       "      <td>These batteries are very long lasting the price is great.</td>\n",
       "      <td>5</td>\n",
       "    </tr>\n",
       "  </tbody>\n",
       "</table>\n",
       "</div>"
      ],
      "text/plain": [
       "                                                                                                                                  reviews.text  \\\n",
       "0  I order 3 of them and one of the item is bad quality. Is missing backup spring so I have to put a pcs of aluminum to make the battery work.   \n",
       "1                                                                          Bulk is always the less expensive way to go for products like these   \n",
       "2                                                                                     Well they are not Duracell but for the price i am happy.   \n",
       "3                                                                          Seem to work as well as name brand batteries at a much better price   \n",
       "4                                                                                    These batteries are very long lasting the price is great.   \n",
       "\n",
       "   reviews.rating  \n",
       "0               3  \n",
       "1               4  \n",
       "2               5  \n",
       "3               5  \n",
       "4               5  "
      ]
     },
     "execution_count": 10,
     "metadata": {},
     "output_type": "execute_result"
    }
   ],
   "source": [
    "pd.set_option('display.max_colwidth',300)\n",
    "print(df.shape)\n",
    "df.head()"
   ]
  },
  {
   "cell_type": "code",
   "execution_count": 11,
   "metadata": {
    "scrolled": true
   },
   "outputs": [
    {
     "name": "stderr",
     "output_type": "stream",
     "text": [
      "C:\\Users\\whats\\anaconda3\\envs\\U4-S1-NLP\\lib\\site-packages\\ipykernel\\ipkernel.py:287: DeprecationWarning: `should_run_async` will not call `transform_cell` automatically in the future. Please pass the result to `transformed_cell` argument and any exception that happen during thetransform in `preprocessing_exc_tuple` in IPython 7.17 and above.\n",
      "  and should_run_async(code)\n",
      "<>:4: DeprecationWarning: invalid escape sequence \\s\n",
      "<>:7: DeprecationWarning: invalid escape sequence \\S\n",
      "<>:4: DeprecationWarning: invalid escape sequence \\s\n",
      "<>:7: DeprecationWarning: invalid escape sequence \\S\n",
      "<ipython-input-11-de7420d041cc>:4: DeprecationWarning: invalid escape sequence \\s\n",
      "  df['clean_text'] = df['reviews.text'].apply(lambda x: re.sub('\\s+', ' ', x))\n",
      "<ipython-input-11-de7420d041cc>:7: DeprecationWarning: invalid escape sequence \\S\n",
      "  df['clean_text'] = df['clean_text'].apply(lambda x: re.sub('From: \\S+@\\S+', '', x))\n"
     ]
    }
   ],
   "source": [
    "import re\n",
    "# For reference on regex: https://docs.python.org/3/library/re.html\n",
    "# 1. Remove new line characters\n",
    "df['clean_text'] = df['reviews.text'].apply(lambda x: re.sub('\\s+', ' ', x))\n",
    "\n",
    "# 2. Remove Emails\n",
    "df['clean_text'] = df['clean_text'].apply(lambda x: re.sub('From: \\S+@\\S+', '', x))\n",
    "\n",
    "# 3. Remove non-alphanumeric characters\n",
    "df['clean_text'] = df['clean_text'].apply(lambda x: re.sub('[^a-zA-Z]', ' ', x))\n",
    "\n",
    "# 4. Remove extra whitespace and lowercase text\n",
    "df['clean_text'] = df['clean_text'].apply(lambda x: ' '.join(x.lower().split()))"
   ]
  },
  {
   "cell_type": "code",
   "execution_count": 12,
   "metadata": {
    "scrolled": true
   },
   "outputs": [
    {
     "name": "stdout",
     "output_type": "stream",
     "text": [
      "(28332, 3)\n"
     ]
    },
    {
     "name": "stderr",
     "output_type": "stream",
     "text": [
      "C:\\Users\\whats\\anaconda3\\envs\\U4-S1-NLP\\lib\\site-packages\\ipykernel\\ipkernel.py:287: DeprecationWarning: `should_run_async` will not call `transform_cell` automatically in the future. Please pass the result to `transformed_cell` argument and any exception that happen during thetransform in `preprocessing_exc_tuple` in IPython 7.17 and above.\n",
      "  and should_run_async(code)\n"
     ]
    },
    {
     "data": {
      "text/html": [
       "<div>\n",
       "<style scoped>\n",
       "    .dataframe tbody tr th:only-of-type {\n",
       "        vertical-align: middle;\n",
       "    }\n",
       "\n",
       "    .dataframe tbody tr th {\n",
       "        vertical-align: top;\n",
       "    }\n",
       "\n",
       "    .dataframe thead th {\n",
       "        text-align: right;\n",
       "    }\n",
       "</style>\n",
       "<table border=\"1\" class=\"dataframe\">\n",
       "  <thead>\n",
       "    <tr style=\"text-align: right;\">\n",
       "      <th></th>\n",
       "      <th>reviews.text</th>\n",
       "      <th>reviews.rating</th>\n",
       "      <th>clean_text</th>\n",
       "    </tr>\n",
       "  </thead>\n",
       "  <tbody>\n",
       "    <tr>\n",
       "      <th>13126</th>\n",
       "      <td>I bought this game for my son, and he loves it..it is very entertaining.</td>\n",
       "      <td>4</td>\n",
       "      <td>i bought this game for my son and he loves it it is very entertaining</td>\n",
       "    </tr>\n",
       "    <tr>\n",
       "      <th>25333</th>\n",
       "      <td>Tablet is great. I am trying to get my daughter use to the kindle. We started her at 10 months on an Ipad and thought it would be easier to get one her own tablet now that she is almost 2. Not so, she is struggling to navigate in the kindle. I am not able to transfer her games and movies.</td>\n",
       "      <td>3</td>\n",
       "      <td>tablet is great i am trying to get my daughter use to the kindle we started her at months on an ipad and thought it would be easier to get one her own tablet now that she is almost not so she is struggling to navigate in the kindle i am not able to transfer her games and movies</td>\n",
       "    </tr>\n",
       "    <tr>\n",
       "      <th>1128</th>\n",
       "      <td>Good price, good quality and shipping time much less expensive than at the local drugstore. will buy again..</td>\n",
       "      <td>5</td>\n",
       "      <td>good price good quality and shipping time much less expensive than at the local drugstore will buy again</td>\n",
       "    </tr>\n",
       "    <tr>\n",
       "      <th>17002</th>\n",
       "      <td>This is a good product for video, surfing and reading. However this version has dropped all android support as far as I can tell. I have a couple of apps that run on my old Fire just fine but are extremely problematic on this one. There is one app I use everyday but it doesn't work on this new F...</td>\n",
       "      <td>3</td>\n",
       "      <td>this is a good product for video surfing and reading however this version has dropped all android support as far as i can tell i have a couple of apps that run on my old fire just fine but are extremely problematic on this one there is one app i use everyday but it doesn t work on this new fire ...</td>\n",
       "    </tr>\n",
       "    <tr>\n",
       "      <th>14384</th>\n",
       "      <td>Enjoy reading books on it as well as viewing videos.</td>\n",
       "      <td>4</td>\n",
       "      <td>enjoy reading books on it as well as viewing videos</td>\n",
       "    </tr>\n",
       "  </tbody>\n",
       "</table>\n",
       "</div>"
      ],
      "text/plain": [
       "                                                                                                                                                                                                                                                                                                      reviews.text  \\\n",
       "13126                                                                                                                                                                                                                                     I bought this game for my son, and he loves it..it is very entertaining.   \n",
       "25333            Tablet is great. I am trying to get my daughter use to the kindle. We started her at 10 months on an Ipad and thought it would be easier to get one her own tablet now that she is almost 2. Not so, she is struggling to navigate in the kindle. I am not able to transfer her games and movies.   \n",
       "1128                                                                                                                                                                                                  Good price, good quality and shipping time much less expensive than at the local drugstore. will buy again..   \n",
       "17002  This is a good product for video, surfing and reading. However this version has dropped all android support as far as I can tell. I have a couple of apps that run on my old Fire just fine but are extremely problematic on this one. There is one app I use everyday but it doesn't work on this new F...   \n",
       "14384                                                                                                                                                                                                                                                         Enjoy reading books on it as well as viewing videos.   \n",
       "\n",
       "       reviews.rating  \\\n",
       "13126               4   \n",
       "25333               3   \n",
       "1128                5   \n",
       "17002               3   \n",
       "14384               4   \n",
       "\n",
       "                                                                                                                                                                                                                                                                                                        clean_text  \n",
       "13126                                                                                                                                                                                                                                        i bought this game for my son and he loves it it is very entertaining  \n",
       "25333                       tablet is great i am trying to get my daughter use to the kindle we started her at months on an ipad and thought it would be easier to get one her own tablet now that she is almost not so she is struggling to navigate in the kindle i am not able to transfer her games and movies  \n",
       "1128                                                                                                                                                                                                      good price good quality and shipping time much less expensive than at the local drugstore will buy again  \n",
       "17002  this is a good product for video surfing and reading however this version has dropped all android support as far as i can tell i have a couple of apps that run on my old fire just fine but are extremely problematic on this one there is one app i use everyday but it doesn t work on this new fire ...  \n",
       "14384                                                                                                                                                                                                                                                          enjoy reading books on it as well as viewing videos  "
      ]
     },
     "execution_count": 12,
     "metadata": {},
     "output_type": "execute_result"
    }
   ],
   "source": [
    "print(df.shape)\n",
    "df.sample(5)"
   ]
  },
  {
   "cell_type": "code",
   "execution_count": 13,
   "metadata": {
    "scrolled": true
   },
   "outputs": [
    {
     "name": "stderr",
     "output_type": "stream",
     "text": [
      "C:\\Users\\whats\\anaconda3\\envs\\U4-S1-NLP\\lib\\site-packages\\ipykernel\\ipkernel.py:287: DeprecationWarning: `should_run_async` will not call `transform_cell` automatically in the future. Please pass the result to `transformed_cell` argument and any exception that happen during thetransform in `preprocessing_exc_tuple` in IPython 7.17 and above.\n",
      "  and should_run_async(code)\n",
      "100%|██████████████████████████████████████████████████████████████████████████| 28332/28332 [00:07<00:00, 3637.43it/s]\n"
     ]
    },
    {
     "data": {
      "text/html": [
       "<div>\n",
       "<style scoped>\n",
       "    .dataframe tbody tr th:only-of-type {\n",
       "        vertical-align: middle;\n",
       "    }\n",
       "\n",
       "    .dataframe tbody tr th {\n",
       "        vertical-align: top;\n",
       "    }\n",
       "\n",
       "    .dataframe thead th {\n",
       "        text-align: right;\n",
       "    }\n",
       "</style>\n",
       "<table border=\"1\" class=\"dataframe\">\n",
       "  <thead>\n",
       "    <tr style=\"text-align: right;\">\n",
       "      <th></th>\n",
       "      <th>reviews.text</th>\n",
       "      <th>reviews.rating</th>\n",
       "      <th>clean_text</th>\n",
       "      <th>lemmas</th>\n",
       "    </tr>\n",
       "  </thead>\n",
       "  <tbody>\n",
       "    <tr>\n",
       "      <th>0</th>\n",
       "      <td>I order 3 of them and one of the item is bad quality. Is missing backup spring so I have to put a pcs of aluminum to make the battery work.</td>\n",
       "      <td>3</td>\n",
       "      <td>i order of them and one of the item is bad quality is missing backup spring so i have to put a pcs of aluminum to make the battery work</td>\n",
       "      <td>[order, item, bad, quality, miss, backup, spring, pcs, aluminum, battery, work]</td>\n",
       "    </tr>\n",
       "    <tr>\n",
       "      <th>1</th>\n",
       "      <td>Bulk is always the less expensive way to go for products like these</td>\n",
       "      <td>4</td>\n",
       "      <td>bulk is always the less expensive way to go for products like these</td>\n",
       "      <td>[bulk, expensive, way, product, like]</td>\n",
       "    </tr>\n",
       "    <tr>\n",
       "      <th>2</th>\n",
       "      <td>Well they are not Duracell but for the price i am happy.</td>\n",
       "      <td>5</td>\n",
       "      <td>well they are not duracell but for the price i am happy</td>\n",
       "      <td>[duracell, price, happy]</td>\n",
       "    </tr>\n",
       "  </tbody>\n",
       "</table>\n",
       "</div>"
      ],
      "text/plain": [
       "                                                                                                                                  reviews.text  \\\n",
       "0  I order 3 of them and one of the item is bad quality. Is missing backup spring so I have to put a pcs of aluminum to make the battery work.   \n",
       "1                                                                          Bulk is always the less expensive way to go for products like these   \n",
       "2                                                                                     Well they are not Duracell but for the price i am happy.   \n",
       "\n",
       "   reviews.rating  \\\n",
       "0               3   \n",
       "1               4   \n",
       "2               5   \n",
       "\n",
       "                                                                                                                                clean_text  \\\n",
       "0  i order of them and one of the item is bad quality is missing backup spring so i have to put a pcs of aluminum to make the battery work   \n",
       "1                                                                      bulk is always the less expensive way to go for products like these   \n",
       "2                                                                                  well they are not duracell but for the price i am happy   \n",
       "\n",
       "                                                                            lemmas  \n",
       "0  [order, item, bad, quality, miss, backup, spring, pcs, aluminum, battery, work]  \n",
       "1                                            [bulk, expensive, way, product, like]  \n",
       "2                                                         [duracell, price, happy]  "
      ]
     },
     "execution_count": 13,
     "metadata": {},
     "output_type": "execute_result"
    }
   ],
   "source": [
    "# # Leverage tqdm for progress_apply\n",
    "from tqdm import tqdm\n",
    "tqdm.pandas()\n",
    "\n",
    "# Create 'lemmas' column\n",
    "def get_lemmas(x):\n",
    "    lemmas = []\n",
    "    for token in nlp(x):\n",
    "        if (token.is_stop != True) and (token.is_punct != True) and (len(token) > 2):\n",
    "            lemmas.append(token.lemma_)\n",
    "    return lemmas\n",
    "df['lemmas'] = df['clean_text'].progress_apply(get_lemmas)\n",
    "df.head(3)"
   ]
  },
  {
   "cell_type": "code",
   "execution_count": 31,
   "metadata": {},
   "outputs": [
    {
     "name": "stderr",
     "output_type": "stream",
     "text": [
      "C:\\Users\\whats\\anaconda3\\envs\\U4-S1-NLP\\lib\\site-packages\\ipykernel\\ipkernel.py:287: DeprecationWarning: `should_run_async` will not call `transform_cell` automatically in the future. Please pass the result to `transformed_cell` argument and any exception that happen during thetransform in `preprocessing_exc_tuple` in IPython 7.17 and above.\n",
      "  and should_run_async(code)\n"
     ]
    }
   ],
   "source": [
    "from collections import Counter\n",
    "\n",
    "# Introduce count function\n",
    "def count(docs):\n",
    "    '''This function takes a list of tokenized documents as input and returns\n",
    "    a dataframe with frequency counts and rank for each token.\n",
    "    \n",
    "    # Arguments\n",
    "        docs: list, tokenized list of documents\n",
    "        \n",
    "    # Returns\n",
    "        wc: dataframe, \n",
    "    '''\n",
    "    \n",
    "    word_counts = Counter()\n",
    "    appears_in = Counter()\n",
    "\n",
    "    total_docs = len(docs)\n",
    "\n",
    "    for doc in docs:\n",
    "        word_counts.update(doc)\n",
    "        appears_in.update(set(doc))\n",
    "\n",
    "    temp = zip(word_counts.keys(), word_counts.values())\n",
    "\n",
    "    wc = pd.DataFrame(temp, columns = ['word', 'count'])\n",
    "\n",
    "    wc['rank'] = wc['count'].rank(method='first', ascending=False)\n",
    "    total = wc['count'].sum()\n",
    "\n",
    "    wc['pct_total'] = wc['count'].apply(lambda x: x / total)\n",
    "\n",
    "    wc = wc.sort_values(by='rank')\n",
    "    wc['cul_pct_total'] = wc['pct_total'].cumsum()\n",
    "\n",
    "    t2 = zip(appears_in.keys(), appears_in.values())\n",
    "    ac = pd.DataFrame(t2, columns=['word', 'appears_in'])\n",
    "    wc = ac.merge(wc, on='word')\n",
    "\n",
    "    wc['appears_in_pct'] = wc['appears_in'].apply(lambda x: x / total_docs)\n",
    "\n",
    "    return wc.sort_values(by='rank')"
   ]
  },
  {
   "cell_type": "code",
   "execution_count": 33,
   "metadata": {},
   "outputs": [
    {
     "name": "stdout",
     "output_type": "stream",
     "text": [
      "(7036, 7)\n"
     ]
    },
    {
     "name": "stderr",
     "output_type": "stream",
     "text": [
      "C:\\Users\\whats\\anaconda3\\envs\\U4-S1-NLP\\lib\\site-packages\\ipykernel\\ipkernel.py:287: DeprecationWarning: `should_run_async` will not call `transform_cell` automatically in the future. Please pass the result to `transformed_cell` argument and any exception that happen during thetransform in `preprocessing_exc_tuple` in IPython 7.17 and above.\n",
      "  and should_run_async(code)\n"
     ]
    },
    {
     "data": {
      "text/html": [
       "<div>\n",
       "<style scoped>\n",
       "    .dataframe tbody tr th:only-of-type {\n",
       "        vertical-align: middle;\n",
       "    }\n",
       "\n",
       "    .dataframe tbody tr th {\n",
       "        vertical-align: top;\n",
       "    }\n",
       "\n",
       "    .dataframe thead th {\n",
       "        text-align: right;\n",
       "    }\n",
       "</style>\n",
       "<table border=\"1\" class=\"dataframe\">\n",
       "  <thead>\n",
       "    <tr style=\"text-align: right;\">\n",
       "      <th></th>\n",
       "      <th>word</th>\n",
       "      <th>appears_in</th>\n",
       "      <th>count</th>\n",
       "      <th>rank</th>\n",
       "      <th>pct_total</th>\n",
       "      <th>cul_pct_total</th>\n",
       "      <th>appears_in_pct</th>\n",
       "    </tr>\n",
       "  </thead>\n",
       "  <tbody>\n",
       "    <tr>\n",
       "      <th>9</th>\n",
       "      <td>battery</td>\n",
       "      <td>6691</td>\n",
       "      <td>10280</td>\n",
       "      <td>1.0</td>\n",
       "      <td>0.032157</td>\n",
       "      <td>0.032157</td>\n",
       "      <td>0.236164</td>\n",
       "    </tr>\n",
       "    <tr>\n",
       "      <th>23</th>\n",
       "      <td>great</td>\n",
       "      <td>8224</td>\n",
       "      <td>9512</td>\n",
       "      <td>2.0</td>\n",
       "      <td>0.029755</td>\n",
       "      <td>0.061912</td>\n",
       "      <td>0.290272</td>\n",
       "    </tr>\n",
       "    <tr>\n",
       "      <th>3166</th>\n",
       "      <td>tablet</td>\n",
       "      <td>5615</td>\n",
       "      <td>7411</td>\n",
       "      <td>3.0</td>\n",
       "      <td>0.023182</td>\n",
       "      <td>0.085094</td>\n",
       "      <td>0.198186</td>\n",
       "    </tr>\n",
       "    <tr>\n",
       "      <th>86</th>\n",
       "      <td>love</td>\n",
       "      <td>5552</td>\n",
       "      <td>6232</td>\n",
       "      <td>4.0</td>\n",
       "      <td>0.019494</td>\n",
       "      <td>0.104589</td>\n",
       "      <td>0.195962</td>\n",
       "    </tr>\n",
       "    <tr>\n",
       "      <th>39</th>\n",
       "      <td>buy</td>\n",
       "      <td>5141</td>\n",
       "      <td>5994</td>\n",
       "      <td>5.0</td>\n",
       "      <td>0.018750</td>\n",
       "      <td>0.123339</td>\n",
       "      <td>0.181456</td>\n",
       "    </tr>\n",
       "    <tr>\n",
       "      <th>29</th>\n",
       "      <td>good</td>\n",
       "      <td>5224</td>\n",
       "      <td>5907</td>\n",
       "      <td>6.0</td>\n",
       "      <td>0.018478</td>\n",
       "      <td>0.141816</td>\n",
       "      <td>0.184385</td>\n",
       "    </tr>\n",
       "    <tr>\n",
       "      <th>16</th>\n",
       "      <td>price</td>\n",
       "      <td>5160</td>\n",
       "      <td>5495</td>\n",
       "      <td>7.0</td>\n",
       "      <td>0.017189</td>\n",
       "      <td>0.159005</td>\n",
       "      <td>0.182126</td>\n",
       "    </tr>\n",
       "    <tr>\n",
       "      <th>85</th>\n",
       "      <td>use</td>\n",
       "      <td>4261</td>\n",
       "      <td>4866</td>\n",
       "      <td>8.0</td>\n",
       "      <td>0.015221</td>\n",
       "      <td>0.174227</td>\n",
       "      <td>0.150395</td>\n",
       "    </tr>\n",
       "    <tr>\n",
       "      <th>7</th>\n",
       "      <td>work</td>\n",
       "      <td>4254</td>\n",
       "      <td>4635</td>\n",
       "      <td>9.0</td>\n",
       "      <td>0.014499</td>\n",
       "      <td>0.188726</td>\n",
       "      <td>0.150148</td>\n",
       "    </tr>\n",
       "    <tr>\n",
       "      <th>24</th>\n",
       "      <td>amazon</td>\n",
       "      <td>3149</td>\n",
       "      <td>3945</td>\n",
       "      <td>10.0</td>\n",
       "      <td>0.012340</td>\n",
       "      <td>0.201066</td>\n",
       "      <td>0.111146</td>\n",
       "    </tr>\n",
       "    <tr>\n",
       "      <th>28</th>\n",
       "      <td>easy</td>\n",
       "      <td>2941</td>\n",
       "      <td>3265</td>\n",
       "      <td>11.0</td>\n",
       "      <td>0.010213</td>\n",
       "      <td>0.211279</td>\n",
       "      <td>0.103805</td>\n",
       "    </tr>\n",
       "    <tr>\n",
       "      <th>2424</th>\n",
       "      <td>kindle</td>\n",
       "      <td>2328</td>\n",
       "      <td>3088</td>\n",
       "      <td>12.0</td>\n",
       "      <td>0.009660</td>\n",
       "      <td>0.220939</td>\n",
       "      <td>0.082169</td>\n",
       "    </tr>\n",
       "    <tr>\n",
       "      <th>169</th>\n",
       "      <td>kid</td>\n",
       "      <td>2441</td>\n",
       "      <td>3018</td>\n",
       "      <td>13.0</td>\n",
       "      <td>0.009441</td>\n",
       "      <td>0.230380</td>\n",
       "      <td>0.086157</td>\n",
       "    </tr>\n",
       "    <tr>\n",
       "      <th>22</th>\n",
       "      <td>long</td>\n",
       "      <td>2729</td>\n",
       "      <td>3008</td>\n",
       "      <td>14.0</td>\n",
       "      <td>0.009409</td>\n",
       "      <td>0.239789</td>\n",
       "      <td>0.096322</td>\n",
       "    </tr>\n",
       "    <tr>\n",
       "      <th>12</th>\n",
       "      <td>like</td>\n",
       "      <td>2483</td>\n",
       "      <td>2850</td>\n",
       "      <td>15.0</td>\n",
       "      <td>0.008915</td>\n",
       "      <td>0.248704</td>\n",
       "      <td>0.087639</td>\n",
       "    </tr>\n",
       "    <tr>\n",
       "      <th>19</th>\n",
       "      <td>well</td>\n",
       "      <td>2504</td>\n",
       "      <td>2825</td>\n",
       "      <td>16.0</td>\n",
       "      <td>0.008837</td>\n",
       "      <td>0.257541</td>\n",
       "      <td>0.088381</td>\n",
       "    </tr>\n",
       "    <tr>\n",
       "      <th>37</th>\n",
       "      <td>purchase</td>\n",
       "      <td>2282</td>\n",
       "      <td>2567</td>\n",
       "      <td>17.0</td>\n",
       "      <td>0.008030</td>\n",
       "      <td>0.265571</td>\n",
       "      <td>0.080545</td>\n",
       "    </tr>\n",
       "    <tr>\n",
       "      <th>149</th>\n",
       "      <td>time</td>\n",
       "      <td>2163</td>\n",
       "      <td>2477</td>\n",
       "      <td>18.0</td>\n",
       "      <td>0.007748</td>\n",
       "      <td>0.273319</td>\n",
       "      <td>0.076345</td>\n",
       "    </tr>\n",
       "    <tr>\n",
       "      <th>504</th>\n",
       "      <td>old</td>\n",
       "      <td>2235</td>\n",
       "      <td>2477</td>\n",
       "      <td>19.0</td>\n",
       "      <td>0.007748</td>\n",
       "      <td>0.281068</td>\n",
       "      <td>0.078886</td>\n",
       "    </tr>\n",
       "    <tr>\n",
       "      <th>15</th>\n",
       "      <td>product</td>\n",
       "      <td>2207</td>\n",
       "      <td>2429</td>\n",
       "      <td>20.0</td>\n",
       "      <td>0.007598</td>\n",
       "      <td>0.288666</td>\n",
       "      <td>0.077898</td>\n",
       "    </tr>\n",
       "    <tr>\n",
       "      <th>766</th>\n",
       "      <td>read</td>\n",
       "      <td>2001</td>\n",
       "      <td>2409</td>\n",
       "      <td>21.0</td>\n",
       "      <td>0.007536</td>\n",
       "      <td>0.296202</td>\n",
       "      <td>0.070627</td>\n",
       "    </tr>\n",
       "    <tr>\n",
       "      <th>92</th>\n",
       "      <td>year</td>\n",
       "      <td>2060</td>\n",
       "      <td>2346</td>\n",
       "      <td>22.0</td>\n",
       "      <td>0.007339</td>\n",
       "      <td>0.303540</td>\n",
       "      <td>0.072709</td>\n",
       "    </tr>\n",
       "    <tr>\n",
       "      <th>20</th>\n",
       "      <td>brand</td>\n",
       "      <td>2000</td>\n",
       "      <td>2308</td>\n",
       "      <td>23.0</td>\n",
       "      <td>0.007220</td>\n",
       "      <td>0.310760</td>\n",
       "      <td>0.070592</td>\n",
       "    </tr>\n",
       "    <tr>\n",
       "      <th>1588</th>\n",
       "      <td>app</td>\n",
       "      <td>1794</td>\n",
       "      <td>2306</td>\n",
       "      <td>24.0</td>\n",
       "      <td>0.007213</td>\n",
       "      <td>0.317973</td>\n",
       "      <td>0.063321</td>\n",
       "    </tr>\n",
       "    <tr>\n",
       "      <th>783</th>\n",
       "      <td>fire</td>\n",
       "      <td>1894</td>\n",
       "      <td>2250</td>\n",
       "      <td>25.0</td>\n",
       "      <td>0.007038</td>\n",
       "      <td>0.325011</td>\n",
       "      <td>0.066850</td>\n",
       "    </tr>\n",
       "    <tr>\n",
       "      <th>163</th>\n",
       "      <td>game</td>\n",
       "      <td>1767</td>\n",
       "      <td>1944</td>\n",
       "      <td>26.0</td>\n",
       "      <td>0.006081</td>\n",
       "      <td>0.331093</td>\n",
       "      <td>0.062368</td>\n",
       "    </tr>\n",
       "    <tr>\n",
       "      <th>75</th>\n",
       "      <td>get</td>\n",
       "      <td>1751</td>\n",
       "      <td>1915</td>\n",
       "      <td>27.0</td>\n",
       "      <td>0.005990</td>\n",
       "      <td>0.337083</td>\n",
       "      <td>0.061803</td>\n",
       "    </tr>\n",
       "    <tr>\n",
       "      <th>95</th>\n",
       "      <td>need</td>\n",
       "      <td>1666</td>\n",
       "      <td>1850</td>\n",
       "      <td>28.0</td>\n",
       "      <td>0.005787</td>\n",
       "      <td>0.342870</td>\n",
       "      <td>0.058803</td>\n",
       "    </tr>\n",
       "    <tr>\n",
       "      <th>1257</th>\n",
       "      <td>book</td>\n",
       "      <td>1496</td>\n",
       "      <td>1792</td>\n",
       "      <td>29.0</td>\n",
       "      <td>0.005606</td>\n",
       "      <td>0.348476</td>\n",
       "      <td>0.052802</td>\n",
       "    </tr>\n",
       "    <tr>\n",
       "      <th>391</th>\n",
       "      <td>play</td>\n",
       "      <td>1560</td>\n",
       "      <td>1752</td>\n",
       "      <td>30.0</td>\n",
       "      <td>0.005480</td>\n",
       "      <td>0.353956</td>\n",
       "      <td>0.055061</td>\n",
       "    </tr>\n",
       "  </tbody>\n",
       "</table>\n",
       "</div>"
      ],
      "text/plain": [
       "          word  appears_in  count  rank  pct_total  cul_pct_total  \\\n",
       "9      battery        6691  10280   1.0   0.032157       0.032157   \n",
       "23       great        8224   9512   2.0   0.029755       0.061912   \n",
       "3166    tablet        5615   7411   3.0   0.023182       0.085094   \n",
       "86        love        5552   6232   4.0   0.019494       0.104589   \n",
       "39         buy        5141   5994   5.0   0.018750       0.123339   \n",
       "29        good        5224   5907   6.0   0.018478       0.141816   \n",
       "16       price        5160   5495   7.0   0.017189       0.159005   \n",
       "85         use        4261   4866   8.0   0.015221       0.174227   \n",
       "7         work        4254   4635   9.0   0.014499       0.188726   \n",
       "24      amazon        3149   3945  10.0   0.012340       0.201066   \n",
       "28        easy        2941   3265  11.0   0.010213       0.211279   \n",
       "2424    kindle        2328   3088  12.0   0.009660       0.220939   \n",
       "169        kid        2441   3018  13.0   0.009441       0.230380   \n",
       "22        long        2729   3008  14.0   0.009409       0.239789   \n",
       "12        like        2483   2850  15.0   0.008915       0.248704   \n",
       "19        well        2504   2825  16.0   0.008837       0.257541   \n",
       "37    purchase        2282   2567  17.0   0.008030       0.265571   \n",
       "149       time        2163   2477  18.0   0.007748       0.273319   \n",
       "504        old        2235   2477  19.0   0.007748       0.281068   \n",
       "15     product        2207   2429  20.0   0.007598       0.288666   \n",
       "766       read        2001   2409  21.0   0.007536       0.296202   \n",
       "92        year        2060   2346  22.0   0.007339       0.303540   \n",
       "20       brand        2000   2308  23.0   0.007220       0.310760   \n",
       "1588       app        1794   2306  24.0   0.007213       0.317973   \n",
       "783       fire        1894   2250  25.0   0.007038       0.325011   \n",
       "163       game        1767   1944  26.0   0.006081       0.331093   \n",
       "75         get        1751   1915  27.0   0.005990       0.337083   \n",
       "95        need        1666   1850  28.0   0.005787       0.342870   \n",
       "1257      book        1496   1792  29.0   0.005606       0.348476   \n",
       "391       play        1560   1752  30.0   0.005480       0.353956   \n",
       "\n",
       "      appears_in_pct  \n",
       "9           0.236164  \n",
       "23          0.290272  \n",
       "3166        0.198186  \n",
       "86          0.195962  \n",
       "39          0.181456  \n",
       "29          0.184385  \n",
       "16          0.182126  \n",
       "85          0.150395  \n",
       "7           0.150148  \n",
       "24          0.111146  \n",
       "28          0.103805  \n",
       "2424        0.082169  \n",
       "169         0.086157  \n",
       "22          0.096322  \n",
       "12          0.087639  \n",
       "19          0.088381  \n",
       "37          0.080545  \n",
       "149         0.076345  \n",
       "504         0.078886  \n",
       "15          0.077898  \n",
       "766         0.070627  \n",
       "92          0.072709  \n",
       "20          0.070592  \n",
       "1588        0.063321  \n",
       "783         0.066850  \n",
       "163         0.062368  \n",
       "75          0.061803  \n",
       "95          0.058803  \n",
       "1257        0.052802  \n",
       "391         0.055061  "
      ]
     },
     "execution_count": 33,
     "metadata": {},
     "output_type": "execute_result"
    }
   ],
   "source": [
    "# Use the Function\n",
    "wc = count(df['lemmas'])\n",
    "print(wc.shape)\n",
    "wc.head(30)"
   ]
  },
  {
   "cell_type": "code",
   "execution_count": 50,
   "metadata": {},
   "outputs": [
    {
     "name": "stderr",
     "output_type": "stream",
     "text": [
      "C:\\Users\\whats\\anaconda3\\envs\\U4-S1-NLP\\lib\\site-packages\\ipykernel\\ipkernel.py:287: DeprecationWarning: `should_run_async` will not call `transform_cell` automatically in the future. Please pass the result to `transformed_cell` argument and any exception that happen during thetransform in `preprocessing_exc_tuple` in IPython 7.17 and above.\n",
      "  and should_run_async(code)\n"
     ]
    },
    {
     "data": {
      "text/plain": [
       "0    order item bad quality miss backup spring pcs aluminum battery work\n",
       "1                                        bulk expensive way product like\n",
       "2                                                   duracell price happy\n",
       "3                                          work brand battery well price\n",
       "4                                          battery long last price great\n",
       "Name: lem_string, dtype: object"
      ]
     },
     "execution_count": 50,
     "metadata": {},
     "output_type": "execute_result"
    }
   ],
   "source": [
    "# SpaCy Tokenizer requires a string, lemmas is a list\n",
    "# prepare to add custom stop words\n",
    "df['lem_string'] = df['lemmas'].apply(lambda x: ' '.join(map(str, x)))\n",
    "df['lem_string'].head()"
   ]
  },
  {
   "cell_type": "code",
   "execution_count": 51,
   "metadata": {},
   "outputs": [
    {
     "name": "stderr",
     "output_type": "stream",
     "text": [
      "C:\\Users\\whats\\anaconda3\\envs\\U4-S1-NLP\\lib\\site-packages\\ipykernel\\ipkernel.py:287: DeprecationWarning: `should_run_async` will not call `transform_cell` automatically in the future. Please pass the result to `transformed_cell` argument and any exception that happen during thetransform in `preprocessing_exc_tuple` in IPython 7.17 and above.\n",
      "  and should_run_async(code)\n"
     ]
    },
    {
     "data": {
      "text/plain": [
       "0    [order, bad, quality, miss, backup, spring, pcs, aluminum, battery, work]\n",
       "1                                                 [bulk, expensive, way, like]\n",
       "2                                                     [duracell, price, happy]\n",
       "3                                          [work, brand, battery, well, price]\n",
       "4                                          [battery, long, last, price, great]\n",
       "Name: lemmas_refined, dtype: object"
      ]
     },
     "execution_count": 51,
     "metadata": {},
     "output_type": "execute_result"
    }
   ],
   "source": [
    "STOP_WORDS = ['get', 'buy', 'purchase', 'use', 'product', 'item']\n",
    "tokens = []\n",
    "for doc in tokenizer.pipe(df['lem_string'], batch_size=500):\n",
    "    \n",
    "    doc_tokens = []\n",
    "    for token in doc:\n",
    "        if (token.is_alpha == True)& (token.text.lower() not in STOP_WORDS):\n",
    "            doc_tokens.append(token.text.lower())\n",
    "   \n",
    "    tokens.append(doc_tokens)\n",
    "    \n",
    "df['lemmas_refined'] = tokens\n",
    "df['lemmas_refined'].head()"
   ]
  },
  {
   "cell_type": "code",
   "execution_count": 52,
   "metadata": {
    "scrolled": true
   },
   "outputs": [
    {
     "name": "stderr",
     "output_type": "stream",
     "text": [
      "C:\\Users\\whats\\anaconda3\\envs\\U4-S1-NLP\\lib\\site-packages\\ipykernel\\ipkernel.py:287: DeprecationWarning: `should_run_async` will not call `transform_cell` automatically in the future. Please pass the result to `transformed_cell` argument and any exception that happen during thetransform in `preprocessing_exc_tuple` in IPython 7.17 and above.\n",
      "  and should_run_async(code)\n"
     ]
    }
   ],
   "source": [
    "# Create Dictionary\n",
    "id2word = corpora.Dictionary(df['lemmas_refined'])\n",
    "\n",
    "# Term Document Frequency\n",
    "corpus = [id2word.doc2bow(text) for text in df['lemmas_refined']]"
   ]
  },
  {
   "cell_type": "code",
   "execution_count": 53,
   "metadata": {
    "scrolled": true
   },
   "outputs": [
    {
     "name": "stderr",
     "output_type": "stream",
     "text": [
      "C:\\Users\\whats\\anaconda3\\envs\\U4-S1-NLP\\lib\\site-packages\\ipykernel\\ipkernel.py:287: DeprecationWarning: `should_run_async` will not call `transform_cell` automatically in the future. Please pass the result to `transformed_cell` argument and any exception that happen during thetransform in `preprocessing_exc_tuple` in IPython 7.17 and above.\n",
      "  and should_run_async(code)\n"
     ]
    },
    {
     "data": {
      "text/plain": [
       "7023"
      ]
     },
     "execution_count": 53,
     "metadata": {},
     "output_type": "execute_result"
    }
   ],
   "source": [
    "# How many words in our vocab?\n",
    "len(id2word.keys())"
   ]
  },
  {
   "cell_type": "code",
   "execution_count": 67,
   "metadata": {
    "scrolled": true
   },
   "outputs": [
    {
     "name": "stderr",
     "output_type": "stream",
     "text": [
      "C:\\Users\\whats\\anaconda3\\envs\\U4-S1-NLP\\lib\\site-packages\\ipykernel\\ipkernel.py:287: DeprecationWarning: `should_run_async` will not call `transform_cell` automatically in the future. Please pass the result to `transformed_cell` argument and any exception that happen during thetransform in `preprocessing_exc_tuple` in IPython 7.17 and above.\n",
      "  and should_run_async(code)\n"
     ]
    },
    {
     "data": {
      "text/plain": [
       "[('order', 1),\n",
       " ('good', 1),\n",
       " ('year', 1),\n",
       " ('time', 1),\n",
       " ('chance', 1),\n",
       " ('hopefully', 1),\n",
       " ('mean', 1),\n",
       " ('reasonable', 1),\n",
       " ('remain', 1)]"
      ]
     },
     "execution_count": 67,
     "metadata": {},
     "output_type": "execute_result"
    }
   ],
   "source": [
    "# Human readable format of corpus (term-frequency)\n",
    "[(id2word[word_id], word_count) for word_id, word_count in corpus[28]]"
   ]
  },
  {
   "cell_type": "code",
   "execution_count": 75,
   "metadata": {
    "scrolled": true
   },
   "outputs": [
    {
     "name": "stdout",
     "output_type": "stream",
     "text": [
      "Wall time: 1min 48s\n"
     ]
    }
   ],
   "source": [
    "%%time\n",
    "lda_multicore = gensim.models.ldamulticore.LdaMulticore(corpus=corpus,\n",
    "                                                        id2word=id2word,\n",
    "                                                        num_topics=4, \n",
    "                                                        chunksize=100,\n",
    "                                                        passes=10,\n",
    "                                                        per_word_topics=True,\n",
    "                                                        workers=3)\n"
   ]
  },
  {
   "cell_type": "code",
   "execution_count": 76,
   "metadata": {
    "scrolled": true
   },
   "outputs": [],
   "source": [
    "#below is essentially the same as pickling\n",
    "lda_multicore.save('lda_multicore.model')"
   ]
  },
  {
   "cell_type": "code",
   "execution_count": 77,
   "metadata": {
    "scrolled": true
   },
   "outputs": [],
   "source": [
    "lda_multicore =  models.LdaModel.load('lda_multicore.model')"
   ]
  },
  {
   "cell_type": "code",
   "execution_count": 78,
   "metadata": {
    "scrolled": true
   },
   "outputs": [
    {
     "name": "stdout",
     "output_type": "stream",
     "text": [
      "[(0,\n",
      "  '0.241*\"great\" + 0.119*\"good\" + 0.100*\"price\" + 0.060*\"work\" + 0.024*\"nice\" '\n",
      "  '+ 0.020*\"quality\" + 0.019*\"fast\" + 0.018*\"recommend\" + 0.015*\"value\" + '\n",
      "  '0.014*\"well\"'),\n",
      " (1,\n",
      "  '0.035*\"battery\" + 0.029*\"amazon\" + 0.025*\"long\" + 0.023*\"store\" + '\n",
      "  '0.017*\"work\" + 0.016*\"well\" + 0.015*\"don\" + 0.013*\"excellent\" + '\n",
      "  '0.013*\"life\" + 0.012*\"time\"'),\n",
      " (2,\n",
      "  '0.066*\"love\" + 0.062*\"tablet\" + 0.033*\"kid\" + 0.030*\"old\" + 0.029*\"fire\" + '\n",
      "  '0.025*\"year\" + 0.021*\"easy\" + 0.020*\"kindle\" + 0.018*\"game\" + 0.014*\"play\"'),\n",
      " (3,\n",
      "  '0.040*\"tablet\" + 0.035*\"app\" + 0.034*\"read\" + 0.027*\"book\" + 0.024*\"screen\" '\n",
      "  '+ 0.020*\"kindle\" + 0.019*\"easy\" + 0.016*\"amazon\" + 0.015*\"perfect\" + '\n",
      "  '0.014*\"like\"')]\n"
     ]
    }
   ],
   "source": [
    "pprint(lda_multicore.print_topics())"
   ]
  },
  {
   "cell_type": "code",
   "execution_count": 79,
   "metadata": {
    "scrolled": true
   },
   "outputs": [
    {
     "name": "stdout",
     "output_type": "stream",
     "text": [
      "\n",
      "Perplexity:  -6.497188231143978\n",
      "\n",
      "Coherence Score:  0.5557231357934463\n"
     ]
    }
   ],
   "source": [
    "# Compute Perplexity\n",
    "print('\\nPerplexity: ', lda_multicore.log_perplexity(corpus))  # a measure of how good the model is. lower the better.\n",
    "\n",
    "# Compute Coherence Score\n",
    "coherence_model_lda = CoherenceModel(model=lda_multicore, \n",
    "                                     texts=df['lemmas_refined'], \n",
    "                                     dictionary=id2word, \n",
    "                                     coherence='c_v')\n",
    "coherence_lda = coherence_model_lda.get_coherence()\n",
    "print('\\nCoherence Score: ', coherence_lda)"
   ]
  },
  {
   "cell_type": "code",
   "execution_count": 80,
   "metadata": {
    "scrolled": false
   },
   "outputs": [
    {
     "data": {
      "text/html": [
       "\n",
       "<link rel=\"stylesheet\" type=\"text/css\" href=\"https://cdn.rawgit.com/bmabey/pyLDAvis/files/ldavis.v1.0.0.css\">\n",
       "\n",
       "\n",
       "<div id=\"ldavis_el822419285956459361993621225\"></div>\n",
       "<script type=\"text/javascript\">\n",
       "\n",
       "var ldavis_el822419285956459361993621225_data = {\"mdsDat\": {\"x\": [-0.17298372843131332, 0.08779337789621279, -0.24924662178492876, 0.3344369723200289], \"y\": [-0.17401589501478204, -0.16670652816408832, 0.22172349200431188, 0.11899893117455865], \"topics\": [1, 2, 3, 4], \"cluster\": [1, 1, 1, 1], \"Freq\": [29.896529308430914, 29.551725146851254, 25.922670325168284, 14.629075219549545]}, \"tinfo\": {\"Term\": [\"great\", \"good\", \"price\", \"love\", \"work\", \"tablet\", \"app\", \"read\", \"kid\", \"old\", \"fire\", \"battery\", \"book\", \"year\", \"long\", \"screen\", \"store\", \"easy\", \"kindle\", \"nice\", \"quality\", \"perfect\", \"fast\", \"excellent\", \"game\", \"gift\", \"amazon\", \"download\", \"don\", \"value\", \"kid\", \"old\", \"fire\", \"year\", \"gift\", \"daughter\", \"son\", \"child\", \"christmas\", \"set\", \"learn\", \"control\", \"grandson\", \"wife\", \"parental\", \"granddaughter\", \"friendly\", \"user\", \"replace\", \"age\", \"break\", \"drop\", \"warranty\", \"version\", \"netflix\", \"mom\", \"hour\", \"educational\", \"young\", \"content\", \"love\", \"clear\", \"help\", \"game\", \"tablet\", \"able\", \"play\", \"easy\", \"new\", \"kindle\", \"enjoy\", \"case\", \"time\", \"free\", \"like\", \"well\", \"lot\", \"happy\", \"want\", \"amazon\", \"store\", \"excellent\", \"basic\", \"cost\", \"compare\", \"order\", \"last\", \"tell\", \"let\", \"stuff\", \"power\", \"offer\", \"bad\", \"surprise\", \"bring\", \"difference\", \"box\", \"impress\", \"dollar\", \"convenient\", \"believe\", \"huge\", \"customer\", \"everyday\", \"handy\", \"house\", \"long\", \"line\", \"market\", \"require\", \"brand\", \"unit\", \"haven\", \"expensive\", \"battery\", \"don\", \"issue\", \"review\", \"run\", \"life\", \"know\", \"amazon\", \"try\", \"bite\", \"charge\", \"think\", \"well\", \"didn\", \"work\", \"time\", \"cheap\", \"come\", \"like\", \"find\", \"go\", \"need\", \"far\", \"money\", \"device\", \"app\", \"read\", \"book\", \"screen\", \"perfect\", \"download\", \"internet\", \"google\", \"reader\", \"music\", \"load\", \"web\", \"phone\", \"android\", \"memory\", \"add\", \"travel\", \"black\", \"email\", \"slow\", \"model\", \"wifi\", \"surf\", \"allow\", \"cover\", \"friday\", \"movie\", \"sound\", \"please\", \"install\", \"fit\", \"size\", \"account\", \"light\", \"need\", \"small\", \"tablet\", \"kindle\", \"easy\", \"want\", \"like\", \"device\", \"amazon\", \"watch\", \"look\", \"feature\", \"ipad\", \"play\", \"little\", \"well\", \"game\", \"great\", \"value\", \"deal\", \"good\", \"decent\", \"satisfy\", \"exactly\", \"advertise\", \"reasonable\", \"powerful\", \"pass\", \"guy\", \"lol\", \"xmas\", \"describe\", \"teen\", \"recipient\", \"reasonably\", \"intend\", \"speedy\", \"unbelievable\", \"grandma\", \"penny\", \"chromecast\", \"overpriced\", \"delight\", \"darn\", \"promise\", \"kiddos\", \"noticeable\", \"price\", \"dad\", \"beat\", \"affordable\", \"quality\", \"fast\", \"work\", \"nice\", \"beginner\", \"recommend\", \"expect\", \"picture\", \"highly\", \"sale\", \"job\", \"complaint\", \"money\", \"definitely\", \"far\", \"pretty\", \"well\", \"camera\", \"cheap\", \"battery\", \"happy\", \"worth\", \"awesome\", \"life\", \"lot\"], \"Freq\": [10625.0, 5257.0, 4595.0, 5989.0, 4137.0, 8687.0, 2736.0, 2686.0, 2991.0, 2673.0, 2570.0, 3555.0, 2084.0, 2285.0, 2188.0, 1876.0, 2017.0, 3373.0, 3321.0, 1525.0, 1224.0, 1145.0, 1129.0, 1199.0, 2078.0, 1202.0, 4375.0, 1001.0, 1593.0, 660.0, 2990.5589855076896, 2672.8790151025096, 2569.3949101341213, 2284.64606556181, 1201.23156756494, 1048.9879807159116, 1032.837250283113, 964.9395232307637, 899.6160147210805, 853.0135166383579, 713.5051844787125, 561.685871482398, 550.8385223090713, 483.8177088912716, 459.82599877753495, 450.7964154373249, 426.2882526760916, 438.9770408730135, 425.24160436078506, 360.8901631415387, 351.7530239075981, 325.7922280892182, 307.2515948038668, 345.83881148460756, 336.261267108866, 280.89384357559044, 278.452718642755, 261.1039781236712, 262.3286153118129, 258.593321049953, 5955.490925283291, 283.84480104247916, 311.796533129811, 1649.38517505639, 5556.919872510987, 533.0747048670258, 1215.124336520082, 1900.9796535146502, 749.281450712004, 1758.4345328603376, 655.2971247361224, 595.6317182480162, 1109.7549238016722, 518.6899106450047, 757.7858663186651, 723.4027568701591, 558.8949489730879, 507.14799425298946, 503.9441526425046, 515.5686109553026, 2017.0155740956484, 1198.8997025810295, 754.567741920735, 575.493966871268, 539.1372392680073, 480.9201220746308, 529.1648772841065, 476.7403976269296, 423.9377879240977, 401.19448745629546, 380.70994453832213, 507.02285742997583, 341.3796362173265, 348.7808588475262, 333.8607708275776, 294.02197492328185, 269.63645939465897, 274.0196617081108, 261.70718001943163, 284.70910404365145, 256.1600992237236, 276.30343465197853, 257.24665363202166, 278.9208980424885, 235.4464832189465, 229.41508120156374, 2181.8897168983535, 222.65560282737994, 237.3805997651754, 211.4005392395379, 634.4995659714552, 397.34075003919145, 409.0971154969797, 557.4165343863147, 3080.9658404092897, 1366.8470942235801, 899.7970969868142, 497.2867749543404, 616.2727451979282, 1143.1779951916847, 735.0976477802288, 2592.61631196995, 561.9034429028684, 426.42230526350653, 818.971944684793, 657.4887959256868, 1411.9975611558398, 494.42918034754257, 1492.35429606286, 1060.9963790062798, 599.0636450828769, 638.2418523531969, 975.056406947598, 587.2736910744833, 573.0052664941142, 674.0019793751146, 589.406626162242, 521.5185327836757, 528.439306608331, 2735.351786265652, 2685.824187374903, 2083.3274339822624, 1875.4202475431919, 1144.521083970606, 1000.5196657624849, 572.473327730913, 561.2073451948661, 546.2368852603895, 403.82927116015736, 403.5715813371061, 371.30109896516547, 377.1472392803962, 383.1814608326121, 380.42454666057756, 362.24141070010086, 342.1863632589089, 353.2882061332406, 324.8884479707099, 364.47066563204015, 319.7916172001614, 286.4993672505521, 276.5829048282879, 278.0453390785492, 269.1354763922613, 280.864359658663, 860.6546542219684, 262.2056437420814, 257.2959677894447, 247.65310780019882, 250.34273851639088, 1040.307657448595, 301.6419594818871, 750.8362106549353, 1085.2867203396245, 499.5594600617329, 3129.65986714154, 1562.6334121127584, 1471.831845342125, 766.8357950244283, 1107.208556709008, 744.0014903629603, 1267.0208604369213, 596.4613329451532, 567.7231230144645, 499.57341084307393, 511.2566815939193, 633.673552635703, 487.7307233512799, 576.6383262342345, 428.0199260054395, 10624.832035340685, 659.7317800580734, 590.0132053480661, 5250.239328319113, 312.83771385808063, 245.58231651977204, 176.0301801938589, 154.48644537249666, 112.14430928436255, 117.44727238910804, 84.81338083779033, 80.31959059762208, 76.85486645669542, 63.842303335438714, 58.088461969569124, 56.02117545493688, 53.71954664784398, 49.34737144645993, 51.06657867235633, 49.14281399786386, 48.76322766468891, 43.26573277897756, 39.66194863005432, 34.98701466814827, 35.064711029483895, 39.59185609179099, 33.76586682328193, 33.462159827324555, 28.523734303114814, 30.141418830263, 4400.802767467335, 152.38752367350162, 493.5641504971491, 225.55880299959253, 888.0637975375527, 822.8988441608872, 2644.9472773643847, 1040.1970916024354, 160.93702963389, 803.6224171494542, 401.3855790041687, 367.74009451360496, 256.75751202869105, 282.10658228496266, 167.87274139521372, 187.52802177945802, 448.3137404495495, 264.5110845414188, 489.9191539859658, 263.5001528041791, 617.7103730733608, 238.14269707130063, 301.0167341384944, 474.36145007221563, 260.68222261651835, 229.5829911729858, 215.88801119967488, 258.3526183012835, 232.4035866710595], \"Total\": [10625.0, 5257.0, 4595.0, 5989.0, 4137.0, 8687.0, 2736.0, 2686.0, 2991.0, 2673.0, 2570.0, 3555.0, 2084.0, 2285.0, 2188.0, 1876.0, 2017.0, 3373.0, 3321.0, 1525.0, 1224.0, 1145.0, 1129.0, 1199.0, 2078.0, 1202.0, 4375.0, 1001.0, 1593.0, 660.0, 2991.46983721696, 2673.7834926533515, 2570.3778251391113, 2285.54795882202, 1202.1621177101695, 1049.8909199768023, 1033.7443096380384, 965.8533983347182, 900.5256956383001, 853.9314412774697, 714.4066024677738, 562.5965617050605, 551.9031406133644, 484.75287638060223, 460.721032878002, 451.6887198167722, 427.19277550820027, 439.9157633886164, 426.17713577922495, 361.7887383255814, 352.6661028410413, 326.71012273551486, 308.1572580730097, 346.8796174479985, 337.28970084242667, 281.8077094333287, 279.40504159591165, 261.997718099431, 263.23549240999756, 259.5275675485686, 5989.182190205773, 285.0088538242331, 319.1423967971055, 2078.1445952743948, 8687.375935091553, 601.5683186801864, 1849.5364332747076, 3373.5573752410255, 1019.0827815201059, 3321.8133011306636, 852.1604588785503, 801.9395843626614, 2344.438888049847, 687.2210721689286, 2844.2328999893534, 3329.7490173335937, 1269.4257933173396, 874.8613611439648, 1271.5342994888306, 4375.495854608435, 2017.6686302262192, 1199.5699854062436, 755.2176938637657, 576.1370237902795, 539.7750746513501, 481.54029324724996, 529.8700316301665, 477.38008930693127, 424.6262238718315, 401.8558793632483, 381.33848989718695, 507.9120226571245, 342.011305455724, 349.43991632651307, 334.59822820650595, 294.6765342947975, 270.250569825726, 274.6860946631105, 262.3444495465395, 285.4056690985379, 256.7987953820567, 276.99326487539014, 257.9008578529731, 279.6562522035056, 236.08521325576362, 230.04466898271403, 2188.1606709464086, 223.30297040028267, 238.108053744202, 212.04847214313722, 639.2850719577884, 401.26680429572275, 416.6224860704995, 576.0597910889809, 3555.664156592126, 1593.0480556798852, 1015.9303044997675, 539.4781355045451, 690.4148755812404, 1401.8837971194525, 879.5989254701017, 4375.495854608435, 695.8065526272994, 493.39550839629004, 1286.2122631732357, 950.0658152721879, 3329.7490173335937, 616.0989765319932, 4137.654730597587, 2344.438888049847, 900.4339887895005, 1099.715352717292, 2844.2328999893534, 955.0413044643058, 904.016824221651, 1868.198911997292, 1243.6814228722085, 970.1859625447913, 1431.1277151273662, 2736.289112854201, 2686.768674418651, 2084.2271627994405, 1876.3384651151732, 1145.4399054837875, 1001.4410895240941, 573.38264272937, 562.1112422496047, 547.1392324599497, 404.72608091080986, 404.48569592339953, 372.1954098780985, 378.06374370121597, 384.1217890859006, 381.3722013662294, 363.15312627820947, 343.0841547081323, 354.23038081025817, 325.79151756546173, 365.49034939866857, 320.72012081802654, 287.41213806038695, 277.4843232835203, 278.97081948733336, 270.05173221459825, 281.82714518776874, 863.6158211907632, 263.11610320696104, 258.22320562578733, 248.56630696015117, 251.27104024944776, 1100.213535278608, 306.7286405113559, 886.631620154179, 1868.198911997292, 637.9351642473134, 8687.375935091553, 3321.8133011306636, 3373.5573752410255, 1271.5342994888306, 2844.2328999893534, 1431.1277151273662, 4375.495854608435, 1011.6257257071416, 1040.0797745982825, 818.3506652977837, 940.6850063222846, 1849.5364332747076, 1058.672262995432, 3329.7490173335937, 2078.1445952743948, 10625.636953844161, 660.5390903427233, 590.8126194484615, 5257.53621537159, 313.65117131132945, 246.4021909020084, 176.8365562960025, 155.32316624768367, 112.93154053821071, 118.28565511542004, 85.6937641266986, 81.23448386322693, 77.73365466881255, 64.68960310388854, 58.86811695740116, 56.856105788879965, 54.57734649932418, 50.13792525907553, 51.92704918519306, 50.026184081792984, 49.64437180183837, 44.048137329811404, 40.467743022535046, 35.80349970155881, 35.89671619638443, 40.55303053811873, 34.586133858536755, 34.28043645848629, 29.30459442165648, 30.97366139387015, 4595.440820665415, 156.94942773711918, 523.9643212507016, 265.27963123677154, 1224.4708930922106, 1129.7237626587548, 4137.654730597587, 1525.8198904171068, 194.55610163377966, 1400.0123213940537, 614.8407857614351, 563.345028664829, 385.6007375634589, 452.81690416500106, 245.67045687335607, 289.0512593702643, 970.1859625447913, 474.52842217322507, 1243.6814228722085, 600.739808933831, 3329.7490173335937, 514.8630266980174, 900.4339887895005, 3555.664156592126, 874.8613611439648, 588.39784494445, 527.8085465185864, 1401.8837971194525, 1269.4257933173396], \"Category\": [\"Default\", \"Default\", \"Default\", \"Default\", \"Default\", \"Default\", \"Default\", \"Default\", \"Default\", \"Default\", \"Default\", \"Default\", \"Default\", \"Default\", \"Default\", \"Default\", \"Default\", \"Default\", \"Default\", \"Default\", \"Default\", \"Default\", \"Default\", \"Default\", \"Default\", \"Default\", \"Default\", \"Default\", \"Default\", \"Default\", \"Topic1\", \"Topic1\", \"Topic1\", \"Topic1\", \"Topic1\", \"Topic1\", \"Topic1\", \"Topic1\", \"Topic1\", \"Topic1\", \"Topic1\", \"Topic1\", \"Topic1\", \"Topic1\", \"Topic1\", \"Topic1\", \"Topic1\", \"Topic1\", \"Topic1\", \"Topic1\", \"Topic1\", \"Topic1\", \"Topic1\", \"Topic1\", \"Topic1\", \"Topic1\", \"Topic1\", \"Topic1\", \"Topic1\", \"Topic1\", \"Topic1\", \"Topic1\", \"Topic1\", \"Topic1\", \"Topic1\", \"Topic1\", \"Topic1\", \"Topic1\", \"Topic1\", \"Topic1\", \"Topic1\", \"Topic1\", \"Topic1\", \"Topic1\", \"Topic1\", \"Topic1\", \"Topic1\", \"Topic1\", \"Topic1\", \"Topic1\", \"Topic2\", \"Topic2\", \"Topic2\", \"Topic2\", \"Topic2\", \"Topic2\", \"Topic2\", \"Topic2\", \"Topic2\", \"Topic2\", \"Topic2\", \"Topic2\", \"Topic2\", \"Topic2\", \"Topic2\", \"Topic2\", \"Topic2\", \"Topic2\", \"Topic2\", \"Topic2\", \"Topic2\", \"Topic2\", \"Topic2\", \"Topic2\", \"Topic2\", \"Topic2\", \"Topic2\", \"Topic2\", \"Topic2\", \"Topic2\", \"Topic2\", \"Topic2\", \"Topic2\", \"Topic2\", \"Topic2\", \"Topic2\", \"Topic2\", \"Topic2\", \"Topic2\", \"Topic2\", \"Topic2\", \"Topic2\", \"Topic2\", \"Topic2\", \"Topic2\", \"Topic2\", \"Topic2\", \"Topic2\", \"Topic2\", \"Topic2\", \"Topic2\", \"Topic2\", \"Topic2\", \"Topic2\", \"Topic2\", \"Topic2\", \"Topic2\", \"Topic2\", \"Topic2\", \"Topic3\", \"Topic3\", \"Topic3\", \"Topic3\", \"Topic3\", \"Topic3\", \"Topic3\", \"Topic3\", \"Topic3\", \"Topic3\", \"Topic3\", \"Topic3\", \"Topic3\", \"Topic3\", \"Topic3\", \"Topic3\", \"Topic3\", \"Topic3\", \"Topic3\", \"Topic3\", \"Topic3\", \"Topic3\", \"Topic3\", \"Topic3\", \"Topic3\", \"Topic3\", \"Topic3\", \"Topic3\", \"Topic3\", \"Topic3\", \"Topic3\", \"Topic3\", \"Topic3\", \"Topic3\", \"Topic3\", \"Topic3\", \"Topic3\", \"Topic3\", \"Topic3\", \"Topic3\", \"Topic3\", \"Topic3\", \"Topic3\", \"Topic3\", \"Topic3\", \"Topic3\", \"Topic3\", \"Topic3\", \"Topic3\", \"Topic3\", \"Topic3\", \"Topic4\", \"Topic4\", \"Topic4\", \"Topic4\", \"Topic4\", \"Topic4\", \"Topic4\", \"Topic4\", \"Topic4\", \"Topic4\", \"Topic4\", \"Topic4\", \"Topic4\", \"Topic4\", \"Topic4\", \"Topic4\", \"Topic4\", \"Topic4\", \"Topic4\", \"Topic4\", \"Topic4\", \"Topic4\", \"Topic4\", \"Topic4\", \"Topic4\", \"Topic4\", \"Topic4\", \"Topic4\", \"Topic4\", \"Topic4\", \"Topic4\", \"Topic4\", \"Topic4\", \"Topic4\", \"Topic4\", \"Topic4\", \"Topic4\", \"Topic4\", \"Topic4\", \"Topic4\", \"Topic4\", \"Topic4\", \"Topic4\", \"Topic4\", \"Topic4\", \"Topic4\", \"Topic4\", \"Topic4\", \"Topic4\", \"Topic4\", \"Topic4\", \"Topic4\", \"Topic4\", \"Topic4\", \"Topic4\", \"Topic4\", \"Topic4\", \"Topic4\", \"Topic4\"], \"logprob\": [30.0, 29.0, 28.0, 27.0, 26.0, 25.0, 24.0, 23.0, 22.0, 21.0, 20.0, 19.0, 18.0, 17.0, 16.0, 15.0, 14.0, 13.0, 12.0, 11.0, 10.0, 9.0, 8.0, 7.0, 6.0, 5.0, 4.0, 3.0, 2.0, 1.0, -3.404099941253662, -3.516400098800659, -3.5559000968933105, -3.6733999252319336, -4.316199779510498, -4.451700210571289, -4.467299938201904, -4.535299777984619, -4.605400085449219, -4.6585001945495605, -4.837100028991699, -5.076399803161621, -5.095900058746338, -5.225599765777588, -5.276500225067139, -5.296299934387207, -5.352200031280518, -5.32289981842041, -5.354700088500977, -5.518799781799316, -5.544400215148926, -5.621099948883057, -5.679699897766113, -5.561399936676025, -5.589399814605713, -5.7692999839782715, -5.77810001373291, -5.842400074005127, -5.837699890136719, -5.852099895477295, -2.7153000831604004, -5.758900165557861, -5.664999961853027, -3.9992001056671143, -2.7844998836517334, -5.128699779510498, -4.304699897766113, -3.8571999073028564, -4.7881999015808105, -3.9351000785827637, -4.9222002029418945, -5.0177001953125, -4.395400047302246, -5.156000137329102, -4.776899814605713, -4.823400020599365, -5.081399917602539, -5.178500175476074, -5.184899806976318, -5.162099838256836, -3.786400079727173, -4.306600093841553, -4.769599914550781, -5.040500164031982, -5.105800151824951, -5.21999979019165, -5.1244001388549805, -5.228799819946289, -5.346099853515625, -5.401299953460693, -5.453700065612793, -5.167200088500977, -5.562699794769287, -5.541299819946289, -5.585000038146973, -5.712100028991699, -5.798600196838379, -5.78249979019165, -5.828499794006348, -5.74429988861084, -5.849899768829346, -5.774199962615967, -5.845699787139893, -5.764800071716309, -5.934199810028076, -5.96019983291626, -3.7077999114990234, -5.990099906921387, -5.92609977722168, -6.041999816894531, -4.94290018081665, -5.410900115966797, -5.381800174713135, -5.072400093078613, -3.3626999855041504, -4.17549991607666, -4.593599796295166, -5.186600208282471, -4.9720001220703125, -4.3541998863220215, -4.7957000732421875, -3.5353000164031982, -5.0644001960754395, -5.3403000831604, -4.687699794769287, -4.907299995422363, -4.14300012588501, -5.192299842834473, -4.087600231170654, -4.428800106048584, -5.000400066375732, -4.936999797821045, -4.513199806213379, -5.020199775695801, -5.0447998046875, -4.882500171661377, -5.016600131988525, -5.138999938964844, -5.125800132751465, -3.3506999015808105, -3.36899995803833, -3.622999906539917, -3.728100061416626, -4.2220001220703125, -4.356400012969971, -4.914700031280518, -4.934599876403809, -4.961599826812744, -5.263700008392334, -5.2642998695373535, -5.347700119018555, -5.332099914550781, -5.316199779510498, -5.323400020599365, -5.372399806976318, -5.429299831390381, -5.39739990234375, -5.481200218200684, -5.366300106048584, -5.497000217437744, -5.60699987411499, -5.642199993133545, -5.636899948120117, -5.66949987411499, -5.626800060272217, -4.506999969482422, -5.6956000328063965, -5.7144999504089355, -5.752699851989746, -5.7418999671936035, -4.317399978637695, -5.555500030517578, -4.643499851226807, -4.275100231170654, -5.051000118255615, -3.2160000801086426, -3.910599946975708, -3.970400094985962, -4.622399806976318, -4.255099773406982, -4.652699947357178, -4.120299816131592, -4.873700141906738, -4.923099994659424, -5.050899982452393, -5.0278000831604, -4.813199996948242, -5.074900150299072, -4.90749979019165, -5.20550012588501, -1.4215999841690063, -4.200799942016602, -4.312399864196777, -2.1266000270843506, -4.946899890899658, -5.189000129699707, -5.521900177001953, -5.652500152587891, -5.972799777984619, -5.926599979400635, -6.252099990844727, -6.306600093841553, -6.3506999015808105, -6.536200046539307, -6.6305999755859375, -6.666900157928467, -6.708799839019775, -6.793700218200684, -6.759500026702881, -6.797900199890137, -6.805600166320801, -6.92519998550415, -7.012199878692627, -7.137599945068359, -7.13539981842041, -7.013999938964844, -7.173099994659424, -7.182199954986572, -7.341899871826172, -7.2866997718811035, -2.303100109100342, -5.666200160980225, -4.490900039672852, -5.27400016784668, -3.903599977493286, -3.97979998588562, -2.8122000694274902, -3.7453999519348145, -5.611599922180176, -4.003499984741211, -4.697700023651123, -4.785200119018555, -5.144499778747559, -5.050300121307373, -5.569399833679199, -5.458700180053711, -4.587100028991699, -5.114699840545654, -4.4984002113342285, -5.118500232696533, -4.266600131988525, -5.219699859619141, -4.985400199890137, -4.530600070953369, -5.129300117492676, -5.25629997253418, -5.317800045013428, -5.138299942016602, -5.244100093841553], \"loglift\": [30.0, 29.0, 28.0, 27.0, 26.0, 25.0, 24.0, 23.0, 22.0, 21.0, 20.0, 19.0, 18.0, 17.0, 16.0, 15.0, 14.0, 13.0, 12.0, 11.0, 10.0, 9.0, 8.0, 7.0, 6.0, 5.0, 4.0, 3.0, 2.0, 1.0, 1.2071, 1.2071, 1.207, 1.207, 1.2067, 1.2066, 1.2065, 1.2065, 1.2064, 1.2064, 1.2062, 1.2058, 1.2055, 1.2055, 1.2055, 1.2055, 1.2053, 1.2053, 1.2052, 1.2049, 1.2048, 1.2046, 1.2045, 1.2044, 1.2044, 1.2042, 1.204, 1.204, 1.204, 1.2038, 1.2018, 1.2033, 1.1841, 0.9764, 0.7606, 1.0865, 0.7873, 0.6338, 0.8999, 0.5713, 0.9447, 0.91, 0.4595, 0.9261, -0.1152, -0.3193, 0.3871, 0.6622, 0.2819, -0.9311, 1.2187, 1.2185, 1.2182, 1.2179, 1.2178, 1.2177, 1.2177, 1.2177, 1.2174, 1.2174, 1.2174, 1.2173, 1.2172, 1.2171, 1.2168, 1.2168, 1.2168, 1.2166, 1.2166, 1.2166, 1.2165, 1.2165, 1.2165, 1.2164, 1.2163, 1.2163, 1.2162, 1.2161, 1.216, 1.216, 1.2115, 1.2092, 1.2008, 1.1861, 1.0757, 1.0659, 1.0976, 1.1376, 1.1054, 1.015, 1.0396, 0.6957, 1.0053, 1.0731, 0.7676, 0.8509, 0.3611, 0.999, 0.1993, 0.4262, 0.8115, 0.6749, 0.1485, 0.7328, 0.7631, 0.1995, 0.4723, 0.5983, 0.2227, 1.3497, 1.3497, 1.3496, 1.3496, 1.3492, 1.3491, 1.3485, 1.3484, 1.3484, 1.3478, 1.3478, 1.3476, 1.3476, 1.3476, 1.3476, 1.3475, 1.3474, 1.3474, 1.3473, 1.3473, 1.3472, 1.3469, 1.3468, 1.3467, 1.3467, 1.3466, 1.3466, 1.3466, 1.3465, 1.3464, 1.3464, 1.2941, 1.3333, 1.1838, 0.8069, 1.1055, 0.3291, 0.5959, 0.5206, 0.8443, 0.4066, 0.6959, 0.1107, 0.8218, 0.7446, 0.8565, 0.7403, 0.2789, 0.575, -0.4034, -0.23, 1.9221, 1.9209, 1.9208, 1.9208, 1.9196, 1.9188, 1.9176, 1.9168, 1.9152, 1.915, 1.9118, 1.9108, 1.9108, 1.909, 1.9088, 1.9074, 1.9063, 1.9063, 1.9054, 1.9043, 1.9043, 1.9042, 1.902, 1.8991, 1.8987, 1.8982, 1.8982, 1.898, 1.8952, 1.8949, 1.8789, 1.8927, 1.8624, 1.76, 1.6009, 1.6053, 1.4747, 1.539, 1.7325, 1.3671, 1.4957, 1.4956, 1.5155, 1.449, 1.5414, 1.4895, 1.1502, 1.3377, 0.9906, 1.0981, 0.2375, 1.1511, 0.8264, -0.0922, 0.7114, 0.981, 1.0282, 0.2309, 0.2243]}, \"token.table\": {\"Topic\": [1, 2, 2, 3, 3, 4, 1, 2, 4, 1, 3, 1, 2, 3, 3, 3, 1, 3, 4, 2, 2, 2, 4, 2, 4, 3, 4, 2, 1, 2, 3, 3, 2, 2, 4, 1, 2, 1, 2, 4, 1, 3, 1, 2, 2, 4, 1, 1, 4, 1, 1, 2, 2, 1, 2, 3, 4, 1, 1, 2, 2, 3, 2, 1, 4, 4, 1, 4, 4, 1, 2, 4, 2, 4, 4, 1, 2, 3, 1, 2, 2, 2, 1, 2, 3, 1, 1, 3, 1, 3, 1, 3, 2, 4, 2, 2, 4, 2, 4, 1, 2, 3, 4, 1, 3, 4, 1, 3, 1, 2, 3, 1, 3, 1, 2, 3, 3, 1, 1, 3, 1, 1, 2, 3, 4, 3, 1, 4, 1, 4, 4, 2, 1, 2, 4, 2, 4, 1, 2, 1, 2, 4, 1, 2, 2, 2, 3, 4, 3, 1, 3, 2, 4, 2, 4, 1, 4, 1, 3, 1, 2, 2, 1, 2, 2, 4, 2, 3, 1, 2, 3, 4, 2, 1, 2, 3, 3, 4, 2, 4, 1, 2, 3, 4, 1, 2, 3, 4, 1, 3, 2, 3, 3, 1, 2, 4, 1, 3, 3, 1, 2, 3, 4, 1, 1, 2, 3, 1, 2, 4, 4, 2, 1, 2, 4, 1, 4, 4, 3, 3, 1, 4, 1, 3, 3, 2, 4, 1, 2, 3, 4, 2, 4, 4, 2, 4, 3, 3, 4, 4, 4, 1, 2, 3, 4, 1, 2, 1, 2, 1, 2, 1, 3, 4, 4, 3, 1, 2, 3, 2, 3, 2, 3, 1, 3, 4, 2, 2, 3, 2, 1, 3, 4, 2, 1, 2, 1, 2, 4, 3, 1, 2, 2, 4, 2, 3, 1, 4, 1, 2, 1, 3, 1, 1, 3, 3, 1, 2, 3, 4, 1, 3, 2, 4, 1, 2, 4, 4, 1, 1], \"Freq\": [0.8860174039240927, 0.11303786766761408, 0.016301053568601745, 0.9845836355435454, 0.9968246830475416, 0.991481204770358, 0.08670096491302673, 0.06408332189223716, 0.851931220449741, 0.9978198925449371, 0.9965199962880797, 0.11792949122704106, 0.5926185479684447, 0.28956718097802525, 0.9970796004866838, 0.9995288828040337, 0.43197481644411223, 0.15725399019676015, 0.40923929978915896, 0.997043064250825, 0.9997117468704263, 0.866504783441904, 0.13330842822183137, 0.05725580689996233, 0.9428122869527131, 0.16961688542730546, 0.8275248046604903, 0.9968894114909368, 0.13376692506691712, 0.8634046981591922, 0.9965266084533918, 0.9994112144677204, 0.9990728240614345, 0.9917328400276842, 0.006256989526988544, 0.9981112365615088, 0.9982120998975024, 0.421471321006853, 0.1165358491263188, 0.46225886820106454, 0.7431981306592675, 0.25687720623457905, 0.3630815949832857, 0.6367533753561263, 0.6652347728513296, 0.3342832497967449, 0.9991164307790503, 0.9994162347161815, 0.97755806811467, 0.996460271985602, 0.41919938542361246, 0.5801501255971035, 0.9985640784694426, 0.19719685748535365, 0.1418433536298158, 0.010378781972913349, 0.65040367030257, 0.9979672003496513, 0.9989396278867179, 0.9985786228429897, 0.9980264698442755, 0.9961054417019534, 0.9965069606186162, 0.02548591643608767, 0.9684648245713315, 0.9830529234364805, 0.9991514166282894, 0.9986245733051198, 0.9979238996347216, 0.21705759905441488, 0.22548702037691642, 0.5584491626157276, 0.024659069537602805, 0.9863627815041123, 0.9852531896335437, 0.11040244579844397, 0.36893981887074945, 0.5198697447724197, 0.19639701510479077, 0.8018192186922862, 0.9977041460175425, 0.9986870332224108, 0.14186640459100722, 0.858103429539411, 0.9995595452106887, 0.9978264440367839, 0.563500124216557, 0.4363346569420158, 0.9961918824840591, 0.9975704782881504, 0.7686345842213624, 0.23000363130898785, 0.9976533612306725, 0.995269324886636, 0.9995248418906959, 0.34643114922217655, 0.6522013654370554, 0.9669135194231309, 0.03124675646250692, 0.0353788351187112, 0.47359395193002035, 0.09648773214193963, 0.39399157291292014, 0.25492957616665934, 0.01593309851041621, 0.7284966707818077, 0.38858647458212214, 0.610985022927865, 0.17381447192287816, 0.6146331025224667, 0.21150917667723726, 0.9994639600740266, 0.9949415569411184, 0.755215491809632, 0.18771252108563108, 0.05675029707240009, 0.9970650620357466, 0.9972078752811742, 0.7934962772801036, 0.20595294522491472, 0.9990333103222525, 0.3661436282283657, 0.633837761253334, 0.0013314221173662915, 0.9985665880247185, 0.998023091932555, 0.9984752335257528, 0.9762047297945098, 0.9983635885594696, 0.9999400549965213, 0.9848034504003816, 0.9954032984921086, 0.5795203931935559, 0.12230509284361042, 0.2983329834783394, 0.9817040934530603, 0.016801781550541375, 0.9776200314693811, 0.021933782757325857, 0.23080868714716382, 0.10373424141445564, 0.6664925010878775, 0.9949713090791551, 0.9954588428963224, 0.9964141190370207, 0.9975022592099102, 0.9977217066662138, 0.9821470851947156, 0.9975886212341754, 0.45605064088054775, 0.5432211596502562, 0.8858875417080404, 0.11418106093125854, 0.3134280001754291, 0.6838429094736636, 0.9998429410147764, 0.9896059158071343, 0.5292290206079975, 0.47052614289550626, 0.16371097761748538, 0.8356081149225816, 0.9983580282366794, 0.9994308528695434, 0.9985252350499659, 0.8153314863532919, 0.1840380782844701, 0.15226165741362174, 0.8470259608713328, 0.2665041952094842, 0.3427989318327798, 0.3892086333732177, 0.0014063545921344813, 0.9986432316608257, 0.229532791680449, 0.3098220397991246, 0.46095474214016097, 0.9987992259595466, 0.9905619429327193, 0.9971845436086081, 0.00274202899250763, 0.024036617777377634, 0.24036617777377633, 0.5461119559020199, 0.18940854808573576, 0.4403565792839199, 0.2717764219194139, 0.1047717800442958, 0.18275979676899717, 0.9942926781787217, 0.00550993423675866, 0.9953464247564159, 0.9964019365823896, 0.9977546752720415, 0.9971338277616576, 0.5380411798896755, 0.4617671428938211, 0.002315844558338889, 0.9969710823648917, 0.9982059942636367, 0.0042821992608095445, 0.36077528772320416, 0.5807732747472946, 0.0540627656677205, 0.9961762815786979, 0.7349746395310112, 0.1903672631095009, 0.07457686596042302, 0.21758793556508338, 0.10092934360549048, 0.6816007620111045, 0.9685648596241566, 0.9982043688346787, 0.9997069722902007, 0.998877989537269, 0.975019547986544, 0.9984349903161618, 0.991904146891332, 0.988441583651587, 0.9996159506215198, 0.9971863377037904, 0.3461466598226046, 0.6532408759729154, 0.6569213658845177, 0.3427885975068183, 0.9952629910901192, 0.9991123636712407, 0.9891309295775085, 0.15147988970716483, 0.3046243935869359, 0.10487069287419104, 0.43945814156803864, 0.042215754172612543, 0.9576883201735453, 0.9626481868153312, 0.2744042360627163, 0.7252111953086073, 0.9997139037588276, 0.9979178381070799, 0.9917512810524751, 0.9773041015719024, 0.9894214992784355, 0.26928334432414464, 0.05571379537740923, 0.10071339933608592, 0.5742806600440644, 0.9972379189768764, 0.9950555072029499, 0.07785301615740116, 0.9212606911959137, 0.10718193164320443, 0.8922171607055936, 0.09054432293247623, 0.2870917556395588, 0.6227682699258121, 0.9983677462422874, 0.9992866611541266, 0.9989092317808602, 0.05362595360641457, 0.945271046621545, 0.002736050354394509, 0.9959223289996012, 0.2163229239178614, 0.7837787098473239, 0.999279986713253, 0.9957581341721106, 0.9794870606137944, 0.9996686124687659, 0.9978701832990363, 0.9982545922674505, 0.99874108163962, 0.6396638112037034, 0.3602929150742472, 0.9849425883640557, 0.9992038015085986, 0.3073471282790486, 0.6915310386278593, 0.47346083775436826, 0.4525603142859322, 0.07379164408243757, 0.9968399744107839, 0.19114508119793444, 0.807695756640896, 0.02014327029842624, 0.9870202446228858, 0.9893666651463692, 0.007476322406647627, 0.9979183210404592, 0.9991838630739575, 0.9974641996711427, 0.002882844507720066, 0.39637153335353437, 0.6032082660360335, 0.9962445860264777, 0.4092422617175021, 0.5891506956126359, 0.9967882197190718, 0.21713348250462616, 0.42405598519575677, 0.17328633389373346, 0.18559957425706633, 0.9984468862026697, 0.9950867139087555, 0.36059074455072176, 0.6392510183221575, 0.09177463932604663, 0.5183567591563745, 0.390891982314643, 0.9893398155066576, 0.999760250569276, 0.9953065128160102], \"Term\": [\"able\", \"able\", \"account\", \"account\", \"add\", \"advertise\", \"affordable\", \"affordable\", \"affordable\", \"age\", \"allow\", \"amazon\", \"amazon\", \"amazon\", \"android\", \"app\", \"awesome\", \"awesome\", \"awesome\", \"bad\", \"basic\", \"battery\", \"battery\", \"beat\", \"beat\", \"beginner\", \"beginner\", \"believe\", \"bite\", \"bite\", \"black\", \"book\", \"box\", \"brand\", \"brand\", \"break\", \"bring\", \"camera\", \"camera\", \"camera\", \"case\", \"case\", \"charge\", \"charge\", \"cheap\", \"cheap\", \"child\", \"christmas\", \"chromecast\", \"clear\", \"come\", \"come\", \"compare\", \"complaint\", \"complaint\", \"complaint\", \"complaint\", \"content\", \"control\", \"convenient\", \"cost\", \"cover\", \"customer\", \"dad\", \"dad\", \"darn\", \"daughter\", \"deal\", \"decent\", \"definitely\", \"definitely\", \"definitely\", \"delight\", \"delight\", \"describe\", \"device\", \"device\", \"device\", \"didn\", \"didn\", \"difference\", \"dollar\", \"don\", \"don\", \"download\", \"drop\", \"easy\", \"easy\", \"educational\", \"email\", \"enjoy\", \"enjoy\", \"everyday\", \"exactly\", \"excellent\", \"expect\", \"expect\", \"expensive\", \"expensive\", \"far\", \"far\", \"far\", \"far\", \"fast\", \"fast\", \"fast\", \"feature\", \"feature\", \"find\", \"find\", \"find\", \"fire\", \"fit\", \"free\", \"free\", \"free\", \"friday\", \"friendly\", \"game\", \"game\", \"gift\", \"go\", \"go\", \"good\", \"good\", \"google\", \"granddaughter\", \"grandma\", \"grandson\", \"great\", \"guy\", \"handy\", \"happy\", \"happy\", \"happy\", \"haven\", \"haven\", \"help\", \"help\", \"highly\", \"highly\", \"highly\", \"hour\", \"house\", \"huge\", \"impress\", \"install\", \"intend\", \"internet\", \"ipad\", \"ipad\", \"issue\", \"issue\", \"job\", \"job\", \"kid\", \"kiddos\", \"kindle\", \"kindle\", \"know\", \"know\", \"last\", \"learn\", \"let\", \"life\", \"life\", \"light\", \"light\", \"like\", \"like\", \"like\", \"like\", \"line\", \"little\", \"little\", \"little\", \"load\", \"lol\", \"long\", \"long\", \"look\", \"look\", \"look\", \"look\", \"lot\", \"lot\", \"lot\", \"lot\", \"love\", \"love\", \"market\", \"memory\", \"model\", \"mom\", \"money\", \"money\", \"movie\", \"movie\", \"music\", \"need\", \"need\", \"need\", \"need\", \"netflix\", \"new\", \"new\", \"new\", \"nice\", \"nice\", \"nice\", \"noticeable\", \"offer\", \"old\", \"order\", \"overpriced\", \"parental\", \"pass\", \"penny\", \"perfect\", \"phone\", \"picture\", \"picture\", \"play\", \"play\", \"please\", \"power\", \"powerful\", \"pretty\", \"pretty\", \"pretty\", \"pretty\", \"price\", \"price\", \"promise\", \"quality\", \"quality\", \"read\", \"reader\", \"reasonable\", \"reasonably\", \"recipient\", \"recommend\", \"recommend\", \"recommend\", \"recommend\", \"replace\", \"require\", \"review\", \"review\", \"run\", \"run\", \"sale\", \"sale\", \"sale\", \"satisfy\", \"screen\", \"set\", \"size\", \"size\", \"slow\", \"slow\", \"small\", \"small\", \"son\", \"sound\", \"speedy\", \"store\", \"stuff\", \"surf\", \"surprise\", \"tablet\", \"tablet\", \"teen\", \"tell\", \"think\", \"think\", \"time\", \"time\", \"time\", \"travel\", \"try\", \"try\", \"unbelievable\", \"unbelievable\", \"unit\", \"unit\", \"user\", \"value\", \"version\", \"version\", \"want\", \"want\", \"warranty\", \"watch\", \"watch\", \"web\", \"well\", \"well\", \"well\", \"well\", \"wife\", \"wifi\", \"work\", \"work\", \"worth\", \"worth\", \"worth\", \"xmas\", \"year\", \"young\"]}, \"R\": 30, \"lambda.step\": 0.01, \"plot.opts\": {\"xlab\": \"PC1\", \"ylab\": \"PC2\"}, \"topic.order\": [3, 2, 4, 1]};\n",
       "\n",
       "function LDAvis_load_lib(url, callback){\n",
       "  var s = document.createElement('script');\n",
       "  s.src = url;\n",
       "  s.async = true;\n",
       "  s.onreadystatechange = s.onload = callback;\n",
       "  s.onerror = function(){console.warn(\"failed to load library \" + url);};\n",
       "  document.getElementsByTagName(\"head\")[0].appendChild(s);\n",
       "}\n",
       "\n",
       "if(typeof(LDAvis) !== \"undefined\"){\n",
       "   // already loaded: just create the visualization\n",
       "   !function(LDAvis){\n",
       "       new LDAvis(\"#\" + \"ldavis_el822419285956459361993621225\", ldavis_el822419285956459361993621225_data);\n",
       "   }(LDAvis);\n",
       "}else if(typeof define === \"function\" && define.amd){\n",
       "   // require.js is available: use it to load d3/LDAvis\n",
       "   require.config({paths: {d3: \"https://cdnjs.cloudflare.com/ajax/libs/d3/3.5.5/d3.min\"}});\n",
       "   require([\"d3\"], function(d3){\n",
       "      window.d3 = d3;\n",
       "      LDAvis_load_lib(\"https://cdn.rawgit.com/bmabey/pyLDAvis/files/ldavis.v1.0.0.js\", function(){\n",
       "        new LDAvis(\"#\" + \"ldavis_el822419285956459361993621225\", ldavis_el822419285956459361993621225_data);\n",
       "      });\n",
       "    });\n",
       "}else{\n",
       "    // require.js not available: dynamically load d3 & LDAvis\n",
       "    LDAvis_load_lib(\"https://cdnjs.cloudflare.com/ajax/libs/d3/3.5.5/d3.min.js\", function(){\n",
       "         LDAvis_load_lib(\"https://cdn.rawgit.com/bmabey/pyLDAvis/files/ldavis.v1.0.0.js\", function(){\n",
       "                 new LDAvis(\"#\" + \"ldavis_el822419285956459361993621225\", ldavis_el822419285956459361993621225_data);\n",
       "            })\n",
       "         });\n",
       "}\n",
       "</script>"
      ],
      "text/plain": [
       "<IPython.core.display.HTML object>"
      ]
     },
     "execution_count": 80,
     "metadata": {},
     "output_type": "execute_result"
    }
   ],
   "source": [
    "pyLDAvis.enable_notebook()\n",
    "vis = pyLDAvis.gensim.prepare(lda_multicore, corpus, id2word)\n",
    "pyLDAvis.display(vis)"
   ]
  },
  {
   "cell_type": "markdown",
   "metadata": {},
   "source": [
    "## Observations\n",
    "\n",
    "* With 8 topics there was minimal overlap\n",
    "* Dropping 6 custom stop words reducted the number to 4 distinct topics\n",
    "    1 - Use of tablet/kindle by children\n",
    "    2 - Batteries\n",
    "    3 - Various fuctions/uses of tablet/kindle\n",
    "    4 - Positive reviews related to value & price\n",
    "* Analyze a dataset of interest to you with topic modeling"
   ]
  }
 ],
 "metadata": {
  "kernelspec": {
   "display_name": "U4-S1-NLP",
   "language": "python",
   "name": "u4-s1-nlp"
  },
  "language_info": {
   "codemirror_mode": {
    "name": "ipython",
    "version": 3
   },
   "file_extension": ".py",
   "mimetype": "text/x-python",
   "name": "python",
   "nbconvert_exporter": "python",
   "pygments_lexer": "ipython3",
   "version": "3.8.0"
  }
 },
 "nbformat": 4,
 "nbformat_minor": 2
}
