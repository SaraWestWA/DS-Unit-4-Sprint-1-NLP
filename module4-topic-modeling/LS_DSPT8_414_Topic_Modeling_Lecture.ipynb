{
 "cells": [
  {
   "cell_type": "markdown",
   "metadata": {
    "colab_type": "text",
    "id": "cOMBkFKn6uEK"
   },
   "source": [
    "# Topic Modeling (Prepare)\n",
    "\n",
    "On Monday we talked about summarizing your documents using just token counts. Today, we're going to learn about a much more sophisticated approach - learning 'topics' from documents. Topics are a latent structure. They are not directly observable in the data, but we know they're there by reading them.\n",
    "\n",
    "> **latent**: existing but not yet developed or manifest; hidden or concealed.\n",
    "\n",
    "## Use Cases\n",
    "Primary use case: what the hell are your documents about? Who might want to know that in industry - \n",
    "* Identifying common themes in customer reviews\n",
    "* Discovering the needle in a haystack \n",
    "* Monitoring communications (Email - State Department) \n",
    "\n",
    "## Learning Objectives\n",
    "*At the end of the lesson you should be able to:*\n",
    "* Part 0: Warm-Up\n",
    "* Part 1: Describe how an LDA Model works\n",
    "* Part 2: Estimate a LDA Model with Gensim\n",
    "* Part 3: Interpret LDA results & Select the appropriate number of topics"
   ]
  },
  {
   "cell_type": "markdown",
   "metadata": {
    "colab_type": "text",
    "id": "cxH0cRGX6uEL"
   },
   "source": [
    "# Part 0: Warm-Up\n",
    "How do we do a grid search? "
   ]
  },
  {
   "cell_type": "code",
   "execution_count": 1,
   "metadata": {
    "colab": {},
    "colab_type": "code",
    "id": "FFjplZ7r3Lyk"
   },
   "outputs": [],
   "source": [
    "import warnings\n",
    "warnings.filterwarnings(\"ignore\")"
   ]
  },
  {
   "cell_type": "code",
   "execution_count": 2,
   "metadata": {
    "colab": {},
    "colab_type": "code",
    "id": "rnyNg8sQ6uEL"
   },
   "outputs": [],
   "source": [
    "import pandas as pd\n",
    "from sklearn.datasets import fetch_20newsgroups\n",
    "from sklearn.ensemble import RandomForestClassifier\n",
    "from sklearn.model_selection import GridSearchCV\n",
    "from sklearn.feature_extraction.text import TfidfVectorizer"
   ]
  },
  {
   "cell_type": "code",
   "execution_count": 3,
   "metadata": {
    "colab": {},
    "colab_type": "code",
    "id": "boKWVkRz6uEO"
   },
   "outputs": [
    {
     "name": "stdout",
     "output_type": "stream",
     "text": [
      "Training Samples: 1788\n",
      "Testing Samples: 1189\n"
     ]
    }
   ],
   "source": [
    "# Dataset\n",
    "categories = ['sci.electronics',\n",
    "              'rec.sport.baseball',\n",
    "              'rec.sport.hockey']\n",
    "\n",
    "# Load training data\n",
    "newsgroups_train = fetch_20newsgroups(subset='train', \n",
    "                                      remove=('headers', 'footers', 'quotes'),\n",
    "                                      categories=categories)\n",
    "\n",
    "# Load testing data\n",
    "newsgroups_test = fetch_20newsgroups(subset='test', \n",
    "                                     remove=('headers', 'footers', 'quotes'),\n",
    "                                     categories=categories)\n",
    "\n",
    "print(f'Training Samples: {len(newsgroups_train.data)}')\n",
    "print(f'Testing Samples: {len(newsgroups_test.data)}')"
   ]
  },
  {
   "cell_type": "code",
   "execution_count": 4,
   "metadata": {
    "colab": {},
    "colab_type": "code",
    "id": "hPpukADi7Ofv"
   },
   "outputs": [
    {
     "data": {
      "text/plain": [
       "dict_keys(['data', 'filenames', 'target_names', 'target', 'DESCR'])"
      ]
     },
     "execution_count": 4,
     "metadata": {},
     "output_type": "execute_result"
    }
   ],
   "source": [
    "newsgroups_train.keys()"
   ]
  },
  {
   "cell_type": "code",
   "execution_count": 5,
   "metadata": {
    "colab": {},
    "colab_type": "code",
    "id": "g9Jhb3j-7_e2"
   },
   "outputs": [
    {
     "data": {
      "text/plain": [
       "['rec.sport.baseball', 'rec.sport.hockey', 'sci.electronics']"
      ]
     },
     "execution_count": 5,
     "metadata": {},
     "output_type": "execute_result"
    }
   ],
   "source": [
    "newsgroups_train['target_names']"
   ]
  },
  {
   "cell_type": "code",
   "execution_count": 6,
   "metadata": {
    "colab": {},
    "colab_type": "code",
    "id": "JbVoIoMm8HbR"
   },
   "outputs": [
    {
     "data": {
      "text/plain": [
       "\"\\n\\n\\nI would have chosen Alex Zhitnik for biggest suprise.  They\\ndid expect that he would become a great defenseman, but I don't\\nthink anyone knew that he was going to be this impressive in his \\nrookie year.  His speed, skating ability, and puck control is\\nexceptional -- he is the one to watch on the Kings.\\n\\n\\nKris\\nkris@fs2.assist.uci.edu\\n\\nGO KINGS!\\n\""
      ]
     },
     "execution_count": 6,
     "metadata": {},
     "output_type": "execute_result"
    }
   ],
   "source": [
    "newsgroups_train['data'][10]"
   ]
  },
  {
   "cell_type": "markdown",
   "metadata": {
    "colab_type": "text",
    "id": "w-39zg9a6uEQ"
   },
   "source": [
    "### GridSearch on Just Classifier\n",
    "* Fit the vectorizer and prepare BEFORE it goes into the gridsearch"
   ]
  },
  {
   "cell_type": "code",
   "execution_count": 7,
   "metadata": {
    "colab": {},
    "colab_type": "code",
    "id": "2q3NmHEo6uEQ"
   },
   "outputs": [
    {
     "name": "stdout",
     "output_type": "stream",
     "text": [
      "(1788, 3984)\n"
     ]
    }
   ],
   "source": [
    "v1 = TfidfVectorizer(stop_words='english',\n",
    "                     min_df=5)\n",
    "X_train = v1.fit_transform(newsgroups_train['data'])\n",
    "print(X_train.shape)"
   ]
  },
  {
   "cell_type": "code",
   "execution_count": 8,
   "metadata": {
    "colab": {},
    "colab_type": "code",
    "id": "LX3a4nUI6uES"
   },
   "outputs": [],
   "source": [
    "p1 = {\n",
    "    'n_estimators': [10, 20],\n",
    "    'max_depth': [None, 7]\n",
    "}"
   ]
  },
  {
   "cell_type": "code",
   "execution_count": 9,
   "metadata": {
    "colab": {},
    "colab_type": "code",
    "id": "7OfA7KNQ6uEU"
   },
   "outputs": [
    {
     "name": "stdout",
     "output_type": "stream",
     "text": [
      "Fitting 5 folds for each of 4 candidates, totalling 20 fits\n"
     ]
    },
    {
     "name": "stderr",
     "output_type": "stream",
     "text": [
      "[Parallel(n_jobs=-1)]: Using backend LokyBackend with 4 concurrent workers.\n",
      "[Parallel(n_jobs=-1)]: Done  20 out of  20 | elapsed:    4.1s finished\n"
     ]
    },
    {
     "data": {
      "text/plain": [
       "GridSearchCV(cv=5, estimator=RandomForestClassifier(), n_jobs=-1,\n",
       "             param_grid={'max_depth': [None, 7], 'n_estimators': [10, 20]},\n",
       "             verbose=1)"
      ]
     },
     "execution_count": 9,
     "metadata": {},
     "output_type": "execute_result"
    }
   ],
   "source": [
    "clf = RandomForestClassifier()\n",
    "gs1 = GridSearchCV(clf, p1, cv=5,n_jobs=-1, verbose=1)\n",
    "gs1.fit(X_train, newsgroups_train['target'])"
   ]
  },
  {
   "cell_type": "code",
   "execution_count": 10,
   "metadata": {},
   "outputs": [
    {
     "data": {
      "text/plain": [
       "{'mean_fit_time': array([0.20870953, 0.3253469 , 0.06950517, 0.11479745]),\n",
       " 'std_fit_time': array([0.01210044, 0.03769352, 0.00613556, 0.00537914]),\n",
       " 'mean_score_time': array([0.00859885, 0.00892434, 0.00680361, 0.02019897]),\n",
       " 'std_score_time': array([0.00206193, 0.00730515, 0.00039989, 0.00790797]),\n",
       " 'param_max_depth': masked_array(data=[None, None, 7, 7],\n",
       "              mask=[False, False, False, False],\n",
       "        fill_value='?',\n",
       "             dtype=object),\n",
       " 'param_n_estimators': masked_array(data=[10, 20, 10, 20],\n",
       "              mask=[False, False, False, False],\n",
       "        fill_value='?',\n",
       "             dtype=object),\n",
       " 'params': [{'max_depth': None, 'n_estimators': 10},\n",
       "  {'max_depth': None, 'n_estimators': 20},\n",
       "  {'max_depth': 7, 'n_estimators': 10},\n",
       "  {'max_depth': 7, 'n_estimators': 20}],\n",
       " 'split0_test_score': array([0.77374302, 0.78212291, 0.65642458, 0.73184358]),\n",
       " 'split1_test_score': array([0.81843575, 0.82960894, 0.70391061, 0.76256983]),\n",
       " 'split2_test_score': array([0.80167598, 0.84078212, 0.70111732, 0.74022346]),\n",
       " 'split3_test_score': array([0.80952381, 0.85154062, 0.72829132, 0.73389356]),\n",
       " 'split4_test_score': array([0.84593838, 0.83753501, 0.67507003, 0.76470588]),\n",
       " 'mean_test_score': array([0.80986339, 0.82831792, 0.69296277, 0.74664726]),\n",
       " 'std_test_score': array([0.02343809, 0.02414643, 0.02485819, 0.01416131]),\n",
       " 'rank_test_score': array([2, 1, 4, 3])}"
      ]
     },
     "execution_count": 10,
     "metadata": {},
     "output_type": "execute_result"
    }
   ],
   "source": [
    "gs1.cv_results_"
   ]
  },
  {
   "cell_type": "code",
   "execution_count": 11,
   "metadata": {},
   "outputs": [
    {
     "data": {
      "text/plain": [
       "0.8283179193465096"
      ]
     },
     "execution_count": 11,
     "metadata": {},
     "output_type": "execute_result"
    }
   ],
   "source": [
    "gs1.best_score_"
   ]
  },
  {
   "cell_type": "code",
   "execution_count": 12,
   "metadata": {},
   "outputs": [
    {
     "data": {
      "text/plain": [
       "{'max_depth': None, 'n_estimators': 20}"
      ]
     },
     "execution_count": 12,
     "metadata": {},
     "output_type": "execute_result"
    }
   ],
   "source": [
    "gs1.best_params_"
   ]
  },
  {
   "cell_type": "code",
   "execution_count": 13,
   "metadata": {
    "colab": {},
    "colab_type": "code",
    "id": "cMq_hw5W6uEX"
   },
   "outputs": [],
   "source": [
    "# gs1.predict([\"The new york yankees are the best team in baseball\"])"
   ]
  },
  {
   "cell_type": "code",
   "execution_count": 14,
   "metadata": {
    "colab": {},
    "colab_type": "code",
    "id": "gDkMaXvG83Zt"
   },
   "outputs": [
    {
     "data": {
      "text/plain": [
       "(1, 3984)"
      ]
     },
     "execution_count": 14,
     "metadata": {},
     "output_type": "execute_result"
    }
   ],
   "source": [
    "test_sample = v1.transform([\"The new york yankees are the best team in baseball\"])\n",
    "test_sample.shape"
   ]
  },
  {
   "cell_type": "code",
   "execution_count": 15,
   "metadata": {},
   "outputs": [
    {
     "data": {
      "text/plain": [
       "<1x3984 sparse matrix of type '<class 'numpy.float64'>'\n",
       "\twith 6 stored elements in Compressed Sparse Row format>"
      ]
     },
     "execution_count": 15,
     "metadata": {},
     "output_type": "execute_result"
    }
   ],
   "source": [
    "test_sample"
   ]
  },
  {
   "cell_type": "code",
   "execution_count": 16,
   "metadata": {},
   "outputs": [
    {
     "name": "stdout",
     "output_type": "stream",
     "text": [
      "  (0, 3967)\t0.48550433292273737\n",
      "  (0, 3957)\t0.5275426830191695\n",
      "  (0, 3574)\t0.2916145216048335\n",
      "  (0, 2458)\t0.34588673174686463\n",
      "  (0, 636)\t0.3613707509629898\n",
      "  (0, 583)\t0.38822516693960607\n"
     ]
    }
   ],
   "source": [
    "print(test_sample)"
   ]
  },
  {
   "cell_type": "code",
   "execution_count": 17,
   "metadata": {},
   "outputs": [
    {
     "data": {
      "text/plain": [
       "'da'"
      ]
     },
     "execution_count": 17,
     "metadata": {},
     "output_type": "execute_result"
    }
   ],
   "source": [
    "v1.get_feature_names()[1111]"
   ]
  },
  {
   "cell_type": "code",
   "execution_count": 18,
   "metadata": {
    "colab": {},
    "colab_type": "code",
    "id": "BLgsZtKJ8o01"
   },
   "outputs": [
    {
     "data": {
      "text/plain": [
       "array([0], dtype=int64)"
      ]
     },
     "execution_count": 18,
     "metadata": {},
     "output_type": "execute_result"
    }
   ],
   "source": [
    "pred = gs1.predict(test_sample)\n",
    "pred"
   ]
  },
  {
   "cell_type": "code",
   "execution_count": 19,
   "metadata": {
    "colab": {},
    "colab_type": "code",
    "id": "vLGkB8Vz9Otq"
   },
   "outputs": [
    {
     "data": {
      "text/plain": [
       "'rec.sport.baseball'"
      ]
     },
     "execution_count": 19,
     "metadata": {},
     "output_type": "execute_result"
    }
   ],
   "source": [
    "newsgroups_train['target_names'][pred[0]]"
   ]
  },
  {
   "cell_type": "markdown",
   "metadata": {
    "colab_type": "text",
    "id": "WdVTuXKl6uEZ"
   },
   "source": [
    "### GridSearch with BOTH the Vectoizer & Classifier"
   ]
  },
  {
   "cell_type": "code",
   "execution_count": 20,
   "metadata": {
    "colab": {},
    "colab_type": "code",
    "id": "97TjUtoI6uEZ"
   },
   "outputs": [
    {
     "name": "stdout",
     "output_type": "stream",
     "text": [
      "Fitting 5 folds for each of 8 candidates, totalling 40 fits\n"
     ]
    },
    {
     "name": "stderr",
     "output_type": "stream",
     "text": [
      "[Parallel(n_jobs=-2)]: Using backend LokyBackend with 3 concurrent workers.\n",
      "[Parallel(n_jobs=-2)]: Done  40 out of  40 | elapsed:   24.9s finished\n"
     ]
    },
    {
     "data": {
      "text/plain": [
       "GridSearchCV(cv=5,\n",
       "             estimator=Pipeline(steps=[('vect', TfidfVectorizer()),\n",
       "                                       ('clf', RandomForestClassifier())]),\n",
       "             n_jobs=-2,\n",
       "             param_grid={'clf__max_depth': (7, None), 'vect__min_df': (2, 5),\n",
       "                         'vect__stop_words': (None, 'english')},\n",
       "             verbose=1)"
      ]
     },
     "execution_count": 20,
     "metadata": {},
     "output_type": "execute_result"
    }
   ],
   "source": [
    "from sklearn.pipeline import Pipeline\n",
    "\n",
    "# 1. Create a pipeline with a vectorize and a classifier\n",
    "# 2. Use Grid Search to optimize the entire pipeline\n",
    "pipeline = Pipeline([\n",
    "    ('vect', TfidfVectorizer()),\n",
    "    ('clf', RandomForestClassifier())\n",
    "])\n",
    "\n",
    "p2 = {\n",
    "    'vect__stop_words': (None, 'english'),\n",
    "#     'vect__tokenizer': (can use the standard=None, or put in others)\n",
    "    'vect__min_df': (2, 5),\n",
    "    'clf__max_depth': (7, None)\n",
    "}\n",
    "\n",
    "gs2 = GridSearchCV(pipeline, p2, cv=5, n_jobs=-2, verbose=1)\n",
    "gs2.fit(newsgroups_train['data'], newsgroups_train['target'])"
   ]
  },
  {
   "cell_type": "code",
   "execution_count": 21,
   "metadata": {},
   "outputs": [
    {
     "data": {
      "text/plain": [
       "0.8506908908814923"
      ]
     },
     "execution_count": 21,
     "metadata": {},
     "output_type": "execute_result"
    }
   ],
   "source": [
    "gs2.best_score_"
   ]
  },
  {
   "cell_type": "code",
   "execution_count": 22,
   "metadata": {},
   "outputs": [
    {
     "data": {
      "text/plain": [
       "{'clf__max_depth': None, 'vect__min_df': 2, 'vect__stop_words': 'english'}"
      ]
     },
     "execution_count": 22,
     "metadata": {},
     "output_type": "execute_result"
    }
   ],
   "source": [
    "gs2.best_params_"
   ]
  },
  {
   "cell_type": "code",
   "execution_count": 23,
   "metadata": {
    "colab": {},
    "colab_type": "code",
    "id": "IdIE67Us6uEc"
   },
   "outputs": [
    {
     "data": {
      "text/plain": [
       "array([0], dtype=int64)"
      ]
     },
     "execution_count": 23,
     "metadata": {},
     "output_type": "execute_result"
    }
   ],
   "source": [
    "pred = gs2.predict([\"The new york yankees are the best team in baseball\"])\n",
    "pred"
   ]
  },
  {
   "cell_type": "code",
   "execution_count": 24,
   "metadata": {
    "colab": {},
    "colab_type": "code",
    "id": "xhcb5G0W-Dch"
   },
   "outputs": [
    {
     "data": {
      "text/plain": [
       "'rec.sport.baseball'"
      ]
     },
     "execution_count": 24,
     "metadata": {},
     "output_type": "execute_result"
    }
   ],
   "source": [
    "newsgroups_train['target_names'][pred[0]]"
   ]
  },
  {
   "cell_type": "markdown",
   "metadata": {
    "colab_type": "text",
    "id": "F2R2ACd36uEd"
   },
   "source": [
    "Advantages to using GS with the Pipe:\n",
    "* Allows us to make predictions on raw text increasing reproducibility. :)\n",
    "* Allows us to tune the parameters of the vectorizer along side the classifier. :D "
   ]
  },
  {
   "cell_type": "markdown",
   "metadata": {
    "colab_type": "text",
    "id": "xbZjG6U86uEe"
   },
   "source": [
    "# Part 1: Describe how an LDA Model works"
   ]
  },
  {
   "cell_type": "markdown",
   "metadata": {
    "colab_type": "text",
    "id": "dMzU-XOM3LzW"
   },
   "source": [
    "[Your Guide to Latent Dirichlet Allocation](https://medium.com/@lettier/how-does-lda-work-ill-explain-using-emoji-108abf40fa7d)\n",
    "\n",
    "[LDA Topic Modeling](https://lettier.com/projects/lda-topic-modeling/)\n",
    "\n",
    "[Topic Modeling with Gensim](https://www.machinelearningplus.com/nlp/topic-modeling-gensim-python/)"
   ]
  },
  {
   "cell_type": "code",
   "execution_count": 25,
   "metadata": {
    "colab": {},
    "colab_type": "code",
    "id": "yPIlE_IeF0cX"
   },
   "outputs": [
    {
     "name": "stdout",
     "output_type": "stream",
     "text": [
      "✔ Download and installation successful\n",
      "You can now load the model via spacy.load('en_core_web_lg')\n"
     ]
    }
   ],
   "source": [
    "# Download spacy model\n",
    "import spacy.cli\n",
    "spacy.cli.download(\"en_core_web_lg\")"
   ]
  },
  {
   "cell_type": "code",
   "execution_count": 26,
   "metadata": {
    "colab": {},
    "colab_type": "code",
    "id": "qapChu_UGBFc"
   },
   "outputs": [],
   "source": [
    "import re\n",
    "import numpy as np\n",
    "import pandas as pd\n",
    "from pprint import pprint\n",
    "\n",
    "import gensim\n",
    "import gensim.corpora as corpora\n",
    "from gensim.utils import simple_preprocess\n",
    "from gensim.models import CoherenceModel\n",
    "\n",
    "import spacy\n",
    "\n",
    "import pyLDAvis\n",
    "import pyLDAvis.gensim \n",
    "import matplotlib.pyplot as plt\n",
    "%matplotlib inline"
   ]
  },
  {
   "cell_type": "code",
   "execution_count": 27,
   "metadata": {
    "colab": {},
    "colab_type": "code",
    "id": "qaMsy1XAGLxc"
   },
   "outputs": [
    {
     "name": "stdout",
     "output_type": "stream",
     "text": [
      "(1788, 3)\n"
     ]
    },
    {
     "name": "stderr",
     "output_type": "stream",
     "text": [
      "C:\\Users\\whats\\anaconda3\\envs\\U4-S1-NLP\\lib\\site-packages\\ipykernel\\ipkernel.py:287: DeprecationWarning: `should_run_async` will not call `transform_cell` automatically in the future. Please pass the result to `transformed_cell` argument and any exception that happen during thetransform in `preprocessing_exc_tuple` in IPython 7.17 and above.\n",
      "  and should_run_async(code)\n"
     ]
    },
    {
     "data": {
      "text/html": [
       "<div>\n",
       "<style scoped>\n",
       "    .dataframe tbody tr th:only-of-type {\n",
       "        vertical-align: middle;\n",
       "    }\n",
       "\n",
       "    .dataframe tbody tr th {\n",
       "        vertical-align: top;\n",
       "    }\n",
       "\n",
       "    .dataframe thead th {\n",
       "        text-align: right;\n",
       "    }\n",
       "</style>\n",
       "<table border=\"1\" class=\"dataframe\">\n",
       "  <thead>\n",
       "    <tr style=\"text-align: right;\">\n",
       "      <th></th>\n",
       "      <th>content</th>\n",
       "      <th>target</th>\n",
       "      <th>target_names</th>\n",
       "    </tr>\n",
       "  </thead>\n",
       "  <tbody>\n",
       "    <tr>\n",
       "      <th>0</th>\n",
       "      <td>\\nOh yeah, how come Dino could never take the ...</td>\n",
       "      <td>1</td>\n",
       "      <td>rec.sport.hockey</td>\n",
       "    </tr>\n",
       "    <tr>\n",
       "      <th>1</th>\n",
       "      <td>Does anyone know where Billy Taylor is?  Richm...</td>\n",
       "      <td>0</td>\n",
       "      <td>rec.sport.baseball</td>\n",
       "    </tr>\n",
       "    <tr>\n",
       "      <th>2</th>\n",
       "      <td>\\n\\n\\nWhy are you fooling around with analog f...</td>\n",
       "      <td>2</td>\n",
       "      <td>sci.electronics</td>\n",
       "    </tr>\n",
       "  </tbody>\n",
       "</table>\n",
       "</div>"
      ],
      "text/plain": [
       "                                             content  target  \\\n",
       "0  \\nOh yeah, how come Dino could never take the ...       1   \n",
       "1  Does anyone know where Billy Taylor is?  Richm...       0   \n",
       "2  \\n\\n\\nWhy are you fooling around with analog f...       2   \n",
       "\n",
       "         target_names  \n",
       "0    rec.sport.hockey  \n",
       "1  rec.sport.baseball  \n",
       "2     sci.electronics  "
      ]
     },
     "execution_count": 27,
     "metadata": {},
     "output_type": "execute_result"
    }
   ],
   "source": [
    "df = pd.DataFrame({\n",
    "    'content': newsgroups_train['data'],\n",
    "    'target': newsgroups_train['target'],\n",
    "    'target_names': [newsgroups_train['target_names'][i] for i in newsgroups_train['target']]\n",
    "})\n",
    "print(df.shape)\n",
    "df.head(3)"
   ]
  },
  {
   "cell_type": "code",
   "execution_count": 28,
   "metadata": {
    "colab": {},
    "colab_type": "code",
    "id": "na2bkOcFGter"
   },
   "outputs": [
    {
     "name": "stderr",
     "output_type": "stream",
     "text": [
      "C:\\Users\\whats\\anaconda3\\envs\\U4-S1-NLP\\lib\\site-packages\\ipykernel\\ipkernel.py:287: DeprecationWarning: `should_run_async` will not call `transform_cell` automatically in the future. Please pass the result to `transformed_cell` argument and any exception that happen during thetransform in `preprocessing_exc_tuple` in IPython 7.17 and above.\n",
      "  and should_run_async(code)\n",
      "<>:3: DeprecationWarning: invalid escape sequence \\s\n",
      "<>:6: DeprecationWarning: invalid escape sequence \\S\n",
      "<>:3: DeprecationWarning: invalid escape sequence \\s\n",
      "<>:6: DeprecationWarning: invalid escape sequence \\S\n",
      "<ipython-input-28-f5246db7dc36>:3: DeprecationWarning: invalid escape sequence \\s\n",
      "  df['clean_text'] = df['content'].apply(lambda x: re.sub('\\s+', ' ', x))\n",
      "<ipython-input-28-f5246db7dc36>:6: DeprecationWarning: invalid escape sequence \\S\n",
      "  df['clean_text'] = df['clean_text'].apply(lambda x: re.sub('From: \\S+@\\S+', '', x))\n"
     ]
    }
   ],
   "source": [
    "# For reference on regex: https://docs.python.org/3/library/re.html\n",
    "# 1. Remove new line characters\n",
    "df['clean_text'] = df['content'].apply(lambda x: re.sub('\\s+', ' ', x))\n",
    "\n",
    "# 2. Remove Emails\n",
    "df['clean_text'] = df['clean_text'].apply(lambda x: re.sub('From: \\S+@\\S+', '', x))\n",
    "\n",
    "# 3. Remove non-alphanumeric characters\n",
    "df['clean_text'] = df['clean_text'].apply(lambda x: re.sub('[^a-zA-Z]', ' ', x))\n",
    "\n",
    "# 4. Remove extra whitespace and lowercase text\n",
    "df['clean_text'] = df['clean_text'].apply(lambda x: ' '.join(x.lower().split()))\n"
   ]
  },
  {
   "cell_type": "code",
   "execution_count": 29,
   "metadata": {
    "colab": {},
    "colab_type": "code",
    "id": "2prKILFo3Lzg"
   },
   "outputs": [
    {
     "name": "stderr",
     "output_type": "stream",
     "text": [
      "C:\\Users\\whats\\anaconda3\\envs\\U4-S1-NLP\\lib\\site-packages\\ipykernel\\ipkernel.py:287: DeprecationWarning: `should_run_async` will not call `transform_cell` automatically in the future. Please pass the result to `transformed_cell` argument and any exception that happen during thetransform in `preprocessing_exc_tuple` in IPython 7.17 and above.\n",
      "  and should_run_async(code)\n"
     ]
    },
    {
     "data": {
      "text/html": [
       "<div>\n",
       "<style scoped>\n",
       "    .dataframe tbody tr th:only-of-type {\n",
       "        vertical-align: middle;\n",
       "    }\n",
       "\n",
       "    .dataframe tbody tr th {\n",
       "        vertical-align: top;\n",
       "    }\n",
       "\n",
       "    .dataframe thead th {\n",
       "        text-align: right;\n",
       "    }\n",
       "</style>\n",
       "<table border=\"1\" class=\"dataframe\">\n",
       "  <thead>\n",
       "    <tr style=\"text-align: right;\">\n",
       "      <th></th>\n",
       "      <th>content</th>\n",
       "      <th>target</th>\n",
       "      <th>target_names</th>\n",
       "      <th>clean_text</th>\n",
       "    </tr>\n",
       "  </thead>\n",
       "  <tbody>\n",
       "    <tr>\n",
       "      <th>1322</th>\n",
       "      <td>Hi,\\n\\n   I've just built a valve preamp and use a diode/capacitor\\nvoltage multiplier to step the 12vAC supply voltage up to approx \\n260vDV. As the load resistance increases, the RC constant decreases\\nand hence the output voltage drops. I need as high an output\\nvoltage as possible. (about 26...</td>\n",
       "      <td>2</td>\n",
       "      <td>sci.electronics</td>\n",
       "      <td>hi i ve just built a valve preamp and use a diode capacitor voltage multiplier to step the vac supply voltage up to approx vdv as the load resistance increases the rc constant decreases and hence the output voltage drops i need as high an output voltage as possible about v the circuit consists o...</td>\n",
       "    </tr>\n",
       "    <tr>\n",
       "      <th>870</th>\n",
       "      <td>I hope that this comes off as a somewhat unbiased assesment\\nof WFAN and WIP(I go to school in Philadelphia, and I listen to\\nboth stations on a consistant basis.)  Now that the fan has Mike\\nLupica on from 10 to noon, they have a person who can get the \\nbig name guests for interviews, and not ...</td>\n",
       "      <td>0</td>\n",
       "      <td>rec.sport.baseball</td>\n",
       "      <td>i hope that this comes off as a somewhat unbiased assesment of wfan and wip i go to school in philadelphia and i listen to both stations on a consistant basis now that the fan has mike lupica on from to noon they have a person who can get the big name guests for interviews and not just of local ...</td>\n",
       "    </tr>\n",
       "    <tr>\n",
       "      <th>1345</th>\n",
       "      <td>Well, as long as folks are sharing their esteemed wisdom, Li'l Karnak sez:\\n\\n\\tAL West\\t\\tAL East \\tNL West\\t\\tNL East \\n\\t1) Chicago\\t1) Toronto\\t1) Atlanta\\t1) St. Louis\\n\\t2) Texas\\t2) New York\\t2) Cincinnati\\t2) Montreal \\n\\t3) Minnesota\\t3) Baltimore\\t3) Houston\\t3) New York \\n\\t4) Oakland...</td>\n",
       "      <td>0</td>\n",
       "      <td>rec.sport.baseball</td>\n",
       "      <td>well as long as folks are sharing their esteemed wisdom li l karnak sez al west al east nl west nl east chicago toronto atlanta st louis texas new york cincinnati montreal minnesota baltimore houston new york oakland boston los angeles philadelphia seattle detroit san diego pittsburgh kansas cit...</td>\n",
       "    </tr>\n",
       "  </tbody>\n",
       "</table>\n",
       "</div>"
      ],
      "text/plain": [
       "                                                                                                                                                                                                                                                                                                          content  \\\n",
       "1322  Hi,\\n\\n   I've just built a valve preamp and use a diode/capacitor\\nvoltage multiplier to step the 12vAC supply voltage up to approx \\n260vDV. As the load resistance increases, the RC constant decreases\\nand hence the output voltage drops. I need as high an output\\nvoltage as possible. (about 26...   \n",
       "870   I hope that this comes off as a somewhat unbiased assesment\\nof WFAN and WIP(I go to school in Philadelphia, and I listen to\\nboth stations on a consistant basis.)  Now that the fan has Mike\\nLupica on from 10 to noon, they have a person who can get the \\nbig name guests for interviews, and not ...   \n",
       "1345  Well, as long as folks are sharing their esteemed wisdom, Li'l Karnak sez:\\n\\n\\tAL West\\t\\tAL East \\tNL West\\t\\tNL East \\n\\t1) Chicago\\t1) Toronto\\t1) Atlanta\\t1) St. Louis\\n\\t2) Texas\\t2) New York\\t2) Cincinnati\\t2) Montreal \\n\\t3) Minnesota\\t3) Baltimore\\t3) Houston\\t3) New York \\n\\t4) Oakland...   \n",
       "\n",
       "      target        target_names  \\\n",
       "1322       2     sci.electronics   \n",
       "870        0  rec.sport.baseball   \n",
       "1345       0  rec.sport.baseball   \n",
       "\n",
       "                                                                                                                                                                                                                                                                                                       clean_text  \n",
       "1322  hi i ve just built a valve preamp and use a diode capacitor voltage multiplier to step the vac supply voltage up to approx vdv as the load resistance increases the rc constant decreases and hence the output voltage drops i need as high an output voltage as possible about v the circuit consists o...  \n",
       "870   i hope that this comes off as a somewhat unbiased assesment of wfan and wip i go to school in philadelphia and i listen to both stations on a consistant basis now that the fan has mike lupica on from to noon they have a person who can get the big name guests for interviews and not just of local ...  \n",
       "1345  well as long as folks are sharing their esteemed wisdom li l karnak sez al west al east nl west nl east chicago toronto atlanta st louis texas new york cincinnati montreal minnesota baltimore houston new york oakland boston los angeles philadelphia seattle detroit san diego pittsburgh kansas cit...  "
      ]
     },
     "execution_count": 29,
     "metadata": {},
     "output_type": "execute_result"
    }
   ],
   "source": [
    "pd.set_option('display.max_colwidth',300)\n",
    "df.sample(3)"
   ]
  },
  {
   "cell_type": "code",
   "execution_count": 30,
   "metadata": {
    "colab": {},
    "colab_type": "code",
    "id": "pkgfv9tc3Lzi"
   },
   "outputs": [
    {
     "name": "stderr",
     "output_type": "stream",
     "text": [
      "C:\\Users\\whats\\anaconda3\\envs\\U4-S1-NLP\\lib\\site-packages\\ipykernel\\ipkernel.py:287: DeprecationWarning: `should_run_async` will not call `transform_cell` automatically in the future. Please pass the result to `transformed_cell` argument and any exception that happen during thetransform in `preprocessing_exc_tuple` in IPython 7.17 and above.\n",
      "  and should_run_async(code)\n"
     ]
    }
   ],
   "source": [
    "# # # FOR MAC OR LINIX\n",
    "# # from pandarallel import pandarallel\n",
    "# # pandarallel.initialize(progress_bar=True)\n",
    "# # speeds up processing\n",
    "\n",
    "\n",
    "# # Leverage tqdm for progress_apply\n",
    "# from tqdm import tqdm\n",
    "# tqdm.pandas()\n",
    "# # If you're on macOS, Linux, or python session executed from Windows Subsystem for Linux (WSL)\n",
    "# # conda activate U4-S1-NLP\n",
    "# # pip install pandarallel\n",
    "# #\n",
    "# # from pandarallel import pandarallel\n",
    "# # pandarallel.initialize(progress_bar=True)\n",
    "# #\n",
    "# # df['lemmas'] = df['content'].parallel_apply(get_lemmas)\n",
    "# #\n",
    "# # Ref: https://github.com/nalepae/pandarallel"
   ]
  },
  {
   "cell_type": "code",
   "execution_count": 31,
   "metadata": {
    "colab": {},
    "colab_type": "code",
    "id": "kSW10Cb33Lzk"
   },
   "outputs": [
    {
     "name": "stderr",
     "output_type": "stream",
     "text": [
      "C:\\Users\\whats\\anaconda3\\envs\\U4-S1-NLP\\lib\\site-packages\\ipykernel\\ipkernel.py:287: DeprecationWarning: `should_run_async` will not call `transform_cell` automatically in the future. Please pass the result to `transformed_cell` argument and any exception that happen during thetransform in `preprocessing_exc_tuple` in IPython 7.17 and above.\n",
      "  and should_run_async(code)\n"
     ]
    }
   ],
   "source": [
    "nlp = spacy.load(\"en_core_web_lg\", disable=['parser', 'tagger', 'ner'])"
   ]
  },
  {
   "cell_type": "code",
   "execution_count": 32,
   "metadata": {
    "colab": {},
    "colab_type": "code",
    "id": "6EBPQXqEKE9P"
   },
   "outputs": [
    {
     "name": "stderr",
     "output_type": "stream",
     "text": [
      "C:\\Users\\whats\\anaconda3\\envs\\U4-S1-NLP\\lib\\site-packages\\ipykernel\\ipkernel.py:287: DeprecationWarning: `should_run_async` will not call `transform_cell` automatically in the future. Please pass the result to `transformed_cell` argument and any exception that happen during thetransform in `preprocessing_exc_tuple` in IPython 7.17 and above.\n",
      "  and should_run_async(code)\n",
      "100%|█████████████████████████████████████████████████████████████████████████████| 1788/1788 [00:03<00:00, 465.73it/s]\n"
     ]
    },
    {
     "data": {
      "text/html": [
       "<div>\n",
       "<style scoped>\n",
       "    .dataframe tbody tr th:only-of-type {\n",
       "        vertical-align: middle;\n",
       "    }\n",
       "\n",
       "    .dataframe tbody tr th {\n",
       "        vertical-align: top;\n",
       "    }\n",
       "\n",
       "    .dataframe thead th {\n",
       "        text-align: right;\n",
       "    }\n",
       "</style>\n",
       "<table border=\"1\" class=\"dataframe\">\n",
       "  <thead>\n",
       "    <tr style=\"text-align: right;\">\n",
       "      <th></th>\n",
       "      <th>content</th>\n",
       "      <th>target</th>\n",
       "      <th>target_names</th>\n",
       "      <th>clean_text</th>\n",
       "      <th>lemmas</th>\n",
       "    </tr>\n",
       "  </thead>\n",
       "  <tbody>\n",
       "    <tr>\n",
       "      <th>0</th>\n",
       "      <td>\\nOh yeah, how come Dino could never take the Caps out of the Patrick\\nDivision?  He choked up 3 games to 1 last year and got swept away in\\nthe second round two years ago.  He rarely, if ever, makes it out of the\\ndivision.\\n\\n\\nSo are the Islanders, but they can still pull it out.  Vancouver h...</td>\n",
       "      <td>1</td>\n",
       "      <td>rec.sport.hockey</td>\n",
       "      <td>oh yeah how come dino could never take the caps out of the patrick division he choked up games to last year and got swept away in the second round two years ago he rarely if ever makes it out of the division so are the islanders but they can still pull it out vancouver has winnipeg s number so i...</td>\n",
       "      <td>[yes, come, dino, cap, patrick, division, choke, game, year, get, sweep, away, 2, round, year, ago, rarely, make, division, islander, pull, vancouver, winnipeg, numb, doesn, matt, king, play, game, difference, battle, pull, calgary, pull]</td>\n",
       "    </tr>\n",
       "    <tr>\n",
       "      <th>1</th>\n",
       "      <td>Does anyone know where Billy Taylor is?  Richmond or Syracuse?  He was taken\\nby the Jays in the Rule V draft, but not kept on the roster.  Baseball Weekly\\nsaid that he was demoted to Syracuse, but a Toronto paper indicated that\\nthe Braves took him back.  Is there an Atlanta fan, or anyone rea...</td>\n",
       "      <td>0</td>\n",
       "      <td>rec.sport.baseball</td>\n",
       "      <td>does anyone know where billy taylor is richmond or syracuse he was taken by the jays in the rule v draft but not kept on the roster baseball weekly said that he was demoted to syracuse but a toronto paper indicated that the braves took him back is there an atlanta fan or anyone reading this who ...</td>\n",
       "      <td>[know, billy, taylor, richmond, syracuse, take, jay, rule, draft, keep, roster, baseball, weekly, say, demote, syracuse, toronto, paper, indicate, brave, take, atlanta, fan, read, know]</td>\n",
       "    </tr>\n",
       "    <tr>\n",
       "      <th>2</th>\n",
       "      <td>\\n\\n\\nWhy are you fooling around with analog for this job?  A single chip\\nmicro and a crystal will do the job reliably and easily.  An 8748 only\\ncosts about $5.  That and a $1 crystal and you're in business.  Embed\\nthe whole thing in a foam insulated blanket, power it from a solar cell,\\nuse ...</td>\n",
       "      <td>2</td>\n",
       "      <td>sci.electronics</td>\n",
       "      <td>why are you fooling around with analog for this job a single chip micro and a crystal will do the job reliably and easily an only costs about that and a crystal and you re in business embed the whole thing in a foam insulated blanket power it from a solar cell use the excess power to heat the as...</td>\n",
       "      <td>[fool, analog, job, single, chip, micro, crystal, job, reliably, easily, cost, crystal, business, embed, thing, foam, insulate, blanket, power, solar, cell, use, excess, power, heat, assembly, day, rely, insulation, hold, heat, darkness, don, want, try, thermal, management, contact, like, icl, c...</td>\n",
       "    </tr>\n",
       "  </tbody>\n",
       "</table>\n",
       "</div>"
      ],
      "text/plain": [
       "                                                                                                                                                                                                                                                                                                       content  \\\n",
       "0  \\nOh yeah, how come Dino could never take the Caps out of the Patrick\\nDivision?  He choked up 3 games to 1 last year and got swept away in\\nthe second round two years ago.  He rarely, if ever, makes it out of the\\ndivision.\\n\\n\\nSo are the Islanders, but they can still pull it out.  Vancouver h...   \n",
       "1  Does anyone know where Billy Taylor is?  Richmond or Syracuse?  He was taken\\nby the Jays in the Rule V draft, but not kept on the roster.  Baseball Weekly\\nsaid that he was demoted to Syracuse, but a Toronto paper indicated that\\nthe Braves took him back.  Is there an Atlanta fan, or anyone rea...   \n",
       "2  \\n\\n\\nWhy are you fooling around with analog for this job?  A single chip\\nmicro and a crystal will do the job reliably and easily.  An 8748 only\\ncosts about $5.  That and a $1 crystal and you're in business.  Embed\\nthe whole thing in a foam insulated blanket, power it from a solar cell,\\nuse ...   \n",
       "\n",
       "   target        target_names  \\\n",
       "0       1    rec.sport.hockey   \n",
       "1       0  rec.sport.baseball   \n",
       "2       2     sci.electronics   \n",
       "\n",
       "                                                                                                                                                                                                                                                                                                    clean_text  \\\n",
       "0  oh yeah how come dino could never take the caps out of the patrick division he choked up games to last year and got swept away in the second round two years ago he rarely if ever makes it out of the division so are the islanders but they can still pull it out vancouver has winnipeg s number so i...   \n",
       "1  does anyone know where billy taylor is richmond or syracuse he was taken by the jays in the rule v draft but not kept on the roster baseball weekly said that he was demoted to syracuse but a toronto paper indicated that the braves took him back is there an atlanta fan or anyone reading this who ...   \n",
       "2  why are you fooling around with analog for this job a single chip micro and a crystal will do the job reliably and easily an only costs about that and a crystal and you re in business embed the whole thing in a foam insulated blanket power it from a solar cell use the excess power to heat the as...   \n",
       "\n",
       "                                                                                                                                                                                                                                                                                                        lemmas  \n",
       "0                                                               [yes, come, dino, cap, patrick, division, choke, game, year, get, sweep, away, 2, round, year, ago, rarely, make, division, islander, pull, vancouver, winnipeg, numb, doesn, matt, king, play, game, difference, battle, pull, calgary, pull]  \n",
       "1                                                                                                                    [know, billy, taylor, richmond, syracuse, take, jay, rule, draft, keep, roster, baseball, weekly, say, demote, syracuse, toronto, paper, indicate, brave, take, atlanta, fan, read, know]  \n",
       "2  [fool, analog, job, single, chip, micro, crystal, job, reliably, easily, cost, crystal, business, embed, thing, foam, insulate, blanket, power, solar, cell, use, excess, power, heat, assembly, day, rely, insulation, hold, heat, darkness, don, want, try, thermal, management, contact, like, icl, c...  "
      ]
     },
     "execution_count": 32,
     "metadata": {},
     "output_type": "execute_result"
    }
   ],
   "source": [
    "# # Leverage tqdm for progress_apply\n",
    "from tqdm import tqdm\n",
    "tqdm.pandas()\n",
    "# Create 'lemmas' column\n",
    "def get_lemmas(x):\n",
    "    lemmas = []\n",
    "    for token in nlp(x):\n",
    "        if (token.is_stop != True) and (token.is_punct != True) and (len(token) > 2):\n",
    "            lemmas.append(token.lemma_)\n",
    "    return lemmas\n",
    "df['lemmas'] = df['clean_text'].progress_apply(get_lemmas)\n",
    "df.head(3)"
   ]
  },
  {
   "cell_type": "markdown",
   "metadata": {
    "colab_type": "text",
    "id": "cPuCuK0z3Lzs"
   },
   "source": [
    "### The two main inputs to the LDA topic model are the dictionary (id2word) and the corpus."
   ]
  },
  {
   "cell_type": "code",
   "execution_count": 33,
   "metadata": {
    "colab": {},
    "colab_type": "code",
    "id": "1klqRpqtJxWc"
   },
   "outputs": [
    {
     "name": "stderr",
     "output_type": "stream",
     "text": [
      "C:\\Users\\whats\\anaconda3\\envs\\U4-S1-NLP\\lib\\site-packages\\ipykernel\\ipkernel.py:287: DeprecationWarning: `should_run_async` will not call `transform_cell` automatically in the future. Please pass the result to `transformed_cell` argument and any exception that happen during thetransform in `preprocessing_exc_tuple` in IPython 7.17 and above.\n",
      "  and should_run_async(code)\n"
     ]
    }
   ],
   "source": [
    "# Create Dictionary\n",
    "id2word = corpora.Dictionary(df['lemmas'])\n",
    "\n",
    "# Term Document Frequency\n",
    "corpus = [id2word.doc2bow(text) for text in df['lemmas']]"
   ]
  },
  {
   "cell_type": "code",
   "execution_count": 34,
   "metadata": {},
   "outputs": [
    {
     "name": "stderr",
     "output_type": "stream",
     "text": [
      "C:\\Users\\whats\\anaconda3\\envs\\U4-S1-NLP\\lib\\site-packages\\ipykernel\\ipkernel.py:287: DeprecationWarning: `should_run_async` will not call `transform_cell` automatically in the future. Please pass the result to `transformed_cell` argument and any exception that happen during thetransform in `preprocessing_exc_tuple` in IPython 7.17 and above.\n",
      "  and should_run_async(code)\n"
     ]
    },
    {
     "data": {
      "text/plain": [
       "12626"
      ]
     },
     "execution_count": 34,
     "metadata": {},
     "output_type": "execute_result"
    }
   ],
   "source": [
    "# How many words in our vocab?\n",
    "len(id2word.keys())"
   ]
  },
  {
   "cell_type": "code",
   "execution_count": 35,
   "metadata": {
    "colab": {},
    "colab_type": "code",
    "id": "ArZPxcP5LH1J"
   },
   "outputs": [
    {
     "name": "stderr",
     "output_type": "stream",
     "text": [
      "C:\\Users\\whats\\anaconda3\\envs\\U4-S1-NLP\\lib\\site-packages\\ipykernel\\ipkernel.py:287: DeprecationWarning: `should_run_async` will not call `transform_cell` automatically in the future. Please pass the result to `transformed_cell` argument and any exception that happen during thetransform in `preprocessing_exc_tuple` in IPython 7.17 and above.\n",
      "  and should_run_async(code)\n"
     ]
    },
    {
     "data": {
      "text/plain": [
       "'trade'"
      ]
     },
     "execution_count": 35,
     "metadata": {},
     "output_type": "execute_result"
    }
   ],
   "source": [
    "id2word[200]"
   ]
  },
  {
   "cell_type": "code",
   "execution_count": 36,
   "metadata": {
    "colab": {},
    "colab_type": "code",
    "id": "_IIBnI2e3Lzw"
   },
   "outputs": [
    {
     "name": "stderr",
     "output_type": "stream",
     "text": [
      "C:\\Users\\whats\\anaconda3\\envs\\U4-S1-NLP\\lib\\site-packages\\ipykernel\\ipkernel.py:287: DeprecationWarning: `should_run_async` will not call `transform_cell` automatically in the future. Please pass the result to `transformed_cell` argument and any exception that happen during thetransform in `preprocessing_exc_tuple` in IPython 7.17 and above.\n",
      "  and should_run_async(code)\n"
     ]
    },
    {
     "data": {
      "text/plain": [
       "'ok i m sure that this has been asked s of times before but i have wondered since i heard it where the hell did the nickname of the habs come from for the montreal canadiens'"
      ]
     },
     "execution_count": 36,
     "metadata": {},
     "output_type": "execute_result"
    }
   ],
   "source": [
    "df['clean_text'][5]"
   ]
  },
  {
   "cell_type": "code",
   "execution_count": 37,
   "metadata": {
    "colab": {},
    "colab_type": "code",
    "id": "bGFG9E2j3Lzz"
   },
   "outputs": [
    {
     "name": "stderr",
     "output_type": "stream",
     "text": [
      "C:\\Users\\whats\\anaconda3\\envs\\U4-S1-NLP\\lib\\site-packages\\ipykernel\\ipkernel.py:287: DeprecationWarning: `should_run_async` will not call `transform_cell` automatically in the future. Please pass the result to `transformed_cell` argument and any exception that happen during thetransform in `preprocessing_exc_tuple` in IPython 7.17 and above.\n",
      "  and should_run_async(code)\n"
     ]
    },
    {
     "data": {
      "text/plain": [
       "[(7, 1),\n",
       " (183, 1),\n",
       " (192, 1),\n",
       " (202, 1),\n",
       " (203, 1),\n",
       " (204, 1),\n",
       " (205, 1),\n",
       " (206, 1),\n",
       " (207, 1),\n",
       " (208, 1),\n",
       " (209, 1)]"
      ]
     },
     "execution_count": 37,
     "metadata": {},
     "output_type": "execute_result"
    }
   ],
   "source": [
    "corpus[5]"
   ]
  },
  {
   "cell_type": "code",
   "execution_count": 38,
   "metadata": {
    "colab": {},
    "colab_type": "code",
    "id": "TB6wox963Lz2"
   },
   "outputs": [
    {
     "name": "stderr",
     "output_type": "stream",
     "text": [
      "C:\\Users\\whats\\anaconda3\\envs\\U4-S1-NLP\\lib\\site-packages\\ipykernel\\ipkernel.py:287: DeprecationWarning: `should_run_async` will not call `transform_cell` automatically in the future. Please pass the result to `transformed_cell` argument and any exception that happen during thetransform in `preprocessing_exc_tuple` in IPython 7.17 and above.\n",
      "  and should_run_async(code)\n"
     ]
    },
    {
     "data": {
      "text/plain": [
       "'francisco'"
      ]
     },
     "execution_count": 38,
     "metadata": {},
     "output_type": "execute_result"
    }
   ],
   "source": [
    "id2word[252]"
   ]
  },
  {
   "cell_type": "code",
   "execution_count": 39,
   "metadata": {
    "colab": {},
    "colab_type": "code",
    "id": "kk3g75XX3Lz4"
   },
   "outputs": [
    {
     "name": "stderr",
     "output_type": "stream",
     "text": [
      "C:\\Users\\whats\\anaconda3\\envs\\U4-S1-NLP\\lib\\site-packages\\ipykernel\\ipkernel.py:287: DeprecationWarning: `should_run_async` will not call `transform_cell` automatically in the future. Please pass the result to `transformed_cell` argument and any exception that happen during thetransform in `preprocessing_exc_tuple` in IPython 7.17 and above.\n",
      "  and should_run_async(code)\n"
     ]
    },
    {
     "data": {
      "text/plain": [
       "'new'"
      ]
     },
     "execution_count": 39,
     "metadata": {},
     "output_type": "execute_result"
    }
   ],
   "source": [
    "id2word[276]"
   ]
  },
  {
   "cell_type": "code",
   "execution_count": 40,
   "metadata": {
    "colab": {},
    "colab_type": "code",
    "id": "6K2jWxHJLOzK"
   },
   "outputs": [
    {
     "name": "stderr",
     "output_type": "stream",
     "text": [
      "C:\\Users\\whats\\anaconda3\\envs\\U4-S1-NLP\\lib\\site-packages\\ipykernel\\ipkernel.py:287: DeprecationWarning: `should_run_async` will not call `transform_cell` automatically in the future. Please pass the result to `transformed_cell` argument and any exception that happen during thetransform in `preprocessing_exc_tuple` in IPython 7.17 and above.\n",
      "  and should_run_async(code)\n"
     ]
    },
    {
     "data": {
      "text/plain": [
       "[('come', 1),\n",
       " ('time', 1),\n",
       " ('hell', 1),\n",
       " ('ask', 1),\n",
       " ('canadiens', 1),\n",
       " ('habs', 1),\n",
       " ('hear', 1),\n",
       " ('montreal', 1),\n",
       " ('nickname', 1),\n",
       " ('sure', 1),\n",
       " ('wonder', 1)]"
      ]
     },
     "execution_count": 40,
     "metadata": {},
     "output_type": "execute_result"
    }
   ],
   "source": [
    "# Human readable format of corpus (term-frequency)\n",
    "[(id2word[word_id], word_count) for word_id, word_count in corpus[5]]"
   ]
  },
  {
   "cell_type": "markdown",
   "metadata": {
    "colab_type": "text",
    "id": "le-XzI923Lz8"
   },
   "source": [
    "# Part 2: Estimate a LDA Model with Gensim"
   ]
  },
  {
   "cell_type": "markdown",
   "metadata": {
    "colab_type": "text",
    "id": "AlNG4bSI3Lz8"
   },
   "source": [
    " ### Train an LDA model"
   ]
  },
  {
   "cell_type": "code",
   "execution_count": 41,
   "metadata": {
    "colab": {},
    "colab_type": "code",
    "id": "Fasvjf0VLQ2a"
   },
   "outputs": [
    {
     "name": "stderr",
     "output_type": "stream",
     "text": [
      "C:\\Users\\whats\\anaconda3\\envs\\U4-S1-NLP\\lib\\site-packages\\ipykernel\\ipkernel.py:287: DeprecationWarning: `should_run_async` will not call `transform_cell` automatically in the future. Please pass the result to `transformed_cell` argument and any exception that happen during thetransform in `preprocessing_exc_tuple` in IPython 7.17 and above.\n",
      "  and should_run_async(code)\n"
     ]
    }
   ],
   "source": [
    "# %%time\n",
    "# lda_model = gensim.models.ldamodel.LdaModel(corpus=corpus,\n",
    "#                                            id2word=id2word,\n",
    "#                                            num_topics=20, \n",
    "#                                            chunksize=100,\n",
    "#                                            passes=10,\n",
    "#                                            per_word_topics=True)\n",
    "\n",
    "# # https://radimrehurek.com/gensim/models/ldamodel.html"
   ]
  },
  {
   "cell_type": "code",
   "execution_count": 42,
   "metadata": {
    "colab": {},
    "colab_type": "code",
    "id": "49CabmIj3Lz_"
   },
   "outputs": [
    {
     "name": "stderr",
     "output_type": "stream",
     "text": [
      "C:\\Users\\whats\\anaconda3\\envs\\U4-S1-NLP\\lib\\site-packages\\ipykernel\\ipkernel.py:287: DeprecationWarning: `should_run_async` will not call `transform_cell` automatically in the future. Please pass the result to `transformed_cell` argument and any exception that happen during thetransform in `preprocessing_exc_tuple` in IPython 7.17 and above.\n",
      "  and should_run_async(code)\n"
     ]
    }
   ],
   "source": [
    "# lda_model.save('lda_model.model')"
   ]
  },
  {
   "cell_type": "code",
   "execution_count": 43,
   "metadata": {
    "colab": {},
    "colab_type": "code",
    "id": "XDgUshRE3L0C"
   },
   "outputs": [
    {
     "name": "stderr",
     "output_type": "stream",
     "text": [
      "C:\\Users\\whats\\anaconda3\\envs\\U4-S1-NLP\\lib\\site-packages\\ipykernel\\ipkernel.py:287: DeprecationWarning: `should_run_async` will not call `transform_cell` automatically in the future. Please pass the result to `transformed_cell` argument and any exception that happen during thetransform in `preprocessing_exc_tuple` in IPython 7.17 and above.\n",
      "  and should_run_async(code)\n"
     ]
    },
    {
     "name": "stdout",
     "output_type": "stream",
     "text": [
      "Wall time: 2min 24s\n"
     ]
    }
   ],
   "source": [
    "%%time\n",
    "lda_multicore = gensim.models.ldamulticore.LdaMulticore(corpus=corpus,\n",
    "                                                        id2word=id2word,\n",
    "                                                        num_topics=20, \n",
    "                                                        chunksize=100,\n",
    "                                                        passes=10,\n",
    "                                                        per_word_topics=True,\n",
    "                                                        workers=3)\n",
    "\n",
    "# https://radimrehurek.com/gensim/models/ldamulticore.html"
   ]
  },
  {
   "cell_type": "code",
   "execution_count": 44,
   "metadata": {
    "colab": {},
    "colab_type": "code",
    "id": "Rgb9AaPq3L0E"
   },
   "outputs": [
    {
     "name": "stderr",
     "output_type": "stream",
     "text": [
      "C:\\Users\\whats\\anaconda3\\envs\\U4-S1-NLP\\lib\\site-packages\\ipykernel\\ipkernel.py:287: DeprecationWarning: `should_run_async` will not call `transform_cell` automatically in the future. Please pass the result to `transformed_cell` argument and any exception that happen during thetransform in `preprocessing_exc_tuple` in IPython 7.17 and above.\n",
      "  and should_run_async(code)\n"
     ]
    }
   ],
   "source": [
    "#below is essentially the same as pickling\n",
    "lda_multicore.save('lda_multicore.model')"
   ]
  },
  {
   "cell_type": "code",
   "execution_count": 45,
   "metadata": {
    "colab": {},
    "colab_type": "code",
    "id": "VLxvJPoK3L0G"
   },
   "outputs": [
    {
     "name": "stderr",
     "output_type": "stream",
     "text": [
      "C:\\Users\\whats\\anaconda3\\envs\\U4-S1-NLP\\lib\\site-packages\\ipykernel\\ipkernel.py:287: DeprecationWarning: `should_run_async` will not call `transform_cell` automatically in the future. Please pass the result to `transformed_cell` argument and any exception that happen during thetransform in `preprocessing_exc_tuple` in IPython 7.17 and above.\n",
      "  and should_run_async(code)\n"
     ]
    }
   ],
   "source": [
    "from gensim import models\n",
    "lda_multicore =  models.LdaModel.load('lda_multicore.model')"
   ]
  },
  {
   "cell_type": "markdown",
   "metadata": {
    "colab_type": "text",
    "id": "uDH3tzx13L0I"
   },
   "source": [
    "### View the topics in LDA model"
   ]
  },
  {
   "cell_type": "code",
   "execution_count": 46,
   "metadata": {
    "colab": {},
    "colab_type": "code",
    "id": "JawR8yscLVNS",
    "scrolled": true
   },
   "outputs": [
    {
     "name": "stdout",
     "output_type": "stream",
     "text": [
      "[(0,\n",
      "  '0.014*\"use\" + 0.013*\"work\" + 0.011*\"need\" + 0.010*\"like\" + 0.010*\"know\" + '\n",
      "  '0.010*\"power\" + 0.008*\"circuit\" + 0.008*\"high\" + 0.008*\"line\" + '\n",
      "  '0.008*\"chip\"'),\n",
      " (1,\n",
      "  '0.014*\"cable\" + 0.011*\"day\" + 0.009*\"connect\" + 0.008*\"don\" + 0.008*\"metal\" '\n",
      "  '+ 0.008*\"use\" + 0.008*\"information\" + 0.007*\"strip\" + 0.007*\"thank\" + '\n",
      "  '0.007*\"read\"'),\n",
      " (2,\n",
      "  '0.013*\"protection\" + 0.011*\"stadium\" + 0.009*\"bus\" + 0.009*\"uniform\" + '\n",
      "  '0.008*\"edu\" + 0.007*\"change\" + 0.007*\"old\" + 0.007*\"foul\" + '\n",
      "  '0.007*\"properly\" + 0.007*\"cable\"'),\n",
      " (3,\n",
      "  '0.024*\"team\" + 0.016*\"hockey\" + 0.016*\"nhl\" + 0.012*\"season\" + 0.010*\"game\" '\n",
      "  '+ 0.010*\"league\" + 0.008*\"new\" + 0.008*\"draft\" + 0.008*\"player\" + '\n",
      "  '0.007*\"play\"'),\n",
      " (4,\n",
      "  '0.023*\"year\" + 0.018*\"team\" + 0.017*\"run\" + 0.016*\"well\" + 0.015*\"win\" + '\n",
      "  '0.013*\"player\" + 0.012*\"game\" + 0.012*\"pitch\" + 0.012*\"think\" + '\n",
      "  '0.012*\"good\"'),\n",
      " (5,\n",
      "  '0.021*\"play\" + 0.020*\"goal\" + 0.016*\"flyer\" + 0.015*\"game\" + 0.014*\"puck\" + '\n",
      "  '0.012*\"shoot\" + 0.012*\"penalty\" + 0.011*\"score\" + 0.011*\"get\" + 0.010*\"go\"'),\n",
      " (6,\n",
      "  '0.034*\"game\" + 0.014*\"year\" + 0.013*\"fan\" + 0.013*\"play\" + 0.012*\"get\" + '\n",
      "  '0.011*\"season\" + 0.010*\"think\" + 0.010*\"don\" + 0.010*\"go\" + 0.010*\"time\"'),\n",
      " (7,\n",
      "  '0.020*\"catch\" + 0.019*\"ball\" + 0.017*\"runner\" + 0.013*\"fly\" + 0.012*\"rule\" '\n",
      "  '+ 0.011*\"pin\" + 0.010*\"designate\" + 0.009*\"line\" + 0.008*\"sept\" + '\n",
      "  '0.008*\"mount\"'),\n",
      " (8,\n",
      "  '0.014*\"ring\" + 0.014*\"baerga\" + 0.010*\"alomar\" + 0.009*\"magazine\" + '\n",
      "  '0.008*\"sun\" + 0.007*\"ice\" + 0.006*\"don\" + 0.006*\"octopus\" + '\n",
      "  '0.006*\"requirement\" + 0.006*\"name\"'),\n",
      " (9,\n",
      "  '0.051*\"pt\" + 0.029*\"detroit\" + 0.024*\"toronto\" + 0.023*\"pittsburgh\" + '\n",
      "  '0.017*\"boston\" + 0.016*\"calgary\" + 0.015*\"vancouver\" + 0.015*\"chicago\" + '\n",
      "  '0.014*\"montreal\" + 0.012*\"winnipeg\"'),\n",
      " (10,\n",
      "  '0.068*\"wire\" + 0.034*\"grind\" + 0.021*\"ground\" + 0.021*\"neutral\" + '\n",
      "  '0.021*\"outlet\" + 0.015*\"conductor\" + 0.014*\"current\" + 0.014*\"box\" + '\n",
      "  '0.014*\"circuit\" + 0.013*\"hot\"'),\n",
      " (11,\n",
      "  '0.021*\"period\" + 0.010*\"power\" + 0.010*\"play\" + 0.008*\"nyr\" + 0.007*\"min\" + '\n",
      "  '0.007*\"scorer\" + 0.007*\"shot\" + 0.006*\"hartford\" + 0.006*\"edm\" + '\n",
      "  '0.006*\"save\"'),\n",
      " (12,\n",
      "  '0.024*\"pick\" + 0.021*\"let\" + 0.018*\"winner\" + 0.015*\"game\" + 0.015*\"ranger\" '\n",
      "  '+ 0.015*\"champ\" + 0.011*\"edu\" + 0.011*\"keith\" + 0.011*\"mail\" + '\n",
      "  '0.010*\"league\"'),\n",
      " (13,\n",
      "  '0.015*\"printer\" + 0.011*\"old\" + 0.009*\"khz\" + 0.009*\"swing\" + 0.009*\"time\" '\n",
      "  '+ 0.008*\"low\" + 0.008*\"noise\" + 0.007*\"repeat\" + 0.006*\"result\" + '\n",
      "  '0.006*\"canseco\"'),\n",
      " (14,\n",
      "  '0.033*\"cal\" + 0.031*\"mon\" + 0.024*\"bos\" + 0.023*\"win\" + 0.022*\"det\" + '\n",
      "  '0.020*\"tor\" + 0.019*\"stl\" + 0.019*\"pit\" + 0.017*\"chi\" + 0.017*\"nec\"'),\n",
      " (15,\n",
      "  '0.036*\"player\" + 0.020*\"play\" + 0.017*\"think\" + 0.013*\"don\" + 0.013*\"know\" '\n",
      "  '+ 0.012*\"like\" + 0.011*\"team\" + 0.010*\"well\" + 0.009*\"good\" + '\n",
      "  '0.009*\"hockey\"'),\n",
      " (16,\n",
      "  '0.032*\"cub\" + 0.027*\"water\" + 0.023*\"cool\" + 0.020*\"plant\" + 0.018*\"tower\" '\n",
      "  '+ 0.015*\"suck\" + 0.014*\"com\" + 0.013*\"steam\" + 0.011*\"corp\" + 0.009*\"ingr\"'),\n",
      " (17,\n",
      "  '0.034*\"win\" + 0.025*\"lose\" + 0.025*\"red\" + 0.017*\"new\" + 0.016*\"york\" + '\n",
      "  '0.015*\"sox\" + 0.015*\"san\" + 0.013*\"east\" + 0.013*\"houston\" + 0.012*\"mets\"'),\n",
      " (18,\n",
      "  '0.024*\"april\" + 0.020*\"detector\" + 0.017*\"radar\" + 0.016*\"canada\" + '\n",
      "  '0.012*\"sweden\" + 0.009*\"keenan\" + 0.009*\"germany\" + 0.008*\"roger\" + '\n",
      "  '0.008*\"law\" + 0.008*\"nilsson\"'),\n",
      " (19,\n",
      "  '0.030*\"captain\" + 0.028*\"trade\" + 0.019*\"adirondack\" + 0.019*\"john\" + '\n",
      "  '0.018*\"baltimore\" + 0.018*\"utica\" + 0.017*\"rochester\" + 0.016*\"binghamton\" '\n",
      "  '+ 0.016*\"moncton\" + 0.016*\"springfield\"')]\n"
     ]
    },
    {
     "name": "stderr",
     "output_type": "stream",
     "text": [
      "C:\\Users\\whats\\anaconda3\\envs\\U4-S1-NLP\\lib\\site-packages\\ipykernel\\ipkernel.py:287: DeprecationWarning: `should_run_async` will not call `transform_cell` automatically in the future. Please pass the result to `transformed_cell` argument and any exception that happen during thetransform in `preprocessing_exc_tuple` in IPython 7.17 and above.\n",
      "  and should_run_async(code)\n"
     ]
    }
   ],
   "source": [
    "pprint(lda_multicore.print_topics())\n"
   ]
  },
  {
   "cell_type": "code",
   "execution_count": 47,
   "metadata": {},
   "outputs": [
    {
     "name": "stderr",
     "output_type": "stream",
     "text": [
      "C:\\Users\\whats\\anaconda3\\envs\\U4-S1-NLP\\lib\\site-packages\\ipykernel\\ipkernel.py:287: DeprecationWarning: `should_run_async` will not call `transform_cell` automatically in the future. Please pass the result to `transformed_cell` argument and any exception that happen during thetransform in `preprocessing_exc_tuple` in IPython 7.17 and above.\n",
      "  and should_run_async(code)\n"
     ]
    },
    {
     "data": {
      "text/plain": [
       "[(1, 0.060072396), (6, 0.7057504), (17, 0.0776221), (18, 0.12575416)]"
      ]
     },
     "execution_count": 47,
     "metadata": {},
     "output_type": "execute_result"
    }
   ],
   "source": [
    "doc_lda = lda_multicore[corpus]\n",
    "doc_lda[1][0]"
   ]
  },
  {
   "cell_type": "code",
   "execution_count": 48,
   "metadata": {},
   "outputs": [
    {
     "name": "stderr",
     "output_type": "stream",
     "text": [
      "C:\\Users\\whats\\anaconda3\\envs\\U4-S1-NLP\\lib\\site-packages\\ipykernel\\ipkernel.py:287: DeprecationWarning: `should_run_async` will not call `transform_cell` automatically in the future. Please pass the result to `transformed_cell` argument and any exception that happen during thetransform in `preprocessing_exc_tuple` in IPython 7.17 and above.\n",
      "  and should_run_async(code)\n"
     ]
    },
    {
     "data": {
      "text/html": [
       "<div>\n",
       "<style scoped>\n",
       "    .dataframe tbody tr th:only-of-type {\n",
       "        vertical-align: middle;\n",
       "    }\n",
       "\n",
       "    .dataframe tbody tr th {\n",
       "        vertical-align: top;\n",
       "    }\n",
       "\n",
       "    .dataframe thead th {\n",
       "        text-align: right;\n",
       "    }\n",
       "</style>\n",
       "<table border=\"1\" class=\"dataframe\">\n",
       "  <thead>\n",
       "    <tr style=\"text-align: right;\">\n",
       "      <th></th>\n",
       "      <th>content</th>\n",
       "      <th>target</th>\n",
       "      <th>target_names</th>\n",
       "      <th>clean_text</th>\n",
       "      <th>lemmas</th>\n",
       "    </tr>\n",
       "  </thead>\n",
       "  <tbody>\n",
       "    <tr>\n",
       "      <th>0</th>\n",
       "      <td>\\nOh yeah, how come Dino could never take the Caps out of the Patrick\\nDivision?  He choked up 3 games to 1 last year and got swept away in\\nthe second round two years ago.  He rarely, if ever, makes it out of the\\ndivision.\\n\\n\\nSo are the Islanders, but they can still pull it out.  Vancouver h...</td>\n",
       "      <td>1</td>\n",
       "      <td>rec.sport.hockey</td>\n",
       "      <td>oh yeah how come dino could never take the caps out of the patrick division he choked up games to last year and got swept away in the second round two years ago he rarely if ever makes it out of the division so are the islanders but they can still pull it out vancouver has winnipeg s number so i...</td>\n",
       "      <td>[yes, come, dino, cap, patrick, division, choke, game, year, get, sweep, away, 2, round, year, ago, rarely, make, division, islander, pull, vancouver, winnipeg, numb, doesn, matt, king, play, game, difference, battle, pull, calgary, pull]</td>\n",
       "    </tr>\n",
       "    <tr>\n",
       "      <th>1</th>\n",
       "      <td>Does anyone know where Billy Taylor is?  Richmond or Syracuse?  He was taken\\nby the Jays in the Rule V draft, but not kept on the roster.  Baseball Weekly\\nsaid that he was demoted to Syracuse, but a Toronto paper indicated that\\nthe Braves took him back.  Is there an Atlanta fan, or anyone rea...</td>\n",
       "      <td>0</td>\n",
       "      <td>rec.sport.baseball</td>\n",
       "      <td>does anyone know where billy taylor is richmond or syracuse he was taken by the jays in the rule v draft but not kept on the roster baseball weekly said that he was demoted to syracuse but a toronto paper indicated that the braves took him back is there an atlanta fan or anyone reading this who ...</td>\n",
       "      <td>[know, billy, taylor, richmond, syracuse, take, jay, rule, draft, keep, roster, baseball, weekly, say, demote, syracuse, toronto, paper, indicate, brave, take, atlanta, fan, read, know]</td>\n",
       "    </tr>\n",
       "  </tbody>\n",
       "</table>\n",
       "</div>"
      ],
      "text/plain": [
       "                                                                                                                                                                                                                                                                                                       content  \\\n",
       "0  \\nOh yeah, how come Dino could never take the Caps out of the Patrick\\nDivision?  He choked up 3 games to 1 last year and got swept away in\\nthe second round two years ago.  He rarely, if ever, makes it out of the\\ndivision.\\n\\n\\nSo are the Islanders, but they can still pull it out.  Vancouver h...   \n",
       "1  Does anyone know where Billy Taylor is?  Richmond or Syracuse?  He was taken\\nby the Jays in the Rule V draft, but not kept on the roster.  Baseball Weekly\\nsaid that he was demoted to Syracuse, but a Toronto paper indicated that\\nthe Braves took him back.  Is there an Atlanta fan, or anyone rea...   \n",
       "\n",
       "   target        target_names  \\\n",
       "0       1    rec.sport.hockey   \n",
       "1       0  rec.sport.baseball   \n",
       "\n",
       "                                                                                                                                                                                                                                                                                                    clean_text  \\\n",
       "0  oh yeah how come dino could never take the caps out of the patrick division he choked up games to last year and got swept away in the second round two years ago he rarely if ever makes it out of the division so are the islanders but they can still pull it out vancouver has winnipeg s number so i...   \n",
       "1  does anyone know where billy taylor is richmond or syracuse he was taken by the jays in the rule v draft but not kept on the roster baseball weekly said that he was demoted to syracuse but a toronto paper indicated that the braves took him back is there an atlanta fan or anyone reading this who ...   \n",
       "\n",
       "                                                                                                                                                                                                                                           lemmas  \n",
       "0  [yes, come, dino, cap, patrick, division, choke, game, year, get, sweep, away, 2, round, year, ago, rarely, make, division, islander, pull, vancouver, winnipeg, numb, doesn, matt, king, play, game, difference, battle, pull, calgary, pull]  \n",
       "1                                                       [know, billy, taylor, richmond, syracuse, take, jay, rule, draft, keep, roster, baseball, weekly, say, demote, syracuse, toronto, paper, indicate, brave, take, atlanta, fan, read, know]  "
      ]
     },
     "execution_count": 48,
     "metadata": {},
     "output_type": "execute_result"
    }
   ],
   "source": [
    "df.head(2)"
   ]
  },
  {
   "cell_type": "markdown",
   "metadata": {
    "colab_type": "text",
    "id": "gKEP0bIC3L0K"
   },
   "source": [
    "### What is topic Perplexity?\n",
    "Perplexity is a statistical measure of how well a probability model predicts a sample. As applied to LDA, for a given value of , you estimate the LDA model. Then given the theoretical word distributions represented by the topics, compare that to the actual topic mixtures, or distribution of words in your documents.\n",
    "\n",
    "### What is topic coherence?\n",
    "Topic Coherence measures score a single topic by measuring the degree of semantic similarity between high scoring words in the topic. These measurements help distinguish between topics that are semantically interpretable topics and topics that are artifacts of statistical inference.\n",
    "A set of statements or facts is said to be coherent, if they support each other. Thus, a coherent fact set can be interpreted in a context that covers all or most of the facts. An example of a coherent fact set is “the game is a team sport”, “the game is played with a ball”, “the game demands great physical efforts”"
   ]
  },
  {
   "cell_type": "code",
   "execution_count": 49,
   "metadata": {
    "colab": {},
    "colab_type": "code",
    "id": "xCjhr8k4LXSy"
   },
   "outputs": [
    {
     "name": "stderr",
     "output_type": "stream",
     "text": [
      "C:\\Users\\whats\\anaconda3\\envs\\U4-S1-NLP\\lib\\site-packages\\ipykernel\\ipkernel.py:287: DeprecationWarning: `should_run_async` will not call `transform_cell` automatically in the future. Please pass the result to `transformed_cell` argument and any exception that happen during thetransform in `preprocessing_exc_tuple` in IPython 7.17 and above.\n",
      "  and should_run_async(code)\n"
     ]
    },
    {
     "name": "stdout",
     "output_type": "stream",
     "text": [
      "\n",
      "Perplexity:  -9.288675657195762\n",
      "\n",
      "Coherence Score:  0.5575641340926303\n"
     ]
    }
   ],
   "source": [
    "# Compute Perplexity\n",
    "print('\\nPerplexity: ', lda_multicore.log_perplexity(corpus))  # a measure of how good the model is. lower the better.\n",
    "\n",
    "# Compute Coherence Score\n",
    "coherence_model_lda = CoherenceModel(model=lda_multicore, \n",
    "                                     texts=df['lemmas'], \n",
    "                                     dictionary=id2word, \n",
    "                                     coherence='c_v')\n",
    "coherence_lda = coherence_model_lda.get_coherence()\n",
    "print('\\nCoherence Score: ', coherence_lda)"
   ]
  },
  {
   "cell_type": "markdown",
   "metadata": {
    "colab_type": "text",
    "id": "7UvfgYt93L0X"
   },
   "source": [
    "# Part 3: Interpret LDA results & Select the appropriate number of topics"
   ]
  },
  {
   "cell_type": "code",
   "execution_count": 50,
   "metadata": {
    "colab": {},
    "colab_type": "code",
    "id": "CYXi480VLaHK"
   },
   "outputs": [
    {
     "name": "stderr",
     "output_type": "stream",
     "text": [
      "C:\\Users\\whats\\anaconda3\\envs\\U4-S1-NLP\\lib\\site-packages\\ipykernel\\ipkernel.py:287: DeprecationWarning: `should_run_async` will not call `transform_cell` automatically in the future. Please pass the result to `transformed_cell` argument and any exception that happen during thetransform in `preprocessing_exc_tuple` in IPython 7.17 and above.\n",
      "  and should_run_async(code)\n"
     ]
    },
    {
     "data": {
      "text/html": [
       "\n",
       "<link rel=\"stylesheet\" type=\"text/css\" href=\"https://cdn.rawgit.com/bmabey/pyLDAvis/files/ldavis.v1.0.0.css\">\n",
       "\n",
       "\n",
       "<div id=\"ldavis_el1324430825854898084794326162\"></div>\n",
       "<script type=\"text/javascript\">\n",
       "\n",
       "var ldavis_el1324430825854898084794326162_data = {\"mdsDat\": {\"x\": [-0.23581734899124762, -0.2291743506235446, -0.21219748338790845, 0.010016400954557685, 0.19086323538137218, -0.11229452775747475, -0.1714220239895088, -0.08258750054555494, -0.10234728103046195, 0.1441123219586867, 0.12388521503900746, 0.16135074015183914, 0.09187415140092978, 0.009151154257293986, 0.04551611572679038, -0.009272707225096441, 0.13751820931275094, 0.07825050732586547, 0.0522007832075095, 0.1103743888341945], \"y\": [0.09953505101058016, -0.09948300901781527, 0.11636695022670301, 0.17605799587601667, 0.22195495102398713, 0.18438371856811003, 0.05188683908870103, -0.14059089360129567, -0.10121704681167477, 0.1489708575321283, -0.01304467332927731, 0.06083212854223638, -0.06745089791960479, -0.0996196628114469, -0.11507769927633905, -0.12185496899974528, -0.09031377424814387, -0.009052597872003822, -0.10095188541784884, -0.10133138256326692], \"topics\": [1, 2, 3, 4, 5, 6, 7, 8, 9, 10, 11, 12, 13, 14, 15, 16, 17, 18, 19, 20], \"cluster\": [1, 1, 1, 1, 1, 1, 1, 1, 1, 1, 1, 1, 1, 1, 1, 1, 1, 1, 1, 1], \"Freq\": [13.537896494129267, 12.912539353427446, 12.746784989221672, 11.786789013994632, 7.326204162587597, 7.038154296433838, 5.378118580044117, 4.508256278827468, 4.413974453055336, 3.035868592718957, 2.3985177263284623, 2.245260915266622, 2.0332434984963217, 1.835290074239438, 1.7676767275417036, 1.756343720503006, 1.4748241555365975, 1.4522919925140285, 1.4473076386425228, 0.9046573364909709]}, \"tinfo\": {\"Term\": [\"wire\", \"win\", \"player\", \"game\", \"pt\", \"play\", \"grind\", \"team\", \"hockey\", \"period\", \"year\", \"league\", \"lose\", \"use\", \"pick\", \"goal\", \"detroit\", \"think\", \"cal\", \"new\", \"run\", \"circuit\", \"let\", \"nhl\", \"pitch\", \"power\", \"trade\", \"toronto\", \"season\", \"red\", \"morris\", \"gfci\", \"inning\", \"pitch\", \"rbi\", \"hitter\", \"jewish\", \"fielder\", \"viola\", \"obp\", \"winfield\", \"rotation\", \"pitcher\", \"starter\", \"lee\", \"davis\", \"bullpen\", \"admit\", \"kingman\", \"eddie\", \"yank\", \"rbis\", \"yount\", \"ozzie\", \"umpire\", \"ripken\", \"bunning\", \"degree\", \"adjust\", \"shutouts\", \"clemens\", \"offense\", \"era\", \"bat\", \"weak\", \"aaa\", \"basis\", \"average\", \"steal\", \"deserve\", \"slg\", \"staff\", \"run\", \"rise\", \"hit\", \"major\", \"well\", \"year\", \"career\", \"field\", \"win\", \"base\", \"team\", \"player\", \"good\", \"think\", \"league\", \"number\", \"give\", \"game\", \"baseball\", \"guy\", \"score\", \"get\", \"don\", \"time\", \"like\", \"start\", \"doesn\", \"point\", \"go\", \"look\", \"input\", \"mhz\", \"install\", \"scope\", \"tube\", \"capacitor\", \"latch\", \"plastic\", \"output\", \"fixture\", \"ttl\", \"pipe\", \"inch\", \"filter\", \"gain\", \"manufacturer\", \"greatly\", \"pump\", \"schematic\", \"button\", \"loop\", \"pulse\", \"diode\", \"crack\", \"cpu\", \"junction\", \"controller\", \"shack\", \"supply\", \"transmitter\", \"chip\", \"software\", \"logic\", \"house\", \"signal\", \"monitor\", \"motorola\", \"voltage\", \"datum\", \"digital\", \"package\", \"application\", \"design\", \"switch\", \"work\", \"type\", \"copy\", \"light\", \"device\", \"buy\", \"pin\", \"use\", \"price\", \"need\", \"circuit\", \"appreciate\", \"electronic\", \"cost\", \"high\", \"thank\", \"power\", \"line\", \"low\", \"help\", \"problem\", \"know\", \"like\", \"want\", \"system\", \"find\", \"look\", \"thing\", \"way\", \"try\", \"good\", \"time\", \"don\", \"lopez\", \"olson\", \"catcher\", \"berryhill\", \"phils\", \"platoon\", \"tonight\", \"eliminate\", \"coleman\", \"morning\", \"leius\", \"wrist\", \"race\", \"richmond\", \"baseman\", \"gwynn\", \"soft\", \"waiver\", \"risk\", \"mel\", \"punch\", \"phosphor\", \"uranium\", \"yankee\", \"awesome\", \"telecast\", \"ass\", \"blauser\", \"mph\", \"coin\", \"philly\", \"coverage\", \"injury\", \"chop\", \"fan\", \"kid\", \"prove\", \"backup\", \"announcer\", \"leaf\", \"dog\", \"night\", \"imho\", \"game\", \"mask\", \"abc\", \"ready\", \"espn\", \"watch\", \"pen\", \"hour\", \"wasn\", \"brave\", \"sport\", \"get\", \"season\", \"go\", \"playoff\", \"hear\", \"year\", \"away\", \"time\", \"great\", \"play\", \"know\", \"don\", \"think\", \"like\", \"say\", \"hit\", \"look\", \"team\", \"good\", \"start\", \"come\", \"see\", \"bad\", \"little\", \"well\", \"right\", \"hockey\", \"echl\", \"ihl\", \"eagle\", \"pim\", \"sydor\", \"ahl\", \"rink\", \"ncaa\", \"finnish\", \"tournament\", \"fort\", \"misconduct\", \"olympic\", \"keyword\", \"dahlquist\", \"dispersal\", \"cooper\", \"tul\", \"european\", \"mcsorley\", \"shuchuk\", \"september\", \"tps\", \"affiliate\", \"okc\", \"curtis\", \"jokerit\", \"helsinki\", \"tulsa\", \"mit\", \"nhl\", \"draft\", \"franchise\", \"german\", \"acquire\", \"dallas\", \"grade\", \"north\", \"championship\", \"college\", \"shark\", \"arena\", \"announce\", \"hockey\", \"maine\", \"senator\", \"city\", \"hawk\", \"expansion\", \"president\", \"team\", \"edu\", \"star\", \"league\", \"season\", \"canadian\", \"final\", \"new\", \"minnesota\", \"division\", \"list\", \"cup\", \"player\", \"game\", \"play\", \"year\", \"round\", \"conference\", \"club\", \"send\", \"playoff\", \"wsh\", \"chelios\", \"cgy\", \"mullen\", \"cassels\", \"hfd\", \"shanahan\", \"sandstrom\", \"neely\", \"carson\", \"unassisted\", \"robitaille\", \"powerplay\", \"wpg\", \"noonan\", \"zelepukin\", \"verbeek\", \"suter\", \"janney\", \"bassen\", \"swede\", \"semak\", \"turgeon\", \"macinnis\", \"millen\", \"mikael\", \"donnelly\", \"mceachern\", \"dahlen\", \"geoff\", \"ulf\", \"idacom\", \"stevens\", \"edm\", \"nyr\", \"juneau\", \"period\", \"scorer\", \"sanderson\", \"hartford\", \"murphy\", \"mtl\", \"min\", \"ott\", \"lemieux\", \"shot\", \"scott\", \"nyi\", \"tocchet\", \"van\", \"chi\", \"pit\", \"save\", \"det\", \"power\", \"buf\", \"brown\", \"que\", \"stl\", \"bos\", \"tor\", \"play\", \"king\", \"ranger\", \"new\", \"philadelphia\", \"2\", \"goal\", \"phi\", \"insulation\", \"aluminum\", \"rebind\", \"clarke\", \"atl\", \"soderstrom\", \"carkner\", \"torrey\", \"replay\", \"insulate\", \"curious\", \"bonilla\", \"conroy\", \"slide\", \"barber\", \"valentine\", \"neon\", \"puck\", \"gilkey\", \"slaught\", \"hank\", \"intel\", \"benefit\", \"piss\", \"alex\", \"capability\", \"lavalliere\", \"nicely\", \"santiago\", \"butsayev\", \"flyer\", \"larkin\", \"shoot\", \"penalty\", \"second\", \"lankford\", \"rough\", \"slot\", \"goal\", \"pass\", \"recchi\", \"tommy\", \"zone\", \"lindros\", \"eric\", \"kill\", \"stick\", \"net\", \"goalie\", \"minute\", \"blue\", \"brind\", \"chance\", \"play\", \"take\", \"score\", \"mark\", \"lead\", \"point\", \"get\", \"go\", \"game\", \"line\", \"period\", \"defense\", \"end\", \"power\", \"right\", \"season\", \"record\", \"2\", \"year\", \"mitchell\", \"gainey\", \"modem\", \"consistently\", \"merely\", \"piazza\", \"football\", \"thousand\", \"refuse\", \"paint\", \"cordially\", \"pmp\", \"mle\", \"plantier\", \"statement\", \"crap\", \"beastmaster\", \"establish\", \"henderson\", \"bag\", \"selke\", \"mjm\", \"athlete\", \"sdcn\", \"talented\", \"overrate\", \"plugger\", \"ditto\", \"regardless\", \"andreychuck\", \"justice\", \"judge\", \"complain\", \"lock\", \"research\", \"roussel\", \"player\", \"disagree\", \"weren\", \"james\", \"rickey\", \"error\", \"roger\", \"think\", \"play\", \"defensive\", \"talent\", \"imo\", \"don\", \"know\", \"like\", \"fact\", \"hockey\", \"let\", \"well\", \"understand\", \"agree\", \"good\", \"team\", \"bob\", \"lot\", \"forward\", \"claim\", \"point\", \"talk\", \"sound\", \"look\", \"year\", \"ice\", \"way\", \"etc\", \"come\", \"see\", \"baseball\", \"find\", \"time\", \"didn\", \"outlet\", \"conductor\", \"ground\", \"grind\", \"panel\", \"permit\", \"wire\", \"proper\", \"koufax\", \"adcom\", \"ampere\", \"bel\", \"tool\", \"omit\", \"neutral\", \"length\", \"multi\", \"recommend\", \"log\", \"hr\", \"decibel\", \"ohmite\", \"flexible\", \"decibell\", \"aspect\", \"protect\", \"packard\", \"hewlett\", \"bathroom\", \"massive\", \"breaker\", \"motor\", \"connection\", \"safety\", \"ratio\", \"electrical\", \"safe\", \"hot\", \"screw\", \"subject\", \"box\", \"amp\", \"code\", \"current\", \"service\", \"require\", \"equipment\", \"circuit\", \"usually\", \"company\", \"case\", \"use\", \"run\", \"heat\", \"don\", \"strip\", \"copper\", \"reporter\", \"pavement\", \"sensor\", \"knob\", \"guitar\", \"town\", \"availability\", \"effectively\", \"route\", \"lssu\", \"parallel\", \"caltrans\", \"dial\", \"science\", \"parent\", \"measurement\", \"cmos\", \"construct\", \"uni\", \"capacity\", \"zinc\", \"family\", \"modification\", \"quest\", \"knx\", \"exchange\", \"spin\", \"highway\", \"cable\", \"interface\", \"impedance\", \"advice\", \"generator\", \"metal\", \"main\", \"standard\", \"traffic\", \"ohm\", \"trip\", \"mile\", \"connect\", \"university\", \"information\", \"day\", \"read\", \"computer\", \"contact\", \"list\", \"thank\", \"provide\", \"edge\", \"remember\", \"use\", \"don\", \"build\", \"mail\", \"com\", \"time\", \"want\", \"good\", \"edu\", \"numb\", \"post\", \"njd\", \"barrasso\", \"zeile\", \"stress\", \"nyy\", \"sea\", \"pacific\", \"decline\", \"guerin\", \"mclean\", \"racine\", \"shore\", \"dear\", \"kingston\", \"avenue\", \"hayes\", \"activate\", \"neck\", \"pagnozzi\", \"pod\", \"film\", \"gill\", \"barnes\", \"maj\", \"oba\", \"kjell\", \"pt\", \"molitor\", \"shall\", \"perez\", \"samuelsson\", \"detroit\", \"vancouver\", \"toronto\", \"probert\", \"winnipeg\", \"pittsburgh\", \"calgary\", \"boston\", \"yzerman\", \"quebec\", \"smythe\", \"montreal\", \"chicago\", \"norris\", \"gilmour\", \"anderson\", \"wing\", \"adams\", \"buffalo\", \"final\", \"los\", \"division\", \"louis\", \"cup\", \"series\", \"playoff\", \"angeles\", \"win\", \"play\", \"time\", \"leaf\", \"san\", \"nec\", \"fuse\", \"cec\", \"wip\", \"fpu\", \"clement\", \"electrician\", \"earth\", \"stefan\", \"separately\", \"wise\", \"wfan\", \"oversampling\", \"practical\", \"patent\", \"slight\", \"accident\", \"cent\", \"copyright\", \"mon\", \"berman\", \"personality\", \"cbc\", \"lupica\", \"blinker\", \"vernon\", \"vaughn\", \"interfere\", \"essensa\", \"glass\", \"col\", \"cal\", \"bulb\", \"brightness\", \"string\", \"bos\", \"tor\", \"det\", \"stl\", \"pit\", \"chi\", \"phi\", \"material\", \"que\", \"buf\", \"van\", \"bond\", \"nyi\", \"win\", \"min\", \"shop\", \"har\", \"flame\", \"stand\", \"astros\", \"padre\", \"francisco\", \"angel\", \"idle\", \"brewer\", \"nationwide\", \"sosa\", \"intensity\", \"rockies\", \"axis\", \"inner\", \"mlb\", \"waveform\", \"cincinnati\", \"buyer\", \"cardinal\", \"houston\", \"bird\", \"soda\", \"clipper\", \"jtchern\", \"jtcent\", \"ocf\", \"texas\", \"wgn\", \"marlin\", \"mariner\", \"elitserien\", \"yankees\", \"diego\", \"california\", \"mets\", \"indians\", \"sox\", \"west\", \"berkeley\", \"seattle\", \"cleveland\", \"colorado\", \"york\", \"east\", \"red\", \"lose\", \"expos\", \"atlanta\", \"san\", \"los\", \"baltimore\", \"win\", \"dodger\", \"cub\", \"brave\", \"louis\", \"new\", \"phillies\", \"chicago\", \"pirate\", \"angeles\", \"boston\", \"milwaukee\", \"radar\", \"thompson\", \"decoder\", \"italy\", \"naslund\", \"austria\", \"ramsey\", \"burt\", \"gps\", \"kron\", \"markus\", \"dykstra\", \"cunneyworth\", \"zubov\", \"daulton\", \"vehicle\", \"differential\", \"electron\", \"domi\", \"poll\", \"forum\", \"miracle\", \"nilsson\", \"sigh\", \"orr\", \"france\", \"lady\", \"gerry\", \"hrivnak\", \"leap\", \"detector\", \"keenan\", \"republic\", \"eye\", \"germany\", \"nick\", \"sweden\", \"april\", \"switzerland\", \"driver\", \"czech\", \"niedermayer\", \"law\", \"canada\", \"finland\", \"usa\", \"roger\", \"kent\", \"russia\", \"attendance\", \"post\", \"vote\", \"people\", \"state\", \"name\", \"system\", \"guide\", \"uniform\", \"movement\", \"uiuc\", \"ordinary\", \"steph\", \"mediocre\", \"trivium\", \"specifically\", \"charles\", \"logical\", \"protection\", \"induce\", \"spare\", \"impact\", \"clue\", \"fanatic\", \"trail\", \"fluorescent\", \"bus\", \"explosion\", \"baserunning\", \"commentator\", \"bunt\", \"motherboard\", \"flashlight\", \"foul\", \"shareware\", \"properly\", \"spirit\", \"specific\", \"manual\", \"sub\", \"distance\", \"stadium\", \"fluke\", \"meter\", \"location\", \"pointer\", \"reasonably\", \"change\", \"darryl\", \"style\", \"cable\", \"old\", \"edu\", \"cheap\", \"write\", \"method\", \"read\", \"want\", \"day\", \"new\", \"year\", \"way\", \"plant\", \"tower\", \"ingr\", \"catbyte\", \"dtmedin\", \"nuclear\", \"steam\", \"fossil\", \"horrible\", \"condenser\", \"medin\", \"intergraph\", \"ssd\", \"beam\", \"uunet\", \"carrier\", \"reactor\", \"babe\", \"boiler\", \"pace\", \"uucp\", \"wavelength\", \"visible\", \"vizcaino\", \"equalizer\", \"huntsville\", \"wilkins\", \"dps\", \"analysis\", \"maldonado\", \"cool\", \"corp\", \"water\", \"cub\", \"suck\", \"fuel\", \"wash\", \"tune\", \"pitt\", \"com\", \"network\", \"river\", \"internet\", \"power\", \"hot\", \"heat\", \"office\", \"dave\", \"look\", \"actually\", \"printer\", \"laser\", \"turbine\", \"constant\", \"stance\", \"amateur\", \"mpce\", \"johnh\", \"obsolete\", \"vcc\", \"trigger\", \"jumper\", \"tesla\", \"bubblejets\", \"invent\", \"wooden\", \"flyback\", \"richter\", \"khz\", \"seal\", \"crystal\", \"macquarie\", \"matter\", \"rpm\", \"timer\", \"fence\", \"coal\", \"cookie\", \"multiple\", \"bleacher\", \"swing\", \"expose\", \"repeat\", \"canseco\", \"typically\", \"noise\", \"oscillator\", \"logo\", \"old\", \"life\", \"temperature\", \"low\", \"result\", \"air\", \"time\", \"turn\", \"quick\", \"hard\", \"real\", \"allow\", \"use\", \"utica\", \"cdi\", \"springfield\", \"breton\", \"cape\", \"captain\", \"adirondack\", \"binghamton\", \"mechanical\", \"liability\", \"enable\", \"keyboard\", \"valve\", \"compatible\", \"binary\", \"relay\", \"fredericton\", \"captaincy\", \"robbie\", \"providence\", \"sittler\", \"walsh\", \"notably\", \"phonograph\", \"instant\", \"deliver\", \"aid\", \"province\", \"microprocessor\", \"ftp\", \"rochester\", \"moncton\", \"continuous\", \"vdc\", \"baltimore\", \"faq\", \"trade\", \"halifax\", \"lamp\", \"john\", \"max\", \"turn\", \"wear\", \"oiler\", \"site\", \"switch\", \"ivy\", \"kkeller\", \"sas\", \"quakers\", \"keller\", \"upenn\", \"garage\", \"kitchen\", \"asshole\", \"broad\", \"schuerholz\", \"precisely\", \"champ\", \"theme\", \"sponsor\", \"vertical\", \"nottingham\", \"wasp\", \"afc\", \"nonsense\", \"appoint\", \"murrayfield\", \"swindon\", \"bracknell\", \"cardiff\", \"whitley\", \"romford\", \"peterborough\", \"basingstoke\", \"billingham\", \"eligible\", \"bee\", \"winner\", \"mad\", \"laugh\", \"keith\", \"cox\", \"divisional\", \"brand\", \"space\", \"pick\", \"kovalev\", \"let\", \"gerald\", \"ranger\", \"exact\", \"mail\", \"edu\", \"addition\", \"league\", \"game\", \"cup\", \"stanley\", \"round\", \"new\", \"right\", \"stats\", \"point\", \"requirement\", \"columbia\", \"magazine\", \"baerga\", \"pittsburg\", \"ring\", \"mediot\", \"nanaimo\", \"recognize\", \"attend\", \"rifle\", \"circa\", \"universal\", \"speculation\", \"ben\", \"snail\", \"cci\", \"sony\", \"stark\", \"classy\", \"basemen\", \"objective\", \"projection\", \"conclusive\", \"party\", \"pleasant\", \"fry\", \"weapon\", \"ballard\", \"institute\", \"repair\", \"clutch\", \"wagner\", \"kariya\", \"dsp\", \"octopus\", \"fish\", \"british\", \"alomar\", \"sun\", \"precision\", \"catalog\", \"analog\", \"individual\", \"audio\", \"name\", \"popular\", \"ice\", \"sort\", \"article\", \"kit\", \"great\", \"don\", \"mail\", \"philadelphia\", \"situation\", \"week\", \"designate\", \"rogers\", \"aug\", \"finns\", \"euro\", \"tag\", \"spice\", \"montana\", \"discount\", \"preamp\", \"triumph\", \"polarity\", \"paragraph\", \"experiment\", \"tender\", \"sept\", \"repeater\", \"favor\", \"continent\", \"ballgame\", \"playmaker\", \"july\", \"simulation\", \"pspice\", \"emergency\", \"falter\", \"supposedly\", \"fiasco\", \"russians\", \"tall\", \"mount\", \"catch\", \"runner\", \"fly\", \"french\", \"mini\", \"ball\", \"canadians\", \"rule\", \"pin\", \"pool\", \"obvious\", \"line\", \"send\", \"official\", \"drive\", \"post\", \"signal\", \"pick\"], \"Freq\": [377.0, 577.0, 570.0, 1028.0, 219.0, 749.0, 182.0, 910.0, 364.0, 276.0, 784.0, 324.0, 201.0, 354.0, 185.0, 257.0, 139.0, 559.0, 113.0, 349.0, 422.0, 210.0, 177.0, 245.0, 199.0, 363.0, 126.0, 135.0, 458.0, 150.0, 62.81452197805516, 57.26526044585469, 79.76366732925275, 195.42128770844553, 39.99221160644939, 79.7744830806704, 35.08474664685041, 30.117004701230126, 29.04345582891565, 25.5165147936018, 24.48518008173788, 23.43931588812946, 103.86643546832939, 55.05247226053167, 19.596170334839847, 25.01750250467403, 30.488561839726184, 18.964237370477544, 17.98397063483093, 17.79613435771776, 17.128241251477384, 16.84330124740007, 16.42093090537313, 16.379880888730593, 15.792425284522299, 14.944182870771131, 14.849607344297402, 18.399523482927837, 14.388477150323734, 13.424473094551129, 36.597958789739394, 55.62812091739633, 53.849532337299635, 74.97982477186133, 26.83283042194523, 29.297811952694733, 42.16860635036195, 118.30701828216255, 27.844923287193208, 45.54890803792216, 21.53784504837409, 38.817612820013224, 278.12649724684167, 24.483751866970213, 159.70007425920733, 73.85899603984222, 258.23467901647626, 361.50088491283816, 62.489000590305956, 59.45910246965039, 236.6694989044695, 72.79980370139023, 283.8711936050364, 202.64939338418208, 188.93638929243338, 192.17563989444938, 131.24954513846674, 63.64813076940169, 83.23343328249382, 196.78215322347413, 80.26063399807059, 72.4632582809031, 99.12478475553276, 110.8596072534034, 114.85585631399405, 101.37519747364149, 101.66868816977835, 80.84289186754499, 70.45168472821224, 80.85466720075965, 76.54998325930171, 73.36989199086514, 110.11295157404517, 63.51510276945804, 66.27921772853485, 60.73630824322448, 42.89172282039242, 41.05835911210884, 31.959649079594396, 30.979062507530493, 105.66600764634877, 28.339037427467595, 27.67408283429146, 26.621178641088374, 24.142994192552333, 28.07624550483884, 22.88803310076765, 21.584570548816927, 20.856039381740427, 19.10344522034542, 18.75755481514941, 18.44781523864138, 17.68288491767125, 17.51030067349717, 15.824614191261151, 15.116582269910918, 15.008901365735952, 14.6902353849606, 14.182816528496263, 13.732066370836595, 74.16121584594032, 13.1082752279996, 115.52575993661347, 38.57413503982114, 54.25966050964722, 63.273482344362264, 65.59725995377768, 24.6782981958595, 23.391517776473933, 98.26298628060357, 82.40088030454393, 36.348825469451135, 31.0319486813277, 41.21774487160271, 70.36605463301187, 68.23017406420169, 205.49914001225463, 62.42846714457057, 54.3956327497514, 72.08437282102155, 78.00307638754238, 78.51308669490281, 60.83936320356851, 211.73418860575373, 47.470474219743984, 163.77467336851484, 128.05417097690378, 60.715172220720866, 68.12652312336411, 64.54031692847987, 120.38973411966971, 99.29226587799215, 147.3917655811579, 118.98375937532444, 94.22983728558769, 84.5787491181263, 88.8968548341265, 148.86897418449485, 150.64204453284702, 101.3963466304676, 72.32050880657542, 80.66415057628691, 95.76184771430827, 80.26245262862439, 81.84656168548997, 76.10553125610754, 86.71350158100225, 83.46577683142836, 74.66017213414645, 45.4314224917527, 27.606437851074013, 46.53747952538412, 18.95089256129728, 18.58248412229341, 18.24057329930584, 23.68476966887331, 13.131546470649498, 12.873970837420542, 18.37310515394628, 12.181377645325425, 12.082843739629709, 11.66092440428895, 11.621176229282144, 11.240292916472146, 11.16382226397232, 10.836449847499212, 10.654791556345106, 9.951533130710354, 9.881610276736462, 9.796423234060917, 9.565672650549116, 9.539253828738905, 9.517055749901488, 10.261778313253414, 9.451578640133329, 9.509266504884074, 8.727004630769349, 8.679622172683768, 8.643318179974194, 20.157935751416122, 42.76991530046847, 63.62626538482728, 18.54266678348348, 202.32291567424542, 30.581572247324843, 27.572577354244356, 12.805438263438518, 23.228139734768323, 98.30887644705683, 13.179094396567864, 76.32789140625334, 27.00241022211327, 507.5928079191499, 27.369797838402704, 41.90741290883818, 20.79739976132829, 47.455295449688364, 79.04862382479821, 43.76417561253717, 27.571454974553188, 43.677239338486466, 54.34962389006872, 58.28150380137846, 176.74540586717322, 165.10906350420146, 152.14972089546663, 84.76941237148846, 58.563376941291494, 208.6132427504004, 52.2053743970185, 150.30169209176694, 83.41187574970576, 194.21305177931225, 148.68828091611562, 155.2302311609752, 156.71765565403845, 146.4160521225545, 81.73882611495743, 87.32855713415226, 97.01780711556547, 148.69280545452744, 109.0469788684814, 78.45826261313789, 85.23504060392872, 67.76350050702656, 64.19543970996165, 63.752973472146614, 82.51597512058821, 68.97509625127496, 73.75728821504195, 24.95447359630438, 24.084777844711976, 22.566305940044565, 21.602727657026076, 20.38685788102083, 45.552278971278355, 17.854926122070875, 16.949635834556993, 32.804840074409626, 14.884492153828777, 14.85574645737909, 14.836943721495894, 14.279861061793573, 13.937925869942703, 13.506807616303304, 13.445784132787447, 13.396229621942613, 13.297970633520722, 39.725969613514515, 12.318178573086035, 12.318139714422365, 12.113812765291954, 12.070785700388143, 11.124351374047446, 10.961082650861577, 10.781304662504523, 10.463309645696182, 10.331849976945966, 15.634433599545979, 17.885810664133384, 217.96578310431127, 108.46961394018602, 31.246652996360755, 15.986535189279445, 40.635621786025325, 34.27284267052498, 37.338674658076286, 58.57089305256634, 46.56178171831053, 32.142176806405644, 62.48791111491536, 51.26428880807963, 34.69811836217054, 226.9963292949521, 30.597674454412466, 37.93168377145226, 82.96405649038333, 47.694113462980766, 37.592742315814945, 34.986546793259166, 329.3197914549306, 98.50163487073249, 61.56249203962056, 134.3630132356324, 167.7505324953258, 40.90857475430748, 62.028996773419706, 111.8390810492087, 57.056985421769134, 64.00031621071734, 66.23813483990598, 52.36081877062215, 107.18146866886605, 136.83564181648939, 103.36602715334972, 93.98930855740703, 42.96785401504354, 39.39325849695225, 40.89602340594216, 40.932709222668365, 40.70083957655104, 33.132610185974904, 26.76577855885624, 25.96486656136776, 25.179945873216223, 25.326476182975643, 24.95703165038734, 32.70699982745239, 25.037060656120012, 23.737918232031383, 22.565359751996816, 21.815644097402537, 21.399898233160744, 20.182461436664784, 20.112345231244817, 20.07395199957683, 19.05783864236572, 18.452584189161023, 18.4722346804205, 18.227731686798915, 18.00243637914365, 17.341092584555376, 17.19305472404789, 16.900012219291042, 16.608564819965224, 15.06175133165761, 14.541673495718527, 14.407574944564471, 14.497821682436726, 14.309767306311572, 14.281252658183638, 36.273562984671884, 19.415645446749345, 36.23963604821078, 53.69628471226929, 70.14610685376498, 20.396312240243294, 178.36279328590476, 61.369395979701736, 38.48653879425785, 54.97457100705026, 36.97294576669362, 27.95363797452069, 63.758089006120116, 41.59848985900442, 49.076046232471036, 58.62445804393377, 36.00725183036235, 52.07850765023071, 26.65910273823222, 51.48148132447339, 49.987907121662495, 52.01423647468041, 52.78652513546899, 51.15868029126511, 88.13826813735606, 40.06541742404397, 34.305043875426854, 41.9042750924475, 42.58431130866097, 43.90799722249845, 41.90747939256889, 85.23910111798176, 46.22004870367681, 41.60024497816638, 47.67057015548492, 39.1259214590569, 42.088268742759276, 39.63217672521984, 37.019706005650924, 33.73269348609921, 32.926554141241084, 24.278080532031776, 20.818360826995185, 18.18545660643161, 60.822353884548356, 15.285583068905549, 13.443521369063424, 13.282556665022277, 12.477912004155767, 11.994171935698132, 11.864010677101211, 11.720943508669855, 11.391021505142112, 11.33877330832792, 11.18583310437111, 10.926427120439914, 114.01079780934572, 10.54701908838002, 10.131645827026468, 9.928423912179747, 9.788079272933631, 8.982895133627718, 8.184364561741129, 7.743164011802876, 7.519875529305496, 7.421418780499625, 7.205813998534809, 7.158925781054059, 7.143079810405588, 134.76018274067619, 12.916551481717706, 100.91148012034567, 97.37974874491368, 27.651733123031267, 14.76811109587652, 32.22488798663761, 29.71927554078538, 167.57465685230557, 62.28702817946025, 46.1447697845028, 30.195430039645217, 39.259280777437034, 50.98833096480655, 38.90499619829179, 29.65494612071168, 45.65264556366789, 60.8776861964552, 41.038956339756005, 41.01900143834146, 60.22606198454635, 28.09864170290903, 47.53196801450403, 174.707652379804, 58.32065120717095, 93.4066969354458, 47.27632484434733, 64.73329026252003, 79.43340097123608, 92.02530728333693, 87.00400439297232, 128.39847509068167, 67.54406187808553, 68.69328630703143, 47.03616992616063, 53.85484868577722, 61.07137635873186, 54.44894013250309, 52.334378011483714, 43.48609241655991, 45.38190859889471, 46.198083402894454, 29.957886231511086, 26.49653595471783, 12.493975497637907, 11.904305460724474, 11.818025546481406, 11.755710715450064, 23.4239107195107, 10.98736084791338, 10.289950256718118, 10.046865603990865, 9.838465642274656, 8.640308999829687, 8.596957753402116, 8.311196354724258, 12.3786078426724, 12.595022022542091, 8.198333881705512, 8.052376558887584, 7.7332587844862894, 7.451073789761327, 7.4271227432517515, 7.3485667090598135, 7.246135722059425, 7.172463721441663, 7.019466623108939, 6.517315424096703, 6.510076179656624, 6.275102524450304, 12.104436327327122, 6.064595949250997, 10.209754883469895, 20.662937210709003, 10.301661298953459, 17.5088001073468, 15.4747977456931, 16.94049393110468, 228.84798519663076, 12.127195731701596, 9.006843492865283, 15.698740769331424, 10.245404413060257, 16.600604792617535, 28.70974858658127, 107.5275569307717, 126.14668972908396, 31.311053869660313, 22.67386175648158, 16.720330474213515, 85.22135186472386, 80.08032548231155, 78.39548978049191, 27.313584313427192, 58.64083210472507, 40.138387150154145, 64.1046849060013, 21.999188406446873, 23.780995556904596, 59.8222614308508, 70.39874805996018, 24.524153237952184, 37.742951528535436, 20.26488145606255, 22.11820043255463, 39.389235058514984, 22.893259843718702, 22.88043177550179, 33.97062180949232, 39.29943562590142, 24.528575537903027, 27.590166447673173, 24.485185875237992, 26.175142757020748, 24.677596555658496, 24.59804834825674, 24.44396672998953, 25.24705374147687, 23.874277569198796, 109.29666132752794, 82.17748140438742, 109.73022933421306, 180.6093091705121, 66.2551256463933, 28.074373135939684, 362.64322866003965, 17.208406285216665, 13.94337250651008, 13.579513559381859, 12.1475052763151, 11.955101236874283, 12.43865287611473, 10.667637504062839, 109.45212632798248, 16.890872242063914, 9.334797610028858, 12.955747402084862, 7.502590807547896, 9.461582340004394, 6.054471237627147, 6.0543040310061995, 6.430474339706427, 5.835973056777978, 5.702720526990669, 36.14543177481824, 5.293469936545379, 5.293469936545379, 8.778224981569176, 5.140703774809684, 45.11033489798644, 37.26680855175849, 38.50179913121383, 13.046384537746617, 14.219455409046098, 49.99792067072161, 22.431476660789002, 70.12694729824908, 23.58591576024465, 64.27083637147118, 74.57700660236914, 56.43973533503099, 43.906115291055734, 74.76420370377689, 31.140417411475234, 40.179218429696974, 30.93234549236783, 73.61221201382489, 39.75465480919178, 34.82092496334527, 39.75272759806441, 61.46092291360611, 49.51510226347821, 23.948650088026053, 27.969783536685508, 37.79056750218421, 23.365761947677335, 11.579438205480388, 10.99137561103883, 17.943176633114263, 10.422413706433515, 10.337422852020273, 18.235812152670036, 9.407987116610741, 8.88499431872674, 8.860361450169593, 8.720259205962506, 16.454130460921917, 8.480574713116123, 10.02891657643429, 12.535547118675018, 8.091143649590196, 8.078509497024715, 13.354155560886081, 7.724012286743508, 7.473333771037916, 7.222125320632404, 6.901597894748238, 22.291908092552674, 6.444922119597692, 6.3106837180484145, 6.256255665104467, 6.191716409579438, 5.971399392917084, 5.877441485555197, 74.27570089804398, 17.83813193400405, 16.890240040321224, 13.00930267707733, 17.575580213156776, 42.742616884496655, 34.28508462950531, 31.130302112312542, 16.355062988667324, 22.20620904165258, 33.35040593602918, 14.547562441779629, 46.44646025741514, 33.00232736274266, 41.01300703717545, 55.251001514971435, 36.352739458105866, 23.2365160888273, 26.302536362781314, 35.99999212373309, 37.37601304702078, 22.3242280459217, 19.475770825921767, 27.17560438723197, 41.74342440146506, 43.79668004327648, 26.03507092247391, 26.70104483179065, 23.265515764831616, 31.54724794328431, 25.751600726629796, 27.830904417306847, 24.150409700480488, 22.416123816081726, 22.348726308639737, 40.70887241920063, 13.706360868829554, 10.1095237947463, 9.503096608328857, 9.181346169008645, 8.791623679713084, 8.759577663906752, 8.49564383527039, 8.255530583684385, 7.591242581730722, 6.701028583640164, 6.484531148892127, 6.441568619685109, 10.217834023589418, 5.9393264319255215, 6.05016259275733, 5.552575259357618, 5.483129853312261, 5.301957516957162, 5.25908506556252, 5.212234594481544, 5.047988963341727, 8.59545672381277, 4.906887491605636, 7.91991566774274, 4.574910301392463, 184.3889883452985, 4.470635641949141, 4.356946600031872, 4.385928719136716, 19.334793739987543, 103.98743466180991, 54.31671401695997, 86.10961784294778, 17.526191405824594, 42.94951129502243, 83.58135383978109, 57.60270590539715, 61.08173120953933, 15.679873157998584, 39.895923498728806, 16.887324530198587, 50.7281574291847, 52.74012210153835, 18.021117273490145, 25.157460230295047, 16.120610549089843, 30.800356428715997, 14.902246416731334, 22.17022308335401, 29.726799052181335, 23.330105030081672, 30.214393586784112, 23.075333282639225, 23.511181450247665, 25.579990226533038, 27.914096509447674, 18.762430979616692, 33.25122023754539, 35.21962061086212, 24.01951723520368, 19.19826580236404, 18.85221353694032, 49.1810171333433, 41.05219098142444, 37.511626605628955, 25.444041691282276, 15.22621784851928, 12.680545064247934, 10.255715582101649, 9.799712620113237, 9.240903859798117, 9.18643946782626, 9.12187004093869, 8.572688575055823, 8.430569018130724, 8.331585802624106, 7.671743825914024, 7.540539156393155, 7.37565938388353, 6.945443864763816, 6.522859673284067, 86.93611083258281, 5.995944208692489, 5.639630200221435, 12.579575107282505, 8.277512828372494, 5.23197160987363, 18.143796772737105, 5.050974191356775, 5.037402078435909, 4.969806742168949, 4.719302037022698, 17.147686119289645, 92.8111563871494, 20.299645183646383, 7.572278916209598, 12.392713341962102, 67.85946547174211, 55.67421801846165, 61.59294420912167, 54.1226434470357, 53.61737984010702, 49.442431454274654, 38.289796663187715, 11.503381969758975, 39.90400861309088, 31.981360756881667, 37.022965963143456, 19.61860207270884, 26.41800495486882, 64.17704446102553, 23.618590691306718, 14.645589856633956, 15.226318009282709, 15.584044811680029, 12.698625399951705, 25.48232476319939, 20.67467948200809, 20.00414263467919, 17.762820491260076, 15.23233496887587, 13.994586958461559, 8.166557211817638, 6.994675577759016, 6.025673288742547, 20.54416808766479, 5.325512332511317, 5.2312999556061515, 13.327988066598198, 8.554182431222056, 28.52882926131233, 4.2364804330250045, 26.02888633399715, 33.14865306570541, 3.864025348138755, 3.8329263564798306, 3.8329263564798306, 3.8329263564798306, 3.8329251227845096, 3.832924814360679, 19.671642006468044, 3.3929625383414357, 13.616670304387986, 12.333456920298401, 2.5089089622745266, 28.891399979284454, 19.084215511848075, 20.208066302810813, 32.451489372257235, 17.431855813723924, 40.86020617129905, 28.28229745786953, 10.583646395050714, 14.95406882068368, 22.10086951796723, 17.586974494945554, 42.706623676070514, 34.8005686335139, 65.05454561690613, 66.82516488113791, 16.41434215728393, 24.654307941803925, 40.46909514576434, 31.584122604894098, 26.169692915796567, 89.27183179548909, 24.37444415817067, 30.94302049423571, 28.472284069956608, 27.893029573144823, 44.635965245557394, 22.8843820143427, 28.39905685046648, 21.473044436356503, 22.316030916780427, 22.091313314008566, 20.561988816580737, 41.12424736560961, 15.250433982721697, 12.830086278651748, 11.966589854029401, 10.755786460422714, 9.886110808767294, 9.743527183867108, 9.021127392428978, 8.917752420998184, 8.745176474830622, 8.647440006172548, 8.3535088897186, 8.209544965595967, 7.894323389990101, 6.469837834440247, 8.64591056089895, 6.291488763034318, 6.288359488957363, 6.188243386674186, 6.314170693397535, 5.644986436449795, 5.350668210582186, 19.45293734818333, 5.12779094321582, 4.618070627721548, 10.487769330706362, 4.482666122856533, 4.478560975553509, 4.425225062883258, 4.204841662727989, 47.61759497478688, 21.50617685023076, 11.720237445091449, 15.346643799103385, 20.91352071690722, 11.629330971816975, 29.423973147394673, 57.970341882646906, 13.376052436172325, 19.13587630461327, 12.730618710321329, 8.824473575891359, 20.178998200367687, 38.09990954552755, 17.23335698694566, 18.189547403058523, 20.37995993580596, 11.520563839967608, 10.96825422717786, 10.042157797430914, 15.889575644452233, 11.786929749731895, 13.528850610478292, 11.789815474451913, 11.10293031836984, 11.303451877447413, 12.28829504542662, 18.69606889625912, 10.694081956059655, 9.977896887912909, 9.829565890277356, 8.510576579847836, 7.382464943065599, 7.249802428721088, 6.684753810857722, 6.666691314415729, 6.133029580426345, 28.984875888882815, 5.645449070087314, 5.3549869033132875, 5.248606095262008, 5.196058817557775, 5.337733672058168, 4.993814623594163, 8.589885576591659, 19.534203421164385, 4.4266220832544185, 4.364630353079567, 4.138004335205368, 3.932143406546772, 3.891961751319486, 6.764901821477531, 15.129945293111602, 3.531097799115486, 15.051937171247616, 5.296372405675311, 11.450567926297675, 11.68438052156036, 11.159117497987028, 10.463611298278966, 23.39113407419361, 12.591295024123896, 12.42745840466482, 10.414350494399061, 6.769312694907299, 7.843612482590487, 16.159423386388557, 7.492556269814827, 9.46659356275939, 14.484265626591652, 15.390435907712305, 17.631918957929066, 11.24325990038903, 10.128903250708307, 8.400562398004272, 10.440289334444895, 11.28493932648087, 10.78350954082229, 10.909844660257091, 10.833641628342642, 9.778043177594762, 42.229783773796385, 38.00104532414357, 19.562182157766525, 19.562182157766525, 19.562182157766525, 17.626940069205666, 26.83795649217315, 12.531304137742648, 9.99208684649836, 9.849274856297491, 9.801553011059696, 9.801553011059696, 9.801553011059696, 9.624516066945077, 14.214892724748815, 8.205925382033405, 7.980911146335408, 7.215651686061475, 6.922880064377808, 10.842017057544325, 12.254319682983352, 6.12773726678616, 6.096887021342863, 5.398784696706422, 5.388730017735026, 9.823975955295946, 4.833589745886498, 4.8047515046442495, 8.336098120161747, 4.905181740892558, 48.6402088449284, 22.631188370798245, 55.40286625953214, 66.82192787023904, 30.38758840389578, 8.342515359725505, 9.848798929646025, 12.954113489790261, 13.940266535111482, 29.195256162928082, 16.647622884645717, 10.883747083368043, 11.938276219321839, 17.03657734003307, 13.031357356602209, 11.013173879316128, 10.653829831881056, 11.132953933422643, 11.61486074895699, 9.976930039567463, 31.49336064241109, 12.052947549364347, 11.759044891639691, 11.2937451785522, 11.246254015676023, 10.618690497219806, 9.954492648350826, 9.954492648350826, 9.451616714318634, 9.130355803837952, 8.362826001263423, 7.386212423953175, 7.12025042773047, 6.619902446821647, 6.5409978836328895, 6.337913835779395, 5.6699484247826675, 5.572996428358508, 18.69026773313852, 8.469212343835345, 8.813659588250777, 4.9973285690774025, 4.903159781970974, 4.666117974801363, 9.23039307078527, 4.461356184437856, 4.350302368958442, 4.164112034943905, 4.144026412360705, 3.848507292913718, 18.61767460855516, 11.707137651843285, 14.37989100366986, 12.161928916157969, 7.8908635707246075, 17.006042005304597, 8.89193204252722, 8.015554050303955, 22.62694746395765, 9.70436087891155, 10.955206946152188, 17.065770989733533, 12.583158574909977, 10.938407324861247, 18.081958927687637, 11.83702204007313, 9.221589868498048, 10.53568349893754, 9.56246738639951, 9.57276738398902, 9.598037264704972, 31.193145920514244, 25.756120006505338, 27.22016980654481, 25.358272318500244, 25.355077854756395, 51.549027399138495, 32.91568310440926, 28.254317071331148, 11.929871527701549, 11.225044139648105, 8.590260654334648, 7.636799935983554, 6.728211627801982, 6.104169650865861, 6.096328547064365, 13.824284151022182, 22.685990755860757, 4.72474599276918, 4.0187512721375995, 25.037612015477848, 3.9233594146095605, 6.976635073241779, 3.3615414099138228, 3.318444107007342, 3.2002400344561495, 2.9134333891575426, 2.8772618813770947, 7.202224018586642, 2.858063899813498, 7.121736011881797, 29.27170920360408, 27.43409028830578, 6.764201208360082, 6.502413202782389, 31.971872227321935, 14.62781738936888, 48.39055364102889, 10.345398872327866, 12.046780634990775, 32.70323100628702, 9.912553086867312, 13.641183518349527, 8.223811416917895, 8.882473050272344, 7.732263510924411, 7.2486612459782265, 17.073997940894674, 15.955989818251314, 15.955989818251314, 15.955989818251314, 15.955989818251314, 15.955988222280151, 10.212483810010056, 8.111813899142202, 5.642309466767711, 5.274164803795975, 4.990987251548358, 4.465772293689317, 24.893985321067966, 4.008217336277619, 3.9435920749953883, 3.6391573838443048, 3.3336771320855187, 3.333675137121566, 3.225819006980529, 9.357021721406468, 2.898648310147712, 2.791751358675218, 2.791751358675218, 2.791751358675218, 2.791751358675218, 2.791751358675218, 2.791751358675218, 2.791750560689637, 2.7917497627040557, 2.7917497627040557, 4.851483811244489, 4.1129872571835575, 31.374054364307028, 3.7872319872753057, 9.920603028021624, 19.14042150256189, 9.823068442379974, 6.175441638570133, 9.420661869488768, 10.279094060425397, 40.83261576098694, 8.268590136342855, 36.20996189600026, 6.103496854544803, 25.071998348539765, 7.743755817606022, 18.67238699950574, 19.243042448297793, 6.404427192016266, 17.652424173275968, 25.11810755138978, 10.44660479966368, 8.315455829523799, 8.985333603461635, 11.746208905038204, 10.066194699316878, 8.566360849905754, 9.037777215854819, 10.263858990023822, 9.44896079878383, 15.10834770526816, 23.336386697164205, 6.790837876422148, 24.37637871303601, 6.043077604944162, 6.023009153151377, 5.581696856317203, 8.880829294481083, 5.060709175563817, 5.042612140703302, 4.883390998100846, 4.694355653602749, 4.6250049594905835, 4.3340472005447275, 4.254795285571234, 4.04475707423581, 3.940620692567623, 3.8725626722043107, 3.8054275358062672, 3.7783004730046743, 3.7780121960228477, 3.583361215918769, 3.3713659020943108, 3.351531252874372, 3.2435355382605175, 3.2159490215934063, 3.139396572040079, 3.094586400361532, 8.587110438484462, 9.874819461274983, 6.110917727671556, 8.770837907906142, 8.969258358062243, 10.438612098783672, 8.814045259565733, 9.059137156644422, 17.857756217883335, 14.208988732210635, 5.084640538913079, 7.674194892436048, 9.53515362823286, 8.99564623892009, 9.412644261048452, 9.981433434493185, 6.264520848927491, 11.210805534371008, 7.715015708309537, 7.985802030995997, 5.863292969387024, 9.557867468660257, 10.973440255652118, 8.705979165605969, 7.474781178968771, 6.859488355686041, 7.078990004493841, 10.183905179408827, 8.270807083061651, 7.600774235170268, 6.222629820576572, 5.753790597072111, 5.5941472895925255, 4.561307089609236, 4.54635893698105, 3.5698263282874327, 5.760713413035558, 3.256947307151539, 3.0605577004912425, 2.928887500525329, 5.4458363838027966, 2.8020180872740683, 8.998108872574674, 2.709569638739743, 2.5665891570890254, 2.611975679367074, 2.4286398581606474, 2.3830609664004525, 5.751692924682814, 2.138813610380735, 2.108994352332975, 1.8895988219903204, 1.863129999089944, 5.062299853043007, 1.8040888474005456, 1.7889351527029345, 3.802013559304987, 8.996108627623364, 21.86898822983128, 17.75304880151081, 13.66129126096156, 4.97560683099197, 3.709792524305757, 20.506209016949803, 5.46259837684533, 12.60669889421153, 12.247164805788705, 7.209215847297094, 5.695645802666125, 9.742993332171636, 6.014607328112833, 3.941478699927953, 4.371408586004777, 4.267871055836178, 4.037367679135862, 4.009805158682274], \"Total\": [377.0, 577.0, 570.0, 1028.0, 219.0, 749.0, 182.0, 910.0, 364.0, 276.0, 784.0, 324.0, 201.0, 354.0, 185.0, 257.0, 139.0, 559.0, 113.0, 349.0, 422.0, 210.0, 177.0, 245.0, 199.0, 363.0, 126.0, 135.0, 458.0, 150.0, 63.67286577040707, 58.12047731972568, 81.19802165707576, 199.43548614428423, 40.847817203985464, 81.51165706479053, 35.94881187985789, 30.97300519289574, 29.904053509312583, 26.37209525790678, 25.341410726727993, 24.30377414948553, 107.80011549882725, 57.253968894938886, 20.45931474326514, 26.12659614715452, 31.84341082619446, 19.850978099204365, 18.839225955856886, 18.65138991313058, 17.983776434264684, 17.702163207582696, 17.276153834468477, 17.235246596515186, 16.64766022647066, 15.801433839223494, 15.704871988089874, 19.492734378147755, 15.24375778211282, 14.279808970907965, 39.048594433276456, 60.064203550301535, 58.447467418763246, 82.21537025950447, 28.918985714005867, 31.86289937094662, 47.14444920375116, 145.9632061704274, 30.494109765655544, 52.16846021041685, 23.111582631682282, 44.866847831530094, 422.23395415753726, 26.724020429999086, 267.28316031987174, 104.26909738851447, 509.8736583822624, 784.1463114787706, 85.63802653584925, 81.79315992122683, 577.161655216579, 119.59791196341855, 910.2101475450589, 570.4632497018908, 515.7706751805456, 559.3902547922562, 324.5680418110707, 100.54267367674258, 169.5018147762058, 1028.4454815199786, 179.07837307138107, 149.20913344061964, 339.84816495666706, 471.3564110332991, 540.1582279511126, 498.82436921408697, 537.5551202032023, 239.909878985769, 147.4471209447012, 327.50204026907136, 426.1030258111953, 357.08179035379555, 111.02820240235047, 64.37195189973242, 67.2009198975616, 61.59246065433045, 43.74566979260014, 41.91208307992308, 32.81310704352281, 31.83262235268511, 108.70005838654475, 29.19429582300914, 28.529468389659066, 27.474634548495313, 25.003229416977707, 29.091301706084597, 23.74273831363422, 22.43867105623902, 21.709971014735675, 19.95702977533486, 19.61102201179925, 19.301286535125527, 18.536337611826568, 18.36377238614914, 16.678314278736117, 15.970191325404079, 15.862550934837225, 15.54372501558, 15.036855572138162, 14.585537619842777, 78.80402630597271, 13.963098211520004, 124.27374786515416, 41.47503916941193, 58.989221641906276, 69.24237204253943, 72.36761629662928, 26.499464237570667, 25.079466601294126, 116.0112120593602, 96.56608214018105, 40.090552744358085, 33.88574418063861, 46.235716175157776, 84.41978629804966, 82.20147676095836, 288.60530220338404, 74.90654704756277, 64.1729624603694, 88.87008226794312, 97.83640237871835, 98.85603405476643, 74.01777714800322, 354.09765814662376, 55.882045538828784, 278.54380188834136, 210.16064369258, 79.4835227554503, 95.36134163459735, 90.434209561117, 239.58491358520055, 184.03632881885684, 363.3406480032332, 253.11119871047873, 173.20429739695214, 142.93689493613437, 156.83501192028754, 493.14733587051103, 537.5551202032023, 239.68937578556424, 114.93434904680768, 177.74687068399638, 357.08179035379555, 236.138800717934, 275.00846199918647, 183.1679480970207, 515.7706751805456, 498.82436921408697, 540.1582279511126, 46.300694284836176, 28.4604900349084, 48.35631299937627, 19.805226144414497, 19.466549722958394, 19.120753137208993, 25.08423619170911, 13.991615866320394, 13.728202198916806, 19.613021465033782, 13.035388206752268, 12.93649116262684, 12.51480245511635, 12.475420731948324, 12.095884872863605, 12.017479241151904, 11.690133043154967, 11.536854556423886, 10.805249333291508, 10.73525553470481, 10.651477838875168, 10.419323287262237, 10.39291096169144, 10.370701011501975, 11.187257184611042, 10.305286085041775, 10.3888033732997, 9.58066703127024, 9.533267685034218, 9.496964065105958, 22.320183618231173, 47.852001108422854, 72.50904589303107, 20.805438602822317, 253.19364549665025, 35.24455152300244, 32.25283845202193, 14.244430211092892, 28.097864166579882, 144.48118271916525, 14.864684926906824, 110.84465189718269, 33.63821402413327, 1028.4454815199786, 34.59897677764126, 57.19991679067741, 25.15883507631729, 67.87934811965805, 127.77091198578893, 65.28841301355855, 36.772275725280416, 66.44133632212005, 89.97560240437112, 100.97980652224763, 471.3564110332991, 458.16489767258213, 426.1030258111953, 185.8994579323941, 113.11515464437686, 784.1463114787706, 95.57544625934085, 498.82436921408697, 199.24244898209375, 749.1964106907562, 493.14733587051103, 540.1582279511126, 559.3902547922562, 537.5551202032023, 232.3999260681144, 267.28316031987174, 357.08179035379555, 910.2101475450589, 515.7706751805456, 239.909878985769, 303.1517242572843, 179.7634719704127, 153.62739287727825, 164.5569175717428, 509.8736583822624, 232.42518153787233, 364.3507806939921, 25.802159246313398, 24.932255910393014, 23.413603992679793, 22.451494195471923, 21.23413051787406, 47.47745335605874, 18.702204487819557, 17.79787019497612, 34.58586685660044, 15.732239727313443, 15.703071438224974, 15.6844027912229, 15.127169138140035, 14.796414927667026, 14.354080489733352, 14.293072005798816, 14.24350341237759, 14.145283513445337, 42.432798637154555, 13.165452195575652, 13.165426781918255, 12.961196696751026, 12.918749861270484, 11.975795913163745, 11.80838587458357, 11.628635665262934, 11.316333617995793, 11.17913098888842, 16.918233496764795, 19.36852323952453, 245.93426910090471, 125.43919229412595, 34.78056636699034, 17.494537358001224, 46.32492546040132, 38.733514759087676, 42.42712153486546, 69.60901457104913, 54.66830503824564, 36.925452020660195, 76.36105928589272, 63.82399224846032, 41.95025137762686, 364.3507806939921, 36.61648210530503, 48.451786150457046, 125.49011410275229, 65.14101868374743, 50.77696060790497, 46.6593562351756, 910.2101475450589, 192.659318985364, 103.69141171361495, 324.5680418110707, 458.16489767258213, 61.94121336694733, 125.69689696210624, 349.23059880654654, 109.47354833547585, 147.21447270099986, 160.47684049448154, 109.64097845731968, 570.4632497018908, 1028.4454815199786, 749.1964106907562, 784.1463114787706, 81.31627169050512, 62.164077713086755, 82.99597797578022, 121.99666844586493, 185.8994579323941, 33.988672804971024, 27.622356667028473, 26.820929699166026, 26.03658426530861, 26.193734801884606, 25.813075177748942, 33.829185010502925, 25.897200190153438, 24.595064060901343, 23.424668313024544, 22.67690574169059, 22.256077695303286, 21.039332645804084, 20.9683846784988, 20.931479058053814, 19.927524587894684, 19.308590408119617, 19.330799487830788, 19.084054446622638, 18.858462576976986, 18.19710976545457, 18.053316573950376, 17.757731135876202, 17.465192864665983, 15.92820947048366, 15.39845241094165, 15.26582212585822, 15.36366609765981, 15.165791391802294, 15.137281978385436, 38.541682186517, 20.89560564073976, 41.51963073252561, 66.8078100685524, 90.62372244294677, 22.568149133354886, 276.5301504718631, 80.84775337090689, 47.48443049527501, 78.48118138622101, 48.50782121125917, 33.85663854348251, 102.26191260647238, 58.56587303607641, 73.52336680828859, 97.18253998408207, 49.344181133742474, 87.61872878604231, 33.333254608984774, 105.41241834871656, 102.39402331932831, 112.91645045729551, 119.51861150797018, 114.4448525220421, 363.3406480032332, 74.83787326270408, 54.41409140335094, 87.80887812747821, 98.59245603732043, 113.71166857213542, 100.3452653232785, 749.1964106907562, 136.4106554789903, 132.8659278627189, 349.23059880654654, 97.80176583328421, 254.31238968315196, 257.15459773597007, 79.67928492082554, 34.59230145260783, 33.78601553231309, 25.13909487996947, 21.722954198672042, 19.044329190495862, 64.16223728093786, 16.14438796656224, 14.307994485162162, 14.141491358144208, 13.336730870698004, 12.85298282640024, 12.722805063874045, 12.579741187954282, 12.249898063331958, 12.197577740156582, 12.04464544695398, 11.785223469653232, 123.053483585417, 11.405826426099374, 10.990450146358464, 10.78721830852771, 10.6468736700308, 9.841692399094702, 9.043159720062283, 8.602112899781565, 8.378670009115451, 8.281085278557716, 8.064608496247825, 8.017755123294311, 8.00188033327084, 152.74192624149293, 14.527211001036209, 120.55588058187676, 116.77251001245673, 32.44508473210778, 16.980897298282525, 39.65226357957651, 36.70868396684361, 257.15459773597007, 85.95984284193956, 62.40913072849347, 39.36562685361445, 54.35011509948888, 74.99927990019381, 58.323650080425274, 41.66806290181888, 75.06452604140979, 111.48040607696578, 70.81503417935016, 75.7948339683668, 134.38817147749373, 43.96296564677181, 98.48243355552546, 749.1964106907562, 151.90636541989574, 339.84816495666706, 114.1157151115057, 207.10685920021768, 327.50204026907136, 471.3564110332991, 426.1030258111953, 1028.4454815199786, 253.11119871047873, 276.5301504718631, 113.66818386382853, 180.05362111280593, 363.3406480032332, 232.42518153787233, 458.16489767258213, 116.45992117094987, 254.31238968315196, 784.1463114787706, 30.817989939786404, 27.35377015545806, 13.353704135077665, 12.761579644463067, 12.675938945749682, 12.613044768707294, 25.19693693921693, 11.844545737866317, 11.157141749171762, 10.904046110815411, 10.695668968572596, 9.49751929922306, 9.45416518503637, 9.168454747055225, 13.661144179021116, 13.900721712980902, 9.055642812571417, 8.911095755476328, 8.590439827035585, 8.308254046997526, 8.284328368385648, 8.205954919828095, 8.103317373937735, 8.029653400061028, 7.876649464985387, 7.374495672552696, 7.367267124503681, 7.132286141488796, 13.770013549330903, 6.921776200965013, 11.936406276484165, 25.136427161753108, 12.364066111412974, 22.73426290505632, 19.73277278012743, 21.90043921355208, 570.4632497018908, 15.218847536239227, 10.659902340371078, 22.801819353626886, 12.8618057680739, 26.926008540469788, 62.773040843077005, 559.3902547922562, 749.1964106907562, 78.46395435938778, 49.41284014502929, 29.35495750850982, 540.1582279511126, 493.14733587051103, 537.5551202032023, 76.57839541616258, 364.3507806939921, 177.62735125287162, 509.8736583822624, 52.54882678699061, 62.90112390976802, 515.7706751805456, 910.2101475450589, 73.45048861924282, 216.60313628843102, 48.012374838921424, 62.23646028316295, 327.50204026907136, 78.02225745781307, 79.32268460117008, 357.08179035379555, 784.1463114787706, 131.59509706150988, 275.00846199918647, 143.90950095032827, 303.1517242572843, 179.7634719704127, 179.07837307138107, 177.74687068399638, 498.82436921408697, 167.26228706480563, 110.15602414236436, 83.0368459509481, 110.96318631503622, 182.8652080898403, 67.11510008055477, 28.9456373154835, 377.6383488499465, 18.09780458558591, 14.802643923840387, 14.438850671743234, 13.006791017460902, 12.814380657098706, 13.332935739240964, 11.526918589290844, 118.63066064288722, 18.32449924993435, 10.19427835886199, 14.274513695150354, 8.366367263054467, 10.76134978386876, 6.913749192721997, 6.913648095609687, 7.347900393366852, 6.695245608393755, 6.561993452241718, 41.695646164375475, 6.15282676218637, 6.152826784935019, 10.21439377929403, 5.999977066723473, 53.99506012884981, 44.74509615694147, 46.44891257956446, 15.404329974113436, 17.14081057164662, 67.75518385037157, 28.686239223803305, 108.15754208954401, 32.33621202222528, 106.08500438219085, 130.04313980991074, 94.24479143582533, 69.17886546340253, 172.91142124440705, 53.65439070058448, 78.44970716972067, 53.47882831691114, 210.16064369258, 93.977774439325, 76.64161542177209, 117.9760074841342, 354.09765814662376, 422.23395415753726, 63.83417543452753, 540.1582279511126, 38.6638307385864, 24.22403978080268, 12.436753411635387, 11.84869618557729, 19.35203746265973, 11.279728654920905, 11.194741527487066, 19.89661609081128, 10.265675426745682, 9.742309289058575, 9.719840357981655, 9.577589902782446, 18.092074470414346, 9.337889953034878, 11.043850455923593, 13.830946737188988, 8.94846898301873, 8.935824437209591, 14.778787379283497, 8.581329727816591, 8.330649556409464, 8.079444407070904, 7.758916219233693, 25.106307905786867, 7.302248821725843, 7.1682093264196665, 7.113602817195491, 7.049032529903915, 6.828720782558185, 6.734759899577743, 89.57606365510503, 21.251841665620784, 20.09139340911563, 15.428131149629856, 21.329309122197646, 55.872498122678934, 48.77460319358438, 45.08754966744473, 21.969374473629657, 32.454900276488075, 57.65158610359503, 19.706743296094412, 106.29389890009561, 69.8443731181539, 98.66611562329233, 170.67416911886818, 121.18645055964518, 54.02515570474578, 75.56964725451444, 160.47684049448154, 184.03632881885684, 59.26213780224595, 43.91959525300422, 107.17642893007617, 354.09765814662376, 540.1582279511126, 117.60910209576544, 151.13706916251252, 101.44204576558347, 498.82436921408697, 239.68937578556424, 515.7706751805456, 192.659318985364, 128.72953012766885, 163.06585926434911, 41.57299684640771, 14.639950181343458, 10.968331808442231, 10.361809458252162, 10.040067685461029, 9.652212934499682, 9.61913505201879, 9.35519585883618, 9.114388550131789, 8.450109383664476, 7.5597482666191, 7.34324062227155, 7.300284385825351, 11.656989022668979, 6.79804068352329, 6.934974961407845, 6.4112938825267705, 6.341854573182944, 6.160680219787007, 6.1180156687501155, 6.070944895246045, 5.906703484544622, 10.081280670083048, 5.7656147737114365, 9.316375466424917, 5.433622618584497, 219.00513851047805, 5.329351727531892, 5.215657072744891, 5.250854249988116, 23.293358899971054, 139.46096577058182, 78.4773372126298, 135.76333491553945, 24.093880971613892, 68.70918904018042, 150.08728610702258, 104.90691286672185, 123.00963556355522, 23.151081412714344, 76.67567257613072, 26.01861215801813, 117.81420508629886, 134.00354858156336, 30.552770418173594, 50.42466889595431, 29.546836923215967, 103.7638892096775, 29.871525314186915, 67.39184826269272, 125.69689696210624, 82.52758357672307, 147.21447270099986, 87.83162668912888, 109.64097845731968, 138.04222345084554, 185.8994579323941, 68.94800968781385, 577.161655216579, 749.1964106907562, 498.82436921408697, 144.48118271916525, 114.05064118366424, 50.039632980760466, 41.91868951621498, 38.38679970444025, 26.304116349645174, 16.084845145070165, 13.539522750006157, 11.147178786633983, 10.658328501935229, 10.099520809509833, 10.045055310405267, 9.980706797780874, 9.43130955540973, 9.289204241344416, 9.190201653823515, 8.53062762889581, 8.399159970249631, 8.234275265081779, 7.8040683949652, 7.381575685601163, 98.64335058366467, 6.8545603313173995, 6.4982494724449635, 14.51335570951512, 9.610385039262953, 6.0905973384330565, 21.127273792658233, 5.909590052968103, 5.896017920071469, 5.828774049868231, 5.577919406339605, 20.273164829302438, 113.73576960303978, 24.2354652246418, 8.994959344649754, 15.312593647480812, 113.71166857213542, 100.3452653232785, 114.4448525220421, 98.59245603732043, 112.91645045729551, 102.39402331932831, 79.67928492082554, 15.218851949036699, 87.80887812747821, 74.83787326270408, 105.41241834871656, 46.73370352644895, 87.61872878604231, 577.161655216579, 102.26191260647238, 34.4972470531852, 56.64514653385774, 124.42402393229779, 49.649321163230574, 26.345965811070215, 21.535815491672206, 20.896112037614895, 18.624129232571565, 16.09349239651526, 14.855968277620498, 9.02767562012334, 7.855790105794839, 6.886789023270531, 23.56265484557842, 6.186628031649999, 6.092416624951952, 15.879621445606276, 10.252695311475238, 34.254765635490955, 5.097596133448429, 31.492916990460714, 40.16193134003506, 4.727071644369856, 4.69405940184959, 4.694059618854022, 4.69405972452958, 4.694059335560897, 4.694060265965204, 24.608287093151038, 4.254078318658412, 17.50780933611641, 16.5006015018981, 3.3700290027808646, 38.940444432294285, 26.151322226270526, 27.72610130850546, 47.57358078319488, 24.45499921246691, 63.84072029627307, 44.82044314439816, 14.726196295243911, 22.065602192888086, 35.68110225326111, 28.11224829154749, 86.8160570923689, 66.87040927534082, 150.3516357471529, 201.7497971304984, 26.796974634480144, 50.78412151628152, 114.05064118366424, 82.52758357672307, 60.69050563562343, 577.161655216579, 57.06709652295553, 99.84485194910782, 89.97560240437112, 87.83162668912888, 349.23059880654654, 54.156453129822886, 134.00354858156336, 48.143391602850016, 68.94800968781385, 123.00963556355522, 44.87693273533539, 42.044111727040686, 16.11040490372228, 13.690058637815717, 12.826940306227808, 11.615782543696113, 10.746263033626786, 10.607948904044443, 9.881108312738679, 9.777795397447361, 9.605179717583207, 9.50750689064005, 9.213479772717408, 9.069525759409618, 8.754344821051722, 7.329808718954981, 9.820472264016662, 7.151493354813353, 7.148330500117974, 7.04826586432113, 7.217605668161212, 6.505430224885727, 6.210639118300877, 22.634665793348823, 5.987761826396692, 5.478044072771034, 12.446602362674863, 5.342641559352872, 5.338533713583739, 5.285202656490418, 5.064812888372387, 59.38164298142579, 26.95444721007182, 14.515073228920011, 20.59193940031251, 29.463912007811825, 15.529460450542793, 48.40084178699327, 112.41584038675937, 19.688861282350448, 31.983837843919037, 18.502826319582336, 11.456874368317347, 39.81694951884108, 104.43595853844097, 34.32409923923344, 39.80871223528988, 62.773040843077005, 19.267082848995816, 20.23001382372146, 15.435127079323115, 163.06585926434911, 41.46093908614884, 176.28375729974783, 76.27789952905256, 69.44896857141191, 114.93434904680768, 13.151968523394247, 20.16008040145781, 11.568821366826, 10.841021876313924, 10.692691902234793, 9.37371564538746, 8.24635491459034, 8.11286433649641, 7.547816205117874, 7.529756304378842, 6.996100910285404, 33.35884514241554, 6.5085136443059675, 6.2272435375111455, 6.111671428149692, 6.059323092487634, 6.22570364321036, 5.85687786794368, 10.117034333081106, 23.109458047547548, 5.289796201529658, 5.227694416680842, 5.001067000633774, 4.795207125853064, 4.755187167007437, 8.2730312389099, 18.554467111609217, 4.394159317136862, 18.76452586573311, 6.82176661116567, 14.88340663998411, 15.509521784333666, 14.87760632630519, 16.199451817043776, 49.948896172752875, 22.29937270931747, 22.952228154194973, 18.101981286010965, 9.69535512592404, 13.001724977708822, 65.65192134907821, 13.591098964740247, 24.26331590888445, 89.57606365510503, 122.02075830196819, 192.659318985364, 59.26001668565228, 50.77509582695019, 23.185324564936714, 121.18645055964518, 239.68937578556424, 170.67416911886818, 349.23059880654654, 784.1463114787706, 275.00846199918647, 43.11252884900939, 38.86666053039839, 20.425287223282236, 20.425287413514923, 20.42528831763715, 18.490499272421832, 28.278861347069817, 13.394520529766027, 10.855424534197589, 10.712356979724742, 10.664642112392308, 10.664642964164916, 10.664643766419868, 10.48759723113277, 15.635128868748636, 9.069009923451466, 8.844219955919241, 8.078727935424018, 7.786043767267853, 12.204971046589797, 13.848818358831373, 6.99081894595957, 6.959967891882419, 6.2619428768613306, 6.2518062947922655, 11.43079104678496, 5.696680522163293, 5.667851044010911, 9.872270246604975, 5.854879150889018, 58.18101851240227, 27.703565463153435, 70.82959077934251, 99.84485194910782, 45.19417661588031, 10.318954067079398, 13.236783097997304, 19.317351983414728, 24.01662200575508, 101.44204576558347, 43.15500872997324, 17.61547893885979, 29.406606811182193, 363.3406480032332, 108.15754208954401, 63.83417543452753, 45.31367341102819, 114.21919047702833, 357.08179035379555, 144.3256296222293, 32.35702870542595, 12.917669565549472, 12.622703852247863, 12.157364308440776, 12.109786700119189, 11.482227438651138, 10.818032882159065, 10.818033751749374, 10.315140992681322, 9.993887089446233, 9.22698843020447, 8.249757996032349, 7.9838055747114955, 7.483428620127677, 7.404544533811863, 7.201439064452217, 6.5334779132210485, 6.436517643404982, 21.668968081044365, 9.824439271054212, 10.241720454678974, 5.86085921690136, 5.766735527893122, 5.529639946204126, 10.97613338020367, 5.324881068947721, 5.213906585159516, 5.027636690813761, 5.0075496239297985, 4.712033900893734, 24.245924726897996, 15.804836592769492, 19.86743720265437, 18.254649454202653, 10.978542292131658, 31.401184681559045, 14.476354572554003, 12.445523014555693, 122.02075830196819, 24.794627212752356, 34.81646673806686, 173.20429739695214, 69.13601721274114, 47.89333332622729, 498.82436921408697, 89.64304225174963, 32.07990324224564, 83.26643218401446, 75.61484092337128, 91.32664605471187, 354.09765814662376, 32.22351249095156, 26.62201136926291, 28.178864024971947, 26.529666378009633, 26.531081081616367, 54.20632217230376, 34.78040190726679, 30.15703870955905, 12.794715289810691, 12.09043126942325, 9.455106553225185, 8.501754820376183, 7.593055372631484, 6.9690134289274, 6.964090686209353, 16.168074547722945, 26.735062898197125, 5.589589717426285, 4.883599794618588, 30.45359851561084, 4.788206927135438, 8.642901310723703, 4.2264356414962245, 4.183287831664447, 4.065094818713734, 3.77828965977764, 3.742108152551176, 9.368780785139682, 3.7229076409744475, 9.32520378701819, 39.52600001703193, 40.522501573670425, 9.29342705815783, 9.240866386200418, 60.69050563562343, 24.467274219331976, 126.84781984710585, 18.501902225351376, 23.454597411795476, 116.88260296189745, 20.747864245450526, 89.64304225174963, 21.022680385597464, 52.62235484683239, 29.044034875787577, 82.20147676095836, 17.938158324829658, 16.820148091675645, 16.820148653374062, 16.820148667657413, 16.820148810531098, 16.820147627279884, 11.076621508802699, 8.976026758053615, 6.5070823952918815, 6.138305083333281, 5.855912468658412, 5.329908250631542, 30.000854709451104, 4.87235835230163, 4.807728696331017, 4.503294815543282, 4.1978220019958306, 4.197821655440085, 4.089954327988448, 12.026743021461916, 3.762820561610551, 3.6558927163425663, 3.6558928097191945, 3.6558928312015007, 3.6558935103935677, 3.655893591870853, 3.655893630089819, 3.655893091358716, 3.6558932487218447, 3.655893305941307, 6.539749781036162, 5.55086073871023, 58.9863065952094, 5.2091994836427515, 16.596790147125457, 37.042287765738116, 17.07507723047798, 9.863198982703231, 17.377028673532966, 19.77329119642261, 185.3557539648823, 16.71630978434449, 177.62735125287162, 11.333952410324464, 132.8659278627189, 21.130734939344737, 151.13706916251252, 192.659318985364, 14.545061515967234, 324.5680418110707, 1028.4454815199786, 109.64097845731968, 48.156589236334206, 81.31627169050512, 349.23059880654654, 232.42518153787233, 88.13624885184235, 327.50204026907136, 11.128190341597602, 10.313300813712491, 16.546858596168263, 25.73513005432578, 7.655214131523319, 27.739505117984077, 6.907451398700789, 6.887650475975988, 6.4461318934535115, 10.356080536208198, 5.925060717916481, 5.906943018700919, 5.747719108217471, 5.55868621319601, 5.489335318448712, 5.198383265594915, 5.119183712305852, 4.909096531336481, 4.80504903806266, 4.737439091262337, 4.669758824298629, 4.64265499319837, 4.642491122946636, 4.447708961984989, 4.235713926898966, 4.215872909135468, 4.108411540289682, 4.080286820083418, 4.003852681660837, 3.9589177599711642, 11.189882110298655, 13.168139239609065, 8.02253358851075, 12.116058263666618, 12.42464891442045, 16.05666981707859, 13.875067269189756, 17.25398333387436, 54.37825255424368, 39.968919621143385, 7.455134076694082, 15.369301116759834, 31.768276461619404, 37.13895934961684, 47.155812977822855, 69.44896857141191, 15.53639244868878, 131.59509706150988, 37.44863534219327, 43.880367515625885, 12.455864057934551, 199.24244898209375, 540.1582279511126, 151.13706916251252, 97.80176583328421, 35.13354387897189, 98.15159562530127, 11.054151047013715, 9.14097166960488, 8.470937134450152, 7.0927958444788075, 6.623961893176944, 6.46523494956707, 5.431704422198846, 5.416517663401401, 4.4399838429031275, 7.2557566967669365, 4.135778811085788, 3.930731608034597, 3.799048042113677, 7.118233402925884, 3.673443966646519, 11.883465168061669, 3.5797335542961166, 3.4367514139976105, 3.5048759483184906, 3.2987962257839634, 3.2532302426053636, 8.046846444587349, 3.008971517072931, 2.979150825093779, 2.7597552234669065, 2.7332863792481534, 7.470851695707589, 2.674249541760011, 2.659092836548219, 5.713953415656518, 15.64661302445015, 43.610726250097414, 35.26304365842953, 26.952738470462094, 9.135394221735888, 6.2732303326417185, 91.9524486070301, 13.95045040307488, 69.82288811280526, 74.01777714800322, 32.72336309992994, 20.79672538910937, 253.11119871047873, 121.99666844586493, 15.303830732752203, 73.55305431431223, 163.06585926434911, 72.36761629662928, 185.3557539648823], \"Category\": [\"Default\", \"Default\", \"Default\", \"Default\", \"Default\", \"Default\", \"Default\", \"Default\", \"Default\", \"Default\", \"Default\", \"Default\", \"Default\", \"Default\", \"Default\", \"Default\", \"Default\", \"Default\", \"Default\", \"Default\", \"Default\", \"Default\", \"Default\", \"Default\", \"Default\", \"Default\", \"Default\", \"Default\", \"Default\", \"Default\", \"Topic1\", \"Topic1\", \"Topic1\", \"Topic1\", \"Topic1\", \"Topic1\", \"Topic1\", \"Topic1\", \"Topic1\", \"Topic1\", \"Topic1\", \"Topic1\", \"Topic1\", \"Topic1\", \"Topic1\", \"Topic1\", \"Topic1\", \"Topic1\", \"Topic1\", \"Topic1\", \"Topic1\", \"Topic1\", \"Topic1\", \"Topic1\", \"Topic1\", \"Topic1\", \"Topic1\", \"Topic1\", \"Topic1\", \"Topic1\", \"Topic1\", \"Topic1\", \"Topic1\", \"Topic1\", \"Topic1\", \"Topic1\", \"Topic1\", \"Topic1\", \"Topic1\", \"Topic1\", \"Topic1\", \"Topic1\", \"Topic1\", \"Topic1\", \"Topic1\", \"Topic1\", \"Topic1\", \"Topic1\", \"Topic1\", \"Topic1\", \"Topic1\", \"Topic1\", \"Topic1\", \"Topic1\", \"Topic1\", \"Topic1\", \"Topic1\", \"Topic1\", \"Topic1\", \"Topic1\", \"Topic1\", \"Topic1\", \"Topic1\", \"Topic1\", \"Topic1\", \"Topic1\", \"Topic1\", \"Topic1\", \"Topic1\", \"Topic1\", \"Topic1\", \"Topic1\", \"Topic2\", \"Topic2\", \"Topic2\", \"Topic2\", \"Topic2\", \"Topic2\", \"Topic2\", \"Topic2\", \"Topic2\", \"Topic2\", \"Topic2\", \"Topic2\", \"Topic2\", \"Topic2\", \"Topic2\", \"Topic2\", \"Topic2\", \"Topic2\", \"Topic2\", \"Topic2\", \"Topic2\", \"Topic2\", \"Topic2\", \"Topic2\", \"Topic2\", \"Topic2\", \"Topic2\", \"Topic2\", \"Topic2\", \"Topic2\", \"Topic2\", \"Topic2\", \"Topic2\", \"Topic2\", \"Topic2\", \"Topic2\", \"Topic2\", \"Topic2\", \"Topic2\", \"Topic2\", \"Topic2\", \"Topic2\", \"Topic2\", \"Topic2\", \"Topic2\", \"Topic2\", \"Topic2\", \"Topic2\", \"Topic2\", \"Topic2\", \"Topic2\", \"Topic2\", \"Topic2\", \"Topic2\", \"Topic2\", \"Topic2\", \"Topic2\", \"Topic2\", \"Topic2\", \"Topic2\", \"Topic2\", \"Topic2\", \"Topic2\", \"Topic2\", \"Topic2\", \"Topic2\", \"Topic2\", \"Topic2\", \"Topic2\", \"Topic2\", \"Topic2\", \"Topic2\", \"Topic2\", \"Topic2\", \"Topic2\", \"Topic2\", \"Topic2\", \"Topic3\", \"Topic3\", \"Topic3\", \"Topic3\", \"Topic3\", \"Topic3\", \"Topic3\", \"Topic3\", \"Topic3\", \"Topic3\", \"Topic3\", \"Topic3\", \"Topic3\", \"Topic3\", \"Topic3\", \"Topic3\", \"Topic3\", \"Topic3\", \"Topic3\", \"Topic3\", \"Topic3\", \"Topic3\", \"Topic3\", \"Topic3\", \"Topic3\", \"Topic3\", \"Topic3\", \"Topic3\", \"Topic3\", \"Topic3\", \"Topic3\", \"Topic3\", \"Topic3\", \"Topic3\", \"Topic3\", \"Topic3\", \"Topic3\", \"Topic3\", \"Topic3\", \"Topic3\", \"Topic3\", \"Topic3\", \"Topic3\", \"Topic3\", \"Topic3\", \"Topic3\", \"Topic3\", \"Topic3\", \"Topic3\", \"Topic3\", \"Topic3\", \"Topic3\", \"Topic3\", \"Topic3\", \"Topic3\", \"Topic3\", \"Topic3\", \"Topic3\", \"Topic3\", \"Topic3\", \"Topic3\", \"Topic3\", \"Topic3\", \"Topic3\", \"Topic3\", \"Topic3\", \"Topic3\", \"Topic3\", \"Topic3\", \"Topic3\", \"Topic3\", \"Topic3\", \"Topic3\", \"Topic3\", \"Topic3\", \"Topic3\", \"Topic3\", \"Topic3\", \"Topic3\", \"Topic3\", \"Topic3\", \"Topic4\", \"Topic4\", \"Topic4\", \"Topic4\", \"Topic4\", \"Topic4\", \"Topic4\", \"Topic4\", \"Topic4\", \"Topic4\", \"Topic4\", \"Topic4\", \"Topic4\", \"Topic4\", \"Topic4\", \"Topic4\", \"Topic4\", \"Topic4\", \"Topic4\", \"Topic4\", \"Topic4\", \"Topic4\", \"Topic4\", \"Topic4\", \"Topic4\", \"Topic4\", \"Topic4\", \"Topic4\", \"Topic4\", \"Topic4\", \"Topic4\", \"Topic4\", \"Topic4\", \"Topic4\", \"Topic4\", \"Topic4\", \"Topic4\", \"Topic4\", \"Topic4\", \"Topic4\", \"Topic4\", \"Topic4\", \"Topic4\", \"Topic4\", \"Topic4\", \"Topic4\", \"Topic4\", \"Topic4\", \"Topic4\", \"Topic4\", \"Topic4\", \"Topic4\", \"Topic4\", \"Topic4\", \"Topic4\", \"Topic4\", \"Topic4\", \"Topic4\", \"Topic4\", \"Topic4\", \"Topic4\", \"Topic4\", \"Topic4\", \"Topic4\", \"Topic4\", \"Topic4\", \"Topic4\", \"Topic4\", \"Topic4\", \"Topic4\", \"Topic4\", \"Topic5\", \"Topic5\", \"Topic5\", \"Topic5\", \"Topic5\", \"Topic5\", \"Topic5\", \"Topic5\", \"Topic5\", \"Topic5\", \"Topic5\", \"Topic5\", \"Topic5\", \"Topic5\", \"Topic5\", \"Topic5\", \"Topic5\", \"Topic5\", \"Topic5\", \"Topic5\", \"Topic5\", \"Topic5\", \"Topic5\", \"Topic5\", \"Topic5\", \"Topic5\", \"Topic5\", \"Topic5\", \"Topic5\", \"Topic5\", \"Topic5\", \"Topic5\", \"Topic5\", \"Topic5\", \"Topic5\", \"Topic5\", \"Topic5\", \"Topic5\", \"Topic5\", \"Topic5\", \"Topic5\", \"Topic5\", \"Topic5\", \"Topic5\", \"Topic5\", \"Topic5\", \"Topic5\", \"Topic5\", \"Topic5\", \"Topic5\", \"Topic5\", \"Topic5\", \"Topic5\", \"Topic5\", \"Topic5\", \"Topic5\", \"Topic5\", \"Topic5\", \"Topic5\", \"Topic5\", \"Topic5\", \"Topic5\", \"Topic5\", \"Topic5\", \"Topic5\", \"Topic5\", \"Topic5\", \"Topic5\", \"Topic5\", \"Topic6\", \"Topic6\", \"Topic6\", \"Topic6\", \"Topic6\", \"Topic6\", \"Topic6\", \"Topic6\", \"Topic6\", \"Topic6\", \"Topic6\", \"Topic6\", \"Topic6\", \"Topic6\", \"Topic6\", \"Topic6\", \"Topic6\", \"Topic6\", \"Topic6\", \"Topic6\", \"Topic6\", \"Topic6\", \"Topic6\", \"Topic6\", \"Topic6\", \"Topic6\", \"Topic6\", \"Topic6\", \"Topic6\", \"Topic6\", \"Topic6\", \"Topic6\", \"Topic6\", \"Topic6\", \"Topic6\", \"Topic6\", \"Topic6\", \"Topic6\", \"Topic6\", \"Topic6\", \"Topic6\", \"Topic6\", \"Topic6\", \"Topic6\", \"Topic6\", \"Topic6\", \"Topic6\", \"Topic6\", \"Topic6\", \"Topic6\", \"Topic6\", \"Topic6\", \"Topic6\", \"Topic6\", \"Topic6\", \"Topic6\", \"Topic6\", \"Topic6\", \"Topic6\", \"Topic6\", \"Topic6\", \"Topic6\", \"Topic6\", \"Topic6\", \"Topic6\", \"Topic6\", \"Topic6\", \"Topic6\", \"Topic6\", \"Topic6\", \"Topic6\", \"Topic6\", \"Topic7\", \"Topic7\", \"Topic7\", \"Topic7\", \"Topic7\", \"Topic7\", \"Topic7\", \"Topic7\", \"Topic7\", \"Topic7\", \"Topic7\", \"Topic7\", \"Topic7\", \"Topic7\", \"Topic7\", \"Topic7\", \"Topic7\", \"Topic7\", \"Topic7\", \"Topic7\", \"Topic7\", \"Topic7\", \"Topic7\", \"Topic7\", \"Topic7\", \"Topic7\", \"Topic7\", \"Topic7\", \"Topic7\", \"Topic7\", \"Topic7\", \"Topic7\", \"Topic7\", \"Topic7\", \"Topic7\", \"Topic7\", \"Topic7\", \"Topic7\", \"Topic7\", \"Topic7\", \"Topic7\", \"Topic7\", \"Topic7\", \"Topic7\", \"Topic7\", \"Topic7\", \"Topic7\", \"Topic7\", \"Topic7\", \"Topic7\", \"Topic7\", \"Topic7\", \"Topic7\", \"Topic7\", \"Topic7\", \"Topic7\", \"Topic7\", \"Topic7\", \"Topic7\", \"Topic7\", \"Topic7\", \"Topic7\", \"Topic7\", \"Topic7\", \"Topic7\", \"Topic7\", \"Topic7\", \"Topic7\", \"Topic7\", \"Topic7\", \"Topic7\", \"Topic7\", \"Topic7\", \"Topic7\", \"Topic7\", \"Topic7\", \"Topic7\", \"Topic8\", \"Topic8\", \"Topic8\", \"Topic8\", \"Topic8\", \"Topic8\", \"Topic8\", \"Topic8\", \"Topic8\", \"Topic8\", \"Topic8\", \"Topic8\", \"Topic8\", \"Topic8\", \"Topic8\", \"Topic8\", \"Topic8\", \"Topic8\", \"Topic8\", \"Topic8\", \"Topic8\", \"Topic8\", \"Topic8\", \"Topic8\", \"Topic8\", \"Topic8\", \"Topic8\", \"Topic8\", \"Topic8\", \"Topic8\", \"Topic8\", \"Topic8\", \"Topic8\", \"Topic8\", \"Topic8\", \"Topic8\", \"Topic8\", \"Topic8\", \"Topic8\", \"Topic8\", \"Topic8\", \"Topic8\", \"Topic8\", \"Topic8\", \"Topic8\", \"Topic8\", \"Topic8\", \"Topic8\", \"Topic8\", \"Topic8\", \"Topic8\", \"Topic8\", \"Topic8\", \"Topic8\", \"Topic8\", \"Topic9\", \"Topic9\", \"Topic9\", \"Topic9\", \"Topic9\", \"Topic9\", \"Topic9\", \"Topic9\", \"Topic9\", \"Topic9\", \"Topic9\", \"Topic9\", \"Topic9\", \"Topic9\", \"Topic9\", \"Topic9\", \"Topic9\", \"Topic9\", \"Topic9\", \"Topic9\", \"Topic9\", \"Topic9\", \"Topic9\", \"Topic9\", \"Topic9\", \"Topic9\", \"Topic9\", \"Topic9\", \"Topic9\", \"Topic9\", \"Topic9\", \"Topic9\", \"Topic9\", \"Topic9\", \"Topic9\", \"Topic9\", \"Topic9\", \"Topic9\", \"Topic9\", \"Topic9\", \"Topic9\", \"Topic9\", \"Topic9\", \"Topic9\", \"Topic9\", \"Topic9\", \"Topic9\", \"Topic9\", \"Topic9\", \"Topic9\", \"Topic9\", \"Topic9\", \"Topic9\", \"Topic9\", \"Topic9\", \"Topic9\", \"Topic9\", \"Topic9\", \"Topic9\", \"Topic9\", \"Topic9\", \"Topic9\", \"Topic9\", \"Topic9\", \"Topic9\", \"Topic10\", \"Topic10\", \"Topic10\", \"Topic10\", \"Topic10\", \"Topic10\", \"Topic10\", \"Topic10\", \"Topic10\", \"Topic10\", \"Topic10\", \"Topic10\", \"Topic10\", \"Topic10\", \"Topic10\", \"Topic10\", \"Topic10\", \"Topic10\", \"Topic10\", \"Topic10\", \"Topic10\", \"Topic10\", \"Topic10\", \"Topic10\", \"Topic10\", \"Topic10\", \"Topic10\", \"Topic10\", \"Topic10\", \"Topic10\", \"Topic10\", \"Topic10\", \"Topic10\", \"Topic10\", \"Topic10\", \"Topic10\", \"Topic10\", \"Topic10\", \"Topic10\", \"Topic10\", \"Topic10\", \"Topic10\", \"Topic10\", \"Topic10\", \"Topic10\", \"Topic10\", \"Topic10\", \"Topic10\", \"Topic10\", \"Topic10\", \"Topic10\", \"Topic10\", \"Topic10\", \"Topic10\", \"Topic10\", \"Topic10\", \"Topic10\", \"Topic10\", \"Topic10\", \"Topic10\", \"Topic10\", \"Topic10\", \"Topic10\", \"Topic11\", \"Topic11\", \"Topic11\", \"Topic11\", \"Topic11\", \"Topic11\", \"Topic11\", \"Topic11\", \"Topic11\", \"Topic11\", \"Topic11\", \"Topic11\", \"Topic11\", \"Topic11\", \"Topic11\", \"Topic11\", \"Topic11\", \"Topic11\", \"Topic11\", \"Topic11\", \"Topic11\", \"Topic11\", \"Topic11\", \"Topic11\", \"Topic11\", \"Topic11\", \"Topic11\", \"Topic11\", \"Topic11\", \"Topic11\", \"Topic11\", \"Topic11\", \"Topic11\", \"Topic11\", \"Topic11\", \"Topic11\", \"Topic11\", \"Topic11\", \"Topic11\", \"Topic11\", \"Topic11\", \"Topic11\", \"Topic11\", \"Topic11\", \"Topic11\", \"Topic11\", \"Topic11\", \"Topic11\", \"Topic11\", \"Topic11\", \"Topic11\", \"Topic11\", \"Topic11\", \"Topic11\", \"Topic12\", \"Topic12\", \"Topic12\", \"Topic12\", \"Topic12\", \"Topic12\", \"Topic12\", \"Topic12\", \"Topic12\", \"Topic12\", \"Topic12\", \"Topic12\", \"Topic12\", \"Topic12\", \"Topic12\", \"Topic12\", \"Topic12\", \"Topic12\", \"Topic12\", \"Topic12\", \"Topic12\", \"Topic12\", \"Topic12\", \"Topic12\", \"Topic12\", \"Topic12\", \"Topic12\", \"Topic12\", \"Topic12\", \"Topic12\", \"Topic12\", \"Topic12\", \"Topic12\", \"Topic12\", \"Topic12\", \"Topic12\", \"Topic12\", \"Topic12\", \"Topic12\", \"Topic12\", \"Topic12\", \"Topic12\", \"Topic12\", \"Topic12\", \"Topic12\", \"Topic12\", \"Topic12\", \"Topic12\", \"Topic12\", \"Topic12\", \"Topic12\", \"Topic12\", \"Topic12\", \"Topic12\", \"Topic12\", \"Topic12\", \"Topic12\", \"Topic12\", \"Topic12\", \"Topic12\", \"Topic12\", \"Topic13\", \"Topic13\", \"Topic13\", \"Topic13\", \"Topic13\", \"Topic13\", \"Topic13\", \"Topic13\", \"Topic13\", \"Topic13\", \"Topic13\", \"Topic13\", \"Topic13\", \"Topic13\", \"Topic13\", \"Topic13\", \"Topic13\", \"Topic13\", \"Topic13\", \"Topic13\", \"Topic13\", \"Topic13\", \"Topic13\", \"Topic13\", \"Topic13\", \"Topic13\", \"Topic13\", \"Topic13\", \"Topic13\", \"Topic13\", \"Topic13\", \"Topic13\", \"Topic13\", \"Topic13\", \"Topic13\", \"Topic13\", \"Topic13\", \"Topic13\", \"Topic13\", \"Topic13\", \"Topic13\", \"Topic13\", \"Topic13\", \"Topic13\", \"Topic13\", \"Topic13\", \"Topic13\", \"Topic13\", \"Topic13\", \"Topic13\", \"Topic13\", \"Topic13\", \"Topic13\", \"Topic13\", \"Topic13\", \"Topic13\", \"Topic14\", \"Topic14\", \"Topic14\", \"Topic14\", \"Topic14\", \"Topic14\", \"Topic14\", \"Topic14\", \"Topic14\", \"Topic14\", \"Topic14\", \"Topic14\", \"Topic14\", \"Topic14\", \"Topic14\", \"Topic14\", \"Topic14\", \"Topic14\", \"Topic14\", \"Topic14\", \"Topic14\", \"Topic14\", \"Topic14\", \"Topic14\", \"Topic14\", \"Topic14\", \"Topic14\", \"Topic14\", \"Topic14\", \"Topic14\", \"Topic14\", \"Topic14\", \"Topic14\", \"Topic14\", \"Topic14\", \"Topic14\", \"Topic14\", \"Topic14\", \"Topic14\", \"Topic14\", \"Topic14\", \"Topic14\", \"Topic14\", \"Topic14\", \"Topic14\", \"Topic14\", \"Topic14\", \"Topic14\", \"Topic14\", \"Topic14\", \"Topic14\", \"Topic14\", \"Topic14\", \"Topic14\", \"Topic14\", \"Topic15\", \"Topic15\", \"Topic15\", \"Topic15\", \"Topic15\", \"Topic15\", \"Topic15\", \"Topic15\", \"Topic15\", \"Topic15\", \"Topic15\", \"Topic15\", \"Topic15\", \"Topic15\", \"Topic15\", \"Topic15\", \"Topic15\", \"Topic15\", \"Topic15\", \"Topic15\", \"Topic15\", \"Topic15\", \"Topic15\", \"Topic15\", \"Topic15\", \"Topic15\", \"Topic15\", \"Topic15\", \"Topic15\", \"Topic15\", \"Topic15\", \"Topic15\", \"Topic15\", \"Topic15\", \"Topic15\", \"Topic15\", \"Topic15\", \"Topic15\", \"Topic15\", \"Topic15\", \"Topic15\", \"Topic15\", \"Topic15\", \"Topic15\", \"Topic15\", \"Topic15\", \"Topic15\", \"Topic15\", \"Topic15\", \"Topic15\", \"Topic16\", \"Topic16\", \"Topic16\", \"Topic16\", \"Topic16\", \"Topic16\", \"Topic16\", \"Topic16\", \"Topic16\", \"Topic16\", \"Topic16\", \"Topic16\", \"Topic16\", \"Topic16\", \"Topic16\", \"Topic16\", \"Topic16\", \"Topic16\", \"Topic16\", \"Topic16\", \"Topic16\", \"Topic16\", \"Topic16\", \"Topic16\", \"Topic16\", \"Topic16\", \"Topic16\", \"Topic16\", \"Topic16\", \"Topic16\", \"Topic16\", \"Topic16\", \"Topic16\", \"Topic16\", \"Topic16\", \"Topic16\", \"Topic16\", \"Topic16\", \"Topic16\", \"Topic16\", \"Topic16\", \"Topic16\", \"Topic16\", \"Topic16\", \"Topic16\", \"Topic16\", \"Topic16\", \"Topic16\", \"Topic16\", \"Topic16\", \"Topic16\", \"Topic17\", \"Topic17\", \"Topic17\", \"Topic17\", \"Topic17\", \"Topic17\", \"Topic17\", \"Topic17\", \"Topic17\", \"Topic17\", \"Topic17\", \"Topic17\", \"Topic17\", \"Topic17\", \"Topic17\", \"Topic17\", \"Topic17\", \"Topic17\", \"Topic17\", \"Topic17\", \"Topic17\", \"Topic17\", \"Topic17\", \"Topic17\", \"Topic17\", \"Topic17\", \"Topic17\", \"Topic17\", \"Topic17\", \"Topic17\", \"Topic17\", \"Topic17\", \"Topic17\", \"Topic17\", \"Topic17\", \"Topic17\", \"Topic17\", \"Topic17\", \"Topic17\", \"Topic17\", \"Topic17\", \"Topic17\", \"Topic17\", \"Topic17\", \"Topic17\", \"Topic17\", \"Topic18\", \"Topic18\", \"Topic18\", \"Topic18\", \"Topic18\", \"Topic18\", \"Topic18\", \"Topic18\", \"Topic18\", \"Topic18\", \"Topic18\", \"Topic18\", \"Topic18\", \"Topic18\", \"Topic18\", \"Topic18\", \"Topic18\", \"Topic18\", \"Topic18\", \"Topic18\", \"Topic18\", \"Topic18\", \"Topic18\", \"Topic18\", \"Topic18\", \"Topic18\", \"Topic18\", \"Topic18\", \"Topic18\", \"Topic18\", \"Topic18\", \"Topic18\", \"Topic18\", \"Topic18\", \"Topic18\", \"Topic18\", \"Topic18\", \"Topic18\", \"Topic18\", \"Topic18\", \"Topic18\", \"Topic18\", \"Topic18\", \"Topic18\", \"Topic18\", \"Topic18\", \"Topic18\", \"Topic18\", \"Topic18\", \"Topic18\", \"Topic18\", \"Topic18\", \"Topic18\", \"Topic18\", \"Topic18\", \"Topic18\", \"Topic18\", \"Topic18\", \"Topic19\", \"Topic19\", \"Topic19\", \"Topic19\", \"Topic19\", \"Topic19\", \"Topic19\", \"Topic19\", \"Topic19\", \"Topic19\", \"Topic19\", \"Topic19\", \"Topic19\", \"Topic19\", \"Topic19\", \"Topic19\", \"Topic19\", \"Topic19\", \"Topic19\", \"Topic19\", \"Topic19\", \"Topic19\", \"Topic19\", \"Topic19\", \"Topic19\", \"Topic19\", \"Topic19\", \"Topic19\", \"Topic19\", \"Topic19\", \"Topic19\", \"Topic19\", \"Topic19\", \"Topic19\", \"Topic19\", \"Topic19\", \"Topic19\", \"Topic19\", \"Topic19\", \"Topic19\", \"Topic19\", \"Topic19\", \"Topic19\", \"Topic19\", \"Topic19\", \"Topic19\", \"Topic19\", \"Topic19\", \"Topic19\", \"Topic19\", \"Topic19\", \"Topic19\", \"Topic19\", \"Topic19\", \"Topic19\", \"Topic19\", \"Topic19\", \"Topic20\", \"Topic20\", \"Topic20\", \"Topic20\", \"Topic20\", \"Topic20\", \"Topic20\", \"Topic20\", \"Topic20\", \"Topic20\", \"Topic20\", \"Topic20\", \"Topic20\", \"Topic20\", \"Topic20\", \"Topic20\", \"Topic20\", \"Topic20\", \"Topic20\", \"Topic20\", \"Topic20\", \"Topic20\", \"Topic20\", \"Topic20\", \"Topic20\", \"Topic20\", \"Topic20\", \"Topic20\", \"Topic20\", \"Topic20\", \"Topic20\", \"Topic20\", \"Topic20\", \"Topic20\", \"Topic20\", \"Topic20\", \"Topic20\", \"Topic20\", \"Topic20\", \"Topic20\", \"Topic20\", \"Topic20\", \"Topic20\", \"Topic20\", \"Topic20\", \"Topic20\", \"Topic20\", \"Topic20\", \"Topic20\"], \"logprob\": [30.0, 29.0, 28.0, 27.0, 26.0, 25.0, 24.0, 23.0, 22.0, 21.0, 20.0, 19.0, 18.0, 17.0, 16.0, 15.0, 14.0, 13.0, 12.0, 11.0, 10.0, 9.0, 8.0, 7.0, 6.0, 5.0, 4.0, 3.0, 2.0, 1.0, -5.538599967956543, -5.63100004196167, -5.299699783325195, -4.403600215911865, -5.990099906921387, -5.299499988555908, -6.120999813079834, -6.273600101470947, -6.309899806976318, -6.4394001960754395, -6.4807000160217285, -6.5243000984191895, -5.035600185394287, -5.670499801635742, -6.703400135040283, -6.459199905395508, -6.26140022277832, -6.736199855804443, -6.789299964904785, -6.799799919128418, -6.8379998207092285, -6.854800224304199, -6.880199909210205, -6.882699966430664, -6.9191999435424805, -6.974400043487549, -6.980800151824951, -6.76639986038208, -7.01230001449585, -7.081699848175049, -6.078700065612793, -5.659999847412109, -5.692500114440918, -5.361499786376953, -6.389100074768066, -6.301199913024902, -5.937099933624268, -4.9054999351501465, -6.352099895477295, -5.860000133514404, -6.60890007019043, -6.019899845123291, -4.0507001876831055, -6.4807000160217285, -4.605400085449219, -5.3765997886657715, -4.124899864196777, -3.7885000705718994, -5.543700218200684, -5.593400001525879, -4.212100028991699, -5.390999794006348, -4.030200004577637, -4.367300033569336, -4.437300205230713, -4.420300006866455, -4.801599979400635, -5.525400161743164, -5.2571001052856445, -4.396599769592285, -5.293499946594238, -5.395699977874756, -5.082399845123291, -4.9704999923706055, -4.935100078582764, -5.059899806976318, -5.057000160217285, -5.286200046539307, -5.423799991607666, -5.286099910736084, -5.340799808502197, -5.383200168609619, -4.929900169372559, -5.480199813842773, -5.437600135803223, -5.524899959564209, -5.872799873352051, -5.916399955749512, -6.166999816894531, -6.1981000900268555, -4.971199989318848, -6.287199974060059, -6.3109002113342285, -6.349699974060059, -6.447400093078613, -6.296500205993652, -6.500800132751465, -6.559500217437744, -6.593800067901611, -6.681600093841553, -6.69980001449585, -6.7164998054504395, -6.758800029754639, -6.768700122833252, -6.869900226593018, -6.9156999588012695, -6.922800064086914, -6.944300174713135, -6.979400157928467, -7.01170015335083, -5.325200080871582, -7.058199882507324, -4.881899833679199, -5.978899955749512, -5.637700080871582, -5.484000205993652, -5.44789981842041, -6.42549991607666, -6.479100227355957, -5.043799877166748, -5.219799995422363, -6.038300037384033, -6.196400165557861, -5.912600040435791, -5.377699851989746, -5.408599853515625, -4.306000232696533, -5.497399806976318, -5.635200023651123, -5.353600025177002, -5.274700164794922, -5.268199920654297, -5.523200035095215, -4.276100158691406, -5.771299839019775, -4.5329999923706055, -4.7789998054504395, -5.525199890136719, -5.410099983215332, -5.464200019836426, -4.840700149536133, -5.033400058746338, -4.638299942016602, -4.852499961853027, -5.085700035095215, -5.19379997253418, -5.144000053405762, -4.628399848937988, -4.616499900817871, -5.012400150299072, -5.350299835205078, -5.241099834442139, -5.0696001052856445, -5.246099948883057, -5.226600170135498, -5.299300193786621, -5.168799877166748, -5.206999778747559, -5.31850004196167, -5.802299976348877, -6.30049991607666, -5.778299808502197, -6.676700115203857, -6.696300029754639, -6.714900016784668, -6.453700065612793, -7.043499946594238, -7.063300132751465, -6.707600116729736, -7.118599891662598, -7.126699924468994, -7.162300109863281, -7.1656999588012695, -7.198999881744385, -7.2058000564575195, -7.235599994659424, -7.252500057220459, -7.320799827575684, -7.3277997970581055, -7.33650016784668, -7.360300064086914, -7.363100051879883, -7.3653998374938965, -7.29010009765625, -7.372300148010254, -7.366300106048584, -7.452099800109863, -7.457499980926514, -7.461699962615967, -6.6149001121521, -5.86269998550415, -5.4654998779296875, -6.698400020599365, -4.308700084686279, -6.1981000900268555, -6.301700115203857, -7.068699836730957, -6.473199844360352, -5.030399799346924, -7.039899826049805, -5.2835001945495605, -6.3225998878479, -3.3887999057769775, -6.309100151062012, -5.8831000328063965, -6.583700180053711, -5.758699893951416, -5.248499870300293, -5.839700222015381, -6.301700115203857, -5.841700077056885, -5.6230998039245605, -5.553199768066406, -4.44379997253418, -4.511899948120117, -4.593699932098389, -5.178599834442139, -5.548399925231934, -4.2779998779296875, -5.663300037384033, -4.605899810791016, -5.194699764251709, -4.349599838256836, -4.616700172424316, -4.573599815368652, -4.5640997886657715, -4.6321001052856445, -5.215000152587891, -5.148799896240234, -5.043600082397461, -4.616600036621094, -4.926700115203857, -5.25600004196167, -5.173099994659424, -5.402500152587891, -5.456600189208984, -5.463500022888184, -5.20550012588501, -5.384799957275391, -5.317699909210205, -6.323200225830078, -6.35860013961792, -6.423799991607666, -6.467400074005127, -6.525300025939941, -5.721399784088135, -6.657899856567383, -6.710000038146973, -6.049600124359131, -6.839900016784668, -6.841800212860107, -6.843100070953369, -6.881400108337402, -6.905600070953369, -6.936999797821045, -6.9415998458862305, -6.945300102233887, -6.952600002288818, -5.8582000732421875, -7.029099941253662, -7.029200077056885, -7.045899868011475, -7.0493998527526855, -7.131100177764893, -7.145899772644043, -7.162399768829346, -7.192299842834473, -7.204999923706055, -6.7906999588012695, -6.656199932098389, -4.155900001525879, -4.853799819946289, -6.098299980163574, -6.768499851226807, -5.835599899291992, -6.005899906158447, -5.920199871063232, -5.46999979019165, -5.699399948120117, -6.070099830627441, -5.405300140380859, -5.6031999588012695, -5.993500232696533, -4.115300178527832, -6.11929988861084, -5.904399871826172, -5.121799945831299, -5.6753997802734375, -5.913400173187256, -5.985300064086914, -3.7432000637054443, -4.950200080871582, -5.420199871063232, -4.639699935913086, -4.417699813842773, -5.82889986038208, -5.412600040435791, -4.823200225830078, -5.496200084686279, -5.38129997253418, -5.3470001220703125, -5.582099914550781, -4.865699768066406, -4.621399879455566, -4.901899814605713, -4.997000217437744, -5.779799938201904, -5.866600036621094, -5.82919979095459, -5.8282999992370605, -5.834000110626221, -5.564199924468994, -5.777599811553955, -5.808000087738037, -5.838699817657471, -5.832900047302246, -5.847499847412109, -5.577099800109863, -5.844299793243408, -5.897600173950195, -5.948299884796143, -5.982100009918213, -6.001299858093262, -6.059899806976318, -6.063399791717529, -6.065299987792969, -6.117199897766113, -6.149499893188477, -6.148399829864502, -6.161799907684326, -6.174200057983398, -6.211599826812744, -6.220200061798096, -6.237400054931641, -6.254799842834473, -6.352499961853027, -6.387700080871582, -6.396900177001953, -6.390699863433838, -6.403800010681152, -6.405799865722656, -5.473599910736084, -6.098599910736084, -5.4745001792907715, -5.081399917602539, -4.8140997886657715, -6.049300193786621, -3.8808999061584473, -4.947800159454346, -5.414400100708008, -5.057799816131592, -5.454500198364258, -5.7342000007629395, -4.909599781036377, -5.336599826812744, -5.171299934387207, -4.993599891662598, -5.480999946594238, -5.1118998527526855, -5.781599998474121, -5.123499870300293, -5.152900218963623, -5.1132001876831055, -5.098400115966797, -5.129799842834473, -4.5858001708984375, -5.374199867248535, -5.529399871826172, -5.3292999267578125, -5.313199996948242, -5.282599925994873, -5.32919979095459, -4.619200229644775, -5.231299877166748, -5.336599826812744, -5.200399875640869, -5.397900104522705, -5.324900150299072, -5.3850998878479, -5.4532999992370605, -5.506100177764893, -5.530300140380859, -5.835000038146973, -5.988800048828125, -6.124000072479248, -4.916600227355957, -6.297699928283691, -6.42609977722168, -6.4380998611450195, -6.5005998611450195, -6.540200233459473, -6.55109977722168, -6.563199996948242, -6.591800212860107, -6.596399784088135, -6.609899997711182, -6.633399963378906, -4.288300037384033, -6.668700218200684, -6.708899974822998, -6.7291998863220215, -6.7434000968933105, -6.8292999267578125, -6.922399997711182, -6.977799892425537, -7.006999969482422, -7.020199775695801, -7.049699783325195, -7.05620002746582, -7.0584001541137695, -4.121099948883057, -6.466100215911865, -4.410299777984619, -4.446000099182129, -5.704899787902832, -6.332099914550781, -5.5518999099731445, -5.632800102233887, -3.9031999111175537, -4.8927998542785645, -5.192800045013428, -5.6168999671936035, -5.354400157928467, -5.0929999351501465, -5.363500118255615, -5.635000228881836, -5.203499794006348, -4.9156999588012695, -5.310100078582764, -5.3105998039245605, -4.926499843597412, -5.688899993896484, -5.1631999015808105, -3.8615000247955322, -4.958600044250488, -4.487599849700928, -5.168600082397461, -4.854300022125244, -4.649700164794922, -4.502500057220459, -4.558599948883057, -4.16949987411499, -4.811800003051758, -4.794899940490723, -5.173699855804443, -5.038300037384033, -4.912499904632568, -5.027299880981445, -5.06689977645874, -5.252099990844727, -5.209499835968018, -5.191699981689453, -5.355800151824951, -5.478600025177002, -6.230299949645996, -6.27869987487793, -6.285999774932861, -6.291200160980225, -5.601799964904785, -6.358799934387207, -6.4243998527526855, -6.448299884796143, -6.469299793243408, -6.599100112915039, -6.6041998863220215, -6.638000011444092, -6.23960018157959, -6.222300052642822, -6.651700019836426, -6.669600009918213, -6.710100173950195, -6.747200012207031, -6.750400066375732, -6.761099815368652, -6.775100231170654, -6.785299777984619, -6.8069000244140625, -6.881100177764893, -6.882199764251709, -6.919000148773193, -6.26200008392334, -6.953100204467773, -6.432199954986572, -5.727200031280518, -6.423299789428711, -5.892899990081787, -6.01639986038208, -5.925899982452393, -3.322499990463257, -6.2600998878479, -6.557600021362305, -6.001999855041504, -6.428800106048584, -5.946100234985352, -5.3983001708984375, -4.0777997970581055, -3.918100118637085, -5.311600208282471, -5.634399890899658, -5.939000129699707, -4.310299873352051, -4.372600078582764, -4.393799781799316, -5.448200225830078, -4.684199810028076, -5.063199996948242, -4.595099925994873, -5.664599895477295, -5.586699962615967, -4.6641998291015625, -4.501399993896484, -5.5559000968933105, -5.124800205230713, -5.746699810028076, -5.659200191497803, -5.082099914550781, -5.62470006942749, -5.62529993057251, -5.230100154876709, -5.084400177001953, -5.555699825286865, -5.4380998611450195, -5.557499885559082, -5.490799903869629, -5.549699783325195, -5.5528998374938965, -5.559199810028076, -5.526899814605713, -5.582799911499023, -3.8850998878479004, -4.170300006866455, -3.8810999393463135, -3.3828001022338867, -4.3856000900268555, -5.24429988861084, -2.685699939727783, -5.733799934387207, -5.944200038909912, -5.970600128173828, -6.081999778747559, -6.0980000495910645, -6.058300018310547, -6.211900234222412, -3.883699893951416, -5.752399921417236, -6.345399856567383, -6.017600059509277, -6.563899993896484, -6.331900119781494, -6.77839994430542, -6.77839994430542, -6.718100070953369, -6.815100193023682, -6.838200092315674, -4.991600036621094, -6.912700176239014, -6.912700176239014, -6.406899929046631, -6.941999912261963, -4.769999980926514, -4.961100101470947, -4.928400039672852, -6.0106000900268555, -5.924499988555908, -4.667200088500977, -5.468699932098389, -4.328800201416016, -5.418499946594238, -4.415999889373779, -4.267300128936768, -4.546000003814697, -4.797100067138672, -4.264800071716309, -5.140600204467773, -4.885799884796143, -5.14739990234375, -4.280300140380859, -4.896399974822998, -5.028900146484375, -4.896500110626221, -4.4608001708984375, -4.6768999099731445, -5.403200149536133, -5.248000144958496, -4.926000118255615, -5.406700134277344, -6.108799934387207, -6.160900115966797, -5.67080020904541, -6.214099884033203, -6.2221999168396, -5.654600143432617, -6.316500186920166, -6.373700141906738, -6.376399993896484, -6.392399787902832, -5.757400035858154, -6.420199871063232, -6.252500057220459, -6.0295000076293945, -6.467199802398682, -6.468800067901611, -5.96619987487793, -6.513700008392334, -6.5467000007629395, -6.580900192260742, -6.626299858093262, -5.453800201416016, -6.694699764251709, -6.715799808502197, -6.724400043487549, -6.734799861907959, -6.770999908447266, -6.786900043487549, -4.250199794769287, -5.676700115203857, -5.731299877166748, -5.992400169372559, -5.691500186920166, -4.802800178527832, -5.0233001708984375, -5.119800090789795, -5.763500213623047, -5.457600116729736, -5.051000118255615, -5.8805999755859375, -4.719699859619141, -5.061399936676025, -4.844099998474121, -4.54610013961792, -4.964799880981445, -5.412300109863281, -5.288400173187256, -4.9745001792907715, -4.936999797821045, -5.452300071716309, -5.588799953460693, -5.25570011138916, -4.826499938964844, -4.778500080108643, -5.298600196838379, -5.2733001708984375, -5.410999774932861, -5.106500148773193, -5.309500217437744, -5.231900215148926, -5.373700141906738, -5.448200225830078, -5.451300144195557, -4.47730016708374, -5.565899848937988, -5.870299816131592, -5.93209981918335, -5.966599941253662, -6.009900093078613, -6.013599872589111, -6.0441999435424805, -6.07289981842041, -6.156700134277344, -6.281499862670898, -6.314300060272217, -6.321000099182129, -5.859600067138672, -6.402100086212158, -6.383699893951416, -6.4695000648498535, -6.482100009918213, -6.515699863433838, -6.523799896240234, -6.532700061798096, -6.564799785614014, -6.03249979019165, -6.593100070953369, -6.1143999099731445, -6.6631999015808105, -2.9667000770568848, -6.686200141906738, -6.711999893188477, -6.7052998542785645, -5.221799850463867, -3.5394999980926514, -4.188899993896484, -3.728100061416626, -5.320000171661377, -4.423699855804443, -3.7578999996185303, -4.130199909210205, -4.071499824523926, -5.431399822235107, -4.497499942779541, -5.3572001457214355, -4.257299900054932, -4.218400001525879, -5.292200088500977, -4.958600044250488, -5.403600215911865, -4.756199836730957, -5.4822001457214355, -5.085000038146973, -4.7916998863220215, -5.033999919891357, -4.775400161743164, -5.045000076293945, -5.026299953460693, -4.94189977645874, -4.854599952697754, -5.2519001960754395, -4.679699897766113, -4.622099876403809, -5.004899978637695, -5.228899955749512, -5.247099876403809, -4.052599906921387, -4.23330020904541, -4.323400020599365, -4.711599826812744, -5.225100040435791, -5.4079999923706055, -5.620299816131592, -5.6656999588012695, -5.7245001792907715, -5.730400085449219, -5.737400054931641, -5.799499988555908, -5.816199779510498, -5.828000068664551, -5.910600185394287, -5.927800178527832, -5.949900150299072, -6.010000228881836, -6.072800159454346, -3.4828999042510986, -6.1570000648498535, -6.218299865722656, -5.415999889373779, -5.83459997177124, -6.293300151824951, -5.049799919128418, -6.328499794006348, -6.331200122833252, -6.344699859619141, -6.396399974822998, -5.106200218200684, -3.4175000190734863, -4.9375, -5.923600196838379, -5.431000232696533, -3.7307000160217285, -3.9286000728607178, -3.827500104904175, -3.9567999839782715, -3.966200113296509, -4.047299861907959, -4.3028998374938965, -5.505499839782715, -4.261600017547607, -4.482900142669678, -4.336599826812744, -4.97160005569458, -4.673999786376953, -3.786400079727173, -4.786099910736084, -5.263999938964844, -5.225100040435791, -5.2017998695373535, -5.406599998474121, -4.644100189208984, -4.8531999588012695, -4.886099815368652, -5.005000114440918, -5.158599853515625, -5.2434000968933105, -5.7820000648498535, -5.9369001388549805, -6.085999965667725, -4.859499931335449, -6.20959997177124, -6.227399826049805, -5.292200088500977, -5.735599994659424, -4.531199932098389, -6.438300132751465, -4.622900009155273, -4.381100177764893, -6.530399799346924, -6.538400173187256, -6.538400173187256, -6.538400173187256, -6.538400173187256, -6.538400173187256, -4.902900218963623, -6.660399913787842, -5.2708001136779785, -5.369800090789795, -6.962200164794922, -4.518499851226807, -4.933199882507324, -4.875999927520752, -4.402299880981445, -5.023799896240234, -4.171899795532227, -4.53980016708374, -5.522799968719482, -5.17710018157959, -4.786399841308594, -5.014900207519531, -4.127699851989746, -4.332399845123291, -3.7067999839782715, -3.680000066757202, -5.083899974822998, -4.67710018157959, -4.18149995803833, -4.4293999671936035, -4.617499828338623, -3.390399932861328, -4.688499927520752, -4.449900150299072, -4.533100128173828, -4.553699970245361, -4.083499908447266, -4.7515997886657715, -4.535699844360352, -4.815299987792969, -4.776800155639648, -4.786900043487549, -4.85860013961792, -4.066299915313721, -5.058300018310547, -5.231100082397461, -5.30079984664917, -5.407400131225586, -5.491700172424316, -5.50629997253418, -5.5833001136779785, -5.594799995422363, -5.6143999099731445, -5.6255998611450195, -5.660200119018555, -5.677599906921387, -5.716700077056885, -5.9156999588012695, -5.625800132751465, -5.943699836730957, -5.944200038909912, -5.96019983291626, -5.940100193023682, -6.05210018157959, -6.1057000160217285, -4.814899921417236, -6.148200035095215, -6.252900123596191, -5.432700157165527, -6.282700061798096, -6.283599853515625, -6.295599937438965, -6.34660005569458, -3.9196999073028564, -4.7144999504089355, -5.321599960327148, -5.052000045776367, -4.742499828338623, -5.3292999267578125, -4.401100158691406, -3.722899913787842, -5.1894001960754395, -4.831299781799316, -5.238900184631348, -5.605299949645996, -4.778200149536133, -4.1427001953125, -4.935999870300293, -4.881999969482422, -4.7683000564575195, -5.338699817657471, -5.387899875640869, -5.476099967956543, -5.017199993133545, -5.315899848937988, -5.178100109100342, -5.3155999183654785, -5.375699996948242, -5.357800006866455, -5.171800136566162, -4.752099990844727, -5.310800075531006, -5.380099773406982, -5.395100116729736, -5.539100170135498, -5.681300163269043, -5.69950008392334, -5.780600070953369, -5.783299922943115, -5.866799831390381, -4.313700199127197, -5.9496002197265625, -6.002399921417236, -6.022500038146973, -6.03249979019165, -6.0055999755859375, -6.072199821472168, -5.529900074005127, -4.7083001136779785, -6.192800045013428, -6.206900119781494, -6.260200023651123, -6.311299800872803, -6.321499824523926, -5.768700122833252, -4.963799953460693, -6.418799877166748, -4.968900203704834, -6.013400077819824, -5.242400169372559, -5.2221999168396, -5.268199920654297, -5.332499980926514, -4.52810001373291, -5.14739990234375, -5.1605000495910645, -5.337299823760986, -5.76800012588501, -5.620699882507324, -4.897900104522705, -5.666500091552734, -5.432700157165527, -5.007400035858154, -4.946700096130371, -4.810699939727783, -5.260700225830078, -5.365099906921387, -5.55210018157959, -5.334799766540527, -5.256999969482422, -5.3024001121521, -5.290800094604492, -5.297800064086914, -5.400300025939941, -3.8998000621795654, -4.005300045013428, -4.669300079345703, -4.669300079345703, -4.669300079345703, -4.773499965667725, -4.353099822998047, -5.114699840545654, -5.341100215911865, -5.355500221252441, -5.360400199890137, -5.360400199890137, -5.360400199890137, -5.378600120544434, -4.98859977722168, -5.538099765777588, -5.565899848937988, -5.6666998863220215, -5.708099842071533, -5.259500026702881, -5.13700008392334, -5.830100059509277, -5.835100173950195, -5.956699848175049, -5.958600044250488, -5.358099937438965, -6.067299842834473, -6.073299884796143, -5.522299766540527, -6.052599906921387, -3.758500099182129, -4.523600101470947, -3.6282999515533447, -3.4409000873565674, -4.228899955749512, -5.521500110626221, -5.355599880218506, -5.081500053405762, -5.0081000328063965, -4.268899917602539, -4.830599784851074, -5.2555999755859375, -5.1631999015808105, -4.807499885559082, -5.0756001472473145, -5.243800163269043, -5.2769999504089355, -5.232999801635742, -5.1905999183654785, -5.342599868774414, -4.186699867248535, -5.147200107574463, -5.171899795532227, -5.212200164794922, -5.216400146484375, -5.273900032043457, -5.338500022888184, -5.338500022888184, -5.3902997970581055, -5.424900054931641, -5.512700080871582, -5.636899948120117, -5.673500061035156, -5.746399879455566, -5.758399963378906, -5.789899826049805, -5.901299953460693, -5.918499946594238, -4.708499908447266, -5.5, -5.46019983291626, -6.027599811553955, -6.046599864959717, -6.096199989318848, -5.414000034332275, -6.140999794006348, -6.166200160980225, -6.210000038146973, -6.214799880981445, -6.28879976272583, -4.712399959564209, -5.176300048828125, -4.970600128173828, -5.138199806213379, -5.570799827575684, -4.8028998374938965, -5.451300144195557, -5.555099964141846, -4.517300128936768, -5.363900184631348, -5.242700099945068, -4.7993998527526855, -5.104100227355957, -5.244200229644775, -4.741600036621094, -5.165200233459473, -5.414899826049805, -5.281700134277344, -5.378600120544434, -5.377600193023682, -5.374899864196777, -4.021599769592285, -4.213099956512451, -4.157800197601318, -4.228700160980225, -4.228799819946289, -3.519200086593628, -3.9677999019622803, -4.120500087738037, -4.982699871063232, -5.043600082397461, -5.311200141906738, -5.428800106048584, -5.555500030517578, -5.6528000831604, -5.654099941253662, -4.835400104522705, -4.340000152587891, -5.908999919891357, -6.070799827575684, -4.241399765014648, -6.094799995422363, -5.519199848175049, -6.2494001388549805, -6.26230001449585, -6.298600196838379, -6.392499923706055, -6.404900074005127, -5.487400054931641, -6.411600112915039, -5.498600006103516, -4.08519983291626, -4.150000095367432, -5.550099849700928, -5.589600086212158, -3.9969000816345215, -4.778900146484375, -3.5824999809265137, -5.125199794769287, -4.9730000495910645, -3.974299907684326, -5.168000221252441, -4.848700046539307, -5.354700088500977, -5.277699947357178, -5.416399955749512, -5.480999946594238, -4.608799934387207, -4.676599979400635, -4.676599979400635, -4.676599979400635, -4.676599979400635, -4.676599979400635, -5.122799873352051, -5.353099822998047, -5.716100215911865, -5.783599853515625, -5.838799953460693, -5.949900150299072, -4.231800079345703, -6.058000087738037, -6.0742998123168945, -6.154600143432617, -6.242300033569336, -6.242300033569336, -6.275199890136719, -5.210299968719482, -6.3821001052856445, -6.4197001457214355, -6.4197001457214355, -6.4197001457214355, -6.4197001457214355, -6.4197001457214355, -6.4197001457214355, -6.4197001457214355, -6.4197001457214355, -6.4197001457214355, -5.867099761962891, -6.032199859619141, -4.000400066375732, -6.114799976348877, -5.151800155639648, -4.49459981918335, -5.1616997718811035, -5.625800132751465, -5.203499794006348, -5.116300106048584, -3.7369000911712646, -5.333899974822998, -3.857100009918213, -5.637499809265137, -4.224599838256836, -5.399499893188477, -4.5192999839782715, -4.489200115203857, -5.589399814605713, -4.575500011444092, -4.222799777984619, -5.100100040435791, -5.3282999992370605, -5.250800132751465, -4.982900142669678, -5.137199878692627, -5.298500061035156, -5.244999885559082, -5.114299774169922, -5.197000026702881, -4.727700233459473, -4.292900085449219, -5.527400016784668, -4.249300003051758, -5.644000053405762, -5.64739990234375, -5.723499774932861, -5.259099960327148, -5.821400165557861, -5.824999809265137, -5.857100009918213, -5.896599769592285, -5.911499977111816, -5.976399898529053, -5.994900226593018, -6.045499801635742, -6.071599960327148, -6.089000225067139, -6.106500148773193, -6.113699913024902, -6.113800048828125, -6.166600227355957, -6.22760009765625, -6.233500003814697, -6.266300201416016, -6.274799823760986, -6.298900127410889, -6.313300132751465, -5.292699813842773, -5.1529998779296875, -5.632900238037109, -5.271500110626221, -5.249100208282471, -5.097400188446045, -5.266600131988525, -5.239200115203857, -4.560500144958496, -4.789100170135498, -5.816699981689453, -5.405099868774414, -5.188000202178955, -5.246200084686279, -5.200900077819824, -5.142199993133545, -5.607999801635742, -5.026100158691406, -5.399799823760986, -5.365300178527832, -5.674200057983398, -5.1855998039245605, -5.047500133514404, -5.278900146484375, -5.431399822235107, -5.517300128936768, -5.485799789428711, -4.652200222015381, -4.860300064086914, -4.944799900054932, -5.144899845123291, -5.223199844360352, -5.251299858093262, -5.455399990081787, -5.458700180053711, -5.700500011444092, -5.2220001220703125, -5.792300224304199, -5.854400157928467, -5.898399829864502, -5.278200149536133, -5.942699909210205, -4.776000022888184, -5.97629976272583, -6.0304999351501465, -6.012899875640869, -6.085700035095215, -6.104700088500977, -5.223599910736084, -6.212800025939941, -6.226799964904785, -6.336699962615967, -6.350800037384033, -5.351200103759766, -6.382999897003174, -6.39139986038208, -5.637499809265137, -4.776299953460693, -3.888000011444092, -4.096499919891357, -4.358500003814697, -5.368500232696533, -5.662099838256836, -3.9523000717163086, -5.275100231170654, -4.438799858093262, -4.467800140380859, -4.997700214385986, -5.23330020904541, -4.696499824523926, -5.178899765014648, -5.601500034332275, -5.498000144958496, -5.521900177001953, -5.577499866485596, -5.5843000411987305], \"loglift\": [30.0, 29.0, 28.0, 27.0, 26.0, 25.0, 24.0, 23.0, 22.0, 21.0, 20.0, 19.0, 18.0, 17.0, 16.0, 15.0, 14.0, 13.0, 12.0, 11.0, 10.0, 9.0, 8.0, 7.0, 6.0, 5.0, 4.0, 3.0, 2.0, 1.0, 1.9861, 1.9849, 1.9819, 1.9793, 1.9785, 1.9781, 1.9753, 1.9717, 1.9705, 1.9667, 1.9653, 1.9635, 1.9625, 1.9605, 1.9566, 1.9563, 1.9562, 1.954, 1.9532, 1.9527, 1.9509, 1.9499, 1.9489, 1.9488, 1.9469, 1.9439, 1.9437, 1.942, 1.9419, 1.9379, 1.9349, 1.923, 1.9177, 1.9076, 1.9248, 1.9157, 1.8881, 1.7896, 1.9088, 1.864, 1.9292, 1.8549, 1.5822, 1.9121, 1.4847, 1.6549, 1.3194, 1.2253, 1.6845, 1.6808, 1.1082, 1.5033, 0.8345, 0.9647, 0.9954, 0.9312, 1.0943, 1.5425, 1.2885, 0.346, 1.1971, 1.2774, 0.7676, 0.5523, 0.4515, 0.4063, 0.3344, 0.9119, 1.2611, 0.6008, 0.2829, 0.4172, 2.0387, 2.0336, 2.0332, 2.033, 2.0273, 2.0264, 2.0206, 2.0198, 2.0187, 2.0172, 2.0165, 2.0154, 2.012, 2.0115, 2.0103, 2.0082, 2.0068, 2.0033, 2.0025, 2.0017, 1.9998, 1.9994, 1.9944, 1.992, 1.9917, 1.9905, 1.9885, 1.9867, 1.9862, 1.9838, 1.974, 1.9745, 1.9634, 1.9568, 1.9487, 1.9758, 1.9773, 1.8809, 1.8883, 1.949, 1.959, 1.9321, 1.8649, 1.8607, 1.7074, 1.8648, 1.8817, 1.8376, 1.8204, 1.8166, 1.8509, 1.5327, 1.8838, 1.5159, 1.5516, 1.7776, 1.7107, 1.7096, 1.3588, 1.4299, 1.1447, 1.2921, 1.4382, 1.5223, 1.4793, 0.8492, 0.7748, 1.1867, 1.5837, 1.2569, 0.7309, 0.9679, 0.835, 1.1687, 0.2639, 0.2592, 0.0681, 2.0409, 2.0294, 2.0216, 2.0158, 2.0134, 2.0128, 2.0025, 1.9965, 1.9956, 1.9946, 1.9921, 1.9916, 1.9892, 1.989, 1.9865, 1.9862, 1.9841, 1.9804, 1.9776, 1.977, 1.9762, 1.9744, 1.9742, 1.974, 1.9735, 1.9734, 1.9714, 1.9666, 1.9661, 1.9657, 1.958, 1.9476, 1.9292, 1.9448, 1.8356, 1.918, 1.9031, 1.9534, 1.8696, 1.6749, 1.9395, 1.6868, 1.8402, 1.3538, 1.8255, 1.7488, 1.8695, 1.7019, 1.5797, 1.6599, 1.7719, 1.6404, 1.5558, 1.5103, 1.079, 1.0393, 1.0301, 1.2746, 1.4016, 0.7358, 1.4552, 0.8603, 1.1892, 0.7098, 0.8609, 0.8129, 0.7875, 0.7593, 1.015, 0.9413, 0.7568, 0.2481, 0.506, 0.9422, 0.7911, 1.0843, 1.1873, 1.1117, 0.2387, 0.8451, 0.4626, 2.1048, 2.1036, 2.1013, 2.0997, 2.0975, 2.0968, 2.0918, 2.0894, 2.0853, 2.0828, 2.0827, 2.0826, 2.0805, 2.0784, 2.0774, 2.0771, 2.0769, 2.0764, 2.0723, 2.0717, 2.0717, 2.0706, 2.0703, 2.0644, 2.0637, 2.0625, 2.0598, 2.0594, 2.0593, 2.0585, 2.0175, 1.9928, 2.031, 2.048, 2.0072, 2.0158, 2.0104, 1.9655, 1.9777, 1.9995, 1.9377, 1.9191, 1.9484, 1.665, 1.9586, 1.8934, 1.7244, 1.8264, 1.8376, 1.8503, 1.1215, 1.4673, 1.6168, 1.2562, 1.1334, 1.7233, 1.4319, 0.9995, 1.4866, 1.3052, 1.2533, 1.3991, 0.4663, 0.1212, 0.1575, 0.0168, 1.5003, 1.682, 1.4304, 1.0461, 0.6192, 2.5882, 2.5822, 2.5813, 2.5803, 2.58, 2.58, 2.58, 2.5799, 2.5782, 2.5763, 2.575, 2.5745, 2.5721, 2.572, 2.5719, 2.5691, 2.5684, 2.5683, 2.5678, 2.5673, 2.5655, 2.5649, 2.5642, 2.5634, 2.5578, 2.5565, 2.5559, 2.5557, 2.5556, 2.5555, 2.5531, 2.5403, 2.4777, 2.3952, 2.3576, 2.5125, 2.1752, 2.3381, 2.4036, 2.2577, 2.3422, 2.4221, 2.1413, 2.2716, 2.2095, 2.1083, 2.2986, 2.0935, 2.3903, 1.8971, 1.8967, 1.8386, 1.7965, 1.8086, 1.1973, 1.9889, 2.1524, 1.8739, 1.7742, 1.6621, 1.7406, 0.4402, 1.5315, 1.4525, 0.6223, 1.6976, 0.8149, 0.7437, 1.8472, 2.6287, 2.6281, 2.619, 2.6113, 2.6077, 2.6004, 2.5992, 2.5915, 2.5912, 2.5873, 2.5847, 2.5839, 2.5831, 2.5811, 2.5808, 2.5799, 2.5782, 2.5775, 2.5755, 2.5725, 2.5709, 2.5697, 2.5625, 2.554, 2.5486, 2.5457, 2.5442, 2.5412, 2.5405, 2.5403, 2.5286, 2.5363, 2.476, 2.4722, 2.494, 2.5142, 2.4464, 2.4426, 2.2256, 2.3317, 2.3519, 2.3886, 2.3286, 2.2679, 2.2489, 2.3137, 2.1565, 2.0488, 2.1083, 2.0398, 1.8512, 2.2062, 1.9253, 1.1979, 1.6965, 1.3623, 1.7726, 1.4909, 1.2372, 1.0203, 1.0651, 0.5732, 1.3328, 1.2612, 1.7715, 1.4469, 0.8705, 1.2025, 0.4842, 1.6687, 0.9304, -0.1778, 2.8945, 2.891, 2.8563, 2.8533, 2.8528, 2.8524, 2.8499, 2.8477, 2.8419, 2.841, 2.8393, 2.8282, 2.8278, 2.8247, 2.8242, 2.8242, 2.8234, 2.8215, 2.8177, 2.8139, 2.8136, 2.8125, 2.811, 2.8099, 2.8076, 2.7993, 2.7991, 2.7948, 2.7939, 2.7906, 2.7666, 2.7269, 2.7403, 2.6617, 2.6798, 2.666, 2.0094, 2.6957, 2.7543, 2.5496, 2.6954, 2.4392, 2.1405, 1.2737, 1.1413, 2.0042, 2.1438, 2.36, 1.0762, 1.1051, 0.9976, 1.8919, 1.0961, 1.4355, 0.8492, 2.0521, 1.9502, 0.7685, 0.3633, 1.8259, 1.1756, 2.0603, 1.8883, 0.8048, 1.6967, 1.6796, 0.5704, -0.0706, 1.2429, 0.6235, 1.1517, 0.4734, 0.9371, 0.9377, 0.9389, -0.0607, 0.9761, 3.0914, 3.0889, 3.0881, 3.0868, 3.0864, 3.0687, 3.0587, 3.0489, 3.0395, 3.0379, 3.0309, 3.0298, 3.0298, 3.0218, 3.0187, 3.0178, 3.0112, 3.0023, 2.9903, 2.9705, 2.9665, 2.9665, 2.9659, 2.9619, 2.9589, 2.9564, 2.9488, 2.9488, 2.9477, 2.9447, 2.9195, 2.9164, 2.9116, 2.9331, 2.9124, 2.7953, 2.8533, 2.666, 2.7837, 2.5981, 2.5432, 2.5865, 2.6446, 2.2608, 2.5552, 2.4302, 2.5518, 2.0502, 2.2389, 2.3103, 2.0115, 1.3481, 0.956, 2.1189, 0.1385, 3.0975, 3.0843, 3.049, 3.0453, 3.0448, 3.0413, 3.0407, 3.0332, 3.0331, 3.0283, 3.0278, 3.0266, 3.0255, 3.0241, 3.024, 3.0221, 3.0197, 3.0195, 3.019, 3.0151, 3.0118, 3.0082, 3.0033, 3.0015, 2.9955, 2.993, 2.992, 2.9907, 2.9862, 2.9842, 2.9331, 2.9453, 2.9468, 2.9499, 2.9268, 2.8525, 2.7679, 2.75, 2.8253, 2.7409, 2.573, 2.8169, 2.2925, 2.3707, 2.2425, 1.9925, 1.9163, 2.2767, 2.065, 1.6258, 1.5263, 2.1441, 2.3072, 1.7482, 0.9824, 0.6081, 1.6125, 1.3869, 1.6479, 0.3596, 0.8895, 0.2009, 1.0438, 1.3725, 1.133, 3.4737, 3.4288, 3.4131, 3.4082, 3.4053, 3.4013, 3.4011, 3.3983, 3.3957, 3.3875, 3.3741, 3.3703, 3.3695, 3.3629, 3.3596, 3.3582, 3.3509, 3.3492, 3.3446, 3.3434, 3.3422, 3.3376, 3.3352, 3.3334, 3.3323, 3.3227, 3.3226, 3.319, 3.3148, 3.3147, 3.3084, 3.2012, 3.1267, 3.0394, 3.1764, 3.0248, 2.9093, 2.8952, 2.7946, 3.105, 2.8414, 3.0624, 2.652, 2.5622, 2.9668, 2.7993, 2.8888, 2.2801, 2.7993, 2.3829, 2.0528, 2.2313, 1.9111, 2.158, 1.9549, 1.8089, 1.5986, 2.1932, 0.6406, 0.4373, 0.4613, 1.4763, 1.6947, 3.713, 3.7094, 3.7073, 3.6971, 3.6755, 3.6648, 3.647, 3.6463, 3.6415, 3.641, 3.6403, 3.6349, 3.6333, 3.6322, 3.6242, 3.6225, 3.6202, 3.6138, 3.6066, 3.604, 3.5965, 3.5886, 3.5873, 3.581, 3.5784, 3.5781, 3.5733, 3.5729, 3.5709, 3.5632, 3.5629, 3.527, 3.5531, 3.5581, 3.5188, 3.2141, 3.1412, 3.1108, 3.1306, 2.9855, 3.0023, 2.9975, 3.4504, 2.9416, 2.8801, 2.684, 2.8623, 2.5314, 1.5338, 2.2648, 2.8736, 2.4165, 1.6529, 2.3668, 3.763, 3.7555, 3.7527, 3.749, 3.7414, 3.7366, 3.6961, 3.6802, 3.6628, 3.6593, 3.6465, 3.644, 3.6212, 3.6152, 3.6134, 3.6113, 3.6058, 3.6044, 3.5948, 3.5937, 3.5937, 3.5937, 3.5937, 3.5937, 3.5724, 3.5702, 3.545, 3.5053, 3.5013, 3.4979, 3.4813, 3.4801, 3.4138, 3.4578, 3.3501, 3.3359, 3.466, 3.4073, 3.3173, 3.3273, 3.0869, 3.1432, 2.9586, 2.6914, 3.3062, 3.0737, 2.7602, 2.8359, 2.9552, 1.9299, 2.9457, 2.6249, 2.6457, 2.6493, 1.7392, 2.9349, 2.2448, 2.989, 2.6683, 2.0793, 3.0159, 3.8734, 3.8407, 3.8307, 3.8261, 3.8186, 3.8121, 3.8105, 3.8045, 3.8035, 3.8017, 3.8007, 3.7976, 3.7959, 3.7921, 3.7707, 3.7682, 3.7674, 3.7674, 3.7654, 3.7618, 3.7537, 3.7465, 3.7441, 3.7405, 3.7248, 3.7243, 3.72, 3.7199, 3.7179, 3.7095, 3.6748, 3.6697, 3.6817, 3.6015, 3.5528, 3.6063, 3.3978, 3.2333, 3.509, 3.3819, 3.5216, 3.6345, 3.2159, 2.8872, 3.2065, 3.1123, 2.7706, 3.3813, 3.2834, 3.4657, 1.567, 2.6378, 1.3283, 2.0284, 2.0622, 1.5763, 3.93, 3.9226, 3.9193, 3.915, 3.9138, 3.9014, 3.8873, 3.8855, 3.8765, 3.8762, 3.8663, 3.8574, 3.8557, 3.8471, 3.8457, 3.8443, 3.8441, 3.8386, 3.8343, 3.8299, 3.8198, 3.8175, 3.8085, 3.7995, 3.7976, 3.7967, 3.7939, 3.7793, 3.7775, 3.7449, 3.7358, 3.7148, 3.7104, 3.5609, 3.2393, 3.4264, 3.3845, 3.4451, 3.6387, 3.4926, 2.5961, 3.4025, 3.0568, 2.1759, 1.9275, 1.6068, 2.3358, 2.386, 2.9827, 1.5463, 0.9421, 1.2362, 0.5319, -0.284, 0.6613, 4.0148, 4.013, 3.9923, 3.9923, 3.9923, 3.9877, 3.9832, 3.9689, 3.9526, 3.9515, 3.9511, 3.9511, 3.9511, 3.9496, 3.9403, 3.9355, 3.9328, 3.9225, 3.918, 3.9171, 3.9132, 3.9037, 3.9031, 3.8872, 3.8869, 3.884, 3.8712, 3.8703, 3.8664, 3.8585, 3.8564, 3.8333, 3.7899, 3.6339, 3.6386, 3.8229, 3.7399, 3.6359, 3.4915, 2.79, 3.083, 3.554, 3.134, 0.9755, 1.9193, 2.2783, 2.5878, 1.7073, 0.6098, 1.3637, 4.0149, 3.9726, 3.9711, 3.9682, 3.968, 3.9638, 3.9587, 3.9587, 3.9545, 3.9516, 3.9436, 3.9314, 3.9275, 3.9193, 3.9179, 3.9142, 3.9002, 3.8979, 3.8941, 3.8935, 3.8918, 3.8825, 3.8797, 3.8721, 3.8687, 3.865, 3.8609, 3.8535, 3.8527, 3.8395, 3.7778, 3.7418, 3.7187, 3.6358, 3.7117, 3.4287, 3.5546, 3.602, 2.3569, 3.1039, 2.8857, 1.7245, 2.3382, 2.5652, 0.7246, 2.0173, 2.7953, 1.9747, 1.9741, 1.7864, 0.4339, 4.1841, 4.1836, 4.182, 4.1715, 4.1713, 4.1664, 4.1615, 4.1515, 4.1466, 4.1424, 4.1207, 4.1093, 4.0957, 4.0841, 4.0836, 4.06, 4.0524, 4.0485, 4.0217, 4.0208, 4.0174, 4.0025, 3.9877, 3.985, 3.9774, 3.9567, 3.9538, 3.9536, 3.9523, 3.9471, 3.9163, 3.8266, 3.899, 3.8652, 3.5757, 3.7022, 3.2529, 3.6353, 3.5504, 2.9429, 3.478, 2.3339, 3.2781, 2.4376, 2.8932, 1.7883, 4.1827, 4.1793, 4.1793, 4.1793, 4.1793, 4.1793, 4.1508, 4.1308, 4.0894, 4.0803, 4.0722, 4.0551, 4.0454, 4.0368, 4.0339, 4.019, 4.0015, 4.0015, 3.9947, 3.981, 3.9711, 3.9624, 3.9624, 3.9624, 3.9624, 3.9624, 3.9624, 3.9624, 3.9624, 3.9624, 3.9334, 3.9322, 3.6007, 3.9132, 3.7174, 3.5718, 3.6791, 3.7638, 3.6198, 3.5778, 2.7192, 3.5281, 2.6417, 3.6131, 2.5644, 3.2282, 2.1409, 1.9283, 3.4118, 1.3204, 0.5198, 1.8811, 2.4757, 2.0293, 0.8398, 1.0926, 1.901, 0.6419, 4.1546, 4.1479, 4.1445, 4.1376, 4.1157, 4.1062, 4.1018, 4.1013, 4.0915, 4.0818, 4.0778, 4.0773, 4.0725, 4.0665, 4.0641, 4.0536, 4.0505, 4.0418, 4.0371, 4.0339, 4.0308, 4.0295, 4.0294, 4.0194, 4.0072, 4.006, 3.9991, 3.9974, 3.9922, 3.9891, 3.9707, 3.9477, 3.9633, 3.9124, 3.9096, 3.8049, 3.7817, 3.5912, 3.1219, 3.2012, 3.8528, 3.541, 3.032, 2.8175, 2.6241, 2.2956, 3.3272, 1.7726, 2.6557, 2.5317, 3.482, 1.1983, 0.3391, 1.3813, 1.6641, 2.6019, 1.6061, 4.6234, 4.6053, 4.597, 4.5745, 4.5645, 4.5607, 4.5307, 4.5302, 4.4872, 4.4746, 4.4665, 4.4551, 4.4452, 4.4376, 4.4346, 4.4272, 4.4269, 4.4134, 4.4113, 4.3991, 4.3941, 4.3696, 4.364, 4.3599, 4.3266, 4.3221, 4.3162, 4.3118, 4.309, 4.298, 4.1519, 4.0151, 4.0191, 4.0259, 4.0978, 4.1801, 3.2048, 3.7678, 2.9936, 2.9064, 3.1926, 3.4103, 1.4481, 1.6956, 3.3488, 1.8824, 1.0623, 1.8192, 0.8718]}, \"token.table\": {\"Topic\": [1, 2, 3, 4, 5, 6, 9, 10, 11, 16, 20, 1, 9, 16, 3, 4, 10, 11, 4, 6, 10, 1, 2, 3, 4, 6, 7, 8, 13, 15, 16, 19, 4, 5, 10, 8, 1, 13, 18, 4, 17, 1, 1, 9, 15, 17, 18, 4, 1, 4, 7, 14, 3, 4, 17, 3, 9, 15, 16, 17, 6, 1, 4, 6, 7, 8, 14, 16, 17, 1, 19, 6, 16, 2, 8, 8, 4, 6, 12, 19, 15, 20, 1, 5, 7, 10, 7, 12, 4, 5, 10, 12, 3, 4, 6, 16, 3, 4, 2, 4, 8, 16, 18, 2, 3, 4, 7, 10, 17, 1, 3, 4, 5, 10, 12, 13, 14, 3, 4, 9, 19, 3, 8, 9, 13, 15, 19, 8, 3, 18, 12, 7, 6, 3, 4, 12, 13, 11, 19, 4, 11, 13, 2, 17, 19, 20, 13, 9, 10, 1, 4, 7, 9, 1, 2, 3, 6, 7, 3, 12, 15, 3, 13, 1, 2, 3, 6, 7, 16, 10, 19, 7, 1, 3, 9, 20, 19, 20, 4, 12, 17, 6, 8, 10, 10, 1, 2, 3, 4, 9, 13, 20, 1, 3, 7, 9, 14, 19, 3, 19, 14, 18, 1, 9, 15, 5, 1, 16, 8, 16, 15, 7, 16, 18, 8, 19, 6, 9, 12, 11, 3, 18, 17, 4, 17, 12, 3, 16, 11, 3, 4, 5, 6, 12, 13, 1, 3, 4, 5, 6, 7, 15, 15, 3, 11, 6, 4, 5, 11, 1, 4, 5, 10, 12, 18, 2, 3, 4, 6, 8, 18, 6, 8, 13, 18, 1, 3, 12, 18, 6, 8, 15, 17, 12, 11, 15, 5, 6, 4, 9, 19, 20, 18, 4, 5, 6, 16, 4, 5, 11, 4, 5, 6, 10, 13, 18, 20, 2, 4, 6, 7, 8, 9, 19, 11, 14, 1, 3, 1, 14, 13, 2, 14, 6, 2, 2, 4, 5, 7, 8, 12, 9, 14, 3, 4, 5, 10, 11, 4, 5, 10, 3, 6, 10, 12, 9, 4, 8, 10, 13, 19, 1, 4, 6, 8, 15, 20, 1, 4, 20, 10, 16, 6, 2, 9, 17, 13, 17, 17, 18, 6, 10, 12, 1, 3, 4, 6, 7, 6, 15, 5, 1, 2, 3, 7, 8, 9, 17, 5, 7, 8, 14, 19, 15, 1, 7, 10, 13, 16, 20, 3, 10, 5, 11, 19, 17, 11, 11, 5, 3, 18, 4, 13, 18, 1, 3, 4, 6, 12, 14, 18, 3, 4, 6, 8, 11, 12, 13, 14, 16, 18, 19, 14, 1, 3, 7, 9, 11, 14, 15, 17, 19, 5, 4, 5, 11, 3, 4, 5, 10, 12, 2, 5, 7, 3, 15, 4, 12, 19, 2, 8, 9, 16, 3, 4, 9, 12, 14, 1, 7, 8, 9, 13, 15, 17, 19, 6, 19, 1, 19, 11, 1, 4, 8, 12, 12, 1, 3, 4, 5, 6, 9, 14, 14, 6, 19, 9, 15, 16, 2, 8, 9, 12, 14, 3, 4, 11, 3, 4, 19, 9, 12, 14, 19, 2, 4, 5, 7, 8, 9, 15, 20, 1, 2, 3, 4, 6, 7, 8, 10, 16, 14, 2, 8, 9, 19, 17, 7, 11, 2, 9, 16, 17, 19, 15, 8, 2, 4, 6, 10, 18, 2, 9, 8, 9, 6, 7, 16, 9, 2, 4, 6, 8, 9, 20, 17, 18, 2, 16, 2, 8, 15, 4, 9, 2, 4, 11, 14, 11, 7, 6, 8, 15, 1, 2, 3, 4, 6, 7, 8, 20, 3, 4, 3, 18, 2, 2, 7, 16, 17, 3, 12, 15, 13, 1, 4, 6, 7, 10, 13, 15, 17, 18, 19, 6, 2, 4, 6, 8, 9, 11, 14, 16, 4, 4, 13, 5, 4, 2, 4, 4, 14, 17, 2, 9, 16, 13, 1, 3, 4, 5, 6, 15, 16, 1, 1, 3, 4, 7, 9, 11, 12, 14, 16, 10, 8, 8, 10, 13, 1, 3, 4, 6, 1, 3, 4, 6, 7, 1, 17, 1, 3, 2, 7, 8, 14, 16, 20, 4, 5, 11, 2, 13, 3, 4, 5, 10, 12, 2, 8, 16, 9, 1, 2, 3, 4, 6, 7, 15, 20, 4, 12, 13, 2, 9, 2, 1, 7, 16, 20, 4, 10, 14, 18, 7, 1, 3, 4, 5, 6, 10, 12, 13, 18, 19, 1, 13, 18, 6, 7, 12, 1, 2, 3, 6, 7, 8, 9, 11, 14, 16, 3, 19, 13, 1, 2, 3, 6, 7, 8, 9, 10, 13, 14, 15, 16, 18, 19, 20, 5, 15, 3, 4, 14, 1, 2, 4, 6, 9, 15, 16, 20, 2, 13, 9, 19, 15, 13, 4, 11, 3, 4, 8, 9, 12, 15, 4, 1, 3, 9, 4, 5, 11, 2, 3, 4, 8, 9, 10, 12, 14, 16, 17, 18, 19, 20, 9, 2, 8, 9, 11, 13, 2, 8, 9, 16, 4, 18, 3, 12, 20, 17, 1, 2, 3, 4, 6, 7, 8, 9, 15, 16, 18, 15, 2, 8, 1, 3, 1, 4, 5, 6, 5, 7, 11, 13, 16, 3, 4, 13, 11, 7, 1, 2, 3, 4, 7, 8, 9, 11, 13, 14, 15, 16, 19, 20, 4, 13, 20, 2, 4, 9, 11, 16, 18, 9, 1, 4, 6, 14, 11, 20, 14, 7, 8, 11, 12, 14, 7, 16, 6, 13, 1, 2, 3, 4, 7, 8, 18, 20, 3, 9, 1, 3, 4, 6, 9, 13, 14, 14, 4, 11, 17, 20, 16, 20, 1, 3, 4, 8, 9, 1, 10, 2, 1, 2, 4, 6, 9, 10, 13, 18, 1, 2, 3, 4, 6, 7, 9, 16, 19, 4, 7, 13, 4, 7, 20, 5, 18, 19, 2, 3, 4, 5, 6, 9, 11, 13, 16, 9, 14, 8, 1, 14, 13, 14, 1, 3, 6, 20, 16, 4, 5, 6, 18, 7, 18, 4, 13, 1, 4, 6, 7, 18, 20, 15, 11, 14, 11, 13, 20, 4, 6, 14, 12, 4, 17, 8, 20, 19, 4, 17, 15, 18, 11, 2, 7, 1, 3, 4, 5, 6, 7, 11, 12, 13, 17, 18, 18, 9, 16, 5, 2, 4, 18, 4, 11, 4, 13, 13, 1, 2, 3, 4, 6, 7, 8, 9, 15, 18, 19, 1, 6, 10, 3, 5, 7, 10, 1, 2, 3, 4, 6, 7, 8, 9, 14, 16, 11, 1, 2, 3, 6, 7, 8, 9, 10, 11, 13, 14, 16, 18, 2, 4, 5, 6, 7, 10, 4, 6, 7, 1, 2, 3, 4, 6, 7, 8, 9, 10, 11, 14, 16, 13, 4, 9, 1, 2, 3, 4, 6, 7, 9, 10, 15, 19, 2, 2, 8, 8, 10, 14, 9, 1, 2, 3, 4, 6, 7, 18, 3, 4, 17, 6, 4, 5, 11, 1, 2, 3, 4, 6, 7, 9, 16, 3, 4, 5, 10, 18, 4, 6, 17, 10, 1, 2, 3, 4, 7, 9, 14, 17, 19, 2, 3, 8, 9, 15, 16, 1, 2, 3, 4, 7, 16, 19, 4, 7, 8, 5, 1, 2, 3, 4, 5, 6, 7, 8, 9, 11, 14, 16, 9, 1, 3, 6, 1, 15, 3, 4, 7, 13, 20, 15, 1, 2, 3, 4, 8, 15, 2, 3, 11, 2, 11, 3, 4, 12, 8, 13, 4, 15, 3, 4, 5, 6, 7, 9, 15, 19, 4, 5, 12, 4, 1, 3, 4, 6, 7, 14, 8, 9, 2, 1, 12, 17, 1, 2, 4, 7, 11, 19, 14, 2, 4, 7, 9, 10, 13, 14, 16, 20, 15, 3, 6, 7, 8, 12, 1, 2, 2, 17, 19, 6, 6, 6, 12, 9, 20, 11, 15, 4, 9, 11, 15, 18, 16, 13, 18, 4, 5, 7, 14, 5, 1, 1, 2, 3, 4, 5, 6, 7, 8, 9, 15, 17, 16, 4, 12, 12, 4, 7, 16, 10, 20, 16, 2, 5, 10, 6, 7, 6, 19, 6, 10, 13, 4, 5, 6, 7, 18, 18, 4, 13, 17, 4, 13, 14, 16, 3, 6, 9, 1, 3, 4, 6, 3, 4, 5, 6, 10, 11, 12, 13, 18, 1, 8, 10, 7, 19, 18, 10, 18, 9, 1, 2, 3, 6, 7, 8, 9, 11, 13, 14, 15, 17, 18, 19, 20, 9, 8, 5, 18, 13, 13, 15, 16, 17, 20, 6, 7, 6, 7, 16, 2, 4, 18, 6, 8, 10, 11, 13, 14, 15, 1, 2, 3, 4, 6, 8, 9, 10, 16, 17, 20, 3, 4, 5, 7, 10, 17, 1, 3, 4, 6, 7, 12, 18, 13, 1, 3, 4, 5, 7, 10, 13, 20, 8, 15, 1, 2, 3, 6, 7, 11, 14, 15, 18, 19, 17, 5, 7, 8, 16, 19, 2, 9, 11, 13, 16, 18, 1, 2, 3, 6, 7, 8, 9, 10, 13, 14, 16, 18, 19, 5, 6, 7, 1, 2, 3, 4, 6, 8, 9, 10, 16, 19, 20, 1, 2, 3, 4, 5, 7, 9, 11, 12, 14, 15, 1, 2, 3, 4, 6, 7, 9, 14, 4, 14, 7, 8, 13, 8, 2, 7, 14, 4, 16, 1, 2, 3, 6, 7, 8, 9, 14, 15, 16, 18, 19, 2, 3, 2, 4, 5, 10, 12, 1, 2, 3, 4, 6, 7, 8, 10, 12, 16, 1, 2, 3, 6, 7, 9, 16, 20, 4, 5, 10, 12, 1, 2, 3, 4, 6, 7, 9, 16, 9, 11, 19, 5, 16, 16, 18, 18, 19, 1, 2, 4, 7, 9, 14, 18, 19, 1, 9, 11, 4, 9, 10, 1, 4, 6, 7, 9, 15, 8, 14, 2, 3, 12, 15, 1, 2, 3, 4, 5, 6, 8, 9, 14, 13, 12, 14, 16, 3, 7, 8, 16, 8, 3, 11, 19, 16, 9, 15, 17, 5, 10, 4, 9, 17, 15, 14, 19, 3, 7, 2, 9, 8, 13, 14, 1, 9, 13, 14, 15, 19, 20, 1, 3, 12, 2, 17, 5, 4, 6, 9, 19, 5, 4, 12, 4, 5, 6, 11, 17, 6, 20, 3, 4, 5, 10, 12, 1, 2, 3, 4, 6, 9, 13, 4, 4, 11, 7, 7, 12, 19, 7, 7, 9, 10, 4, 11, 4, 17, 2, 16, 20, 1, 4, 5, 7, 10, 12, 3, 1, 14, 2, 8, 18, 2, 14, 17, 20, 14, 16, 3, 5, 11, 5, 8, 16, 3, 5, 10, 18, 2, 3, 4, 8, 13, 14, 19, 19, 13, 12, 4, 11, 10, 1, 2, 3, 4, 6, 7, 8, 9, 15, 16, 18, 5, 6, 1, 2, 3, 4, 6, 7, 11, 14, 2, 4, 5, 10, 15, 4, 6, 8, 11, 2, 3, 4, 5, 8, 9, 10, 12, 13, 14, 16, 17, 18, 19, 3, 4, 5, 6, 7, 10, 6, 8, 13, 13, 19, 3, 4, 6, 10, 11, 7, 13, 10, 9, 16, 17, 18, 19, 5, 3, 4, 5, 10, 13, 18, 4, 5, 9, 20, 17, 18, 15, 1, 2, 4, 6, 9, 16, 18, 19, 1, 2, 3, 4, 6, 8, 11, 15, 4, 5, 11, 4, 5, 11, 10, 10, 17, 19, 1, 16, 2, 8, 11, 16, 20, 12, 3, 4, 19, 1, 6, 7, 2, 3, 4, 8, 9, 10, 11, 14, 15, 4, 14, 16, 20, 8, 9, 8, 3, 4, 5, 17, 4, 1, 2, 3, 4, 6, 7, 8, 9, 14, 16, 19, 3, 4, 8, 14, 13, 7, 9, 16, 4, 5, 11, 8, 2, 9, 16, 7, 11, 1, 15, 16, 10, 2, 3, 8, 12, 10, 7, 8, 20, 9, 11, 9, 19, 2, 4, 6, 8, 9, 11, 9, 3, 6, 10, 13, 4, 6, 10, 1, 3, 4, 6, 7, 8, 9, 10, 11, 13, 14, 15, 18, 19, 10, 4, 5, 6, 8, 10, 13, 8, 11, 18, 4, 5, 11, 3, 4, 5, 12, 13, 19, 3, 12, 1, 3, 3, 17, 3, 7, 1, 2, 3, 4, 6, 7, 9, 10, 13, 18, 20, 4, 2, 20, 2, 3, 4, 12, 6, 4, 5, 10, 11, 1, 3, 1, 6, 18, 3, 15, 19, 4, 5, 7, 10, 12, 13, 18, 15, 7, 2, 3, 1, 3, 4, 5, 6, 7, 10, 13, 16, 1, 3, 4, 5, 6, 7, 19, 20, 1, 3, 4, 5, 6, 10, 13, 17, 18, 19, 7, 7, 10, 1, 2, 3, 4, 6, 7, 8, 11, 13, 15, 18, 19, 20, 1, 14, 20, 13, 4, 6, 9, 10, 18, 20, 1, 4, 19, 1, 2, 3, 4, 6, 7, 8, 9, 11, 13, 14, 15, 17, 18, 19, 20, 1, 2, 4, 5, 6, 8, 9, 10, 15, 16, 5, 11, 8, 20, 18, 9, 19, 3, 4, 6, 2, 4, 5, 7, 16, 5, 7, 10, 1, 2, 3, 4, 6, 7, 8, 14, 16, 19, 8, 14, 17, 4, 8, 14, 18, 9, 14, 3, 7, 19, 1, 2, 4, 9, 11, 4, 17, 4, 17, 20, 4, 5, 10, 4, 5, 6, 7, 2, 2, 3, 18, 4, 5, 11, 12, 4, 5, 6, 7, 10, 9, 6, 7, 8, 16, 3, 10, 13, 13, 1, 3, 4, 5, 6, 7, 10, 12, 13, 17, 18, 4, 8, 9, 1, 1, 15, 1, 2, 3, 4, 5, 6, 7, 8, 9, 14, 15, 17, 18, 20, 3, 4, 13, 1, 2, 3, 16, 1, 14, 6, 5, 6, 19, 8, 1, 3, 4, 6, 15, 16, 18, 1, 3, 4, 5, 6, 9, 10, 12, 17, 7, 4, 7, 16, 17, 2, 3, 7, 9, 11, 14, 16, 13, 19, 1, 3, 16, 20, 6, 9, 4, 13, 1, 2, 4, 8, 9, 19, 4, 7, 1, 4, 5, 6, 8, 9, 10, 11, 13, 15, 16, 17, 19, 3, 16, 3, 7, 19, 1, 2, 3, 4, 6, 7, 8, 9, 13, 14, 16, 18, 6, 19, 4, 1, 1, 9, 3, 4, 15, 17, 5, 4, 17, 1, 12, 1, 3, 7, 13, 19, 20, 18, 1, 3, 6, 8, 13, 19, 3, 4, 7, 10, 15, 18, 3, 7, 13, 9, 16, 3, 4, 7, 8, 11, 14, 15, 18, 20, 1, 2, 3, 6, 7, 8, 9, 14, 15, 16, 19, 3, 6, 20, 4, 13, 20, 8, 11, 14, 2, 8, 4, 10, 4, 5, 6, 10, 12, 4, 5, 7, 13, 5, 6, 18, 1, 3, 4, 5, 6, 8, 9, 11, 16, 1, 2, 3, 4, 6, 7, 8, 9, 13, 14, 15, 17, 19, 2, 18, 9, 2, 1, 3, 4, 5, 6, 7, 9, 10, 12, 18, 4, 5, 10, 1, 3, 4, 5, 3, 7, 8, 14, 19, 7, 10, 16, 18, 1, 3, 4, 6, 7, 13, 18, 3, 4, 9, 12, 6, 11, 16, 1, 2, 3, 6, 7, 9, 11, 15, 7, 5, 1, 4, 5, 10, 1, 2, 3, 4, 6, 9, 13, 16, 18, 20, 9, 19, 11, 19, 20, 4, 1, 2, 3, 4, 9, 10, 15, 16, 17, 18, 7, 8, 9, 10, 14, 16, 2, 10, 5, 14, 4, 5, 7, 2, 3, 5, 6, 7, 1, 11, 15, 18, 10, 3, 5, 6, 10, 11, 15, 4, 1, 13, 2, 13, 20, 20, 3, 4, 9, 17, 19, 17, 1, 3, 6, 11, 19, 20, 6, 1, 10, 6, 11, 3, 6, 14, 5, 10, 11, 19, 19, 12, 5, 6, 3, 2, 10, 19, 1, 2, 4, 7, 9, 16, 18, 19, 12, 1, 2, 7, 8, 9, 14, 20, 1, 12, 1, 13, 18, 14, 14, 17, 14, 19, 20, 9, 9, 14, 18, 3, 4, 7, 9, 11, 13, 17, 15, 1, 3, 4, 9, 14, 1, 3, 7, 17, 16, 3, 7, 11, 14, 16, 19, 1, 9, 11, 17, 4, 7, 10, 18, 19, 3, 4, 5, 7, 19, 1, 2, 3, 4, 6, 7, 8, 9, 19, 1, 3, 2, 4, 7, 9, 13, 15, 19, 7, 1, 4, 7, 18, 19, 1, 4, 15, 16, 11, 14, 5, 10, 1, 3, 4, 5, 6, 11, 4, 5, 11, 10, 1, 11, 9, 3, 7, 14, 19, 4, 14, 19, 2, 4, 7, 8, 9, 17, 18, 20, 1, 11, 13, 15, 1, 4, 9, 16, 19, 2, 4, 13, 20, 5, 5, 4, 6, 13, 18, 6, 10, 16, 2, 3, 9, 15, 17, 4, 13, 4, 2, 8, 9, 13, 15, 18, 19, 20, 1, 2, 3, 4, 6, 7, 1, 6, 7, 10, 14, 7, 1, 2, 3, 4, 7, 8, 9, 11, 14, 1, 20, 1, 3, 4, 5, 6, 7, 10, 12, 14, 17, 3, 2, 16, 20, 16, 4, 9, 12, 1, 2, 3, 4, 9, 10, 14, 16, 19, 20, 18, 1, 2, 3, 4, 6, 7, 8, 9, 14, 15, 16, 17, 1, 2, 3, 4, 6, 7, 9, 10, 13, 14, 15, 16, 18, 19, 20, 13, 7, 1, 2, 3, 4, 6, 7, 8, 9, 10, 16, 18, 19, 6, 16, 5, 10, 1, 6, 13, 3, 18, 8, 4, 5, 11, 3, 4, 5, 10, 12, 6, 4, 15, 9, 10, 4, 1, 3, 4, 6, 7, 13, 17, 19, 2, 6, 9, 14, 2, 16, 6, 9, 11, 20, 14, 1, 2, 3, 4, 6, 7, 9, 14, 16, 19, 20, 2, 2, 4, 4, 2, 15, 16, 5, 1, 4, 6, 8, 9, 11, 14, 16, 17, 2, 3, 7, 9, 13, 19, 16, 18, 14, 5, 18, 1, 5, 2, 3, 7, 12, 20, 9, 4, 14, 19, 4, 8, 9, 10, 11, 14, 16, 20, 18, 3, 4, 8, 13, 14, 17, 1, 2, 6, 7, 8, 9, 11, 13, 15, 16, 1, 2, 8, 9, 10, 14, 15, 16, 19, 17, 9, 15, 15, 17, 6, 17, 4, 5, 10, 11, 4, 5, 10, 11, 16, 9, 17, 13, 5, 5, 11, 18, 1, 15, 15, 2, 9, 17, 1, 4, 13, 14, 19, 3, 9, 17, 1, 2, 3, 4, 6, 7, 8, 9, 11, 14, 18, 19, 10, 15, 1, 3, 6, 7, 17, 18, 1, 3, 4, 6, 7, 9, 10, 14, 8, 15, 16, 12, 19, 15, 1, 2, 3, 4, 6, 7, 8, 9, 13, 14, 15, 16, 18, 1, 2, 19, 3, 13, 17, 1, 2, 3, 4, 5, 7, 9, 10, 11, 14, 16, 17, 19, 1, 2, 3, 4, 6, 7, 8, 9, 10, 15, 16, 19, 6, 7, 3, 4, 9, 10, 12, 11, 12, 18, 15, 1, 3, 4, 5, 6, 7, 9, 10, 11, 12, 15, 18, 1, 3, 4, 5, 6, 7, 10, 17, 1, 4, 18, 4, 5, 7, 10, 11, 2, 8, 9, 11, 16, 1, 2, 3, 4, 6, 7, 9, 13, 16, 5, 3, 1, 2, 3, 6, 9, 13, 14, 19, 5, 1, 3, 1, 3, 12, 1, 3, 4, 6, 7, 9, 10, 14, 17, 18, 4, 5, 6, 12, 18, 1, 5, 10, 10, 5, 9, 6, 10, 16, 13], \"Freq\": [0.26738768050082523, 0.06684692012520631, 0.13369384025041262, 0.04718606126485151, 0.1651512144269803, 0.17694772974319317, 0.05111823303692247, 0.06684692012520631, 0.011796515316212878, 0.007864343544141918, 0.003932171772070959, 0.9101494393960556, 0.031384463427450195, 0.031384463427450195, 0.7342668024098467, 0.034965085829040315, 0.22727305788876204, 0.8501051731515656, 0.885052692314571, 0.10793325516031353, 0.9358485369626085, 0.24943594629886318, 0.1732194071519883, 0.20093451229630643, 0.006928776286079533, 0.02771510514431813, 0.07621653914687486, 0.15936185457982924, 0.020786328858238598, 0.06928776286079533, 0.006928776286079533, 0.006928776286079533, 0.16738348468684808, 0.30129027243632656, 0.5021504540605443, 0.9696062601019856, 0.34375928864316696, 0.20625557318590018, 0.41251114637180036, 0.028751824164259195, 0.9488101974205535, 0.9184087152334408, 0.9571316791066092, 0.8426166380049142, 0.06481666446191647, 0.06481666446191647, 0.7335045233807006, 0.9185193267955448, 0.44514307948083953, 0.14308170411884127, 0.38155121098357675, 0.015897967124315696, 0.021062629296909982, 0.9688809476578593, 0.8016871447060542, 0.2505567929102269, 0.18791759468267016, 0.16703786194015127, 0.22967706016770797, 0.14615812919763235, 0.9300040691401696, 0.5146362209758945, 0.1094970682927435, 0.12044677512201786, 0.07664794780492046, 0.0437988273170974, 0.0218994136585487, 0.1094970682927435, 0.01094970682927435, 0.6620293648474469, 0.33101468242372345, 0.9767354770922503, 0.9580022742775606, 0.3925946403647636, 0.5941972935250476, 0.9225949724179208, 0.1573897156819543, 0.2518235450911269, 0.2518235450911269, 0.3147794313639086, 0.81035058807787, 0.10129382350973375, 0.1353782812825241, 0.20306742192378616, 0.06768914064126205, 0.5415131251300964, 0.866829528403923, 0.9664881388666466, 0.15954050087604174, 0.2320589103651516, 0.27556995605861756, 0.3190810017520835, 0.07151327826369061, 0.8343215797430571, 0.07151327826369061, 0.0238377594212302, 0.8185675560121977, 0.14235957495864307, 0.8867603530715741, 0.021628301294428637, 0.043256602588857274, 0.043256602588857274, 0.7972742656418219, 0.7674546608569528, 0.06290611974237319, 0.012581223948474636, 0.03774367184542391, 0.03774367184542391, 0.06290611974237319, 0.06226880460900311, 0.02668663054671562, 0.17791087031143746, 0.15122423976472185, 0.017791087031143744, 0.03558217406228749, 0.5159415239031686, 0.008895543515571872, 0.12534471314261902, 0.7990725462841963, 0.031336178285654756, 0.031336178285654756, 0.20510311352326488, 0.06836770450775495, 0.3418385225387748, 0.1367354090155099, 0.04557846967183664, 0.18231387868734655, 0.9143562918293177, 0.9625747683030593, 0.9220722338388131, 0.9489118819662076, 0.8638437416401491, 0.945163246232005, 0.2756767190609286, 0.21660313640501533, 0.4922798554659439, 0.019691194218637756, 0.0965616283596557, 0.8690546552369013, 0.2591491459346906, 0.06478728648367264, 0.6478728648367265, 0.6998076783347948, 0.08482517313149028, 0.19085663954585314, 0.9444055448676494, 0.9305560424780588, 0.8767080222068824, 0.8826072510190273, 0.8084229107863153, 0.08906354101883136, 0.061659374551498634, 0.020553124850499545, 0.07324056830460125, 0.07324056830460125, 0.544072793119895, 0.2824993348891763, 0.0209258766584575, 0.893874149398817, 0.8081947022547078, 0.8664730457509335, 0.9126374173869174, 0.0702028782605321, 0.2798979999247242, 0.09112958137084043, 0.4165923719809848, 0.05858330230982599, 0.13669437205626064, 0.006509255812202888, 0.07771478114849562, 0.8937199832076995, 0.8425356230566508, 0.47850819272947603, 0.23925409636473802, 0.05437593099198591, 0.22837891016634082, 0.7492783172920265, 0.6062817655627387, 0.01647704182930767, 0.42840308756199935, 0.5272653385378454, 0.9018183965973879, 0.09919374658098495, 0.8927437192288645, 0.9562874071689818, 0.6103785492703964, 0.10869754987007059, 0.06689079992004344, 0.10033619988006516, 0.06689079992004344, 0.01672269998001086, 0.02508404997001629, 0.4467317779803137, 0.32946468626048137, 0.13960368061884804, 0.03350488334852353, 0.03908903057327745, 0.0055841472247539214, 0.9094001898676998, 0.8565752858983626, 0.7651556654184987, 0.8205928882220084, 0.8908790050443133, 0.06363421464602238, 0.02121140488200746, 0.9544786552205468, 0.9122381832407993, 0.07297905465926395, 0.881109559163876, 0.09790106212931955, 0.9535072504800888, 0.8834270703449202, 0.18015224071940147, 0.7206089628776059, 0.9364479112263948, 0.9108570910572469, 0.9144768638397878, 0.20371859371241058, 0.7469681769455054, 0.8753296652138214, 0.9593427442563391, 0.8205928753786677, 0.8615625887643171, 0.03315975449814389, 0.9284731259480288, 0.8461898403346966, 0.9393917950206383, 0.8488903272196998, 0.8209375406331431, 0.08185244191556094, 0.17114601491435472, 0.1637048838311219, 0.4464678649939688, 0.1116169662484922, 0.02232339324969844, 0.040843839930753696, 0.23144842627427095, 0.16337535972301478, 0.16337535972301478, 0.054458453241004935, 0.34036533275628084, 0.027229226620502468, 0.8990445223834546, 0.5563436671627211, 0.42795666704824703, 0.9431882308779198, 0.008794172247728726, 0.3869435789000639, 0.5980037128455533, 0.03251777782833382, 0.17071833359875258, 0.08129444457083457, 0.4958961118820908, 0.17884777805583604, 0.03251777782833382, 0.28452096784255115, 0.0076897558876365185, 0.09996682653927473, 0.030759023550546074, 0.5767316915727388, 0.820592981937618, 0.05754723772327686, 0.3452834263396612, 0.05754723772327686, 0.5179251395094918, 0.04445649590678012, 0.6001626947415316, 0.31119547134746084, 0.02222824795339006, 0.07408085092330106, 0.833409572887137, 0.07408085092330106, 0.9423412885705351, 0.9423821953827166, 0.8893870103769218, 0.11117337629711523, 0.3411962723470509, 0.6368997083811617, 0.34774578622782915, 0.057957631037971524, 0.5216186793417438, 0.057957631037971524, 0.814557102020881, 0.2389087029614434, 0.624838146206852, 0.11026555521297388, 0.9354001160875068, 0.026724436609514297, 0.5344887321902859, 0.42759098575222876, 0.19290166889808597, 0.28193320838951025, 0.11870871932189905, 0.3264489781352224, 0.014838589915237382, 0.04451576974571214, 0.014838589915237382, 0.5356728252946023, 0.10203291910373377, 0.008502743258644481, 0.05951920281051136, 0.05951920281051136, 0.2210713247247565, 0.008502743258644481, 0.8252368920760258, 0.12378553381140386, 0.9421101327286816, 0.031403671090956056, 0.9551176228227503, 0.8341662612307706, 0.9108289996575831, 0.1298169776992399, 0.8654465179949327, 0.8747943868761515, 0.932580321381304, 0.7991419113195848, 0.09104148356805396, 0.03034716118935132, 0.07081004277515308, 0.01011572039645044, 0.7846835832586985, 0.8261135506570417, 0.15629175282700788, 0.05275385238031255, 0.08792308730052091, 0.026376926190156275, 0.008792308730052092, 0.8176847118948445, 0.11438712351821184, 0.3240968499682669, 0.5528710970046906, 0.1442683901170386, 0.03606709752925965, 0.0721341950585193, 0.721341950585193, 0.8567245962670555, 0.3734345961467363, 0.15320393688071232, 0.07660196844035616, 0.3638593500916918, 0.01915049211008904, 0.08072169930510383, 0.6619179343018513, 0.016144339861020766, 0.1775877384712284, 0.016144339861020766, 0.048433019583062294, 0.28672909364405486, 0.21504682023304114, 0.35841136705506854, 0.27390282199305016, 0.6573667727833205, 0.9548054752480426, 0.9782381830513218, 0.8663962083672233, 0.9422910405759052, 0.0368960652531022, 0.9592976965806572, 0.8945200368484719, 0.8205928294878154, 0.12701268673243607, 0.03175317168310902, 0.8255824637608344, 0.7239774491305676, 0.05838527815569094, 0.03503116689341456, 0.0934164450491055, 0.08173938941796731, 0.9291154320044551, 0.8821249582396946, 0.981870893224626, 0.13562079562788842, 0.1271444959011454, 0.26276529152903383, 0.08476299726743027, 0.33905198906972106, 0.02542889918022908, 0.016952599453486053, 0.9544267050531977, 0.1951943017583653, 0.06506476725278844, 0.1951943017583653, 0.5205181380223075, 0.9791783878040551, 0.16051097062352554, 0.2293013866050365, 0.022930138660503648, 0.045860277321007295, 0.022930138660503648, 0.5044630505310802, 0.9719516870652697, 0.020679823129048293, 0.06890205270338608, 0.895726685144019, 0.78137457547861, 0.9766354479894382, 0.9899236271994951, 0.8969680486803594, 0.9693921982431671, 0.13332953473288509, 0.8333095920805318, 0.8597303312608477, 0.10975280824606568, 0.036584269415355225, 0.27416056879602907, 0.12184914168712403, 0.030462285421781008, 0.48739656674849613, 0.020308190281187338, 0.040616380562374675, 0.030462285421781008, 0.1370866200875683, 0.1523184667639648, 0.060927386705585916, 0.0761592333819824, 0.04569554002918944, 0.015231846676396479, 0.0761592333819824, 0.24370954682234366, 0.12185477341117183, 0.030463693352792958, 0.030463693352792958, 0.9296449602132849, 0.11812349019629625, 0.11812349019629625, 0.05062435294126982, 0.18562262745132269, 0.13499827451005286, 0.18562262745132269, 0.06749913725502643, 0.033749568627513216, 0.06749913725502643, 0.9774690959743, 0.019532390027909685, 0.48830975069774213, 0.47854355568378726, 0.09701235629657483, 0.14178728997191706, 0.14924977891780744, 0.3955119141321897, 0.2089496904849304, 0.9334232047613807, 0.02414025529555295, 0.04023375882592158, 0.9132227569296518, 0.048064355627876414, 0.14596509149137368, 0.8465975306499673, 0.8464615257283491, 0.609057898524695, 0.3521115975845894, 0.028549588993345084, 0.00951652966444836, 0.15937510411078154, 0.6614066820597434, 0.02390626561661723, 0.12750008328862522, 0.015937510411078153, 0.22494852593323772, 0.3534905407522307, 0.09640651111424474, 0.128542014818993, 0.04820325555712237, 0.016067751852374124, 0.016067751852374124, 0.09640651111424474, 0.9667193424954955, 0.84433803220342, 0.9475373067069814, 0.051218232794971966, 0.9601520112659871, 0.02802604002819459, 0.30828644031014046, 0.02802604002819459, 0.6165728806202809, 0.8521408598931547, 0.02409755326437189, 0.14458531958623133, 0.4939998419196237, 0.06024388316092972, 0.15663409621841728, 0.02409755326437189, 0.0843414364253016, 0.825174681013299, 0.15188174757327186, 0.7594087378663593, 0.8796391521420118, 0.06766455016477015, 0.7671790690276862, 0.10118697311830283, 0.6360324024579035, 0.15900810061447587, 0.014455281874043262, 0.0722764093702163, 0.9476712703450233, 0.09865257925142694, 0.838546923637129, 0.9469557493133177, 0.8666109214342359, 0.10832636517927949, 0.28457346836984787, 0.6402903038321577, 0.07114336709246197, 0.8726595066473446, 0.07886276286744784, 0.2365882886023435, 0.05914707215058587, 0.029573536075292936, 0.06900491750901686, 0.22673044324391253, 0.2858775153944984, 0.00985784535843098, 0.22760879941899928, 0.09236299106857943, 0.2803876514581875, 0.07257092155388382, 0.13524580835041985, 0.08576563456368089, 0.05937620854408677, 0.023090747767144856, 0.01979206951469559, 0.7998293163225146, 0.4175277337762057, 0.456670958817725, 0.10438193344405143, 0.013047741680506429, 0.8609540017665684, 0.8087954164827086, 0.08087954164827087, 0.4997671852638125, 0.4257276022617662, 0.03701979150102315, 0.018509895750511575, 0.8993394204046169, 0.9335013777945397, 0.9875134232391173, 0.0482593824337949, 0.6273719716393337, 0.016086460811264965, 0.17695106892391463, 0.11260522567885477, 0.5550647836848417, 0.432762373720385, 0.8396321428019466, 0.15070320511829813, 0.9539146967101826, 0.9403224627608309, 0.9048013797170472, 0.9322564513594908, 0.09262978264837446, 0.3572863045008729, 0.06616413046312461, 0.13232826092624922, 0.344053478408248, 0.8559504085841579, 0.7532205241612517, 0.21520586404607192, 0.9310457184905496, 0.7956024362915073, 0.03437547246742795, 0.12031415363599782, 0.8421990754519848, 0.912696801034429, 0.9494700391892222, 0.8414758790876795, 0.04674865994931553, 0.015582886649771843, 0.09349731989863105, 0.9483070144026997, 0.9349578814923404, 0.07219287360899662, 0.07219287360899662, 0.8302180465034612, 0.022115524752260543, 0.7187545544484676, 0.0774043366329119, 0.022115524752260543, 0.011057762376130272, 0.08846209900904217, 0.06634657425678163, 0.011057762376130272, 0.898604008274822, 0.08359107053719274, 0.35138933306201175, 0.5856488884366863, 0.9456234411236533, 0.939249862093964, 0.9352032411281365, 0.8787586069963773, 0.0976398452218197, 0.010015538913410504, 0.31048170631572564, 0.6710411071985037, 0.882074786732924, 0.009120677451718233, 0.4742752274893481, 0.027362032355154695, 0.10944812942061878, 0.21889625884123756, 0.027362032355154695, 0.009120677451718233, 0.018241354903436466, 0.09120677451718232, 0.009120677451718233, 0.9336354184922585, 0.38169832579601687, 0.023133231866425265, 0.034699847799637897, 0.4337480974954738, 0.017349923899818948, 0.005783307966606316, 0.05204977169945685, 0.05204977169945685, 0.9459407205317478, 0.2702289862986113, 0.7025953643763894, 0.9231301973181267, 0.9753324157554637, 0.10326974003983251, 0.8777927903385764, 0.29431026956519907, 0.5150429717390983, 0.14715513478259953, 0.8491594375855896, 0.09320042607646715, 0.0517780144869262, 0.8185752493764158, 0.4377548097756476, 0.03502038478205181, 0.061285673368590664, 0.21012230869231086, 0.14008153912820723, 0.09630605815064247, 0.008755096195512952, 0.9568793370246503, 0.16991440561695417, 0.33982881123390835, 0.041013822045471694, 0.011718234870134769, 0.32225145892870616, 0.029295587175336923, 0.011718234870134769, 0.06445029178574123, 0.0058591174350673845, 0.8218857900453772, 0.8678359357201029, 0.8961583115752866, 0.8551397662555437, 0.9495941795377278, 0.5454472649468417, 0.017595073062801347, 0.008797536531400673, 0.41348421697583165, 0.3823411685650108, 0.05097882247533478, 0.11470235056950324, 0.038234116856501084, 0.3950858741838445, 0.923420986035639, 0.7940100601436038, 0.8817588216033804, 0.11501202020913656, 0.8291894953732808, 0.011845564219618297, 0.023691128439236594, 0.07107338531770978, 0.059227821098091486, 0.9046375390990795, 0.008737832920946792, 0.4456294789682864, 0.5417456410987012, 0.18524243263933823, 0.808330615153476, 0.028681860747903756, 0.10038651261766314, 0.028681860747903756, 0.7457283794454976, 0.08604558224371127, 0.7972492661582861, 0.17375945544475466, 0.02044228887585349, 0.9054812938576416, 0.20327355673922315, 0.06576497423916043, 0.28099579902186733, 0.03587180413045114, 0.2630598969566417, 0.14348721652180457, 0.0059786340217418575, 0.0059786340217418575, 0.22943390579206166, 0.726540701674862, 0.8389856079446212, 0.8979671652211444, 0.07483059710176203, 0.9593295660820513, 0.13141599554352495, 0.7884959732611497, 0.06570799777176248, 0.9009041792784003, 0.9095315544989764, 0.061730483925874546, 0.6173048392587455, 0.24692193570349819, 0.8412449922750236, 0.12227058705402506, 0.006792810391890281, 0.434739865080978, 0.020378431175670845, 0.03396405195945141, 0.20378431175670844, 0.12227058705402506, 0.006792810391890281, 0.03396405195945141, 0.006792810391890281, 0.202773968517449, 0.1013869842587245, 0.608321905552347, 0.5256969747520333, 0.03504646498346888, 0.4205575798016266, 0.47474646877813853, 0.06782092411116264, 0.1559881254556741, 0.006782092411116264, 0.1152955709889765, 0.10173138616674397, 0.006782092411116264, 0.013564184822232529, 0.04069255446669759, 0.006782092411116264, 0.8745560409738975, 0.06727354161337673, 0.8512732231586874, 0.2129005799582269, 0.13884820432058276, 0.28695295559587103, 0.007405237563764414, 0.15736129822999378, 0.05183666294635089, 0.08145761320140855, 0.014810475127528828, 0.007405237563764414, 0.007405237563764414, 0.0018513093909411035, 0.00555392817282331, 0.0018513093909411035, 0.02036440330035214, 0.003702618781882207, 0.9170812999508169, 0.8821685610957236, 0.1195798516051384, 0.8609749315569964, 0.007971990107009226, 0.05438251391855069, 0.4894426252669562, 0.013595628479637672, 0.17674317023528974, 0.08157377087782604, 0.013595628479637672, 0.10876502783710137, 0.05438251391855069, 0.37518949597480883, 0.5940500352934474, 0.24145551481282523, 0.7243665444384757, 0.9791783444608753, 0.8682930008365877, 0.9823348856156828, 0.9382334198260359, 0.13458867827385718, 0.1944058686177937, 0.02990859517196826, 0.04486289275795239, 0.5234004155094446, 0.05981719034393652, 0.9689111582230077, 0.9650755296970119, 0.5464531232982693, 0.4326087226111299, 0.07484154913728548, 0.8082887306826831, 0.11974647861965677, 0.015571528103594641, 0.015571528103594641, 0.5138604274186231, 0.0259525468393244, 0.12457222482875713, 0.00519050936786488, 0.062286112414378564, 0.09342916862156785, 0.02076203747145952, 0.015571528103594641, 0.09861967798943272, 0.00519050936786488, 0.01038101873572976, 0.9238056125058306, 0.19186723821322357, 0.7379509162047061, 0.05903607329637649, 0.8970879709932071, 0.839356826031054, 0.7130772159284451, 0.1363235853980851, 0.05243214823003273, 0.09437786681405891, 0.15291104911991898, 0.764555245599595, 0.92912785229422, 0.8902000539237123, 0.7247019529099853, 0.9518665865198582, 0.20549433980457976, 0.1666170322739836, 0.12773972474338743, 0.1055241204401896, 0.29991065809317047, 0.011107802151598907, 0.04443120860639563, 0.01666170322739836, 0.011107802151598907, 0.0055539010757994535, 0.011107802151598907, 0.7997688610673981, 0.4113777487724639, 0.5796686459975627, 0.9239065845762294, 0.06843752478342441, 0.10287421983580096, 0.17145703305966828, 0.05143710991790048, 0.6686824289327062, 0.07427762629555733, 0.6313598235122373, 0.037138813147778664, 0.18569406573889333, 0.07427762629555733, 0.692404999487446, 0.16205223392259374, 0.13258819139121306, 0.8578133166978796, 0.897757157988521, 0.15287385373946583, 0.50031443042007, 0.02779524613444833, 0.034744057668060414, 0.16677147680668997, 0.020846434600836246, 0.02779524613444833, 0.0069488115336120825, 0.013897623067224165, 0.0069488115336120825, 0.0069488115336120825, 0.013897623067224165, 0.020846434600836246, 0.9058023123865401, 0.9426670237342212, 0.02356667559335553, 0.02356667559335553, 0.28394658383737503, 0.14197329191868752, 0.0473244306395625, 0.0473244306395625, 0.094648861279125, 0.3785954451165, 0.8511806371365669, 0.09846985601618698, 0.748370905723021, 0.019693971203237393, 0.13785779842266177, 0.14048429482362285, 0.7024214741181143, 0.7561727990283094, 0.07463529100880531, 0.07463529100880531, 0.07463529100880531, 0.5970823280704425, 0.1865882275220133, 0.18981531269816868, 0.7592612507926747, 0.19425076590596876, 0.7284403721473829, 0.1958777004726076, 0.09140959355388355, 0.1958777004726076, 0.02611702672968101, 0.35257986085069365, 0.09140959355388355, 0.013058513364840506, 0.7317198867943508, 0.07966125515169878, 0.8762738066686866, 0.10663774735356543, 0.7978083320526007, 0.023697277189681207, 0.007899092396560402, 0.019747730991401008, 0.003949546198280201, 0.03554591578452181, 0.8031220704591215, 0.04087091970424251, 0.3269673576339401, 0.6130637955636377, 0.8729173683558382, 0.7511904863615033, 0.7478733636367138, 0.7213317110724367, 0.15893749566002843, 0.012225961204617572, 0.07335576722770543, 0.012225961204617572, 0.9685853798546188, 0.8235950228959142, 0.9624870101341548, 0.095467750517482, 0.015911291752913666, 0.4932500443403237, 0.06364516701165467, 0.03977822938228417, 0.23866937629370502, 0.015911291752913666, 0.03182258350582733, 0.140649452245186, 0.45570422527440263, 0.05063380280826696, 0.02250391235922976, 0.06188575898788184, 0.13502347415537855, 0.06751173707768927, 0.0281298904490372, 0.03375586853884464, 0.4370107397561234, 0.029134049317074896, 0.49527883839027326, 0.954146968090297, 0.028913544487584757, 0.845928760894836, 0.14414344530358383, 0.14414344530358383, 0.6486455038661273, 0.9590914666943989, 0.14466659597662787, 0.2732591257336304, 0.28933319195325574, 0.00803703310981266, 0.05625923176868861, 0.12859252975700255, 0.0803703310981266, 0.00803703310981266, 0.12087467956083356, 0.8461227569258349, 0.8165597897075961, 0.4035987970298142, 0.582976040154176, 0.09884319525635668, 0.8895887573072101, 0.18550990673840337, 0.07420396269536135, 0.18550990673840337, 0.5194277388675295, 0.9183470243097461, 0.032734954462304865, 0.052375927139687785, 0.8838437704822314, 0.026187963569843892, 0.9128093647050575, 0.03968736368282858, 0.9552271387804088, 0.9223064105810764, 0.020827963693838072, 0.4373872375705995, 0.041655927387676144, 0.41655927387676145, 0.020827963693838072, 0.041655927387676144, 0.9705461252689634, 0.16168613099769116, 0.8084306549884558, 0.9325548281450096, 0.8034321101145011, 0.08034321101145012, 0.8913023345537462, 0.028751688211411167, 0.057503376422822335, 0.9571158483452897, 0.11221219158614003, 0.8602934688270736, 0.3283930531275909, 0.5473217552126515, 0.7302092233409684, 0.10723626237446102, 0.7506538366212271, 0.7752723723737112, 0.0969090465467139, 0.9780840115276119, 0.9687172429808695, 0.9505088275669401, 0.19155123294318552, 0.49394937225958496, 0.13321075590465184, 0.004861706419877805, 0.12445968434887181, 0.006806388987828926, 0.0058340477038533655, 0.00972341283975561, 0.0029170238519266828, 0.000972341283975561, 0.024308532099389026, 0.9028023564814328, 0.8439091907232571, 0.14065153178720952, 0.924868811982933, 0.35292189830939036, 0.08823047457734759, 0.5293828474640855, 0.9145711985737257, 0.05716069991085786, 0.27151859528629274, 0.7127363126265185, 0.7492694089056926, 0.23549059141185286, 0.13153528529310698, 0.3755120241432248, 0.010607684297831209, 0.19518139108009425, 0.006364610578698726, 0.006364610578698726, 0.008486147438264967, 0.008486147438264967, 0.010607684297831209, 0.008486147438264967, 0.9807214707896867, 0.9644193755946748, 0.846495852226697, 0.11898937824223163, 0.09915781520185969, 0.2776418825652071, 0.49578907600929845, 0.48967027349875497, 0.01179928369876518, 0.09439426959012144, 0.09439426959012144, 0.16518997178271252, 0.04129749294567813, 0.02359856739753036, 0.0589964184938259, 0.01179928369876518, 0.00589964184938259, 0.8963915818355552, 0.18070747057806252, 0.14315786630210148, 0.35672124062162996, 0.20417597325053818, 0.016427951870732958, 0.032855903741465915, 0.02581535293972322, 0.004693700534495131, 0.004693700534495131, 0.0023468502672475654, 0.009387401068990261, 0.0023468502672475654, 0.016427951870732958, 0.00388871133864282, 0.11666134015928459, 0.15554845354571278, 0.6533035048919937, 0.03110969070914256, 0.038887113386428196, 0.3953962647124566, 0.5789731019003829, 0.014121295168302022, 0.36644192679981374, 0.16867961709832696, 0.2113342329162947, 0.0019388461735439881, 0.05234884668568768, 0.11633077041263928, 0.015510769388351905, 0.054287692859231663, 0.0038776923470879763, 0.0019388461735439881, 0.0019388461735439881, 0.0038776923470879763, 0.9204528867877092, 0.8720836734020337, 0.09427931604346311, 0.2559695499656474, 0.025095053918200726, 0.41657789504213205, 0.04015208626912116, 0.08030417253824232, 0.07528516175460218, 0.035133075485481016, 0.005019010783640145, 0.005019010783640145, 0.05019010783640145, 0.9672974683267066, 0.0054685088018969, 0.9898000931433389, 0.9913197669693655, 0.8777330433081355, 0.9124109427919351, 0.8932765419770031, 0.48254418707319713, 0.026808010392955398, 0.2881861117242705, 0.06031802338414964, 0.020106007794716548, 0.08712603377710504, 0.026808010392955398, 0.9153333889133994, 0.3783394763814379, 0.540484966259197, 0.9270230483881666, 0.12357634198749903, 0.6002279467964239, 0.2648064471160694, 0.28823139614005866, 0.03602892451750733, 0.3362699621634017, 0.06004820752917888, 0.07205784903501466, 0.0480385660233431, 0.0480385660233431, 0.13210605656419355, 0.012741908089772597, 0.21661243752613413, 0.7008049449374928, 0.038225724269317786, 0.012741908089772597, 0.7368629009784877, 0.21491834611872557, 0.04605393131115548, 0.8651797639341384, 0.04420274202620788, 0.2828975489677304, 0.5215923559092529, 0.026521645215724726, 0.04420274202620788, 0.008840548405241575, 0.01768109681048315, 0.026521645215724726, 0.01768109681048315, 0.2663150245817196, 0.03133117936255524, 0.37597415235066295, 0.06266235872511049, 0.17232148649405385, 0.07832794840638811, 0.14691798089907446, 0.5946680179248252, 0.12592969791349237, 0.020988282985582064, 0.06296484895674619, 0.034980471642636776, 0.01399218865705471, 0.8945239133470726, 0.9312678001448343, 0.812634610849492, 0.9685014213862508, 0.2170420466875845, 0.5008662615867335, 0.008347771026445558, 0.004173885513222779, 0.012521656539668337, 0.09599936680412392, 0.05008662615867335, 0.04173885513222779, 0.016695542052891116, 0.025043313079336674, 0.012521656539668337, 0.012521656539668337, 0.8909003571717811, 0.59861608867734, 0.3254974982183036, 0.07108566053043411, 0.981454713114359, 0.012268183913929488, 0.2031009782908919, 0.6230259739463846, 0.16193186106976515, 0.005489215629483565, 0.005489215629483565, 0.92119842650992, 0.03698308895267226, 0.01849154447633613, 0.1571781280488571, 0.009245772238168064, 0.6472040566717645, 0.12019503909618484, 0.05438880136061387, 0.7614432190485942, 0.16316640408184163, 0.9098475130415175, 0.07221012008266012, 0.02489920097550585, 0.12449600487752925, 0.8216736321916931, 0.8363263141479688, 0.7568300139045485, 0.08748300934791922, 0.8748300934791923, 0.25836828847892257, 0.3039626923281442, 0.06079253846562884, 0.08358974039023966, 0.18997668270509013, 0.007599067308203605, 0.007599067308203605, 0.08358974039023966, 0.047856952183779694, 0.9092820914918143, 0.9320537538047345, 0.9626084413001551, 0.17836856605096166, 0.8026585472293275, 0.37472375822077647, 0.034065796201888765, 0.5791185354321091, 0.8181068074063251, 0.09954511164430158, 0.8461334489765634, 0.9598760064051369, 0.040891434561576685, 0.6951543875468037, 0.20445717280788342, 0.21540722034481388, 0.10770361017240694, 0.13462951271550866, 0.2692590254310173, 0.026925902543101735, 0.24233312288791561, 0.9218694663487653, 0.30405575217473985, 0.16216306782652792, 0.030405575217473984, 0.4155428613054778, 0.010135191739157995, 0.02027038347831599, 0.04054076695663198, 0.02027038347831599, 0.010135191739157995, 0.979178396923718, 0.8826484918090904, 0.013791382684517038, 0.0689569134225852, 0.027582765369034076, 0.820692396432989, 0.9852456792342137, 0.99073926822102, 0.9821294128206542, 0.7379901659832012, 0.757782854277289, 0.8997707246507521, 0.9828776511612188, 0.9392428528712947, 0.8712333105785496, 0.8469854181681908, 0.14116423636136513, 0.8480299869813476, 0.9376778982289202, 0.340059635720956, 0.1360238542883824, 0.0680119271441912, 0.4080715628651472, 0.0340059635720956, 0.9453653723109418, 0.9355309772646009, 0.947700410050954, 0.08771229913642296, 0.08771229913642296, 0.7016983930913837, 0.08771229913642296, 0.9431957999462486, 0.9736065858580013, 0.1197783044287939, 0.042777965867426396, 0.14544508394924974, 0.21388982933713196, 0.09411152490833806, 0.017111186346970557, 0.017111186346970557, 0.017111186346970557, 0.017111186346970557, 0.025666779520455835, 0.28233457472501416, 0.9243823997482823, 0.8836784366358292, 0.8521409113210617, 0.8521408407092358, 0.11934870380324841, 0.8354409266227389, 0.03978290126774947, 0.12427228565702811, 0.7456337139421686, 0.8485097385119165, 0.9650196452243587, 0.8862047074317115, 0.04431023537158557, 0.08377730925346379, 0.8377730925346378, 0.24760528009314195, 0.7428158402794258, 0.0370996293192887, 0.1483985172771548, 0.8161918450243514, 0.05399234552272658, 0.13498086380681645, 0.13498086380681645, 0.13498086380681645, 0.5129272824659025, 0.9512400978273389, 0.3633139513055467, 0.6228239165237943, 0.9409822053238203, 0.9461751423192484, 0.04614894425336214, 0.04614894425336214, 0.8768299408138807, 0.8795685761462385, 0.028373179875685113, 0.08511953962705533, 0.1439951747730056, 0.04799839159100187, 0.0719975873865028, 0.7199758738650279, 0.021992416864106735, 0.17593933491285388, 0.33721705858296996, 0.30056303047612537, 0.09530047307779585, 0.014661611242737824, 0.02932322248547565, 0.007330805621368912, 0.014661611242737824, 0.9554532676754705, 0.08578544580039764, 0.8578544580039764, 0.48170082557844873, 0.48170082557844873, 0.8912629402337856, 0.920196405046352, 0.95124013848121, 0.8865461489303992, 0.10341736898968346, 0.30214094077378106, 0.30214094077378106, 0.020277915488173228, 0.16222332390538582, 0.014194540841721259, 0.03041687323225984, 0.008111166195269292, 0.014194540841721259, 0.012166749292903936, 0.010138957744086614, 0.002027791548817323, 0.010138957744086614, 0.002027791548817323, 0.002027791548817323, 0.8434544567903604, 0.9457769890318249, 0.47857452411490536, 0.47857452411490536, 0.9369944409811128, 0.7486933112698844, 0.12790669340123825, 0.2558133868024765, 0.511626773604953, 0.08527112893415884, 0.8833455462637492, 0.05888970308424995, 0.8948723880359916, 0.06883633754123013, 0.9289601300843897, 0.975220053302349, 0.36151568748003915, 0.6025261458000652, 0.8452998326348792, 0.2260343926081346, 0.025114932512014954, 0.025114932512014954, 0.5022986502402991, 0.12557466256007477, 0.07534479753604487, 0.14002433387280838, 0.27522024243965787, 0.07242637958938365, 0.024142126529794552, 0.31384764488732914, 0.03379897714171237, 0.01931370122383564, 0.08208323020130147, 0.00482842530595891, 0.02897055183575346, 0.00482842530595891, 0.6782890211418544, 0.05537053233811056, 0.06229184888037438, 0.02768526616905528, 0.1315050143030126, 0.04152789925358292, 0.4036133664578547, 0.0030810180645637767, 0.41285642065154604, 0.01848610838738266, 0.06778239742040308, 0.03389119871020154, 0.05545832516214798, 0.7897626404290382, 0.9775498471464525, 0.9205709726223618, 0.04080335450119509, 0.6664547901861865, 0.09520782716945522, 0.10880894533652025, 0.05440447266826012, 0.02720223633413006, 0.9277197574750046, 0.05457175043970615, 0.12385479963995318, 0.08444645429996807, 0.21956078117991698, 0.050667872579980844, 0.22519054479991488, 0.005629763619997872, 0.02814881809998936, 0.045038108959982975, 0.20267149031992338, 0.005629763619997872, 0.9098103909509866, 0.12099395462808338, 0.20165659104680564, 0.20165659104680564, 0.4033131820936113, 0.040331318209361124, 0.8101714115996894, 0.011252380716662352, 0.06751428429997411, 0.011252380716662352, 0.05626190358331176, 0.022504761433324704, 0.18974798335367504, 0.28090142633730325, 0.27160005460427994, 0.022323292159255884, 0.14510139903516325, 0.027904115199069858, 0.01860274346604657, 0.0018602743466046572, 0.009301371733023285, 0.0037205486932093143, 0.0130219204262326, 0.0037205486932093143, 0.009301371733023285, 0.25333576569381033, 0.6800065289675962, 0.06666730676152904, 0.05136082506910353, 0.47014909101717844, 0.06321332316197358, 0.02370499618574009, 0.2686566234383877, 0.007901665395246697, 0.03950832697623348, 0.0039508326976233485, 0.02370499618574009, 0.011852498092870044, 0.03950832697623348, 0.11216571777295792, 0.1308600040684509, 0.012462857530328657, 0.4112742985008457, 0.018694286295492985, 0.012462857530328657, 0.22433143554591584, 0.018694286295492985, 0.031157143825821642, 0.018694286295492985, 0.006231428765164328, 0.0850769460596899, 0.2552308381790697, 0.38892318198715387, 0.024307698874197117, 0.04861539774839423, 0.07292309662259135, 0.12153849437098559, 0.006076924718549279, 0.38669800224628076, 0.5524257174946868, 0.7917564811831497, 0.17594588470736658, 0.043986471176841645, 0.9562095170418432, 0.9154214701764787, 0.06780899779085027, 0.8576205627879132, 0.3214007153674289, 0.6428014307348578, 0.20443495572169004, 0.26884596916824993, 0.27164644801375254, 0.022403830764020825, 0.09521628074708852, 0.002800478845502603, 0.04200718268253905, 0.02520430960952343, 0.03360574614603124, 0.01680287307301562, 0.00840143653650781, 0.002800478845502603, 0.9710656105289983, 0.9719076721218376, 0.012117160792310538, 0.13328876871541592, 0.19387457267696862, 0.2786946982231424, 0.38774914535393723, 0.16356893771077508, 0.01982653790433637, 0.28748479961287743, 0.04460971028475684, 0.04460971028475684, 0.05452297923692503, 0.004956634476084093, 0.01486990342825228, 0.3320945098976342, 0.02973980685650456, 0.33240515919457436, 0.2169867011409027, 0.19390300953016837, 0.02308369161073433, 0.17543605624158093, 0.041550644899321795, 0.004616738322146866, 0.004616738322146866, 0.14801046604786428, 0.2618646707000676, 0.2618646707000676, 0.3187917730261692, 0.15011174890431742, 0.5427117075771476, 0.005773528804012208, 0.05196175923610988, 0.08082940325617093, 0.04618823043209767, 0.017320586412036626, 0.09814998966820755, 0.9396936067794418, 0.8324328283743293, 0.10405410354679116, 0.9733645732818033, 0.8531172333198448, 0.19196807554405806, 0.7678723021762323, 0.060434431961095554, 0.9065164794164333, 0.006616510466566837, 0.35067505472804233, 0.22496135586327246, 0.033082552332834185, 0.1786457825973046, 0.019849531399700512, 0.1257136988647699, 0.05954859419910153, 0.20502473306262306, 0.6970840924129184, 0.061507419918786915, 0.8466132795293486, 0.13655052895634656, 0.8672102102273136, 0.7097021251106688, 0.06713398480776596, 0.057543415549513685, 0.07672455406601825, 0.07672455406601825, 0.8539885915904496, 0.19342956164066466, 0.7737182465626586, 0.9804502211766659, 0.12120770262647308, 0.7272462157588385, 0.06060385131323654, 0.06134124465819718, 0.03505213980468411, 0.07010427960936821, 0.10515641941405231, 0.21907587377927565, 0.4118626427050382, 0.04381517475585513, 0.026289104853513077, 0.026289104853513077, 0.9466204025432071, 0.7996431610161393, 0.17135210593202985, 0.057117368644009944, 0.7803698986106458, 0.08670776651229398, 0.028902588837431326, 0.08670776651229398, 0.8333365185228032, 0.06570797871933412, 0.7884957446320094, 0.13141595743866824, 0.867041669557326, 0.2891863918627502, 0.19279092790850014, 0.48197731977125036, 0.9112408399797544, 0.9467333068451617, 0.9114764781138842, 0.8952727368598768, 0.9378872236067982, 0.9376779731201674, 0.8488598990100276, 0.8686271757378604, 0.9315101971883311, 0.9466754337771304, 0.21477471749431476, 0.7696094043546279, 0.21784377387718462, 0.21784377387718462, 0.5228250573052431, 0.2587843867872279, 0.12939219339361396, 0.04313073113120466, 0.34504584904963725, 0.04313073113120466, 0.04313073113120466, 0.08626146226240931, 0.23122077041309644, 0.08408028015021689, 0.6726422412017351, 0.9942218328207325, 0.8058217633394658, 0.9741238664569615, 0.05074405166673, 0.15223215500019002, 0.76116077500095, 0.05074405166673, 0.9417254354795049, 0.5125127453706336, 0.46794641968623074, 0.06845168275834648, 0.6258439566477393, 0.058672870935725555, 0.23469148374290222, 0.009778811822620926, 0.3188150113974502, 0.6376300227949004, 0.12788477411089066, 0.5206737231657691, 0.11875014738868418, 0.09134626722206476, 0.12788477411089066, 0.052774045282154874, 0.026387022641077437, 0.26387022641077434, 0.10554809056430975, 0.5409339641420875, 0.013193511320538719, 0.8050701231804809, 0.9563641153359123, 0.9293429229167124, 0.0516301623842618, 0.9734573883181664, 0.8530390513218469, 0.8186593140478776, 0.12594758677659657, 0.951961365583584, 0.8986270684609718, 0.8216646880271515, 0.7505603316320172, 0.11151283826952244, 0.8819651754044048, 0.29613176714137074, 0.6662964760680842, 0.9434152998669029, 0.037736611994676116, 0.9231023160478644, 0.00848794081551966, 0.33102969180526676, 0.0424397040775983, 0.03395176326207864, 0.4328849815915027, 0.1442949938638342, 0.9177576250599895, 0.9894324566317887, 0.8411866577519607, 0.11174408883741624, 0.8269062573968802, 0.02234881776748325, 0.9170848952111755, 0.03987325631352937, 0.383469572016903, 0.5752043580253545, 0.9508315195827022, 0.9243824740532863, 0.9440624450448016, 0.8270165381019514, 0.14768152466106274, 0.960187394216308, 0.8828481706285967, 0.7987938813197224, 0.144306625719467, 0.7627635930886113, 0.08246092898255258, 0.8205930077185811, 0.028798123876288686, 0.08639437162886607, 0.3311784245773199, 0.18718780519587647, 0.15838968131958778, 0.043197185814433034, 0.14399061938144345, 0.8711243436245643, 0.9469874249642958, 0.8861638739176032, 0.9551704678011789, 0.979223808832487, 0.7884129070292644, 0.15078418444520392, 0.5887763392622247, 0.12206338740802221, 0.0071801992592954245, 0.02154059777788627, 0.04308119555577254, 0.02154059777788627, 0.010770298888943135, 0.0071801992592954245, 0.0071801992592954245, 0.02154059777788627, 0.9758055494619624, 0.9333722036179314, 0.09867204818401566, 0.1255826067796563, 0.05382111719128127, 0.0807316757869219, 0.5471813581113596, 0.017940372397093757, 0.035880744794187514, 0.035880744794187514, 0.3475842188761226, 0.13903368755044904, 0.023172281258408173, 0.06951684377522452, 0.39392878139293896, 0.008429523991359121, 0.05057714394815472, 0.9188181150581441, 0.008429523991359121, 0.16321593868003156, 0.0687225004968554, 0.3207050023186585, 0.1374450009937108, 0.03149781272772539, 0.03722468776913, 0.022907500165618464, 0.12885468843160386, 0.002863437520702308, 0.03149781272772539, 0.01431718760351154, 0.002863437520702308, 0.0343612502484277, 0.005726875041404616, 0.012198381343793637, 0.8864157109823376, 0.020330635572989395, 0.016264508458391516, 0.052859652489772424, 0.008132254229195758, 0.8679900584457201, 0.1931812125446472, 0.7727248501785888, 0.7855545684334684, 0.1745676818741041, 0.6856442660895908, 0.06315144556088337, 0.2165192419230287, 0.009021635080126196, 0.01804327016025239, 0.08836004110949579, 0.8394203905402099, 0.9862170906628488, 0.318459322519532, 0.5413808482832044, 0.0955377967558596, 0.7483322778194691, 0.1662960617376598, 0.9554986508373182, 0.03273025608850102, 0.06546051217700204, 0.16365128044250507, 0.5891446095930183, 0.03273025608850102, 0.06546051217700204, 0.8475913696462313, 0.057463821670930934, 0.028731910835465467, 0.057463821670930934, 0.7098179777174964, 0.7146563142919512, 0.9734729027488511, 0.2641196621030167, 0.2641196621030167, 0.15536450711942157, 0.08545047891568186, 0.17090095783136372, 0.031072901423884313, 0.007768225355971078, 0.015536450711942157, 0.6365456344016482, 0.059676153225154516, 0.059676153225154516, 0.019892051075051508, 0.039784102150103015, 0.10940628091278329, 0.049730127687628765, 0.029838076612577258, 0.09130468007057416, 0.5934804204587321, 0.29674021022936603, 0.1434502981069256, 0.7724246821142149, 0.07724246821142149, 0.8964082994214126, 0.8587030469983767, 0.10733788087479709, 0.8615759744930693, 0.9858905690174459, 0.8725038277601416, 0.09616898634663613, 0.09616898634663613, 0.48084493173318066, 0.04808449317331807, 0.2885069590399084, 0.852140742419188, 0.12455882961937169, 0.18683824442905753, 0.6227941480968584, 0.9323356789889353, 0.016648851410516703, 0.0499465542315501, 0.04413678806965253, 0.022068394034826265, 0.44136788069652527, 0.04413678806965253, 0.022068394034826265, 0.06620518210447879, 0.04413678806965253, 0.06620518210447879, 0.2427523343830889, 0.5227449348926051, 0.06534311686157564, 0.06534311686157564, 0.26137246744630255, 0.2773078925933426, 0.677863737450393, 0.8678486259389059, 0.05700999145196151, 0.5320932535516408, 0.24704329629183322, 0.17102997435588455, 0.9315413738025327, 0.024585980629425495, 0.10653924939417715, 0.2868364406766308, 0.07375794188827649, 0.024585980629425495, 0.008195326876475164, 0.04097663438237582, 0.09834392251770198, 0.12292990314712747, 0.18849251815892878, 0.01639065375295033, 0.9838200243796371, 0.9254871068177515, 0.95428799247525, 0.9352181930828831, 0.9127345332712486, 0.0690781643257011, 0.2763126573028044, 0.62170347893131, 0.11952353200110276, 0.7171411920066165, 0.17074790285871821, 0.9895055749209837, 0.9751604697677055, 0.009199627073280241, 0.009199627073280241, 0.9492174530732265, 0.8612147813903777, 0.9283302046421, 0.9012721093732967, 0.08193382812484516, 0.9356350598395174, 0.9148389905425939, 0.0590218703575867, 0.8126346138540198, 0.9751197955852007, 0.811598690667451, 0.9170907659755113, 0.9833852578746606, 0.7896715089527769, 0.8843651415521487, 0.055272821347009296, 0.8940076805519901, 0.7082631291382674, 0.023266678182247744, 0.11633339091123872, 0.72126702364968, 0.023266678182247744, 0.09306671272899097, 0.9377973518503594, 0.9283721877677682, 0.6739327542065151, 0.16848318855162878, 0.13784988154224173, 0.015316653504693526, 0.1370185499848654, 0.8306749592832465, 0.017127318748108175, 0.24959758445120764, 0.2949789634423363, 0.02269068949556433, 0.02269068949556433, 0.03970870661723758, 0.09076275798225732, 0.08509008560836624, 0.02269068949556433, 0.005672672373891082, 0.07941741323447515, 0.011345344747782165, 0.028363361869455414, 0.017018017121673248, 0.03970870661723758, 0.7617808092862325, 0.039778664211587475, 0.6436911117875064, 0.24952071187268504, 0.01084872660316022, 0.050627390814747694, 0.0036162422010534065, 0.9673305754101444, 0.9233255856738449, 0.8205929235433543, 0.05020125373834187, 0.4643615970796623, 0.47691191051424775, 0.10224764261461594, 0.1840457567063087, 0.3987658061970022, 0.1738209924448471, 0.05112382130730797, 0.07157334983023116, 0.5539506054446464, 0.4246954641742289, 0.04480249881023371, 0.8960499762046741, 0.9760332606651831, 0.7171392743507109, 0.9597552282714112, 0.9513959729828086, 0.1996161392810609, 0.04855527712242022, 0.12408570820174056, 0.18882607769830084, 0.1132956466189805, 0.005395030791380024, 0.03237018474828014, 0.02697515395690012, 0.010790061582760049, 0.221196262446581, 0.021580123165520097, 0.9798902384161593, 0.8241263430273872, 0.1621232150217811, 0.9827246274137864, 0.49851078623590855, 0.020771282759829524, 0.43619693795642, 0.8846465447527119, 0.03542442207313966, 0.46051748695081557, 0.01771221103656983, 0.4782296979873854, 0.9777597947585149, 0.01504245838090023, 0.9647485025294932, 0.01855285581787487, 0.009276427908937434, 0.3747404609125854, 0.5829296058640216, 0.9144094312365189, 0.0932790535636512, 0.12659300126495518, 0.039976737241564794, 0.5596743213819071, 0.10660463264417279, 0.0466395267818256, 0.026651158161043197, 0.9741947670732622, 0.8725570688527948, 0.9738437398131958, 0.9413855129467674, 0.032034323252926544, 0.25894411296115627, 0.13748063729380977, 0.11345489485411485, 0.2335836070525894, 0.16818019707786439, 0.04671672141051788, 0.0013347634688719394, 0.005339053875487758, 0.35585114397129436, 0.03330626470667287, 0.18756685913757878, 0.008764806501756019, 0.007011845201404815, 0.40142813778042563, 0.005258883901053611, 0.614773579136007, 0.005379251833879307, 0.457236405879741, 0.22054932518905157, 0.03227551100327584, 0.06455102200655168, 0.15061905134862058, 0.01613775550163792, 0.01613775550163792, 0.037654762837155145, 0.711596403558379, 0.9501487976074408, 0.9476158685706741, 0.8172584495883579, 0.24732670347168362, 0.07633540230607519, 0.10381614713626226, 0.07022857012158917, 0.2412198712871976, 0.1190832275974773, 0.05190807356813113, 0.018320496553458045, 0.01221366436897203, 0.021373912645701054, 0.02748074483018707, 0.0030534160922430077, 0.0030534160922430077, 0.20628434688815847, 0.7219952141085546, 0.7632166983540319, 0.8313006107368269, 0.4583880927578655, 0.030559206183857702, 0.030559206183857702, 0.09167761855157311, 0.12223682473543081, 0.21391444328700393, 0.4505550450735928, 0.06436500643908469, 0.3861900386345081, 0.12264983050546237, 0.061324915252731184, 0.1655772711823742, 0.11038484745491614, 0.08585488135382366, 0.030662457626365592, 0.030662457626365592, 0.13491481355600862, 0.012264983050546237, 0.0981198644043699, 0.030662457626365592, 0.03679494915163871, 0.012264983050546237, 0.030662457626365592, 0.012264983050546237, 0.024529966101092475, 0.022017905356762648, 0.4045790109305137, 0.005504476339190662, 0.24219695892438914, 0.1678865283453152, 0.06330147790069261, 0.011008952678381324, 0.019265667187167317, 0.04678804888312063, 0.016513429017571985, 0.9506004936895487, 0.8704923244716464, 0.13782160039153268, 0.8269296023491962, 0.7504819617722386, 0.26827149980472026, 0.6706787495118007, 0.15002350149706595, 0.7501175074853297, 0.08572771514118054, 0.8410572581374597, 0.053684505838561256, 0.053684505838561256, 0.053684505838561256, 0.9580607750550845, 0.20752156972514016, 0.04150431394502803, 0.7470776510105046, 0.0701374002227948, 0.5674753290753397, 0.22316445525434708, 0.0063761272929813454, 0.03825676375788807, 0.019128381878944035, 0.012752254585962691, 0.012752254585962691, 0.051009018343850764, 0.8616063863275973, 0.9393404553356565, 0.7993807095010214, 0.15987614190020427, 0.04796663882160408, 0.8633994987888735, 0.02398331941080204, 0.07194995823240612, 0.11990822772560636, 0.8693346510106461, 0.8681406457187236, 0.03100502306138299, 0.09301506918414897, 0.134993442637785, 0.40498032791335503, 0.05062254098916938, 0.3712319672539088, 0.03374836065944625, 0.1641842095421645, 0.8209210477108225, 0.10673747448399612, 0.7471623213879729, 0.6713322411049945, 0.013698308726470673, 0.1415491901735303, 0.8401629352235347, 0.032506190669713296, 0.016253095334856648, 0.9264264340868289, 0.016253095334856648, 0.9801907593657873, 0.9520454804092308, 0.9388368591917413, 0.9512401059073613, 0.01138837007515608, 0.47831154315655533, 0.45553480300624316, 0.04555348030062432, 0.31300670986838197, 0.07825167746709549, 0.06520973122257957, 0.013041946244515915, 0.5216778497806366, 0.8370291277468656, 0.09351649153509091, 0.49875462152048483, 0.12468865538012121, 0.28054947460527274, 0.9588645160830417, 0.925956758495421, 0.9751662793158937, 0.9426893069014828, 0.015052768096170302, 0.022579152144255453, 0.17310683310595848, 0.3161081300195763, 0.06021107238468121, 0.030105536192340604, 0.037631920240425755, 0.07526384048085151, 0.05268468833659606, 0.037631920240425755, 0.18815960120212877, 0.05834029819185707, 0.816764174685999, 0.05834029819185707, 0.9792444918231091, 0.9603346099937704, 0.9045455721220249, 0.13202796126226313, 0.09902097094669735, 0.09902097094669735, 0.024755242736674336, 0.008251747578891445, 0.024755242736674336, 0.09902097094669735, 0.01650349515778289, 0.29706291284009206, 0.08251747578891445, 0.06601398063113156, 0.024755242736674336, 0.008251747578891445, 0.008251747578891445, 0.8346968345830879, 0.039747468313480375, 0.11924240494044112, 0.27772325833868483, 0.29094817540243173, 0.27772325833868483, 0.13224917063746897, 0.30765148523429886, 0.6153029704685977, 0.9546883097657949, 0.24034944606513498, 0.7370716345997472, 0.9307907593534366, 0.9107140374538042, 0.3348791550592968, 0.10303974001824516, 0.1459729650258473, 0.3692257350653785, 0.02575993500456129, 0.00858664500152043, 0.00858664500152043, 0.13302149923818654, 0.0731618245810026, 0.13967257420009588, 0.039906449771455965, 0.09976612442863991, 0.013302149923818654, 0.02660429984763731, 0.43231987252410625, 0.02660429984763731, 0.8962869007864258, 0.07262156979130865, 0.8714588374957039, 0.1237005676895319, 0.8659039738267232, 0.06531286841593617, 0.4945117180063739, 0.13062573683187234, 0.25192106389003954, 0.018660819547410334, 0.009330409773705167, 0.009330409773705167, 0.1787328928299693, 0.8042980177348618, 0.20133447304746402, 0.050333618261866005, 0.7046706556661241, 0.8380511997602822, 0.9192806947135167, 0.9648820397752057, 0.13778779951417505, 0.8267267970850503, 0.038241060524416004, 0.3951576254189654, 0.038241060524416004, 0.5098808069922134, 0.012747020174805335, 0.8986187055607431, 0.1520313456921398, 0.760156728460699, 0.10124968550704948, 0.13017816708049218, 0.10124968550704948, 0.08678544472032813, 0.014464240786721354, 0.1591066486539349, 0.05785696314688542, 0.014464240786721354, 0.014464240786721354, 0.05785696314688542, 0.1880351302273776, 0.05785696314688542, 0.014464240786721354, 0.9618914069382191, 0.9321810849299467, 0.15549916054279733, 0.7774958027139867, 0.8438732087387327, 0.12907379399039717, 0.03441967839743925, 0.2968697261779135, 0.137678713589757, 0.23233282918271492, 0.012907379399039718, 0.03872213819711916, 0.02151229899839953, 0.017209839198719625, 0.03441967839743925, 0.004302459799679906, 0.04302459799679906, 0.07209933960585908, 0.865192075270309, 0.9624533841303633, 0.9492809420095716, 0.8980684647680768, 0.03741951936533654, 0.9254760988429489, 0.3406095298813582, 0.62445080478249, 0.8190679351751431, 0.9435624860543887, 0.22769822385573696, 0.7336942768684858, 0.08488007879873112, 0.8912408273866768, 0.03186081115617282, 0.1593040557808641, 0.4619817617645059, 0.3186081115617282, 0.01593040557808641, 0.875180482902186, 0.8205928026210914, 0.9463550746700331, 0.12609620608330982, 0.8070157189331828, 0.025219241216661963, 0.025219241216661963, 0.025219241216661963, 0.09838129360441544, 0.528799453123733, 0.04919064680220772, 0.17216726380772704, 0.03689298510165579, 0.11067895530496738, 0.09132236940537668, 0.7762401399457017, 0.09132236940537668, 0.9259411336534409, 0.9042180049050567, 0.14321951254499937, 0.11457561003599949, 0.17186341505399924, 0.12889756129049942, 0.07160975627249969, 0.11457561003599949, 0.014321951254499936, 0.04296585376349981, 0.1861853663084992, 0.6584027581454925, 0.0899974993148515, 0.01894684196102137, 0.02605190769640438, 0.011841776225638355, 0.11841776225638356, 0.04499874965742575, 0.0165784867158937, 0.007105065735383013, 0.004736710490255342, 0.002368355245127671, 0.42537451234486084, 0.05671660164598145, 0.510449414813833, 0.3954520283431196, 0.5437465389717895, 0.752136206946505, 0.7669182365928543, 0.03485991984512974, 0.13943967938051896, 0.12983362491980804, 0.8439185619787523, 0.12879207386461247, 0.8156831344758789, 0.3507213952053546, 0.10521641856160639, 0.008768034880133866, 0.16659266272254344, 0.3507213952053546, 0.021059534453077334, 0.8002623092169386, 0.10529767226538667, 0.04211906890615467, 0.9653553209008837, 0.8730623338274094, 0.9512401067151364, 0.28447452301378756, 0.01673379547139927, 0.05856828414989745, 0.4434455799920807, 0.1171365682997949, 0.03346759094279854, 0.01673379547139927, 0.008366897735699635, 0.01673379547139927, 0.19363173113407484, 0.04302927358534996, 0.3528400433998697, 0.12908782075604988, 0.11617903868044491, 0.09036147452923493, 0.008605854717069993, 0.017211709434139986, 0.01290878207560499, 0.004302927358534997, 0.008605854717069993, 0.004302927358534997, 0.02151463679267498, 0.9688429286637066, 0.8538378991763685, 0.9399211960700623, 0.9903809549409713, 0.2913065604241917, 0.12064211088274605, 0.10592965833606971, 0.07061977222404647, 0.27365161736818006, 0.011769962037341078, 0.011769962037341078, 0.05002233865869958, 0.038252376621358504, 0.023539924074682157, 0.02473785500042975, 0.7545045775131073, 0.197902840003438, 0.040531628128131256, 0.1418606984484594, 0.08106325625626251, 0.7295693063063625, 0.12370032696627314, 0.030925081741568286, 0.7422019617976389, 0.09277524522470486, 0.030925081741568286, 0.8717686369808687, 0.932428662843886, 0.8142958370734129, 0.10178697963417661, 0.15060079973501023, 0.36013234719241577, 0.3666802080504597, 0.11349625487276134, 0.0021826202860146414, 0.0021826202860146414, 0.0021826202860146414, 0.1359582201190468, 0.1359582201190468, 0.04531940670634893, 0.679791100595234, 0.8629966674826123, 0.03082130955295044, 0.09246392865885132, 0.09456871195054596, 0.18357455849223628, 0.37827484780218384, 0.09456871195054596, 0.1390716352213911, 0.055628654088556446, 0.005562865408855645, 0.0500657886797008, 0.8449689206807814, 0.9416552316226352, 0.041278148008608226, 0.7842848121635563, 0.14447351803012878, 0.020639074004304113, 0.08196945152184563, 0.2459083545655369, 0.04918167091310738, 0.3360747512395671, 0.11475723213058389, 0.04098472576092282, 0.02459083545655369, 0.008196945152184564, 0.04918167091310738, 0.04918167091310738, 0.9301346194028136, 0.051674145522378534, 0.8959632099464164, 0.16830107815481762, 0.7573548516966794, 0.9258404359381439, 0.19559232910801552, 0.1738598480960138, 0.27527809281868854, 0.079685763710673, 0.014488320674667817, 0.1883481687706816, 0.036220801686669545, 0.0072441603373339086, 0.021732481012001724, 0.021732481012001724, 0.055913411014978126, 0.5777719138214407, 0.24229144773157188, 0.055913411014978126, 0.055913411014978126, 0.018637803671659375, 0.959854916897531, 0.7669215871002201, 0.9754890633562266, 0.9102992657549596, 0.811932162542095, 0.05238272016400613, 0.11786112036901379, 0.016589817023829705, 0.07465417660723367, 0.04147454255957426, 0.8377857597034001, 0.024884725535744556, 0.4927929458774119, 0.4348173051859517, 0.028987820345730112, 0.028987820345730112, 0.8170779508167563, 0.030869742656359694, 0.6071049389084073, 0.2984075123448104, 0.030869742656359694, 0.020579828437573132, 0.010289914218786566, 0.9114782375669824, 0.9103763241150284, 0.8350365537182519, 0.9120101417942397, 0.02763667096346181, 0.05527334192692362, 0.6646789405123918, 0.2410133450788381, 0.3787352565524599, 0.034430477868405446, 0.27544382294724357, 0.034430477868405446, 0.8353857844637917, 0.11385131012627729, 0.17077696518941593, 0.08538848259470797, 0.31309110284726255, 0.19923979272098524, 0.08538848259470797, 0.9098808389857774, 0.951903655868271, 0.043268347994012316, 0.8979666559778713, 0.952476203374685, 0.10896604203007988, 0.8172453152255991, 0.05448302101503994, 0.1537361015148275, 0.6533784314380169, 0.038434025378706875, 0.11530207613612062, 0.7694700055060736, 0.8521408992872754, 0.03117098288270234, 0.9507149779224214, 0.9409644834145778, 0.9403246092353956, 0.04822177483258439, 0.8148138816310904, 0.05340648548938193, 0.3471421556809825, 0.16021945646814578, 0.05340648548938193, 0.08010972823407289, 0.08010972823407289, 0.026703242744690964, 0.2136259419575277, 0.8910625036731106, 0.06303367094973794, 0.44123569664816564, 0.2899548863687946, 0.13867407608942348, 0.025213468379895177, 0.012606734189947589, 0.025213468379895177, 0.34460764067043786, 0.6422233303403615, 0.2528663513995385, 0.2022930811196308, 0.505732702799077, 0.8029234716582739, 0.7390781066512434, 0.20156675635943003, 0.9274205690453324, 0.8994931190989482, 0.9205213707074132, 0.878641870279, 0.14658959430878638, 0.7329479715439319, 0.8319937027754022, 0.5743722631041245, 0.2376712812844653, 0.059417820321116324, 0.019805940107038775, 0.04951485026759694, 0.04951485026759694, 0.9581649556941954, 0.9376778276914739, 0.1801841620057562, 0.10010231222542011, 0.1801841620057562, 0.04004092489016804, 0.4604706362369325, 0.8692386892531555, 0.06686451455793503, 0.02228817151931168, 0.02228817151931168, 0.9083562140604619, 0.3625427211949574, 0.3021189343291312, 0.2618364097519137, 0.020141262288608745, 0.04028252457721749, 0.020141262288608745, 0.17743257415863442, 0.6875512248647083, 0.0665372153094879, 0.022179071769829303, 0.33224944402682033, 0.16612472201341016, 0.2907182635234678, 0.16612472201341016, 0.02076559025167627, 0.27003200686796636, 0.5979280152076398, 0.09644000245284512, 0.019288000490569026, 0.8324576853044466, 0.3376267802827943, 0.07919640525151965, 0.32512208471676485, 0.05835524597480395, 0.14588811493700987, 0.012504695566029417, 0.012504695566029417, 0.01667292742137256, 0.00416823185534314, 0.9606320934872669, 0.01746603806340485, 0.222869272816369, 0.4719584600817226, 0.05243982889796918, 0.05243982889796918, 0.15731948669390752, 0.013109957224492295, 0.013109957224492295, 0.8784037297862598, 0.5105731249765952, 0.13615283332709205, 0.19288318054671375, 0.10211462499531904, 0.05673034721962169, 0.918210113860593, 0.06558643670432808, 0.9547767736694134, 0.03536210272849679, 0.8911313882858174, 0.9601315359324608, 0.8670597345124833, 0.09633997050138703, 0.11989684708107125, 0.17318433467265845, 0.02664374379579361, 0.039965615693690414, 0.612806107303253, 0.02664374379579361, 0.010142763860365419, 0.436138845995713, 0.5477092484597326, 0.9650824057603166, 0.13061144611050493, 0.7836686766630295, 0.9828307044101583, 0.24728689279452493, 0.32971585705936657, 0.37093033919178736, 0.04121448213242082, 0.13443022729158974, 0.7393662501037436, 0.06721511364579487, 0.028279208899232782, 0.07541122373128742, 0.07541122373128742, 0.6032897898502994, 0.16024885042898576, 0.03770561186564371, 0.009426402966410927, 0.009426402966410927, 0.19914070072553516, 0.06638023357517839, 0.04425348905011892, 0.6638023357517838, 0.05003888068423067, 0.32525272444749936, 0.22517496307903803, 0.025019440342115336, 0.3502721647896147, 0.9390383140155796, 0.050758827784625926, 0.2677070943797625, 0.6692677359494061, 0.9311565210394656, 0.9342142911218151, 0.35123356066440153, 0.020660797686141267, 0.5991631328980968, 0.8205929867594852, 0.08248808913364462, 0.08248808913364462, 0.7836368467696239, 0.8272357466003171, 0.012165231567651721, 0.048660926270606884, 0.012165231567651721, 0.08515662097356205, 0.3047408336092316, 0.6602718061533351, 0.9418798656796793, 0.6264445798590427, 0.06960495331767141, 0.15661114496476067, 0.09570681081179819, 0.017401238329417854, 0.008700619164708927, 0.008700619164708927, 0.928040519301124, 0.07241302870748094, 0.11191104436610691, 0.3554821409276337, 0.026332010439083977, 0.3818141513667177, 0.03949801565862597, 0.4452284049131529, 0.04047530953755936, 0.4654660596819326, 0.02023765476877968, 0.02023765476877968, 0.8887027448812573, 0.17943597706808026, 0.07690113302917725, 0.307604532116709, 0.02563371100972575, 0.29478767661184613, 0.012816855504862876, 0.02563371100972575, 0.0512674220194515, 0.02563371100972575, 0.1750101772373485, 0.700040708949394, 0.3120158578389623, 0.1636984606267795, 0.36145499024302324, 0.02636753728216583, 0.04064995331000565, 0.07690531707298366, 0.0043945895470276376, 0.012085121254326004, 0.0010986473867569094, 0.0010986473867569094, 0.8733382000004434, 0.6606069528259388, 0.315942455699362, 0.8166723181948233, 0.8767748581168265, 0.040636717062615846, 0.12191015118784752, 0.8127343412523168, 0.005433709781204554, 0.5379372683392508, 0.16301129343613663, 0.010867419562409109, 0.2010472619045685, 0.010867419562409109, 0.016301129343613663, 0.010867419562409109, 0.021734839124818217, 0.016301129343613663, 0.8209576781458324, 0.20327027940374626, 0.3387837990062437, 0.20327027940374626, 0.008469594975156093, 0.042347974875780466, 0.09316554472671704, 0.04658277236335852, 0.025408784925468282, 0.008469594975156093, 0.004234797487578047, 0.016939189950312187, 0.004234797487578047, 0.343230863167797, 0.09117069802894609, 0.2806627370695007, 0.0017876607456656095, 0.012513625219659267, 0.19306736053188583, 0.028602571930649752, 0.0017876607456656095, 0.008938303728328047, 0.008938303728328047, 0.005362982236996828, 0.005362982236996828, 0.008938303728328047, 0.008938303728328047, 0.0017876607456656095, 0.9310752951053562, 0.9286974987004901, 0.20247607421251007, 0.16639122930334987, 0.30070704090966843, 0.018042422454580105, 0.07016497621225597, 0.05011784015161141, 0.032075417697031296, 0.06415083539406259, 0.04811312654554695, 0.03608484490916021, 0.004009427212128912, 0.002004713606064456, 0.09110676459194451, 0.8199608813275007, 0.810001913006188, 0.18000042511248623, 0.05080574500787773, 0.762086175118166, 0.17782010752757207, 0.9567761926883995, 0.03986567469534998, 0.9000268384015442, 0.01993118453129479, 0.41855487515719064, 0.5580731668762542, 0.103120625378786, 0.08838910746753086, 0.022097276866882714, 0.6334552701839711, 0.13994942015692385, 0.9085829613284662, 0.9534561041526611, 0.977701698098797, 0.9046764493944687, 0.05025980274413715, 0.928882448291314, 0.16555270737259845, 0.039417311279190105, 0.12613539609340835, 0.07095116030254218, 0.16555270737259845, 0.03153384902335209, 0.378406188280225, 0.015766924511676043, 0.18207163817073133, 0.04551790954268283, 0.7282865526829253, 0.8536971596021131, 0.9310254646260802, 0.867021787283494, 0.38160268410426484, 0.5724040261563973, 0.017345576550193857, 0.725377283707393, 0.8628271976039221, 0.06551364539850509, 0.41491975419053223, 0.19654093619551527, 0.01637841134962627, 0.10372993854763306, 0.06551364539850509, 0.06005417494862966, 0.01637841134962627, 0.01637841134962627, 0.02729735224937712, 0.01637841134962627, 0.98144135101196, 0.9829544319212533, 0.9190342482455919, 0.9457252143410607, 0.31060157754289575, 0.6729700846762741, 0.9506679504219715, 0.9573295073521331, 0.30119459716878383, 0.022310710901391397, 0.14501962085904407, 0.07808748815486988, 0.011155355450695698, 0.06693213270417418, 0.07808748815486988, 0.13386426540834837, 0.15617497630973975, 0.827698010971356, 0.05339987167557135, 0.040049903756678516, 0.05339987167557135, 0.013349967918892838, 0.013349967918892838, 0.7286941915534283, 0.18217354788835707, 0.9224222692372352, 0.9340536779319364, 0.025945935498109345, 0.9610960208425658, 0.9701499953564597, 0.26641888803245267, 0.22835904688495942, 0.4186582526224256, 0.03805984114749324, 0.01902992057374662, 0.8402706118653516, 0.049602976778192226, 0.9424565587856523, 0.8699102906493008, 0.34362109542310343, 0.01431754564262931, 0.4724790062067672, 0.04295263692788793, 0.02863509128525862, 0.01431754564262931, 0.05727018257051724, 0.01431754564262931, 0.9512401647444687, 0.9621943300448045, 0.37680194002112694, 0.025120129334741795, 0.45216232802535233, 0.10048051733896718, 0.025120129334741795, 0.04800935450683124, 0.5987048914969543, 0.005648159353744852, 0.005648159353744852, 0.17226886028921798, 0.11861134642864189, 0.008472239030617277, 0.008472239030617277, 0.008472239030617277, 0.02824079676872426, 0.23409790379962542, 0.23409790379962542, 0.4256325523629553, 0.021281627618147763, 0.03192244142722164, 0.010640813809073882, 0.010640813809073882, 0.021281627618147763, 0.010640813809073882, 0.962030443102839, 0.07220832666653479, 0.8664999199984175, 0.8954195464281131, 0.0639585390305795, 0.9132688918445362, 0.9218950286113939, 0.07589238654534107, 0.48381396422654926, 0.07589238654534107, 0.35100228777220244, 0.22936558042521296, 0.07645519347507099, 0.6880967412756389, 0.8460823771504657, 0.9005504984646265, 0.21642992295469637, 0.7575047303414373, 0.9164528709048987, 0.9322275536193813, 0.09466436699916313, 0.8519793029924682, 0.8882385373024786, 0.9697681951702285, 0.8620729424625574, 0.7984742273002252, 0.8447459367104596, 0.1292978474556826, 0.01723971299409101, 0.2411908707427414, 0.45826265441120867, 0.2894290448912897, 0.12464890161782835, 0.7478934097069702, 0.9534661242543828, 0.11570188806382034, 0.8099132164467424, 0.05423686367989178, 0.42137871012838995, 0.16688265747659006, 0.020860332184573758, 0.05840893011680653, 0.05423686367989178, 0.020860332184573758, 0.10847372735978356, 0.008344132873829504, 0.04589273080606227, 0.029204465058403264, 0.008344132873829504, 0.22664116936794812, 0.7554705645598271, 0.07525435635067698, 0.6622383358859574, 0.09030522762081238, 0.13545784143121856, 0.03010174254027079, 0.7146563732911828, 0.039132537463269536, 0.6182940919196587, 0.015653014985307814, 0.15653014985307814, 0.11739761238980861, 0.007826507492653907, 0.03130602997061563, 0.007826507492653907, 0.1976575022664554, 0.776511616046789, 0.014118393019032527, 0.8778179519220503, 0.09753532799133892, 0.8582685442694484, 0.2072663494993424, 0.29817264313940484, 0.1636313285521124, 0.029090013964819982, 0.05454377618403747, 0.10181504887686994, 0.01818125872801249, 0.03636251745602498, 0.0072725034912049956, 0.03636251745602498, 0.010908755236807493, 0.0072725034912049956, 0.029090013964819982, 0.9336427033443128, 0.0345793593831227, 0.7352424308099663, 0.5232444102387651, 0.047567673658069555, 0.38054138926455644, 0.06112992826836261, 0.030564964134181305, 0.5297927116591427, 0.010188321378060436, 0.07131824964642304, 0.06112992826836261, 0.07131824964642304, 0.010188321378060436, 0.010188321378060436, 0.02037664275612087, 0.02037664275612087, 0.030564964134181305, 0.07131824964642304, 0.5060077055531516, 0.06668318600312849, 0.16278542465469603, 0.039225403531252055, 0.06472191582656589, 0.12552129130000658, 0.003922540353125206, 0.007845080706250411, 0.005883810529687808, 0.009806350882813014, 0.003922540353125206, 0.003922540353125206, 0.09380948981237941, 0.8442854083114146, 0.15617873249151237, 0.022311247498787483, 0.08924498999514993, 0.08924498999514993, 0.6247149299660495, 0.9542683279691171, 0.7052056345182885, 0.8205928111996256, 0.877704126209498, 0.41063018975345156, 0.10395701006416494, 0.05544373870088797, 0.0017326168344027491, 0.06410682287290172, 0.031187103019249485, 0.0017326168344027491, 0.05717635553529072, 0.11088747740177594, 0.15420289826184466, 0.0017326168344027491, 0.005197850503208247, 0.9470664541452231, 0.22165707333428394, 0.308392449856395, 0.07709811246409876, 0.04818632029006173, 0.009637264058012344, 0.2987551857983827, 0.028911792174037037, 0.11867161048134701, 0.33906174423242, 0.5255457035602511, 0.24741959900092222, 0.10187865841214445, 0.014554094058877778, 0.6258260445317445, 0.9504215867847329, 0.0344244699713098, 0.9612371230450353, 0.005296072303278432, 0.9017397447243991, 0.8331668082310427, 0.05197409709898295, 0.710312660352767, 0.10741313400456476, 0.006929879613197727, 0.0034649398065988634, 0.04504421748578522, 0.04157927767918636, 0.01039481941979659, 0.017324699032994318, 0.9538169156400592, 0.9276085647294888, 0.05908408346927575, 0.2560310283668616, 0.1181681669385515, 0.039389388979517166, 0.05908408346927575, 0.13786286142831009, 0.19694694489758582, 0.1181681669385515, 0.970911697239722, 0.9452964488376154, 0.9642549707015141, 0.1797616874191278, 0.05136048211975079, 0.7447269907363865, 0.4616485402033298, 0.2665318919958451, 0.11987558778760497, 0.058662521683296054, 0.049735616209751, 0.010202177684051487, 0.015303266526077232, 0.014027994315570795, 0.0025505444210128718, 0.0012752722105064359, 0.27644655613033586, 0.16126049107602924, 0.011518606505430662, 0.4953000797335184, 0.046074426021722646, 0.9261320634965428, 0.3023616856254356, 0.6911124242867099, 0.911715671502852, 0.9534551025741489, 0.9021878574545754, 0.7175697775176701, 0.22079070077466773, 0.05519767519366693, 0.9138319501377492], \"Term\": [\"2\", \"2\", \"2\", \"2\", \"2\", \"2\", \"2\", \"2\", \"2\", \"2\", \"2\", \"aaa\", \"aaa\", \"aaa\", \"abc\", \"abc\", \"abc\", \"accident\", \"acquire\", \"acquire\", \"activate\", \"actually\", \"actually\", \"actually\", \"actually\", \"actually\", \"actually\", \"actually\", \"actually\", \"actually\", \"actually\", \"actually\", \"adams\", \"adams\", \"adams\", \"adcom\", \"addition\", \"addition\", \"addition\", \"adirondack\", \"adirondack\", \"adjust\", \"admit\", \"advice\", \"advice\", \"advice\", \"afc\", \"affiliate\", \"agree\", \"agree\", \"agree\", \"agree\", \"ahl\", \"ahl\", \"aid\", \"air\", \"air\", \"air\", \"air\", \"air\", \"alex\", \"allow\", \"allow\", \"allow\", \"allow\", \"allow\", \"allow\", \"allow\", \"allow\", \"alomar\", \"alomar\", \"aluminum\", \"amateur\", \"amp\", \"amp\", \"ampere\", \"analog\", \"analog\", \"analog\", \"analog\", \"analysis\", \"analysis\", \"anderson\", \"anderson\", \"anderson\", \"anderson\", \"andreychuck\", \"angel\", \"angeles\", \"angeles\", \"angeles\", \"angeles\", \"announce\", \"announce\", \"announce\", \"announce\", \"announcer\", \"announcer\", \"application\", \"application\", \"application\", \"application\", \"appoint\", \"appreciate\", \"appreciate\", \"appreciate\", \"appreciate\", \"appreciate\", \"appreciate\", \"april\", \"april\", \"april\", \"april\", \"april\", \"april\", \"april\", \"april\", \"arena\", \"arena\", \"arena\", \"arena\", \"article\", \"article\", \"article\", \"article\", \"article\", \"article\", \"aspect\", \"ass\", \"asshole\", \"astros\", \"athlete\", \"atl\", \"atlanta\", \"atlanta\", \"atlanta\", \"atlanta\", \"attend\", \"attend\", \"attendance\", \"attendance\", \"attendance\", \"audio\", \"audio\", \"audio\", \"aug\", \"austria\", \"availability\", \"avenue\", \"average\", \"average\", \"average\", \"average\", \"away\", \"away\", \"away\", \"away\", \"away\", \"awesome\", \"axis\", \"babe\", \"backup\", \"backup\", \"bad\", \"bad\", \"bad\", \"bad\", \"bad\", \"bad\", \"baerga\", \"baerga\", \"bag\", \"ball\", \"ball\", \"ball\", \"ball\", \"ballard\", \"ballgame\", \"baltimore\", \"baltimore\", \"baltimore\", \"barber\", \"barnes\", \"barnes\", \"barrasso\", \"base\", \"base\", \"base\", \"base\", \"base\", \"base\", \"base\", \"baseball\", \"baseball\", \"baseball\", \"baseball\", \"baseball\", \"baseball\", \"baseman\", \"basemen\", \"baserunning\", \"basingstoke\", \"basis\", \"basis\", \"basis\", \"bassen\", \"bat\", \"bat\", \"bathroom\", \"bathroom\", \"beam\", \"beastmaster\", \"bee\", \"bee\", \"bel\", \"ben\", \"benefit\", \"berkeley\", \"berkeley\", \"berman\", \"berryhill\", \"billingham\", \"binary\", \"binghamton\", \"binghamton\", \"bird\", \"blauser\", \"bleacher\", \"blinker\", \"blue\", \"blue\", \"blue\", \"blue\", \"blue\", \"blue\", \"bob\", \"bob\", \"bob\", \"bob\", \"bob\", \"bob\", \"bob\", \"boiler\", \"bond\", \"bond\", \"bonilla\", \"bos\", \"bos\", \"bos\", \"boston\", \"boston\", \"boston\", \"boston\", \"boston\", \"boston\", \"box\", \"box\", \"box\", \"box\", \"box\", \"bracknell\", \"brand\", \"brand\", \"brand\", \"brand\", \"brave\", \"brave\", \"brave\", \"brave\", \"breaker\", \"breaker\", \"breaker\", \"breton\", \"brewer\", \"brightness\", \"brightness\", \"brind\", \"brind\", \"british\", \"british\", \"british\", \"british\", \"broad\", \"brown\", \"brown\", \"brown\", \"bubblejets\", \"buf\", \"buf\", \"buf\", \"buffalo\", \"buffalo\", \"buffalo\", \"buffalo\", \"buffalo\", \"buffalo\", \"buffalo\", \"build\", \"build\", \"build\", \"build\", \"build\", \"build\", \"build\", \"bulb\", \"bulb\", \"bullpen\", \"bullpen\", \"bunning\", \"bunt\", \"burt\", \"bus\", \"bus\", \"butsayev\", \"button\", \"buy\", \"buy\", \"buy\", \"buy\", \"buy\", \"buyer\", \"cable\", \"cable\", \"cal\", \"cal\", \"cal\", \"cal\", \"cal\", \"calgary\", \"calgary\", \"calgary\", \"california\", \"california\", \"california\", \"california\", \"caltrans\", \"canada\", \"canada\", \"canada\", \"canada\", \"canada\", \"canadian\", \"canadian\", \"canadian\", \"canadian\", \"canadian\", \"canadian\", \"canadians\", \"canadians\", \"canadians\", \"canseco\", \"canseco\", \"capability\", \"capacitor\", \"capacity\", \"cape\", \"captain\", \"captain\", \"captaincy\", \"cardiff\", \"cardinal\", \"cardinal\", \"cardinal\", \"career\", \"career\", \"career\", \"career\", \"career\", \"carkner\", \"carrier\", \"carson\", \"case\", \"case\", \"case\", \"case\", \"case\", \"case\", \"case\", \"cassels\", \"catalog\", \"catalog\", \"catalog\", \"catalog\", \"catbyte\", \"catch\", \"catch\", \"catch\", \"catch\", \"catch\", \"catch\", \"catcher\", \"catcher\", \"cbc\", \"cbc\", \"cci\", \"cdi\", \"cec\", \"cent\", \"cgy\", \"champ\", \"champ\", \"championship\", \"championship\", \"championship\", \"chance\", \"chance\", \"chance\", \"chance\", \"chance\", \"chance\", \"chance\", \"change\", \"change\", \"change\", \"change\", \"change\", \"change\", \"change\", \"change\", \"change\", \"change\", \"change\", \"charles\", \"cheap\", \"cheap\", \"cheap\", \"cheap\", \"cheap\", \"cheap\", \"cheap\", \"cheap\", \"cheap\", \"chelios\", \"chi\", \"chi\", \"chi\", \"chicago\", \"chicago\", \"chicago\", \"chicago\", \"chicago\", \"chip\", \"chip\", \"chip\", \"chop\", \"chop\", \"cincinnati\", \"cincinnati\", \"circa\", \"circuit\", \"circuit\", \"circuit\", \"circuit\", \"city\", \"city\", \"city\", \"city\", \"city\", \"claim\", \"claim\", \"claim\", \"claim\", \"claim\", \"claim\", \"claim\", \"claim\", \"clarke\", \"classy\", \"clemens\", \"clemens\", \"clement\", \"cleveland\", \"cleveland\", \"cleveland\", \"cleveland\", \"clipper\", \"club\", \"club\", \"club\", \"club\", \"club\", \"club\", \"club\", \"clue\", \"clutch\", \"clutch\", \"cmos\", \"cmos\", \"coal\", \"code\", \"code\", \"code\", \"code\", \"code\", \"coin\", \"col\", \"col\", \"coleman\", \"college\", \"college\", \"colorado\", \"colorado\", \"colorado\", \"columbia\", \"com\", \"com\", \"com\", \"com\", \"com\", \"com\", \"com\", \"com\", \"come\", \"come\", \"come\", \"come\", \"come\", \"come\", \"come\", \"come\", \"come\", \"commentator\", \"company\", \"company\", \"company\", \"company\", \"compatible\", \"complain\", \"complain\", \"computer\", \"computer\", \"computer\", \"computer\", \"conclusive\", \"condenser\", \"conductor\", \"conference\", \"conference\", \"conference\", \"conference\", \"conference\", \"connect\", \"connect\", \"connection\", \"connection\", \"conroy\", \"consistently\", \"constant\", \"construct\", \"contact\", \"contact\", \"contact\", \"contact\", \"contact\", \"continent\", \"continuous\", \"continuous\", \"controller\", \"cookie\", \"cool\", \"cool\", \"cool\", \"cooper\", \"copper\", \"copy\", \"copy\", \"copy\", \"copy\", \"copyright\", \"cordially\", \"corp\", \"corp\", \"corp\", \"cost\", \"cost\", \"cost\", \"cost\", \"cost\", \"cost\", \"cost\", \"cost\", \"coverage\", \"coverage\", \"cox\", \"cox\", \"cpu\", \"crack\", \"crap\", \"crystal\", \"crystal\", \"cub\", \"cub\", \"cub\", \"cunneyworth\", \"cup\", \"cup\", \"cup\", \"cup\", \"cup\", \"cup\", \"cup\", \"cup\", \"cup\", \"cup\", \"curious\", \"current\", \"current\", \"current\", \"current\", \"current\", \"current\", \"current\", \"current\", \"curtis\", \"czech\", \"czech\", \"dahlen\", \"dahlquist\", \"dallas\", \"dallas\", \"darryl\", \"darryl\", \"darryl\", \"datum\", \"datum\", \"datum\", \"daulton\", \"dave\", \"dave\", \"dave\", \"dave\", \"dave\", \"dave\", \"dave\", \"davis\", \"day\", \"day\", \"day\", \"day\", \"day\", \"day\", \"day\", \"day\", \"day\", \"dear\", \"decibel\", \"decibell\", \"decline\", \"decoder\", \"defense\", \"defense\", \"defense\", \"defense\", \"defensive\", \"defensive\", \"defensive\", \"defensive\", \"defensive\", \"degree\", \"deliver\", \"deserve\", \"deserve\", \"design\", \"design\", \"design\", \"design\", \"design\", \"designate\", \"det\", \"det\", \"det\", \"detector\", \"detector\", \"detroit\", \"detroit\", \"detroit\", \"detroit\", \"detroit\", \"device\", \"device\", \"device\", \"dial\", \"didn\", \"didn\", \"didn\", \"didn\", \"didn\", \"didn\", \"didn\", \"didn\", \"diego\", \"diego\", \"differential\", \"digital\", \"digital\", \"diode\", \"disagree\", \"disagree\", \"disagree\", \"discount\", \"dispersal\", \"distance\", \"distance\", \"distance\", \"ditto\", \"division\", \"division\", \"division\", \"division\", \"division\", \"division\", \"division\", \"division\", \"division\", \"division\", \"divisional\", \"divisional\", \"divisional\", \"dodger\", \"dodger\", \"dodger\", \"doesn\", \"doesn\", \"doesn\", \"doesn\", \"doesn\", \"doesn\", \"doesn\", \"doesn\", \"doesn\", \"doesn\", \"dog\", \"dog\", \"domi\", \"don\", \"don\", \"don\", \"don\", \"don\", \"don\", \"don\", \"don\", \"don\", \"don\", \"don\", \"don\", \"don\", \"don\", \"don\", \"donnelly\", \"dps\", \"draft\", \"draft\", \"draft\", \"drive\", \"drive\", \"drive\", \"drive\", \"drive\", \"drive\", \"drive\", \"drive\", \"driver\", \"driver\", \"dsp\", \"dsp\", \"dtmedin\", \"dykstra\", \"eagle\", \"earth\", \"east\", \"east\", \"east\", \"east\", \"east\", \"east\", \"echl\", \"eddie\", \"edge\", \"edge\", \"edm\", \"edm\", \"edm\", \"edu\", \"edu\", \"edu\", \"edu\", \"edu\", \"edu\", \"edu\", \"edu\", \"edu\", \"edu\", \"edu\", \"edu\", \"edu\", \"effectively\", \"electrical\", \"electrical\", \"electrical\", \"electrician\", \"electron\", \"electronic\", \"electronic\", \"electronic\", \"electronic\", \"eligible\", \"eligible\", \"eliminate\", \"elitserien\", \"emergency\", \"enable\", \"end\", \"end\", \"end\", \"end\", \"end\", \"end\", \"end\", \"end\", \"end\", \"end\", \"end\", \"equalizer\", \"equipment\", \"equipment\", \"era\", \"era\", \"eric\", \"eric\", \"eric\", \"eric\", \"error\", \"error\", \"error\", \"error\", \"error\", \"espn\", \"espn\", \"espn\", \"essensa\", \"establish\", \"etc\", \"etc\", \"etc\", \"etc\", \"etc\", \"etc\", \"etc\", \"etc\", \"etc\", \"etc\", \"etc\", \"etc\", \"etc\", \"euro\", \"european\", \"european\", \"european\", \"exact\", \"exact\", \"exact\", \"exact\", \"exact\", \"exact\", \"exchange\", \"expansion\", \"expansion\", \"expansion\", \"expansion\", \"experiment\", \"experiment\", \"explosion\", \"expos\", \"expos\", \"expos\", \"expos\", \"expos\", \"expose\", \"expose\", \"eye\", \"eye\", \"fact\", \"fact\", \"fact\", \"fact\", \"fact\", \"fact\", \"fact\", \"falter\", \"family\", \"family\", \"fan\", \"fan\", \"fan\", \"fan\", \"fan\", \"fan\", \"fan\", \"fanatic\", \"faq\", \"faq\", \"faq\", \"favor\", \"fence\", \"fiasco\", \"field\", \"field\", \"field\", \"field\", \"field\", \"fielder\", \"film\", \"filter\", \"final\", \"final\", \"final\", \"final\", \"final\", \"final\", \"final\", \"final\", \"find\", \"find\", \"find\", \"find\", \"find\", \"find\", \"find\", \"find\", \"find\", \"finland\", \"finland\", \"finland\", \"finnish\", \"finnish\", \"finns\", \"fish\", \"fish\", \"fish\", \"fixture\", \"flame\", \"flame\", \"flame\", \"flame\", \"flame\", \"flame\", \"flame\", \"flame\", \"flashlight\", \"flashlight\", \"flexible\", \"fluke\", \"fluke\", \"fluorescent\", \"fluorescent\", \"fly\", \"fly\", \"fly\", \"fly\", \"flyback\", \"flyer\", \"flyer\", \"flyer\", \"flyer\", \"football\", \"football\", \"fort\", \"forum\", \"forward\", \"forward\", \"forward\", \"forward\", \"forward\", \"forward\", \"fossil\", \"foul\", \"foul\", \"fpu\", \"france\", \"france\", \"franchise\", \"franchise\", \"franchise\", \"francisco\", \"fredericton\", \"fredericton\", \"french\", \"french\", \"fry\", \"ftp\", \"ftp\", \"fuel\", \"fuel\", \"fuse\", \"gain\", \"gainey\", \"game\", \"game\", \"game\", \"game\", \"game\", \"game\", \"game\", \"game\", \"game\", \"game\", \"game\", \"garage\", \"generator\", \"generator\", \"geoff\", \"gerald\", \"gerald\", \"gerald\", \"german\", \"german\", \"germany\", \"germany\", \"gerry\", \"get\", \"get\", \"get\", \"get\", \"get\", \"get\", \"get\", \"get\", \"get\", \"get\", \"get\", \"gfci\", \"gilkey\", \"gill\", \"gilmour\", \"gilmour\", \"gilmour\", \"gilmour\", \"give\", \"give\", \"give\", \"give\", \"give\", \"give\", \"give\", \"give\", \"give\", \"give\", \"glass\", \"go\", \"go\", \"go\", \"go\", \"go\", \"go\", \"go\", \"go\", \"go\", \"go\", \"go\", \"go\", \"go\", \"goal\", \"goal\", \"goal\", \"goal\", \"goal\", \"goal\", \"goalie\", \"goalie\", \"goalie\", \"good\", \"good\", \"good\", \"good\", \"good\", \"good\", \"good\", \"good\", \"good\", \"good\", \"good\", \"good\", \"gps\", \"grade\", \"grade\", \"great\", \"great\", \"great\", \"great\", \"great\", \"great\", \"great\", \"great\", \"great\", \"great\", \"greatly\", \"grind\", \"grind\", \"ground\", \"guerin\", \"guide\", \"guitar\", \"guy\", \"guy\", \"guy\", \"guy\", \"guy\", \"guy\", \"guy\", \"gwynn\", \"halifax\", \"halifax\", \"hank\", \"har\", \"har\", \"har\", \"hard\", \"hard\", \"hard\", \"hard\", \"hard\", \"hard\", \"hard\", \"hard\", \"hartford\", \"hartford\", \"hartford\", \"hartford\", \"hartford\", \"hawk\", \"hawk\", \"hawk\", \"hayes\", \"hear\", \"hear\", \"hear\", \"hear\", \"hear\", \"hear\", \"hear\", \"hear\", \"hear\", \"heat\", \"heat\", \"heat\", \"heat\", \"heat\", \"heat\", \"help\", \"help\", \"help\", \"help\", \"help\", \"help\", \"help\", \"helsinki\", \"henderson\", \"hewlett\", \"hfd\", \"high\", \"high\", \"high\", \"high\", \"high\", \"high\", \"high\", \"high\", \"high\", \"high\", \"high\", \"high\", \"highway\", \"hit\", \"hit\", \"hit\", \"hitter\", \"hitter\", \"hockey\", \"hockey\", \"hockey\", \"hockey\", \"hockey\", \"horrible\", \"hot\", \"hot\", \"hot\", \"hot\", \"hot\", \"hot\", \"hour\", \"hour\", \"hour\", \"house\", \"house\", \"houston\", \"houston\", \"houston\", \"hr\", \"hrivnak\", \"huntsville\", \"huntsville\", \"ice\", \"ice\", \"ice\", \"ice\", \"ice\", \"ice\", \"ice\", \"ice\", \"idacom\", \"idacom\", \"idle\", \"ihl\", \"imho\", \"imho\", \"imo\", \"imo\", \"imo\", \"impact\", \"impedance\", \"impedance\", \"inch\", \"indians\", \"indians\", \"indians\", \"individual\", \"individual\", \"individual\", \"individual\", \"individual\", \"individual\", \"induce\", \"information\", \"information\", \"information\", \"information\", \"information\", \"information\", \"information\", \"information\", \"information\", \"ingr\", \"injury\", \"injury\", \"injury\", \"injury\", \"inner\", \"inning\", \"input\", \"install\", \"instant\", \"institute\", \"insulate\", \"insulation\", \"intel\", \"intensity\", \"interface\", \"interface\", \"interfere\", \"intergraph\", \"internet\", \"internet\", \"internet\", \"internet\", \"internet\", \"invent\", \"italy\", \"ivy\", \"james\", \"james\", \"james\", \"james\", \"janney\", \"jewish\", \"john\", \"john\", \"john\", \"john\", \"john\", \"john\", \"john\", \"john\", \"john\", \"john\", \"john\", \"johnh\", \"jokerit\", \"jtcent\", \"jtchern\", \"judge\", \"judge\", \"judge\", \"july\", \"july\", \"jumper\", \"junction\", \"juneau\", \"juneau\", \"justice\", \"justice\", \"kariya\", \"kariya\", \"keenan\", \"keenan\", \"keenan\", \"keith\", \"keith\", \"keith\", \"keith\", \"keith\", \"keller\", \"kent\", \"kent\", \"keyboard\", \"keyword\", \"khz\", \"khz\", \"khz\", \"kid\", \"kid\", \"kid\", \"kill\", \"kill\", \"kill\", \"kill\", \"king\", \"king\", \"king\", \"king\", \"king\", \"king\", \"king\", \"king\", \"king\", \"kingman\", \"kingston\", \"kingston\", \"kit\", \"kit\", \"kitchen\", \"kjell\", \"kkeller\", \"knob\", \"know\", \"know\", \"know\", \"know\", \"know\", \"know\", \"know\", \"know\", \"know\", \"know\", \"know\", \"know\", \"know\", \"know\", \"know\", \"knx\", \"koufax\", \"kovalev\", \"kovalev\", \"kron\", \"lady\", \"lamp\", \"lamp\", \"lamp\", \"lamp\", \"lankford\", \"lankford\", \"larkin\", \"larkin\", \"laser\", \"latch\", \"laugh\", \"laugh\", \"lavalliere\", \"law\", \"law\", \"law\", \"law\", \"law\", \"law\", \"lead\", \"lead\", \"lead\", \"lead\", \"lead\", \"lead\", \"lead\", \"lead\", \"lead\", \"lead\", \"lead\", \"leaf\", \"leaf\", \"leaf\", \"leaf\", \"leaf\", \"leaf\", \"league\", \"league\", \"league\", \"league\", \"league\", \"league\", \"league\", \"leap\", \"lee\", \"leius\", \"lemieux\", \"lemieux\", \"lemieux\", \"lemieux\", \"lemieux\", \"lemieux\", \"length\", \"length\", \"let\", \"let\", \"let\", \"let\", \"let\", \"let\", \"let\", \"let\", \"let\", \"let\", \"liability\", \"life\", \"life\", \"life\", \"life\", \"life\", \"light\", \"light\", \"light\", \"light\", \"light\", \"light\", \"like\", \"like\", \"like\", \"like\", \"like\", \"like\", \"like\", \"like\", \"like\", \"like\", \"like\", \"like\", \"like\", \"lindros\", \"lindros\", \"lindros\", \"line\", \"line\", \"line\", \"line\", \"line\", \"line\", \"line\", \"line\", \"line\", \"line\", \"line\", \"list\", \"list\", \"list\", \"list\", \"list\", \"list\", \"list\", \"list\", \"list\", \"list\", \"list\", \"little\", \"little\", \"little\", \"little\", \"little\", \"little\", \"little\", \"little\", \"location\", \"location\", \"lock\", \"lock\", \"lock\", \"log\", \"logic\", \"logic\", \"logical\", \"logo\", \"logo\", \"look\", \"look\", \"look\", \"look\", \"look\", \"look\", \"look\", \"look\", \"look\", \"look\", \"look\", \"look\", \"loop\", \"lopez\", \"los\", \"los\", \"los\", \"los\", \"los\", \"lose\", \"lose\", \"lose\", \"lose\", \"lose\", \"lose\", \"lose\", \"lose\", \"lose\", \"lose\", \"lot\", \"lot\", \"lot\", \"lot\", \"lot\", \"lot\", \"lot\", \"lot\", \"louis\", \"louis\", \"louis\", \"louis\", \"low\", \"low\", \"low\", \"low\", \"low\", \"low\", \"low\", \"low\", \"lssu\", \"lupica\", \"lupica\", \"macinnis\", \"macquarie\", \"mad\", \"mad\", \"magazine\", \"magazine\", \"mail\", \"mail\", \"mail\", \"mail\", \"mail\", \"mail\", \"mail\", \"mail\", \"main\", \"main\", \"main\", \"maine\", \"maine\", \"maj\", \"major\", \"major\", \"major\", \"major\", \"major\", \"maldonado\", \"manual\", \"manual\", \"manufacturer\", \"mariner\", \"mariner\", \"mariner\", \"mark\", \"mark\", \"mark\", \"mark\", \"mark\", \"mark\", \"mark\", \"mark\", \"mark\", \"markus\", \"marlin\", \"marlin\", \"marlin\", \"mask\", \"mask\", \"mask\", \"mask\", \"massive\", \"material\", \"material\", \"material\", \"matter\", \"max\", \"max\", \"max\", \"mceachern\", \"mclean\", \"mcsorley\", \"measurement\", \"mechanical\", \"medin\", \"mediocre\", \"mediot\", \"mel\", \"merely\", \"metal\", \"metal\", \"meter\", \"meter\", \"meter\", \"method\", \"method\", \"method\", \"method\", \"method\", \"method\", \"method\", \"mets\", \"mets\", \"mets\", \"mhz\", \"microprocessor\", \"mikael\", \"mile\", \"mile\", \"mile\", \"mile\", \"millen\", \"milwaukee\", \"milwaukee\", \"min\", \"min\", \"min\", \"min\", \"min\", \"mini\", \"mini\", \"minnesota\", \"minnesota\", \"minnesota\", \"minnesota\", \"minnesota\", \"minute\", \"minute\", \"minute\", \"minute\", \"minute\", \"minute\", \"miracle\", \"misconduct\", \"mit\", \"mit\", \"mitchell\", \"mjm\", \"mlb\", \"mlb\", \"mle\", \"modem\", \"modification\", \"molitor\", \"mon\", \"mon\", \"moncton\", \"moncton\", \"monitor\", \"monitor\", \"montana\", \"montreal\", \"montreal\", \"montreal\", \"montreal\", \"montreal\", \"montreal\", \"morning\", \"morris\", \"motherboard\", \"motor\", \"motor\", \"motor\", \"motorola\", \"motorola\", \"mount\", \"mount\", \"movement\", \"mpce\", \"mph\", \"mtl\", \"mtl\", \"mullen\", \"multi\", \"multiple\", \"murphy\", \"murphy\", \"murphy\", \"murrayfield\", \"name\", \"name\", \"name\", \"name\", \"name\", \"name\", \"name\", \"nanaimo\", \"naslund\", \"nationwide\", \"ncaa\", \"nec\", \"neck\", \"need\", \"need\", \"need\", \"need\", \"need\", \"need\", \"need\", \"need\", \"need\", \"need\", \"need\", \"neely\", \"neon\", \"net\", \"net\", \"net\", \"net\", \"net\", \"net\", \"net\", \"net\", \"network\", \"network\", \"network\", \"network\", \"network\", \"neutral\", \"neutral\", \"neutral\", \"neutral\", \"new\", \"new\", \"new\", \"new\", \"new\", \"new\", \"new\", \"new\", \"new\", \"new\", \"new\", \"new\", \"new\", \"new\", \"nhl\", \"nhl\", \"nhl\", \"nhl\", \"nhl\", \"nhl\", \"nicely\", \"nick\", \"nick\", \"niedermayer\", \"niedermayer\", \"night\", \"night\", \"night\", \"night\", \"night\", \"nilsson\", \"nilsson\", \"njd\", \"noise\", \"noise\", \"noise\", \"nonsense\", \"nonsense\", \"noonan\", \"norris\", \"norris\", \"norris\", \"norris\", \"norris\", \"norris\", \"north\", \"north\", \"north\", \"north\", \"notably\", \"nottingham\", \"nuclear\", \"numb\", \"numb\", \"numb\", \"numb\", \"numb\", \"numb\", \"numb\", \"numb\", \"number\", \"number\", \"number\", \"number\", \"number\", \"number\", \"number\", \"number\", \"nyi\", \"nyi\", \"nyi\", \"nyr\", \"nyr\", \"nyr\", \"nyy\", \"oba\", \"oba\", \"objective\", \"obp\", \"obsolete\", \"obvious\", \"obvious\", \"obvious\", \"obvious\", \"obvious\", \"ocf\", \"octopus\", \"octopus\", \"octopus\", \"offense\", \"offense\", \"offense\", \"office\", \"office\", \"office\", \"office\", \"office\", \"office\", \"office\", \"office\", \"office\", \"official\", \"official\", \"official\", \"official\", \"ohm\", \"ohm\", \"ohmite\", \"oiler\", \"oiler\", \"oiler\", \"oiler\", \"okc\", \"old\", \"old\", \"old\", \"old\", \"old\", \"old\", \"old\", \"old\", \"old\", \"old\", \"old\", \"olson\", \"olympic\", \"omit\", \"ordinary\", \"orr\", \"oscillator\", \"oscillator\", \"oscillator\", \"ott\", \"ott\", \"ott\", \"outlet\", \"output\", \"output\", \"output\", \"overrate\", \"oversampling\", \"ozzie\", \"pace\", \"pace\", \"pacific\", \"package\", \"package\", \"packard\", \"padre\", \"pagnozzi\", \"paint\", \"panel\", \"paragraph\", \"parallel\", \"parallel\", \"parent\", \"party\", \"pass\", \"pass\", \"pass\", \"pass\", \"pass\", \"patent\", \"pavement\", \"pen\", \"pen\", \"pen\", \"pen\", \"penalty\", \"penalty\", \"penalty\", \"people\", \"people\", \"people\", \"people\", \"people\", \"people\", \"people\", \"people\", \"people\", \"people\", \"people\", \"people\", \"people\", \"people\", \"perez\", \"period\", \"period\", \"period\", \"period\", \"period\", \"period\", \"permit\", \"personality\", \"peterborough\", \"phi\", \"phi\", \"phi\", \"philadelphia\", \"philadelphia\", \"philadelphia\", \"philadelphia\", \"philadelphia\", \"philadelphia\", \"phillies\", \"phillies\", \"philly\", \"philly\", \"phils\", \"phonograph\", \"phosphor\", \"piazza\", \"pick\", \"pick\", \"pick\", \"pick\", \"pick\", \"pick\", \"pick\", \"pick\", \"pick\", \"pick\", \"pick\", \"pim\", \"pin\", \"pin\", \"pipe\", \"pirate\", \"pirate\", \"pirate\", \"piss\", \"pit\", \"pit\", \"pit\", \"pit\", \"pitch\", \"pitch\", \"pitcher\", \"pitcher\", \"pitcher\", \"pitt\", \"pitt\", \"pittsburg\", \"pittsburgh\", \"pittsburgh\", \"pittsburgh\", \"pittsburgh\", \"pittsburgh\", \"pittsburgh\", \"pittsburgh\", \"plant\", \"plantier\", \"plastic\", \"platoon\", \"play\", \"play\", \"play\", \"play\", \"play\", \"play\", \"play\", \"play\", \"play\", \"player\", \"player\", \"player\", \"player\", \"player\", \"player\", \"player\", \"playmaker\", \"playoff\", \"playoff\", \"playoff\", \"playoff\", \"playoff\", \"playoff\", \"playoff\", \"playoff\", \"playoff\", \"pleasant\", \"plugger\", \"pmp\", \"pod\", \"point\", \"point\", \"point\", \"point\", \"point\", \"point\", \"point\", \"point\", \"point\", \"point\", \"point\", \"point\", \"point\", \"pointer\", \"pointer\", \"polarity\", \"poll\", \"pool\", \"pool\", \"pool\", \"pool\", \"pool\", \"pool\", \"popular\", \"popular\", \"popular\", \"post\", \"post\", \"post\", \"post\", \"post\", \"post\", \"post\", \"post\", \"post\", \"post\", \"post\", \"post\", \"post\", \"post\", \"post\", \"post\", \"power\", \"power\", \"power\", \"power\", \"power\", \"power\", \"power\", \"power\", \"power\", \"power\", \"powerplay\", \"practical\", \"preamp\", \"preamp\", \"precisely\", \"precision\", \"precision\", \"president\", \"president\", \"president\", \"price\", \"price\", \"price\", \"price\", \"printer\", \"probert\", \"probert\", \"probert\", \"problem\", \"problem\", \"problem\", \"problem\", \"problem\", \"problem\", \"problem\", \"problem\", \"problem\", \"projection\", \"proper\", \"properly\", \"properly\", \"protect\", \"protect\", \"protect\", \"protect\", \"protection\", \"protection\", \"prove\", \"prove\", \"prove\", \"provide\", \"provide\", \"provide\", \"provide\", \"provide\", \"providence\", \"providence\", \"province\", \"province\", \"pspice\", \"pt\", \"pt\", \"pt\", \"puck\", \"puck\", \"puck\", \"puck\", \"pulse\", \"pump\", \"punch\", \"quakers\", \"que\", \"que\", \"que\", \"que\", \"quebec\", \"quebec\", \"quebec\", \"quebec\", \"quebec\", \"quest\", \"quick\", \"quick\", \"quick\", \"quick\", \"race\", \"racine\", \"radar\", \"ramsey\", \"ranger\", \"ranger\", \"ranger\", \"ranger\", \"ranger\", \"ranger\", \"ranger\", \"ranger\", \"ranger\", \"ranger\", \"ranger\", \"ratio\", \"ratio\", \"ratio\", \"rbi\", \"rbis\", \"reactor\", \"read\", \"read\", \"read\", \"read\", \"read\", \"read\", \"read\", \"read\", \"read\", \"read\", \"read\", \"read\", \"read\", \"read\", \"ready\", \"ready\", \"ready\", \"real\", \"real\", \"real\", \"real\", \"reasonably\", \"reasonably\", \"rebind\", \"recchi\", \"recchi\", \"recognize\", \"recommend\", \"record\", \"record\", \"record\", \"record\", \"record\", \"record\", \"record\", \"red\", \"red\", \"red\", \"red\", \"red\", \"red\", \"red\", \"red\", \"red\", \"refuse\", \"regardless\", \"regardless\", \"relay\", \"relay\", \"remember\", \"remember\", \"remember\", \"remember\", \"remember\", \"remember\", \"remember\", \"repair\", \"repair\", \"repeat\", \"repeat\", \"repeat\", \"repeater\", \"replay\", \"reporter\", \"republic\", \"republic\", \"require\", \"require\", \"require\", \"require\", \"require\", \"requirement\", \"research\", \"research\", \"result\", \"result\", \"result\", \"result\", \"result\", \"result\", \"result\", \"result\", \"result\", \"result\", \"result\", \"result\", \"result\", \"richmond\", \"richter\", \"rickey\", \"rickey\", \"rifle\", \"right\", \"right\", \"right\", \"right\", \"right\", \"right\", \"right\", \"right\", \"right\", \"right\", \"right\", \"right\", \"ring\", \"ring\", \"rink\", \"ripken\", \"rise\", \"rise\", \"risk\", \"river\", \"river\", \"robbie\", \"robitaille\", \"rochester\", \"rochester\", \"rockies\", \"rockies\", \"roger\", \"roger\", \"roger\", \"roger\", \"roger\", \"rogers\", \"romford\", \"rotation\", \"rough\", \"rough\", \"rough\", \"rough\", \"rough\", \"round\", \"round\", \"round\", \"round\", \"round\", \"round\", \"roussel\", \"roussel\", \"roussel\", \"route\", \"rpm\", \"rule\", \"rule\", \"rule\", \"rule\", \"rule\", \"rule\", \"rule\", \"rule\", \"rule\", \"run\", \"run\", \"run\", \"run\", \"run\", \"run\", \"run\", \"run\", \"run\", \"run\", \"run\", \"runner\", \"runner\", \"runner\", \"russia\", \"russia\", \"russians\", \"safe\", \"safe\", \"safe\", \"safety\", \"safety\", \"samuelsson\", \"samuelsson\", \"san\", \"san\", \"san\", \"san\", \"san\", \"sanderson\", \"sanderson\", \"sanderson\", \"sanderson\", \"sandstrom\", \"santiago\", \"sas\", \"save\", \"save\", \"save\", \"save\", \"save\", \"save\", \"save\", \"save\", \"save\", \"say\", \"say\", \"say\", \"say\", \"say\", \"say\", \"say\", \"say\", \"say\", \"say\", \"say\", \"say\", \"say\", \"schematic\", \"schuerholz\", \"science\", \"scope\", \"score\", \"score\", \"score\", \"score\", \"score\", \"score\", \"score\", \"score\", \"score\", \"score\", \"scorer\", \"scorer\", \"scorer\", \"scott\", \"scott\", \"scott\", \"scott\", \"screw\", \"screw\", \"screw\", \"screw\", \"screw\", \"sdcn\", \"sea\", \"seal\", \"seal\", \"season\", \"season\", \"season\", \"season\", \"season\", \"season\", \"season\", \"seattle\", \"seattle\", \"seattle\", \"seattle\", \"second\", \"second\", \"second\", \"see\", \"see\", \"see\", \"see\", \"see\", \"see\", \"see\", \"see\", \"selke\", \"semak\", \"senator\", \"senator\", \"senator\", \"senator\", \"send\", \"send\", \"send\", \"send\", \"send\", \"send\", \"send\", \"send\", \"send\", \"send\", \"sensor\", \"sensor\", \"separately\", \"sept\", \"sept\", \"september\", \"series\", \"series\", \"series\", \"series\", \"series\", \"series\", \"series\", \"series\", \"series\", \"series\", \"service\", \"service\", \"service\", \"service\", \"service\", \"service\", \"shack\", \"shall\", \"shanahan\", \"shareware\", \"shark\", \"shark\", \"shark\", \"shoot\", \"shoot\", \"shoot\", \"shoot\", \"shoot\", \"shop\", \"shop\", \"shop\", \"shop\", \"shore\", \"shot\", \"shot\", \"shot\", \"shot\", \"shot\", \"shot\", \"shuchuk\", \"shutouts\", \"sigh\", \"signal\", \"signal\", \"signal\", \"simulation\", \"site\", \"site\", \"site\", \"site\", \"site\", \"sittler\", \"situation\", \"situation\", \"situation\", \"situation\", \"situation\", \"situation\", \"slaught\", \"slg\", \"slg\", \"slide\", \"slight\", \"slot\", \"slot\", \"slot\", \"smythe\", \"smythe\", \"smythe\", \"smythe\", \"snail\", \"soda\", \"soderstrom\", \"soderstrom\", \"soft\", \"software\", \"software\", \"sony\", \"sort\", \"sort\", \"sort\", \"sort\", \"sort\", \"sort\", \"sort\", \"sort\", \"sosa\", \"sound\", \"sound\", \"sound\", \"sound\", \"sound\", \"sound\", \"sound\", \"sox\", \"sox\", \"space\", \"space\", \"space\", \"spare\", \"specific\", \"specific\", \"specifically\", \"speculation\", \"spice\", \"spin\", \"spirit\", \"spirit\", \"sponsor\", \"sport\", \"sport\", \"sport\", \"sport\", \"sport\", \"sport\", \"springfield\", \"ssd\", \"stadium\", \"stadium\", \"stadium\", \"stadium\", \"stadium\", \"staff\", \"staff\", \"staff\", \"staff\", \"stance\", \"stand\", \"stand\", \"stand\", \"stand\", \"stand\", \"stand\", \"standard\", \"standard\", \"standard\", \"standard\", \"stanley\", \"stanley\", \"stanley\", \"stanley\", \"stanley\", \"star\", \"star\", \"star\", \"star\", \"stark\", \"start\", \"start\", \"start\", \"start\", \"start\", \"start\", \"start\", \"start\", \"start\", \"starter\", \"starter\", \"state\", \"state\", \"state\", \"state\", \"state\", \"state\", \"state\", \"statement\", \"stats\", \"stats\", \"stats\", \"stats\", \"stats\", \"steal\", \"steal\", \"steam\", \"steam\", \"stefan\", \"steph\", \"stevens\", \"stevens\", \"stick\", \"stick\", \"stick\", \"stick\", \"stick\", \"stick\", \"stl\", \"stl\", \"stl\", \"stress\", \"string\", \"string\", \"strip\", \"style\", \"style\", \"style\", \"style\", \"sub\", \"sub\", \"sub\", \"subject\", \"subject\", \"subject\", \"subject\", \"subject\", \"subject\", \"subject\", \"subject\", \"suck\", \"suck\", \"suck\", \"suck\", \"sun\", \"sun\", \"sun\", \"sun\", \"sun\", \"supply\", \"supply\", \"supposedly\", \"supposedly\", \"suter\", \"swede\", \"sweden\", \"sweden\", \"sweden\", \"swindon\", \"swing\", \"swing\", \"swing\", \"switch\", \"switch\", \"switch\", \"switch\", \"switch\", \"switzerland\", \"switzerland\", \"sydor\", \"system\", \"system\", \"system\", \"system\", \"system\", \"system\", \"system\", \"tag\", \"take\", \"take\", \"take\", \"take\", \"take\", \"take\", \"talent\", \"talent\", \"talent\", \"talent\", \"talent\", \"talented\", \"talk\", \"talk\", \"talk\", \"talk\", \"talk\", \"talk\", \"talk\", \"talk\", \"talk\", \"tall\", \"tall\", \"team\", \"team\", \"team\", \"team\", \"team\", \"team\", \"team\", \"team\", \"team\", \"team\", \"telecast\", \"temperature\", \"temperature\", \"tender\", \"tesla\", \"texas\", \"texas\", \"texas\", \"thank\", \"thank\", \"thank\", \"thank\", \"thank\", \"thank\", \"thank\", \"thank\", \"thank\", \"thank\", \"theme\", \"thing\", \"thing\", \"thing\", \"thing\", \"thing\", \"thing\", \"thing\", \"thing\", \"thing\", \"thing\", \"thing\", \"thing\", \"think\", \"think\", \"think\", \"think\", \"think\", \"think\", \"think\", \"think\", \"think\", \"think\", \"think\", \"think\", \"think\", \"think\", \"think\", \"thompson\", \"thousand\", \"time\", \"time\", \"time\", \"time\", \"time\", \"time\", \"time\", \"time\", \"time\", \"time\", \"time\", \"time\", \"timer\", \"timer\", \"tocchet\", \"tocchet\", \"tommy\", \"tommy\", \"tommy\", \"tonight\", \"tonight\", \"tool\", \"tor\", \"tor\", \"tor\", \"toronto\", \"toronto\", \"toronto\", \"toronto\", \"toronto\", \"torrey\", \"tournament\", \"tower\", \"town\", \"town\", \"tps\", \"trade\", \"trade\", \"trade\", \"trade\", \"trade\", \"trade\", \"trade\", \"trade\", \"traffic\", \"traffic\", \"traffic\", \"trail\", \"transmitter\", \"trigger\", \"trip\", \"trip\", \"trip\", \"triumph\", \"trivium\", \"try\", \"try\", \"try\", \"try\", \"try\", \"try\", \"try\", \"try\", \"try\", \"try\", \"try\", \"ttl\", \"tube\", \"tul\", \"tulsa\", \"tune\", \"tune\", \"turbine\", \"turgeon\", \"turn\", \"turn\", \"turn\", \"turn\", \"turn\", \"turn\", \"turn\", \"turn\", \"turn\", \"type\", \"type\", \"type\", \"type\", \"type\", \"type\", \"typically\", \"typically\", \"uiuc\", \"ulf\", \"ulf\", \"umpire\", \"unassisted\", \"understand\", \"understand\", \"understand\", \"understand\", \"understand\", \"uni\", \"uniform\", \"uniform\", \"universal\", \"university\", \"university\", \"university\", \"university\", \"university\", \"university\", \"university\", \"university\", \"upenn\", \"uranium\", \"usa\", \"usa\", \"usa\", \"usa\", \"usa\", \"use\", \"use\", \"use\", \"use\", \"use\", \"use\", \"use\", \"use\", \"use\", \"use\", \"usually\", \"usually\", \"usually\", \"usually\", \"usually\", \"usually\", \"usually\", \"usually\", \"usually\", \"utica\", \"uucp\", \"uucp\", \"uunet\", \"uunet\", \"valentine\", \"valve\", \"van\", \"van\", \"van\", \"van\", \"vancouver\", \"vancouver\", \"vancouver\", \"vaughn\", \"vcc\", \"vdc\", \"vdc\", \"vehicle\", \"verbeek\", \"vernon\", \"vernon\", \"vertical\", \"viola\", \"visible\", \"vizcaino\", \"voltage\", \"voltage\", \"voltage\", \"vote\", \"vote\", \"vote\", \"wagner\", \"wagner\", \"waiver\", \"walsh\", \"walsh\", \"want\", \"want\", \"want\", \"want\", \"want\", \"want\", \"want\", \"want\", \"want\", \"want\", \"want\", \"want\", \"wash\", \"wash\", \"wasn\", \"wasn\", \"wasn\", \"wasn\", \"wasn\", \"wasp\", \"watch\", \"watch\", \"watch\", \"watch\", \"watch\", \"watch\", \"watch\", \"watch\", \"water\", \"water\", \"water\", \"waveform\", \"waveform\", \"wavelength\", \"way\", \"way\", \"way\", \"way\", \"way\", \"way\", \"way\", \"way\", \"way\", \"way\", \"way\", \"way\", \"way\", \"weak\", \"weak\", \"weapon\", \"wear\", \"wear\", \"wear\", \"week\", \"week\", \"week\", \"week\", \"week\", \"week\", \"week\", \"week\", \"week\", \"week\", \"week\", \"week\", \"week\", \"well\", \"well\", \"well\", \"well\", \"well\", \"well\", \"well\", \"well\", \"well\", \"well\", \"well\", \"well\", \"weren\", \"weren\", \"west\", \"west\", \"west\", \"west\", \"west\", \"wfan\", \"wgn\", \"whitley\", \"wilkins\", \"win\", \"win\", \"win\", \"win\", \"win\", \"win\", \"win\", \"win\", \"win\", \"win\", \"win\", \"win\", \"winfield\", \"wing\", \"wing\", \"wing\", \"wing\", \"wing\", \"wing\", \"wing\", \"winner\", \"winner\", \"winner\", \"winnipeg\", \"winnipeg\", \"winnipeg\", \"winnipeg\", \"wip\", \"wire\", \"wire\", \"wire\", \"wise\", \"wooden\", \"work\", \"work\", \"work\", \"work\", \"work\", \"work\", \"work\", \"work\", \"work\", \"wpg\", \"wrist\", \"write\", \"write\", \"write\", \"write\", \"write\", \"write\", \"write\", \"write\", \"wsh\", \"yank\", \"yankee\", \"yankees\", \"yankees\", \"yankees\", \"year\", \"year\", \"year\", \"year\", \"year\", \"year\", \"year\", \"year\", \"year\", \"year\", \"york\", \"york\", \"york\", \"york\", \"york\", \"yount\", \"yzerman\", \"yzerman\", \"zeile\", \"zelepukin\", \"zinc\", \"zone\", \"zone\", \"zone\", \"zubov\"]}, \"R\": 30, \"lambda.step\": 0.01, \"plot.opts\": {\"xlab\": \"PC1\", \"ylab\": \"PC2\"}, \"topic.order\": [5, 1, 7, 4, 12, 6, 16, 11, 2, 10, 15, 18, 19, 3, 17, 14, 20, 13, 9, 8]};\n",
       "\n",
       "function LDAvis_load_lib(url, callback){\n",
       "  var s = document.createElement('script');\n",
       "  s.src = url;\n",
       "  s.async = true;\n",
       "  s.onreadystatechange = s.onload = callback;\n",
       "  s.onerror = function(){console.warn(\"failed to load library \" + url);};\n",
       "  document.getElementsByTagName(\"head\")[0].appendChild(s);\n",
       "}\n",
       "\n",
       "if(typeof(LDAvis) !== \"undefined\"){\n",
       "   // already loaded: just create the visualization\n",
       "   !function(LDAvis){\n",
       "       new LDAvis(\"#\" + \"ldavis_el1324430825854898084794326162\", ldavis_el1324430825854898084794326162_data);\n",
       "   }(LDAvis);\n",
       "}else if(typeof define === \"function\" && define.amd){\n",
       "   // require.js is available: use it to load d3/LDAvis\n",
       "   require.config({paths: {d3: \"https://cdnjs.cloudflare.com/ajax/libs/d3/3.5.5/d3.min\"}});\n",
       "   require([\"d3\"], function(d3){\n",
       "      window.d3 = d3;\n",
       "      LDAvis_load_lib(\"https://cdn.rawgit.com/bmabey/pyLDAvis/files/ldavis.v1.0.0.js\", function(){\n",
       "        new LDAvis(\"#\" + \"ldavis_el1324430825854898084794326162\", ldavis_el1324430825854898084794326162_data);\n",
       "      });\n",
       "    });\n",
       "}else{\n",
       "    // require.js not available: dynamically load d3 & LDAvis\n",
       "    LDAvis_load_lib(\"https://cdnjs.cloudflare.com/ajax/libs/d3/3.5.5/d3.min.js\", function(){\n",
       "         LDAvis_load_lib(\"https://cdn.rawgit.com/bmabey/pyLDAvis/files/ldavis.v1.0.0.js\", function(){\n",
       "                 new LDAvis(\"#\" + \"ldavis_el1324430825854898084794326162\", ldavis_el1324430825854898084794326162_data);\n",
       "            })\n",
       "         });\n",
       "}\n",
       "</script>"
      ],
      "text/plain": [
       "<IPython.core.display.HTML object>"
      ]
     },
     "execution_count": 50,
     "metadata": {},
     "output_type": "execute_result"
    }
   ],
   "source": [
    "pyLDAvis.enable_notebook()\n",
    "vis = pyLDAvis.gensim.prepare(lda_multicore, corpus, id2word)\n",
    "pyLDAvis.display(vis)"
   ]
  },
  {
   "cell_type": "code",
   "execution_count": 51,
   "metadata": {
    "colab": {},
    "colab_type": "code",
    "id": "rjtXk8J3LaXC"
   },
   "outputs": [
    {
     "name": "stderr",
     "output_type": "stream",
     "text": [
      "C:\\Users\\whats\\anaconda3\\envs\\U4-S1-NLP\\lib\\site-packages\\ipykernel\\ipkernel.py:287: DeprecationWarning: `should_run_async` will not call `transform_cell` automatically in the future. Please pass the result to `transformed_cell` argument and any exception that happen during thetransform in `preprocessing_exc_tuple` in IPython 7.17 and above.\n",
      "  and should_run_async(code)\n"
     ]
    }
   ],
   "source": [
    "def compute_coherence_values(dictionary, corpus, texts, limit, start=2, step=3):\n",
    "    \"\"\"\n",
    "    Compute c_v coherence for various number of topics\n",
    "\n",
    "    Parameters:\n",
    "    ----------\n",
    "    dictionary : Gensim dictionary\n",
    "    corpus : Gensim corpus\n",
    "    texts : List of input texts\n",
    "    limit : Max num of topics\n",
    "\n",
    "    Returns:\n",
    "    -------\n",
    "    model_list : List of LDA topic models\n",
    "    coherence_values : Coherence values corresponding to the LDA model with respective number of topics\n",
    "    \"\"\"\n",
    "    coherence_values = []\n",
    "    model_list = []\n",
    "    for num_topics in range(start, limit, step):\n",
    "        model = gensim.models.ldamulticore.LdaMulticore(corpus=corpus,\n",
    "                                                        id2word=id2word,\n",
    "                                                        num_topics=num_topics, \n",
    "                                                        chunksize=100,\n",
    "                                                        passes=10,\n",
    "                                                        per_word_topics=True,\n",
    "                                                        workers=12)\n",
    "        model_list.append(model)\n",
    "        coherencemodel = CoherenceModel(model=model, texts=texts, dictionary=dictionary, coherence='c_v')\n",
    "        coherence_values.append(coherencemodel.get_coherence())\n",
    "\n",
    "    return model_list, coherence_values"
   ]
  },
  {
   "cell_type": "code",
   "execution_count": 52,
   "metadata": {
    "colab": {},
    "colab_type": "code",
    "id": "pRA9EjvQ3L0c"
   },
   "outputs": [
    {
     "name": "stderr",
     "output_type": "stream",
     "text": [
      "C:\\Users\\whats\\anaconda3\\envs\\U4-S1-NLP\\lib\\site-packages\\ipykernel\\ipkernel.py:287: DeprecationWarning: `should_run_async` will not call `transform_cell` automatically in the future. Please pass the result to `transformed_cell` argument and any exception that happen during thetransform in `preprocessing_exc_tuple` in IPython 7.17 and above.\n",
      "  and should_run_async(code)\n"
     ]
    }
   ],
   "source": [
    "# %%time\n",
    "# model_list, coherence_values = compute_coherence_values(dictionary=id2word, corpus=corpus, texts=df['lemmas'], start=2, limit=40, step=6)"
   ]
  },
  {
   "cell_type": "code",
   "execution_count": 53,
   "metadata": {
    "colab": {},
    "colab_type": "code",
    "id": "2e9X-Ql-3L0e"
   },
   "outputs": [
    {
     "name": "stderr",
     "output_type": "stream",
     "text": [
      "C:\\Users\\whats\\anaconda3\\envs\\U4-S1-NLP\\lib\\site-packages\\ipykernel\\ipkernel.py:287: DeprecationWarning: `should_run_async` will not call `transform_cell` automatically in the future. Please pass the result to `transformed_cell` argument and any exception that happen during thetransform in `preprocessing_exc_tuple` in IPython 7.17 and above.\n",
      "  and should_run_async(code)\n"
     ]
    }
   ],
   "source": [
    "coherence_values = [0.5054, 0.5332, 0.5452, 0.564, 0.5678, 0.5518, 0.519]"
   ]
  },
  {
   "cell_type": "code",
   "execution_count": 54,
   "metadata": {
    "colab": {},
    "colab_type": "code",
    "id": "ybEBYQNF3L0g"
   },
   "outputs": [
    {
     "name": "stderr",
     "output_type": "stream",
     "text": [
      "C:\\Users\\whats\\anaconda3\\envs\\U4-S1-NLP\\lib\\site-packages\\ipykernel\\ipkernel.py:287: DeprecationWarning: `should_run_async` will not call `transform_cell` automatically in the future. Please pass the result to `transformed_cell` argument and any exception that happen during thetransform in `preprocessing_exc_tuple` in IPython 7.17 and above.\n",
      "  and should_run_async(code)\n"
     ]
    },
    {
     "data": {
      "image/png": "[encoded data removed]",
      "text/plain": [
       "<Figure size 432x288 with 1 Axes>"
      ]
     },
     "metadata": {
      "needs_background": "light"
     },
     "output_type": "display_data"
    }
   ],
   "source": [
    "limit=40; start=2; step=6;\n",
    "x = range(start, limit, step)\n",
    "plt.plot(x, coherence_values)\n",
    "plt.xlabel(\"Num Topics\")\n",
    "plt.ylabel(\"Coherence score\")\n",
    "plt.legend((\"coherence_values\"), loc='best')\n",
    "plt.show()"
   ]
  },
  {
   "cell_type": "code",
   "execution_count": 55,
   "metadata": {
    "colab": {},
    "colab_type": "code",
    "id": "DmvQ2zKZ3L0i"
   },
   "outputs": [
    {
     "name": "stdout",
     "output_type": "stream",
     "text": [
      "Num Topics = 2  has Coherence Value of 0.5054\n",
      "Num Topics = 8  has Coherence Value of 0.5332\n",
      "Num Topics = 14  has Coherence Value of 0.5452\n",
      "Num Topics = 20  has Coherence Value of 0.564\n",
      "Num Topics = 26  has Coherence Value of 0.5678\n",
      "Num Topics = 32  has Coherence Value of 0.5518\n",
      "Num Topics = 38  has Coherence Value of 0.519\n"
     ]
    },
    {
     "name": "stderr",
     "output_type": "stream",
     "text": [
      "C:\\Users\\whats\\anaconda3\\envs\\U4-S1-NLP\\lib\\site-packages\\ipykernel\\ipkernel.py:287: DeprecationWarning: `should_run_async` will not call `transform_cell` automatically in the future. Please pass the result to `transformed_cell` argument and any exception that happen during thetransform in `preprocessing_exc_tuple` in IPython 7.17 and above.\n",
      "  and should_run_async(code)\n"
     ]
    }
   ],
   "source": [
    "# Print the coherence scores\n",
    "for m, cv in zip(x, coherence_values):\n",
    "    print(\"Num Topics =\", m, \" has Coherence Value of\", round(cv, 4))"
   ]
  },
  {
   "cell_type": "code",
   "execution_count": 56,
   "metadata": {
    "colab": {},
    "colab_type": "code",
    "id": "Yol5vG3R3L0k"
   },
   "outputs": [
    {
     "name": "stderr",
     "output_type": "stream",
     "text": [
      "C:\\Users\\whats\\anaconda3\\envs\\U4-S1-NLP\\lib\\site-packages\\ipykernel\\ipkernel.py:287: DeprecationWarning: `should_run_async` will not call `transform_cell` automatically in the future. Please pass the result to `transformed_cell` argument and any exception that happen during thetransform in `preprocessing_exc_tuple` in IPython 7.17 and above.\n",
      "  and should_run_async(code)\n"
     ]
    },
    {
     "ename": "FileNotFoundError",
     "evalue": "[Errno 2] No such file or directory: 'optimal_model.model'",
     "output_type": "error",
     "traceback": [
      "\u001b[1;31m---------------------------------------------------------------------------\u001b[0m",
      "\u001b[1;31mFileNotFoundError\u001b[0m                         Traceback (most recent call last)",
      "\u001b[1;32m<ipython-input-56-e50b3c3542d2>\u001b[0m in \u001b[0;36m<module>\u001b[1;34m\u001b[0m\n\u001b[0;32m      1\u001b[0m \u001b[1;31m# Select the model and print the topics\u001b[0m\u001b[1;33m\u001b[0m\u001b[1;33m\u001b[0m\u001b[1;33m\u001b[0m\u001b[0m\n\u001b[0;32m      2\u001b[0m \u001b[1;31m#optimal_model = model_list[4]\u001b[0m\u001b[1;33m\u001b[0m\u001b[1;33m\u001b[0m\u001b[1;33m\u001b[0m\u001b[0m\n\u001b[1;32m----> 3\u001b[1;33m \u001b[0moptimal_model\u001b[0m \u001b[1;33m=\u001b[0m  \u001b[0mmodels\u001b[0m\u001b[1;33m.\u001b[0m\u001b[0mLdaModel\u001b[0m\u001b[1;33m.\u001b[0m\u001b[0mload\u001b[0m\u001b[1;33m(\u001b[0m\u001b[1;34m'optimal_model.model'\u001b[0m\u001b[1;33m)\u001b[0m\u001b[1;33m\u001b[0m\u001b[1;33m\u001b[0m\u001b[0m\n\u001b[0m\u001b[0;32m      4\u001b[0m \u001b[0mmodel_topics\u001b[0m \u001b[1;33m=\u001b[0m \u001b[0moptimal_model\u001b[0m\u001b[1;33m.\u001b[0m\u001b[0mshow_topics\u001b[0m\u001b[1;33m(\u001b[0m\u001b[0mformatted\u001b[0m\u001b[1;33m=\u001b[0m\u001b[1;32mFalse\u001b[0m\u001b[1;33m)\u001b[0m\u001b[1;33m\u001b[0m\u001b[1;33m\u001b[0m\u001b[0m\n\u001b[0;32m      5\u001b[0m \u001b[0mpprint\u001b[0m\u001b[1;33m(\u001b[0m\u001b[0moptimal_model\u001b[0m\u001b[1;33m.\u001b[0m\u001b[0mprint_topics\u001b[0m\u001b[1;33m(\u001b[0m\u001b[0mnum_words\u001b[0m\u001b[1;33m=\u001b[0m\u001b[1;36m10\u001b[0m\u001b[1;33m)\u001b[0m\u001b[1;33m)\u001b[0m\u001b[1;33m\u001b[0m\u001b[1;33m\u001b[0m\u001b[0m\n",
      "\u001b[1;32m~\\anaconda3\\envs\\U4-S1-NLP\\lib\\site-packages\\gensim\\models\\ldamodel.py\u001b[0m in \u001b[0;36mload\u001b[1;34m(cls, fname, *args, **kwargs)\u001b[0m\n\u001b[0;32m   1636\u001b[0m         \"\"\"\n\u001b[0;32m   1637\u001b[0m         \u001b[0mkwargs\u001b[0m\u001b[1;33m[\u001b[0m\u001b[1;34m'mmap'\u001b[0m\u001b[1;33m]\u001b[0m \u001b[1;33m=\u001b[0m \u001b[0mkwargs\u001b[0m\u001b[1;33m.\u001b[0m\u001b[0mget\u001b[0m\u001b[1;33m(\u001b[0m\u001b[1;34m'mmap'\u001b[0m\u001b[1;33m,\u001b[0m \u001b[1;32mNone\u001b[0m\u001b[1;33m)\u001b[0m\u001b[1;33m\u001b[0m\u001b[1;33m\u001b[0m\u001b[0m\n\u001b[1;32m-> 1638\u001b[1;33m         \u001b[0mresult\u001b[0m \u001b[1;33m=\u001b[0m \u001b[0msuper\u001b[0m\u001b[1;33m(\u001b[0m\u001b[0mLdaModel\u001b[0m\u001b[1;33m,\u001b[0m \u001b[0mcls\u001b[0m\u001b[1;33m)\u001b[0m\u001b[1;33m.\u001b[0m\u001b[0mload\u001b[0m\u001b[1;33m(\u001b[0m\u001b[0mfname\u001b[0m\u001b[1;33m,\u001b[0m \u001b[1;33m*\u001b[0m\u001b[0margs\u001b[0m\u001b[1;33m,\u001b[0m \u001b[1;33m**\u001b[0m\u001b[0mkwargs\u001b[0m\u001b[1;33m)\u001b[0m\u001b[1;33m\u001b[0m\u001b[1;33m\u001b[0m\u001b[0m\n\u001b[0m\u001b[0;32m   1639\u001b[0m \u001b[1;33m\u001b[0m\u001b[0m\n\u001b[0;32m   1640\u001b[0m         \u001b[1;31m# check if `random_state` attribute has been set after main pickle load\u001b[0m\u001b[1;33m\u001b[0m\u001b[1;33m\u001b[0m\u001b[1;33m\u001b[0m\u001b[0m\n",
      "\u001b[1;32m~\\anaconda3\\envs\\U4-S1-NLP\\lib\\site-packages\\gensim\\utils.py\u001b[0m in \u001b[0;36mload\u001b[1;34m(cls, fname, mmap)\u001b[0m\n\u001b[0;32m    424\u001b[0m         \u001b[0mcompress\u001b[0m\u001b[1;33m,\u001b[0m \u001b[0msubname\u001b[0m \u001b[1;33m=\u001b[0m \u001b[0mSaveLoad\u001b[0m\u001b[1;33m.\u001b[0m\u001b[0m_adapt_by_suffix\u001b[0m\u001b[1;33m(\u001b[0m\u001b[0mfname\u001b[0m\u001b[1;33m)\u001b[0m\u001b[1;33m\u001b[0m\u001b[1;33m\u001b[0m\u001b[0m\n\u001b[0;32m    425\u001b[0m \u001b[1;33m\u001b[0m\u001b[0m\n\u001b[1;32m--> 426\u001b[1;33m         \u001b[0mobj\u001b[0m \u001b[1;33m=\u001b[0m \u001b[0munpickle\u001b[0m\u001b[1;33m(\u001b[0m\u001b[0mfname\u001b[0m\u001b[1;33m)\u001b[0m\u001b[1;33m\u001b[0m\u001b[1;33m\u001b[0m\u001b[0m\n\u001b[0m\u001b[0;32m    427\u001b[0m         \u001b[0mobj\u001b[0m\u001b[1;33m.\u001b[0m\u001b[0m_load_specials\u001b[0m\u001b[1;33m(\u001b[0m\u001b[0mfname\u001b[0m\u001b[1;33m,\u001b[0m \u001b[0mmmap\u001b[0m\u001b[1;33m,\u001b[0m \u001b[0mcompress\u001b[0m\u001b[1;33m,\u001b[0m \u001b[0msubname\u001b[0m\u001b[1;33m)\u001b[0m\u001b[1;33m\u001b[0m\u001b[1;33m\u001b[0m\u001b[0m\n\u001b[0;32m    428\u001b[0m         \u001b[0mlogger\u001b[0m\u001b[1;33m.\u001b[0m\u001b[0minfo\u001b[0m\u001b[1;33m(\u001b[0m\u001b[1;34m\"loaded %s\"\u001b[0m\u001b[1;33m,\u001b[0m \u001b[0mfname\u001b[0m\u001b[1;33m)\u001b[0m\u001b[1;33m\u001b[0m\u001b[1;33m\u001b[0m\u001b[0m\n",
      "\u001b[1;32m~\\anaconda3\\envs\\U4-S1-NLP\\lib\\site-packages\\gensim\\utils.py\u001b[0m in \u001b[0;36munpickle\u001b[1;34m(fname)\u001b[0m\n\u001b[0;32m   1379\u001b[0m \u001b[1;33m\u001b[0m\u001b[0m\n\u001b[0;32m   1380\u001b[0m     \"\"\"\n\u001b[1;32m-> 1381\u001b[1;33m     \u001b[1;32mwith\u001b[0m \u001b[0mopen\u001b[0m\u001b[1;33m(\u001b[0m\u001b[0mfname\u001b[0m\u001b[1;33m,\u001b[0m \u001b[1;34m'rb'\u001b[0m\u001b[1;33m)\u001b[0m \u001b[1;32mas\u001b[0m \u001b[0mf\u001b[0m\u001b[1;33m:\u001b[0m\u001b[1;33m\u001b[0m\u001b[1;33m\u001b[0m\u001b[0m\n\u001b[0m\u001b[0;32m   1382\u001b[0m         \u001b[1;31m# Because of loading from S3 load can't be used (missing readline in smart_open)\u001b[0m\u001b[1;33m\u001b[0m\u001b[1;33m\u001b[0m\u001b[1;33m\u001b[0m\u001b[0m\n\u001b[0;32m   1383\u001b[0m         \u001b[1;32mif\u001b[0m \u001b[0msys\u001b[0m\u001b[1;33m.\u001b[0m\u001b[0mversion_info\u001b[0m \u001b[1;33m>\u001b[0m \u001b[1;33m(\u001b[0m\u001b[1;36m3\u001b[0m\u001b[1;33m,\u001b[0m \u001b[1;36m0\u001b[0m\u001b[1;33m)\u001b[0m\u001b[1;33m:\u001b[0m\u001b[1;33m\u001b[0m\u001b[1;33m\u001b[0m\u001b[0m\n",
      "\u001b[1;32m~\\anaconda3\\envs\\U4-S1-NLP\\lib\\site-packages\\smart_open\\smart_open_lib.py\u001b[0m in \u001b[0;36mopen\u001b[1;34m(uri, mode, buffering, encoding, errors, newline, closefd, opener, ignore_ext, transport_params)\u001b[0m\n\u001b[0;32m    178\u001b[0m         \u001b[0mtransport_params\u001b[0m \u001b[1;33m=\u001b[0m \u001b[1;33m{\u001b[0m\u001b[1;33m}\u001b[0m\u001b[1;33m\u001b[0m\u001b[1;33m\u001b[0m\u001b[0m\n\u001b[0;32m    179\u001b[0m \u001b[1;33m\u001b[0m\u001b[0m\n\u001b[1;32m--> 180\u001b[1;33m     fobj = _shortcut_open(\n\u001b[0m\u001b[0;32m    181\u001b[0m         \u001b[0muri\u001b[0m\u001b[1;33m,\u001b[0m\u001b[1;33m\u001b[0m\u001b[1;33m\u001b[0m\u001b[0m\n\u001b[0;32m    182\u001b[0m         \u001b[0mmode\u001b[0m\u001b[1;33m,\u001b[0m\u001b[1;33m\u001b[0m\u001b[1;33m\u001b[0m\u001b[0m\n",
      "\u001b[1;32m~\\anaconda3\\envs\\U4-S1-NLP\\lib\\site-packages\\smart_open\\smart_open_lib.py\u001b[0m in \u001b[0;36m_shortcut_open\u001b[1;34m(uri, mode, ignore_ext, buffering, encoding, errors, newline)\u001b[0m\n\u001b[0;32m    285\u001b[0m         \u001b[0mopen_kwargs\u001b[0m\u001b[1;33m[\u001b[0m\u001b[1;34m'errors'\u001b[0m\u001b[1;33m]\u001b[0m \u001b[1;33m=\u001b[0m \u001b[0merrors\u001b[0m\u001b[1;33m\u001b[0m\u001b[1;33m\u001b[0m\u001b[0m\n\u001b[0;32m    286\u001b[0m \u001b[1;33m\u001b[0m\u001b[0m\n\u001b[1;32m--> 287\u001b[1;33m     \u001b[1;32mreturn\u001b[0m \u001b[0m_builtin_open\u001b[0m\u001b[1;33m(\u001b[0m\u001b[0mlocal_path\u001b[0m\u001b[1;33m,\u001b[0m \u001b[0mmode\u001b[0m\u001b[1;33m,\u001b[0m \u001b[0mbuffering\u001b[0m\u001b[1;33m=\u001b[0m\u001b[0mbuffering\u001b[0m\u001b[1;33m,\u001b[0m \u001b[1;33m**\u001b[0m\u001b[0mopen_kwargs\u001b[0m\u001b[1;33m)\u001b[0m\u001b[1;33m\u001b[0m\u001b[1;33m\u001b[0m\u001b[0m\n\u001b[0m\u001b[0;32m    288\u001b[0m \u001b[1;33m\u001b[0m\u001b[0m\n\u001b[0;32m    289\u001b[0m \u001b[1;33m\u001b[0m\u001b[0m\n",
      "\u001b[1;31mFileNotFoundError\u001b[0m: [Errno 2] No such file or directory: 'optimal_model.model'"
     ]
    }
   ],
   "source": [
    "# Select the model and print the topics\n",
    "#optimal_model = model_list[4]\n",
    "optimal_model =  models.LdaModel.load('optimal_model.model')\n",
    "model_topics = optimal_model.show_topics(formatted=False)\n",
    "pprint(optimal_model.print_topics(num_words=10))"
   ]
  },
  {
   "cell_type": "code",
   "execution_count": null,
   "metadata": {
    "colab": {},
    "colab_type": "code",
    "id": "8HwVEUDI3L0m"
   },
   "outputs": [],
   "source": []
  }
 ],
 "metadata": {
  "colab": {
   "collapsed_sections": [],
   "name": "DSPT6_LS_DS_414_Topic_Modeling.ipynb",
   "provenance": []
  },
  "kernelspec": {
   "display_name": "U4-S1-NLP",
   "language": "python",
   "name": "u4-s1-nlp"
  },
  "language_info": {
   "codemirror_mode": {
    "name": "ipython",
    "version": 3
   },
   "file_extension": ".py",
   "mimetype": "text/x-python",
   "name": "python",
   "nbconvert_exporter": "python",
   "pygments_lexer": "ipython3",
   "version": "3.8.0"
  }
 },
 "nbformat": 4,
 "nbformat_minor": 1
}
